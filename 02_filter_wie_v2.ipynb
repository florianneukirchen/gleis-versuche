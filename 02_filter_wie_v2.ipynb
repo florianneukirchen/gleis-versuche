{
 "cells": [
  {
   "cell_type": "markdown",
   "metadata": {},
   "source": [
    "Diese Version ist durchschnittlich 16 % schneller"
   ]
  },
  {
   "cell_type": "code",
   "execution_count": 1,
   "metadata": {},
   "outputs": [
    {
     "name": "stdout",
     "output_type": "stream",
     "text": [
      "Jupyter environment detected. Enabling Open3D WebVisualizer.\n",
      "[Open3D INFO] WebRTC GUI backend enabled.\n",
      "[Open3D INFO] WebRTCWindowSystem: HTTP handshake server disabled.\n"
     ]
    }
   ],
   "source": [
    "import pdal \n",
    "import numpy as np\n",
    "import matplotlib.pyplot as plt\n",
    "import open3d as o3d\n",
    "import os\n",
    "import json\n",
    "import time\n",
    "\n",
    "from interessant import * # Bei Änderungen Kernel neu starten"
   ]
  },
  {
   "cell_type": "code",
   "execution_count": 2,
   "metadata": {},
   "outputs": [
    {
     "name": "stdout",
     "output_type": "stream",
     "text": [
      "Einfach 4473900_5335875.copc.laz\n"
     ]
    }
   ],
   "source": [
    "run = run24\n",
    "#run = run14\n",
    "# filename = interessant['OLA gleiche Höhe wie Gleis']\n",
    "\n",
    "# Bahnsteig: 29; Gleis hohe Intensität: 11; Weiche B: 16; Unterirdischer Bhf: 20; Gleis weit abseits: 23; Betondeckel: 28; Zug run 14 A (in run24 Achszähler): 6; \n",
    "# Viele Gleise: 33; Anfang Weiche: 34, OLA gleiche H: 35; Y: 37\n",
    "key = list(interessant.keys())[0] \n",
    "filename = interessant[key]\n",
    "print(key, filename)\n",
    "\n",
    "filename = os.path.join(run, filename)\n",
    "if not os.path.exists(filename):\n",
    "    raise FileNotFoundError(filename)"
   ]
  },
  {
   "cell_type": "code",
   "execution_count": 3,
   "metadata": {},
   "outputs": [
    {
     "name": "stdout",
     "output_type": "stream",
     "text": [
      "Voxel size: 0.8333333333333334\n"
     ]
    }
   ],
   "source": [
    "thresh = 8  # z.B. 5 oder 8\n",
    "majority_tresh  = 0.5 # Erster Durchgang 0.3, bei \"Gleis hohe Intensität\" gibt 0.5 ein viel besseres Ergebnis\n",
    "ground_percentile = 10 # 10 in Oude E.\n",
    "top_percentile = 99.5 # 90 in Oude E.\n",
    "\n",
    "voxel_size = 1.0\n",
    "\n",
    "voxel_size = 25 / 30\n",
    "print(\"Voxel size:\", voxel_size)\n",
    "\n",
    "minimum_points = 50 # Erste Versuche mit 100, aber viel schwarz bei abseits liegenden Gleisen. 50 ist besser.\n",
    "\n",
    "with_normals = False"
   ]
  },
  {
   "cell_type": "code",
   "execution_count": 4,
   "metadata": {},
   "outputs": [],
   "source": [
    "import subprocess\n",
    "# subprocess.Popen([\"pyvistaviewer\", filename])"
   ]
  },
  {
   "cell_type": "code",
   "execution_count": 5,
   "metadata": {},
   "outputs": [
    {
     "data": {
      "text/plain": [
       "dtype([('X', '<f8'), ('Y', '<f8'), ('Z', '<f8'), ('Intensity', '<u2'), ('ReturnNumber', 'u1'), ('NumberOfReturns', 'u1'), ('ScanDirectionFlag', 'u1'), ('EdgeOfFlightLine', 'u1'), ('Classification', 'u1'), ('Synthetic', 'u1'), ('KeyPoint', 'u1'), ('Withheld', 'u1'), ('Overlap', 'u1'), ('ScanAngleRank', '<f4'), ('UserData', 'u1'), ('PointSourceId', '<u2'), ('GpsTime', '<f8'), ('ScanChannel', 'u1'), ('Red', '<u2'), ('Green', '<u2'), ('Blue', '<u2')])"
      ]
     },
     "execution_count": 5,
     "metadata": {},
     "output_type": "execute_result"
    }
   ],
   "source": [
    "pipeline = pdal.Pipeline([pdal.Reader(filename)])\n",
    "pipeline.execute()\n",
    "points = pipeline.arrays[0]\n",
    "points.dtype # Column names and types"
   ]
  },
  {
   "cell_type": "code",
   "execution_count": 6,
   "metadata": {},
   "outputs": [],
   "source": [
    "points['Classification'] = 0"
   ]
  },
  {
   "cell_type": "code",
   "execution_count": 7,
   "metadata": {},
   "outputs": [
    {
     "data": {
      "text/plain": [
       "(1803127,)"
      ]
     },
     "execution_count": 7,
     "metadata": {},
     "output_type": "execute_result"
    }
   ],
   "source": [
    "points.shape "
   ]
  },
  {
   "cell_type": "code",
   "execution_count": 8,
   "metadata": {},
   "outputs": [],
   "source": [
    "xyz = np.vstack((points['X'], points['Y'], points['Z'])).transpose()\n",
    "rgb = np.vstack((points['Red'], points['Green'], points['Blue'])).transpose() / 65535.0\n",
    "\n",
    "intensity = points['Intensity']\n",
    "intensity_normalized = (intensity - intensity.min()) / (intensity.max() - intensity.min())\n",
    "colormap = plt.get_cmap(\"viridis\")\n",
    "intensity_colors = colormap(intensity_normalized)\n",
    "intensity_colors = intensity_colors[:, :3]\n",
    "\n",
    "# Offset entfernen (aber gerundet, damit Kachelgrenzen ganze Zahlen bleiben)\n",
    "offset = xyz.mean(axis=0).round() \n",
    "xyz -= offset"
   ]
  },
  {
   "cell_type": "code",
   "execution_count": 9,
   "metadata": {},
   "outputs": [
    {
     "data": {
      "text/plain": [
       "(array([11.99997543, 11.99998693, 13.12408   ]),\n",
       " array([-13.00002457, -13.00001307,  -3.99652   ]))"
      ]
     },
     "execution_count": 9,
     "metadata": {},
     "output_type": "execute_result"
    }
   ],
   "source": [
    "maxp = xyz.max(axis=0)\n",
    "minp = xyz.min(axis=0)\n",
    "maxp, minp"
   ]
  },
  {
   "cell_type": "code",
   "execution_count": 10,
   "metadata": {},
   "outputs": [],
   "source": [
    "RAIL = 20"
   ]
  },
  {
   "cell_type": "code",
   "execution_count": 11,
   "metadata": {},
   "outputs": [],
   "source": [
    "voxels = ((xyz[:, :2] - minp[:2]) // voxel_size).astype(int)"
   ]
  },
  {
   "cell_type": "code",
   "execution_count": 12,
   "metadata": {},
   "outputs": [],
   "source": [
    "class GeometryConstraints:\n",
    "\n",
    "\n",
    "    def __init__(self, voxel_size, voxel_minimum_points, empty_space_thresh, ground_percentile, top_percentile, majority_thresh):\n",
    "        self.voxel_size = voxel_size\n",
    "        self.voxel_minimum_points = voxel_minimum_points\n",
    "        self.empty_space_thresh = empty_space_thresh\n",
    "        self.ground_percentile = ground_percentile\n",
    "        self.top_percentile = top_percentile\n",
    "        self.majority_thresh = majority_thresh\n",
    "\n",
    "        self.foo = 0.3\n",
    "\n",
    "    def check(self, z_values):  \n",
    "        # Threshold on number of points in voxel\n",
    "        if len(z_values) < self.voxel_minimum_points:\n",
    "            return None\n",
    "\n",
    "        ground_level = np.percentile(z_values, self.ground_percentile) \n",
    "        # 10% Percentile\n",
    "        # Check that there are almost no points 0.5 to 4.5 m above the ground\n",
    "        # But allow for some noise\n",
    "\n",
    "        count = ((z_values > ground_level + self.foo) & (z_values < ground_level + 4.5)).sum()\n",
    "\n",
    "        if count <= self.empty_space_thresh:\n",
    "            # Look for points within 0.5 m above ground and get \n",
    "            # 98 percentile (Oude E.) or better 99.5 percentile\n",
    "            mask = (z_values > ground_level) & (z_values < ground_level + self.foo)\n",
    "            try:\n",
    "                candidates_top = np.percentile(z_values[mask], self.top_percentile)\n",
    "            except IndexError:\n",
    "                # Fails if there are no points in the masked array\n",
    "                return None\n",
    "\n",
    "            # Oude Elberink require the height difference > 0.1 m\n",
    "            # And mark only the points 10 cm below the top as rail point candidates\n",
    "            if candidates_top - ground_level > 0.1:\n",
    "                mask = (z_values > candidates_top - 0.1) & (z_values < candidates_top + 0.05)\n",
    "\n",
    "                # Also make sure these are only a minority of the points (otherwise it's a slope)\n",
    "                if mask.sum() < self.majority_thresh * len(z_values):  # z.B. 0.3\n",
    "                    return mask\n",
    "        return None"
   ]
  },
  {
   "cell_type": "code",
   "execution_count": 13,
   "metadata": {},
   "outputs": [],
   "source": [
    "constraints = GeometryConstraints(voxel_size, minimum_points, thresh, ground_percentile, top_percentile, majority_tresh)"
   ]
  },
  {
   "cell_type": "code",
   "execution_count": 14,
   "metadata": {},
   "outputs": [],
   "source": [
    "v_max = voxels.max(axis=0)"
   ]
  },
  {
   "cell_type": "code",
   "execution_count": 15,
   "metadata": {},
   "outputs": [],
   "source": [
    "z = xyz[:, 2]"
   ]
  },
  {
   "cell_type": "markdown",
   "metadata": {},
   "source": [
    "Bei \"Einfach\" 3 s"
   ]
  },
  {
   "cell_type": "code",
   "execution_count": 16,
   "metadata": {},
   "outputs": [
    {
     "name": "stdout",
     "output_type": "stream",
     "text": [
      "Time: 4.256779670715332\n"
     ]
    }
   ],
   "source": [
    "start = time.time()\n",
    "\n",
    "for i in range (v_max[0] + 1):\n",
    "    for j in range(v_max[1] + 1):\n",
    "        mask = (voxels[:,0] == i) & (voxels[:,1] == j)\n",
    "        z_values = z[mask]\n",
    "        mask2 = constraints.check(z_values)\n",
    "        if mask2 is not None:\n",
    "            indices = np.where(mask)[0]\n",
    "            points['Classification'][indices[mask2]] = RAIL\n",
    "\n",
    "print(\"Time:\", time.time() - start)"
   ]
  },
  {
   "cell_type": "code",
   "execution_count": 17,
   "metadata": {},
   "outputs": [],
   "source": [
    "candidates = points[points[\"Classification\"] == RAIL]"
   ]
  },
  {
   "cell_type": "markdown",
   "metadata": {},
   "source": []
  },
  {
   "cell_type": "code",
   "execution_count": 18,
   "metadata": {},
   "outputs": [
    {
     "data": {
      "text/plain": [
       "87092"
      ]
     },
     "execution_count": 18,
     "metadata": {},
     "output_type": "execute_result"
    }
   ],
   "source": [
    "len(candidates)"
   ]
  },
  {
   "cell_type": "code",
   "execution_count": null,
   "metadata": {},
   "outputs": [],
   "source": []
  },
  {
   "cell_type": "code",
   "execution_count": 19,
   "metadata": {},
   "outputs": [],
   "source": [
    "# Viewsettings mit strg + c kopieren und hier einfügen\n",
    "\n",
    "viewsettings = '''\n",
    "{\n",
    "\t\"class_name\" : \"ViewTrajectory\",\n",
    "\t\"interval\" : 29,\n",
    "\t\"is_loop\" : false,\n",
    "\t\"trajectory\" : \n",
    "\t[\n",
    "\t\t{\n",
    "\t\t\t\"boundingbox_max\" : [ 11.999975427985191, 11.99998692702502, 13.124079998226534 ],\n",
    "\t\t\t\"boundingbox_min\" : [ -13.000024572014809, -13.00001307297498, -3.9965200017734333 ],\n",
    "\t\t\t\"field_of_view\" : 60.0,\n",
    "\t\t\t\"front\" : [ -0.20468464372193082, -0.82045900926496551, 0.53380821531742795 ],\n",
    "\t\t\t\"lookat\" : [ -2.1145501200370735, -2.6052610037108783, 1.4494799802055294 ],\n",
    "\t\t\t\"up\" : [ 0.19010212482081987, 0.50164960558000959, 0.84392467398461002 ],\n",
    "\t\t\t\"zoom\" : 0.55999999999999983\n",
    "\t\t}\n",
    "\t],\n",
    "\t\"version_major\" : 1,\n",
    "\t\"version_minor\" : 0\n",
    "}\n",
    "\n",
    "'''\n",
    "\n",
    "viewsettings = json.loads(viewsettings)\n",
    "\n",
    "front = viewsettings[\"trajectory\"][0][\"front\"]\n",
    "lookat = viewsettings[\"trajectory\"][0][\"lookat\"]\n",
    "up = viewsettings[\"trajectory\"][0][\"up\"]\n",
    "zoom = viewsettings[\"trajectory\"][0][\"zoom\"]"
   ]
  },
  {
   "cell_type": "code",
   "execution_count": 20,
   "metadata": {},
   "outputs": [],
   "source": [
    "xyz2 = np.vstack((candidates['X'], candidates['Y'], candidates['Z'])).transpose()\n",
    "xyz2 -= offset\n",
    "pcd = o3d.geometry.PointCloud()\n",
    "pcd.points = o3d.utility.Vector3dVector(xyz2)\n",
    "o3d.visualization.draw_geometries([pcd], front=front, lookat=lookat, up=up, zoom=zoom)"
   ]
  },
  {
   "cell_type": "code",
   "execution_count": null,
   "metadata": {},
   "outputs": [],
   "source": []
  }
 ],
 "metadata": {
  "kernelspec": {
   "display_name": "points",
   "language": "python",
   "name": "points"
  },
  "language_info": {
   "codemirror_mode": {
    "name": "ipython",
    "version": 3
   },
   "file_extension": ".py",
   "mimetype": "text/x-python",
   "name": "python",
   "nbconvert_exporter": "python",
   "pygments_lexer": "ipython3",
   "version": "3.9.21"
  }
 },
 "nbformat": 4,
 "nbformat_minor": 2
}
