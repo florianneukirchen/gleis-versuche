{
 "cells": [
  {
   "cell_type": "code",
   "execution_count": 1,
   "id": "5b12a03b",
   "metadata": {},
   "outputs": [],
   "source": [
    "import pandas as pd \n",
    "import os \n",
    "import numpy as np\n",
    "import matplotlib.pyplot as plt\n",
    "import seaborn as sns\n",
    "import geopandas as gpd"
   ]
  },
  {
   "cell_type": "code",
   "execution_count": 2,
   "id": "8a87f8e8",
   "metadata": {},
   "outputs": [
    {
     "data": {
      "text/html": [
       "<div>\n",
       "<style scoped>\n",
       "    .dataframe tbody tr th:only-of-type {\n",
       "        vertical-align: middle;\n",
       "    }\n",
       "\n",
       "    .dataframe tbody tr th {\n",
       "        vertical-align: top;\n",
       "    }\n",
       "\n",
       "    .dataframe thead th {\n",
       "        text-align: right;\n",
       "    }\n",
       "</style>\n",
       "<table border=\"1\" class=\"dataframe\">\n",
       "  <thead>\n",
       "    <tr style=\"text-align: right;\">\n",
       "      <th></th>\n",
       "      <th>what</th>\n",
       "      <th>file</th>\n",
       "      <th>time</th>\n",
       "      <th>points</th>\n",
       "    </tr>\n",
       "  </thead>\n",
       "  <tbody>\n",
       "    <tr>\n",
       "      <th>0</th>\n",
       "      <td>Lesen</td>\n",
       "      <td>4475525_5341275.copc.laz</td>\n",
       "      <td>0.556898</td>\n",
       "      <td>1298026</td>\n",
       "    </tr>\n",
       "    <tr>\n",
       "      <th>1</th>\n",
       "      <td>Voxelfilter</td>\n",
       "      <td>4475525_5341275.copc.laz</td>\n",
       "      <td>2.836546</td>\n",
       "      <td>145607</td>\n",
       "    </tr>\n",
       "    <tr>\n",
       "      <th>2</th>\n",
       "      <td>Lesen</td>\n",
       "      <td>4475625_5341350.copc.laz</td>\n",
       "      <td>0.152364</td>\n",
       "      <td>268017</td>\n",
       "    </tr>\n",
       "    <tr>\n",
       "      <th>3</th>\n",
       "      <td>Voxelfilter</td>\n",
       "      <td>4475625_5341350.copc.laz</td>\n",
       "      <td>0.687531</td>\n",
       "      <td>28071</td>\n",
       "    </tr>\n",
       "    <tr>\n",
       "      <th>4</th>\n",
       "      <td>Lesen</td>\n",
       "      <td>4478600_5350025.copc.laz</td>\n",
       "      <td>0.123070</td>\n",
       "      <td>192602</td>\n",
       "    </tr>\n",
       "  </tbody>\n",
       "</table>\n",
       "</div>"
      ],
      "text/plain": [
       "          what                      file      time   points\n",
       "0        Lesen  4475525_5341275.copc.laz  0.556898  1298026\n",
       "1  Voxelfilter  4475525_5341275.copc.laz  2.836546   145607\n",
       "2        Lesen  4475625_5341350.copc.laz  0.152364   268017\n",
       "3  Voxelfilter  4475625_5341350.copc.laz  0.687531    28071\n",
       "4        Lesen  4478600_5350025.copc.laz  0.123070   192602"
      ]
     },
     "execution_count": 2,
     "metadata": {},
     "output_type": "execute_result"
    }
   ],
   "source": [
    "folder = \"/media/riannek/minimax/gleis/speed_run24-sklearn\"\n",
    "df = pd.read_csv(os.path.join(folder, 'speedlog.csv'))\n",
    "df['file'] = df['file'].fillna(\"\")\n",
    "df['file'] = df['file'].apply(lambda x: os.path.basename(x))\n",
    "df['what'] = df['what'].replace({'voxelfilter': 'Voxelfilter', 'Growing lines': 'Linienbildung', 'Central points': 'Gleiserkennung', 'read': 'Lesen'})\n",
    "df.head()\n"
   ]
  },
  {
   "cell_type": "markdown",
   "id": "c0a384df",
   "metadata": {},
   "source": [
    "Gesamtzeit"
   ]
  },
  {
   "cell_type": "code",
   "execution_count": 24,
   "id": "637d760e",
   "metadata": {},
   "outputs": [
    {
     "data": {
      "text/plain": [
       "(np.float64(3.0), np.float64(59.8637828071912))"
      ]
     },
     "execution_count": 24,
     "metadata": {},
     "output_type": "execute_result"
    }
   ],
   "source": [
    "minutes_total = df['time'].sum() / 60 \n",
    "minutes_total // 60, minutes_total % 60"
   ]
  },
  {
   "cell_type": "markdown",
   "id": "a44b4da5",
   "metadata": {},
   "source": [
    "Voxelfilter ist hier ohne read:"
   ]
  },
  {
   "cell_type": "code",
   "execution_count": 3,
   "id": "c698ffdd",
   "metadata": {},
   "outputs": [
    {
     "data": {
      "text/plain": [
       "what\n",
       "Gleiserkennung        102.852944\n",
       "Lesen                  27.421578\n",
       "Linienbildung          13.775672\n",
       "Points with margin      0.000000\n",
       "Seed points             0.000000\n",
       "Voxelfilter            95.813588\n",
       "Name: time, dtype: float64"
      ]
     },
     "execution_count": 3,
     "metadata": {},
     "output_type": "execute_result"
    }
   ],
   "source": [
    "grouped = df.groupby('what')['time'].sum()  / 60\n",
    "grouped  "
   ]
  },
  {
   "cell_type": "code",
   "execution_count": 1,
   "id": "a92deb60",
   "metadata": {},
   "outputs": [
    {
     "data": {
      "text/plain": [
       "4.166666666666667"
      ]
     },
     "execution_count": 1,
     "metadata": {},
     "output_type": "execute_result"
    }
   ],
   "source": [
    "1000/240"
   ]
  },
  {
   "cell_type": "code",
   "execution_count": 4,
   "id": "9d40b7fa",
   "metadata": {},
   "outputs": [],
   "source": [
    "grouped['Voxelfilter'] = grouped['Voxelfilter'] + grouped['Lesen'] \n",
    "read = grouped['Lesen']\n",
    "grouped = grouped.drop('Lesen')\n",
    "grouped = grouped[grouped > 0]"
   ]
  },
  {
   "cell_type": "code",
   "execution_count": 5,
   "id": "54ba1c57",
   "metadata": {},
   "outputs": [
    {
     "data": {
      "text/plain": [
       "what\n",
       "Gleiserkennung    102.852944\n",
       "Linienbildung      13.775672\n",
       "Voxelfilter       123.235166\n",
       "Name: time, dtype: float64"
      ]
     },
     "execution_count": 5,
     "metadata": {},
     "output_type": "execute_result"
    }
   ],
   "source": [
    "grouped  "
   ]
  },
  {
   "cell_type": "code",
   "execution_count": 6,
   "id": "363f7ce3",
   "metadata": {},
   "outputs": [
    {
     "data": {
      "text/plain": [
       "what\n",
       "Gleiserkennung    42.879731\n",
       "Linienbildung      5.743123\n",
       "Voxelfilter       51.377146\n",
       "Name: time, dtype: float64"
      ]
     },
     "execution_count": 6,
     "metadata": {},
     "output_type": "execute_result"
    }
   ],
   "source": [
    "grouped * 100 / grouped.sum()"
   ]
  },
  {
   "cell_type": "code",
   "execution_count": 7,
   "id": "726f5f99",
   "metadata": {},
   "outputs": [
    {
     "data": {
      "text/plain": [
       "np.float64(11.432146054392039)"
      ]
     },
     "execution_count": 7,
     "metadata": {},
     "output_type": "execute_result"
    }
   ],
   "source": [
    "read * 100 / grouped.sum()"
   ]
  },
  {
   "cell_type": "code",
   "execution_count": 8,
   "id": "49ee2249",
   "metadata": {},
   "outputs": [
    {
     "data": {
      "text/plain": [
       "np.float64(22.251422910075437)"
      ]
     },
     "execution_count": 8,
     "metadata": {},
     "output_type": "execute_result"
    }
   ],
   "source": [
    "read * 100 / grouped['Voxelfilter']"
   ]
  },
  {
   "cell_type": "code",
   "execution_count": 9,
   "id": "a1595672",
   "metadata": {},
   "outputs": [
    {
     "data": {
      "text/plain": [
       "(np.float64(3.0), np.float64(59.8637828071912))"
      ]
     },
     "execution_count": 9,
     "metadata": {},
     "output_type": "execute_result"
    }
   ],
   "source": [
    "grouped.sum() // 60, grouped.sum() % 60"
   ]
  },
  {
   "cell_type": "code",
   "execution_count": 10,
   "id": "eeae2fc6",
   "metadata": {},
   "outputs": [],
   "source": [
    "custom_order = ['Voxelfilter', 'Gleiserkennung' ,'Linienbildung']\n",
    "grouped = grouped.loc[custom_order]"
   ]
  },
  {
   "cell_type": "code",
   "execution_count": 11,
   "id": "4cf16828",
   "metadata": {},
   "outputs": [
    {
     "data": {
      "text/plain": [
       "(np.float64(-1.0999998138755098),\n",
       " np.float64(1.0999967413429566),\n",
       " np.float64(-1.0999998304380172),\n",
       " np.float64(1.0999999919256198))"
      ]
     },
     "execution_count": 11,
     "metadata": {},
     "output_type": "execute_result"
    },
    {
     "data": {
      "image/png": "[encoded data removed]",
      "text/plain": [
       "<Figure size 1400x800 with 2 Axes>"
      ]
     },
     "metadata": {},
     "output_type": "display_data"
    }
   ],
   "source": [
    "\n",
    "# Prepare data\n",
    "labels = grouped.index\n",
    "sizes = grouped.values\n",
    "\n",
    "# Pie chart\n",
    "fig, ax = plt.subplots(1,2, figsize=(14, 8))\n",
    "wedges, texts = ax[0].pie(sizes, labels=labels, startangle=90)\n",
    "\n",
    "# Find index of the combined category\n",
    "combined_index = list(labels).index('Voxelfilter')\n",
    "\n",
    "# Overlay the \"hatched\" part (e.g., 'bar') manually\n",
    "# Calculate angle for the segment\n",
    "angle = 360 * read / grouped.sum()\n",
    "\n",
    "# Determine where the wedge starts\n",
    "startangle = 90  # if same as above\n",
    "angle_offset = sum(sizes[:combined_index]) / sizes.sum() * 360\n",
    "\n",
    "# Draw a hatched wedge manually\n",
    "from matplotlib.patches import Wedge\n",
    "\n",
    "theta1=startangle + angle_offset\n",
    "theta2=theta1 + angle\n",
    "theta_mid = (theta1 + theta2) / 2\n",
    "\n",
    "hatch_wedge = Wedge(center=(0, 0),\n",
    "                    r=1, #0.95,  # slightly smaller\n",
    "                    theta1=theta1,\n",
    "                    theta2=theta2,\n",
    "                    facecolor='none',\n",
    "                    hatch='//',\n",
    "                    edgecolor='black',\n",
    "                    linewidth=0)\n",
    "\n",
    "ax[0].add_patch(hatch_wedge)\n",
    "\n",
    "# Convert polar to cartesian for label position\n",
    "r = 1.2  # radius slightly outside the wedge\n",
    "x = r * np.cos(np.deg2rad(theta_mid))\n",
    "y = r * np.sin(np.deg2rad(theta_mid))\n",
    "\n",
    "# Add the label manually\n",
    "ax[0].text(x, y, 'Lesen', ha='center', va='center')\n",
    "\n",
    "ax[0].axis('equal')  # Equal aspect ratio ensures that pie is drawn as a circle.\n",
    "\n"
   ]
  },
  {
   "cell_type": "code",
   "execution_count": 12,
   "id": "7379304a",
   "metadata": {},
   "outputs": [
    {
     "data": {
      "text/html": [
       "<div>\n",
       "<style scoped>\n",
       "    .dataframe tbody tr th:only-of-type {\n",
       "        vertical-align: middle;\n",
       "    }\n",
       "\n",
       "    .dataframe tbody tr th {\n",
       "        vertical-align: top;\n",
       "    }\n",
       "\n",
       "    .dataframe thead th {\n",
       "        text-align: right;\n",
       "    }\n",
       "</style>\n",
       "<table border=\"1\" class=\"dataframe\">\n",
       "  <thead>\n",
       "    <tr style=\"text-align: right;\">\n",
       "      <th></th>\n",
       "      <th>used</th>\n",
       "      <th>geometry</th>\n",
       "    </tr>\n",
       "  </thead>\n",
       "  <tbody>\n",
       "    <tr>\n",
       "      <th>0</th>\n",
       "      <td>0</td>\n",
       "      <td>LINESTRING Z (4476157.809 5342334.019 485.047,...</td>\n",
       "    </tr>\n",
       "    <tr>\n",
       "      <th>1</th>\n",
       "      <td>0</td>\n",
       "      <td>LINESTRING Z (4476157.809 5342334.019 485.047,...</td>\n",
       "    </tr>\n",
       "    <tr>\n",
       "      <th>2</th>\n",
       "      <td>1</td>\n",
       "      <td>LINESTRING Z (4474825.226 5340468.253 503.113,...</td>\n",
       "    </tr>\n",
       "    <tr>\n",
       "      <th>3</th>\n",
       "      <td>1</td>\n",
       "      <td>LINESTRING Z (4476144.902 5342268.597 485.371,...</td>\n",
       "    </tr>\n",
       "    <tr>\n",
       "      <th>4</th>\n",
       "      <td>1</td>\n",
       "      <td>LINESTRING Z (4476474.53 5343841.848 486.476, ...</td>\n",
       "    </tr>\n",
       "  </tbody>\n",
       "</table>\n",
       "</div>"
      ],
      "text/plain": [
       "   used                                           geometry\n",
       "0     0  LINESTRING Z (4476157.809 5342334.019 485.047,...\n",
       "1     0  LINESTRING Z (4476157.809 5342334.019 485.047,...\n",
       "2     1  LINESTRING Z (4474825.226 5340468.253 503.113,...\n",
       "3     1  LINESTRING Z (4476144.902 5342268.597 485.371,...\n",
       "4     1  LINESTRING Z (4476474.53 5343841.848 486.476, ..."
      ]
     },
     "execution_count": 12,
     "metadata": {},
     "output_type": "execute_result"
    }
   ],
   "source": [
    "linelayer = gpd.read_file(os.path.join(folder, 'temp.gpkg'), layer='centerlines')\n",
    "linelayer.head()"
   ]
  },
  {
   "cell_type": "code",
   "execution_count": 13,
   "id": "5b423c45",
   "metadata": {},
   "outputs": [
    {
     "data": {
      "text/html": [
       "<div>\n",
       "<style scoped>\n",
       "    .dataframe tbody tr th:only-of-type {\n",
       "        vertical-align: middle;\n",
       "    }\n",
       "\n",
       "    .dataframe tbody tr th {\n",
       "        vertical-align: top;\n",
       "    }\n",
       "\n",
       "    .dataframe thead th {\n",
       "        text-align: right;\n",
       "    }\n",
       "</style>\n",
       "<table border=\"1\" class=\"dataframe\">\n",
       "  <thead>\n",
       "    <tr style=\"text-align: right;\">\n",
       "      <th></th>\n",
       "      <th>used</th>\n",
       "      <th>geometry</th>\n",
       "      <th>num_points</th>\n",
       "    </tr>\n",
       "  </thead>\n",
       "  <tbody>\n",
       "    <tr>\n",
       "      <th>0</th>\n",
       "      <td>0</td>\n",
       "      <td>LINESTRING Z (4476157.809 5342334.019 485.047,...</td>\n",
       "      <td>2673</td>\n",
       "    </tr>\n",
       "    <tr>\n",
       "      <th>1</th>\n",
       "      <td>0</td>\n",
       "      <td>LINESTRING Z (4476157.809 5342334.019 485.047,...</td>\n",
       "      <td>824</td>\n",
       "    </tr>\n",
       "    <tr>\n",
       "      <th>2</th>\n",
       "      <td>1</td>\n",
       "      <td>LINESTRING Z (4474825.226 5340468.253 503.113,...</td>\n",
       "      <td>2593</td>\n",
       "    </tr>\n",
       "    <tr>\n",
       "      <th>3</th>\n",
       "      <td>1</td>\n",
       "      <td>LINESTRING Z (4476144.902 5342268.597 485.371,...</td>\n",
       "      <td>1852</td>\n",
       "    </tr>\n",
       "    <tr>\n",
       "      <th>4</th>\n",
       "      <td>1</td>\n",
       "      <td>LINESTRING Z (4476474.53 5343841.848 486.476, ...</td>\n",
       "      <td>238</td>\n",
       "    </tr>\n",
       "  </tbody>\n",
       "</table>\n",
       "</div>"
      ],
      "text/plain": [
       "   used                                           geometry  num_points\n",
       "0     0  LINESTRING Z (4476157.809 5342334.019 485.047,...        2673\n",
       "1     0  LINESTRING Z (4476157.809 5342334.019 485.047,...         824\n",
       "2     1  LINESTRING Z (4474825.226 5340468.253 503.113,...        2593\n",
       "3     1  LINESTRING Z (4476144.902 5342268.597 485.371,...        1852\n",
       "4     1  LINESTRING Z (4476474.53 5343841.848 486.476, ...         238"
      ]
     },
     "execution_count": 13,
     "metadata": {},
     "output_type": "execute_result"
    }
   ],
   "source": [
    "linelayer['num_points'] = linelayer.geometry.apply(lambda geom: len(geom.coords))\n",
    "linelayer.head()"
   ]
  },
  {
   "cell_type": "code",
   "execution_count": 14,
   "id": "2f501e8c",
   "metadata": {},
   "outputs": [
    {
     "data": {
      "text/plain": [
       "count      153.000000\n",
       "mean       503.797386\n",
       "std       1287.095012\n",
       "min          9.000000\n",
       "25%         38.000000\n",
       "50%        112.000000\n",
       "75%        344.000000\n",
       "max      10766.000000\n",
       "Name: num_points, dtype: float64"
      ]
     },
     "execution_count": 14,
     "metadata": {},
     "output_type": "execute_result"
    }
   ],
   "source": [
    "linelayer['num_points'].describe()"
   ]
  },
  {
   "cell_type": "code",
   "execution_count": 15,
   "id": "1b657dc2",
   "metadata": {},
   "outputs": [
    {
     "data": {
      "text/plain": [
       "np.int64(77081)"
      ]
     },
     "execution_count": 15,
     "metadata": {},
     "output_type": "execute_result"
    }
   ],
   "source": [
    "linepointsum = linelayer['num_points'].sum()\n",
    "linepointsum  "
   ]
  },
  {
   "cell_type": "code",
   "execution_count": 16,
   "id": "07c7eae1",
   "metadata": {},
   "outputs": [
    {
     "data": {
      "text/plain": [
       "what2\n",
       "Linienbildung                  0\n",
       "Points with margin     264930110\n",
       "Punkte Gleismitte         346371\n",
       "Punktwolke            3715574762\n",
       "Saatpunkte                698779\n",
       "Voxelfilter            199271321\n",
       "Name: points, dtype: int64"
      ]
     },
     "execution_count": 16,
     "metadata": {},
     "output_type": "execute_result"
    }
   ],
   "source": [
    "df['what2'] = df['what'].replace({'Lesen': 'Punktwolke', 'Seed points': 'Saatpunkte', 'GrowingLines': 'Stützpunkte', 'Gleiserkennung': 'Punkte Gleismitte'})\n",
    "punktzahl = df.groupby('what2')['points'].sum()\n",
    "punktzahl "
   ]
  },
  {
   "cell_type": "code",
   "execution_count": 17,
   "id": "907b0fdb",
   "metadata": {},
   "outputs": [
    {
     "name": "stdout",
     "output_type": "stream",
     "text": [
      "\\begin{tabular}{lr}\n",
      "\\toprule\n",
      " & points \\\\\n",
      "what2 &  \\\\\n",
      "\\midrule\n",
      "Linienbildung & 0 \\\\\n",
      "Points with margin & 264930110 \\\\\n",
      "Punkte Gleismitte & 346371 \\\\\n",
      "Punktwolke & 3715574762 \\\\\n",
      "Saatpunkte & 698779 \\\\\n",
      "Voxelfilter & 199271321 \\\\\n",
      "\\bottomrule\n",
      "\\end{tabular}\n",
      "\n"
     ]
    }
   ],
   "source": [
    "print(punktzahl.to_latex())"
   ]
  },
  {
   "cell_type": "code",
   "execution_count": 18,
   "id": "7f5d8d74",
   "metadata": {},
   "outputs": [
    {
     "data": {
      "text/plain": [
       "what2\n",
       "Punktwolke           3715574762\n",
       "Voxelfilter           199271321\n",
       "Saatpunkte               698779\n",
       "Punkte Gleismitte        346371\n",
       "Stützpunkte               77081\n",
       "Name: points, dtype: int64"
      ]
     },
     "execution_count": 18,
     "metadata": {},
     "output_type": "execute_result"
    }
   ],
   "source": [
    "punktzahl['Stützpunkte'] = linepointsum\n",
    "punktzahl.drop('Points with margin', inplace=True)\n",
    "\n",
    "custom_order = ['Punktwolke', 'Voxelfilter', 'Saatpunkte', 'Punkte Gleismitte', 'Stützpunkte']\n",
    "punktzahl = punktzahl.loc[custom_order] \n",
    "punktzahl "
   ]
  },
  {
   "cell_type": "code",
   "execution_count": 19,
   "id": "f803d17c",
   "metadata": {},
   "outputs": [
    {
     "data": {
      "text/plain": [
       "np.float64(5317.2387292691965)"
      ]
     },
     "execution_count": 19,
     "metadata": {},
     "output_type": "execute_result"
    }
   ],
   "source": [
    "punktzahl['Punktwolke'] / punktzahl['Saatpunkte']"
   ]
  },
  {
   "cell_type": "code",
   "execution_count": 20,
   "id": "6b433bff",
   "metadata": {},
   "outputs": [
    {
     "data": {
      "text/plain": [
       "Text(-0.1, 1.05, 'b)')"
      ]
     },
     "execution_count": 20,
     "metadata": {},
     "output_type": "execute_result"
    },
    {
     "data": {
      "image/png": "[encoded data removed]",
      "text/plain": [
       "<Figure size 1400x500 with 2 Axes>"
      ]
     },
     "metadata": {},
     "output_type": "display_data"
    }
   ],
   "source": [
    "\n",
    "# Prepare data\n",
    "labels = grouped.index\n",
    "sizes = grouped.values\n",
    "\n",
    "# Pie chart\n",
    "fig, ax = plt.subplots(1,2, figsize=(14, 5), constrained_layout=True)\n",
    "wedges, texts = ax[0].pie(sizes, labels=labels, startangle=90)\n",
    "\n",
    "# Find index of the combined category\n",
    "combined_index = list(labels).index('Voxelfilter')\n",
    "\n",
    "# Overlay the \"hatched\" part (e.g., 'bar') manually\n",
    "# Calculate angle for the segment\n",
    "angle = 360 * read / grouped.sum()\n",
    "\n",
    "# Determine where the wedge starts\n",
    "startangle = 90  # if same as above\n",
    "angle_offset = sum(sizes[:combined_index]) / sizes.sum() * 360\n",
    "\n",
    "# Draw a hatched wedge manually\n",
    "from matplotlib.patches import Wedge\n",
    "\n",
    "theta1=startangle + angle_offset\n",
    "theta2=theta1 + angle\n",
    "theta_mid = (theta1 + theta2) / 2\n",
    "\n",
    "hatch_wedge = Wedge(center=(0, 0),\n",
    "                    r=1, #0.95,  # slightly smaller\n",
    "                    theta1=theta1,\n",
    "                    theta2=theta2,\n",
    "                    facecolor='none',\n",
    "                    hatch='//',\n",
    "                    edgecolor='black',\n",
    "                    linewidth=0)\n",
    "\n",
    "ax[0].add_patch(hatch_wedge)\n",
    "\n",
    "# Convert polar to cartesian for label position\n",
    "r = 1.2  # radius slightly outside the wedge\n",
    "x = r * np.cos(np.deg2rad(theta_mid))\n",
    "y = r * np.sin(np.deg2rad(theta_mid))\n",
    "\n",
    "# Add the label manually\n",
    "ax[0].text(x, y, 'Lesen', ha='center', va='center')\n",
    "\n",
    "ax[0].axis('equal')  # Equal aspect ratio ensures that pie is drawn as a circle.\n",
    "\n",
    "ax[1].plot(punktzahl.index, punktzahl.values)\n",
    "ax[1].set_yscale('log')\n",
    "ax[1].set_ylabel('Anzahl Punkte')\n",
    "#ax[1].set_xlabel('Bearbeitungsschritt')\n",
    "# ax[1].tick_params(axis='x', labelrotation=45)\n",
    "for label in ax[1].get_xticklabels():\n",
    "    label.set_rotation(45)\n",
    "    label.set_horizontalalignment('right')  # move anchor to the left of the label\n",
    "    label.set_verticalalignment('top')      # optional: improves baseline alignment\n",
    "\n",
    "ax[0].text(0.1, 1.05, 'a)', transform=ax[0].transAxes,\n",
    "           fontsize=14, va='top', ha='left')\n",
    "\n",
    "ax[1].text(-0.1, 1.05, 'b)', transform=ax[1].transAxes,\n",
    "           fontsize=14, va='top', ha='left')"
   ]
  },
  {
   "cell_type": "code",
   "execution_count": 25,
   "id": "518d3e73",
   "metadata": {},
   "outputs": [],
   "source": [
    "fig.savefig('speed_pie_chart_sklearn.png', dpi=300, bbox_inches='tight')"
   ]
  },
  {
   "cell_type": "code",
   "execution_count": 22,
   "id": "df24031a",
   "metadata": {},
   "outputs": [
    {
     "data": {
      "text/plain": [
       "0.375"
      ]
     },
     "execution_count": 22,
     "metadata": {},
     "output_type": "execute_result"
    }
   ],
   "source": [
    "30/80"
   ]
  },
  {
   "cell_type": "code",
   "execution_count": null,
   "id": "ed37ab82",
   "metadata": {},
   "outputs": [],
   "source": []
  }
 ],
 "metadata": {
  "kernelspec": {
   "display_name": "points",
   "language": "python",
   "name": "points"
  },
  "language_info": {
   "codemirror_mode": {
    "name": "ipython",
    "version": 3
   },
   "file_extension": ".py",
   "mimetype": "text/x-python",
   "name": "python",
   "nbconvert_exporter": "python",
   "pygments_lexer": "ipython3",
   "version": "3.9.21"
  }
 },
 "nbformat": 4,
 "nbformat_minor": 5
}
