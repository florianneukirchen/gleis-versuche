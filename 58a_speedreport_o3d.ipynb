{
 "cells": [
  {
   "cell_type": "code",
   "execution_count": 9,
   "id": "5b12a03b",
   "metadata": {},
   "outputs": [],
   "source": [
    "import pandas as pd \n",
    "import os \n",
    "import numpy as np\n",
    "import matplotlib.pyplot as plt\n",
    "import seaborn as sns\n",
    "import geopandas as gpd"
   ]
  },
  {
   "cell_type": "code",
   "execution_count": 10,
   "id": "8a87f8e8",
   "metadata": {},
   "outputs": [
    {
     "data": {
      "text/html": [
       "<div>\n",
       "<style scoped>\n",
       "    .dataframe tbody tr th:only-of-type {\n",
       "        vertical-align: middle;\n",
       "    }\n",
       "\n",
       "    .dataframe tbody tr th {\n",
       "        vertical-align: top;\n",
       "    }\n",
       "\n",
       "    .dataframe thead th {\n",
       "        text-align: right;\n",
       "    }\n",
       "</style>\n",
       "<table border=\"1\" class=\"dataframe\">\n",
       "  <thead>\n",
       "    <tr style=\"text-align: right;\">\n",
       "      <th></th>\n",
       "      <th>what</th>\n",
       "      <th>file</th>\n",
       "      <th>time</th>\n",
       "      <th>points</th>\n",
       "    </tr>\n",
       "  </thead>\n",
       "  <tbody>\n",
       "    <tr>\n",
       "      <th>0</th>\n",
       "      <td>Lesen</td>\n",
       "      <td>4481275_5357000.copc.laz</td>\n",
       "      <td>0.755605</td>\n",
       "      <td>1746830</td>\n",
       "    </tr>\n",
       "    <tr>\n",
       "      <th>1</th>\n",
       "      <td>Lesen</td>\n",
       "      <td>4475525_5341275.copc.laz</td>\n",
       "      <td>0.982993</td>\n",
       "      <td>1298026</td>\n",
       "    </tr>\n",
       "    <tr>\n",
       "      <th>2</th>\n",
       "      <td>Voxelfilter</td>\n",
       "      <td>4475525_5341275.copc.laz</td>\n",
       "      <td>4.438115</td>\n",
       "      <td>145607</td>\n",
       "    </tr>\n",
       "    <tr>\n",
       "      <th>3</th>\n",
       "      <td>Lesen</td>\n",
       "      <td>4475625_5341350.copc.laz</td>\n",
       "      <td>0.260133</td>\n",
       "      <td>268017</td>\n",
       "    </tr>\n",
       "    <tr>\n",
       "      <th>4</th>\n",
       "      <td>Voxelfilter</td>\n",
       "      <td>4475625_5341350.copc.laz</td>\n",
       "      <td>1.097492</td>\n",
       "      <td>28071</td>\n",
       "    </tr>\n",
       "  </tbody>\n",
       "</table>\n",
       "</div>"
      ],
      "text/plain": [
       "          what                      file      time   points\n",
       "0        Lesen  4481275_5357000.copc.laz  0.755605  1746830\n",
       "1        Lesen  4475525_5341275.copc.laz  0.982993  1298026\n",
       "2  Voxelfilter  4475525_5341275.copc.laz  4.438115   145607\n",
       "3        Lesen  4475625_5341350.copc.laz  0.260133   268017\n",
       "4  Voxelfilter  4475625_5341350.copc.laz  1.097492    28071"
      ]
     },
     "execution_count": 10,
     "metadata": {},
     "output_type": "execute_result"
    }
   ],
   "source": [
    "folder = \"/media/riannek/minimax/gleis/speed_run24-o3d\"\n",
    "df = pd.read_csv(os.path.join(folder, 'speedlog.csv'))\n",
    "df['file'] = df['file'].fillna(\"\")\n",
    "df['file'] = df['file'].apply(lambda x: os.path.basename(x))\n",
    "df['what'] = df['what'].replace({'voxelfilter': 'Voxelfilter', 'Growing lines': 'Linienbildung', 'Central points': 'Gleiserkennung', 'read': 'Lesen'})\n",
    "df.head()\n"
   ]
  },
  {
   "cell_type": "markdown",
   "id": "a44b4da5",
   "metadata": {},
   "source": [
    "Voxelfilter ist hier ohne read:"
   ]
  },
  {
   "cell_type": "code",
   "execution_count": 11,
   "id": "c698ffdd",
   "metadata": {},
   "outputs": [
    {
     "data": {
      "text/plain": [
       "what\n",
       "Gleiserkennung        263.483666\n",
       "Lesen                 115.740162\n",
       "Linienbildung          39.683240\n",
       "Points with margin      0.000000\n",
       "Seed points             0.000000\n",
       "Voxelfilter           388.460187\n",
       "Name: time, dtype: float64"
      ]
     },
     "execution_count": 11,
     "metadata": {},
     "output_type": "execute_result"
    }
   ],
   "source": [
    "grouped = df.groupby('what')['time'].sum()  / 60\n",
    "grouped  "
   ]
  },
  {
   "cell_type": "code",
   "execution_count": 12,
   "id": "9d40b7fa",
   "metadata": {},
   "outputs": [],
   "source": [
    "grouped['Voxelfilter'] = grouped['Voxelfilter'] + grouped['Lesen'] \n",
    "read = grouped['Lesen']\n",
    "grouped = grouped.drop('Lesen')\n",
    "grouped = grouped[grouped > 0]"
   ]
  },
  {
   "cell_type": "code",
   "execution_count": 13,
   "id": "54ba1c57",
   "metadata": {},
   "outputs": [
    {
     "data": {
      "text/plain": [
       "what\n",
       "Gleiserkennung    263.483666\n",
       "Linienbildung      39.683240\n",
       "Voxelfilter       504.200349\n",
       "Name: time, dtype: float64"
      ]
     },
     "execution_count": 13,
     "metadata": {},
     "output_type": "execute_result"
    }
   ],
   "source": [
    "grouped  "
   ]
  },
  {
   "cell_type": "code",
   "execution_count": 14,
   "id": "363f7ce3",
   "metadata": {},
   "outputs": [
    {
     "data": {
      "text/plain": [
       "what\n",
       "Gleiserkennung    32.634921\n",
       "Linienbildung      4.915141\n",
       "Voxelfilter       62.449938\n",
       "Name: time, dtype: float64"
      ]
     },
     "execution_count": 14,
     "metadata": {},
     "output_type": "execute_result"
    }
   ],
   "source": [
    "grouped * 100 / grouped.sum()"
   ]
  },
  {
   "cell_type": "code",
   "execution_count": 15,
   "id": "726f5f99",
   "metadata": {},
   "outputs": [
    {
     "data": {
      "text/plain": [
       "np.float64(14.335503590338636)"
      ]
     },
     "execution_count": 15,
     "metadata": {},
     "output_type": "execute_result"
    }
   ],
   "source": [
    "read * 100 / grouped.sum()"
   ]
  },
  {
   "cell_type": "code",
   "execution_count": 16,
   "id": "49ee2249",
   "metadata": {},
   "outputs": [
    {
     "data": {
      "text/plain": [
       "np.float64(22.955192722008526)"
      ]
     },
     "execution_count": 16,
     "metadata": {},
     "output_type": "execute_result"
    }
   ],
   "source": [
    "read * 100 / grouped['Voxelfilter']"
   ]
  },
  {
   "cell_type": "code",
   "execution_count": 17,
   "id": "a1595672",
   "metadata": {},
   "outputs": [
    {
     "data": {
      "text/plain": [
       "(np.float64(13.0), np.float64(27.36725469827661))"
      ]
     },
     "execution_count": 17,
     "metadata": {},
     "output_type": "execute_result"
    }
   ],
   "source": [
    "grouped.sum() // 60, grouped.sum() % 60"
   ]
  },
  {
   "cell_type": "code",
   "execution_count": 18,
   "id": "eeae2fc6",
   "metadata": {},
   "outputs": [],
   "source": [
    "custom_order = ['Voxelfilter', 'Gleiserkennung' ,'Linienbildung']\n",
    "grouped = grouped.loc[custom_order]"
   ]
  },
  {
   "cell_type": "code",
   "execution_count": 19,
   "id": "4cf16828",
   "metadata": {},
   "outputs": [
    {
     "data": {
      "text/plain": [
       "(np.float64(-1.09999940771285),\n",
       " np.float64(1.0999976691549893),\n",
       " np.float64(-1.09999839026941),\n",
       " np.float64(1.0999999233461624))"
      ]
     },
     "execution_count": 19,
     "metadata": {},
     "output_type": "execute_result"
    },
    {
     "data": {
      "image/png": "[encoded data removed]",
      "text/plain": [
       "<Figure size 1400x800 with 2 Axes>"
      ]
     },
     "metadata": {},
     "output_type": "display_data"
    }
   ],
   "source": [
    "\n",
    "# Prepare data\n",
    "labels = grouped.index\n",
    "sizes = grouped.values\n",
    "\n",
    "# Pie chart\n",
    "fig, ax = plt.subplots(1,2, figsize=(14, 8))\n",
    "wedges, texts = ax[0].pie(sizes, labels=labels, startangle=90)\n",
    "\n",
    "# Find index of the combined category\n",
    "combined_index = list(labels).index('Voxelfilter')\n",
    "\n",
    "# Overlay the \"hatched\" part (e.g., 'bar') manually\n",
    "# Calculate angle for the segment\n",
    "angle = 360 * read / grouped.sum()\n",
    "\n",
    "# Determine where the wedge starts\n",
    "startangle = 90  # if same as above\n",
    "angle_offset = sum(sizes[:combined_index]) / sizes.sum() * 360\n",
    "\n",
    "# Draw a hatched wedge manually\n",
    "from matplotlib.patches import Wedge\n",
    "\n",
    "theta1=startangle + angle_offset\n",
    "theta2=theta1 + angle\n",
    "theta_mid = (theta1 + theta2) / 2\n",
    "\n",
    "hatch_wedge = Wedge(center=(0, 0),\n",
    "                    r=1, #0.95,  # slightly smaller\n",
    "                    theta1=theta1,\n",
    "                    theta2=theta2,\n",
    "                    facecolor='none',\n",
    "                    hatch='//',\n",
    "                    edgecolor='black',\n",
    "                    linewidth=0)\n",
    "\n",
    "ax[0].add_patch(hatch_wedge)\n",
    "\n",
    "# Convert polar to cartesian for label position\n",
    "r = 1.2  # radius slightly outside the wedge\n",
    "x = r * np.cos(np.deg2rad(theta_mid))\n",
    "y = r * np.sin(np.deg2rad(theta_mid))\n",
    "\n",
    "# Add the label manually\n",
    "ax[0].text(x, y, 'Lesen', ha='center', va='center')\n",
    "\n",
    "ax[0].axis('equal')  # Equal aspect ratio ensures that pie is drawn as a circle.\n",
    "\n"
   ]
  },
  {
   "cell_type": "code",
   "execution_count": 20,
   "id": "7379304a",
   "metadata": {},
   "outputs": [
    {
     "data": {
      "text/html": [
       "<div>\n",
       "<style scoped>\n",
       "    .dataframe tbody tr th:only-of-type {\n",
       "        vertical-align: middle;\n",
       "    }\n",
       "\n",
       "    .dataframe tbody tr th {\n",
       "        vertical-align: top;\n",
       "    }\n",
       "\n",
       "    .dataframe thead th {\n",
       "        text-align: right;\n",
       "    }\n",
       "</style>\n",
       "<table border=\"1\" class=\"dataframe\">\n",
       "  <thead>\n",
       "    <tr style=\"text-align: right;\">\n",
       "      <th></th>\n",
       "      <th>used</th>\n",
       "      <th>geometry</th>\n",
       "    </tr>\n",
       "  </thead>\n",
       "  <tbody>\n",
       "    <tr>\n",
       "      <th>0</th>\n",
       "      <td>0</td>\n",
       "      <td>LINESTRING Z (4476157.809 5342334.019 485.047,...</td>\n",
       "    </tr>\n",
       "    <tr>\n",
       "      <th>1</th>\n",
       "      <td>0</td>\n",
       "      <td>LINESTRING Z (4476157.809 5342334.019 485.047,...</td>\n",
       "    </tr>\n",
       "    <tr>\n",
       "      <th>2</th>\n",
       "      <td>1</td>\n",
       "      <td>LINESTRING Z (4474825.226 5340468.253 503.113,...</td>\n",
       "    </tr>\n",
       "    <tr>\n",
       "      <th>3</th>\n",
       "      <td>1</td>\n",
       "      <td>LINESTRING Z (4476144.902 5342268.597 485.371,...</td>\n",
       "    </tr>\n",
       "    <tr>\n",
       "      <th>4</th>\n",
       "      <td>1</td>\n",
       "      <td>LINESTRING Z (4476474.479 5343841.752 486.475,...</td>\n",
       "    </tr>\n",
       "  </tbody>\n",
       "</table>\n",
       "</div>"
      ],
      "text/plain": [
       "   used                                           geometry\n",
       "0     0  LINESTRING Z (4476157.809 5342334.019 485.047,...\n",
       "1     0  LINESTRING Z (4476157.809 5342334.019 485.047,...\n",
       "2     1  LINESTRING Z (4474825.226 5340468.253 503.113,...\n",
       "3     1  LINESTRING Z (4476144.902 5342268.597 485.371,...\n",
       "4     1  LINESTRING Z (4476474.479 5343841.752 486.475,..."
      ]
     },
     "execution_count": 20,
     "metadata": {},
     "output_type": "execute_result"
    }
   ],
   "source": [
    "linelayer = gpd.read_file(os.path.join(folder, 'temp.gpkg'), layer='centerlines')\n",
    "linelayer.head()"
   ]
  },
  {
   "cell_type": "code",
   "execution_count": 21,
   "id": "5b423c45",
   "metadata": {},
   "outputs": [
    {
     "data": {
      "text/html": [
       "<div>\n",
       "<style scoped>\n",
       "    .dataframe tbody tr th:only-of-type {\n",
       "        vertical-align: middle;\n",
       "    }\n",
       "\n",
       "    .dataframe tbody tr th {\n",
       "        vertical-align: top;\n",
       "    }\n",
       "\n",
       "    .dataframe thead th {\n",
       "        text-align: right;\n",
       "    }\n",
       "</style>\n",
       "<table border=\"1\" class=\"dataframe\">\n",
       "  <thead>\n",
       "    <tr style=\"text-align: right;\">\n",
       "      <th></th>\n",
       "      <th>used</th>\n",
       "      <th>geometry</th>\n",
       "      <th>num_points</th>\n",
       "    </tr>\n",
       "  </thead>\n",
       "  <tbody>\n",
       "    <tr>\n",
       "      <th>0</th>\n",
       "      <td>0</td>\n",
       "      <td>LINESTRING Z (4476157.809 5342334.019 485.047,...</td>\n",
       "      <td>2680</td>\n",
       "    </tr>\n",
       "    <tr>\n",
       "      <th>1</th>\n",
       "      <td>0</td>\n",
       "      <td>LINESTRING Z (4476157.809 5342334.019 485.047,...</td>\n",
       "      <td>825</td>\n",
       "    </tr>\n",
       "    <tr>\n",
       "      <th>2</th>\n",
       "      <td>1</td>\n",
       "      <td>LINESTRING Z (4474825.226 5340468.253 503.113,...</td>\n",
       "      <td>2594</td>\n",
       "    </tr>\n",
       "    <tr>\n",
       "      <th>3</th>\n",
       "      <td>1</td>\n",
       "      <td>LINESTRING Z (4476144.902 5342268.597 485.371,...</td>\n",
       "      <td>1851</td>\n",
       "    </tr>\n",
       "    <tr>\n",
       "      <th>4</th>\n",
       "      <td>1</td>\n",
       "      <td>LINESTRING Z (4476474.479 5343841.752 486.475,...</td>\n",
       "      <td>239</td>\n",
       "    </tr>\n",
       "  </tbody>\n",
       "</table>\n",
       "</div>"
      ],
      "text/plain": [
       "   used                                           geometry  num_points\n",
       "0     0  LINESTRING Z (4476157.809 5342334.019 485.047,...        2680\n",
       "1     0  LINESTRING Z (4476157.809 5342334.019 485.047,...         825\n",
       "2     1  LINESTRING Z (4474825.226 5340468.253 503.113,...        2594\n",
       "3     1  LINESTRING Z (4476144.902 5342268.597 485.371,...        1851\n",
       "4     1  LINESTRING Z (4476474.479 5343841.752 486.475,...         239"
      ]
     },
     "execution_count": 21,
     "metadata": {},
     "output_type": "execute_result"
    }
   ],
   "source": [
    "linelayer['num_points'] = linelayer.geometry.apply(lambda geom: len(geom.coords))\n",
    "linelayer.head()"
   ]
  },
  {
   "cell_type": "code",
   "execution_count": 22,
   "id": "2f501e8c",
   "metadata": {},
   "outputs": [
    {
     "data": {
      "text/plain": [
       "count      152.000000\n",
       "mean       507.111842\n",
       "std       1290.643453\n",
       "min          9.000000\n",
       "25%         44.000000\n",
       "50%        110.000000\n",
       "75%        349.500000\n",
       "max      10764.000000\n",
       "Name: num_points, dtype: float64"
      ]
     },
     "execution_count": 22,
     "metadata": {},
     "output_type": "execute_result"
    }
   ],
   "source": [
    "linelayer['num_points'].describe()"
   ]
  },
  {
   "cell_type": "code",
   "execution_count": 23,
   "id": "1b657dc2",
   "metadata": {},
   "outputs": [
    {
     "data": {
      "text/plain": [
       "np.int64(77081)"
      ]
     },
     "execution_count": 23,
     "metadata": {},
     "output_type": "execute_result"
    }
   ],
   "source": [
    "linepointsum = linelayer['num_points'].sum()\n",
    "linepointsum  "
   ]
  },
  {
   "cell_type": "code",
   "execution_count": 24,
   "id": "07c7eae1",
   "metadata": {},
   "outputs": [
    {
     "data": {
      "text/plain": [
       "what2\n",
       "Linienbildung                   0\n",
       "Points with margin      794790330\n",
       "Punkte Gleismitte         1039111\n",
       "Punktwolke            13891956830\n",
       "Saatpunkte                2096281\n",
       "Voxelfilter             749670703\n",
       "Name: points, dtype: int64"
      ]
     },
     "execution_count": 24,
     "metadata": {},
     "output_type": "execute_result"
    }
   ],
   "source": [
    "df['what2'] = df['what'].replace({'Lesen': 'Punktwolke', 'Seed points': 'Saatpunkte', 'GrowingLines': 'Stützpunkte', 'Gleiserkennung': 'Punkte Gleismitte'})\n",
    "punktzahl = df.groupby('what2')['points'].sum()\n",
    "punktzahl "
   ]
  },
  {
   "cell_type": "code",
   "execution_count": 25,
   "id": "907b0fdb",
   "metadata": {},
   "outputs": [
    {
     "name": "stdout",
     "output_type": "stream",
     "text": [
      "\\begin{tabular}{lr}\n",
      "\\toprule\n",
      " & points \\\\\n",
      "what2 &  \\\\\n",
      "\\midrule\n",
      "Linienbildung & 0 \\\\\n",
      "Points with margin & 794790330 \\\\\n",
      "Punkte Gleismitte & 1039111 \\\\\n",
      "Punktwolke & 13891956830 \\\\\n",
      "Saatpunkte & 2096281 \\\\\n",
      "Voxelfilter & 749670703 \\\\\n",
      "\\bottomrule\n",
      "\\end{tabular}\n",
      "\n"
     ]
    }
   ],
   "source": [
    "print(punktzahl.to_latex())"
   ]
  },
  {
   "cell_type": "code",
   "execution_count": 26,
   "id": "7f5d8d74",
   "metadata": {},
   "outputs": [
    {
     "data": {
      "text/plain": [
       "what2\n",
       "Punktwolke           13891956830\n",
       "Voxelfilter            749670703\n",
       "Saatpunkte               2096281\n",
       "Punkte Gleismitte        1039111\n",
       "Stützpunkte                77081\n",
       "Name: points, dtype: int64"
      ]
     },
     "execution_count": 26,
     "metadata": {},
     "output_type": "execute_result"
    }
   ],
   "source": [
    "punktzahl['Stützpunkte'] = linepointsum\n",
    "punktzahl.drop('Points with margin', inplace=True)\n",
    "\n",
    "custom_order = ['Punktwolke', 'Voxelfilter', 'Saatpunkte', 'Punkte Gleismitte', 'Stützpunkte']\n",
    "punktzahl = punktzahl.loc[custom_order] \n",
    "punktzahl "
   ]
  },
  {
   "cell_type": "code",
   "execution_count": 27,
   "id": "f803d17c",
   "metadata": {},
   "outputs": [
    {
     "data": {
      "text/plain": [
       "np.float64(6626.953557275957)"
      ]
     },
     "execution_count": 27,
     "metadata": {},
     "output_type": "execute_result"
    }
   ],
   "source": [
    "punktzahl['Punktwolke'] / punktzahl['Saatpunkte']"
   ]
  },
  {
   "cell_type": "code",
   "execution_count": 28,
   "id": "6b433bff",
   "metadata": {},
   "outputs": [
    {
     "data": {
      "text/plain": [
       "Text(-0.1, 1.05, 'b)')"
      ]
     },
     "execution_count": 28,
     "metadata": {},
     "output_type": "execute_result"
    },
    {
     "data": {
      "image/png": "[encoded data removed]",
      "text/plain": [
       "<Figure size 1400x500 with 2 Axes>"
      ]
     },
     "metadata": {},
     "output_type": "display_data"
    }
   ],
   "source": [
    "\n",
    "# Prepare data\n",
    "labels = grouped.index\n",
    "sizes = grouped.values\n",
    "\n",
    "# Pie chart\n",
    "fig, ax = plt.subplots(1,2, figsize=(14, 5), constrained_layout=True)\n",
    "wedges, texts = ax[0].pie(sizes, labels=labels, startangle=90)\n",
    "\n",
    "# Find index of the combined category\n",
    "combined_index = list(labels).index('Voxelfilter')\n",
    "\n",
    "# Overlay the \"hatched\" part (e.g., 'bar') manually\n",
    "# Calculate angle for the segment\n",
    "angle = 360 * read / grouped.sum()\n",
    "\n",
    "# Determine where the wedge starts\n",
    "startangle = 90  # if same as above\n",
    "angle_offset = sum(sizes[:combined_index]) / sizes.sum() * 360\n",
    "\n",
    "# Draw a hatched wedge manually\n",
    "from matplotlib.patches import Wedge\n",
    "\n",
    "theta1=startangle + angle_offset\n",
    "theta2=theta1 + angle\n",
    "theta_mid = (theta1 + theta2) / 2\n",
    "\n",
    "hatch_wedge = Wedge(center=(0, 0),\n",
    "                    r=1, #0.95,  # slightly smaller\n",
    "                    theta1=theta1,\n",
    "                    theta2=theta2,\n",
    "                    facecolor='none',\n",
    "                    hatch='//',\n",
    "                    edgecolor='black',\n",
    "                    linewidth=0)\n",
    "\n",
    "ax[0].add_patch(hatch_wedge)\n",
    "\n",
    "# Convert polar to cartesian for label position\n",
    "r = 1.2  # radius slightly outside the wedge\n",
    "x = r * np.cos(np.deg2rad(theta_mid))\n",
    "y = r * np.sin(np.deg2rad(theta_mid))\n",
    "\n",
    "# Add the label manually\n",
    "ax[0].text(x, y, 'Lesen', ha='center', va='center')\n",
    "\n",
    "ax[0].axis('equal')  # Equal aspect ratio ensures that pie is drawn as a circle.\n",
    "\n",
    "ax[1].plot(punktzahl.index, punktzahl.values)\n",
    "ax[1].set_yscale('log')\n",
    "ax[1].set_ylabel('Anzahl Punkte')\n",
    "#ax[1].set_xlabel('Bearbeitungsschritt')\n",
    "# ax[1].tick_params(axis='x', labelrotation=45)\n",
    "for label in ax[1].get_xticklabels():\n",
    "    label.set_rotation(45)\n",
    "    label.set_horizontalalignment('right')  # move anchor to the left of the label\n",
    "    label.set_verticalalignment('top')      # optional: improves baseline alignment\n",
    "\n",
    "ax[0].text(0.1, 1.05, 'a)', transform=ax[0].transAxes,\n",
    "           fontsize=14, va='top', ha='left')\n",
    "\n",
    "ax[1].text(-0.1, 1.05, 'b)', transform=ax[1].transAxes,\n",
    "           fontsize=14, va='top', ha='left')"
   ]
  },
  {
   "cell_type": "code",
   "execution_count": 29,
   "id": "518d3e73",
   "metadata": {},
   "outputs": [],
   "source": [
    "fig.savefig('speed_pie_chart.png', dpi=300, bbox_inches='tight')"
   ]
  },
  {
   "cell_type": "code",
   "execution_count": 30,
   "id": "df24031a",
   "metadata": {},
   "outputs": [
    {
     "data": {
      "text/plain": [
       "0.375"
      ]
     },
     "execution_count": 30,
     "metadata": {},
     "output_type": "execute_result"
    }
   ],
   "source": [
    "30/80"
   ]
  },
  {
   "cell_type": "code",
   "execution_count": 2,
   "id": "ed37ab82",
   "metadata": {},
   "outputs": [
    {
     "data": {
      "text/plain": [
       "0.2"
      ]
     },
     "execution_count": 2,
     "metadata": {},
     "output_type": "execute_result"
    }
   ],
   "source": [
    "1/5"
   ]
  },
  {
   "cell_type": "code",
   "execution_count": null,
   "id": "a44b8ddb",
   "metadata": {},
   "outputs": [],
   "source": []
  }
 ],
 "metadata": {
  "kernelspec": {
   "display_name": "points",
   "language": "python",
   "name": "points"
  },
  "language_info": {
   "codemirror_mode": {
    "name": "ipython",
    "version": 3
   },
   "file_extension": ".py",
   "mimetype": "text/x-python",
   "name": "python",
   "nbconvert_exporter": "python",
   "pygments_lexer": "ipython3",
   "version": "3.9.21"
  }
 },
 "nbformat": 4,
 "nbformat_minor": 5
}
