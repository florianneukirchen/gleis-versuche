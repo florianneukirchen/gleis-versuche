{
 "cells": [
  {
   "cell_type": "markdown",
   "id": "190bc678",
   "metadata": {},
   "source": [
    "# Compare runs"
   ]
  },
  {
   "cell_type": "code",
   "execution_count": 26,
   "id": "ca99fc0b",
   "metadata": {},
   "outputs": [],
   "source": [
    "import pdal \n",
    "import numpy as np\n",
    "import matplotlib.pyplot as plt\n",
    "\n",
    "from osgeo import ogr\n",
    "import pyvista as pv\n",
    "import os\n",
    "import sys\n",
    "from scipy.spatial import KDTree\n",
    "\n",
    "from interessant import * # Bei Änderungen Kernel neu starten\n",
    "sys.path.append(\"/home/riannek/code/gleis/gleisachse\")\n",
    "from algs.centralpoints import *\n",
    "\n",
    "ogr.UseExceptions()"
   ]
  },
  {
   "cell_type": "code",
   "execution_count": 27,
   "id": "88188a20",
   "metadata": {},
   "outputs": [
    {
     "name": "stdout",
     "output_type": "stream",
     "text": [
      "Anfang Weiche 4481275_5357000.copc.laz\n"
     ]
    }
   ],
   "source": [
    "run24 = \"/media/riannek/minimax/gleis/run24-2024-08-13\"\n",
    "run14 = \"/media/riannek/minimax/gleis/run14-2024-08-14\"\n",
    "\n",
    "run24_tmp = \"/media/riannek/minimax/gleis/temp_run24\"\n",
    "run14_tmp = \"/media/riannek/minimax/gleis/temp_run14\"\n",
    "\n",
    "# Bahnsteig: 29; Gleis hohe Intensität: 11; Weiche B: 16; Unterirdischer Bhf: 20; Gleis weit abseits: 23; Betondeckel: 28; Zug run 14 A: 6; \n",
    "# Viele Gleise: 33; Anfang Weiche: 34; OLA gleiche H: 35; Y: 37; Auch viele Gleise: 43; Kreuzung: 44, 45; 47 Drei\n",
    "\n",
    "key = list(interessant.keys())[34] \n",
    "\n",
    "filename = interessant[key]\n",
    "\n",
    "print(key, filename)\n",
    "plyfilename = filename.split(\".\")[0] + \".ply\"\n",
    "\n",
    "file_run24 = os.path.join(run24, filename)\n",
    "file_run14 = os.path.join(run14, filename)\n",
    "ply_run24 = os.path.join(run24_tmp, \"candidates\", plyfilename)\n",
    "ply_run14 = os.path.join(run14_tmp, \"candidates\", plyfilename)\n",
    "\n",
    "if not os.path.exists(file_run14):\n",
    "    raise FileNotFoundError(filename)"
   ]
  },
  {
   "cell_type": "code",
   "execution_count": 28,
   "id": "570d15e5",
   "metadata": {},
   "outputs": [],
   "source": [
    "gauge = 1.435\n",
    "railhead_width = 0.067"
   ]
  },
  {
   "cell_type": "code",
   "execution_count": 29,
   "id": "56c0d79d",
   "metadata": {},
   "outputs": [],
   "source": [
    "def get_seedpoints(points):\n",
    "    low_intensity = points[points[\"Intensity\"] < 14500]\n",
    "    downsampling_pipeline = pdal.Filter(\"filters.sample\", radius=s.seedpoint_distance).pipeline(low_intensity)\n",
    "    downsampling_pipeline.execute()\n",
    "    seed_points = downsampling_pipeline.arrays[0]\n",
    "    return np.vstack((seed_points[\"X\"], seed_points[\"Y\"], seed_points[\"Z\"])).T"
   ]
  },
  {
   "cell_type": "code",
   "execution_count": 30,
   "id": "0b06865e",
   "metadata": {},
   "outputs": [],
   "source": [
    "def get_points(xyz, xyz_seed): \n",
    "    points = []\n",
    "    tree = KDTree(xyz)\n",
    "    # indices: ndarray (dtype object) with a list of indices for each seed point\n",
    "    indices = tree.query_ball_point(xyz_seed, r=s.neighborhood_radius, workers=-1)\n",
    "\n",
    "    seed_point_count = len(xyz_seed)\n",
    "\n",
    "    for cluster, clustercenter, cluster_other, center_other, eigenvects in pair_generator(xyz, tree, indices, seed_point_count, gauge):\n",
    "        transformmatrix = get_transformmatrix(cluster, cluster_other, clustercenter, center_other, eigenvects)\n",
    "        representative_a, side_a  = representative_point(cluster, transformmatrix, railhead_width) \n",
    "        representative_b, side_b = representative_point(cluster_other, transformmatrix, railhead_width)\n",
    "\n",
    "        if representative_a is None or representative_b is None:\n",
    "            # Happens in rare cases at switches\n",
    "            continue\n",
    "\n",
    "        # Check if both are classified as the same side\n",
    "        # but a zero and non zero value is not a problem\n",
    "        if side_a * side_b < 0:\n",
    "            # Update the cluster with lower confidence of the side estimation\n",
    "            if np.abs(side_a) < np.abs(side_b):\n",
    "                representative_a, side_a  = representative_point(cluster, transformmatrix, railhead_width, side=side_b)\n",
    "            else:\n",
    "                representative_b, side_b = representative_point(cluster_other, transformmatrix,  railhead_width, side=side_a)\n",
    "\n",
    "        if representative_a is None or representative_b is None:\n",
    "            continue\n",
    "\n",
    "        central = get_central_point(representative_a, representative_b)\n",
    "\n",
    "        points.append(central)\n",
    "        points.append(representative_a)\n",
    "        points.append(representative_b)\n",
    "\n",
    "    return np.array(points)"
   ]
  },
  {
   "cell_type": "code",
   "execution_count": 31,
   "id": "1ca56d67",
   "metadata": {},
   "outputs": [],
   "source": [
    "def read_pointcloud(filename):\n",
    "    pipeline = pdal.Pipeline([pdal.Reader(filename)])\n",
    "    pipeline.execute()\n",
    "    points = pipeline.arrays[0]\n",
    "    xyz = np.vstack((points[\"X\"], points[\"Y\"], points[\"Z\"])).T\n",
    "    return xyz, points"
   ]
  },
  {
   "cell_type": "code",
   "execution_count": 32,
   "id": "b0bc4eb6",
   "metadata": {},
   "outputs": [],
   "source": [
    "# Read full point clouds\n",
    "xyz_run24, _ =read_pointcloud(file_run24)\n",
    "xyz_run14, _ =read_pointcloud(file_run14)\n",
    "\n",
    "# Read the ply files\n",
    "xyz_ply_run24, points_ply_run24 = read_pointcloud(ply_run24)\n",
    "xyz_ply_run14, points_ply_run14 = read_pointcloud(ply_run14)\n",
    "\n",
    "seed24 = get_seedpoints(points_ply_run24)\n",
    "seed14 = get_seedpoints(points_ply_run14)\n",
    "\n",
    "offset = xyz_run24.mean(axis=0)\n",
    "xyz_run24 -= offset\n",
    "xyz_run14 -= offset\n",
    "xyz_ply_run24 -= offset\n",
    "xyz_ply_run14 -= offset\n",
    "seed24 -= offset\n",
    "seed14 -= offset\n",
    "\n",
    "\n",
    "cpoints24 = get_points(xyz_ply_run24, seed24)\n",
    "cpoints14 = get_points(xyz_ply_run14, seed14)\n"
   ]
  },
  {
   "cell_type": "code",
   "execution_count": 33,
   "id": "5d3d4b92",
   "metadata": {},
   "outputs": [
    {
     "data": {
      "application/vnd.jupyter.widget-view+json": {
       "model_id": "26e2cbdce41943149b73dd0b4c245ee0",
       "version_major": 2,
       "version_minor": 0
      },
      "text/plain": [
       "Widget(value='<iframe src=\"http://localhost:36535/index.html?ui=P_0x7fbf03f8a4f0_4&reconnect=auto\" class=\"pyvi…"
      ]
     },
     "metadata": {},
     "output_type": "display_data"
    }
   ],
   "source": [
    "pv24 = pv.PolyData(xyz_run24)\n",
    "pv14 = pv.PolyData(xyz_run14)\n",
    "\n",
    "\n",
    "pc24 = pv.PolyData(cpoints24)\n",
    "pc14 = pv.PolyData(cpoints14)\n",
    "\n",
    "\n",
    "p = pv.Plotter()\n",
    "p.add_mesh(pv24, color=\"salmon\",name=\"Run 24\", opacity=0.5, point_size=1)\n",
    "p.add_mesh(pv14, color=\"skyblue\", name=\"Run 14\", opacity=0.5, point_size=1)\n",
    "\n",
    "p.add_mesh(pc24, color=\"red\", name=\"Central points 24\", point_size=5)\n",
    "p.add_mesh(pc14, color=\"navy\", name=\"Central points 14\", point_size=5)\n",
    "\n",
    "p.show()"
   ]
  },
  {
   "cell_type": "code",
   "execution_count": null,
   "id": "2a657f19",
   "metadata": {},
   "outputs": [],
   "source": []
  }
 ],
 "metadata": {
  "kernelspec": {
   "display_name": "points",
   "language": "python",
   "name": "points"
  },
  "language_info": {
   "codemirror_mode": {
    "name": "ipython",
    "version": 3
   },
   "file_extension": ".py",
   "mimetype": "text/x-python",
   "name": "python",
   "nbconvert_exporter": "python",
   "pygments_lexer": "ipython3",
   "version": "3.9.21"
  }
 },
 "nbformat": 4,
 "nbformat_minor": 5
}
