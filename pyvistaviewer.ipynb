{
 "cells": [
  {
   "cell_type": "code",
   "execution_count": 3,
   "metadata": {},
   "outputs": [],
   "source": [
    "import sys \n",
    "import os \n",
    "from interessant import * # Bei Änderungen Kernel neu starten\n",
    "\n",
    "sys.path.insert(0, os.path.join(os.path.dirname(os.path.abspath('')), 'scripte'))\n",
    "from pyvistaviewer import main"
   ]
  },
  {
   "cell_type": "code",
   "execution_count": 6,
   "metadata": {},
   "outputs": [
    {
     "name": "stdout",
     "output_type": "stream",
     "text": [
      "Fangschienen und mehr 4481275_5357000.copc.laz\n",
      "Reading /media/riannek/minimax/gleis/2024-08-13/01/run24/01/4481275_5357000.copc.laz\n",
      "Press \"M\" to toggle between Intensity, RGB, and Classification modes\n",
      "Press \"Left\" and \"Right\" arrow keys to rotate the point cloud around Z-axis\n"
     ]
    },
    {
     "data": {
      "application/vnd.jupyter.widget-view+json": {
       "model_id": "18a51038df1042f78101e941af705606",
       "version_major": 2,
       "version_minor": 0
      },
      "text/plain": [
       "Widget(value='<iframe src=\"http://localhost:36219/index.html?ui=P_0x7f492c9ec460_0&reconnect=auto\" class=\"pyvi…"
      ]
     },
     "metadata": {},
     "output_type": "display_data"
    }
   ],
   "source": [
    "run = run24\n",
    "#run = run14\n",
    "# filename = interessant['OLA gleiche Höhe wie Gleis']\n",
    "\n",
    "# Bahnsteig: 29; Gleis hohe Intensität: 11; Weiche B: 16; Unterirdischer Bhf: 20; Gleis weit abseits: 23; Betondeckel: 28; Zug run 14 A (in run24 Achszähler): 6; \n",
    "# Viele Gleise: 33; OLA gleiche H: 35; Y: 37\n",
    "key = list(interessant.keys())[34] \n",
    "filename = interessant[key]\n",
    "print(key, filename)\n",
    "\n",
    "filename = os.path.join(run, filename)\n",
    "if not os.path.exists(filename):\n",
    "    raise FileNotFoundError(filename)\n",
    "\n",
    "main(filename)"
   ]
  },
  {
   "cell_type": "code",
   "execution_count": null,
   "metadata": {},
   "outputs": [
    {
     "data": {
      "text/plain": [
       "'/media/riannek/minimax/gleis/2024-08-13/01/run24/01/4481275_5357000.copc.laz'"
      ]
     },
     "execution_count": 5,
     "metadata": {},
     "output_type": "execute_result"
    }
   ],
   "source": []
  },
  {
   "cell_type": "code",
   "execution_count": null,
   "metadata": {},
   "outputs": [],
   "source": []
  }
 ],
 "metadata": {
  "kernelspec": {
   "display_name": "points",
   "language": "python",
   "name": "points"
  },
  "language_info": {
   "codemirror_mode": {
    "name": "ipython",
    "version": 3
   },
   "file_extension": ".py",
   "mimetype": "text/x-python",
   "name": "python",
   "nbconvert_exporter": "python",
   "pygments_lexer": "ipython3",
   "version": "3.9.21"
  }
 },
 "nbformat": 4,
 "nbformat_minor": 2
}
