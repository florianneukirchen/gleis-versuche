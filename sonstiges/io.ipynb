{
 "cells": [
  {
   "cell_type": "code",
   "execution_count": 2,
   "metadata": {},
   "outputs": [
    {
     "name": "stdout",
     "output_type": "stream",
     "text": [
      "Jupyter environment detected. Enabling Open3D WebVisualizer.\n",
      "[Open3D INFO] WebRTC GUI backend enabled.\n",
      "[Open3D INFO] WebRTCWindowSystem: HTTP handshake server disabled.\n"
     ]
    }
   ],
   "source": [
    "import pdal \n",
    "import numpy as np\n",
    "import matplotlib.pyplot as plt\n",
    "import open3d as o3d\n",
    "from scipy.spatial import KDTree\n",
    "from scipy.sparse.csgraph import connected_components\n",
    "import scipy.sparse as sp\n",
    "import os\n",
    "import json\n",
    "import pyvista as pv\n",
    "import time\n",
    "\n",
    "from interessant import * # Bei Änderungen Kernel neu starten"
   ]
  },
  {
   "cell_type": "code",
   "execution_count": 3,
   "metadata": {},
   "outputs": [
    {
     "data": {
      "text/plain": [
       "'0.19.0'"
      ]
     },
     "execution_count": 3,
     "metadata": {},
     "output_type": "execute_result"
    }
   ],
   "source": [
    "o3d.__version__  "
   ]
  },
  {
   "cell_type": "code",
   "execution_count": 5,
   "metadata": {},
   "outputs": [
    {
     "name": "stdout",
     "output_type": "stream",
     "text": [
      "Einfach 4473900_5335875.copc.laz\n"
     ]
    }
   ],
   "source": [
    "run = run24\n",
    "#run = run14\n",
    "# filename = interessant['OLA gleiche Höhe wie Gleis']\n",
    "\n",
    "# Bahnsteig: 29; Gleis hohe Intensität: 11; Weiche B: 16; Unterirdischer Bhf: 20; Gleis weit abseits: 23; Betondeckel: 28; Zug run 14 A (in run24 Achszähler): 6; \n",
    "# Viele Gleise: 33; Anfang Weiche: 34; Weiche C: 38 OLA gleiche H: 35; Y: 37\n",
    "key = list(interessant.keys())[0] \n",
    "filename = interessant[key]\n",
    "print(key, filename)\n",
    "\n",
    "filename = os.path.join(run, filename)\n",
    "if not os.path.exists(filename):\n",
    "    raise FileNotFoundError(filename)"
   ]
  },
  {
   "cell_type": "code",
   "execution_count": 6,
   "metadata": {},
   "outputs": [
    {
     "name": "stdout",
     "output_type": "stream",
     "text": [
      "Voxel size: 0.8333333333333334\n"
     ]
    }
   ],
   "source": [
    "thresh = 8  # z.B. 5 oder 8\n",
    "majority_tresh  = 0.5 # Erster Durchgang 0.3, bei \"Gleis hohe Intensität\" gibt 0.5 ein viel besseres Ergebnis\n",
    "\n",
    "voxel_size = 1.0\n",
    "\n",
    "voxel_size = 25 / 30\n",
    "print(\"Voxel size:\", voxel_size)\n",
    "\n",
    "minimum_points = 50 # Erste Versuche mit 100, aber viel schwarz bei abseits liegenden Gleisen. 50 ist besser.\n",
    "minimum_in_hood = 10\n",
    "linearity_tresh = 0.98\n",
    "\n",
    "intensity_threshold = 14500\n",
    "downsample_radius = 0.3\n",
    "neighborhood_radius = 0.5"
   ]
  },
  {
   "cell_type": "code",
   "execution_count": 7,
   "metadata": {},
   "outputs": [],
   "source": [
    "pipeline = pdal.Pipeline([pdal.Reader(filename)])\n",
    "pipeline.execute()\n",
    "points = pipeline.arrays[0]"
   ]
  },
  {
   "cell_type": "code",
   "execution_count": 8,
   "metadata": {},
   "outputs": [],
   "source": [
    "xyz = np.vstack((points['X'], points['Y'], points['Z'])).transpose()"
   ]
  },
  {
   "cell_type": "code",
   "execution_count": 9,
   "metadata": {},
   "outputs": [],
   "source": [
    "points['Classification'] = 0 # Unclassified\n",
    "RAIL = 20"
   ]
  },
  {
   "cell_type": "code",
   "execution_count": 10,
   "metadata": {},
   "outputs": [
    {
     "data": {
      "text/plain": [
       "(array([4.47365000e+06, 5.33800000e+06, 5.17640641e+02]),\n",
       " array([4.47363330e+06, 5.33797500e+06, 5.10004041e+02]))"
      ]
     },
     "execution_count": 10,
     "metadata": {},
     "output_type": "execute_result"
    }
   ],
   "source": [
    "maxp = xyz.max(axis=0)\n",
    "minp = xyz.min(axis=0)\n",
    "maxp, minp"
   ]
  },
  {
   "cell_type": "code",
   "execution_count": 11,
   "metadata": {},
   "outputs": [],
   "source": [
    "voxels = xyz.copy()\n",
    "voxels[:, :2] = ((xyz[:, :2] - minp[:2]) // voxel_size).astype(int)"
   ]
  },
  {
   "cell_type": "code",
   "execution_count": 12,
   "metadata": {},
   "outputs": [
    {
     "data": {
      "text/plain": [
       "array([21, 30])"
      ]
     },
     "execution_count": 12,
     "metadata": {},
     "output_type": "execute_result"
    }
   ],
   "source": [
    "# Anzahl der Voxel checken\n",
    "np.ceil((maxp[:2] - minp[:2]) / voxel_size).astype(int)"
   ]
  },
  {
   "cell_type": "code",
   "execution_count": 13,
   "metadata": {},
   "outputs": [],
   "source": [
    "from collections import defaultdict\n",
    "voxel_dict = defaultdict(list)\n",
    "index_dict = defaultdict(list)\n",
    "\n",
    "# Füllen des Dictionaries\n",
    "for idx, (point, voxel) in enumerate(zip(xyz, voxels)):\n",
    "    voxel_key = tuple(voxel[:2])\n",
    "    voxel_dict[voxel_key].append(point[2])\n",
    "    index_dict[voxel_key].append(idx)"
   ]
  },
  {
   "cell_type": "code",
   "execution_count": 14,
   "metadata": {},
   "outputs": [],
   "source": [
    "for key, z_values in voxel_dict.items():\n",
    "    \n",
    "    # Threshold on number of points in voxel\n",
    "    if len(z_values) < minimum_points:\n",
    "        continue\n",
    "\n",
    "    indices = np.array(index_dict[key])\n",
    "    z_values = np.array(z_values)\n",
    "    ground_level = np.percentile(z_values, 10) # 10% Percentile\n",
    "    # Check that there are almost no points 0.5 to 4.5 m above the ground\n",
    "    # But allow for some noise\n",
    "    # thresh = 3 # Der einfachheit halber oben\n",
    "    count = ((z_values > ground_level + 0.5) & (z_values < ground_level + 4.5)).sum()\n",
    "\n",
    "    if count <= thresh:\n",
    "        # Look for points within 0.5 m above ground and get 98% percentile ODER 99.5\n",
    "        mask = (z_values > ground_level) & (z_values < ground_level + 0.5)\n",
    "        try:\n",
    "            candidates_top = np.percentile(z_values[mask], 99.5)\n",
    "        except IndexError:\n",
    "            # Fails if there are no points in the masked array\n",
    "            continue\n",
    "\n",
    "        # Oude Elberink require the height difference > 0.1 m\n",
    "        # And mark only the points 10 cm below the top as rail point candidates\n",
    "        if candidates_top - ground_level > 0.1:\n",
    "            mask = (z_values > candidates_top - 0.1) & (z_values < candidates_top + 0.05)\n",
    "\n",
    "            # Also make sure these are only a minority of the points (otherwise it's a slope)\n",
    "            if mask.sum() < majority_tresh * len(z_values):  # z.B. 0.3\n",
    "                points['Classification'][indices[mask]] = RAIL"
   ]
  },
  {
   "cell_type": "code",
   "execution_count": 15,
   "metadata": {},
   "outputs": [
    {
     "data": {
      "text/plain": [
       "(5415,)"
      ]
     },
     "execution_count": 15,
     "metadata": {},
     "output_type": "execute_result"
    }
   ],
   "source": [
    "candidates = points[points[\"Classification\"] == RAIL]\n",
    "candidates.shape"
   ]
  },
  {
   "cell_type": "code",
   "execution_count": 16,
   "metadata": {},
   "outputs": [
    {
     "name": "stdout",
     "output_type": "stream",
     "text": [
      "[{\"type\": \"filters.outlier\", \"method\": \"statistical\", \"mean_k\": 10, \"multiplier\": 2.0, \"tag\": \"filters_outlier1\"}, {\"type\": \"filters.range\", \"limits\": \"Classification![7:7]\", \"tag\": \"filters_range1\"}]\n"
     ]
    },
    {
     "data": {
      "text/plain": [
       "(5296,)"
      ]
     },
     "execution_count": 16,
     "metadata": {},
     "output_type": "execute_result"
    }
   ],
   "source": [
    "# filters.outlier sets Classification to 7, filters.range removes the points with Classification 7\n",
    "\n",
    "noise_filter = pdal.Filter(\"filters.outlier\", method=\"statistical\", mean_k=10, multiplier=2.0).pipeline(candidates) | pdal.Filter(\"filters.range\", limits=\"Classification![7:7]\")\n",
    "print(noise_filter.toJSON())\n",
    "noise_filter.execute()\n",
    "candidates = noise_filter.arrays[0]\n",
    "candidates.shape "
   ]
  },
  {
   "cell_type": "markdown",
   "metadata": {},
   "source": [
    "## Schreiben und lesen testen\n",
    "### LAZ"
   ]
  },
  {
   "cell_type": "code",
   "execution_count": 17,
   "metadata": {},
   "outputs": [
    {
     "name": "stdout",
     "output_type": "stream",
     "text": [
      "Time: 0.006429433822631836\n"
     ]
    }
   ],
   "source": [
    "start = time.time()\n",
    "out_pipeline = pdal.Writer(\"test.laz\").pipeline(candidates[['X', 'Y', 'Z', 'Intensity']])\n",
    "out_pipeline.execute()\n",
    "print(\"Time:\", time.time() - start)"
   ]
  },
  {
   "cell_type": "code",
   "execution_count": 18,
   "metadata": {},
   "outputs": [
    {
     "data": {
      "text/plain": [
       "24976"
      ]
     },
     "execution_count": 18,
     "metadata": {},
     "output_type": "execute_result"
    }
   ],
   "source": [
    "os.path.getsize(\"test.laz\")"
   ]
  },
  {
   "cell_type": "code",
   "execution_count": 19,
   "metadata": {},
   "outputs": [
    {
     "name": "stdout",
     "output_type": "stream",
     "text": [
      "Time: 0.010869503021240234\n"
     ]
    }
   ],
   "source": [
    "start = time.time()\n",
    "pipeline = pdal.Pipeline([pdal.Reader(\"test.laz\")])\n",
    "pipeline.execute()\n",
    "test = pipeline.arrays[0]\n",
    "print(\"Time:\", time.time() - start)\n"
   ]
  },
  {
   "cell_type": "code",
   "execution_count": 20,
   "metadata": {},
   "outputs": [
    {
     "data": {
      "text/plain": [
       "np.False_"
      ]
     },
     "execution_count": 20,
     "metadata": {},
     "output_type": "execute_result"
    }
   ],
   "source": [
    "# Ohne Anpassung von scale und offset gehen die Nachkommastellen bis auf die erste verloren\n",
    "(test[\"X\"] == candidates[\"X\"]).all()"
   ]
  },
  {
   "cell_type": "markdown",
   "metadata": {},
   "source": [
    "### PLY"
   ]
  },
  {
   "cell_type": "code",
   "execution_count": 21,
   "metadata": {},
   "outputs": [
    {
     "name": "stdout",
     "output_type": "stream",
     "text": [
      "Time: 0.004980802536010742\n"
     ]
    }
   ],
   "source": [
    "start = time.time()\n",
    "out_pipeline = pdal.Writer(\"test.ply\", storage_mode=\"little endian\").pipeline(candidates[['X', 'Y', 'Z', 'Intensity']])\n",
    "s = out_pipeline.execute()\n",
    "print(\"Time:\", time.time() - start)"
   ]
  },
  {
   "cell_type": "code",
   "execution_count": 33,
   "metadata": {},
   "outputs": [
    {
     "name": "stdout",
     "output_type": "stream",
     "text": [
      "Time: 0.0033385753631591797\n"
     ]
    }
   ],
   "source": [
    "# Externe Platte\n",
    "\n",
    "start = time.time()\n",
    "out_pipeline = pdal.Writer(\"/media/riannek/minimax/gleis/temp/test.ply\", storage_mode=\"little endian\").pipeline(candidates[['X', 'Y', 'Z', 'Intensity']])\n",
    "s = out_pipeline.execute()\n",
    "print(\"Time:\", time.time() - start)"
   ]
  },
  {
   "cell_type": "code",
   "execution_count": 22,
   "metadata": {},
   "outputs": [
    {
     "data": {
      "text/plain": [
       "5296"
      ]
     },
     "execution_count": 22,
     "metadata": {},
     "output_type": "execute_result"
    }
   ],
   "source": [
    "s "
   ]
  },
  {
   "cell_type": "code",
   "execution_count": 23,
   "metadata": {},
   "outputs": [
    {
     "data": {
      "text/plain": [
       "137872"
      ]
     },
     "execution_count": 23,
     "metadata": {},
     "output_type": "execute_result"
    }
   ],
   "source": [
    "os.path.getsize(\"test.ply\")"
   ]
  },
  {
   "cell_type": "markdown",
   "metadata": {},
   "source": [
    "ply (binär) ist etwas schneller zu lesen/schreiben, deutlich größer, aber OK, alle Nachkommastellen sind da"
   ]
  },
  {
   "cell_type": "code",
   "execution_count": 24,
   "metadata": {},
   "outputs": [
    {
     "name": "stdout",
     "output_type": "stream",
     "text": [
      "Time: 0.0027709007263183594\n"
     ]
    },
    {
     "data": {
      "text/plain": [
       "array([(4473645.7970327, 5337995.13721208, 510.25114071,  9766),\n",
       "       (4473648.5562327, 5337991.89991208, 510.25364071, 12079),\n",
       "       (4473648.5260327, 5337991.97131208, 510.16794071, 12593), ...,\n",
       "       (4473641.3519327, 5337994.18871208, 510.23544071, 11565),\n",
       "       (4473640.1381327, 5337997.44181208, 510.13594071, 12079),\n",
       "       (4473644.9549327, 5337991.57071208, 510.16414071, 20560)],\n",
       "      dtype=[('X', '<f8'), ('Y', '<f8'), ('Z', '<f8'), ('Intensity', '<u2')])"
      ]
     },
     "execution_count": 24,
     "metadata": {},
     "output_type": "execute_result"
    }
   ],
   "source": [
    "start = time.time()\n",
    "pipeline = pdal.Pipeline([pdal.Reader(\"test.ply\")])\n",
    "pipeline.execute()\n",
    "test = pipeline.arrays[0]\n",
    "print(\"Time:\", time.time() - start)\n",
    "test "
   ]
  },
  {
   "cell_type": "code",
   "execution_count": 25,
   "metadata": {},
   "outputs": [
    {
     "data": {
      "text/plain": [
       "np.True_"
      ]
     },
     "execution_count": 25,
     "metadata": {},
     "output_type": "execute_result"
    }
   ],
   "source": [
    "(test[\"X\"] == candidates[\"X\"]).all()"
   ]
  },
  {
   "cell_type": "markdown",
   "metadata": {},
   "source": [
    "### PCD\n",
    "Auch hier gehen z.T. Kommastellen verloren"
   ]
  },
  {
   "cell_type": "code",
   "execution_count": 26,
   "metadata": {},
   "outputs": [
    {
     "name": "stdout",
     "output_type": "stream",
     "text": [
      "Time: 0.002439260482788086\n"
     ]
    }
   ],
   "source": [
    "start = time.time()\n",
    "out_pipeline = pdal.Writer(\"test.pcd\", compression=\"binary\").pipeline(candidates[['X', 'Y', 'Z', 'Intensity']])\n",
    "out_pipeline.execute()\n",
    "print(\"Time:\", time.time() - start)"
   ]
  },
  {
   "cell_type": "code",
   "execution_count": 27,
   "metadata": {},
   "outputs": [
    {
     "data": {
      "text/plain": [
       "106077"
      ]
     },
     "execution_count": 27,
     "metadata": {},
     "output_type": "execute_result"
    }
   ],
   "source": [
    "os.path.getsize(\"test.pcd\")"
   ]
  },
  {
   "cell_type": "code",
   "execution_count": 28,
   "metadata": {},
   "outputs": [
    {
     "name": "stdout",
     "output_type": "stream",
     "text": [
      "Time: 0.0015687942504882812\n"
     ]
    },
    {
     "data": {
      "text/plain": [
       "array([(4473646. , 5337995. , 510.25112915,  9766.),\n",
       "       (4473648.5, 5337992. , 510.25363159, 12079.),\n",
       "       (4473648.5, 5337992. , 510.16793823, 12593.), ...,\n",
       "       (4473641.5, 5337994. , 510.23544312, 11565.),\n",
       "       (4473640. , 5337997.5, 510.13595581, 12079.),\n",
       "       (4473645. , 5337991.5, 510.16415405, 20560.)],\n",
       "      dtype=[('X', '<f8'), ('Y', '<f8'), ('Z', '<f8'), ('Intensity', '<f8')])"
      ]
     },
     "execution_count": 28,
     "metadata": {},
     "output_type": "execute_result"
    }
   ],
   "source": [
    "start = time.time()\n",
    "pipeline = pdal.Pipeline([pdal.Reader(\"test.pcd\")])\n",
    "pipeline.execute()\n",
    "test = pipeline.arrays[0]\n",
    "print(\"Time:\", time.time() - start)\n",
    "test "
   ]
  },
  {
   "cell_type": "code",
   "execution_count": 29,
   "metadata": {},
   "outputs": [
    {
     "data": {
      "text/plain": [
       "np.False_"
      ]
     },
     "execution_count": 29,
     "metadata": {},
     "output_type": "execute_result"
    }
   ],
   "source": [
    "(test[\"X\"] == candidates[\"X\"]).all()"
   ]
  },
  {
   "cell_type": "code",
   "execution_count": 30,
   "metadata": {},
   "outputs": [
    {
     "data": {
      "text/plain": [
       "'4473625_5337975/.ply'"
      ]
     },
     "execution_count": 30,
     "metadata": {},
     "output_type": "execute_result"
    }
   ],
   "source": [
    "os.path.join(\n",
    "os.path.basename(filename).split(\".\")[0], \".ply\") "
   ]
  },
  {
   "cell_type": "markdown",
   "metadata": {},
   "source": [
    "## Noisefilter und PLY in einer Pipeline"
   ]
  },
  {
   "cell_type": "code",
   "execution_count": 31,
   "metadata": {},
   "outputs": [
    {
     "data": {
      "text/plain": [
       "5063"
      ]
     },
     "execution_count": 31,
     "metadata": {},
     "output_type": "execute_result"
    }
   ],
   "source": [
    "out_pipeline = pdal.Filter(\"filters.outlier\", method=\"statistical\", mean_k=10, multiplier=2.0).pipeline(candidates[['X', 'Y', 'Z', 'Intensity']]) | pdal.Filter(\"filters.range\", limits=\"Classification![7:7]\") | pdal.Writer(\"test.ply\", storage_mode=\"little endian\")\n",
    "out_pipeline.execute()\n",
    "\n"
   ]
  },
  {
   "cell_type": "code",
   "execution_count": 32,
   "metadata": {},
   "outputs": [
    {
     "ename": "KeyError",
     "evalue": "'readers.copc'",
     "output_type": "error",
     "traceback": [
      "\u001b[0;31m---------------------------------------------------------------------------\u001b[0m",
      "\u001b[0;31mKeyError\u001b[0m                                  Traceback (most recent call last)",
      "Cell \u001b[0;32mIn[32], line 1\u001b[0m\n\u001b[0;32m----> 1\u001b[0m \u001b[43mpipeline\u001b[49m\u001b[38;5;241;43m.\u001b[39;49m\u001b[43mmetadata\u001b[49m\u001b[43m[\u001b[49m\u001b[38;5;124;43m'\u001b[39;49m\u001b[38;5;124;43mmetadata\u001b[39;49m\u001b[38;5;124;43m'\u001b[39;49m\u001b[43m]\u001b[49m\u001b[43m[\u001b[49m\u001b[38;5;124;43m'\u001b[39;49m\u001b[38;5;124;43mreaders.copc\u001b[39;49m\u001b[38;5;124;43m'\u001b[39;49m\u001b[43m]\u001b[49m[\u001b[38;5;124m'\u001b[39m\u001b[38;5;124msrs\u001b[39m\u001b[38;5;124m'\u001b[39m][\u001b[38;5;124m'\u001b[39m\u001b[38;5;124mjson\u001b[39m\u001b[38;5;124m'\u001b[39m][\u001b[38;5;124m'\u001b[39m\u001b[38;5;124mid\u001b[39m\u001b[38;5;124m'\u001b[39m]\n",
      "\u001b[0;31mKeyError\u001b[0m: 'readers.copc'"
     ]
    }
   ],
   "source": [
    "pipeline.metadata['metadata']['readers.copc']['srs']['json']['id']"
   ]
  },
  {
   "cell_type": "code",
   "execution_count": null,
   "metadata": {},
   "outputs": [],
   "source": []
  }
 ],
 "metadata": {
  "kernelspec": {
   "display_name": "points",
   "language": "python",
   "name": "points"
  },
  "language_info": {
   "codemirror_mode": {
    "name": "ipython",
    "version": 3
   },
   "file_extension": ".py",
   "mimetype": "text/x-python",
   "name": "python",
   "nbconvert_exporter": "python",
   "pygments_lexer": "ipython3",
   "version": "3.9.21"
  }
 },
 "nbformat": 4,
 "nbformat_minor": 2
}
