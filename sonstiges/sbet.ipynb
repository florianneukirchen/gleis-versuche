{
 "cells": [
  {
   "cell_type": "markdown",
   "id": "1ca44d7f",
   "metadata": {},
   "source": [
    "# SBET - Smoothed Best Estimate of Trajectory\n",
    "Sowohl mit geopandas als auch mit pyproj.Transformer wird die Höhe nicht umgerechnet???"
   ]
  },
  {
   "cell_type": "code",
   "execution_count": 1,
   "id": "31c4f803",
   "metadata": {},
   "outputs": [],
   "source": [
    "import pdal \n",
    "import numpy as np\n",
    "import os\n",
    "import pandas as pd\n",
    "import geopandas as gpd\n",
    "from pyproj import Transformer "
   ]
  },
  {
   "cell_type": "code",
   "execution_count": 2,
   "id": "d93800be",
   "metadata": {},
   "outputs": [
    {
     "data": {
      "text/plain": [
       "dtype([('GpsTime', '<f8'), ('Y', '<f8'), ('X', '<f8'), ('Z', '<f8'), ('XVelocity', '<f8'), ('YVelocity', '<f8'), ('ZVelocity', '<f8'), ('Roll', '<f4'), ('Pitch', '<f4'), ('Azimuth', '<f8'), ('WanderAngle', '<f8'), ('XBodyAccel', '<f8'), ('YBodyAccel', '<f8'), ('ZBodyAccel', '<f8'), ('XBodyAngRate', '<f8'), ('YBodyAngRate', '<f8'), ('ZBodyAngRate', '<f8')])"
      ]
     },
     "execution_count": 2,
     "metadata": {},
     "output_type": "execute_result"
    }
   ],
   "source": [
    "filename = 'sbet_merge_merged_2.out'\n",
    "folder = '/media/riannek/minimax/gleis/gps/run24'\n",
    "\n",
    "pipeline = pdal.Pipeline([pdal.Reader(os.path.join(folder, filename), tag=\"input1\", type=\"readers.sbet\")])\n",
    "pipeline.execute()\n",
    "points = pipeline.arrays[0]\n",
    "points.dtype # Column names and types"
   ]
  },
  {
   "cell_type": "code",
   "execution_count": 3,
   "id": "b98e0d1f",
   "metadata": {},
   "outputs": [
    {
     "data": {
      "text/html": [
       "<div>\n",
       "<style scoped>\n",
       "    .dataframe tbody tr th:only-of-type {\n",
       "        vertical-align: middle;\n",
       "    }\n",
       "\n",
       "    .dataframe tbody tr th {\n",
       "        vertical-align: top;\n",
       "    }\n",
       "\n",
       "    .dataframe thead th {\n",
       "        text-align: right;\n",
       "    }\n",
       "</style>\n",
       "<table border=\"1\" class=\"dataframe\">\n",
       "  <thead>\n",
       "    <tr style=\"text-align: right;\">\n",
       "      <th></th>\n",
       "      <th>GpsTime</th>\n",
       "      <th>Y</th>\n",
       "      <th>X</th>\n",
       "      <th>Z</th>\n",
       "      <th>XVelocity</th>\n",
       "      <th>YVelocity</th>\n",
       "      <th>ZVelocity</th>\n",
       "      <th>Roll</th>\n",
       "      <th>Pitch</th>\n",
       "      <th>Azimuth</th>\n",
       "      <th>WanderAngle</th>\n",
       "      <th>XBodyAccel</th>\n",
       "      <th>YBodyAccel</th>\n",
       "      <th>ZBodyAccel</th>\n",
       "      <th>XBodyAngRate</th>\n",
       "      <th>YBodyAngRate</th>\n",
       "      <th>ZBodyAngRate</th>\n",
       "    </tr>\n",
       "  </thead>\n",
       "  <tbody>\n",
       "    <tr>\n",
       "      <th>0</th>\n",
       "      <td>199390.055789</td>\n",
       "      <td>48.195315</td>\n",
       "      <td>11.505046</td>\n",
       "      <td>550.499792</td>\n",
       "      <td>-0.015664</td>\n",
       "      <td>-0.100388</td>\n",
       "      <td>0.004476</td>\n",
       "      <td>-0.531755</td>\n",
       "      <td>-0.807040</td>\n",
       "      <td>309.406218</td>\n",
       "      <td>0.0</td>\n",
       "      <td>-0.103675</td>\n",
       "      <td>0.057052</td>\n",
       "      <td>-0.017389</td>\n",
       "      <td>-0.230186</td>\n",
       "      <td>-0.118725</td>\n",
       "      <td>0.216647</td>\n",
       "    </tr>\n",
       "    <tr>\n",
       "      <th>1</th>\n",
       "      <td>199390.060798</td>\n",
       "      <td>48.195315</td>\n",
       "      <td>11.505046</td>\n",
       "      <td>550.499722</td>\n",
       "      <td>-0.015617</td>\n",
       "      <td>-0.099892</td>\n",
       "      <td>0.004619</td>\n",
       "      <td>-0.532249</td>\n",
       "      <td>-0.807146</td>\n",
       "      <td>309.406615</td>\n",
       "      <td>0.0</td>\n",
       "      <td>-0.024763</td>\n",
       "      <td>-0.065341</td>\n",
       "      <td>-0.067080</td>\n",
       "      <td>-0.097806</td>\n",
       "      <td>-0.021781</td>\n",
       "      <td>0.079136</td>\n",
       "    </tr>\n",
       "    <tr>\n",
       "      <th>2</th>\n",
       "      <td>199390.065798</td>\n",
       "      <td>48.195315</td>\n",
       "      <td>11.505046</td>\n",
       "      <td>550.499659</td>\n",
       "      <td>-0.015199</td>\n",
       "      <td>-0.099427</td>\n",
       "      <td>0.004673</td>\n",
       "      <td>-0.531709</td>\n",
       "      <td>-0.806434</td>\n",
       "      <td>309.405933</td>\n",
       "      <td>0.0</td>\n",
       "      <td>0.009842</td>\n",
       "      <td>-0.025161</td>\n",
       "      <td>-0.075227</td>\n",
       "      <td>0.105897</td>\n",
       "      <td>0.143775</td>\n",
       "      <td>-0.134911</td>\n",
       "    </tr>\n",
       "    <tr>\n",
       "      <th>3</th>\n",
       "      <td>199390.070799</td>\n",
       "      <td>48.195315</td>\n",
       "      <td>11.505046</td>\n",
       "      <td>550.499702</td>\n",
       "      <td>-0.014846</td>\n",
       "      <td>-0.099716</td>\n",
       "      <td>0.004733</td>\n",
       "      <td>-0.531104</td>\n",
       "      <td>-0.805610</td>\n",
       "      <td>309.405393</td>\n",
       "      <td>0.0</td>\n",
       "      <td>-0.100881</td>\n",
       "      <td>0.131971</td>\n",
       "      <td>-0.020714</td>\n",
       "      <td>0.119401</td>\n",
       "      <td>0.165830</td>\n",
       "      <td>-0.106522</td>\n",
       "    </tr>\n",
       "    <tr>\n",
       "      <th>4</th>\n",
       "      <td>199390.075799</td>\n",
       "      <td>48.195315</td>\n",
       "      <td>11.505046</td>\n",
       "      <td>550.499745</td>\n",
       "      <td>-0.014841</td>\n",
       "      <td>-0.100557</td>\n",
       "      <td>0.005076</td>\n",
       "      <td>-0.531129</td>\n",
       "      <td>-0.805565</td>\n",
       "      <td>309.405562</td>\n",
       "      <td>0.0</td>\n",
       "      <td>-0.207546</td>\n",
       "      <td>0.174118</td>\n",
       "      <td>-0.005978</td>\n",
       "      <td>-0.004612</td>\n",
       "      <td>0.008719</td>\n",
       "      <td>0.033830</td>\n",
       "    </tr>\n",
       "  </tbody>\n",
       "</table>\n",
       "</div>"
      ],
      "text/plain": [
       "         GpsTime          Y          X           Z  XVelocity  YVelocity  \\\n",
       "0  199390.055789  48.195315  11.505046  550.499792  -0.015664  -0.100388   \n",
       "1  199390.060798  48.195315  11.505046  550.499722  -0.015617  -0.099892   \n",
       "2  199390.065798  48.195315  11.505046  550.499659  -0.015199  -0.099427   \n",
       "3  199390.070799  48.195315  11.505046  550.499702  -0.014846  -0.099716   \n",
       "4  199390.075799  48.195315  11.505046  550.499745  -0.014841  -0.100557   \n",
       "\n",
       "   ZVelocity      Roll     Pitch     Azimuth  WanderAngle  XBodyAccel  \\\n",
       "0   0.004476 -0.531755 -0.807040  309.406218          0.0   -0.103675   \n",
       "1   0.004619 -0.532249 -0.807146  309.406615          0.0   -0.024763   \n",
       "2   0.004673 -0.531709 -0.806434  309.405933          0.0    0.009842   \n",
       "3   0.004733 -0.531104 -0.805610  309.405393          0.0   -0.100881   \n",
       "4   0.005076 -0.531129 -0.805565  309.405562          0.0   -0.207546   \n",
       "\n",
       "   YBodyAccel  ZBodyAccel  XBodyAngRate  YBodyAngRate  ZBodyAngRate  \n",
       "0    0.057052   -0.017389     -0.230186     -0.118725      0.216647  \n",
       "1   -0.065341   -0.067080     -0.097806     -0.021781      0.079136  \n",
       "2   -0.025161   -0.075227      0.105897      0.143775     -0.134911  \n",
       "3    0.131971   -0.020714      0.119401      0.165830     -0.106522  \n",
       "4    0.174118   -0.005978     -0.004612      0.008719      0.033830  "
      ]
     },
     "execution_count": 3,
     "metadata": {},
     "output_type": "execute_result"
    }
   ],
   "source": [
    "df = pd.DataFrame(points)\n",
    "df.head()"
   ]
  },
  {
   "cell_type": "code",
   "execution_count": null,
   "id": "6d79fa1d",
   "metadata": {},
   "outputs": [],
   "source": []
  },
  {
   "cell_type": "code",
   "execution_count": null,
   "id": "28d9f6ee",
   "metadata": {},
   "outputs": [],
   "source": []
  },
  {
   "cell_type": "code",
   "execution_count": 4,
   "id": "62af3cd1",
   "metadata": {},
   "outputs": [
    {
     "data": {
      "text/plain": [
       "(5572516,)"
      ]
     },
     "execution_count": 4,
     "metadata": {},
     "output_type": "execute_result"
    }
   ],
   "source": [
    "points.shape "
   ]
  },
  {
   "cell_type": "code",
   "execution_count": 5,
   "id": "e7d6fa0c",
   "metadata": {},
   "outputs": [],
   "source": [
    "transformer = Transformer.from_crs(\"EPSG:4326\", \"EPSG:5684\", always_xy=True)"
   ]
  },
  {
   "cell_type": "code",
   "execution_count": 6,
   "id": "df8ca41f",
   "metadata": {},
   "outputs": [],
   "source": [
    "xyz = np.array([df['X'], df['Y'], df['Z']]).T\n",
    "\n",
    "for i in range(xyz.shape[0]):\n",
    "    xyz[i] = transformer.transform(*xyz[i])"
   ]
  },
  {
   "cell_type": "code",
   "execution_count": 7,
   "id": "b255721f",
   "metadata": {},
   "outputs": [
    {
     "data": {
      "text/html": [
       "<div>\n",
       "<style scoped>\n",
       "    .dataframe tbody tr th:only-of-type {\n",
       "        vertical-align: middle;\n",
       "    }\n",
       "\n",
       "    .dataframe tbody tr th {\n",
       "        vertical-align: top;\n",
       "    }\n",
       "\n",
       "    .dataframe thead th {\n",
       "        text-align: right;\n",
       "    }\n",
       "</style>\n",
       "<table border=\"1\" class=\"dataframe\">\n",
       "  <thead>\n",
       "    <tr style=\"text-align: right;\">\n",
       "      <th></th>\n",
       "      <th>GpsTime</th>\n",
       "      <th>Y</th>\n",
       "      <th>X</th>\n",
       "      <th>Z</th>\n",
       "      <th>XVelocity</th>\n",
       "      <th>YVelocity</th>\n",
       "      <th>ZVelocity</th>\n",
       "      <th>Roll</th>\n",
       "      <th>Pitch</th>\n",
       "      <th>Azimuth</th>\n",
       "      <th>WanderAngle</th>\n",
       "      <th>XBodyAccel</th>\n",
       "      <th>YBodyAccel</th>\n",
       "      <th>ZBodyAccel</th>\n",
       "      <th>XBodyAngRate</th>\n",
       "      <th>YBodyAngRate</th>\n",
       "      <th>ZBodyAngRate</th>\n",
       "      <th>geometry</th>\n",
       "    </tr>\n",
       "  </thead>\n",
       "  <tbody>\n",
       "    <tr>\n",
       "      <th>0</th>\n",
       "      <td>199390.055789</td>\n",
       "      <td>48.195315</td>\n",
       "      <td>11.505046</td>\n",
       "      <td>550.499792</td>\n",
       "      <td>-0.015664</td>\n",
       "      <td>-0.100388</td>\n",
       "      <td>0.004476</td>\n",
       "      <td>-0.531755</td>\n",
       "      <td>-0.807040</td>\n",
       "      <td>309.406218</td>\n",
       "      <td>0.0</td>\n",
       "      <td>-0.103675</td>\n",
       "      <td>0.057052</td>\n",
       "      <td>-0.017389</td>\n",
       "      <td>-0.230186</td>\n",
       "      <td>-0.118725</td>\n",
       "      <td>0.216647</td>\n",
       "      <td>POINT Z (4463311.002 5339821.304 550.5)</td>\n",
       "    </tr>\n",
       "    <tr>\n",
       "      <th>1</th>\n",
       "      <td>199390.060798</td>\n",
       "      <td>48.195315</td>\n",
       "      <td>11.505046</td>\n",
       "      <td>550.499722</td>\n",
       "      <td>-0.015617</td>\n",
       "      <td>-0.099892</td>\n",
       "      <td>0.004619</td>\n",
       "      <td>-0.532249</td>\n",
       "      <td>-0.807146</td>\n",
       "      <td>309.406615</td>\n",
       "      <td>0.0</td>\n",
       "      <td>-0.024763</td>\n",
       "      <td>-0.065341</td>\n",
       "      <td>-0.067080</td>\n",
       "      <td>-0.097806</td>\n",
       "      <td>-0.021781</td>\n",
       "      <td>0.079136</td>\n",
       "      <td>POINT Z (4463311.005 5339821.304 550.5)</td>\n",
       "    </tr>\n",
       "    <tr>\n",
       "      <th>2</th>\n",
       "      <td>199390.065798</td>\n",
       "      <td>48.195315</td>\n",
       "      <td>11.505046</td>\n",
       "      <td>550.499659</td>\n",
       "      <td>-0.015199</td>\n",
       "      <td>-0.099427</td>\n",
       "      <td>0.004673</td>\n",
       "      <td>-0.531709</td>\n",
       "      <td>-0.806434</td>\n",
       "      <td>309.405933</td>\n",
       "      <td>0.0</td>\n",
       "      <td>0.009842</td>\n",
       "      <td>-0.025161</td>\n",
       "      <td>-0.075227</td>\n",
       "      <td>0.105897</td>\n",
       "      <td>0.143775</td>\n",
       "      <td>-0.134911</td>\n",
       "      <td>POINT Z (4463311.008 5339821.304 550.5)</td>\n",
       "    </tr>\n",
       "    <tr>\n",
       "      <th>3</th>\n",
       "      <td>199390.070799</td>\n",
       "      <td>48.195315</td>\n",
       "      <td>11.505046</td>\n",
       "      <td>550.499702</td>\n",
       "      <td>-0.014846</td>\n",
       "      <td>-0.099716</td>\n",
       "      <td>0.004733</td>\n",
       "      <td>-0.531104</td>\n",
       "      <td>-0.805610</td>\n",
       "      <td>309.405393</td>\n",
       "      <td>0.0</td>\n",
       "      <td>-0.100881</td>\n",
       "      <td>0.131971</td>\n",
       "      <td>-0.020714</td>\n",
       "      <td>0.119401</td>\n",
       "      <td>0.165830</td>\n",
       "      <td>-0.106522</td>\n",
       "      <td>POINT Z (4463311.008 5339821.304 550.5)</td>\n",
       "    </tr>\n",
       "    <tr>\n",
       "      <th>4</th>\n",
       "      <td>199390.075799</td>\n",
       "      <td>48.195315</td>\n",
       "      <td>11.505046</td>\n",
       "      <td>550.499745</td>\n",
       "      <td>-0.014841</td>\n",
       "      <td>-0.100557</td>\n",
       "      <td>0.005076</td>\n",
       "      <td>-0.531129</td>\n",
       "      <td>-0.805565</td>\n",
       "      <td>309.405562</td>\n",
       "      <td>0.0</td>\n",
       "      <td>-0.207546</td>\n",
       "      <td>0.174118</td>\n",
       "      <td>-0.005978</td>\n",
       "      <td>-0.004612</td>\n",
       "      <td>0.008719</td>\n",
       "      <td>0.033830</td>\n",
       "      <td>POINT Z (4463311.009 5339821.304 550.5)</td>\n",
       "    </tr>\n",
       "  </tbody>\n",
       "</table>\n",
       "</div>"
      ],
      "text/plain": [
       "         GpsTime          Y          X           Z  XVelocity  YVelocity  \\\n",
       "0  199390.055789  48.195315  11.505046  550.499792  -0.015664  -0.100388   \n",
       "1  199390.060798  48.195315  11.505046  550.499722  -0.015617  -0.099892   \n",
       "2  199390.065798  48.195315  11.505046  550.499659  -0.015199  -0.099427   \n",
       "3  199390.070799  48.195315  11.505046  550.499702  -0.014846  -0.099716   \n",
       "4  199390.075799  48.195315  11.505046  550.499745  -0.014841  -0.100557   \n",
       "\n",
       "   ZVelocity      Roll     Pitch     Azimuth  WanderAngle  XBodyAccel  \\\n",
       "0   0.004476 -0.531755 -0.807040  309.406218          0.0   -0.103675   \n",
       "1   0.004619 -0.532249 -0.807146  309.406615          0.0   -0.024763   \n",
       "2   0.004673 -0.531709 -0.806434  309.405933          0.0    0.009842   \n",
       "3   0.004733 -0.531104 -0.805610  309.405393          0.0   -0.100881   \n",
       "4   0.005076 -0.531129 -0.805565  309.405562          0.0   -0.207546   \n",
       "\n",
       "   YBodyAccel  ZBodyAccel  XBodyAngRate  YBodyAngRate  ZBodyAngRate  \\\n",
       "0    0.057052   -0.017389     -0.230186     -0.118725      0.216647   \n",
       "1   -0.065341   -0.067080     -0.097806     -0.021781      0.079136   \n",
       "2   -0.025161   -0.075227      0.105897      0.143775     -0.134911   \n",
       "3    0.131971   -0.020714      0.119401      0.165830     -0.106522   \n",
       "4    0.174118   -0.005978     -0.004612      0.008719      0.033830   \n",
       "\n",
       "                                  geometry  \n",
       "0  POINT Z (4463311.002 5339821.304 550.5)  \n",
       "1  POINT Z (4463311.005 5339821.304 550.5)  \n",
       "2  POINT Z (4463311.008 5339821.304 550.5)  \n",
       "3  POINT Z (4463311.008 5339821.304 550.5)  \n",
       "4  POINT Z (4463311.009 5339821.304 550.5)  "
      ]
     },
     "execution_count": 7,
     "metadata": {},
     "output_type": "execute_result"
    }
   ],
   "source": [
    "geometry = gpd.points_from_xy(x=xyz[:,0], y=xyz[:,1], z=xyz[:,2], crs='EPSG:5684')\n",
    "gdf = gpd.GeoDataFrame(df, geometry=geometry)\n",
    "gdf.head()"
   ]
  },
  {
   "cell_type": "code",
   "execution_count": null,
   "id": "b055da4d",
   "metadata": {},
   "outputs": [],
   "source": [
    "gdf.to_file(\"test.gpkg\", driver=\"GPKG\", layer='sbet')"
   ]
  },
  {
   "cell_type": "code",
   "execution_count": 10,
   "id": "7cc72406",
   "metadata": {},
   "outputs": [
    {
     "name": "stdout",
     "output_type": "stream",
     "text": [
      "11.505046168093596 48.1953151694577 550.4997917973492\n"
     ]
    }
   ],
   "source": [
    "pt = points[0]\n",
    "print(pt['X'], pt['Y'], pt['Z'])"
   ]
  },
  {
   "cell_type": "code",
   "execution_count": 11,
   "id": "b959fa33",
   "metadata": {},
   "outputs": [
    {
     "data": {
      "text/plain": [
       "(4463311.001699163, 5339821.304146841, 550.4997917973492)"
      ]
     },
     "execution_count": 11,
     "metadata": {},
     "output_type": "execute_result"
    }
   ],
   "source": [
    "transformer.transform(pt['X'], pt['Y'], pt['Z'])"
   ]
  },
  {
   "cell_type": "code",
   "execution_count": 12,
   "id": "96c43843",
   "metadata": {},
   "outputs": [
    {
     "data": {
      "text/plain": [
       "(4463311.001699163, 5339821.304146841, 550.4997917973492)"
      ]
     },
     "execution_count": 12,
     "metadata": {},
     "output_type": "execute_result"
    }
   ],
   "source": [
    "transformer2 = Transformer.from_crs(\"EPSG:4326\", \"EPSG:9934\", always_xy=True)\n",
    "transformer2.transform(pt['X'], pt['Y'], pt['Z'])"
   ]
  },
  {
   "cell_type": "code",
   "execution_count": null,
   "id": "7c76599d",
   "metadata": {},
   "outputs": [],
   "source": []
  }
 ],
 "metadata": {
  "kernelspec": {
   "display_name": "points",
   "language": "python",
   "name": "points"
  },
  "language_info": {
   "codemirror_mode": {
    "name": "ipython",
    "version": 3
   },
   "file_extension": ".py",
   "mimetype": "text/x-python",
   "name": "python",
   "nbconvert_exporter": "python",
   "pygments_lexer": "ipython3",
   "version": "3.9.21"
  }
 },
 "nbformat": 4,
 "nbformat_minor": 5
}
