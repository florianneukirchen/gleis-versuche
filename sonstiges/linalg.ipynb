{
 "cells": [
  {
   "cell_type": "markdown",
   "id": "3fe718e4",
   "metadata": {},
   "source": [
    "# Versuche mit Transformationen"
   ]
  },
  {
   "cell_type": "markdown",
   "id": "f0197824",
   "metadata": {},
   "source": []
  },
  {
   "cell_type": "code",
   "execution_count": 1,
   "id": "02bb8ecd",
   "metadata": {},
   "outputs": [],
   "source": [
    "import numpy as np"
   ]
  },
  {
   "cell_type": "code",
   "execution_count": 2,
   "id": "c7723a7e",
   "metadata": {},
   "outputs": [
    {
     "data": {
      "text/plain": [
       "array([[ 0.9932866 , -0.11430465, -0.01778151],\n",
       "       [ 0.11422393,  0.99343984, -0.00549424],\n",
       "       [ 0.01829287,  0.00342628,  0.9998268 ]])"
      ]
     },
     "execution_count": 2,
     "metadata": {},
     "output_type": "execute_result"
    }
   ],
   "source": [
    "R = np.array([[ 0.9932866 , -0.11430465, -0.01778151],\n",
    "       [ 0.11422393,  0.99343984, -0.00549424],\n",
    "       [ 0.01829287,  0.00342628,  0.9998268 ]])\n",
    "\n",
    "R  "
   ]
  },
  {
   "cell_type": "code",
   "execution_count": 4,
   "id": "70599112",
   "metadata": {},
   "outputs": [
    {
     "data": {
      "text/plain": [
       "array([[ 1.00000001e+00,  2.07530480e-09, -7.62101320e-09],\n",
       "       [ 2.07530480e-09,  1.00000001e+00, -1.06119610e-09],\n",
       "       [-7.62101320e-09, -1.06119610e-09,  9.99999999e-01]])"
      ]
     },
     "execution_count": 4,
     "metadata": {},
     "output_type": "execute_result"
    }
   ],
   "source": [
    "R.T @ R # Sollte Einheitsmatrix sein wenn reine Rotation"
   ]
  },
  {
   "cell_type": "code",
   "execution_count": 5,
   "id": "4d7ad05c",
   "metadata": {},
   "outputs": [
    {
     "data": {
      "text/plain": [
       "np.float64(1.0000000059459129)"
      ]
     },
     "execution_count": 5,
     "metadata": {},
     "output_type": "execute_result"
    }
   ],
   "source": [
    "np.linalg.det(R) # Determinante sollte 1 sein wenn reine Rotation"
   ]
  },
  {
   "cell_type": "code",
   "execution_count": 7,
   "id": "bb871052",
   "metadata": {},
   "outputs": [
    {
     "data": {
      "text/plain": [
       "(3,)"
      ]
     },
     "execution_count": 7,
     "metadata": {},
     "output_type": "execute_result"
    }
   ],
   "source": [
    "point = np.array([1, 0, 0])\n",
    "point.shape  "
   ]
  },
  {
   "cell_type": "code",
   "execution_count": 8,
   "id": "defca680",
   "metadata": {},
   "outputs": [
    {
     "data": {
      "text/plain": [
       "array([0.9932866 , 0.11422393, 0.01829287])"
      ]
     },
     "execution_count": 8,
     "metadata": {},
     "output_type": "execute_result"
    }
   ],
   "source": [
    "point @ R.T"
   ]
  },
  {
   "cell_type": "code",
   "execution_count": 10,
   "id": "204af51b",
   "metadata": {},
   "outputs": [
    {
     "data": {
      "text/plain": [
       "array([[0.9932866 ],\n",
       "       [0.11422393],\n",
       "       [0.01829287]])"
      ]
     },
     "execution_count": 10,
     "metadata": {},
     "output_type": "execute_result"
    }
   ],
   "source": [
    "R @ point.reshape(3, 1) # Umwandlung in Spaltenvektor"
   ]
  },
  {
   "cell_type": "code",
   "execution_count": 13,
   "id": "5781a8c2",
   "metadata": {},
   "outputs": [
    {
     "data": {
      "text/plain": [
       "(4, 3)"
      ]
     },
     "execution_count": 13,
     "metadata": {},
     "output_type": "execute_result"
    }
   ],
   "source": [
    "points = np.array([[1, 0, 0],\n",
    "                  [0, 1, 0],\n",
    "                  [0, 0, 1],\n",
    "                  [1, 1, 1]])\n",
    "points.shape "
   ]
  },
  {
   "cell_type": "code",
   "execution_count": 14,
   "id": "5c5f13a1",
   "metadata": {},
   "outputs": [
    {
     "data": {
      "text/plain": [
       "array([[ 0.9932866 ,  0.11422393,  0.01829287],\n",
       "       [-0.11430465,  0.99343984,  0.00342628],\n",
       "       [-0.01778151, -0.00549424,  0.9998268 ],\n",
       "       [ 0.86120044,  1.10216953,  1.02154595]])"
      ]
     },
     "execution_count": 14,
     "metadata": {},
     "output_type": "execute_result"
    }
   ],
   "source": [
    "points @ R.T  "
   ]
  },
  {
   "cell_type": "code",
   "execution_count": 15,
   "id": "bd32f2ff",
   "metadata": {},
   "outputs": [
    {
     "data": {
      "text/plain": [
       "array([[ 0.9932866 , -0.11430465, -0.01778151,  0.86120044],\n",
       "       [ 0.11422393,  0.99343984, -0.00549424,  1.10216953],\n",
       "       [ 0.01829287,  0.00342628,  0.9998268 ,  1.02154595]])"
      ]
     },
     "execution_count": 15,
     "metadata": {},
     "output_type": "execute_result"
    }
   ],
   "source": [
    "R @ points.T"
   ]
  },
  {
   "cell_type": "code",
   "execution_count": null,
   "id": "f5519fac",
   "metadata": {},
   "outputs": [],
   "source": []
  }
 ],
 "metadata": {
  "kernelspec": {
   "display_name": "points",
   "language": "python",
   "name": "points"
  },
  "language_info": {
   "codemirror_mode": {
    "name": "ipython",
    "version": 3
   },
   "file_extension": ".py",
   "mimetype": "text/x-python",
   "name": "python",
   "nbconvert_exporter": "python",
   "pygments_lexer": "ipython3",
   "version": "3.9.21"
  }
 },
 "nbformat": 4,
 "nbformat_minor": 5
}
