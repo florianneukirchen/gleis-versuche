{
 "cells": [
  {
   "cell_type": "code",
   "execution_count": 368,
   "metadata": {},
   "outputs": [],
   "source": [
    "import pdal \n",
    "from osgeo import gdal, osr\n",
    "import os \n",
    "import numpy as np\n",
    "\n",
    "gdal.UseExceptions()"
   ]
  },
  {
   "cell_type": "code",
   "execution_count": 369,
   "metadata": {},
   "outputs": [],
   "source": [
    "basedir = \"/media/riannek/minimax/gleis\"\n",
    "run24 = os.path.join(basedir, \"2024-08-13/01/run24/01\")\n",
    "run14 = os.path.join(basedir, \"2024-08-14/01/run14/01\")"
   ]
  },
  {
   "cell_type": "code",
   "execution_count": 393,
   "metadata": {},
   "outputs": [],
   "source": [
    "filename = \"4473900_5335875.copc.laz\"\n",
    "#filename = \"4473925_5335900.copc.laz\"\n",
    "filename=  \"4473550_5338225.copc.laz\"\n",
    "\n",
    "\n",
    "run = run14\n",
    "\n",
    "voxel_size = 1\n",
    "\n",
    "filename = os.path.join(run, filename)\n",
    "if not os.path.exists(filename):\n",
    "    raise FileNotFoundError(filename)"
   ]
  },
  {
   "cell_type": "code",
   "execution_count": 394,
   "metadata": {},
   "outputs": [],
   "source": [
    "pipeline = pdal.Pipeline([pdal.Reader(filename)])\n",
    "pipeline.execute()\n",
    "points = pipeline.arrays[0]"
   ]
  },
  {
   "cell_type": "code",
   "execution_count": 395,
   "metadata": {},
   "outputs": [
    {
     "data": {
      "text/plain": [
       "5684"
      ]
     },
     "execution_count": 395,
     "metadata": {},
     "output_type": "execute_result"
    }
   ],
   "source": [
    "# Get EPSG code\n",
    "\n",
    "def get_reader_name(metadata):\n",
    "    for key in metadata.keys():\n",
    "        if key.startswith(\"readers\"):\n",
    "            return key\n",
    "    return None\n",
    "\n",
    "metadata = pipeline.metadata['metadata']\n",
    "reader_name = get_reader_name(metadata)\n",
    "epsg = metadata[reader_name]['srs']['json']['id']['code']\n",
    "epsg "
   ]
  },
  {
   "cell_type": "code",
   "execution_count": 396,
   "metadata": {},
   "outputs": [],
   "source": [
    "xy = np.vstack((points['X'], points['Y'])).T"
   ]
  },
  {
   "cell_type": "code",
   "execution_count": 399,
   "metadata": {},
   "outputs": [
    {
     "data": {
      "text/plain": [
       "array([[4473574.93146878, 5338248.09948195]])"
      ]
     },
     "execution_count": 399,
     "metadata": {},
     "output_type": "execute_result"
    }
   ],
   "source": [
    "xy "
   ]
  },
  {
   "cell_type": "code",
   "execution_count": 397,
   "metadata": {},
   "outputs": [
    {
     "data": {
      "text/plain": [
       "(array([4473574.93146878, 5338248.09948195]),\n",
       " array([4473574.93146878, 5338248.09948195]))"
      ]
     },
     "execution_count": 397,
     "metadata": {},
     "output_type": "execute_result"
    }
   ],
   "source": [
    "maxp = xy.max(axis=0)\n",
    "minp = xy.min(axis=0)\n",
    "maxp, minp"
   ]
  },
  {
   "cell_type": "code",
   "execution_count": 398,
   "metadata": {},
   "outputs": [
    {
     "data": {
      "text/plain": [
       "array([0, 0])"
      ]
     },
     "execution_count": 398,
     "metadata": {},
     "output_type": "execute_result"
    }
   ],
   "source": [
    "num_vox = np.ceil((maxp - minp) / voxel_size).astype(int) # Anzahl der Voxel in jeder Dimension\n",
    "num_vox  "
   ]
  },
  {
   "cell_type": "code",
   "execution_count": 376,
   "metadata": {},
   "outputs": [],
   "source": [
    "voxel_area = voxel_size * voxel_size"
   ]
  },
  {
   "cell_type": "code",
   "execution_count": 400,
   "metadata": {},
   "outputs": [],
   "source": [
    "voxels = ((xy - minp) // voxel_size).astype(int)"
   ]
  },
  {
   "cell_type": "code",
   "execution_count": 378,
   "metadata": {},
   "outputs": [],
   "source": [
    "voxels[:,0] = np.clip(voxels[:,0], 0, num_vox[0]-1)\n",
    "voxels[:,1] = np.clip(voxels[:,1], 0, num_vox[1]-1)"
   ]
  },
  {
   "cell_type": "code",
   "execution_count": 402,
   "metadata": {},
   "outputs": [],
   "source": [
    "voxel_key, point_count = np.unique(voxels, axis=0, return_counts=True)"
   ]
  },
  {
   "cell_type": "code",
   "execution_count": 380,
   "metadata": {},
   "outputs": [],
   "source": [
    "density = point_count / voxel_area"
   ]
  },
  {
   "cell_type": "code",
   "execution_count": 404,
   "metadata": {},
   "outputs": [
    {
     "data": {
      "text/plain": [
       "(np.int64(0), np.int64(0))"
      ]
     },
     "execution_count": 404,
     "metadata": {},
     "output_type": "execute_result"
    }
   ],
   "source": [
    "max_x = voxel_key[:, 0].max()\n",
    "max_y = voxel_key[:, 1].max()\n",
    "\n",
    "max_x, max_y"
   ]
  },
  {
   "cell_type": "code",
   "execution_count": 382,
   "metadata": {},
   "outputs": [
    {
     "data": {
      "text/plain": [
       "(np.int64(24), np.int64(24))"
      ]
     },
     "execution_count": 382,
     "metadata": {},
     "output_type": "execute_result"
    }
   ],
   "source": [
    "voxel_key[:, 0].max(), voxel_key[:, 1].max()"
   ]
  },
  {
   "cell_type": "code",
   "execution_count": 383,
   "metadata": {},
   "outputs": [],
   "source": [
    "raster = np.zeros((max_x + 1, max_y + 1), dtype=int)\n",
    "\n",
    "\n",
    "np.add.at(raster, (voxel_key[:, 0], voxel_key[:, 1]), point_count)"
   ]
  },
  {
   "cell_type": "code",
   "execution_count": 384,
   "metadata": {},
   "outputs": [],
   "source": [
    "# Scheint nötig zu sein bei Gauss-Krüger\n",
    "raster = np.flip(raster.T, axis=0)"
   ]
  },
  {
   "cell_type": "code",
   "execution_count": 385,
   "metadata": {},
   "outputs": [
    {
     "data": {
      "text/plain": [
       "array([25, 25])"
      ]
     },
     "execution_count": 385,
     "metadata": {},
     "output_type": "execute_result"
    }
   ],
   "source": [
    "np.ceil((maxp - minp) / voxel_size).astype(int)"
   ]
  },
  {
   "cell_type": "code",
   "execution_count": null,
   "metadata": {},
   "outputs": [],
   "source": []
  },
  {
   "cell_type": "code",
   "execution_count": 386,
   "metadata": {},
   "outputs": [
    {
     "data": {
      "text/plain": [
       "(np.int64(24), np.int64(24))"
      ]
     },
     "execution_count": 386,
     "metadata": {},
     "output_type": "execute_result"
    }
   ],
   "source": [
    "voxel_key[:, 0].max(), voxel_key[:, 1].max() "
   ]
  },
  {
   "cell_type": "code",
   "execution_count": 387,
   "metadata": {},
   "outputs": [],
   "source": [
    "# geotransform = (minp[0], voxel_size, 0, maxp[1], 0, voxel_size)\n",
    "geotransform = (minp[0], voxel_size, 0, maxp[1], 0, -voxel_size)\n"
   ]
  },
  {
   "cell_type": "code",
   "execution_count": 388,
   "metadata": {},
   "outputs": [
    {
     "data": {
      "text/plain": [
       "(np.float64(4473899.999975428), 1, 0, np.float64(5335899.999986927), 0, -1)"
      ]
     },
     "execution_count": 388,
     "metadata": {},
     "output_type": "execute_result"
    }
   ],
   "source": [
    "geotransform "
   ]
  },
  {
   "cell_type": "code",
   "execution_count": 389,
   "metadata": {},
   "outputs": [
    {
     "data": {
      "text/plain": [
       "np.float64(4473899.999975428)"
      ]
     },
     "execution_count": 389,
     "metadata": {},
     "output_type": "execute_result"
    }
   ],
   "source": [
    "minp[0]"
   ]
  },
  {
   "cell_type": "code",
   "execution_count": 390,
   "metadata": {},
   "outputs": [],
   "source": [
    "# Erstelle das GeoTIFF\n",
    "output_filename = \"density.tif\"\n",
    "\n",
    "driver = gdal.GetDriverByName(\"GTiff\")\n",
    "rows, cols = raster.shape\n",
    "dataset = driver.Create(output_filename, cols, rows, 1, gdal.GDT_Int32)\n",
    "\n",
    "dataset.SetGeoTransform(geotransform)\n",
    "\n",
    "srs = osr.SpatialReference()\n",
    "srs.ImportFromEPSG(epsg)\n",
    "dataset.SetProjection(srs.ExportToWkt())\n",
    "\n",
    "band = dataset.GetRasterBand(1)\n",
    "band.WriteArray(raster)\n",
    "band.SetNoDataValue(0)\n",
    "\n",
    "# Schließe das Dataset\n",
    "# dataset.FlushCache()\n",
    "dataset = None"
   ]
  },
  {
   "cell_type": "code",
   "execution_count": null,
   "metadata": {},
   "outputs": [],
   "source": []
  }
 ],
 "metadata": {
  "kernelspec": {
   "display_name": "points",
   "language": "python",
   "name": "points"
  },
  "language_info": {
   "codemirror_mode": {
    "name": "ipython",
    "version": 3
   },
   "file_extension": ".py",
   "mimetype": "text/x-python",
   "name": "python",
   "nbconvert_exporter": "python",
   "pygments_lexer": "ipython3",
   "version": "3.9.21"
  }
 },
 "nbformat": 4,
 "nbformat_minor": 2
}
