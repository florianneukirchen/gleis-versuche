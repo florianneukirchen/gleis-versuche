{
 "cells": [
  {
   "cell_type": "code",
   "execution_count": 724,
   "id": "c1b3dde3",
   "metadata": {},
   "outputs": [],
   "source": [
    "import sys\n",
    "import os\n",
    "import numpy as np\n",
    "from osgeo import ogr \n",
    "from collections import deque\n",
    "import matplotlib.pyplot as plt\n",
    "\n",
    "\n",
    "sys.path.append(\"/home/riannek/code/gleis/gleisachse\")\n",
    "from algs.gpkg import * \n",
    "\n",
    "ogr.UseExceptions()"
   ]
  },
  {
   "cell_type": "code",
   "execution_count": 725,
   "id": "74405f97",
   "metadata": {},
   "outputs": [],
   "source": [
    "ds = None \n"
   ]
  },
  {
   "cell_type": "code",
   "execution_count": 726,
   "id": "bf5bb043",
   "metadata": {},
   "outputs": [
    {
     "name": "stdout",
     "output_type": "stream",
     "text": [
      "['TEMPLINELAYER', 'abseits', 'anfang weiche', 'kurve', 'viele', 'weiche']\n"
     ]
    }
   ],
   "source": [
    "layer_name = \"weiche\"\n",
    "\n",
    "folder = \"/media/riannek/minimax/gleis/\"\n",
    "\n",
    "ds = None \n",
    "\n",
    "import shutil \n",
    "file = shutil.copyfile(os.path.join(folder, \"stage3vers.gpkg\"), os.path.join(folder, \"stage3tmp.gpkg\"))\n",
    "\n",
    "ds = ogr.Open(file, 1)\n",
    "\n",
    "layers = []\n",
    "for i in range(ds.GetLayerCount()):\n",
    "    layer = ds.GetLayer(i)\n",
    "    layers.append(layer.GetName())\n",
    "layers.sort()\n",
    "print(layers)\n",
    "\n",
    "layer = ds.GetLayerByName(layer_name)"
   ]
  },
  {
   "cell_type": "code",
   "execution_count": 727,
   "id": "a2e97bb1",
   "metadata": {},
   "outputs": [],
   "source": [
    "def new_line_layer(ds, spatial_reference, logger):\n",
    "    if layer_exists(ds, \"centerlines\"):\n",
    "        delete_layer(ds, \"centerlines\", logger)\n",
    "    layer = ds.CreateLayer(\"centerlines\", spatial_reference, ogr.wkbLineString25D)\n",
    "    return layer \n",
    "\n",
    "\n",
    "linelayer = new_line_layer(ds, layer.GetSpatialRef(), None)\n",
    "\n",
    "def linelayer_add(layer, geom):\n",
    "    feature = ogr.Feature(layer.GetLayerDefn())\n",
    "    feature.SetGeometry(geom)\n",
    "    layer.CreateFeature(feature)\n"
   ]
  },
  {
   "cell_type": "code",
   "execution_count": 728,
   "id": "df040253",
   "metadata": {},
   "outputs": [],
   "source": [
    "def remove_points(fids, layer):\n",
    "    \"\"\"Remove points from the layer\n",
    "    \n",
    "    \"\"\"\n",
    "    if len(fids) == 0:\n",
    "        return\n",
    "    first = layer.GetFeature(fids[0])\n",
    "    if first is None:\n",
    "        # After reversing, the first point has already been removed\n",
    "        fids = fids[1:]\n",
    "\n",
    "    for fid in fids:\n",
    "        layer.DeleteFeature(fid)\n",
    "\n",
    "    layer.SyncToDisk()\n",
    "\n",
    "\n",
    "\n",
    "\n",
    "def distance_points(point1, point2):\n",
    "    return np.linalg.norm(point1 - point2)\n",
    "\n",
    "\n",
    "def pruned_points(xyz):\n",
    "    pruned_points = [] \n",
    "    offset = 0 # Keep reference of the index in the original xyz array\n",
    "    N = len(xyz)\n",
    "\n",
    "    while True:\n",
    "        if len(xyz) < 2:\n",
    "            # We have only one point left\n",
    "            return pruned_points, offset\n",
    "\n",
    "        distances = []\n",
    "        for i in range(len(xyz)-1):\n",
    "            distances.append(distance_points(xyz[i], xyz[i+1]))\n",
    "\n",
    "        distances = np.array(distances)\n",
    "        distances_cumsum = distances.cumsum()\n",
    "\n",
    "\n",
    "        if distances_cumsum[0] > 1:\n",
    "            # The second point is already far away from the first\n",
    "            pruned_points.append(xyz[1])\n",
    "            xyz = xyz[1:]\n",
    "            offset += 1\n",
    "            continue\n",
    "\n",
    "        if distances_cumsum[-1] <= 1:\n",
    "            # The last point is too close\n",
    "            if offset == 0:\n",
    "                # We seem to be at the start or end of the line\n",
    "                # Add the first and last point\n",
    "                pruned_points.append(xyz[0]) \n",
    "                pruned_points.append(xyz[-1]) \n",
    "                offset = N - 1\n",
    "            return pruned_points, offset\n",
    "\n",
    "        # Find the index of the last point that is less than 1 m away\n",
    "        index = np.where(distances_cumsum < 1)[0][-1] + 1\n",
    "        pruned_points.append(xyz[index])\n",
    "        xyz = xyz[index:]\n",
    "        offset += index\n",
    "\n",
    "\n"
   ]
  },
  {
   "cell_type": "code",
   "execution_count": 729,
   "id": "f5953701",
   "metadata": {},
   "outputs": [],
   "source": [
    "def get_all_points(layer):\n",
    "    \"\"\"Get all points from the layer as a list of numpy arrays\"\"\"\n",
    "    points = []\n",
    "    for feature in layer:\n",
    "        geom = feature.GetGeometryRef()\n",
    "        if geom is None:\n",
    "            continue\n",
    "        for i in range(geom.GetPointCount()):\n",
    "            point = np.array(geom.GetPoint(i)[:3])\n",
    "            points.append(point)\n",
    "\n",
    "    layer.ResetReading()\n",
    "    return np.array(points)"
   ]
  },
  {
   "cell_type": "code",
   "execution_count": 730,
   "id": "1b3960e4",
   "metadata": {},
   "outputs": [],
   "source": [
    "queue = deque()"
   ]
  },
  {
   "cell_type": "code",
   "execution_count": 731,
   "id": "7b11c8cd",
   "metadata": {},
   "outputs": [
    {
     "data": {
      "text/plain": [
       "np.float64(8.109614455994183)"
      ]
     },
     "execution_count": 731,
     "metadata": {},
     "output_type": "execute_result"
    }
   ],
   "source": [
    "np.rad2deg(np.arccos(0.99))"
   ]
  },
  {
   "cell_type": "code",
   "execution_count": 732,
   "id": "ddfef1ca",
   "metadata": {},
   "outputs": [],
   "source": [
    "def distance_points_to_line(points, p0, direction):\n",
    "    # Vectors from p0 to points\n",
    "    v = points - p0\n",
    "\n",
    "    # Line-to-point distance is norm of cross product over norm of direction\n",
    "    cross = np.cross(v, direction)\n",
    "    distances = np.linalg.norm(cross, axis=1) / np.linalg.norm(direction)\n",
    "    return distances\n",
    "\n",
    "def ransac_lines(points, threshold=0.1, min_inliers=3, max_iterations=20, max_lines=2):\n",
    "    points = np.asarray(points)\n",
    "    N = len(points)\n",
    "    labels = np.full(N, -1)  # Initialize all as noise\n",
    "    remaining_idx = np.arange(N)\n",
    "\n",
    "\n",
    "    for current_label in range(max_lines):\n",
    "        best_inliers = []\n",
    "\n",
    "        for _ in range(max_iterations):\n",
    "            if len(remaining_idx) < min_inliers:\n",
    "                break\n",
    "            sample_idx = np.random.choice(remaining_idx, 2, replace=False)\n",
    "            p0, p1 = points[sample_idx]\n",
    "            direction = p1 - p0\n",
    "\n",
    "            # Direction not accurate if points are too close\n",
    "            if np.linalg.norm(direction) < 0.1:\n",
    "                continue\n",
    "\n",
    "            distances = distance_points_to_line(points[remaining_idx], p0, direction)\n",
    "            inliers = np.where(distances < threshold)[0]\n",
    "            if len(inliers) > len(best_inliers):\n",
    "                best_inliers = inliers\n",
    "\n",
    "        if len(best_inliers) < min_inliers:\n",
    "            break  # No more good lines\n",
    "\n",
    "        inlier_global_idx = remaining_idx[best_inliers]\n",
    "        labels[inlier_global_idx] = current_label\n",
    "\n",
    "        # Remove inliers from remaining set\n",
    "        remaining_idx = np.setdiff1d(remaining_idx, inlier_global_idx)\n",
    "\n",
    "        if len(remaining_idx) < min_inliers:\n",
    "            break\n",
    "\n",
    "    return labels\n"
   ]
  },
  {
   "cell_type": "code",
   "execution_count": 733,
   "id": "eb8415f9",
   "metadata": {},
   "outputs": [],
   "source": [
    "def model_fitness(xyz, directions, labels=None):\n",
    "    if labels is None:\n",
    "        labels = np.zeros(len(xyz), dtype=int)\n",
    "    fitness = np.zeros(len(xyz))\n",
    "\n",
    "    for label in range(labels.max()+1):\n",
    "        cluster = xyz[labels == label]\n",
    "        # Set first points fitness to 1\n",
    "        cluster_fitness = [1]\n",
    "\n",
    "        for i in range(len(cluster)-1):\n",
    "            cluster_fitness.append(model_fitness_score(cluster[i], cluster[i+1], directions[i]))\n",
    "\n",
    "        cluster_fitness = np.array(cluster_fitness)\n",
    "        fitness[labels == label] = cluster_fitness\n",
    "\n",
    "    if len(fitness[fitness>0]) > 0:\n",
    "        print(\"Min fitness:\", fitness[fitness>0].min())\n",
    "    return fitness\n",
    "\n",
    "\n",
    "def model_fitness_score(point1, point2, direction):\n",
    "    vector = point1 - point2\n",
    "    vector = vector / np.linalg.norm(vector)\n",
    "    direction = direction / np.linalg.norm(direction)\n",
    "    return np.abs(direction @ vector)"
   ]
  },
  {
   "cell_type": "code",
   "execution_count": 734,
   "id": "0eb8c406",
   "metadata": {},
   "outputs": [],
   "source": [
    "class GrowingLine: \n",
    "\n",
    "    _id_counter = 0 # Used for debugging\n",
    "\n",
    "    def __init__(self, head_fid, head_xyz, head_direction, head_gauge):\n",
    "        self.head_fid = head_fid\n",
    "        self.head_xyz = head_xyz\n",
    "        self.head_direction = head_direction\n",
    "        self.head_gauge = head_gauge\n",
    "\n",
    "        self.start_xyz = head_xyz\n",
    "        self.start_direction = head_direction\n",
    "        self.start_gauge = head_gauge\n",
    "        self.start_fid = head_fid\n",
    "\n",
    "        self.switch = []\n",
    "        self.in_switch = False\n",
    "\n",
    "        self.points = [head_xyz]\n",
    "\n",
    "        self.id = GrowingLine._id_counter\n",
    "        GrowingLine._id_counter += 1\n",
    "\n",
    "    @classmethod\n",
    "    def from_feature(cls, feature):\n",
    "        head_fid = feature.GetFID()\n",
    "        head_xyz = np.array(feature.GetGeometryRef().GetPoint(0))\n",
    "        head_direction = np.array([feature.GetField(\"eig x\"), feature.GetField(\"eig y\"), feature.GetField(\"eig z\")])\n",
    "        head_gauge = feature.GetField(\"gauge\")\n",
    "        return cls(head_fid, head_xyz, head_direction, head_gauge)\n",
    "\n",
    "\n",
    "\n",
    "\n",
    "    def points_in_direction(self, layer, distance=10):\n",
    "        \"\"\"Read the points in the model direction and sort them\n",
    "        \n",
    "        \"\"\"\n",
    "\n",
    "        # Get a rectangular polygon for the spatial filter\n",
    "        perpendicular = np.cross(self.head_direction, np.array([0, 0, 1]))\n",
    "        scaled_direction = self.head_direction * distance\n",
    "\n",
    "        ring = ogr.Geometry(ogr.wkbLinearRing)\n",
    "        start = self.head_xyz + (perpendicular / 2)\n",
    "        ring.AddPoint(start[0], start[1])\n",
    "        pt = start + scaled_direction\n",
    "        ring.AddPoint(pt[0], pt[1])\n",
    "        pt = pt - perpendicular\n",
    "        ring.AddPoint(pt[0], pt[1])\n",
    "        pt = pt - scaled_direction\n",
    "        ring.AddPoint(pt[0], pt[1])\n",
    "        ring.AddPoint(start[0], start[1])\n",
    "        geom = ogr.Geometry(ogr.wkbPolygon)\n",
    "        geom.AddGeometry(ring)\n",
    "\n",
    "        layer.SetSpatialFilter(geom)\n",
    "        layer.ResetReading()\n",
    "\n",
    "        xyz = [self.head_xyz]\n",
    "        directions = [self.head_direction]\n",
    "        gauges = [self.head_gauge]\n",
    "        fids = [self.head_fid]\n",
    "        distances = [0]\n",
    "\n",
    "        for feature in layer:\n",
    "            if feature.GetFID() == self.head_fid:\n",
    "                continue\n",
    "            xyz.append(np.array(feature.GetGeometryRef().GetPoint(0)))\n",
    "            directions.append(np.array([feature.GetField(\"eig x\"), feature.GetField(\"eig y\"), feature.GetField(\"eig z\")]))\n",
    "            gauges.append(feature.GetField(\"gauge\"))\n",
    "            fids.append(feature.GetFID())\n",
    "\n",
    "        layer.SetSpatialFilter(None)\n",
    "        layer.ResetReading()\n",
    "\n",
    "\n",
    "        for point in xyz[1:]:\n",
    "            distances.append(np.linalg.norm(self.head_xyz - point))\n",
    "\n",
    "        # Sort all lists by distance\n",
    "        distances = np.array(distances)\n",
    "        sorted_indices = np.argsort(distances)\n",
    "        distances = distances[sorted_indices]\n",
    "        xyz = np.array(xyz)[sorted_indices]\n",
    "        directions = np.array(directions)[sorted_indices]\n",
    "        gauges = np.array(gauges)[sorted_indices]\n",
    "        fids = np.array(fids)[sorted_indices]\n",
    "\n",
    "        return xyz, distances, directions, gauges, fids\n",
    "    \n",
    "\n",
    "    def add_switch(self, new_fid, head_xyz,  new_direction, gauge, points):\n",
    "\n",
    "\n",
    "        if self.in_switch:\n",
    "            # Update the head of the line\n",
    "            switchline = self.switch[-1] \n",
    "            switchline.head_fid = new_fid\n",
    "            switchline.head_xyz = head_xyz\n",
    "            switchline.head_direction = new_direction\n",
    "            switchline.head_gauge = gauge\n",
    "            # Remove the first point if it is the same as the last point of the switch line\n",
    "            if np.array_equal(switchline.points[-1], points[0]):\n",
    "                points = points[1:]  \n",
    "            switchline.points.extend(points)\n",
    "        else:\n",
    "            print(\"Adding new switch line\")\n",
    "            self.in_switch = True\n",
    "            switchline = GrowingLine(\n",
    "                new_fid, head_xyz, new_direction, gauge)\n",
    "            switchline.points = points\n",
    "            self.switch.append(switchline)\n",
    "\n",
    "\n",
    "    def make_cut(self, bla=True):\n",
    "        print(\"Making cut in switch\")\n",
    "        self.in_switch = False\n",
    "        switchline = self.switch[-1]\n",
    "\n",
    "        between_heads = self.head_xyz - switchline.head_xyz\n",
    "        # Check if the active line ends in the switch \n",
    "        # it happens if we approach the switch from the curved track\n",
    "        cut_active_line = (between_heads @ self.head_direction) > -1.5\n",
    "        print(\"Cut active line:\", cut_active_line)\n",
    "        distance_from_head = np.linalg.norm(between_heads)\n",
    "\n",
    "        if cut_active_line:\n",
    "            print(\"Distance from head to switch line head:\", distance_from_head)\n",
    "            length = np.linalg.norm(switchline.points[-1] - switchline.points[0])\n",
    "            print(\"Length of switch line:\", length)\n",
    "\n",
    "            go_back = distance_from_head + length + 8\n",
    "            print(\"Going back:\", go_back)\n",
    "            reversed_points = self.points[::-1]\n",
    "        else:\n",
    "            go_back = distance_from_head + 3\n",
    "            reversed_points = switchline.points[::-1]\n",
    "\n",
    "        distances = []\n",
    "        cum_sum = 0\n",
    "        \n",
    "        for i in range(len(reversed_points)-1):\n",
    "            distance = np.linalg.norm(reversed_points[i] - reversed_points[i+1])\n",
    "            cum_sum += distance\n",
    "            distances.append(distance)\n",
    "            if cum_sum > go_back:\n",
    "                break\n",
    "\n",
    "        distances = np.array(distances)\n",
    "        cut_index = np.argmax(distances) \n",
    "        print(\"Cut index:\", cut_index, \"distance\", distances[cut_index], \"go_back\", go_back)\n",
    "\n",
    "        # Cut the line\n",
    "        if cut_active_line:\n",
    "            self.points = reversed_points[:cut_index:-1]\n",
    "            new_points = reversed_points[cut_index::-1]\n",
    "\n",
    "            new_line = GrowingLine(\n",
    "                self.head_fid,\n",
    "                self.head_xyz,\n",
    "                self.head_direction,\n",
    "                self.head_gauge\n",
    "            )\n",
    "            new_line.points = new_points\n",
    "            # New line doesn't need to be reversed\n",
    "            new_line.start_fid = None\n",
    "            self.switch.append(new_line)\n",
    "\n",
    "        else:\n",
    "            # First line\n",
    "            new_line = GrowingLine(\n",
    "                switchline.head_fid,\n",
    "                switchline.head_xyz,\n",
    "                switchline.head_direction,\n",
    "                switchline.head_gauge\n",
    "            )\n",
    "            new_line.points = reversed_points[:cut_index:-1]\n",
    "            new_line.start_fid = None\n",
    "            self.switch.append(new_line)\n",
    "\n",
    "            # Second line, backward direction\n",
    "            # There are often large gaps in the points\n",
    "            # caused by how the \"beam\" of the active head touched it \n",
    "            # Therefore use the start point of switch line and add missing points first\n",
    "            new_line_points = reversed_points[cut_index::]\n",
    "            model_direction = switchline.start_direction\n",
    "            # Make sure it is pointing in the same direction as the active head\n",
    "            if self.head_direction @ model_direction < 0:\n",
    "                model_direction = -model_direction\n",
    "\n",
    "            new_line = GrowingLine(\n",
    "                switchline.start_fid,\n",
    "                switchline.start_xyz,\n",
    "                model_direction,\n",
    "                switchline.start_gauge\n",
    "            )\n",
    "\n",
    "            # Process the missing points \n",
    "            xyz, distances, directions, gauges, fids = new_line.points_in_direction(layer)\n",
    "            if len(fids) > 3:\n",
    "                labels = ransac_lines(xyz, threshold=0.05, max_iterations=20)\n",
    "                cluster = xyz[labels == 0]\n",
    "                cluster = cluster.append(np.array(new_line_points)) \n",
    "\n",
    "                distances = []\n",
    "\n",
    "                for point in cluster:\n",
    "                    distances.append(np.linalg.norm(new_line.start_xyz - point))\n",
    "                distances = np.array(distances)\n",
    "                sorted_indices = np.argsort(distances)\n",
    "                cluster = cluster[sorted_indices]\n",
    "                pruned, offset = pruned_points(cluster)\n",
    "                new_line.points = pruned\n",
    "            else:\n",
    "                new_line.points = new_line_points\n",
    "            new_line.reverse_head(active_line=True) # True: set as already reversed\n",
    "            self.switch.append(new_line)\n",
    "            \n",
    "        return cut_active_line\n",
    "\n",
    "    def reverse_head(self, active_line=True):\n",
    "        \"\"\"Reverse the head of the line\n",
    "        \n",
    "        \"\"\"\n",
    "        \n",
    "        if self.start_fid is None:\n",
    "            print(\"FINISHED\")\n",
    "            return False\n",
    "        self.head_fid = self.start_fid\n",
    "        self.head_xyz = self.start_xyz\n",
    "        self.head_direction = -self.start_direction\n",
    "        self.head_gauge = self.start_gauge\n",
    "        self.points = self.points[::-1]\n",
    "        \n",
    "        if active_line:\n",
    "            self.start_fid = None\n",
    "        \n",
    "        if self.in_switch:\n",
    "            self.switch[-1].reverse_head(active_line=False)\n",
    "        print(\"Reversed head\")\n",
    "        return True\n",
    "\n",
    "\n",
    "    def get_linestring(self):\n",
    "        \"\"\"Get the linestring of the line\n",
    "        \n",
    "        \"\"\"\n",
    "        if len(self.points) == 0:\n",
    "            return None\n",
    "        geom = ogr.Geometry(ogr.wkbLineString25D)\n",
    "        for point in self.points:\n",
    "            geom.AddPoint(point[0], point[1], point[2])\n",
    "        return geom\n",
    "\n",
    "    def grow(self, layer, linelayer):\n",
    "        while True:\n",
    "            xyz, distances, directions, gauges, fids = self.points_in_direction(layer)\n",
    "            if len(fids) < 3:\n",
    "                # These are only 2 new points, not enough for a ransac line\n",
    "                # Reverse head or stop if already reversed\n",
    "                remove_points(fids, layer)\n",
    "                if not self.reverse_head():\n",
    "                    # If we can't reverse the head, we are done\n",
    "                    break\n",
    "                continue\n",
    "            labels = ransac_lines(xyz, threshold=0.05, max_iterations=20)\n",
    "            remove_points(fids[labels == -1], layer)\n",
    "            max_label = labels.max()\n",
    "\n",
    "            # Check if we reached the end of a switch\n",
    "            if self.in_switch and max_label == 0:\n",
    "                self.make_cut()\n",
    "                if not self.reverse_head():\n",
    "                    # If we can't reverse the head, we are done\n",
    "                    break\n",
    "            # Add the points to the line(s)\n",
    "            else:\n",
    "                for label in range(max_label + 1):\n",
    "                    cluster = xyz[labels == label]\n",
    "                    if len(cluster) < 2:\n",
    "                        continue\n",
    "\n",
    "                    pruned, offset = pruned_points(cluster)\n",
    "\n",
    "\n",
    "                    fids_cluster = fids[labels == label]\n",
    "\n",
    "                    remove_points(fids_cluster[:offset+1], layer)\n",
    "                    \n",
    "                    new_direction = directions[offset]\n",
    "                    if self.head_direction @ new_direction < 0:\n",
    "                        new_direction = -new_direction\n",
    "\n",
    "                    if label == labels[0]:\n",
    "                        # This is the active head\n",
    "                        self.head_xyz = pruned[-1]\n",
    "                        self.head_direction = new_direction\n",
    "                        self.head_gauge = gauges[offset]\n",
    "                        self.head_fid = fids_cluster[offset]\n",
    "                        self.points.extend(pruned)\n",
    "                    else:\n",
    "                        # This is the other rail in a switch (or false positive)\n",
    "                        self.add_switch(fids_cluster[offset], pruned[-1], new_direction, gauges[offset], pruned)\n",
    "\n",
    "\n",
    "        # Add the active line to the layer if it has enough points\n",
    "        geom = self.get_linestring()\n",
    "        if geom is not None and geom.GetPointCount() > 10:\n",
    "            linelayer_add(linelayer, geom)\n",
    "\n",
    "        return self.switch\n",
    "    \n",
    "    def __repr__(self):\n",
    "        return f\"GrowingLine(id={self.id}, head_fid={self.head_fid}, points={len(self.points)})\""
   ]
  },
  {
   "cell_type": "markdown",
   "id": "8aca23f8",
   "metadata": {},
   "source": [
    "## Start"
   ]
  },
  {
   "cell_type": "code",
   "execution_count": 735,
   "id": "f39e94be",
   "metadata": {},
   "outputs": [],
   "source": [
    "all_points = get_all_points(layer)"
   ]
  },
  {
   "cell_type": "code",
   "execution_count": 736,
   "id": "be737a7c",
   "metadata": {},
   "outputs": [
    {
     "data": {
      "text/plain": [
       "3882"
      ]
     },
     "execution_count": 736,
     "metadata": {},
     "output_type": "execute_result"
    }
   ],
   "source": [
    "\n",
    "layer.GetFeatureCount()"
   ]
  },
  {
   "cell_type": "code",
   "execution_count": 737,
   "id": "e0420db8",
   "metadata": {},
   "outputs": [
    {
     "data": {
      "text/plain": [
       "OGRFeature(weiche):951\n",
       "  eig x (Real) = 0.206159349714193\n",
       "  eig y (Real) = -0.978518279550064\n",
       "  eig z (Real) = -0.000546911147630067\n",
       "  gauge (Real) = 1.44567067823869\n",
       "  min points (Integer) = 300\n",
       "  POINT Z (4473849.34625483 5336264.62714754 516.615297792815)\n"
      ]
     },
     "execution_count": 737,
     "metadata": {},
     "output_type": "execute_result"
    }
   ],
   "source": [
    "feature = layer.GetNextFeature()\n",
    "feature"
   ]
  },
  {
   "cell_type": "code",
   "execution_count": 738,
   "id": "b082d5f6",
   "metadata": {},
   "outputs": [],
   "source": [
    "active_line = GrowingLine.from_feature(feature)\n"
   ]
  },
  {
   "cell_type": "markdown",
   "id": "f302eab0",
   "metadata": {},
   "source": [
    "## Ab hier muss dann Schleife"
   ]
  },
  {
   "cell_type": "code",
   "execution_count": 765,
   "id": "57752af9",
   "metadata": {},
   "outputs": [
    {
     "name": "stdout",
     "output_type": "stream",
     "text": [
      "51\n"
     ]
    }
   ],
   "source": [
    "xyz, distances, directions, gauges, fids = active_line.points_in_direction(layer)\n",
    "print(len(xyz))"
   ]
  },
  {
   "cell_type": "code",
   "execution_count": 766,
   "id": "a64c70d2",
   "metadata": {},
   "outputs": [
    {
     "data": {
      "image/png": "[encoded data removed]",
      "text/plain": [
       "<Figure size 640x480 with 2 Axes>"
      ]
     },
     "metadata": {},
     "output_type": "display_data"
    }
   ],
   "source": [
    "labels = ransac_lines(xyz, threshold=0.05, max_iterations=20)\n",
    "\n",
    "x = xyz[:, 0]\n",
    "y = xyz[:, 1]\n",
    "\n",
    "fig, ax = plt.subplots()\n",
    "sc = ax.scatter(x, y, c=labels, cmap='viridis', s=10)\n",
    "plt.colorbar(sc)\n",
    "#equal aspect ratio\n",
    "ax.set_aspect('equal', adjustable='box')\n"
   ]
  },
  {
   "cell_type": "code",
   "execution_count": 767,
   "id": "17682584",
   "metadata": {},
   "outputs": [
    {
     "data": {
      "image/png": "[encoded data removed]",
      "text/plain": [
       "<Figure size 640x480 with 1 Axes>"
      ]
     },
     "metadata": {},
     "output_type": "display_data"
    }
   ],
   "source": [
    "fig, ax = plt.subplots()\n",
    "ax.scatter(all_points[:, 0], all_points[:, 1], c='gray', s=1)\n",
    "ax.scatter(x, y, c=labels, cmap='viridis', s=10)\n",
    "ax.set_aspect('equal', adjustable='box')\n",
    "ax.set_axis_off()\n",
    "fig.tight_layout()\n",
    "fig.savefig(\"current_ransac_lines.png\", dpi=300, bbox_inches='tight', pad_inches=0)"
   ]
  },
  {
   "cell_type": "code",
   "execution_count": 768,
   "id": "0f23fe75",
   "metadata": {},
   "outputs": [],
   "source": [
    "# Check if we reached the end of a switch\n",
    "if active_line.in_switch and labels.max() == 0:\n",
    "    first_fid = xyz[labels == 0][0]\n",
    "    first_xyz = xyz[labels == 0][0]\n",
    "    first_direction = directions[labels == 0][0]\n",
    "    print(\"must_cut\")\n",
    "    must_cut = True\n",
    "    active_line.make_cut(first_fid, first_xyz, first_direction)\n",
    "    if not active_line.reverse_head():\n",
    "        # If we can't reverse the head, we are done\n",
    "        print(\"Finished growing line\")\n",
    "else:\n",
    "    must_cut=False"
   ]
  },
  {
   "cell_type": "code",
   "execution_count": 769,
   "id": "47f75937",
   "metadata": {},
   "outputs": [
    {
     "name": "stdout",
     "output_type": "stream",
     "text": [
      "11 points added to active line\n"
     ]
    },
    {
     "ename": "TypeError",
     "evalue": "add_switch() missing 2 required positional arguments: 'gauge' and 'points'",
     "output_type": "error",
     "traceback": [
      "\u001b[0;31m---------------------------------------------------------------------------\u001b[0m",
      "\u001b[0;31mTypeError\u001b[0m                                 Traceback (most recent call last)",
      "Cell \u001b[0;32mIn[769], line 23\u001b[0m\n\u001b[1;32m     20\u001b[0m     \u001b[38;5;28mprint\u001b[39m(\u001b[38;5;28mlen\u001b[39m(pruned), \u001b[38;5;124m\"\u001b[39m\u001b[38;5;124mpoints added to active line\u001b[39m\u001b[38;5;124m\"\u001b[39m)\n\u001b[1;32m     21\u001b[0m \u001b[38;5;28;01melse\u001b[39;00m:\n\u001b[1;32m     22\u001b[0m     \u001b[38;5;66;03m# This is the other rail in a switch (or false positive)\u001b[39;00m\n\u001b[0;32m---> 23\u001b[0m     \u001b[43mactive_line\u001b[49m\u001b[38;5;241;43m.\u001b[39;49m\u001b[43madd_switch\u001b[49m\u001b[43m(\u001b[49m\u001b[43mfids_cluster\u001b[49m\u001b[43m[\u001b[49m\u001b[43moffset\u001b[49m\u001b[43m]\u001b[49m\u001b[43m,\u001b[49m\u001b[43m \u001b[49m\u001b[43mpruned\u001b[49m\u001b[43m[\u001b[49m\u001b[38;5;241;43m-\u001b[39;49m\u001b[38;5;241;43m1\u001b[39;49m\u001b[43m]\u001b[49m\u001b[43m,\u001b[49m\u001b[43m \u001b[49m\u001b[43mnew_direction\u001b[49m\u001b[43m)\u001b[49m\n",
      "\u001b[0;31mTypeError\u001b[0m: add_switch() missing 2 required positional arguments: 'gauge' and 'points'"
     ]
    }
   ],
   "source": [
    "if not must_cut:\n",
    "    for label in range(labels.max()+1):\n",
    "        cluster = xyz[labels == label]\n",
    "        pruned, offset = pruned_points(cluster)\n",
    "        fids_cluster = fids[labels == label]\n",
    "\n",
    "        remove_points(fids_cluster[:offset+1], layer)\n",
    "        \n",
    "        new_direction = directions[offset]\n",
    "        if active_line.head_direction @ new_direction < 0:\n",
    "            new_direction = -new_direction\n",
    "\n",
    "        if label == labels[0]:\n",
    "            # This is the active head \n",
    "            active_line.head_xyz = pruned[-1]\n",
    "            active_line.head_direction = new_direction\n",
    "            active_line.head_gauge = gauges[offset]\n",
    "            active_line.head_fid = fids_cluster[offset]\n",
    "            active_line.points.extend(pruned) \n",
    "            print(len(pruned), \"points added to active line\")\n",
    "        else:\n",
    "            # This is the other rail in a switch (or false positive)\n",
    "            active_line.add_switch(fids_cluster[offset], pruned[-1], new_direction)\n",
    "\n",
    "\n"
   ]
  },
  {
   "cell_type": "code",
   "execution_count": null,
   "id": "37c63177",
   "metadata": {},
   "outputs": [
    {
     "name": "stdout",
     "output_type": "stream",
     "text": [
      "active line points: 22\n",
      "switch lines: 0\n"
     ]
    }
   ],
   "source": [
    "print(\"active line points:\", len(active_line.points))\n",
    "print(\"switch lines:\", len(active_line.switch))\n",
    "for i, switch in enumerate(active_line.switch):\n",
    "    print(f\"Switch line {i} points:\", len(switch.points))"
   ]
  },
  {
   "cell_type": "code",
   "execution_count": null,
   "id": "73bab6d8",
   "metadata": {},
   "outputs": [
    {
     "data": {
      "text/plain": [
       "False"
      ]
     },
     "execution_count": 758,
     "metadata": {},
     "output_type": "execute_result"
    }
   ],
   "source": [
    "active_line.in_switch "
   ]
  },
  {
   "cell_type": "code",
   "execution_count": null,
   "id": "bb1adcba",
   "metadata": {},
   "outputs": [
    {
     "data": {
      "text/plain": [
       "0"
      ]
     },
     "execution_count": 759,
     "metadata": {},
     "output_type": "execute_result"
    }
   ],
   "source": [
    "active_line.id"
   ]
  },
  {
   "cell_type": "code",
   "execution_count": null,
   "id": "a76269db",
   "metadata": {},
   "outputs": [
    {
     "data": {
      "text/plain": [
       "[]"
      ]
     },
     "execution_count": 760,
     "metadata": {},
     "output_type": "execute_result"
    }
   ],
   "source": [
    "active_line.switch"
   ]
  },
  {
   "cell_type": "code",
   "execution_count": null,
   "id": "b6ee43a0",
   "metadata": {},
   "outputs": [
    {
     "data": {
      "text/plain": [
       "np.int64(39)"
      ]
     },
     "execution_count": 761,
     "metadata": {},
     "output_type": "execute_result"
    }
   ],
   "source": [
    "offset "
   ]
  },
  {
   "cell_type": "code",
   "execution_count": null,
   "id": "09024bc1",
   "metadata": {},
   "outputs": [
    {
     "data": {
      "text/plain": [
       "array([4.47385344e+06, 5.33624580e+06, 5.16684727e+02])"
      ]
     },
     "execution_count": 762,
     "metadata": {},
     "output_type": "execute_result"
    }
   ],
   "source": [
    "active_line.head_xyz"
   ]
  },
  {
   "cell_type": "code",
   "execution_count": null,
   "id": "f07c1c6e",
   "metadata": {},
   "outputs": [
    {
     "data": {
      "text/plain": [
       "<matplotlib.collections.PathCollection at 0x7f764b13b5e0>"
      ]
     },
     "execution_count": 763,
     "metadata": {},
     "output_type": "execute_result"
    },
    {
     "data": {
      "image/png": "[encoded data removed]",
      "text/plain": [
       "<Figure size 640x480 with 1 Axes>"
      ]
     },
     "metadata": {},
     "output_type": "display_data"
    }
   ],
   "source": [
    "fig, ax = plt.subplots()\n",
    "\n",
    "active = np.array(active_line.points) \n",
    "\n",
    "ax.scatter(active[:, 0], active[:, 1], c='red')\n",
    "\n",
    "colors = ['blue', 'green', 'orange', 'purple', 'brown', 'pink']\n",
    "\n",
    "for i, switch in enumerate(active_line.switch):\n",
    "    points = np.array(switch.points)\n",
    "    ax.scatter(points[:, 0], points[:, 1], c=colors[i % len(colors)])\n",
    "    ax.scatter(switch.head_xyz[0], switch.head_xyz[1], c='black', s=30, label='Head')\n",
    "\n",
    "ax.scatter(active_line.head_xyz[0], active_line.head_xyz[1], c='black', s=50, label='Head')"
   ]
  },
  {
   "cell_type": "code",
   "execution_count": null,
   "id": "3cc19a06",
   "metadata": {},
   "outputs": [
    {
     "ename": "IndexError",
     "evalue": "list index out of range",
     "output_type": "error",
     "traceback": [
      "\u001b[0;31m---------------------------------------------------------------------------\u001b[0m",
      "\u001b[0;31mIndexError\u001b[0m                                Traceback (most recent call last)",
      "Cell \u001b[0;32mIn[764], line 1\u001b[0m\n\u001b[0;32m----> 1\u001b[0m switchline \u001b[38;5;241m=\u001b[39m \u001b[43mactive_line\u001b[49m\u001b[38;5;241;43m.\u001b[39;49m\u001b[43mswitch\u001b[49m\u001b[43m[\u001b[49m\u001b[38;5;241;43m-\u001b[39;49m\u001b[38;5;241;43m1\u001b[39;49m\u001b[43m]\u001b[49m\n\u001b[1;32m      2\u001b[0m between_heads \u001b[38;5;241m=\u001b[39m active_line\u001b[38;5;241m.\u001b[39mhead_xyz \u001b[38;5;241m-\u001b[39m switchline\u001b[38;5;241m.\u001b[39mhead_xyz\n\u001b[1;32m      3\u001b[0m \u001b[38;5;28mprint\u001b[39m(np\u001b[38;5;241m.\u001b[39mlinalg\u001b[38;5;241m.\u001b[39mnorm(between_heads))\n",
      "\u001b[0;31mIndexError\u001b[0m: list index out of range"
     ]
    }
   ],
   "source": [
    "switchline = active_line.switch[-1]\n",
    "between_heads = active_line.head_xyz - switchline.head_xyz\n",
    "print(np.linalg.norm(between_heads))\n",
    "print((between_heads) @ active_line.head_direction)"
   ]
  },
  {
   "cell_type": "code",
   "execution_count": null,
   "id": "e607013c",
   "metadata": {},
   "outputs": [
    {
     "data": {
      "text/plain": [
       "np.float64(0.999800296064017)"
      ]
     },
     "execution_count": 663,
     "metadata": {},
     "output_type": "execute_result"
    }
   ],
   "source": [
    "active_line.head_direction @ switchline.head_direction"
   ]
  },
  {
   "cell_type": "code",
   "execution_count": null,
   "id": "6c532666",
   "metadata": {},
   "outputs": [
    {
     "data": {
      "text/plain": [
       "np.int64(309413)"
      ]
     },
     "execution_count": 664,
     "metadata": {},
     "output_type": "execute_result"
    }
   ],
   "source": [
    "switchline.head_fid  "
   ]
  },
  {
   "cell_type": "code",
   "execution_count": null,
   "id": "77eed5e8",
   "metadata": {},
   "outputs": [
    {
     "data": {
      "text/plain": [
       "np.int64(315843)"
      ]
     },
     "execution_count": 665,
     "metadata": {},
     "output_type": "execute_result"
    }
   ],
   "source": [
    "switchline.start_fid"
   ]
  },
  {
   "cell_type": "code",
   "execution_count": null,
   "id": "026113c6",
   "metadata": {},
   "outputs": [
    {
     "data": {
      "text/plain": [
       "np.float64(0.998217871992906)"
      ]
     },
     "execution_count": 666,
     "metadata": {},
     "output_type": "execute_result"
    }
   ],
   "source": [
    "switchline.start_direction @ active_line.head_direction"
   ]
  },
  {
   "cell_type": "code",
   "execution_count": null,
   "id": "991b8a38",
   "metadata": {},
   "outputs": [
    {
     "data": {
      "text/plain": [
       "<matplotlib.collections.PathCollection at 0x7f76494c5610>"
      ]
     },
     "execution_count": 671,
     "metadata": {},
     "output_type": "execute_result"
    },
    {
     "data": {
      "image/png": "[encoded data removed]",
      "text/plain": [
       "<Figure size 640x480 with 1 Axes>"
      ]
     },
     "metadata": {},
     "output_type": "display_data"
    }
   ],
   "source": [
    "fig, ax = plt.subplots()\n",
    "ax.scatter(xyz[:, 0], xyz[:, 1], c='gray', s=1)"
   ]
  },
  {
   "cell_type": "markdown",
   "id": "d8378ee7",
   "metadata": {},
   "source": [
    "## STOP HERE"
   ]
  },
  {
   "cell_type": "code",
   "execution_count": null,
   "id": "f4349ecc",
   "metadata": {},
   "outputs": [
    {
     "ename": "ValueError",
     "evalue": "Stop here",
     "output_type": "error",
     "traceback": [
      "\u001b[0;31m---------------------------------------------------------------------------\u001b[0m",
      "\u001b[0;31mValueError\u001b[0m                                Traceback (most recent call last)",
      "Cell \u001b[0;32mIn[672], line 1\u001b[0m\n\u001b[0;32m----> 1\u001b[0m \u001b[38;5;28;01mraise\u001b[39;00m \u001b[38;5;167;01mValueError\u001b[39;00m(\u001b[38;5;124m\"\u001b[39m\u001b[38;5;124mStop here\u001b[39m\u001b[38;5;124m\"\u001b[39m)\n",
      "\u001b[0;31mValueError\u001b[0m: Stop here"
     ]
    }
   ],
   "source": [
    "raise ValueError(\"Stop here\")"
   ]
  },
  {
   "cell_type": "code",
   "execution_count": null,
   "id": "9c075d82",
   "metadata": {},
   "outputs": [
    {
     "name": "stdout",
     "output_type": "stream",
     "text": [
      "Making cut in switch\n",
      "Cut active line: True\n",
      "Distance from head to switch line head: 0.8641917453641218\n",
      "Length of switch line: 8.90389497397527\n",
      "Going back: 17.768086719339394\n",
      "Cut index: 11 distance 5.718684087325809 go_back 17.768086719339394\n",
      "FINISHED\n",
      "Finished growing line\n"
     ]
    }
   ],
   "source": [
    "active_line.make_cut()\n",
    "if not active_line.reverse_head():\n",
    "    # If we can't reverse the head, we are done\n",
    "    print(\"Finished growing line\")"
   ]
  },
  {
   "cell_type": "code",
   "execution_count": null,
   "id": "0f2bfee5",
   "metadata": {},
   "outputs": [
    {
     "name": "stdout",
     "output_type": "stream",
     "text": [
      "FINISHED\n"
     ]
    },
    {
     "data": {
      "text/plain": [
       "False"
      ]
     },
     "execution_count": 456,
     "metadata": {},
     "output_type": "execute_result"
    }
   ],
   "source": [
    "active_line.reverse_head()"
   ]
  },
  {
   "cell_type": "code",
   "execution_count": null,
   "id": "0fe5d165",
   "metadata": {},
   "outputs": [
    {
     "name": "stdout",
     "output_type": "stream",
     "text": [
      "3\n",
      "Active line: GrowingLine(id=25, head_fid=213787, points=12)\n"
     ]
    }
   ],
   "source": [
    "queue.extend(active_line.switch)\n",
    "print(len(queue))\n",
    "active_line = queue.pop()\n",
    "print(\"Active line:\", active_line)"
   ]
  },
  {
   "cell_type": "code",
   "execution_count": null,
   "id": "087df1ad",
   "metadata": {},
   "outputs": [
    {
     "name": "stdout",
     "output_type": "stream",
     "text": [
      "6.5373792594158795\n"
     ]
    }
   ],
   "source": [
    "geom = active_line.get_linestring()\n",
    "print(geom.Length())\n",
    "\n",
    "if geom.Length() > 5:\n",
    "    linelayer_add(linelayer, geom)\n"
   ]
  },
  {
   "cell_type": "code",
   "execution_count": null,
   "id": "d5e31379",
   "metadata": {},
   "outputs": [],
   "source": [
    "ds = None"
   ]
  },
  {
   "cell_type": "code",
   "execution_count": null,
   "id": "0c0c1958",
   "metadata": {},
   "outputs": [
    {
     "name": "stdout",
     "output_type": "stream",
     "text": [
      "1\n"
     ]
    }
   ],
   "source": [
    "print(len(active_line.switch))"
   ]
  },
  {
   "cell_type": "code",
   "execution_count": null,
   "id": "0bedee17",
   "metadata": {},
   "outputs": [
    {
     "data": {
      "text/plain": [
       "[array([4.47384935e+06, 5.33626463e+06, 5.16615298e+02]),\n",
       " array([4.47384955e+06, 5.33626366e+06, 5.16617102e+02]),\n",
       " array([4.47384969e+06, 5.33626298e+06, 5.16619140e+02]),\n",
       " array([4.47384989e+06, 5.33626206e+06, 5.16621711e+02]),\n",
       " array([4.47385004e+06, 5.33626134e+06, 5.16624717e+02]),\n",
       " array([4.47385021e+06, 5.33626051e+06, 5.16628995e+02]),\n",
       " array([4.47385036e+06, 5.33625985e+06, 5.16633380e+02]),\n",
       " array([4.47385056e+06, 5.33625890e+06, 5.16641226e+02]),\n",
       " array([4.47385077e+06, 5.33625794e+06, 5.16648073e+02]),\n",
       " array([4.47385094e+06, 5.33625716e+06, 5.16652350e+02]),\n",
       " array([4.47385115e+06, 5.33625621e+06, 5.16657833e+02]),\n",
       " array([4.47385134e+06, 5.33625536e+06, 5.16661790e+02])]"
      ]
     },
     "execution_count": 3471,
     "metadata": {},
     "output_type": "execute_result"
    }
   ],
   "source": [
    "active_line.points"
   ]
  },
  {
   "cell_type": "code",
   "execution_count": null,
   "id": "b8d3a32f",
   "metadata": {},
   "outputs": [
    {
     "data": {
      "text/plain": [
       "1103"
      ]
     },
     "execution_count": 3473,
     "metadata": {},
     "output_type": "execute_result"
    }
   ],
   "source": [
    "active_line.head_fid"
   ]
  },
  {
   "cell_type": "code",
   "execution_count": null,
   "id": "0a2ed3d8",
   "metadata": {},
   "outputs": [
    {
     "data": {
      "text/plain": [
       "array([4.47385134e+06, 5.33625536e+06, 5.16661790e+02])"
      ]
     },
     "execution_count": 3472,
     "metadata": {},
     "output_type": "execute_result"
    }
   ],
   "source": [
    "active_line.head_xyz"
   ]
  },
  {
   "cell_type": "code",
   "execution_count": null,
   "id": "9b9204a1",
   "metadata": {},
   "outputs": [
    {
     "data": {
      "text/plain": [
       "[<__main__.GrowingLine at 0x7f0a8f258940>,\n",
       " <__main__.GrowingLine at 0x7f0a8ec088e0>]"
      ]
     },
     "execution_count": 3436,
     "metadata": {},
     "output_type": "execute_result"
    }
   ],
   "source": [
    "active_line.switch "
   ]
  },
  {
   "cell_type": "code",
   "execution_count": null,
   "id": "841aedfd",
   "metadata": {},
   "outputs": [
    {
     "data": {
      "text/plain": [
       "87372"
      ]
     },
     "execution_count": 3437,
     "metadata": {},
     "output_type": "execute_result"
    }
   ],
   "source": [
    "active_line.switch[0].head_fid  "
   ]
  },
  {
   "cell_type": "code",
   "execution_count": null,
   "id": "f1513898",
   "metadata": {},
   "outputs": [
    {
     "data": {
      "text/plain": [
       "87394"
      ]
     },
     "execution_count": 3438,
     "metadata": {},
     "output_type": "execute_result"
    }
   ],
   "source": [
    "active_line.switch[1].head_fid  "
   ]
  },
  {
   "cell_type": "code",
   "execution_count": null,
   "id": "38a38a64",
   "metadata": {},
   "outputs": [
    {
     "data": {
      "text/plain": [
       "[<matplotlib.lines.Line2D at 0x7fb2fa8d1e20>]"
      ]
     },
     "execution_count": 303,
     "metadata": {},
     "output_type": "execute_result"
    },
    {
     "data": {
      "image/png": "[encoded data removed]",
      "text/plain": [
       "<Figure size 640x480 with 1 Axes>"
      ]
     },
     "metadata": {},
     "output_type": "display_data"
    }
   ],
   "source": [
    "foo = np.array(active_line.points)\n",
    "foo = foo[:,1] \n",
    "x = np.arange(len(foo))\n",
    "fig, ax = plt.subplots()\n",
    "ax.plot(x, foo)"
   ]
  },
  {
   "cell_type": "code",
   "execution_count": null,
   "id": "9e336a44",
   "metadata": {},
   "outputs": [
    {
     "data": {
      "text/plain": [
       "<matplotlib.collections.PathCollection at 0x7f0a8f4a0c10>"
      ]
     },
     "execution_count": 2250,
     "metadata": {},
     "output_type": "execute_result"
    },
    {
     "data": {
      "image/png": "[encoded data removed]",
      "text/plain": [
       "<Figure size 640x480 with 1 Axes>"
      ]
     },
     "metadata": {},
     "output_type": "display_data"
    }
   ],
   "source": [
    "fig, ax = plt.subplots()\n",
    "foo = np.array(active_line.points)\n",
    "x = foo[:,0]\n",
    "y = foo[:,1]\n",
    "ax.scatter(x, y, c='b', s=1)\n",
    "\n",
    "foo = np.array(active_line.switch[0].points)  \n",
    "x = foo[:,0]\n",
    "y = foo[:,1]\n",
    "ax.scatter(x, y, c='r', s=1)\n",
    "\n",
    "foo = np.array(active_line.switch[1].points)  \n",
    "x = foo[:,0]\n",
    "y = foo[:,1]\n",
    "ax.scatter(x, y, c='g', s=1)\n",
    "\n",
    "foo = np.array(active_line.switch[2].points)  \n",
    "x = foo[:,0]\n",
    "y = foo[:,1]\n",
    "ax.scatter(x, y, c='b', s=1)"
   ]
  },
  {
   "cell_type": "code",
   "execution_count": null,
   "id": "d0455130",
   "metadata": {},
   "outputs": [],
   "source": [
    "remove_points([feature.GetFID()], layer)"
   ]
  }
 ],
 "metadata": {
  "kernelspec": {
   "display_name": "points",
   "language": "python",
   "name": "points"
  },
  "language_info": {
   "codemirror_mode": {
    "name": "ipython",
    "version": 3
   },
   "file_extension": ".py",
   "mimetype": "text/x-python",
   "name": "python",
   "nbconvert_exporter": "python",
   "pygments_lexer": "ipython3",
   "version": "3.9.21"
  }
 },
 "nbformat": 4,
 "nbformat_minor": 5
}
