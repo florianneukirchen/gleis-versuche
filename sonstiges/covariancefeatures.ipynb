{
 "cells": [
  {
   "cell_type": "markdown",
   "metadata": {},
   "source": [
    "# Versuch mit CSF (Cloth Simulation Filter)"
   ]
  },
  {
   "cell_type": "code",
   "execution_count": 2,
   "metadata": {},
   "outputs": [],
   "source": [
    "import pdal \n",
    "import numpy as np\n",
    "import matplotlib.pyplot as plt\n",
    "import open3d as o3d\n",
    "from scipy.spatial import KDTree\n",
    "import os\n",
    "import json\n",
    "import time \n",
    "import pyvista as pv\n",
    "from interessant import * # Bei Änderungen Kernel neu starten"
   ]
  },
  {
   "cell_type": "code",
   "execution_count": 3,
   "metadata": {},
   "outputs": [
    {
     "name": "stdout",
     "output_type": "stream",
     "text": [
      "Weiche C 4473850_5336225.copc.laz\n"
     ]
    }
   ],
   "source": [
    "run = run24\n",
    "#run = run14\n",
    "# filename = interessant['OLA gleiche Höhe wie Gleis']\n",
    "\n",
    "# Bahnsteig: 29; Gleis hohe Intensität: 11; Weiche B: 16; Unterirdischer Bhf: 20; Gleis weit abseits: 23; Betondeckel: 28; Zug run 14 A (in run24 Achszähler): 6; \n",
    "# Viele Gleise: 33; Anfang Weiche: 34; OLA gleiche H: 35; Y: 37\n",
    "key = list(interessant.keys())[38] \n",
    "filename = interessant[key]\n",
    "print(key, filename)\n",
    "\n",
    "filename = os.path.join(run, filename)\n",
    "if not os.path.exists(filename):\n",
    "    raise FileNotFoundError(filename)"
   ]
  },
  {
   "cell_type": "markdown",
   "metadata": {},
   "source": [
    "Fast 2 Minuten"
   ]
  },
  {
   "cell_type": "code",
   "execution_count": 4,
   "metadata": {},
   "outputs": [
    {
     "name": "stdout",
     "output_type": "stream",
     "text": [
      "Number of points: 1598139\n"
     ]
    }
   ],
   "source": [
    "pipeline = pdal.Pipeline([pdal.Reader(filename)]) | pdal.Filter.optimalneighborhood() | pdal.Filter.covariancefeatures(feature_set='all')\n",
    "\n",
    "pipeline.execute()\n",
    "points = pipeline.arrays[0]\n",
    "print(\"Number of points:\", len(points))"
   ]
  },
  {
   "cell_type": "code",
   "execution_count": 5,
   "metadata": {},
   "outputs": [
    {
     "data": {
      "text/plain": [
       "('Linearity',\n",
       " 'Planarity',\n",
       " 'Scattering',\n",
       " 'Verticality',\n",
       " 'Omnivariance',\n",
       " 'Anisotropy',\n",
       " 'Eigenentropy',\n",
       " 'EigenvalueSum',\n",
       " 'SurfaceVariation',\n",
       " 'DemantkeVerticality',\n",
       " 'Density')"
      ]
     },
     "execution_count": 5,
     "metadata": {},
     "output_type": "execute_result"
    }
   ],
   "source": [
    "featurenames = points.dtype.names[23:]\n",
    "featurenames "
   ]
  },
  {
   "cell_type": "code",
   "execution_count": 18,
   "metadata": {},
   "outputs": [],
   "source": [
    "xyz = pv.PolyData(np.column_stack((points['X'], points['Y'], points['Z'])))"
   ]
  },
  {
   "cell_type": "code",
   "execution_count": 19,
   "metadata": {},
   "outputs": [
    {
     "name": "stdout",
     "output_type": "stream",
     "text": [
      "Linearity\n"
     ]
    },
    {
     "data": {
      "application/vnd.jupyter.widget-view+json": {
       "model_id": "637221ac29a34ba4a930d724624cf983",
       "version_major": 2,
       "version_minor": 0
      },
      "text/plain": [
       "Widget(value='<iframe src=\"http://localhost:33485/index.html?ui=P_0x7f324c0453d0_6&reconnect=auto\" class=\"pyvi…"
      ]
     },
     "metadata": {},
     "output_type": "display_data"
    }
   ],
   "source": [
    "f = featurenames[0]\n",
    "print(f)\n",
    "pcd = xyz\n",
    "pcd[f] = points[f]\n",
    "pcd.plot(scalars=f)"
   ]
  },
  {
   "cell_type": "code",
   "execution_count": null,
   "metadata": {},
   "outputs": [],
   "source": []
  },
  {
   "cell_type": "code",
   "execution_count": 8,
   "metadata": {},
   "outputs": [
    {
     "data": {
      "text/plain": [
       "dtype([('X', '<f8'), ('Y', '<f8'), ('Z', '<f8'), ('Intensity', '<u2'), ('ReturnNumber', 'u1'), ('NumberOfReturns', 'u1'), ('ScanDirectionFlag', 'u1'), ('EdgeOfFlightLine', 'u1'), ('Classification', 'u1'), ('Synthetic', 'u1'), ('KeyPoint', 'u1'), ('Withheld', 'u1'), ('Overlap', 'u1'), ('ScanAngleRank', '<f4'), ('UserData', 'u1'), ('PointSourceId', '<u2'), ('GpsTime', '<f8'), ('ScanChannel', 'u1'), ('Red', '<u2'), ('Green', '<u2'), ('Blue', '<u2'), ('OptimalKNN', '<u8'), ('OptimalRadius', '<f8'), ('Linearity', '<f8'), ('Planarity', '<f8'), ('Scattering', '<f8'), ('Verticality', '<f8'), ('Omnivariance', '<f8'), ('Anisotropy', '<f8'), ('Eigenentropy', '<f8'), ('EigenvalueSum', '<f8'), ('SurfaceVariation', '<f8'), ('DemantkeVerticality', '<f8'), ('Density', '<f8')])"
      ]
     },
     "execution_count": 8,
     "metadata": {},
     "output_type": "execute_result"
    }
   ],
   "source": [
    "points.dtype "
   ]
  },
  {
   "cell_type": "code",
   "execution_count": 9,
   "metadata": {},
   "outputs": [],
   "source": [
    "def prettyprint(jsonstring, indent=2):\n",
    "    print(json.dumps(json.loads(jsonstring), indent=indent))\n"
   ]
  },
  {
   "cell_type": "code",
   "execution_count": 10,
   "metadata": {},
   "outputs": [
    {
     "name": "stdout",
     "output_type": "stream",
     "text": [
      "[\n",
      "  {\n",
      "    \"filename\": \"/media/riannek/minimax/gleis/2024-08-13/01/run24/01/4473850_5336225.copc.laz\",\n",
      "    \"tag\": \"readers_copc1\",\n",
      "    \"type\": \"readers.copc\"\n",
      "  },\n",
      "  {\n",
      "    \"type\": \"filters.optimalneighborhood\",\n",
      "    \"tag\": \"filters_optimalneighborhood1\"\n",
      "  },\n",
      "  {\n",
      "    \"type\": \"filters.covariancefeatures\",\n",
      "    \"feature_set\": \"all\",\n",
      "    \"tag\": \"filters_covariancefeatures1\"\n",
      "  }\n",
      "]\n"
     ]
    }
   ],
   "source": [
    "prettyprint(pipeline.toJSON())"
   ]
  },
  {
   "cell_type": "code",
   "execution_count": 11,
   "metadata": {},
   "outputs": [
    {
     "name": "stdout",
     "output_type": "stream",
     "text": [
      "[\n",
      "  {\n",
      "    \"filename\": \"/media/riannek/minimax/gleis/2024-08-13/01/run24/01/4473850_5336225.copc.laz\",\n",
      "    \"tag\": \"readers_copc1\",\n",
      "    \"type\": \"readers.copc\"\n",
      "  },\n",
      "  {\n",
      "    \"type\": \"filters.optimalneighborhood\",\n",
      "    \"tag\": \"filters_optimalneighborhood1\"\n",
      "  },\n",
      "  {\n",
      "    \"type\": \"filters.covariancefeatures\",\n",
      "    \"feature_set\": \"all\",\n",
      "    \"tag\": \"filters_covariancefeatures1\"\n",
      "  }\n",
      "]\n"
     ]
    }
   ],
   "source": [
    "print(json.dumps(json.loads(pipeline.toJSON()), indent=2))"
   ]
  },
  {
   "cell_type": "code",
   "execution_count": null,
   "metadata": {},
   "outputs": [],
   "source": []
  }
 ],
 "metadata": {
  "kernelspec": {
   "display_name": "points",
   "language": "python",
   "name": "points"
  },
  "language_info": {
   "codemirror_mode": {
    "name": "ipython",
    "version": 3
   },
   "file_extension": ".py",
   "mimetype": "text/x-python",
   "name": "python",
   "nbconvert_exporter": "python",
   "pygments_lexer": "ipython3",
   "version": "3.9.21"
  }
 },
 "nbformat": 4,
 "nbformat_minor": 2
}
