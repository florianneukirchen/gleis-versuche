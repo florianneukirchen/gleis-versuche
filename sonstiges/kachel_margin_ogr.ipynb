{
 "cells": [
  {
   "cell_type": "code",
   "execution_count": 1,
   "metadata": {},
   "outputs": [],
   "source": [
    "from osgeo import ogr \n",
    "import os \n",
    "ogr.UseExceptions()"
   ]
  },
  {
   "cell_type": "code",
   "execution_count": 28,
   "metadata": {},
   "outputs": [],
   "source": [
    "basedir = \"/media/riannek/minimax/gleis\"\n",
    "tmpdir = \"/media/riannek/minimax/gleis/temp_fertig\"\n",
    "gpkg = \"lasfiles_run14_und_run24.gpkg\"\n",
    "layer_name = \"lasfile\""
   ]
  },
  {
   "cell_type": "code",
   "execution_count": 34,
   "metadata": {},
   "outputs": [],
   "source": [
    "gpkg = ogr.Open(os.path.join(tmpdir, \"temp.gpkg\"))\n",
    "\n",
    "layer = gpkg.GetLayerByName(\"tiles\")"
   ]
  },
  {
   "cell_type": "code",
   "execution_count": 7,
   "metadata": {},
   "outputs": [],
   "source": [
    "def extend_bbox(bbox, margin=2):\n",
    "    # MinX, MaxX, MinY, MaxY\n",
    "    return (bbox[0] - margin, bbox[1] + margin, bbox[2] - margin, bbox[3] + margin)"
   ]
  },
  {
   "cell_type": "code",
   "execution_count": 8,
   "metadata": {},
   "outputs": [],
   "source": [
    "def get_bbox_polygon(bbox):  \n",
    "    ring = ogr.Geometry(ogr.wkbLinearRing)      \n",
    "    ring.AddPoint_2D(bbox[0], bbox[2])  # MinX, MinY\n",
    "    ring.AddPoint_2D(bbox[1], bbox[2])  # MaxX, MinY\n",
    "    ring.AddPoint_2D(bbox[1], bbox[3])  # MaxX, MaxY\n",
    "    ring.AddPoint_2D(bbox[0], bbox[3])  # MinX, MaxY\n",
    "    ring.AddPoint_2D(bbox[0], bbox[2])  # Close ring\n",
    "    geom = ogr.Geometry(ogr.wkbPolygon)\n",
    "    geom.AddGeometry(ring)\n",
    "    return geom"
   ]
  },
  {
   "cell_type": "code",
   "execution_count": 37,
   "metadata": {},
   "outputs": [],
   "source": [
    "\n",
    "def tile_generator(layer):\n",
    "    bounding_boxes = []\n",
    "    for feature in layer:\n",
    "        bbox = feature.GetGeometryRef().GetEnvelope()\n",
    "        bounding_boxes.append(bbox)\n",
    "\n",
    "    for bbox in bounding_boxes:\n",
    "        extended = extend_bbox(bbox)\n",
    "        layer.ResetReading()\n",
    "        \n",
    "\n",
    "        bbox_geom = get_bbox_polygon(extended)\n",
    "        layer.SetSpatialFilter(bbox_geom)\n",
    "\n",
    "        tiles = [f.GetField(\"filename\") for f in layer]\n",
    "        \n",
    "        layer.SetSpatialFilter(None)\n",
    "        yield bbox, extended, tiles\n"
   ]
  },
  {
   "cell_type": "code",
   "execution_count": null,
   "metadata": {},
   "outputs": [],
   "source": [
    "#layer.ResetReading()"
   ]
  },
  {
   "cell_type": "code",
   "execution_count": 38,
   "metadata": {},
   "outputs": [],
   "source": [
    "generator = tile_generator(layer)"
   ]
  },
  {
   "cell_type": "code",
   "execution_count": 39,
   "metadata": {},
   "outputs": [
    {
     "name": "stdout",
     "output_type": "stream",
     "text": [
      "(4475525.0, 4475550.0, 5341275.0, 5341300.0)\n",
      "(4475523.0, 4475552.0, 5341273.0, 5341302.0)\n"
     ]
    },
    {
     "data": {
      "text/plain": [
       "['4475525_5341275.ply',\n",
       " '4475500_5341250.ply',\n",
       " '4475525_5341300.ply',\n",
       " '4475550_5341250.ply',\n",
       " '4475550_5341300.ply',\n",
       " '4475525_5341250.ply',\n",
       " '4475500_5341275.ply',\n",
       " '4475500_5341300.ply',\n",
       " '4475550_5341275.ply']"
      ]
     },
     "execution_count": 39,
     "metadata": {},
     "output_type": "execute_result"
    }
   ],
   "source": [
    "bbox, extend_bbox, tiles = next(generator)\n",
    "print(bbox) \n",
    "print(extend_bbox) \n",
    "tiles"
   ]
  },
  {
   "cell_type": "code",
   "execution_count": 270,
   "metadata": {},
   "outputs": [
    {
     "data": {
      "text/plain": [
       "'POLYGON ((4474108.522 4474125.0,5333500 4474125,5333500.0 5333518.616,4474108.522 5333518.616,4474108.522 4474125.0))'"
      ]
     },
     "execution_count": 270,
     "metadata": {},
     "output_type": "execute_result"
    }
   ],
   "source": [
    "get_bbox_polygon(bbox).ExportToWkt()"
   ]
  },
  {
   "cell_type": "code",
   "execution_count": null,
   "metadata": {},
   "outputs": [],
   "source": []
  }
 ],
 "metadata": {
  "kernelspec": {
   "display_name": "points",
   "language": "python",
   "name": "points"
  },
  "language_info": {
   "codemirror_mode": {
    "name": "ipython",
    "version": 3
   },
   "file_extension": ".py",
   "mimetype": "text/x-python",
   "name": "python",
   "nbconvert_exporter": "python",
   "pygments_lexer": "ipython3",
   "version": "3.9.21"
  }
 },
 "nbformat": 4,
 "nbformat_minor": 2
}
