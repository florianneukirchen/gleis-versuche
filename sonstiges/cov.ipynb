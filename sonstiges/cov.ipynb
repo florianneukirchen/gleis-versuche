{
 "cells": [
  {
   "cell_type": "code",
   "execution_count": 1,
   "metadata": {},
   "outputs": [],
   "source": [
    "import pdal \n",
    "import numpy as np\n",
    "import matplotlib.pyplot as plt\n",
    "from scipy.spatial import KDTree\n",
    "from scipy.linalg import svd \n",
    "from osgeo import ogr\n",
    "import pyvista as pv\n",
    "import os\n",
    "import json\n",
    "import time "
   ]
  },
  {
   "cell_type": "code",
   "execution_count": 2,
   "metadata": {},
   "outputs": [],
   "source": [
    "filename = \"abseits1.las\"\n",
    "\n",
    "filename = os.path.join(\"/home/riannek/code/gleis/versuche/template_versuchsdaten\", filename)"
   ]
  },
  {
   "cell_type": "code",
   "execution_count": 3,
   "metadata": {},
   "outputs": [
    {
     "data": {
      "text/plain": [
       "dtype([('X', '<f8'), ('Y', '<f8'), ('Z', '<f8'), ('Intensity', '<u2'), ('ReturnNumber', 'u1'), ('NumberOfReturns', 'u1'), ('ScanDirectionFlag', 'u1'), ('EdgeOfFlightLine', 'u1'), ('Classification', 'u1'), ('Synthetic', 'u1'), ('KeyPoint', 'u1'), ('Withheld', 'u1'), ('Overlap', 'u1'), ('ScanAngleRank', '<f4'), ('UserData', 'u1'), ('PointSourceId', '<u2'), ('GpsTime', '<f8'), ('ScanChannel', 'u1'), ('Red', '<u2'), ('Green', '<u2'), ('Blue', '<u2')])"
      ]
     },
     "execution_count": 3,
     "metadata": {},
     "output_type": "execute_result"
    }
   ],
   "source": [
    "pipeline = pdal.Pipeline([pdal.Reader(filename)])\n",
    "pipeline.execute()\n",
    "points = pipeline.arrays[0]\n",
    "points.dtype # Column names and types"
   ]
  },
  {
   "cell_type": "code",
   "execution_count": 5,
   "metadata": {},
   "outputs": [],
   "source": [
    "xyz = np.vstack((points['X'], points['Y'], points['Z'])).T\n",
    "mean = np.mean(xyz, axis=0)\n",
    "xyz -= mean  "
   ]
  },
  {
   "cell_type": "code",
   "execution_count": 11,
   "metadata": {},
   "outputs": [],
   "source": [
    "n = xyz.shape[0]"
   ]
  },
  {
   "cell_type": "code",
   "execution_count": 9,
   "metadata": {},
   "outputs": [
    {
     "data": {
      "text/plain": [
       "array([[ 0.0527651 , -0.14828021,  0.00068543],\n",
       "       [-0.14828021,  0.41852224, -0.00118485],\n",
       "       [ 0.00068543, -0.00118485,  0.00109442]])"
      ]
     },
     "execution_count": 9,
     "metadata": {},
     "output_type": "execute_result"
    }
   ],
   "source": [
    "np.cov(xyz.T)"
   ]
  },
  {
   "cell_type": "code",
   "execution_count": null,
   "metadata": {},
   "outputs": [],
   "source": []
  },
  {
   "cell_type": "code",
   "execution_count": 13,
   "metadata": {},
   "outputs": [
    {
     "data": {
      "text/plain": [
       "array([[ 0.0527651 , -0.14828021,  0.00068543],\n",
       "       [-0.14828021,  0.41852224, -0.00118485],\n",
       "       [ 0.00068543, -0.00118485,  0.00109442]])"
      ]
     },
     "execution_count": 13,
     "metadata": {},
     "output_type": "execute_result"
    }
   ],
   "source": [
    "np.cov(xyz.T)"
   ]
  },
  {
   "cell_type": "code",
   "execution_count": null,
   "metadata": {},
   "outputs": [
    {
     "data": {
      "text/plain": [
       "array([[ 2.46498488e-03,  2.08655160e-03, -5.27757883e-03, ...,\n",
       "        -3.60165045e-04,  2.95888293e-03, -3.89798364e-03],\n",
       "       [ 2.08655160e-03,  1.81420527e-03, -4.48905560e-03, ...,\n",
       "        -2.95120069e-04,  2.56827574e-03, -3.31989519e-03],\n",
       "       [-5.27757883e-03, -4.48905560e-03,  1.13094227e-02, ...,\n",
       "         7.66836450e-04, -6.36368079e-03,  8.35510482e-03],\n",
       "       ...,\n",
       "       [-3.60165045e-04, -2.95120069e-04,  7.66836450e-04, ...,\n",
       "         5.46850278e-05, -4.19310473e-04,  5.65562088e-04],\n",
       "       [ 2.95888293e-03,  2.56827574e-03, -6.36368079e-03, ...,\n",
       "        -4.19310473e-04,  3.63625924e-03, -4.70582472e-03],\n",
       "       [-3.89798364e-03, -3.31989519e-03,  8.35510482e-03, ...,\n",
       "         5.65562088e-04, -4.70582472e-03,  6.17296089e-03]])"
      ]
     },
     "execution_count": 12,
     "metadata": {},
     "output_type": "execute_result"
    }
   ],
   "source": [
    "(xyz @ xyz.T) "
   ]
  },
  {
   "cell_type": "code",
   "execution_count": 14,
   "metadata": {},
   "outputs": [
    {
     "data": {
      "text/plain": [
       "array([[ 0.0527651 , -0.14828021,  0.00068543],\n",
       "       [-0.14828021,  0.41852224, -0.00118485],\n",
       "       [ 0.00068543, -0.00118485,  0.00109442]])"
      ]
     },
     "execution_count": 14,
     "metadata": {},
     "output_type": "execute_result"
    }
   ],
   "source": [
    "xyz.T @ xyz * (1/(n-1))"
   ]
  },
  {
   "cell_type": "code",
   "execution_count": null,
   "metadata": {},
   "outputs": [],
   "source": []
  }
 ],
 "metadata": {
  "kernelspec": {
   "display_name": "points",
   "language": "python",
   "name": "points"
  },
  "language_info": {
   "codemirror_mode": {
    "name": "ipython",
    "version": 3
   },
   "file_extension": ".py",
   "mimetype": "text/x-python",
   "name": "python",
   "nbconvert_exporter": "python",
   "pygments_lexer": "ipython3",
   "version": "3.9.21"
  }
 },
 "nbformat": 4,
 "nbformat_minor": 2
}
