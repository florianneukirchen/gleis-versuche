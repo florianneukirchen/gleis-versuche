{
 "cells": [
  {
   "cell_type": "code",
   "execution_count": 51,
   "metadata": {},
   "outputs": [],
   "source": [
    "import pandas as pd \n",
    "import geopandas as gpd \n",
    "import fiona \n",
    "import os\n",
    "from shapely.geometry import box\n",
    "import pdal \n",
    "import numpy as np\n",
    "import pyvista as pv"
   ]
  },
  {
   "cell_type": "code",
   "execution_count": 4,
   "metadata": {},
   "outputs": [
    {
     "data": {
      "text/plain": [
       "['lasfile', 'notes', 'profil', 'layer_styles']"
      ]
     },
     "execution_count": 4,
     "metadata": {},
     "output_type": "execute_result"
    }
   ],
   "source": [
    "basedir = \"/media/riannek/minimax/gleis\"\n",
    "gpkg = \"lasfiles_run14_und_run24.gpkg\"\n",
    "\n",
    "\n",
    "gpkg = os.path.join(basedir, gpkg)\n",
    "fiona.listlayers(gpkg)"
   ]
  },
  {
   "cell_type": "code",
   "execution_count": 8,
   "metadata": {},
   "outputs": [
    {
     "data": {
      "text/plain": [
       "<Projected CRS: EPSG:5684>\n",
       "Name: DB_REF / 3-degree Gauss-Kruger zone 4 (E-N)\n",
       "Axis Info [cartesian]:\n",
       "- E[east]: Easting (metre)\n",
       "- N[north]: Northing (metre)\n",
       "Area of Use:\n",
       "- name: Germany - onshore between 10°30'E and 13°30'E.\n",
       "- bounds: (10.5, 47.39, 13.51, 54.74)\n",
       "Coordinate Operation:\n",
       "- name: 3-degree Gauss-Kruger zone 4\n",
       "- method: Transverse Mercator\n",
       "Datum: Deutsche Bahn Reference System\n",
       "- Ellipsoid: Bessel 1841\n",
       "- Prime Meridian: Greenwich"
      ]
     },
     "execution_count": 8,
     "metadata": {},
     "output_type": "execute_result"
    }
   ],
   "source": [
    "gdf = gpd.read_file(gpkg, layer='lasfile')\n",
    "gdf.crs "
   ]
  },
  {
   "cell_type": "code",
   "execution_count": 9,
   "metadata": {},
   "outputs": [
    {
     "data": {
      "text/html": [
       "<div>\n",
       "<style scoped>\n",
       "    .dataframe tbody tr th:only-of-type {\n",
       "        vertical-align: middle;\n",
       "    }\n",
       "\n",
       "    .dataframe tbody tr th {\n",
       "        vertical-align: top;\n",
       "    }\n",
       "\n",
       "    .dataframe thead th {\n",
       "        text-align: right;\n",
       "    }\n",
       "</style>\n",
       "<table border=\"1\" class=\"dataframe\">\n",
       "  <thead>\n",
       "    <tr style=\"text-align: right;\">\n",
       "      <th></th>\n",
       "      <th>lasfile_id</th>\n",
       "      <th>filename</th>\n",
       "      <th>filedirectory</th>\n",
       "      <th>messfahrtmission</th>\n",
       "      <th>messfahrttag</th>\n",
       "      <th>messfahrtnr</th>\n",
       "      <th>messfahrtunternr</th>\n",
       "      <th>filesize</th>\n",
       "      <th>filedate</th>\n",
       "      <th>gueltig</th>\n",
       "      <th>geometry</th>\n",
       "    </tr>\n",
       "  </thead>\n",
       "  <tbody>\n",
       "    <tr>\n",
       "      <th>0</th>\n",
       "      <td>135813</td>\n",
       "      <td>2024-08-13/01/run24/01/4473975_5335075.copc.laz</td>\n",
       "      <td>J:/28G/28G0746.200/T3_ID/T3.9_MSE/01_Mobile_Ma...</td>\n",
       "      <td>1</td>\n",
       "      <td>2024-08-13</td>\n",
       "      <td>24</td>\n",
       "      <td>1</td>\n",
       "      <td>38399274</td>\n",
       "      <td>2024-11-29 22:55:09.521</td>\n",
       "      <td>True</td>\n",
       "      <td>POLYGON ((4474000 5335075, 4474000 5335100, 44...</td>\n",
       "    </tr>\n",
       "    <tr>\n",
       "      <th>1</th>\n",
       "      <td>135814</td>\n",
       "      <td>2024-08-13/01/run24/01/4473975_5335100.copc.laz</td>\n",
       "      <td>J:/28G/28G0746.200/T3_ID/T3.9_MSE/01_Mobile_Ma...</td>\n",
       "      <td>1</td>\n",
       "      <td>2024-08-13</td>\n",
       "      <td>24</td>\n",
       "      <td>1</td>\n",
       "      <td>34373761</td>\n",
       "      <td>2024-11-29 22:55:32.865</td>\n",
       "      <td>True</td>\n",
       "      <td>POLYGON ((4474000 5335100, 4474000 5335125, 44...</td>\n",
       "    </tr>\n",
       "    <tr>\n",
       "      <th>2</th>\n",
       "      <td>135815</td>\n",
       "      <td>2024-08-13/01/run24/01/4473975_5335125.copc.laz</td>\n",
       "      <td>J:/28G/28G0746.200/T3_ID/T3.9_MSE/01_Mobile_Ma...</td>\n",
       "      <td>1</td>\n",
       "      <td>2024-08-13</td>\n",
       "      <td>24</td>\n",
       "      <td>1</td>\n",
       "      <td>24133357</td>\n",
       "      <td>2024-11-29 22:55:54.381</td>\n",
       "      <td>True</td>\n",
       "      <td>POLYGON ((4474000 5335125, 4474000 5335150, 44...</td>\n",
       "    </tr>\n",
       "    <tr>\n",
       "      <th>3</th>\n",
       "      <td>135816</td>\n",
       "      <td>2024-08-13/01/run24/01/4473975_5335150.copc.laz</td>\n",
       "      <td>J:/28G/28G0746.200/T3_ID/T3.9_MSE/01_Mobile_Ma...</td>\n",
       "      <td>1</td>\n",
       "      <td>2024-08-13</td>\n",
       "      <td>24</td>\n",
       "      <td>1</td>\n",
       "      <td>18793899</td>\n",
       "      <td>2024-11-29 22:56:07.616</td>\n",
       "      <td>True</td>\n",
       "      <td>POLYGON ((4474000 5335150, 4474000 5335175, 44...</td>\n",
       "    </tr>\n",
       "    <tr>\n",
       "      <th>4</th>\n",
       "      <td>135817</td>\n",
       "      <td>2024-08-13/01/run24/01/4473975_5335175.copc.laz</td>\n",
       "      <td>J:/28G/28G0746.200/T3_ID/T3.9_MSE/01_Mobile_Ma...</td>\n",
       "      <td>1</td>\n",
       "      <td>2024-08-13</td>\n",
       "      <td>24</td>\n",
       "      <td>1</td>\n",
       "      <td>13118441</td>\n",
       "      <td>2024-11-29 22:56:26.013</td>\n",
       "      <td>True</td>\n",
       "      <td>POLYGON ((4474000 5335175, 4474000 5335200, 44...</td>\n",
       "    </tr>\n",
       "  </tbody>\n",
       "</table>\n",
       "</div>"
      ],
      "text/plain": [
       "   lasfile_id                                         filename  \\\n",
       "0      135813  2024-08-13/01/run24/01/4473975_5335075.copc.laz   \n",
       "1      135814  2024-08-13/01/run24/01/4473975_5335100.copc.laz   \n",
       "2      135815  2024-08-13/01/run24/01/4473975_5335125.copc.laz   \n",
       "3      135816  2024-08-13/01/run24/01/4473975_5335150.copc.laz   \n",
       "4      135817  2024-08-13/01/run24/01/4473975_5335175.copc.laz   \n",
       "\n",
       "                                       filedirectory  messfahrtmission  \\\n",
       "0  J:/28G/28G0746.200/T3_ID/T3.9_MSE/01_Mobile_Ma...                 1   \n",
       "1  J:/28G/28G0746.200/T3_ID/T3.9_MSE/01_Mobile_Ma...                 1   \n",
       "2  J:/28G/28G0746.200/T3_ID/T3.9_MSE/01_Mobile_Ma...                 1   \n",
       "3  J:/28G/28G0746.200/T3_ID/T3.9_MSE/01_Mobile_Ma...                 1   \n",
       "4  J:/28G/28G0746.200/T3_ID/T3.9_MSE/01_Mobile_Ma...                 1   \n",
       "\n",
       "  messfahrttag  messfahrtnr  messfahrtunternr  filesize  \\\n",
       "0   2024-08-13           24                 1  38399274   \n",
       "1   2024-08-13           24                 1  34373761   \n",
       "2   2024-08-13           24                 1  24133357   \n",
       "3   2024-08-13           24                 1  18793899   \n",
       "4   2024-08-13           24                 1  13118441   \n",
       "\n",
       "                 filedate  gueltig  \\\n",
       "0 2024-11-29 22:55:09.521     True   \n",
       "1 2024-11-29 22:55:32.865     True   \n",
       "2 2024-11-29 22:55:54.381     True   \n",
       "3 2024-11-29 22:56:07.616     True   \n",
       "4 2024-11-29 22:56:26.013     True   \n",
       "\n",
       "                                            geometry  \n",
       "0  POLYGON ((4474000 5335075, 4474000 5335100, 44...  \n",
       "1  POLYGON ((4474000 5335100, 4474000 5335125, 44...  \n",
       "2  POLYGON ((4474000 5335125, 4474000 5335150, 44...  \n",
       "3  POLYGON ((4474000 5335150, 4474000 5335175, 44...  \n",
       "4  POLYGON ((4474000 5335175, 4474000 5335200, 44...  "
      ]
     },
     "execution_count": 9,
     "metadata": {},
     "output_type": "execute_result"
    }
   ],
   "source": [
    "gdf.head()"
   ]
  },
  {
   "cell_type": "code",
   "execution_count": 11,
   "metadata": {},
   "outputs": [],
   "source": [
    "run = gdf[gdf[\"messfahrtnr\"] == 24]"
   ]
  },
  {
   "cell_type": "code",
   "execution_count": 20,
   "metadata": {},
   "outputs": [
    {
     "data": {
      "text/html": [
       "<div>\n",
       "<style scoped>\n",
       "    .dataframe tbody tr th:only-of-type {\n",
       "        vertical-align: middle;\n",
       "    }\n",
       "\n",
       "    .dataframe tbody tr th {\n",
       "        vertical-align: top;\n",
       "    }\n",
       "\n",
       "    .dataframe thead th {\n",
       "        text-align: right;\n",
       "    }\n",
       "</style>\n",
       "<table border=\"1\" class=\"dataframe\">\n",
       "  <thead>\n",
       "    <tr style=\"text-align: right;\">\n",
       "      <th></th>\n",
       "      <th>minx</th>\n",
       "      <th>miny</th>\n",
       "      <th>maxx</th>\n",
       "      <th>maxy</th>\n",
       "    </tr>\n",
       "  </thead>\n",
       "  <tbody>\n",
       "    <tr>\n",
       "      <th>0</th>\n",
       "      <td>4473975.0</td>\n",
       "      <td>5335075.0</td>\n",
       "      <td>4474000.0</td>\n",
       "      <td>5335100.0</td>\n",
       "    </tr>\n",
       "    <tr>\n",
       "      <th>1</th>\n",
       "      <td>4473975.0</td>\n",
       "      <td>5335100.0</td>\n",
       "      <td>4474000.0</td>\n",
       "      <td>5335125.0</td>\n",
       "    </tr>\n",
       "    <tr>\n",
       "      <th>2</th>\n",
       "      <td>4473975.0</td>\n",
       "      <td>5335125.0</td>\n",
       "      <td>4474000.0</td>\n",
       "      <td>5335150.0</td>\n",
       "    </tr>\n",
       "    <tr>\n",
       "      <th>3</th>\n",
       "      <td>4473975.0</td>\n",
       "      <td>5335150.0</td>\n",
       "      <td>4474000.0</td>\n",
       "      <td>5335175.0</td>\n",
       "    </tr>\n",
       "    <tr>\n",
       "      <th>4</th>\n",
       "      <td>4473975.0</td>\n",
       "      <td>5335175.0</td>\n",
       "      <td>4474000.0</td>\n",
       "      <td>5335200.0</td>\n",
       "    </tr>\n",
       "  </tbody>\n",
       "</table>\n",
       "</div>"
      ],
      "text/plain": [
       "        minx       miny       maxx       maxy\n",
       "0  4473975.0  5335075.0  4474000.0  5335100.0\n",
       "1  4473975.0  5335100.0  4474000.0  5335125.0\n",
       "2  4473975.0  5335125.0  4474000.0  5335150.0\n",
       "3  4473975.0  5335150.0  4474000.0  5335175.0\n",
       "4  4473975.0  5335175.0  4474000.0  5335200.0"
      ]
     },
     "execution_count": 20,
     "metadata": {},
     "output_type": "execute_result"
    }
   ],
   "source": [
    "bounds = run.bounds \n",
    "bounds.head()"
   ]
  },
  {
   "cell_type": "code",
   "execution_count": 33,
   "metadata": {},
   "outputs": [],
   "source": [
    "margin = 2"
   ]
  },
  {
   "cell_type": "code",
   "execution_count": 21,
   "metadata": {},
   "outputs": [
    {
     "data": {
      "text/html": [
       "<div>\n",
       "<style scoped>\n",
       "    .dataframe tbody tr th:only-of-type {\n",
       "        vertical-align: middle;\n",
       "    }\n",
       "\n",
       "    .dataframe tbody tr th {\n",
       "        vertical-align: top;\n",
       "    }\n",
       "\n",
       "    .dataframe thead th {\n",
       "        text-align: right;\n",
       "    }\n",
       "</style>\n",
       "<table border=\"1\" class=\"dataframe\">\n",
       "  <thead>\n",
       "    <tr style=\"text-align: right;\">\n",
       "      <th></th>\n",
       "      <th>minx</th>\n",
       "      <th>miny</th>\n",
       "      <th>maxx</th>\n",
       "      <th>maxy</th>\n",
       "    </tr>\n",
       "  </thead>\n",
       "  <tbody>\n",
       "    <tr>\n",
       "      <th>0</th>\n",
       "      <td>4473973.0</td>\n",
       "      <td>5335073.0</td>\n",
       "      <td>4474002.0</td>\n",
       "      <td>5335102.0</td>\n",
       "    </tr>\n",
       "    <tr>\n",
       "      <th>1</th>\n",
       "      <td>4473973.0</td>\n",
       "      <td>5335098.0</td>\n",
       "      <td>4474002.0</td>\n",
       "      <td>5335127.0</td>\n",
       "    </tr>\n",
       "    <tr>\n",
       "      <th>2</th>\n",
       "      <td>4473973.0</td>\n",
       "      <td>5335123.0</td>\n",
       "      <td>4474002.0</td>\n",
       "      <td>5335152.0</td>\n",
       "    </tr>\n",
       "    <tr>\n",
       "      <th>3</th>\n",
       "      <td>4473973.0</td>\n",
       "      <td>5335148.0</td>\n",
       "      <td>4474002.0</td>\n",
       "      <td>5335177.0</td>\n",
       "    </tr>\n",
       "    <tr>\n",
       "      <th>4</th>\n",
       "      <td>4473973.0</td>\n",
       "      <td>5335173.0</td>\n",
       "      <td>4474002.0</td>\n",
       "      <td>5335202.0</td>\n",
       "    </tr>\n",
       "  </tbody>\n",
       "</table>\n",
       "</div>"
      ],
      "text/plain": [
       "        minx       miny       maxx       maxy\n",
       "0  4473973.0  5335073.0  4474002.0  5335102.0\n",
       "1  4473973.0  5335098.0  4474002.0  5335127.0\n",
       "2  4473973.0  5335123.0  4474002.0  5335152.0\n",
       "3  4473973.0  5335148.0  4474002.0  5335177.0\n",
       "4  4473973.0  5335173.0  4474002.0  5335202.0"
      ]
     },
     "execution_count": 21,
     "metadata": {},
     "output_type": "execute_result"
    }
   ],
   "source": [
    "bounds[\"minx\"] -= 2 \n",
    "bounds[\"miny\"] -= 2 \n",
    "bounds[\"maxx\"] += 2\n",
    "bounds[\"maxy\"] += 2\n",
    "\n",
    "bounds.head()"
   ]
  },
  {
   "cell_type": "code",
   "execution_count": 46,
   "metadata": {},
   "outputs": [
    {
     "data": {
      "text/plain": [
       "minx    4473973.0\n",
       "miny    5335073.0\n",
       "maxx    4474002.0\n",
       "maxy    5335102.0\n",
       "Name: 0, dtype: float64"
      ]
     },
     "execution_count": 46,
     "metadata": {},
     "output_type": "execute_result"
    }
   ],
   "source": [
    "bounds.loc[0]"
   ]
  },
  {
   "cell_type": "code",
   "execution_count": 23,
   "metadata": {},
   "outputs": [],
   "source": [
    "with_margin = gpd.GeoDataFrame(geometry=[box(minx, miny, maxx, maxy) for minx, miny, maxx, maxy in bounds.values], crs=gdf.crs)"
   ]
  },
  {
   "cell_type": "code",
   "execution_count": 24,
   "metadata": {},
   "outputs": [
    {
     "data": {
      "text/html": [
       "<div>\n",
       "<style scoped>\n",
       "    .dataframe tbody tr th:only-of-type {\n",
       "        vertical-align: middle;\n",
       "    }\n",
       "\n",
       "    .dataframe tbody tr th {\n",
       "        vertical-align: top;\n",
       "    }\n",
       "\n",
       "    .dataframe thead th {\n",
       "        text-align: right;\n",
       "    }\n",
       "</style>\n",
       "<table border=\"1\" class=\"dataframe\">\n",
       "  <thead>\n",
       "    <tr style=\"text-align: right;\">\n",
       "      <th></th>\n",
       "      <th>geometry</th>\n",
       "    </tr>\n",
       "  </thead>\n",
       "  <tbody>\n",
       "    <tr>\n",
       "      <th>0</th>\n",
       "      <td>POLYGON ((4474002 5335073, 4474002 5335102, 44...</td>\n",
       "    </tr>\n",
       "    <tr>\n",
       "      <th>1</th>\n",
       "      <td>POLYGON ((4474002 5335098, 4474002 5335127, 44...</td>\n",
       "    </tr>\n",
       "    <tr>\n",
       "      <th>2</th>\n",
       "      <td>POLYGON ((4474002 5335123, 4474002 5335152, 44...</td>\n",
       "    </tr>\n",
       "    <tr>\n",
       "      <th>3</th>\n",
       "      <td>POLYGON ((4474002 5335148, 4474002 5335177, 44...</td>\n",
       "    </tr>\n",
       "    <tr>\n",
       "      <th>4</th>\n",
       "      <td>POLYGON ((4474002 5335173, 4474002 5335202, 44...</td>\n",
       "    </tr>\n",
       "  </tbody>\n",
       "</table>\n",
       "</div>"
      ],
      "text/plain": [
       "                                            geometry\n",
       "0  POLYGON ((4474002 5335073, 4474002 5335102, 44...\n",
       "1  POLYGON ((4474002 5335098, 4474002 5335127, 44...\n",
       "2  POLYGON ((4474002 5335123, 4474002 5335152, 44...\n",
       "3  POLYGON ((4474002 5335148, 4474002 5335177, 44...\n",
       "4  POLYGON ((4474002 5335173, 4474002 5335202, 44..."
      ]
     },
     "execution_count": 24,
     "metadata": {},
     "output_type": "execute_result"
    }
   ],
   "source": [
    "with_margin.head()"
   ]
  },
  {
   "cell_type": "code",
   "execution_count": 36,
   "metadata": {},
   "outputs": [],
   "source": [
    "expanded_bounds = with_margin.loc[0].geometry"
   ]
  },
  {
   "cell_type": "code",
   "execution_count": 77,
   "metadata": {},
   "outputs": [],
   "source": [
    "bbox = bounds.loc[0]"
   ]
  },
  {
   "cell_type": "code",
   "execution_count": 44,
   "metadata": {},
   "outputs": [
    {
     "data": {
      "text/plain": [
       "0       2024-08-13/01/run24/01/4473975_5335075.copc.laz\n",
       "1       2024-08-13/01/run24/01/4473975_5335100.copc.laz\n",
       "59      2024-08-13/01/run24/01/4474000_5335050.copc.laz\n",
       "60      2024-08-13/01/run24/01/4474000_5335075.copc.laz\n",
       "61      2024-08-13/01/run24/01/4474000_5335100.copc.laz\n",
       "8113    2024-08-13/01/run24/01/4473950_5335050.copc.laz\n",
       "8114    2024-08-13/01/run24/01/4473950_5335075.copc.laz\n",
       "8115    2024-08-13/01/run24/01/4473950_5335100.copc.laz\n",
       "8175    2024-08-13/01/run24/01/4473975_5335050.copc.laz\n",
       "Name: filename, dtype: object"
      ]
     },
     "execution_count": 44,
     "metadata": {},
     "output_type": "execute_result"
    }
   ],
   "source": [
    "run[run.intersects(expanded_bounds)][\"filename\"]"
   ]
  },
  {
   "cell_type": "code",
   "execution_count": 50,
   "metadata": {},
   "outputs": [],
   "source": [
    "files = run[run.intersects(expanded_bounds)][\"filename\"].to_list() "
   ]
  },
  {
   "cell_type": "code",
   "execution_count": 53,
   "metadata": {},
   "outputs": [],
   "source": [
    "filename = os.path.join(basedir, files[0])\n",
    "\n",
    "pipeline = pdal.Pipeline([pdal.Reader(filename)])\n",
    "pipeline.execute()\n",
    "points = pipeline.arrays[0]"
   ]
  },
  {
   "cell_type": "code",
   "execution_count": 65,
   "metadata": {},
   "outputs": [],
   "source": [
    "pipeline = pdal.Reader(os.path.join(basedir, files[0])) | pdal.Reader(os.path.join(basedir, files[1]))\n",
    "pipeline.execute()\n",
    "points = pipeline.arrays[0]"
   ]
  },
  {
   "cell_type": "code",
   "execution_count": 67,
   "metadata": {},
   "outputs": [],
   "source": [
    "pipeline = pdal.Pipeline([pdal.Reader(os.path.join(basedir, files[0])), pdal.Reader(os.path.join(basedir, files[1]))])\n",
    "pipeline.execute()\n",
    "points = pipeline.arrays[0]"
   ]
  },
  {
   "cell_type": "code",
   "execution_count": 78,
   "metadata": {},
   "outputs": [
    {
     "data": {
      "text/plain": [
       "minx    4473973.0\n",
       "miny    5335073.0\n",
       "maxx    4474002.0\n",
       "maxy    5335102.0\n",
       "Name: 0, dtype: float64"
      ]
     },
     "execution_count": 78,
     "metadata": {},
     "output_type": "execute_result"
    }
   ],
   "source": [
    "bbox"
   ]
  },
  {
   "cell_type": "code",
   "execution_count": 81,
   "metadata": {},
   "outputs": [
    {
     "data": {
      "text/plain": [
       "'([4473973.0,5335073.0], [4474002.0,5335102.0])'"
      ]
     },
     "execution_count": 81,
     "metadata": {},
     "output_type": "execute_result"
    }
   ],
   "source": [
    "b = f\"([{bbox.minx},{bbox.miny}], [{bbox.maxx},{bbox.maxy}])\"\n",
    "b"
   ]
  },
  {
   "cell_type": "markdown",
   "metadata": {},
   "source": [
    "- Jede Kachel kann 8 Nachbarn haben, macht 9 Dateien.\n",
    "- Das Laden dauert dann 10 s!"
   ]
  },
  {
   "cell_type": "code",
   "execution_count": 82,
   "metadata": {},
   "outputs": [],
   "source": [
    "pipeline = pdal.Pipeline([pdal.Reader(os.path.join(basedir, file)) for file in files]) | pdal.Filter.merge() | pdal.Filter.crop(bounds=b)\n",
    "pipeline.execute()\n",
    "points = pipeline.arrays[0]"
   ]
  },
  {
   "cell_type": "code",
   "execution_count": 84,
   "metadata": {},
   "outputs": [
    {
     "data": {
      "application/vnd.jupyter.widget-view+json": {
       "model_id": "28a93bbe889b452ea4d62139906bb99a",
       "version_major": 2,
       "version_minor": 0
      },
      "text/plain": [
       "Widget(value='<iframe src=\"http://localhost:33913/index.html?ui=P_0x7fcd842e85b0_5&reconnect=auto\" class=\"pyvi…"
      ]
     },
     "metadata": {},
     "output_type": "display_data"
    }
   ],
   "source": [
    "xyz = np.column_stack((points['X'], points['Y'], points['Z']))\n",
    "pcd = pv.PolyData(xyz)\n",
    "pcd['Intensity'] = points['Intensity']\n",
    "pcd.plot(scalars=\"Intensity\")"
   ]
  },
  {
   "cell_type": "code",
   "execution_count": null,
   "metadata": {},
   "outputs": [],
   "source": []
  }
 ],
 "metadata": {
  "kernelspec": {
   "display_name": "points",
   "language": "python",
   "name": "points"
  },
  "language_info": {
   "codemirror_mode": {
    "name": "ipython",
    "version": 3
   },
   "file_extension": ".py",
   "mimetype": "text/x-python",
   "name": "python",
   "nbconvert_exporter": "python",
   "pygments_lexer": "ipython3",
   "version": "3.9.21"
  }
 },
 "nbformat": 4,
 "nbformat_minor": 2
}
