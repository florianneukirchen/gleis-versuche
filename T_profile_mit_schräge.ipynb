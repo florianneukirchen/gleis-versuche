{
 "cells": [
  {
   "cell_type": "markdown",
   "metadata": {},
   "source": [
    "# T Profile als Templates"
   ]
  },
  {
   "cell_type": "code",
   "execution_count": 148,
   "metadata": {},
   "outputs": [],
   "source": [
    "import numpy as np\n",
    "import open3d as o3d\n",
    "import os"
   ]
  },
  {
   "cell_type": "code",
   "execution_count": 149,
   "metadata": {},
   "outputs": [],
   "source": [
    "# Profil ähnlich 54E4\n",
    "\n",
    "filename = \"T_profil_ähnlich_54E4_schräg.ply\"\n",
    "\n",
    "head_width = 0.067 \n",
    "head_height = 0.055\n",
    "oblique = 0.017\n",
    "shaft_width = 0.016 \n",
    "shaft_height = 0.1 \n",
    "length = 0.5\n",
    "\n",
    "step = 0.005"
   ]
  },
  {
   "cell_type": "code",
   "execution_count": 150,
   "metadata": {},
   "outputs": [],
   "source": [
    "# Profil ähnlich 54E4 aber breiterer Schaft\n",
    "\n",
    "filename = \"T_profil_ähnlich_54E4_breiter_schaft_schräg.ply\"\n",
    "\n",
    "head_width = 0.067 \n",
    "head_height = 0.055\n",
    "shaft_width = 0.03 \n",
    "shaft_height = 0.1 \n",
    "length = 0.5\n",
    "\n",
    "step = 0.005"
   ]
  },
  {
   "cell_type": "code",
   "execution_count": 151,
   "metadata": {},
   "outputs": [],
   "source": [
    "# head top\n",
    "x = np.arange(-head_width/2 + oblique, head_width/2 - oblique, step)\n",
    "y = np.arange(-length/2, length/2, step)\n",
    "\n",
    "X, Y = np.meshgrid(x, y)\n",
    "Z = np.zeros_like(X)\n",
    "\n",
    "head_top = np.vstack((X.ravel(), Y.ravel(), Z.ravel())).T"
   ]
  },
  {
   "cell_type": "code",
   "execution_count": 152,
   "metadata": {},
   "outputs": [],
   "source": [
    "# head left \n",
    "z = np.arange(-head_height, 0 - oblique, step)\n",
    "\n",
    "Y, Z = np.meshgrid(y, z)\n",
    "X = np.ones_like(Y) * head_width / -2\n",
    "\n",
    "head_left = np.vstack((X.ravel(), Y.ravel(), Z.ravel())).T"
   ]
  },
  {
   "cell_type": "code",
   "execution_count": 153,
   "metadata": {},
   "outputs": [],
   "source": [
    "# head right\n",
    "X = X * -1\n",
    "head_right = np.vstack((X.ravel(), Y.ravel(), Z.ravel())).T"
   ]
  },
  {
   "cell_type": "code",
   "execution_count": 154,
   "metadata": {},
   "outputs": [],
   "source": [
    "# shaft left \n",
    "z = np.arange(-shaft_height - head_height, -head_height, step)\n",
    "Y, Z = np.meshgrid(y, z)\n",
    "X = np.ones_like(Y) * shaft_width / -2 \n",
    "\n",
    "shaft_left = np.vstack((X.ravel(), Y.ravel(), Z.ravel())).T \n",
    "\n",
    "# shaft right\n",
    "X = X * -1\n",
    "shaft_right = np.vstack((X.ravel(), Y.ravel(), Z.ravel())).T\n"
   ]
  },
  {
   "cell_type": "code",
   "execution_count": 155,
   "metadata": {},
   "outputs": [],
   "source": [
    "# oblique left\n",
    "oblique_width = np.sin(np.pi / 4) * 2 * oblique"
   ]
  },
  {
   "cell_type": "code",
   "execution_count": 156,
   "metadata": {},
   "outputs": [],
   "source": [
    "x = np.arange(-oblique/2, oblique/2, step) \n",
    "\n",
    "X, Y = np.meshgrid(x, y)\n",
    "Z = np.ones_like(X) * -oblique / 2\n",
    "\n",
    "oblique_tmp = np.vstack((X.ravel(), Y.ravel(), Z.ravel())).T"
   ]
  },
  {
   "cell_type": "code",
   "execution_count": 157,
   "metadata": {},
   "outputs": [],
   "source": [
    "# Rotation along y axis\n",
    "M = np.array([[np.cos(np.pi / 4), 0, np.sin(np.pi / 4)], [0, 1, 0], [-np.sin(np.pi / 4), 0, np.cos(np.pi / 4)]])"
   ]
  },
  {
   "cell_type": "code",
   "execution_count": 158,
   "metadata": {},
   "outputs": [],
   "source": [
    "oblique_left = np.dot(oblique_tmp, M)"
   ]
  },
  {
   "cell_type": "code",
   "execution_count": 159,
   "metadata": {},
   "outputs": [],
   "source": [
    "# shift to the left\n",
    "oblique_left[:, 0] = oblique_left[:, 0]  - head_width / 2"
   ]
  },
  {
   "cell_type": "code",
   "execution_count": 160,
   "metadata": {},
   "outputs": [],
   "source": [
    "oblique_right = oblique_left.copy()\n",
    "oblique_right[:, 0] = oblique_right[:, 0] * -1"
   ]
  },
  {
   "cell_type": "code",
   "execution_count": 161,
   "metadata": {},
   "outputs": [],
   "source": [
    "points = np.vstack((head_top, head_left, head_right, shaft_left, shaft_right, oblique_left, oblique_right))"
   ]
  },
  {
   "cell_type": "code",
   "execution_count": 162,
   "metadata": {},
   "outputs": [],
   "source": [
    "# Erstelle die Punktwolke mit open3d\n",
    "pcd = o3d.geometry.PointCloud()\n",
    "pcd.points = o3d.utility.Vector3dVector(points)\n",
    "\n",
    "# Visualisiere die Punktwolke\n",
    "o3d.visualization.draw_geometries([pcd])    "
   ]
  },
  {
   "cell_type": "code",
   "execution_count": 163,
   "metadata": {},
   "outputs": [
    {
     "data": {
      "text/plain": [
       "True"
      ]
     },
     "execution_count": 163,
     "metadata": {},
     "output_type": "execute_result"
    }
   ],
   "source": [
    "o3d.io.write_point_cloud(os.path.join(\"templates\", filename), pcd)"
   ]
  },
  {
   "cell_type": "code",
   "execution_count": null,
   "metadata": {},
   "outputs": [],
   "source": []
  }
 ],
 "metadata": {
  "kernelspec": {
   "display_name": "points",
   "language": "python",
   "name": "points"
  },
  "language_info": {
   "codemirror_mode": {
    "name": "ipython",
    "version": 3
   },
   "file_extension": ".py",
   "mimetype": "text/x-python",
   "name": "python",
   "nbconvert_exporter": "python",
   "pygments_lexer": "ipython3",
   "version": "3.9.21"
  }
 },
 "nbformat": 4,
 "nbformat_minor": 2
}
