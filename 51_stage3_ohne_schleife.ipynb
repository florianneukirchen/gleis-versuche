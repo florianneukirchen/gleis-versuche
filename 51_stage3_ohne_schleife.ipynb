{
 "cells": [
  {
   "cell_type": "code",
   "execution_count": 1,
   "id": "c1b3dde3",
   "metadata": {},
   "outputs": [],
   "source": [
    "import sys\n",
    "import os\n",
    "import numpy as np\n",
    "from osgeo import ogr \n",
    "from collections import deque\n",
    "import matplotlib.pyplot as plt\n",
    "import copy \n",
    "\n",
    "\n",
    "\n",
    "sys.path.append(\"/home/riannek/code/gleis/gleisachse\")\n",
    "from algs.gpkg import * \n",
    "from algs.growingline import *\n",
    "\n",
    "ogr.UseExceptions()"
   ]
  },
  {
   "cell_type": "code",
   "execution_count": 2,
   "id": "74405f97",
   "metadata": {},
   "outputs": [],
   "source": [
    "ds = None \n"
   ]
  },
  {
   "cell_type": "code",
   "execution_count": 3,
   "id": "bf5bb043",
   "metadata": {},
   "outputs": [
    {
     "name": "stdout",
     "output_type": "stream",
     "text": [
      "['TEMPLINELAYER', 'abseits', 'anfang weiche', 'kurve', 'needsfilter', 'ubahnhof', 'viele', 'viele1', 'weiche']\n"
     ]
    }
   ],
   "source": [
    "layer_name = \"viele\"\n",
    "\n",
    "folder = \"/media/riannek/minimax/gleis/\"\n",
    "\n",
    "ds = None \n",
    "\n",
    "import shutil \n",
    "file = shutil.copyfile(os.path.join(folder, \"stage3vers.gpkg\"), os.path.join(folder, \"stage3tmp_ohne.gpkg\"))\n",
    "\n",
    "ds = ogr.Open(file, 1)\n",
    "\n",
    "layers = []\n",
    "for i in range(ds.GetLayerCount()):\n",
    "    layer = ds.GetLayer(i)\n",
    "    layers.append(layer.GetName())\n",
    "layers.sort()\n",
    "print(layers)\n",
    "\n",
    "layer = ds.GetLayerByName(layer_name)"
   ]
  },
  {
   "cell_type": "code",
   "execution_count": 4,
   "id": "c805fd9e",
   "metadata": {},
   "outputs": [
    {
     "data": {
      "text/plain": [
       "'/media/riannek/minimax/gleis/stage3tmp_ohne.gpkg'"
      ]
     },
     "execution_count": 4,
     "metadata": {},
     "output_type": "execute_result"
    }
   ],
   "source": [
    "file "
   ]
  },
  {
   "cell_type": "code",
   "execution_count": 5,
   "id": "78c24274",
   "metadata": {},
   "outputs": [],
   "source": [
    "# Add a temporary \"skip\" field if it doesn't exist\n",
    "if layer.FindFieldIndex(\"skip\", 1) == -1:\n",
    "    field = ogr.FieldDefn(\"skip\", ogr.OFTInteger)\n",
    "    layer.CreateField(field)"
   ]
  },
  {
   "cell_type": "code",
   "execution_count": 6,
   "id": "a2e97bb1",
   "metadata": {},
   "outputs": [],
   "source": [
    "\n",
    "\n",
    "\n",
    "linelayer = new_line_layer(ds, layer.GetSpatialRef(), None)\n",
    "switchlayer = new_switch_layer(ds, layer.GetSpatialRef(), None)\n"
   ]
  },
  {
   "cell_type": "code",
   "execution_count": 7,
   "id": "f5953701",
   "metadata": {},
   "outputs": [],
   "source": [
    "def get_all_points(layer):\n",
    "    \"\"\"Get all points from the layer as a list of numpy arrays\"\"\"\n",
    "    points = []\n",
    "    for feature in layer:\n",
    "        geom = feature.GetGeometryRef()\n",
    "        if geom is None:\n",
    "            continue\n",
    "        for i in range(geom.GetPointCount()):\n",
    "            point = np.array(geom.GetPoint(i)[:3])\n",
    "            points.append(point)\n",
    "\n",
    "    layer.ResetReading()\n",
    "    return np.array(points)"
   ]
  },
  {
   "cell_type": "code",
   "execution_count": 8,
   "id": "1b3960e4",
   "metadata": {},
   "outputs": [],
   "source": [
    "queue = deque()"
   ]
  },
  {
   "cell_type": "code",
   "execution_count": 9,
   "id": "f39e94be",
   "metadata": {},
   "outputs": [],
   "source": [
    "all_points = get_all_points(layer)"
   ]
  },
  {
   "cell_type": "code",
   "execution_count": 10,
   "id": "be737a7c",
   "metadata": {},
   "outputs": [
    {
     "data": {
      "text/plain": [
       "12549"
      ]
     },
     "execution_count": 10,
     "metadata": {},
     "output_type": "execute_result"
    }
   ],
   "source": [
    "\n",
    "layer.GetFeatureCount()"
   ]
  },
  {
   "cell_type": "markdown",
   "id": "8aca23f8",
   "metadata": {},
   "source": [
    "## Start"
   ]
  },
  {
   "cell_type": "code",
   "execution_count": 419,
   "id": "a731ce31",
   "metadata": {},
   "outputs": [],
   "source": [
    "layer.ResetReading()"
   ]
  },
  {
   "cell_type": "code",
   "execution_count": 420,
   "id": "e0420db8",
   "metadata": {},
   "outputs": [
    {
     "data": {
      "text/plain": [
       "OGRFeature(viele):2037\n",
       "  eig x (Real) = -0.993462964512283\n",
       "  eig y (Real) = -0.114038514502122\n",
       "  eig z (Real) = 0.00515318858728931\n",
       "  gauge (Real) = 1.43548766144349\n",
       "  min points (Integer) = 383\n",
       "  skip (Integer) = (null)\n",
       "  POINT Z (4481145.69113495 5356994.3204279 451.867700696239)\n"
      ]
     },
     "execution_count": 420,
     "metadata": {},
     "output_type": "execute_result"
    }
   ],
   "source": [
    "layer.SetAttributeFilter(\"skip IS NULL\")\n",
    "\n",
    "feature = layer.GetNextFeature()\n",
    "\n",
    "layer.ResetReading()\n",
    "layer.SetAttributeFilter(None)\n",
    "\n",
    "feature\n"
   ]
  },
  {
   "cell_type": "code",
   "execution_count": 421,
   "id": "81a3b583",
   "metadata": {},
   "outputs": [],
   "source": [
    "# feature = layer.GetFeature(271571) \n",
    "# feature  "
   ]
  },
  {
   "cell_type": "code",
   "execution_count": 422,
   "id": "b082d5f6",
   "metadata": {},
   "outputs": [],
   "source": [
    "active_line = GrowingLine.from_feature(feature)\n"
   ]
  },
  {
   "cell_type": "code",
   "execution_count": 423,
   "id": "3d469e39",
   "metadata": {},
   "outputs": [],
   "source": [
    "first_iteration = True"
   ]
  },
  {
   "cell_type": "markdown",
   "id": "f302eab0",
   "metadata": {},
   "source": [
    "## Ab hier muss dann Schleife"
   ]
  },
  {
   "cell_type": "code",
   "execution_count": 462,
   "id": "57752af9",
   "metadata": {},
   "outputs": [
    {
     "name": "stdout",
     "output_type": "stream",
     "text": [
      "Current starting point: 2037\n",
      "44 Points in direction\n"
     ]
    }
   ],
   "source": [
    "print(\"Current starting point:\", feature.GetFID())\n",
    "xyz, directions, fids, switches = active_line.points_in_direction(layer, switchlayer)\n",
    "new_switches = []\n",
    "print(len(xyz), \"Points in direction\")\n",
    "if len(switches) > 0:\n",
    "    print(\"Switches found:\", len(switches))\n",
    "\n",
    "if len(xyz) < 3:\n",
    "    set_skip(fids, layer)\n",
    "    if active_line.in_switch:\n",
    "        geom = ogr.Geometry(ogr.wkbPoint)\n",
    "        geom.AddPoint_2D(active_line.head_xyz[0], active_line.head_xyz[1])\n",
    "        new_switches.append(np.array(active_line.head_xyz))\n",
    "        add_to_layer(switchlayer, geom)\n",
    "\n",
    "    not_finished = active_line.reverse_head()\n",
    "    if not_finished is False:\n",
    "        queue.extend(active_line.next_lines)\n",
    "        print(len(queue), \"in queue\")\n",
    "        if len(queue) == 0:\n",
    "            print(\"START FROM START\")\n",
    "        active_line = queue.popleft()"
   ]
  },
  {
   "cell_type": "code",
   "execution_count": 463,
   "id": "a64c70d2",
   "metadata": {},
   "outputs": [
    {
     "data": {
      "image/png": "[encoded data removed]",
      "text/plain": [
       "<Figure size 640x480 with 1 Axes>"
      ]
     },
     "metadata": {},
     "output_type": "display_data"
    }
   ],
   "source": [
    "labels = ransac_lines(xyz, threshold=0.06, max_iterations=20)\n",
    "max_label = labels.max()\n",
    "\n",
    "x = xyz[:, 0]\n",
    "y = xyz[:, 1]\n",
    "fig, ax = plt.subplots()\n",
    "sc = ax.scatter(x, y, c=labels, cmap='viridis', s=10)\n",
    "ax.set_aspect('equal', adjustable='box')\n",
    "\n",
    "for point in switches:\n",
    "    ax.scatter(point[0], point[1], c='green', marker='x', s=30)"
   ]
  },
  {
   "cell_type": "code",
   "execution_count": 464,
   "id": "b5bd37f7",
   "metadata": {},
   "outputs": [
    {
     "data": {
      "text/plain": [
       "2"
      ]
     },
     "execution_count": 464,
     "metadata": {},
     "output_type": "execute_result"
    }
   ],
   "source": [
    "len(labels[labels == -1])"
   ]
  },
  {
   "cell_type": "code",
   "execution_count": 465,
   "id": "ab30deea",
   "metadata": {},
   "outputs": [
    {
     "data": {
      "text/plain": [
       "(np.int64(0), np.int64(0))"
      ]
     },
     "execution_count": 465,
     "metadata": {},
     "output_type": "execute_result"
    }
   ],
   "source": [
    "labels[0], labels.max()"
   ]
  },
  {
   "cell_type": "code",
   "execution_count": 466,
   "id": "81096388",
   "metadata": {},
   "outputs": [
    {
     "name": "stdout",
     "output_type": "stream",
     "text": [
      "active line is reversable\n"
     ]
    }
   ],
   "source": [
    "if (active_line.start_fid is not None): print(\"active line is reversable\")"
   ]
  },
  {
   "cell_type": "code",
   "execution_count": 467,
   "id": "7b36a6f8",
   "metadata": {},
   "outputs": [],
   "source": [
    "backup = copy.deepcopy(active_line)"
   ]
  },
  {
   "cell_type": "code",
   "execution_count": 468,
   "id": "f5ba68f4",
   "metadata": {},
   "outputs": [],
   "source": [
    "# If the start point is in a switch, it causes all kinds of problems \n",
    "if first_iteration and max_label > 0:\n",
    "    # Create another line and stop here\n",
    "    feature.SetField(\"skip\", 2)\n",
    "    layer.SetFeature(feature)\n",
    "\n",
    "    print(\"old\", feature.GetFID())\n",
    "\n",
    "    layer.ResetReading()\n",
    "    layer.SetAttributeFilter(\"skip IS NULL\")\n",
    "    feature = layer.GetNextFeature()\n",
    "    layer.ResetReading()\n",
    "    layer.SetAttributeFilter(None)\n",
    "    print(\"new\", feature.GetFID())\n",
    "    active_line = GrowingLine.from_feature(feature)\n",
    "    first_iteration = True\n",
    "    raise StartInSwitchError\n",
    "first_iteration = False"
   ]
  },
  {
   "cell_type": "code",
   "execution_count": 469,
   "id": "17682584",
   "metadata": {},
   "outputs": [
    {
     "data": {
      "image/png": "[encoded data removed]",
      "text/plain": [
       "<Figure size 640x480 with 1 Axes>"
      ]
     },
     "metadata": {},
     "output_type": "display_data"
    }
   ],
   "source": [
    "fig, ax = plt.subplots()\n",
    "ax.scatter(all_points[:, 0], all_points[:, 1], c='gray', s=0.2)\n",
    "ax.scatter(x, y, c=labels, cmap='viridis', s=10)\n",
    "ax.set_aspect('equal', adjustable='box')\n",
    "ax.set_axis_off()\n",
    "fig.tight_layout()\n",
    "fig.savefig(\"current_ransac_lines.png\", dpi=300, bbox_inches='tight', pad_inches=0)"
   ]
  },
  {
   "cell_type": "code",
   "execution_count": 470,
   "id": "b2d97096",
   "metadata": {},
   "outputs": [],
   "source": [
    "set_skip(fids[labels == -1], layer)"
   ]
  },
  {
   "cell_type": "code",
   "execution_count": 471,
   "id": "55850613",
   "metadata": {},
   "outputs": [
    {
     "name": "stdout",
     "output_type": "stream",
     "text": [
      "Letzte Punkte: [[4.48113018e+06 5.35699257e+06 4.51939765e+02]\n",
      " [4.48112934e+06 5.35699248e+06 4.51945471e+02]\n",
      " [4.48112841e+06 5.35699237e+06 4.51949361e+02]\n",
      " [4.48112761e+06 5.35699228e+06 4.51952603e+02]\n",
      " [4.48112663e+06 5.35699217e+06 4.51957048e+02]]\n"
     ]
    }
   ],
   "source": [
    "print(\"Letzte Punkte:\", np.array(active_line.points)[-5:])"
   ]
  },
  {
   "cell_type": "code",
   "execution_count": 472,
   "id": "47f75937",
   "metadata": {},
   "outputs": [
    {
     "name": "stdout",
     "output_type": "stream",
     "text": [
      "8 points added to active line\n"
     ]
    }
   ],
   "source": [
    "# Check if we reached the end of a switch\n",
    "if active_line.in_switch() and labels.max() == 0:\n",
    "    if labels[0] == -1:\n",
    "        print(\"Active line ends in switch\")\n",
    "        # idx = active_line.index_closest_point([active_line.switch[0], active_line.switch[1]])\n",
    "        # closest_point = active_line.points[idx]\n",
    "        geom = ogr.Geometry(ogr.wkbPoint)\n",
    "        geom.AddPoint_2D(active_line.head_xyz[0], active_line.head_xyz[1]) \n",
    "        add_to_layer(switchlayer, geom)\n",
    "\n",
    "        new_switches.append(active_line.head_xyz)\n",
    "        make_cut = True # Reverses head\n",
    "    else:\n",
    "        length = np.linalg.norm(active_line.switch[0] - active_line.switch[-1])\n",
    "        print(\"Switch line length:\", length)\n",
    "        if length > 3:\n",
    "            make_cut = True\n",
    "            print(\"CUT\")\n",
    "            print(\"switch\", active_line.switch)\n",
    "\n",
    "            point = active_line.make_cut()\n",
    "            geom = ogr.Geometry(ogr.wkbPoint)\n",
    "            geom.AddPoint_2D(point[0], point[1])\n",
    "            add_to_layer(switchlayer, geom)\n",
    "            new_switches.append(point)\n",
    "        else:\n",
    "            make_cut = False\n",
    "            print(\"No cut, switch line too short\")\n",
    "            active_line.switch = None\n",
    "\n",
    "else:\n",
    "    make_cut = False\n",
    "    for label in range(labels.max()+1):\n",
    "        cluster = xyz[labels == label]\n",
    "        if len(cluster) < 2:\n",
    "            continue\n",
    "\n",
    "        \n",
    "        fids_cluster = fids[labels == label]\n",
    "        directions_cluster = directions[labels == label]\n",
    "        \n",
    "\n",
    "        if label == labels[0]:\n",
    "            # This is the active head \n",
    "            downsampled, offset = downsample(cluster)\n",
    "            set_skip(fids_cluster[:offset+1], layer)\n",
    "\n",
    "            new_direction = directions_cluster[offset]\n",
    "            if active_line.head_direction @ new_direction < 0:\n",
    "                new_direction = -new_direction\n",
    "\n",
    "            active_line.head_xyz = downsampled[-1]\n",
    "            active_line.head_direction = new_direction\n",
    "            active_line.head_fid = fids_cluster[offset]\n",
    "\n",
    "            if np.array_equal(downsampled[0], active_line.points[-1]):\n",
    "                # Remove the first point if it is already in the line\n",
    "                downsampled = downsampled[1:]  \n",
    "            \n",
    "            active_line.points.extend(downsampled) \n",
    "            print(len(downsampled), \"points added to active line\")\n",
    "        else:\n",
    "            # This is the other rail in a switch (or false positive)\n",
    "            active_line.add_switchline(cluster)\n",
    "            active_line.active_cluster.extend(xyz[labels == labels[0]])\n",
    "\n",
    "    if len(switches) > 0 and not first_iteration:\n",
    "        # Add the last point if it is not there \n",
    "        cluster = xyz[labels == labels[0]]\n",
    "        if not np.array_equal(cluster[-1], active_line.head_xyz):\n",
    "            active_line.points.append(cluster[-1])\n",
    "        active_line.make_cut(switches)\n",
    "        make_cut = True\n",
    "\n"
   ]
  },
  {
   "cell_type": "code",
   "execution_count": 473,
   "id": "37c63177",
   "metadata": {},
   "outputs": [
    {
     "name": "stdout",
     "output_type": "stream",
     "text": [
      "active line points: 31\n",
      "in switch: False\n"
     ]
    }
   ],
   "source": [
    "print(\"active line points:\", len(active_line.points))\n",
    "print(\"in switch:\", active_line.in_switch())"
   ]
  },
  {
   "cell_type": "code",
   "execution_count": 474,
   "id": "ef8b3e0f",
   "metadata": {},
   "outputs": [],
   "source": [
    "if active_line.switch:\n",
    "    print(\"Switch points:\", len(active_line.switch))\n",
    "    print(\"distance\" , np.linalg.norm(active_line.switch[0] - active_line.switch[-1]))"
   ]
  },
  {
   "cell_type": "code",
   "execution_count": 475,
   "id": "8a109341",
   "metadata": {},
   "outputs": [
    {
     "data": {
      "text/plain": [
       "0"
      ]
     },
     "execution_count": 475,
     "metadata": {},
     "output_type": "execute_result"
    }
   ],
   "source": [
    "len(active_line.active_cluster)"
   ]
  },
  {
   "cell_type": "code",
   "execution_count": 476,
   "id": "f07c1c6e",
   "metadata": {},
   "outputs": [
    {
     "data": {
      "text/plain": [
       "(5356990.137137514, 5356995.472013158)"
      ]
     },
     "execution_count": 476,
     "metadata": {},
     "output_type": "execute_result"
    },
    {
     "data": {
      "image/png": "[encoded data removed]",
      "text/plain": [
       "<Figure size 640x480 with 1 Axes>"
      ]
     },
     "metadata": {},
     "output_type": "display_data"
    }
   ],
   "source": [
    "fig, ax = plt.subplots()\n",
    "\n",
    "\n",
    "active = np.array(active_line.points) \n",
    "\n",
    "ax.scatter(active[:, 0], active[:, 1], c='red')\n",
    "ax.scatter(active_line.head_xyz[0], active_line.head_xyz[1], c='black', s=50, label='Head')\n",
    "ax.scatter(active_line.head_xyz[0], active_line.head_xyz[1], c='black', s=50, label='Head')\n",
    "\n",
    "if active_line.switch is not None:\n",
    "    for point in active_line.switch:\n",
    "        ax.scatter(point[0], point[1], c='blue', s=50)\n",
    "   \n",
    "for point in switches:\n",
    "    ax.scatter(point[0], point[1], c='green', marker='x', s=30)\n",
    "\n",
    "for point in new_switches:\n",
    "    ax.scatter(point[0], point[1], c='orange', marker='x', s=30)\n",
    "\n",
    "if active_line.start_fid is not None:\n",
    "    ax.scatter(active_line.start_xyz[0], active_line.start_xyz[1], c='white', s=5)\n",
    "\n",
    "x_lim = ax.get_xlim()\n",
    "y_lim = ax.get_ylim()\n",
    "\n",
    "x_lim = (x_lim[0] - 1, x_lim[1] + 1)\n",
    "y_lim = (y_lim[0] - 1, y_lim[1] + 1)\n",
    "\n",
    "ax.scatter(all_points[:, 0], all_points[:, 1], c='gray', s=1, zorder=0)\n",
    "\n",
    "\n",
    "# ax.scatter(first_xyz[0], first_xyz[1], c='yellow', s=20)\n",
    "\n",
    "ax.set_xlim(x_lim)\n",
    "ax.set_ylim(y_lim)\n",
    "#ax.set_aspect('equal', adjustable='box')"
   ]
  },
  {
   "cell_type": "code",
   "execution_count": 477,
   "id": "0f1aadcb",
   "metadata": {},
   "outputs": [],
   "source": [
    "# active_line.index_closest_point(active_line.switch)"
   ]
  },
  {
   "cell_type": "code",
   "execution_count": 478,
   "id": "9ce23c2f",
   "metadata": {},
   "outputs": [],
   "source": [
    "if active_line.switch is not None:\n",
    "\n",
    "   \n",
    "    fig, ax = plt.subplots(figsize=(10, 5))\n",
    "\n",
    "\n",
    "    for point in active_line.switch:\n",
    "        ax.scatter(point[0], point[1], c='blue', s=10)\n",
    "\n",
    "    for point in active_line.active_cluster:\n",
    "        ax.scatter(point[0], point[1], c='green', s=2)\n",
    "\n",
    "    ax.set_aspect('equal', adjustable='box')\n",
    "\n",
    "\n",
    "    xlim = ax.get_xlim()\n",
    "    ylim = ax.get_ylim()\n",
    "\n",
    "    ax.scatter(active[:, 0], active[:, 1], c='red', s=10)\n",
    "\n",
    "    ax.scatter(all_points[:, 0], all_points[:, 1], c='gray', s=0.1, zorder=0)\n",
    "    ax.set_xlim((xlim[0] - 1, xlim[1] + 1))\n",
    "    ax.set_ylim((ylim[0] - 1, ylim[1] + 1))\n",
    "\n",
    "    fig.savefig(\"active_line_switch.png\", dpi=300, bbox_inches='tight', pad_inches=0)\n",
    "\n"
   ]
  },
  {
   "cell_type": "code",
   "execution_count": 479,
   "id": "a4761349",
   "metadata": {},
   "outputs": [],
   "source": [
    "if make_cut:\n",
    "    if not active_line.reverse_head():\n",
    "        # If we can't reverse the head, we are done\n",
    "        print(\"Finished growing line\")\n",
    "        queue.extend(active_line.next_lines)\n",
    "        print(len(queue), \"in queue\")\n",
    "        active_line = queue.popleft()"
   ]
  },
  {
   "cell_type": "markdown",
   "id": "d8378ee7",
   "metadata": {},
   "source": [
    "## STOP HERE"
   ]
  },
  {
   "cell_type": "code",
   "execution_count": 480,
   "id": "f4349ecc",
   "metadata": {},
   "outputs": [
    {
     "ename": "ValueError",
     "evalue": "Stop here",
     "output_type": "error",
     "traceback": [
      "\u001b[0;31m---------------------------------------------------------------------------\u001b[0m",
      "\u001b[0;31mValueError\u001b[0m                                Traceback (most recent call last)",
      "Cell \u001b[0;32mIn[480], line 1\u001b[0m\n\u001b[0;32m----> 1\u001b[0m \u001b[38;5;28;01mraise\u001b[39;00m \u001b[38;5;167;01mValueError\u001b[39;00m(\u001b[38;5;124m\"\u001b[39m\u001b[38;5;124mStop here\u001b[39m\u001b[38;5;124m\"\u001b[39m)\n",
      "\u001b[0;31mValueError\u001b[0m: Stop here"
     ]
    }
   ],
   "source": [
    "raise ValueError(\"Stop here\")"
   ]
  },
  {
   "cell_type": "code",
   "execution_count": null,
   "id": "7a876959",
   "metadata": {},
   "outputs": [
    {
     "name": "stdout",
     "output_type": "stream",
     "text": [
      "FINISHED\n"
     ]
    }
   ],
   "source": [
    "next_lines = active_line.grow(layer, linelayer, switchlayer)\n",
    "queue.extend(next_lines)"
   ]
  },
  {
   "cell_type": "code",
   "execution_count": null,
   "id": "0f2bfee5",
   "metadata": {},
   "outputs": [],
   "source": [
    "active_line.reverse_head()"
   ]
  },
  {
   "cell_type": "code",
   "execution_count": null,
   "id": "0fe5d165",
   "metadata": {},
   "outputs": [],
   "source": [
    "queue.extend(active_line.switch)\n",
    "print(len(queue))\n",
    "active_line = queue.popleft()"
   ]
  },
  {
   "cell_type": "code",
   "execution_count": null,
   "id": "087df1ad",
   "metadata": {},
   "outputs": [],
   "source": [
    "geom = active_line.get_linestring()\n",
    "print(geom.Length())\n",
    "\n",
    "if geom.Length() > 5:\n",
    "    add_to_layer(linelayer, geom)\n"
   ]
  },
  {
   "cell_type": "code",
   "execution_count": null,
   "id": "d5e31379",
   "metadata": {},
   "outputs": [],
   "source": [
    "ds = None"
   ]
  },
  {
   "cell_type": "code",
   "execution_count": null,
   "id": "0c0c1958",
   "metadata": {},
   "outputs": [],
   "source": [
    "print(len(active_line.switch))"
   ]
  },
  {
   "cell_type": "code",
   "execution_count": null,
   "id": "0bedee17",
   "metadata": {},
   "outputs": [],
   "source": [
    "active_line.points"
   ]
  },
  {
   "cell_type": "code",
   "execution_count": null,
   "id": "b8d3a32f",
   "metadata": {},
   "outputs": [],
   "source": [
    "active_line.head_fid"
   ]
  },
  {
   "cell_type": "code",
   "execution_count": null,
   "id": "0a2ed3d8",
   "metadata": {},
   "outputs": [],
   "source": [
    "active_line.head_xyz"
   ]
  },
  {
   "cell_type": "code",
   "execution_count": null,
   "id": "9b9204a1",
   "metadata": {},
   "outputs": [],
   "source": [
    "active_line.switch "
   ]
  },
  {
   "cell_type": "code",
   "execution_count": null,
   "id": "38a38a64",
   "metadata": {},
   "outputs": [],
   "source": [
    "foo = np.array(active_line.points)\n",
    "foo = foo[:,1] \n",
    "x = np.arange(len(foo))\n",
    "fig, ax = plt.subplots()\n",
    "ax.plot(x, foo)"
   ]
  },
  {
   "cell_type": "code",
   "execution_count": null,
   "id": "9e336a44",
   "metadata": {},
   "outputs": [],
   "source": [
    "fig, ax = plt.subplots()\n",
    "foo = np.array(active_line.points)\n",
    "x = foo[:,0]\n",
    "y = foo[:,1]\n",
    "ax.scatter(x, y, c='b', s=1)\n",
    "\n",
    "foo = np.array(active_line.switch[0].points)  \n",
    "x = foo[:,0]\n",
    "y = foo[:,1]\n",
    "ax.scatter(x, y, c='r', s=1)\n",
    "\n",
    "foo = np.array(active_line.switch[1].points)  \n",
    "x = foo[:,0]\n",
    "y = foo[:,1]\n",
    "ax.scatter(x, y, c='g', s=1)\n",
    "\n",
    "foo = np.array(active_line.switch[2].points)  \n",
    "x = foo[:,0]\n",
    "y = foo[:,1]\n",
    "ax.scatter(x, y, c='b', s=1)"
   ]
  },
  {
   "cell_type": "code",
   "execution_count": null,
   "id": "d0455130",
   "metadata": {},
   "outputs": [],
   "source": [
    "set_skip([feature.GetFID()], layer)"
   ]
  },
  {
   "cell_type": "code",
   "execution_count": null,
   "id": "ece69a96",
   "metadata": {},
   "outputs": [
    {
     "ename": "StartInSwitchError",
     "evalue": "Start point is in a switch, prone to bugs.",
     "output_type": "error",
     "traceback": [
      "\u001b[0;31m---------------------------------------------------------------------------\u001b[0m",
      "\u001b[0;31mStartInSwitchError\u001b[0m                        Traceback (most recent call last)",
      "Cell \u001b[0;32mIn[188], line 1\u001b[0m\n\u001b[0;32m----> 1\u001b[0m \u001b[38;5;28;01mraise\u001b[39;00m StartInSwitchError\n",
      "\u001b[0;31mStartInSwitchError\u001b[0m: Start point is in a switch, prone to bugs."
     ]
    }
   ],
   "source": [
    "raise StartInSwitchError"
   ]
  },
  {
   "cell_type": "code",
   "execution_count": null,
   "id": "9774dc1a",
   "metadata": {},
   "outputs": [],
   "source": [
    "point = ogr.Geometry(ogr.wkbPoint)\n",
    "point.AddPoint(-122.23, 47.09)"
   ]
  },
  {
   "cell_type": "code",
   "execution_count": null,
   "id": "b7e9cfd5",
   "metadata": {},
   "outputs": [
    {
     "data": {
      "text/plain": [
       "(-122.23, 47.09, 0.0)"
      ]
     },
     "execution_count": 4,
     "metadata": {},
     "output_type": "execute_result"
    }
   ],
   "source": [
    "point.GetPoint() "
   ]
  },
  {
   "cell_type": "code",
   "execution_count": null,
   "id": "802f76e8",
   "metadata": {},
   "outputs": [],
   "source": [
    "bla = np.array([\n",
    "    [0,0,0],\n",
    "    [1,1,1],\n",
    "    [2,2,2],\n",
    "    [3,3,3],\n",
    "    [4,4,4],\n",
    "    [5,5,5],\n",
    "    [6,6,6],\n",
    "    [7,7,7],\n",
    "    [8,8,8],\n",
    "    [9,9,9],\n",
    "    [10,10,10]\n",
    "])"
   ]
  },
  {
   "cell_type": "code",
   "execution_count": null,
   "id": "0ae8eb3d",
   "metadata": {},
   "outputs": [],
   "source": [
    "switchlayer.ResetReading()\n",
    "for feature in switchlayer:\n",
    "    print(feature.GetGeometryRef().GetPoint()) "
   ]
  },
  {
   "cell_type": "code",
   "execution_count": null,
   "id": "e61a9d99",
   "metadata": {},
   "outputs": [
    {
     "data": {
      "text/plain": [
       "0"
      ]
     },
     "execution_count": 94,
     "metadata": {},
     "output_type": "execute_result"
    }
   ],
   "source": [
    "switchlayer.GetFeatureCount()"
   ]
  },
  {
   "cell_type": "code",
   "execution_count": null,
   "id": "35b2259b",
   "metadata": {},
   "outputs": [],
   "source": [
    "active = np.vstack(backup.points  )"
   ]
  },
  {
   "cell_type": "code",
   "execution_count": null,
   "id": "9a91caff",
   "metadata": {},
   "outputs": [],
   "source": [
    "active  = active[:, :2]"
   ]
  },
  {
   "cell_type": "code",
   "execution_count": null,
   "id": "6b49c2d9",
   "metadata": {},
   "outputs": [],
   "source": [
    "point = switches[0]\n",
    "point = point[:2]  "
   ]
  },
  {
   "cell_type": "code",
   "execution_count": null,
   "id": "1f5533d8",
   "metadata": {},
   "outputs": [
    {
     "data": {
      "text/plain": [
       "array([4473729.78427949, 5337507.70404054])"
      ]
     },
     "execution_count": 5185,
     "metadata": {},
     "output_type": "execute_result"
    }
   ],
   "source": [
    "point "
   ]
  },
  {
   "cell_type": "code",
   "execution_count": null,
   "id": "bed5b105",
   "metadata": {},
   "outputs": [
    {
     "data": {
      "text/plain": [
       "665"
      ]
     },
     "execution_count": 5186,
     "metadata": {},
     "output_type": "execute_result"
    }
   ],
   "source": [
    "len(active)"
   ]
  },
  {
   "cell_type": "code",
   "execution_count": null,
   "id": "3509533f",
   "metadata": {},
   "outputs": [
    {
     "data": {
      "text/plain": [
       "np.int64(664)"
      ]
     },
     "execution_count": 5187,
     "metadata": {},
     "output_type": "execute_result"
    }
   ],
   "source": [
    "dist = np.linalg.norm(active - point, axis=1)\n",
    "idx = np.argmin(dist)\n",
    "idx "
   ]
  },
  {
   "cell_type": "code",
   "execution_count": null,
   "id": "96beff2f",
   "metadata": {},
   "outputs": [],
   "source": [
    "choosen = active[idx]"
   ]
  },
  {
   "cell_type": "code",
   "execution_count": null,
   "id": "984e7785",
   "metadata": {},
   "outputs": [],
   "source": [
    "sub = active[-10:]\n",
    "pruned_n = np.array(downsampled)"
   ]
  },
  {
   "cell_type": "code",
   "execution_count": null,
   "id": "cb3614f9",
   "metadata": {},
   "outputs": [
    {
     "data": {
      "text/plain": [
       "10"
      ]
     },
     "execution_count": 5191,
     "metadata": {},
     "output_type": "execute_result"
    }
   ],
   "source": [
    "len(sub)"
   ]
  },
  {
   "cell_type": "code",
   "execution_count": null,
   "id": "ca0fbb96",
   "metadata": {},
   "outputs": [
    {
     "data": {
      "text/plain": [
       "array([[4.47372958e+06, 5.33751051e+06, 5.13086309e+02],\n",
       "       [4.47372961e+06, 5.33750859e+06, 5.13099268e+02],\n",
       "       [4.47372961e+06, 5.33750836e+06, 5.13100634e+02],\n",
       "       [4.47372961e+06, 5.33750832e+06, 5.13100914e+02],\n",
       "       [4.47372962e+06, 5.33750811e+06, 5.13102290e+02],\n",
       "       [4.47372962e+06, 5.33750794e+06, 5.13103373e+02],\n",
       "       [4.47372962e+06, 5.33750772e+06, 5.13104799e+02]])"
      ]
     },
     "execution_count": 5192,
     "metadata": {},
     "output_type": "execute_result"
    }
   ],
   "source": [
    "xyz "
   ]
  },
  {
   "cell_type": "code",
   "execution_count": null,
   "id": "abf2b786",
   "metadata": {},
   "outputs": [],
   "source": [
    "grr = np.array(active_line.points)"
   ]
  },
  {
   "cell_type": "code",
   "execution_count": null,
   "id": "d61496b9",
   "metadata": {},
   "outputs": [
    {
     "data": {
      "text/plain": [
       "<matplotlib.collections.PathCollection at 0x7fc636cc4b50>"
      ]
     },
     "execution_count": 5193,
     "metadata": {},
     "output_type": "execute_result"
    },
    {
     "data": {
      "image/png": "[encoded data removed]",
      "text/plain": [
       "<Figure size 640x480 with 1 Axes>"
      ]
     },
     "metadata": {},
     "output_type": "display_data"
    }
   ],
   "source": [
    "fig, ax = plt.subplots()\n",
    "\n",
    "# ax.scatter(p[:,0], p[:,1], c='cyan', s=50)\n",
    "ax.scatter(pruned_n[:,0], pruned_n[:,1], c='cyan', s=50)\n",
    "ax.scatter(sub[:, 0], sub[:, 1], c='red', s=2)\n",
    "#ax.scatter(xyz[:, 0], xyz[:, 1], c='green', s=5)\n",
    "ax.scatter(cluster[:, 0], cluster[:, 1], c='green', s=5)\n",
    "\n",
    "ax.scatter(choosen[0], choosen[1], c='red', marker=\"x\", s=50) \n",
    "ax.scatter(point[0], point[1], c='blue', s=50)\n",
    "ax.set_aspect('equal', adjustable='box')\n",
    "\n",
    "\n",
    "xlim = ax.get_xlim()\n",
    "ylim = ax.get_ylim()\n",
    "\n",
    "ax.scatter(all_points[:, 0], all_points[:, 1], c='gray', s=0.1, zorder=0)\n",
    "ax.set_xlim((xlim[0] - 1, xlim[1] + 1))\n",
    "ax.set_ylim((ylim[0] - 1, ylim[1] + 1))\n",
    "\n",
    "ax.scatter(h[0], h[1], c='black', s=20)"
   ]
  },
  {
   "cell_type": "code",
   "execution_count": null,
   "id": "f8c46d1a",
   "metadata": {},
   "outputs": [],
   "source": [
    "h = backup.head_xyz "
   ]
  },
  {
   "cell_type": "code",
   "execution_count": null,
   "id": "f733909f",
   "metadata": {},
   "outputs": [
    {
     "data": {
      "text/plain": [
       "np.int64(0)"
      ]
     },
     "execution_count": 5195,
     "metadata": {},
     "output_type": "execute_result"
    }
   ],
   "source": [
    "labels[0]"
   ]
  },
  {
   "cell_type": "code",
   "execution_count": null,
   "id": "95b12703",
   "metadata": {},
   "outputs": [],
   "source": [
    "p, o = pruned_points(cluster)"
   ]
  },
  {
   "cell_type": "code",
   "execution_count": null,
   "id": "d3eca7e1",
   "metadata": {},
   "outputs": [
    {
     "data": {
      "text/plain": [
       "[array([4.47372958e+06, 5.33751051e+06, 5.13086309e+02]),\n",
       " array([4.47372961e+06, 5.33750859e+06, 5.13099268e+02])]"
      ]
     },
     "execution_count": 5197,
     "metadata": {},
     "output_type": "execute_result"
    }
   ],
   "source": [
    "p  "
   ]
  },
  {
   "cell_type": "code",
   "execution_count": null,
   "id": "b4f40a58",
   "metadata": {},
   "outputs": [
    {
     "data": {
      "text/plain": [
       "array([[4.47372958e+06, 5.33751051e+06, 5.13086309e+02],\n",
       "       [4.47372961e+06, 5.33750859e+06, 5.13099268e+02],\n",
       "       [4.47372961e+06, 5.33750836e+06, 5.13100634e+02],\n",
       "       [4.47372961e+06, 5.33750832e+06, 5.13100914e+02],\n",
       "       [4.47372962e+06, 5.33750811e+06, 5.13102290e+02],\n",
       "       [4.47372962e+06, 5.33750794e+06, 5.13103373e+02],\n",
       "       [4.47372962e+06, 5.33750772e+06, 5.13104799e+02]])"
      ]
     },
     "execution_count": 5198,
     "metadata": {},
     "output_type": "execute_result"
    }
   ],
   "source": [
    "cluster   "
   ]
  },
  {
   "cell_type": "code",
   "execution_count": null,
   "id": "d55d8360",
   "metadata": {},
   "outputs": [
    {
     "data": {
      "text/plain": [
       "1"
      ]
     },
     "execution_count": 5199,
     "metadata": {},
     "output_type": "execute_result"
    }
   ],
   "source": [
    "o"
   ]
  },
  {
   "cell_type": "code",
   "execution_count": null,
   "id": "d4df4764",
   "metadata": {},
   "outputs": [],
   "source": [
    "p = np.array(p)"
   ]
  },
  {
   "cell_type": "code",
   "execution_count": null,
   "id": "853084b2",
   "metadata": {},
   "outputs": [
    {
     "data": {
      "text/plain": [
       "1"
      ]
     },
     "execution_count": 5201,
     "metadata": {},
     "output_type": "execute_result"
    }
   ],
   "source": [
    "offset  "
   ]
  },
  {
   "cell_type": "code",
   "execution_count": null,
   "id": "61ad2795",
   "metadata": {},
   "outputs": [
    {
     "data": {
      "text/plain": [
       "[array([4.47372961e+06, 5.33750859e+06, 5.13099268e+02])]"
      ]
     },
     "execution_count": 5202,
     "metadata": {},
     "output_type": "execute_result"
    }
   ],
   "source": [
    "downsampled  "
   ]
  },
  {
   "cell_type": "code",
   "execution_count": null,
   "id": "5dd9874b",
   "metadata": {},
   "outputs": [],
   "source": [
    "pruned_n = np.array(downsampled)"
   ]
  },
  {
   "cell_type": "code",
   "execution_count": null,
   "id": "d9b8149f",
   "metadata": {},
   "outputs": [
    {
     "data": {
      "text/plain": [
       "array([[4.47372961e+06, 5.33750859e+06, 5.13099268e+02]])"
      ]
     },
     "execution_count": 5204,
     "metadata": {},
     "output_type": "execute_result"
    }
   ],
   "source": [
    "pruned_n"
   ]
  },
  {
   "cell_type": "code",
   "execution_count": null,
   "id": "c187bf3e",
   "metadata": {},
   "outputs": [
    {
     "data": {
      "text/plain": [
       "array([[4.47372958e+06, 5.33751051e+06, 5.13086309e+02],\n",
       "       [4.47372961e+06, 5.33750859e+06, 5.13099268e+02],\n",
       "       [4.47372961e+06, 5.33750836e+06, 5.13100634e+02],\n",
       "       [4.47372961e+06, 5.33750832e+06, 5.13100914e+02],\n",
       "       [4.47372962e+06, 5.33750811e+06, 5.13102290e+02],\n",
       "       [4.47372962e+06, 5.33750794e+06, 5.13103373e+02],\n",
       "       [4.47372962e+06, 5.33750772e+06, 5.13104799e+02]])"
      ]
     },
     "execution_count": 5205,
     "metadata": {},
     "output_type": "execute_result"
    }
   ],
   "source": [
    "cluster  "
   ]
  },
  {
   "cell_type": "code",
   "execution_count": null,
   "id": "ceec7efb",
   "metadata": {},
   "outputs": [],
   "source": [
    "active_line = backup"
   ]
  },
  {
   "cell_type": "code",
   "execution_count": null,
   "id": "8db32abb",
   "metadata": {},
   "outputs": [],
   "source": []
  }
 ],
 "metadata": {
  "kernelspec": {
   "display_name": "points",
   "language": "python",
   "name": "points"
  },
  "language_info": {
   "codemirror_mode": {
    "name": "ipython",
    "version": 3
   },
   "file_extension": ".py",
   "mimetype": "text/x-python",
   "name": "python",
   "nbconvert_exporter": "python",
   "pygments_lexer": "ipython3",
   "version": "3.9.21"
  }
 },
 "nbformat": 4,
 "nbformat_minor": 5
}
