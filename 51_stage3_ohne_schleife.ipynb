{
 "cells": [
  {
   "cell_type": "code",
   "execution_count": 1,
   "id": "c1b3dde3",
   "metadata": {},
   "outputs": [],
   "source": [
    "import sys\n",
    "import os\n",
    "import numpy as np\n",
    "from osgeo import ogr \n",
    "from collections import deque\n",
    "import matplotlib.pyplot as plt\n",
    "\n",
    "from growingline import *\n",
    "\n",
    "sys.path.append(\"/home/riannek/code/gleis/gleisachse\")\n",
    "from algs.gpkg import * \n",
    "\n",
    "ogr.UseExceptions()"
   ]
  },
  {
   "cell_type": "code",
   "execution_count": 2,
   "id": "74405f97",
   "metadata": {},
   "outputs": [],
   "source": [
    "ds = None \n"
   ]
  },
  {
   "cell_type": "code",
   "execution_count": 3,
   "id": "bf5bb043",
   "metadata": {},
   "outputs": [
    {
     "name": "stdout",
     "output_type": "stream",
     "text": [
      "['TEMPLINELAYER', 'abseits', 'anfang weiche', 'kurve', 'viele', 'viele1', 'weiche']\n"
     ]
    }
   ],
   "source": [
    "layer_name = \"viele\"\n",
    "\n",
    "folder = \"/media/riannek/minimax/gleis/\"\n",
    "\n",
    "ds = None \n",
    "\n",
    "import shutil \n",
    "file = shutil.copyfile(os.path.join(folder, \"stage3vers.gpkg\"), os.path.join(folder, \"stage3tmp_ohne.gpkg\"))\n",
    "\n",
    "ds = ogr.Open(file, 1)\n",
    "\n",
    "layers = []\n",
    "for i in range(ds.GetLayerCount()):\n",
    "    layer = ds.GetLayer(i)\n",
    "    layers.append(layer.GetName())\n",
    "layers.sort()\n",
    "print(layers)\n",
    "\n",
    "layer = ds.GetLayerByName(layer_name)"
   ]
  },
  {
   "cell_type": "code",
   "execution_count": 4,
   "id": "78c24274",
   "metadata": {},
   "outputs": [],
   "source": [
    "# Add a temporary \"skip\" field if it doesn't exist\n",
    "if layer.FindFieldIndex(\"skip\", 1) == -1:\n",
    "    field = ogr.FieldDefn(\"skip\", ogr.OFTInteger)\n",
    "    layer.CreateField(field)"
   ]
  },
  {
   "cell_type": "code",
   "execution_count": 5,
   "id": "a2e97bb1",
   "metadata": {},
   "outputs": [],
   "source": [
    "def new_line_layer(ds, spatial_reference, logger):\n",
    "    if layer_exists(ds, \"centerlines\"):\n",
    "        delete_layer(ds, \"centerlines\", logger)\n",
    "    layer = ds.CreateLayer(\"centerlines\", spatial_reference, ogr.wkbLineString25D)\n",
    "    return layer \n",
    "\n",
    "\n",
    "linelayer = new_line_layer(ds, layer.GetSpatialRef(), None)\n",
    "\n",
    "def linelayer_add(layer, geom):\n",
    "    feature = ogr.Feature(layer.GetLayerDefn())\n",
    "    feature.SetGeometry(geom)\n",
    "    layer.CreateFeature(feature)\n"
   ]
  },
  {
   "cell_type": "code",
   "execution_count": 6,
   "id": "f5953701",
   "metadata": {},
   "outputs": [],
   "source": [
    "def get_all_points(layer):\n",
    "    \"\"\"Get all points from the layer as a list of numpy arrays\"\"\"\n",
    "    points = []\n",
    "    for feature in layer:\n",
    "        geom = feature.GetGeometryRef()\n",
    "        if geom is None:\n",
    "            continue\n",
    "        for i in range(geom.GetPointCount()):\n",
    "            point = np.array(geom.GetPoint(i)[:3])\n",
    "            points.append(point)\n",
    "\n",
    "    layer.ResetReading()\n",
    "    return np.array(points)"
   ]
  },
  {
   "cell_type": "code",
   "execution_count": 7,
   "id": "1b3960e4",
   "metadata": {},
   "outputs": [],
   "source": [
    "queue = deque()"
   ]
  },
  {
   "cell_type": "code",
   "execution_count": 8,
   "id": "f39e94be",
   "metadata": {},
   "outputs": [],
   "source": [
    "all_points = get_all_points(layer)"
   ]
  },
  {
   "cell_type": "code",
   "execution_count": 9,
   "id": "be737a7c",
   "metadata": {},
   "outputs": [
    {
     "data": {
      "text/plain": [
       "12549"
      ]
     },
     "execution_count": 9,
     "metadata": {},
     "output_type": "execute_result"
    }
   ],
   "source": [
    "\n",
    "layer.GetFeatureCount()"
   ]
  },
  {
   "cell_type": "markdown",
   "id": "8aca23f8",
   "metadata": {},
   "source": [
    "## Start"
   ]
  },
  {
   "cell_type": "code",
   "execution_count": 10,
   "id": "a731ce31",
   "metadata": {},
   "outputs": [],
   "source": [
    "layer.ResetReading()"
   ]
  },
  {
   "cell_type": "code",
   "execution_count": 11,
   "id": "e0420db8",
   "metadata": {},
   "outputs": [
    {
     "data": {
      "text/plain": [
       "OGRFeature(viele):2031\n",
       "  eig x (Real) = 0.996241265078073\n",
       "  eig y (Real) = 0.0865584835721042\n",
       "  eig z (Real) = -0.00331220128305595\n",
       "  gauge (Real) = 1.43783286617612\n",
       "  min points (Integer) = 372\n",
       "  skip (Integer) = (null)\n",
       "  POINT Z (4481146.50477398 5356994.85793505 451.865183185038)\n"
      ]
     },
     "execution_count": 11,
     "metadata": {},
     "output_type": "execute_result"
    }
   ],
   "source": [
    "layer.SetAttributeFilter(\"skip IS NULL\")\n",
    "\n",
    "feature = layer.GetNextFeature()\n",
    "\n",
    "layer.ResetReading()\n",
    "layer.SetAttributeFilter(None)\n",
    "\n",
    "feature\n"
   ]
  },
  {
   "cell_type": "code",
   "execution_count": 12,
   "id": "81a3b583",
   "metadata": {},
   "outputs": [],
   "source": [
    "# feature = layer.GetFeature(2033) \n",
    "# feature  "
   ]
  },
  {
   "cell_type": "code",
   "execution_count": 13,
   "id": "b082d5f6",
   "metadata": {},
   "outputs": [],
   "source": [
    "active_line = GrowingLine.from_feature(feature)\n"
   ]
  },
  {
   "cell_type": "code",
   "execution_count": 14,
   "id": "3d469e39",
   "metadata": {},
   "outputs": [],
   "source": [
    "first_fid = None\n",
    "first_xyz = None \n",
    "first_direction = None\n",
    "first_iteration = True"
   ]
  },
  {
   "cell_type": "markdown",
   "id": "f302eab0",
   "metadata": {},
   "source": [
    "## Ab hier muss dann Schleife"
   ]
  },
  {
   "cell_type": "code",
   "execution_count": 2483,
   "id": "57752af9",
   "metadata": {},
   "outputs": [
    {
     "name": "stdout",
     "output_type": "stream",
     "text": [
      "Current starting point: 2035\n",
      "1 Points in direction\n",
      "FINISHED\n",
      "0 in queue\n"
     ]
    },
    {
     "ename": "IndexError",
     "evalue": "pop from an empty deque",
     "output_type": "error",
     "traceback": [
      "\u001b[0;31m---------------------------------------------------------------------------\u001b[0m",
      "\u001b[0;31mIndexError\u001b[0m                                Traceback (most recent call last)",
      "Cell \u001b[0;32mIn[2483], line 13\u001b[0m\n\u001b[1;32m     11\u001b[0m queue\u001b[38;5;241m.\u001b[39mextend(active_line\u001b[38;5;241m.\u001b[39mswitch)\n\u001b[1;32m     12\u001b[0m \u001b[38;5;28mprint\u001b[39m(\u001b[38;5;28mlen\u001b[39m(queue), \u001b[38;5;124m\"\u001b[39m\u001b[38;5;124min queue\u001b[39m\u001b[38;5;124m\"\u001b[39m)\n\u001b[0;32m---> 13\u001b[0m active_line \u001b[38;5;241m=\u001b[39m \u001b[43mqueue\u001b[49m\u001b[38;5;241;43m.\u001b[39;49m\u001b[43mpopleft\u001b[49m\u001b[43m(\u001b[49m\u001b[43m)\u001b[49m\n",
      "\u001b[0;31mIndexError\u001b[0m: pop from an empty deque"
     ]
    }
   ],
   "source": [
    "print(\"Current starting point:\", feature.GetFID())\n",
    "xyz, directions, fids = active_line.points_in_direction(layer)\n",
    "print(len(xyz), \"Points in direction\")\n",
    "\n",
    "if len(xyz) < 3:\n",
    "    remove_points(fids, layer)\n",
    "    if active_line.in_switch:\n",
    "        active_line.make_cut(first_fid, first_xyz, first_direction)\n",
    "    not_finished = active_line.reverse_head()\n",
    "    if not_finished is False:\n",
    "        queue.extend(active_line.switch)\n",
    "        print(len(queue), \"in queue\")\n",
    "        active_line = queue.popleft()"
   ]
  },
  {
   "cell_type": "code",
   "execution_count": null,
   "id": "a64c70d2",
   "metadata": {},
   "outputs": [
    {
     "data": {
      "image/png": "[encoded data removed]",
      "text/plain": [
       "<Figure size 640x480 with 1 Axes>"
      ]
     },
     "metadata": {},
     "output_type": "display_data"
    }
   ],
   "source": [
    "labels = ransac_lines(xyz, threshold=0.05, max_iterations=20)\n",
    "max_label = labels.max()\n",
    "\n",
    "x = xyz[:, 0]\n",
    "y = xyz[:, 1]\n",
    "\n",
    "fig, ax = plt.subplots()\n",
    "sc = ax.scatter(x, y, c=labels, cmap='viridis', s=10)\n",
    "# plt.colorbar(sc)\n",
    "#equal aspect ratio\n",
    "ax.set_aspect('equal', adjustable='box')\n"
   ]
  },
  {
   "cell_type": "code",
   "execution_count": null,
   "id": "f5ba68f4",
   "metadata": {},
   "outputs": [],
   "source": [
    "# If the start point is in a switch, it causes all kinds of problems \n",
    "if first_iteration and max_label > 0:\n",
    "    # Create another line and stop here\n",
    "    feature.SetField(\"skip\", 1)\n",
    "    layer.SetFeature(feature)\n",
    "\n",
    "    print(\"old\", feature.GetFID())\n",
    "\n",
    "    layer.ResetReading()\n",
    "    layer.SetAttributeFilter(\"skip IS NULL\")\n",
    "    feature = layer.GetNextFeature()\n",
    "    layer.ResetReading()\n",
    "    layer.SetAttributeFilter(None)\n",
    "    print(\"new\", feature.GetFID())\n",
    "    active_line = GrowingLine.from_feature(feature)\n",
    "    first_iteration = True\n",
    "    raise StartInSwitchError\n",
    "first_iteration = False"
   ]
  },
  {
   "cell_type": "code",
   "execution_count": null,
   "id": "17682584",
   "metadata": {},
   "outputs": [
    {
     "data": {
      "image/png": "[encoded data removed]",
      "text/plain": [
       "<Figure size 640x480 with 1 Axes>"
      ]
     },
     "metadata": {},
     "output_type": "display_data"
    }
   ],
   "source": [
    "fig, ax = plt.subplots()\n",
    "ax.scatter(all_points[:, 0], all_points[:, 1], c='gray', s=0.2)\n",
    "ax.scatter(x, y, c=labels, cmap='viridis', s=10)\n",
    "ax.set_aspect('equal', adjustable='box')\n",
    "ax.set_axis_off()\n",
    "fig.tight_layout()\n",
    "fig.savefig(\"current_ransac_lines.png\", dpi=300, bbox_inches='tight', pad_inches=0)"
   ]
  },
  {
   "cell_type": "code",
   "execution_count": null,
   "id": "b2d97096",
   "metadata": {},
   "outputs": [],
   "source": [
    "remove_points(fids[labels == -1], layer)"
   ]
  },
  {
   "cell_type": "code",
   "execution_count": null,
   "id": "47f75937",
   "metadata": {},
   "outputs": [
    {
     "name": "stdout",
     "output_type": "stream",
     "text": [
      "1 points added to active line\n"
     ]
    }
   ],
   "source": [
    "# Check if we reached the end of a switch\n",
    "if active_line.in_switch and labels.max() == 0:\n",
    "    make_cut = True\n",
    "    print(\"CUT\")\n",
    "\n",
    "    active_line.make_cut(first_fid, first_xyz, first_direction)\n",
    "\n",
    "\n",
    "else:\n",
    "    make_cut = False\n",
    "    for label in range(labels.max()+1):\n",
    "        cluster = xyz[labels == label]\n",
    "        if len(cluster) < 2:\n",
    "            continue\n",
    "\n",
    "        \n",
    "        fids_cluster = fids[labels == label]\n",
    "        directions_cluster = directions[labels == label]\n",
    "        \n",
    "\n",
    "        if label == labels[0]:\n",
    "            # This is the active head \n",
    "            pruned, offset = pruned_points(cluster)\n",
    "            remove_points(fids_cluster[:offset+1], layer)\n",
    "\n",
    "            new_direction = directions_cluster[offset]\n",
    "            if active_line.head_direction @ new_direction < 0:\n",
    "                new_direction = -new_direction\n",
    "\n",
    "            active_line.head_xyz = pruned[-1]\n",
    "            active_line.head_direction = new_direction\n",
    "            active_line.head_fid = fids_cluster[offset]\n",
    "\n",
    "            if np.array_equal(pruned[0], active_line.points[-1]):\n",
    "                # Remove the first point if it is already in the line\n",
    "                pruned = pruned[1:]  \n",
    "            \n",
    "            active_line.points.extend(pruned) \n",
    "            print(len(pruned), \"points added to active line\")\n",
    "        else:\n",
    "            # This is the other rail in a switch (or false positive)\n",
    "            active_line.add_switch(fids_cluster[-1], cluster[-1], directions_cluster[-1])\n",
    "\n",
    "            first_fid = fids_cluster[0]\n",
    "            first_xyz = cluster[0]\n",
    "            first_direction = directions_cluster[0]\n",
    "\n"
   ]
  },
  {
   "cell_type": "code",
   "execution_count": null,
   "id": "08e52527",
   "metadata": {},
   "outputs": [
    {
     "data": {
      "text/plain": [
       "array([4.48141147e+06, 5.35701766e+06, 4.50755129e+02])"
      ]
     },
     "execution_count": 2477,
     "metadata": {},
     "output_type": "execute_result"
    }
   ],
   "source": [
    "first_xyz  "
   ]
  },
  {
   "cell_type": "code",
   "execution_count": null,
   "id": "37c63177",
   "metadata": {},
   "outputs": [
    {
     "name": "stdout",
     "output_type": "stream",
     "text": [
      "active line points: 32\n",
      "switch lines: 0\n"
     ]
    }
   ],
   "source": [
    "print(\"active line points:\", len(active_line.points))\n",
    "print(\"switch lines:\", len(active_line.switch))\n",
    "for i, switch in enumerate(active_line.switch):\n",
    "    print(f\"Switch line {i} points:\", len(switch.points), \"norm\", np.linalg.norm(switch.head_xyz - switch.start_xyz), \"head is start\" , np.array_equal(switch.head_xyz, switch.start_xyz)) "
   ]
  },
  {
   "cell_type": "code",
   "execution_count": null,
   "id": "a76269db",
   "metadata": {},
   "outputs": [
    {
     "data": {
      "text/plain": [
       "[]"
      ]
     },
     "execution_count": 2479,
     "metadata": {},
     "output_type": "execute_result"
    }
   ],
   "source": [
    "active_line.switch"
   ]
  },
  {
   "cell_type": "code",
   "execution_count": null,
   "id": "f07c1c6e",
   "metadata": {},
   "outputs": [
    {
     "data": {
      "text/plain": [
       "(5357015.315320478, 5357019.5107739065)"
      ]
     },
     "execution_count": 2480,
     "metadata": {},
     "output_type": "execute_result"
    },
    {
     "data": {
      "image/png": "[encoded data removed]",
      "text/plain": [
       "<Figure size 640x480 with 1 Axes>"
      ]
     },
     "metadata": {},
     "output_type": "display_data"
    }
   ],
   "source": [
    "fig, ax = plt.subplots()\n",
    "\n",
    "\n",
    "active = np.array(active_line.points) \n",
    "\n",
    "ax.scatter(active[:, 0], active[:, 1], c='red')\n",
    "ax.scatter(active_line.head_xyz[0], active_line.head_xyz[1], c='black', s=50, label='Head')\n",
    "\n",
    "# ax.arrow(active_line.head_xyz[0], active_line.head_xyz[1], active_line.head_direction[0], active_line.head_direction[1], width=0.01, color='black')\n",
    "\n",
    "colors = ['blue', 'green', 'orange', 'purple', 'brown', 'pink']\n",
    "\n",
    "for i, switch in enumerate(active_line.switch):\n",
    "    points = np.array(switch.points)\n",
    "    ax.scatter(points[:, 0], points[:, 1], c=colors[i % len(colors)])\n",
    "    ax.scatter(switch.head_xyz[0], switch.head_xyz[1], c='black', s=30, label='Head')\n",
    "    if switch.start_fid is not None:\n",
    "        ax.scatter(switch.start_xyz[0], switch.start_xyz[1], c='white', s=5)\n",
    "\n",
    "ax.scatter(active_line.head_xyz[0], active_line.head_xyz[1], c='black', s=50, label='Head')\n",
    "if active_line.start_fid is not None:\n",
    "    ax.scatter(active_line.start_xyz[0], active_line.start_xyz[1], c='white', s=5)\n",
    "\n",
    "x_lim = ax.get_xlim()\n",
    "y_lim = ax.get_ylim()\n",
    "\n",
    "x_lim = (x_lim[0] - 1, x_lim[1] + 1)\n",
    "y_lim = (y_lim[0] - 1, y_lim[1] + 1)\n",
    "\n",
    "ax.scatter(all_points[:, 0], all_points[:, 1], c='gray', s=1, zorder=0)\n",
    "\n",
    "\n",
    "# ax.scatter(first_xyz[0], first_xyz[1], c='yellow', s=20)\n",
    "\n",
    "ax.set_xlim(x_lim)\n",
    "ax.set_ylim(y_lim)\n",
    "#ax.set_aspect('equal', adjustable='box')"
   ]
  },
  {
   "cell_type": "code",
   "execution_count": null,
   "id": "a4761349",
   "metadata": {},
   "outputs": [],
   "source": [
    "if make_cut:\n",
    "    if not active_line.reverse_head():\n",
    "        # If we can't reverse the head, we are done\n",
    "        print(\"Finished growing line\")\n",
    "        queue.extend(active_line.switch)\n",
    "        print(len(queue), \"in queue\")\n",
    "        active_line = queue.popleft()"
   ]
  },
  {
   "cell_type": "markdown",
   "id": "d8378ee7",
   "metadata": {},
   "source": [
    "## STOP HERE"
   ]
  },
  {
   "cell_type": "code",
   "execution_count": null,
   "id": "f4349ecc",
   "metadata": {},
   "outputs": [
    {
     "ename": "ValueError",
     "evalue": "Stop here",
     "output_type": "error",
     "traceback": [
      "\u001b[0;31m---------------------------------------------------------------------------\u001b[0m",
      "\u001b[0;31mValueError\u001b[0m                                Traceback (most recent call last)",
      "Cell \u001b[0;32mIn[2482], line 1\u001b[0m\n\u001b[0;32m----> 1\u001b[0m \u001b[38;5;28;01mraise\u001b[39;00m \u001b[38;5;167;01mValueError\u001b[39;00m(\u001b[38;5;124m\"\u001b[39m\u001b[38;5;124mStop here\u001b[39m\u001b[38;5;124m\"\u001b[39m)\n",
      "\u001b[0;31mValueError\u001b[0m: Stop here"
     ]
    }
   ],
   "source": [
    "raise ValueError(\"Stop here\")"
   ]
  },
  {
   "cell_type": "code",
   "execution_count": null,
   "id": "0f2bfee5",
   "metadata": {},
   "outputs": [],
   "source": [
    "active_line.reverse_head()"
   ]
  },
  {
   "cell_type": "code",
   "execution_count": null,
   "id": "0fe5d165",
   "metadata": {},
   "outputs": [],
   "source": [
    "queue.extend(active_line.switch)\n",
    "print(len(queue))\n",
    "active_line = queue.popleft()"
   ]
  },
  {
   "cell_type": "code",
   "execution_count": null,
   "id": "087df1ad",
   "metadata": {},
   "outputs": [],
   "source": [
    "geom = active_line.get_linestring()\n",
    "print(geom.Length())\n",
    "\n",
    "if geom.Length() > 5:\n",
    "    linelayer_add(linelayer, geom)\n"
   ]
  },
  {
   "cell_type": "code",
   "execution_count": null,
   "id": "d5e31379",
   "metadata": {},
   "outputs": [],
   "source": [
    "ds = None"
   ]
  },
  {
   "cell_type": "code",
   "execution_count": null,
   "id": "0c0c1958",
   "metadata": {},
   "outputs": [],
   "source": [
    "print(len(active_line.switch))"
   ]
  },
  {
   "cell_type": "code",
   "execution_count": null,
   "id": "0bedee17",
   "metadata": {},
   "outputs": [],
   "source": [
    "active_line.points"
   ]
  },
  {
   "cell_type": "code",
   "execution_count": null,
   "id": "b8d3a32f",
   "metadata": {},
   "outputs": [],
   "source": [
    "active_line.head_fid"
   ]
  },
  {
   "cell_type": "code",
   "execution_count": null,
   "id": "0a2ed3d8",
   "metadata": {},
   "outputs": [],
   "source": [
    "active_line.head_xyz"
   ]
  },
  {
   "cell_type": "code",
   "execution_count": null,
   "id": "9b9204a1",
   "metadata": {},
   "outputs": [],
   "source": [
    "active_line.switch "
   ]
  },
  {
   "cell_type": "code",
   "execution_count": null,
   "id": "841aedfd",
   "metadata": {},
   "outputs": [],
   "source": [
    "active_line.switch[0].head_fid  "
   ]
  },
  {
   "cell_type": "code",
   "execution_count": null,
   "id": "f1513898",
   "metadata": {},
   "outputs": [],
   "source": [
    "active_line.switch[1].head_fid  "
   ]
  },
  {
   "cell_type": "code",
   "execution_count": null,
   "id": "38a38a64",
   "metadata": {},
   "outputs": [],
   "source": [
    "foo = np.array(active_line.points)\n",
    "foo = foo[:,1] \n",
    "x = np.arange(len(foo))\n",
    "fig, ax = plt.subplots()\n",
    "ax.plot(x, foo)"
   ]
  },
  {
   "cell_type": "code",
   "execution_count": null,
   "id": "9e336a44",
   "metadata": {},
   "outputs": [],
   "source": [
    "fig, ax = plt.subplots()\n",
    "foo = np.array(active_line.points)\n",
    "x = foo[:,0]\n",
    "y = foo[:,1]\n",
    "ax.scatter(x, y, c='b', s=1)\n",
    "\n",
    "foo = np.array(active_line.switch[0].points)  \n",
    "x = foo[:,0]\n",
    "y = foo[:,1]\n",
    "ax.scatter(x, y, c='r', s=1)\n",
    "\n",
    "foo = np.array(active_line.switch[1].points)  \n",
    "x = foo[:,0]\n",
    "y = foo[:,1]\n",
    "ax.scatter(x, y, c='g', s=1)\n",
    "\n",
    "foo = np.array(active_line.switch[2].points)  \n",
    "x = foo[:,0]\n",
    "y = foo[:,1]\n",
    "ax.scatter(x, y, c='b', s=1)"
   ]
  },
  {
   "cell_type": "code",
   "execution_count": null,
   "id": "d0455130",
   "metadata": {},
   "outputs": [],
   "source": [
    "remove_points([feature.GetFID()], layer)"
   ]
  },
  {
   "cell_type": "code",
   "execution_count": null,
   "id": "31b53407",
   "metadata": {},
   "outputs": [],
   "source": []
  },
  {
   "cell_type": "code",
   "execution_count": null,
   "id": "ece69a96",
   "metadata": {},
   "outputs": [
    {
     "ename": "StartInSwitchError",
     "evalue": "Start point is in a switch, prone to bugs.",
     "output_type": "error",
     "traceback": [
      "\u001b[0;31m---------------------------------------------------------------------------\u001b[0m",
      "\u001b[0;31mStartInSwitchError\u001b[0m                        Traceback (most recent call last)",
      "Cell \u001b[0;32mIn[190], line 1\u001b[0m\n\u001b[0;32m----> 1\u001b[0m \u001b[38;5;28;01mraise\u001b[39;00m StartInSwitchError\n",
      "\u001b[0;31mStartInSwitchError\u001b[0m: Start point is in a switch, prone to bugs."
     ]
    }
   ],
   "source": [
    "raise StartInSwitchError"
   ]
  },
  {
   "cell_type": "code",
   "execution_count": null,
   "id": "9774dc1a",
   "metadata": {},
   "outputs": [],
   "source": []
  }
 ],
 "metadata": {
  "kernelspec": {
   "display_name": "points",
   "language": "python",
   "name": "points"
  },
  "language_info": {
   "codemirror_mode": {
    "name": "ipython",
    "version": 3
   },
   "file_extension": ".py",
   "mimetype": "text/x-python",
   "name": "python",
   "nbconvert_exporter": "python",
   "pygments_lexer": "ipython3",
   "version": "3.9.21"
  }
 },
 "nbformat": 4,
 "nbformat_minor": 5
}
