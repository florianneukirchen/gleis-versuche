{
 "cells": [
  {
   "cell_type": "code",
   "execution_count": 2,
   "id": "c1b3dde3",
   "metadata": {},
   "outputs": [],
   "source": [
    "import sys\n",
    "import os\n",
    "import numpy as np\n",
    "from osgeo import ogr \n",
    "from collections import deque\n",
    "import matplotlib.pyplot as plt\n",
    "\n",
    "from growingline import *\n",
    "\n",
    "sys.path.append(\"/home/riannek/code/gleis/gleisachse\")\n",
    "from algs.gpkg import * \n",
    "\n",
    "ogr.UseExceptions()"
   ]
  },
  {
   "cell_type": "code",
   "execution_count": 3,
   "id": "74405f97",
   "metadata": {},
   "outputs": [],
   "source": [
    "ds = None \n"
   ]
  },
  {
   "cell_type": "code",
   "execution_count": 4,
   "id": "bf5bb043",
   "metadata": {},
   "outputs": [
    {
     "name": "stdout",
     "output_type": "stream",
     "text": [
      "['TEMPLINELAYER', 'abseits', 'anfang weiche', 'kurve', 'viele', 'viele1', 'weiche']\n"
     ]
    }
   ],
   "source": [
    "layer_name = \"viele\"\n",
    "\n",
    "folder = \"/media/riannek/minimax/gleis/\"\n",
    "\n",
    "ds = None \n",
    "\n",
    "import shutil \n",
    "file = shutil.copyfile(os.path.join(folder, \"stage3vers.gpkg\"), os.path.join(folder, \"stage3tmp_ohne.gpkg\"))\n",
    "\n",
    "ds = ogr.Open(file, 1)\n",
    "\n",
    "layers = []\n",
    "for i in range(ds.GetLayerCount()):\n",
    "    layer = ds.GetLayer(i)\n",
    "    layers.append(layer.GetName())\n",
    "layers.sort()\n",
    "print(layers)\n",
    "\n",
    "layer = ds.GetLayerByName(layer_name)"
   ]
  },
  {
   "cell_type": "code",
   "execution_count": 5,
   "id": "78c24274",
   "metadata": {},
   "outputs": [],
   "source": [
    "# Add a temporary \"skip\" field if it doesn't exist\n",
    "if layer.FindFieldIndex(\"skip\", 1) == -1:\n",
    "    field = ogr.FieldDefn(\"skip\", ogr.OFTInteger)\n",
    "    layer.CreateField(field)"
   ]
  },
  {
   "cell_type": "code",
   "execution_count": 6,
   "id": "a2e97bb1",
   "metadata": {},
   "outputs": [],
   "source": [
    "def new_line_layer(ds, spatial_reference, logger):\n",
    "    if layer_exists(ds, \"centerlines\"):\n",
    "        delete_layer(ds, \"centerlines\", logger)\n",
    "    layer = ds.CreateLayer(\"centerlines\", spatial_reference, ogr.wkbLineString25D)\n",
    "    return layer \n",
    "\n",
    "def new_switch_layer(ds, spatial_reference, logger):\n",
    "    if layer_exists(ds, \"switch\"):\n",
    "        delete_layer(ds, \"switch\", logger)\n",
    "    layer = ds.CreateLayer(\"switch\", spatial_reference, ogr.wkbPoint)\n",
    "    return layer\n",
    "\n",
    "\n",
    "linelayer = new_line_layer(ds, layer.GetSpatialRef(), None)\n",
    "switchlayer = new_switch_layer(ds, layer.GetSpatialRef(), None)\n"
   ]
  },
  {
   "cell_type": "code",
   "execution_count": 7,
   "id": "f5953701",
   "metadata": {},
   "outputs": [],
   "source": [
    "def get_all_points(layer):\n",
    "    \"\"\"Get all points from the layer as a list of numpy arrays\"\"\"\n",
    "    points = []\n",
    "    for feature in layer:\n",
    "        geom = feature.GetGeometryRef()\n",
    "        if geom is None:\n",
    "            continue\n",
    "        for i in range(geom.GetPointCount()):\n",
    "            point = np.array(geom.GetPoint(i)[:3])\n",
    "            points.append(point)\n",
    "\n",
    "    layer.ResetReading()\n",
    "    return np.array(points)"
   ]
  },
  {
   "cell_type": "code",
   "execution_count": 8,
   "id": "1b3960e4",
   "metadata": {},
   "outputs": [],
   "source": [
    "queue = deque()"
   ]
  },
  {
   "cell_type": "code",
   "execution_count": 9,
   "id": "f39e94be",
   "metadata": {},
   "outputs": [],
   "source": [
    "all_points = get_all_points(layer)"
   ]
  },
  {
   "cell_type": "code",
   "execution_count": 10,
   "id": "be737a7c",
   "metadata": {},
   "outputs": [
    {
     "data": {
      "text/plain": [
       "12549"
      ]
     },
     "execution_count": 10,
     "metadata": {},
     "output_type": "execute_result"
    }
   ],
   "source": [
    "\n",
    "layer.GetFeatureCount()"
   ]
  },
  {
   "cell_type": "markdown",
   "id": "8aca23f8",
   "metadata": {},
   "source": [
    "## Start"
   ]
  },
  {
   "cell_type": "code",
   "execution_count": 226,
   "id": "a731ce31",
   "metadata": {},
   "outputs": [],
   "source": [
    "layer.ResetReading()"
   ]
  },
  {
   "cell_type": "code",
   "execution_count": 227,
   "id": "e0420db8",
   "metadata": {},
   "outputs": [
    {
     "data": {
      "text/plain": [
       "OGRFeature(viele):2037\n",
       "  eig x (Real) = -0.993462964512283\n",
       "  eig y (Real) = -0.114038514502122\n",
       "  eig z (Real) = 0.00515318858728931\n",
       "  gauge (Real) = 1.43548766144349\n",
       "  min points (Integer) = 383\n",
       "  skip (Integer) = (null)\n",
       "  POINT Z (4481145.69113495 5356994.3204279 451.867700696239)\n"
      ]
     },
     "execution_count": 227,
     "metadata": {},
     "output_type": "execute_result"
    }
   ],
   "source": [
    "layer.SetAttributeFilter(\"skip IS NULL\")\n",
    "\n",
    "feature = layer.GetNextFeature()\n",
    "\n",
    "layer.ResetReading()\n",
    "layer.SetAttributeFilter(None)\n",
    "\n",
    "feature\n"
   ]
  },
  {
   "cell_type": "code",
   "execution_count": 228,
   "id": "81a3b583",
   "metadata": {},
   "outputs": [],
   "source": [
    "# feature = layer.GetFeature(271571) \n",
    "# feature  "
   ]
  },
  {
   "cell_type": "code",
   "execution_count": 229,
   "id": "b082d5f6",
   "metadata": {},
   "outputs": [],
   "source": [
    "active_line = GrowingLine.from_feature(feature)\n"
   ]
  },
  {
   "cell_type": "code",
   "execution_count": 230,
   "id": "3d469e39",
   "metadata": {},
   "outputs": [],
   "source": [
    "first_iteration = True"
   ]
  },
  {
   "cell_type": "markdown",
   "id": "f302eab0",
   "metadata": {},
   "source": [
    "## Ab hier muss dann Schleife"
   ]
  },
  {
   "cell_type": "code",
   "execution_count": 435,
   "id": "57752af9",
   "metadata": {},
   "outputs": [
    {
     "name": "stdout",
     "output_type": "stream",
     "text": [
      "Current starting point: 2037\n",
      "52 Points in direction\n"
     ]
    }
   ],
   "source": [
    "print(\"Current starting point:\", feature.GetFID())\n",
    "xyz, directions, fids, switches = active_line.points_in_direction(layer, switchlayer)\n",
    "new_switches = []\n",
    "print(len(xyz), \"Points in direction\")\n",
    "if len(switches) > 0:\n",
    "    print(\"Switches found:\", len(switches))\n",
    "\n",
    "if len(xyz) < 3:\n",
    "    remove_points(fids, layer)\n",
    "    if active_line.in_switch:\n",
    "        geom = ogr.Geometry(ogr.wkbPoint)\n",
    "        geom.AddPoint(active_line.head_xyz[0], active_line.head_xyz[1])\n",
    "        new_switches.append(np.array(active_line.head_xyz))\n",
    "        add_to_layer(switchlayer, geom)\n",
    "\n",
    "    not_finished = active_line.reverse_head()\n",
    "    if not_finished is False:\n",
    "        queue.extend(active_line.switch)\n",
    "        print(len(queue), \"in queue\")\n",
    "        if len(queue) == 0:\n",
    "            print(\"START FROM START\")\n",
    "        active_line = queue.popleft()"
   ]
  },
  {
   "cell_type": "code",
   "execution_count": 436,
   "id": "a64c70d2",
   "metadata": {},
   "outputs": [
    {
     "data": {
      "image/png": "[encoded data removed]",
      "text/plain": [
       "<Figure size 640x480 with 1 Axes>"
      ]
     },
     "metadata": {},
     "output_type": "display_data"
    }
   ],
   "source": [
    "labels = ransac_lines(xyz, threshold=0.05, max_iterations=20)\n",
    "max_label = labels.max()\n",
    "\n",
    "x = xyz[:, 0]\n",
    "y = xyz[:, 1]\n",
    "\n",
    "fig, ax = plt.subplots()\n",
    "sc = ax.scatter(x, y, c=labels, cmap='viridis', s=10)\n",
    "# plt.colorbar(sc)\n",
    "#equal aspect ratio\n",
    "ax.set_aspect('equal', adjustable='box')\n"
   ]
  },
  {
   "cell_type": "code",
   "execution_count": 437,
   "id": "ab30deea",
   "metadata": {},
   "outputs": [
    {
     "data": {
      "text/plain": [
       "(np.int64(0), np.int64(0))"
      ]
     },
     "execution_count": 437,
     "metadata": {},
     "output_type": "execute_result"
    }
   ],
   "source": [
    "labels[0], labels.max()"
   ]
  },
  {
   "cell_type": "code",
   "execution_count": 438,
   "id": "81096388",
   "metadata": {},
   "outputs": [
    {
     "name": "stdout",
     "output_type": "stream",
     "text": [
      "active line is reversable\n"
     ]
    }
   ],
   "source": [
    "if (active_line.start_fid is not None): print(\"active line is reversable\")"
   ]
  },
  {
   "cell_type": "code",
   "execution_count": 439,
   "id": "f5ba68f4",
   "metadata": {},
   "outputs": [],
   "source": [
    "# If the start point is in a switch, it causes all kinds of problems \n",
    "if first_iteration and max_label > 0:\n",
    "    # Create another line and stop here\n",
    "    feature.SetField(\"skip\", 1)\n",
    "    layer.SetFeature(feature)\n",
    "\n",
    "    print(\"old\", feature.GetFID())\n",
    "\n",
    "    layer.ResetReading()\n",
    "    layer.SetAttributeFilter(\"skip IS NULL\")\n",
    "    feature = layer.GetNextFeature()\n",
    "    layer.ResetReading()\n",
    "    layer.SetAttributeFilter(None)\n",
    "    print(\"new\", feature.GetFID())\n",
    "    active_line = GrowingLine.from_feature(feature)\n",
    "    first_iteration = True\n",
    "    raise StartInSwitchError\n",
    "first_iteration = False"
   ]
  },
  {
   "cell_type": "code",
   "execution_count": 440,
   "id": "17682584",
   "metadata": {},
   "outputs": [
    {
     "data": {
      "image/png": "[encoded data removed]",
      "text/plain": [
       "<Figure size 640x480 with 1 Axes>"
      ]
     },
     "metadata": {},
     "output_type": "display_data"
    }
   ],
   "source": [
    "fig, ax = plt.subplots()\n",
    "ax.scatter(all_points[:, 0], all_points[:, 1], c='gray', s=0.2)\n",
    "ax.scatter(x, y, c=labels, cmap='viridis', s=10)\n",
    "ax.set_aspect('equal', adjustable='box')\n",
    "ax.set_axis_off()\n",
    "fig.tight_layout()\n",
    "fig.savefig(\"current_ransac_lines.png\", dpi=300, bbox_inches='tight', pad_inches=0)"
   ]
  },
  {
   "cell_type": "code",
   "execution_count": 441,
   "id": "b2d97096",
   "metadata": {},
   "outputs": [],
   "source": [
    "remove_points(fids[labels == -1], layer)"
   ]
  },
  {
   "cell_type": "code",
   "execution_count": null,
   "id": "47f75937",
   "metadata": {},
   "outputs": [
    {
     "name": "stdout",
     "output_type": "stream",
     "text": [
      "Switch line length: 1.9592341916219473\n",
      "No cut, switch line too short\n"
     ]
    }
   ],
   "source": [
    "# Check if we reached the end of a switch\n",
    "if active_line.in_switch() and labels.max() == 0:\n",
    "    if labels[0] == -1:\n",
    "        print(\"Active line ends in switch\")\n",
    "        # idx = active_line.index_closest_point([active_line.switch[0], active_line.switch[1]])\n",
    "        # closest_point = active_line.points[idx]\n",
    "        geom = ogr.Geometry(ogr.wkbPoint)\n",
    "        geom.AddPoint(active_line.head_xyz[0], active_line.head_xyz[1]) \n",
    "        add_to_layer(switchlayer, geom)\n",
    "\n",
    "        new_switches.append(active_line.head_xyz)\n",
    "        make_cut = True # Reverses head\n",
    "    else:\n",
    "        length = np.linalg.norm(active_line.switch[0] - active_line.switch[-1])\n",
    "        print(\"Switch line length:\", length)\n",
    "        if length > 5:\n",
    "            make_cut = True\n",
    "            print(\"CUT\")\n",
    "\n",
    "            point = active_line.make_cut()\n",
    "            geom = ogr.Geometry(ogr.wkbPoint)\n",
    "            geom.AddPoint(point[0], point[1])\n",
    "            add_to_layer(switchlayer, geom)\n",
    "            new_switches.append(point)\n",
    "        else:\n",
    "            make_cut = False\n",
    "            print(\"No cut, switch line too short\")\n",
    "            active_line.switch = None\n",
    "\n",
    "else:\n",
    "    make_cut = False\n",
    "    for label in range(labels.max()+1):\n",
    "        cluster = xyz[labels == label]\n",
    "        if len(cluster) < 2:\n",
    "            continue\n",
    "\n",
    "        \n",
    "        fids_cluster = fids[labels == label]\n",
    "        directions_cluster = directions[labels == label]\n",
    "        \n",
    "\n",
    "        if label == labels[0]:\n",
    "            # This is the active head \n",
    "            pruned, offset = pruned_points(cluster)\n",
    "            remove_points(fids_cluster[:offset+1], layer)\n",
    "\n",
    "            new_direction = directions_cluster[offset]\n",
    "            if active_line.head_direction @ new_direction < 0:\n",
    "                new_direction = -new_direction\n",
    "\n",
    "            active_line.head_xyz = pruned[-1]\n",
    "            active_line.head_direction = new_direction\n",
    "            active_line.head_fid = fids_cluster[offset]\n",
    "\n",
    "            if np.array_equal(pruned[0], active_line.points[-1]):\n",
    "                # Remove the first point if it is already in the line\n",
    "                pruned = pruned[1:]  \n",
    "            \n",
    "            active_line.points.extend(pruned) \n",
    "            print(len(pruned), \"points added to active line\")\n",
    "        else:\n",
    "            # This is the other rail in a switch (or false positive)\n",
    "            active_line.add_switchline(cluster[-1], cluster[0])\n",
    "\n",
    "    if len(switches) > 0:\n",
    "        active_line.make_cut(switches)\n",
    "        make_cut = True\n",
    "\n"
   ]
  },
  {
   "cell_type": "code",
   "execution_count": 443,
   "id": "37c63177",
   "metadata": {},
   "outputs": [
    {
     "name": "stdout",
     "output_type": "stream",
     "text": [
      "active line points: 166\n",
      "in switch: False\n"
     ]
    }
   ],
   "source": [
    "print(\"active line points:\", len(active_line.points))\n",
    "print(\"in switch:\", active_line.in_switch())"
   ]
  },
  {
   "cell_type": "code",
   "execution_count": 444,
   "id": "f07c1c6e",
   "metadata": {},
   "outputs": [
    {
     "data": {
      "text/plain": [
       "(5356975.469102779, 5356996.1704910025)"
      ]
     },
     "execution_count": 444,
     "metadata": {},
     "output_type": "execute_result"
    },
    {
     "data": {
      "image/png": "[encoded data removed]",
      "text/plain": [
       "<Figure size 640x480 with 1 Axes>"
      ]
     },
     "metadata": {},
     "output_type": "display_data"
    }
   ],
   "source": [
    "fig, ax = plt.subplots()\n",
    "\n",
    "\n",
    "active = np.array(active_line.points) \n",
    "\n",
    "ax.scatter(active[:, 0], active[:, 1], c='red')\n",
    "ax.scatter(active_line.head_xyz[0], active_line.head_xyz[1], c='black', s=50, label='Head')\n",
    "ax.scatter(active_line.head_xyz[0], active_line.head_xyz[1], c='black', s=50, label='Head')\n",
    "\n",
    "if active_line.switch is not None:\n",
    "    for point in active_line.switch:\n",
    "        ax.scatter(point[0], point[1], c='blue', s=50)\n",
    "   \n",
    "for point in switches:\n",
    "    ax.scatter(point[0], point[1], c='green', marker='x', s=30)\n",
    "\n",
    "for point in new_switches:\n",
    "    ax.scatter(point[0], point[1], c='orange', marker='x', s=30)\n",
    "\n",
    "if active_line.start_fid is not None:\n",
    "    ax.scatter(active_line.start_xyz[0], active_line.start_xyz[1], c='white', s=5)\n",
    "\n",
    "x_lim = ax.get_xlim()\n",
    "y_lim = ax.get_ylim()\n",
    "\n",
    "x_lim = (x_lim[0] - 1, x_lim[1] + 1)\n",
    "y_lim = (y_lim[0] - 1, y_lim[1] + 1)\n",
    "\n",
    "ax.scatter(all_points[:, 0], all_points[:, 1], c='gray', s=1, zorder=0)\n",
    "\n",
    "\n",
    "# ax.scatter(first_xyz[0], first_xyz[1], c='yellow', s=20)\n",
    "\n",
    "ax.set_xlim(x_lim)\n",
    "ax.set_ylim(y_lim)\n",
    "#ax.set_aspect('equal', adjustable='box')"
   ]
  },
  {
   "cell_type": "code",
   "execution_count": 445,
   "id": "a4761349",
   "metadata": {},
   "outputs": [],
   "source": [
    "if make_cut:\n",
    "    if not active_line.reverse_head():\n",
    "        # If we can't reverse the head, we are done\n",
    "        print(\"Finished growing line\")\n",
    "        queue.extend(active_line.next_lines)\n",
    "        print(len(queue), \"in queue\")\n",
    "        active_line = queue.popleft()"
   ]
  },
  {
   "cell_type": "markdown",
   "id": "d8378ee7",
   "metadata": {},
   "source": [
    "## STOP HERE"
   ]
  },
  {
   "cell_type": "code",
   "execution_count": 446,
   "id": "f4349ecc",
   "metadata": {},
   "outputs": [
    {
     "ename": "ValueError",
     "evalue": "Stop here",
     "output_type": "error",
     "traceback": [
      "\u001b[0;31m---------------------------------------------------------------------------\u001b[0m",
      "\u001b[0;31mValueError\u001b[0m                                Traceback (most recent call last)",
      "Cell \u001b[0;32mIn[446], line 1\u001b[0m\n\u001b[0;32m----> 1\u001b[0m \u001b[38;5;28;01mraise\u001b[39;00m \u001b[38;5;167;01mValueError\u001b[39;00m(\u001b[38;5;124m\"\u001b[39m\u001b[38;5;124mStop here\u001b[39m\u001b[38;5;124m\"\u001b[39m)\n",
      "\u001b[0;31mValueError\u001b[0m: Stop here"
     ]
    }
   ],
   "source": [
    "raise ValueError(\"Stop here\")"
   ]
  },
  {
   "cell_type": "code",
   "execution_count": null,
   "id": "0f2bfee5",
   "metadata": {},
   "outputs": [],
   "source": [
    "active_line.reverse_head()"
   ]
  },
  {
   "cell_type": "code",
   "execution_count": null,
   "id": "0fe5d165",
   "metadata": {},
   "outputs": [],
   "source": [
    "queue.extend(active_line.switch)\n",
    "print(len(queue))\n",
    "active_line = queue.popleft()"
   ]
  },
  {
   "cell_type": "code",
   "execution_count": null,
   "id": "087df1ad",
   "metadata": {},
   "outputs": [],
   "source": [
    "geom = active_line.get_linestring()\n",
    "print(geom.Length())\n",
    "\n",
    "if geom.Length() > 5:\n",
    "    add_to_layer(linelayer, geom)\n"
   ]
  },
  {
   "cell_type": "code",
   "execution_count": null,
   "id": "d5e31379",
   "metadata": {},
   "outputs": [],
   "source": [
    "ds = None"
   ]
  },
  {
   "cell_type": "code",
   "execution_count": null,
   "id": "0c0c1958",
   "metadata": {},
   "outputs": [],
   "source": [
    "print(len(active_line.switch))"
   ]
  },
  {
   "cell_type": "code",
   "execution_count": null,
   "id": "0bedee17",
   "metadata": {},
   "outputs": [],
   "source": [
    "active_line.points"
   ]
  },
  {
   "cell_type": "code",
   "execution_count": null,
   "id": "b8d3a32f",
   "metadata": {},
   "outputs": [],
   "source": [
    "active_line.head_fid"
   ]
  },
  {
   "cell_type": "code",
   "execution_count": null,
   "id": "0a2ed3d8",
   "metadata": {},
   "outputs": [],
   "source": [
    "active_line.head_xyz"
   ]
  },
  {
   "cell_type": "code",
   "execution_count": null,
   "id": "9b9204a1",
   "metadata": {},
   "outputs": [],
   "source": [
    "active_line.switch "
   ]
  },
  {
   "cell_type": "code",
   "execution_count": null,
   "id": "841aedfd",
   "metadata": {},
   "outputs": [],
   "source": [
    "active_line.switch[0].head_fid  "
   ]
  },
  {
   "cell_type": "code",
   "execution_count": null,
   "id": "f1513898",
   "metadata": {},
   "outputs": [],
   "source": [
    "active_line.switch[1].head_fid  "
   ]
  },
  {
   "cell_type": "code",
   "execution_count": null,
   "id": "38a38a64",
   "metadata": {},
   "outputs": [],
   "source": [
    "foo = np.array(active_line.points)\n",
    "foo = foo[:,1] \n",
    "x = np.arange(len(foo))\n",
    "fig, ax = plt.subplots()\n",
    "ax.plot(x, foo)"
   ]
  },
  {
   "cell_type": "code",
   "execution_count": null,
   "id": "9e336a44",
   "metadata": {},
   "outputs": [],
   "source": [
    "fig, ax = plt.subplots()\n",
    "foo = np.array(active_line.points)\n",
    "x = foo[:,0]\n",
    "y = foo[:,1]\n",
    "ax.scatter(x, y, c='b', s=1)\n",
    "\n",
    "foo = np.array(active_line.switch[0].points)  \n",
    "x = foo[:,0]\n",
    "y = foo[:,1]\n",
    "ax.scatter(x, y, c='r', s=1)\n",
    "\n",
    "foo = np.array(active_line.switch[1].points)  \n",
    "x = foo[:,0]\n",
    "y = foo[:,1]\n",
    "ax.scatter(x, y, c='g', s=1)\n",
    "\n",
    "foo = np.array(active_line.switch[2].points)  \n",
    "x = foo[:,0]\n",
    "y = foo[:,1]\n",
    "ax.scatter(x, y, c='b', s=1)"
   ]
  },
  {
   "cell_type": "code",
   "execution_count": null,
   "id": "d0455130",
   "metadata": {},
   "outputs": [],
   "source": [
    "remove_points([feature.GetFID()], layer)"
   ]
  },
  {
   "cell_type": "code",
   "execution_count": null,
   "id": "31b53407",
   "metadata": {},
   "outputs": [],
   "source": []
  },
  {
   "cell_type": "code",
   "execution_count": null,
   "id": "ece69a96",
   "metadata": {},
   "outputs": [
    {
     "ename": "StartInSwitchError",
     "evalue": "Start point is in a switch, prone to bugs.",
     "output_type": "error",
     "traceback": [
      "\u001b[0;31m---------------------------------------------------------------------------\u001b[0m",
      "\u001b[0;31mStartInSwitchError\u001b[0m                        Traceback (most recent call last)",
      "Cell \u001b[0;32mIn[190], line 1\u001b[0m\n\u001b[0;32m----> 1\u001b[0m \u001b[38;5;28;01mraise\u001b[39;00m StartInSwitchError\n",
      "\u001b[0;31mStartInSwitchError\u001b[0m: Start point is in a switch, prone to bugs."
     ]
    }
   ],
   "source": [
    "raise StartInSwitchError"
   ]
  },
  {
   "cell_type": "code",
   "execution_count": null,
   "id": "9774dc1a",
   "metadata": {},
   "outputs": [],
   "source": [
    "point = ogr.Geometry(ogr.wkbPoint)\n",
    "point.AddPoint(-122.23, 47.09)"
   ]
  },
  {
   "cell_type": "code",
   "execution_count": null,
   "id": "b7e9cfd5",
   "metadata": {},
   "outputs": [
    {
     "data": {
      "text/plain": [
       "(-122.23, 47.09, 0.0)"
      ]
     },
     "execution_count": 4,
     "metadata": {},
     "output_type": "execute_result"
    }
   ],
   "source": [
    "point.GetPoint() "
   ]
  },
  {
   "cell_type": "code",
   "execution_count": null,
   "id": "802f76e8",
   "metadata": {},
   "outputs": [],
   "source": []
  }
 ],
 "metadata": {
  "kernelspec": {
   "display_name": "points",
   "language": "python",
   "name": "points"
  },
  "language_info": {
   "codemirror_mode": {
    "name": "ipython",
    "version": 3
   },
   "file_extension": ".py",
   "mimetype": "text/x-python",
   "name": "python",
   "nbconvert_exporter": "python",
   "pygments_lexer": "ipython3",
   "version": "3.9.21"
  }
 },
 "nbformat": 4,
 "nbformat_minor": 5
}
