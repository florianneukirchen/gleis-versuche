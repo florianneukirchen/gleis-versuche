{
 "cells": [
  {
   "cell_type": "code",
   "execution_count": 3439,
   "id": "c1b3dde3",
   "metadata": {},
   "outputs": [],
   "source": [
    "import sys\n",
    "import os\n",
    "import numpy as np\n",
    "from osgeo import ogr \n",
    "from collections import deque\n",
    "import matplotlib.pyplot as plt\n",
    "\n",
    "\n",
    "sys.path.append(\"/home/riannek/code/gleis/gleisachse\")\n",
    "from algs.gpkg import * \n",
    "\n",
    "ogr.UseExceptions()"
   ]
  },
  {
   "cell_type": "code",
   "execution_count": 3440,
   "id": "74405f97",
   "metadata": {},
   "outputs": [],
   "source": [
    "ds = None \n"
   ]
  },
  {
   "cell_type": "code",
   "execution_count": 3441,
   "id": "bf5bb043",
   "metadata": {},
   "outputs": [
    {
     "name": "stdout",
     "output_type": "stream",
     "text": [
      "['TEMPLINELAYER', 'abseits', 'anfang weiche', 'kurve', 'viele', 'weiche']\n"
     ]
    }
   ],
   "source": [
    "layer_name = \"weiche\"\n",
    "\n",
    "folder = \"/media/riannek/minimax/gleis/\"\n",
    "\n",
    "ds = None \n",
    "\n",
    "import shutil \n",
    "file = shutil.copyfile(os.path.join(folder, \"stage3vers.gpkg\"), os.path.join(folder, \"stage3tmp.gpkg\"))\n",
    "\n",
    "ds = ogr.Open(file, 1)\n",
    "\n",
    "layers = []\n",
    "for i in range(ds.GetLayerCount()):\n",
    "    layer = ds.GetLayer(i)\n",
    "    layers.append(layer.GetName())\n",
    "layers.sort()\n",
    "print(layers)\n",
    "\n",
    "layer = ds.GetLayerByName(layer_name)"
   ]
  },
  {
   "cell_type": "code",
   "execution_count": 3442,
   "id": "a2e97bb1",
   "metadata": {},
   "outputs": [],
   "source": [
    "def new_line_layer(ds, spatial_reference, logger):\n",
    "    if layer_exists(ds, \"centerlines\"):\n",
    "        delete_layer(ds, \"centerlines\", logger)\n",
    "    layer = ds.CreateLayer(\"centerlines\", spatial_reference, ogr.wkbLineString25D)\n",
    "    return layer \n",
    "\n",
    "\n",
    "linelayer = new_line_layer(ds, layer.GetSpatialRef(), None)\n",
    "\n",
    "def linelayer_add(layer, geom):\n",
    "    feature = ogr.Feature(layer.GetLayerDefn())\n",
    "    feature.SetGeometry(geom)\n",
    "    layer.CreateFeature(feature)\n"
   ]
  },
  {
   "cell_type": "code",
   "execution_count": 3443,
   "id": "df040253",
   "metadata": {},
   "outputs": [],
   "source": [
    "def remove_points(fids, layer):\n",
    "    \"\"\"Remove points from the layer\n",
    "    \n",
    "    \"\"\"\n",
    "    if len(fids) == 0:\n",
    "        return\n",
    "    first = layer.GetFeature(fids[0])\n",
    "    if first is None:\n",
    "        # After reversing, the first point has already been removed\n",
    "        fids = fids[1:]\n",
    "\n",
    "    for fid in fids:\n",
    "        layer.DeleteFeature(fid)\n",
    "\n",
    "    layer.SyncToDisk()\n",
    "\n",
    "\n",
    "\n",
    "\n",
    "def distance_points(point1, point2):\n",
    "    return np.linalg.norm(point1 - point2)\n",
    "\n",
    "\n",
    "def pruned_points(xyz):\n",
    "    pruned_points = [] \n",
    "    offset = 0 # Keep reference of the index in the original xyz array\n",
    "    N = len(xyz)\n",
    "\n",
    "    while True:\n",
    "        if len(xyz) < 2:\n",
    "            # We have only one point left\n",
    "            return pruned_points, offset\n",
    "\n",
    "        distances = []\n",
    "        for i in range(len(xyz)-1):\n",
    "            distances.append(distance_points(xyz[i], xyz[i+1]))\n",
    "\n",
    "        distances = np.array(distances)\n",
    "        distances_cumsum = distances.cumsum()\n",
    "\n",
    "\n",
    "        if distances_cumsum[0] > 1:\n",
    "            # The second point is already far away from the first\n",
    "            pruned_points.append(xyz[1])\n",
    "            xyz = xyz[1:]\n",
    "            offset += 1\n",
    "            continue\n",
    "\n",
    "        if distances_cumsum[-1] <= 1:\n",
    "            # The last point is too close\n",
    "            if offset == 0:\n",
    "                # We seem to be at the end of the line\n",
    "                # Add the last point\n",
    "                pruned_points.append(xyz[-1]) \n",
    "                offset = N - 1\n",
    "            return pruned_points, offset\n",
    "\n",
    "        # Find the index of the last point that is less than 1 m away\n",
    "        index = np.where(distances_cumsum < 1)[0][-1] + 1\n",
    "        pruned_points.append(xyz[index])\n",
    "        xyz = xyz[index:]\n",
    "        offset += index\n",
    "\n",
    "\n"
   ]
  },
  {
   "cell_type": "code",
   "execution_count": 3444,
   "id": "f5953701",
   "metadata": {},
   "outputs": [],
   "source": [
    "def get_all_points(layer):\n",
    "    \"\"\"Get all points from the layer as a list of numpy arrays\"\"\"\n",
    "    points = []\n",
    "    for feature in layer:\n",
    "        geom = feature.GetGeometryRef()\n",
    "        if geom is None:\n",
    "            continue\n",
    "        for i in range(geom.GetPointCount()):\n",
    "            point = np.array(geom.GetPoint(i)[:3])\n",
    "            points.append(point)\n",
    "\n",
    "    layer.ResetReading()\n",
    "    return np.array(points)"
   ]
  },
  {
   "cell_type": "code",
   "execution_count": 3445,
   "id": "1b3960e4",
   "metadata": {},
   "outputs": [],
   "source": [
    "queue = deque()"
   ]
  },
  {
   "cell_type": "code",
   "execution_count": 3446,
   "id": "7b11c8cd",
   "metadata": {},
   "outputs": [
    {
     "data": {
      "text/plain": [
       "8.109614455994183"
      ]
     },
     "execution_count": 3446,
     "metadata": {},
     "output_type": "execute_result"
    }
   ],
   "source": [
    "np.rad2deg(np.arccos(0.99))"
   ]
  },
  {
   "cell_type": "code",
   "execution_count": 3447,
   "id": "ddfef1ca",
   "metadata": {},
   "outputs": [],
   "source": [
    "def distance_points_to_line(points, p0, direction):\n",
    "    # Vectors from p0 to points\n",
    "    v = points - p0\n",
    "\n",
    "    # Line-to-point distance is norm of cross product over norm of direction\n",
    "    cross = np.cross(v, direction)\n",
    "    distances = np.linalg.norm(cross, axis=1) / np.linalg.norm(direction)\n",
    "    return distances\n",
    "\n",
    "def ransac_lines(points, threshold=0.1, min_inliers=3, max_iterations=20, max_lines=2):\n",
    "    points = np.asarray(points)\n",
    "    N = len(points)\n",
    "    labels = np.full(N, -1)  # Initialize all as noise\n",
    "    remaining_idx = np.arange(N)\n",
    "\n",
    "\n",
    "    for current_label in range(max_lines):\n",
    "        best_inliers = []\n",
    "\n",
    "        for _ in range(max_iterations):\n",
    "            if len(remaining_idx) < min_inliers:\n",
    "                break\n",
    "            sample_idx = np.random.choice(remaining_idx, 2, replace=False)\n",
    "            p0, p1 = points[sample_idx]\n",
    "            direction = p1 - p0\n",
    "\n",
    "            # Direction not accurate if points are too close\n",
    "            if np.linalg.norm(direction) < 0.1:\n",
    "                continue\n",
    "\n",
    "            distances = distance_points_to_line(points[remaining_idx], p0, direction)\n",
    "            inliers = np.where(distances < threshold)[0]\n",
    "            if len(inliers) > len(best_inliers):\n",
    "                best_inliers = inliers\n",
    "\n",
    "        if len(best_inliers) < min_inliers:\n",
    "            break  # No more good lines\n",
    "\n",
    "        inlier_global_idx = remaining_idx[best_inliers]\n",
    "        labels[inlier_global_idx] = current_label\n",
    "\n",
    "        # Remove inliers from remaining set\n",
    "        remaining_idx = np.setdiff1d(remaining_idx, inlier_global_idx)\n",
    "\n",
    "        if len(remaining_idx) < min_inliers:\n",
    "            break\n",
    "\n",
    "    return labels\n"
   ]
  },
  {
   "cell_type": "code",
   "execution_count": 3448,
   "id": "eb8415f9",
   "metadata": {},
   "outputs": [],
   "source": [
    "def model_fitness(xyz, directions, labels=None):\n",
    "    if labels is None:\n",
    "        labels = np.zeros(len(xyz), dtype=int)\n",
    "    fitness = np.zeros(len(xyz))\n",
    "\n",
    "    for label in range(labels.max()+1):\n",
    "        cluster = xyz[labels == label]\n",
    "        # Set first points fitness to 1\n",
    "        cluster_fitness = [1]\n",
    "\n",
    "        for i in range(len(cluster)-1):\n",
    "            cluster_fitness.append(model_fitness_score(cluster[i], cluster[i+1], directions[i]))\n",
    "\n",
    "        cluster_fitness = np.array(cluster_fitness)\n",
    "        fitness[labels == label] = cluster_fitness\n",
    "\n",
    "    if len(fitness[fitness>0]) > 0:\n",
    "        print(\"Min fitness:\", fitness[fitness>0].min())\n",
    "    return fitness\n",
    "\n",
    "\n",
    "def model_fitness_score(point1, point2, direction):\n",
    "    vector = point1 - point2\n",
    "    vector = vector / np.linalg.norm(vector)\n",
    "    direction = direction / np.linalg.norm(direction)\n",
    "    return np.abs(direction @ vector)"
   ]
  },
  {
   "cell_type": "code",
   "execution_count": 3449,
   "id": "0eb8c406",
   "metadata": {},
   "outputs": [],
   "source": [
    "class GrowingLine: \n",
    "    def __init__(self, head_fid, head_xyz, head_direction, head_gauge):\n",
    "        self.head_fid = head_fid\n",
    "        self.head_xyz = head_xyz\n",
    "        self.head_direction = head_direction\n",
    "        self.head_gauge = head_gauge\n",
    "\n",
    "        self.start_xyz = head_xyz\n",
    "        self.start_direction = head_direction\n",
    "        self.start_gauge = head_gauge\n",
    "        self.start_fid = head_fid\n",
    "\n",
    "        self.switch = []\n",
    "\n",
    "        self.points = [head_xyz]\n",
    "\n",
    "    @classmethod\n",
    "    def from_feature(cls, feature):\n",
    "        head_fid = feature.GetFID()\n",
    "        head_xyz = np.array(feature.GetGeometryRef().GetPoint(0))\n",
    "        head_direction = np.array([feature.GetField(\"eig x\"), feature.GetField(\"eig y\"), feature.GetField(\"eig z\")])\n",
    "        head_gauge = feature.GetField(\"gauge\")\n",
    "        return cls(head_fid, head_xyz, head_direction, head_gauge)\n",
    "\n",
    "\n",
    "\n",
    "\n",
    "    def points_in_direction(self, layer, distance=10):\n",
    "        \"\"\"Read the points in the model direction and sort them\n",
    "        \n",
    "        \"\"\"\n",
    "\n",
    "        # Get a rectangular polygon for the spatial filter\n",
    "        perpendicular = np.cross(self.head_direction, np.array([0, 0, 1]))\n",
    "        scaled_direction = self.head_direction * distance\n",
    "\n",
    "        ring = ogr.Geometry(ogr.wkbLinearRing)\n",
    "        start = self.head_xyz + (perpendicular / 2)\n",
    "        ring.AddPoint(start[0], start[1])\n",
    "        pt = start + scaled_direction\n",
    "        ring.AddPoint(pt[0], pt[1])\n",
    "        pt = pt - perpendicular\n",
    "        ring.AddPoint(pt[0], pt[1])\n",
    "        pt = pt - scaled_direction\n",
    "        ring.AddPoint(pt[0], pt[1])\n",
    "        ring.AddPoint(start[0], start[1])\n",
    "        geom = ogr.Geometry(ogr.wkbPolygon)\n",
    "        geom.AddGeometry(ring)\n",
    "\n",
    "        layer.SetSpatialFilter(geom)\n",
    "        layer.ResetReading()\n",
    "\n",
    "        xyz = [self.head_xyz]\n",
    "        directions = [self.head_direction]\n",
    "        gauges = [self.head_gauge]\n",
    "        fids = [self.head_fid]\n",
    "        distances = [0]\n",
    "\n",
    "        for feature in layer:\n",
    "            if feature.GetFID() == self.head_fid:\n",
    "                continue\n",
    "            xyz.append(np.array(feature.GetGeometryRef().GetPoint(0)))\n",
    "            directions.append(np.array([feature.GetField(\"eig x\"), feature.GetField(\"eig y\"), feature.GetField(\"eig z\")]))\n",
    "            gauges.append(feature.GetField(\"gauge\"))\n",
    "            fids.append(feature.GetFID())\n",
    "\n",
    "        layer.SetSpatialFilter(None)\n",
    "        layer.ResetReading()\n",
    "        \n",
    "        for point in xyz[1:]:\n",
    "            distances.append(np.linalg.norm(self.head_xyz - point))\n",
    "\n",
    "        # Sort all lists by distance\n",
    "        distances = np.array(distances)\n",
    "        sorted_indices = np.argsort(distances)\n",
    "        distances = distances[sorted_indices]\n",
    "        xyz = np.array(xyz)[sorted_indices]\n",
    "        directions = np.array(directions)[sorted_indices]\n",
    "        gauges = np.array(gauges)[sorted_indices]\n",
    "        fids = np.array(fids)[sorted_indices]\n",
    "\n",
    "        return xyz, distances, directions, gauges, fids\n",
    "    \n",
    "\n",
    "    def add_switch(self, old_fid, new_fid, xyz,  new_direction, gauge, points):\n",
    "        switch_fids = [line.head_fid for line in self.switch]\n",
    "        try:\n",
    "            idx = switch_fids.index(old_fid)\n",
    "        except ValueError:\n",
    "            idx = -1\n",
    "\n",
    "        if idx == -1:\n",
    "            # If the line is not in the list, add it\n",
    "            switchline = GrowingLine(\n",
    "                new_fid, xyz, new_direction, gauge)\n",
    "            switchline.points = points\n",
    "            self.switch.append(switchline)\n",
    "        else:\n",
    "            # Update the head of the line\n",
    "            switchline = self.switch[idx] \n",
    "            switchline.head_fid = new_fid\n",
    "            switchline.head_xyz = xyz\n",
    "            switchline.head_direction = new_direction\n",
    "            switchline.head_gauge = gauge\n",
    "            switchline.points.extend(xyz)\n",
    "\n",
    "    def reverse_head(self, active_line=True):\n",
    "        \"\"\"Reverse the head of the line\n",
    "        \n",
    "        \"\"\"\n",
    "        if self.start_fid is None:\n",
    "            return False\n",
    "        self.head_fid = self.start_fid\n",
    "        self.head_xyz = self.start_xyz\n",
    "        self.head_direction = -self.start_direction\n",
    "        self.head_gauge = self.start_gauge\n",
    "        self.points = self.points[::-1]\n",
    "        \n",
    "        if active_line:\n",
    "            self.start_fid = None\n",
    "        \n",
    "        for line in self.switch:\n",
    "            line.reverse_head(active_line=False)\n",
    "\n",
    "        return True\n",
    "\n",
    "\n",
    "    def get_linestring(self):\n",
    "        \"\"\"Get the linestring of the line\n",
    "        \n",
    "        \"\"\"\n",
    "        if len(self.points) == 0:\n",
    "            return None\n",
    "        geom = ogr.Geometry(ogr.wkbLineString25D)\n",
    "        for point in self.points:\n",
    "            geom.AddPoint(point[0], point[1], point[2])\n",
    "        return geom\n",
    "\n",
    "    def grow(self, layer, linelayer):\n",
    "        while True:\n",
    "            xyz, distances, directions, gauges, fids = self.points_in_direction(layer)\n",
    "            if len(fids) < 3:\n",
    "                # These are only 2 new points, not enough for a ransac line\n",
    "                # Reverse head or stop if already reversed\n",
    "                remove_points(fids, layer)\n",
    "                if not self.reverse_head():\n",
    "                    break\n",
    "                continue\n",
    "            labels = ransac_lines(xyz, threshold=0.05, max_iterations=20)\n",
    "            remove_points(fids[labels == -1], layer)\n",
    "\n",
    "            for label in range(labels.max()+1):\n",
    "                cluster = xyz[labels == label]\n",
    "                if len(cluster) < 2:\n",
    "                    continue\n",
    "                try:\n",
    "                    pruned, offset = pruned_points(cluster)\n",
    "                except IndexError:\n",
    "                    print(\"Error in pruned_points with cluster:\", cluster)\n",
    "                    print(len(cluster), \"points\")\n",
    "                    raise IndexError(\"Pruned points failed\")\n",
    "\n",
    "                fids_cluster = fids[labels == label]\n",
    "\n",
    "                remove_points(fids_cluster[:offset+1], layer)\n",
    "                \n",
    "                new_direction = directions[offset]\n",
    "                if self.head_direction @ new_direction < 0:\n",
    "                    new_direction = -new_direction\n",
    "\n",
    "                if label == labels[0]:\n",
    "                    # This is the active head\n",
    "                    self.head_xyz = pruned[-1]\n",
    "                    self.head_direction = new_direction\n",
    "                    self.head_gauge = gauges[offset]\n",
    "                    self.head_fid = fids_cluster[offset]\n",
    "                    self.points.extend(pruned)\n",
    "                else:\n",
    "                    # This is the other rail in a switch (or false positive)\n",
    "                    self.add_switch(fids_cluster[0], fids_cluster[offset], pruned[-1], new_direction, gauges[offset], pruned)\n",
    "\n",
    "        # Add the active line to the layer\n",
    "        geom = self.get_linestring()\n",
    "        if geom is not None and geom.GetPointCount() > 5:\n",
    "            linelayer_add(linelayer, geom)\n",
    "\n",
    "        return self.switch"
   ]
  },
  {
   "cell_type": "markdown",
   "id": "8aca23f8",
   "metadata": {},
   "source": [
    "## Start"
   ]
  },
  {
   "cell_type": "code",
   "execution_count": 3450,
   "id": "f39e94be",
   "metadata": {},
   "outputs": [],
   "source": [
    "all_points = get_all_points(layer)"
   ]
  },
  {
   "cell_type": "code",
   "execution_count": 3451,
   "id": "be737a7c",
   "metadata": {},
   "outputs": [
    {
     "data": {
      "text/plain": [
       "3882"
      ]
     },
     "execution_count": 3451,
     "metadata": {},
     "output_type": "execute_result"
    }
   ],
   "source": [
    "\n",
    "layer.GetFeatureCount()"
   ]
  },
  {
   "cell_type": "code",
   "execution_count": 3452,
   "id": "e0420db8",
   "metadata": {},
   "outputs": [
    {
     "data": {
      "text/plain": [
       "OGRFeature(weiche):951\n",
       "  eig x (Real) = 0.206159349714193\n",
       "  eig y (Real) = -0.978518279550064\n",
       "  eig z (Real) = -0.000546911147630067\n",
       "  gauge (Real) = 1.44567067823869\n",
       "  min points (Integer) = 300\n",
       "  POINT Z (4473849.34625483 5336264.62714754 516.615297792815)\n"
      ]
     },
     "execution_count": 3452,
     "metadata": {},
     "output_type": "execute_result"
    }
   ],
   "source": [
    "feature = layer.GetNextFeature()\n",
    "feature"
   ]
  },
  {
   "cell_type": "code",
   "execution_count": 3453,
   "id": "b082d5f6",
   "metadata": {},
   "outputs": [],
   "source": [
    "active_line = GrowingLine.from_feature(feature)\n"
   ]
  },
  {
   "cell_type": "markdown",
   "id": "f302eab0",
   "metadata": {},
   "source": [
    "## Ab hier muss dann Schleife"
   ]
  },
  {
   "cell_type": "code",
   "execution_count": 3454,
   "id": "57752af9",
   "metadata": {},
   "outputs": [
    {
     "name": "stdout",
     "output_type": "stream",
     "text": [
      "52\n"
     ]
    }
   ],
   "source": [
    "xyz, distances, directions, gauges, fids = active_line.points_in_direction(layer)\n",
    "print(len(xyz))"
   ]
  },
  {
   "cell_type": "code",
   "execution_count": 3455,
   "id": "82ae5c9d",
   "metadata": {},
   "outputs": [
    {
     "name": "stdout",
     "output_type": "stream",
     "text": [
      "Min fitness: 0.9905283192449139\n"
     ]
    }
   ],
   "source": [
    "fitness = model_fitness(xyz, directions)"
   ]
  },
  {
   "cell_type": "code",
   "execution_count": 3456,
   "id": "61d2546f",
   "metadata": {},
   "outputs": [
    {
     "data": {
      "image/png": "[encoded data removed]",
      "text/plain": [
       "<Figure size 640x480 with 2 Axes>"
      ]
     },
     "metadata": {},
     "output_type": "display_data"
    }
   ],
   "source": [
    "x = xyz[:, 0]\n",
    "y = xyz[:, 1]\n",
    "\n",
    "fig, ax = plt.subplots()\n",
    "sc = ax.scatter(x, y, c=fitness, cmap='viridis', s=10)\n",
    "plt.colorbar(sc)\n",
    "#equal aspect ratio\n",
    "ax.set_aspect('equal', adjustable='box')"
   ]
  },
  {
   "cell_type": "code",
   "execution_count": 3457,
   "id": "a64c70d2",
   "metadata": {},
   "outputs": [
    {
     "data": {
      "image/png": "[encoded data removed]",
      "text/plain": [
       "<Figure size 640x480 with 2 Axes>"
      ]
     },
     "metadata": {},
     "output_type": "display_data"
    }
   ],
   "source": [
    "labels = ransac_lines(xyz, threshold=0.05, max_iterations=20)\n",
    "\n",
    "x = xyz[:, 0]\n",
    "y = xyz[:, 1]\n",
    "\n",
    "fig, ax = plt.subplots()\n",
    "sc = ax.scatter(x, y, c=labels, cmap='viridis', s=10)\n",
    "plt.colorbar(sc)\n",
    "#equal aspect ratio\n",
    "ax.set_aspect('equal', adjustable='box')\n"
   ]
  },
  {
   "cell_type": "code",
   "execution_count": 3458,
   "id": "17682584",
   "metadata": {},
   "outputs": [
    {
     "data": {
      "image/png": "[encoded data removed]",
      "text/plain": [
       "<Figure size 640x480 with 1 Axes>"
      ]
     },
     "metadata": {},
     "output_type": "display_data"
    }
   ],
   "source": [
    "fig, ax = plt.subplots()\n",
    "ax.scatter(all_points[:, 0], all_points[:, 1], c='gray', s=1)\n",
    "ax.scatter(x, y, c=labels, cmap='viridis', s=10)\n",
    "ax.set_aspect('equal', adjustable='box')\n",
    "ax.set_axis_off()\n",
    "fig.tight_layout()\n",
    "fig.savefig(\"current_ransac_lines.png\", dpi=300, bbox_inches='tight', pad_inches=0)"
   ]
  },
  {
   "cell_type": "code",
   "execution_count": 3459,
   "id": "f5893a7c",
   "metadata": {},
   "outputs": [
    {
     "data": {
      "image/png": "[encoded data removed]",
      "text/plain": [
       "<Figure size 640x480 with 2 Axes>"
      ]
     },
     "metadata": {},
     "output_type": "display_data"
    }
   ],
   "source": [
    "fig, ax = plt.subplots()\n",
    "sc = ax.scatter(x, y, c=gauges, cmap='viridis', s=10)\n",
    "plt.colorbar(sc)\n",
    "#equal aspect ratio\n",
    "ax.set_aspect('equal', adjustable='box')\n"
   ]
  },
  {
   "cell_type": "code",
   "execution_count": 3460,
   "id": "0c425051",
   "metadata": {},
   "outputs": [
    {
     "name": "stdout",
     "output_type": "stream",
     "text": [
      "Min fitness: 0.9905283192449139\n"
     ]
    },
    {
     "data": {
      "image/png": "[encoded data removed]",
      "text/plain": [
       "<Figure size 640x480 with 2 Axes>"
      ]
     },
     "metadata": {},
     "output_type": "display_data"
    }
   ],
   "source": [
    "fitness = model_fitness(xyz, directions, labels)\n",
    "\n",
    "x = xyz[:, 0]\n",
    "y = xyz[:, 1]\n",
    "\n",
    "fig, ax = plt.subplots()\n",
    "sc = ax.scatter(x, y, c=fitness, cmap='viridis', s=10)\n",
    "plt.colorbar(sc)\n",
    "#equal aspect ratio\n",
    "ax.set_aspect('equal', adjustable='box')"
   ]
  },
  {
   "cell_type": "code",
   "execution_count": 3461,
   "id": "9f327eac",
   "metadata": {},
   "outputs": [
    {
     "data": {
      "text/plain": [
       "21"
      ]
     },
     "execution_count": 3461,
     "metadata": {},
     "output_type": "execute_result"
    }
   ],
   "source": [
    "np.argmin(fitness)"
   ]
  },
  {
   "cell_type": "code",
   "execution_count": 3462,
   "id": "a4ef47d0",
   "metadata": {},
   "outputs": [],
   "source": [
    "def preceding_with_same_label(labels, idx):\n",
    "    same_label = np.where(labels[:idx] == labels[idx])[0]\n",
    "    return same_label[-1] if same_label.size > 0 else None\n"
   ]
  },
  {
   "cell_type": "code",
   "execution_count": 3463,
   "id": "9b5e515b",
   "metadata": {},
   "outputs": [],
   "source": [
    "# preceding_with_same_label(labels, 35)"
   ]
  },
  {
   "cell_type": "code",
   "execution_count": 3464,
   "id": "03967e65",
   "metadata": {},
   "outputs": [],
   "source": [
    "# bla = labels.copy()\n",
    "# bla[35] = -1\n",
    "# blafitness = model_fitness(xyz, directions, bla)"
   ]
  },
  {
   "cell_type": "code",
   "execution_count": 3465,
   "id": "ac982a13",
   "metadata": {},
   "outputs": [],
   "source": [
    "# distances[labels==0].min(), distances[labels==1].min()"
   ]
  },
  {
   "cell_type": "code",
   "execution_count": 3466,
   "id": "eb4239bb",
   "metadata": {},
   "outputs": [],
   "source": [
    "# distances[labels==0].max(), distances[labels==1].max()"
   ]
  },
  {
   "cell_type": "code",
   "execution_count": 3467,
   "id": "47f75937",
   "metadata": {},
   "outputs": [
    {
     "name": "stdout",
     "output_type": "stream",
     "text": [
      "11 points added to active line\n"
     ]
    }
   ],
   "source": [
    "for label in range(labels.max()+1):\n",
    "    cluster = xyz[labels == label]\n",
    "    pruned, offset = pruned_points(cluster)\n",
    "    fids_cluster = fids[labels == label]\n",
    "\n",
    "    remove_points(fids_cluster[:offset+1], layer)\n",
    "    \n",
    "    new_direction = directions[offset]\n",
    "    if active_line.head_direction @ new_direction < 0:\n",
    "        new_direction = -new_direction\n",
    "\n",
    "    \n",
    "    if label == labels[0]:\n",
    "        # This is the active head \n",
    "        active_line.head_xyz = pruned[-1]\n",
    "        active_line.head_direction = new_direction\n",
    "        active_line.head_gauge = gauges[offset]\n",
    "        active_line.head_fid = fids_cluster[offset]\n",
    "        active_line.points.extend(pruned) \n",
    "        print(len(pruned), \"points added to active line\")\n",
    "    else:\n",
    "        # This is the other rail in a switch (or false positive)\n",
    "        active_line.add_switch(fids_cluster[0], fids_cluster[offset], pruned[-1], new_direction, gauges[offset], pruned)\n",
    "        print(len(pruned), \"points added to switch line\")\n"
   ]
  },
  {
   "cell_type": "code",
   "execution_count": 3468,
   "id": "b6ee43a0",
   "metadata": {},
   "outputs": [
    {
     "data": {
      "text/plain": [
       "49"
      ]
     },
     "execution_count": 3468,
     "metadata": {},
     "output_type": "execute_result"
    }
   ],
   "source": [
    "offset "
   ]
  },
  {
   "cell_type": "code",
   "execution_count": 3469,
   "id": "09024bc1",
   "metadata": {},
   "outputs": [
    {
     "data": {
      "text/plain": [
       "array([4.47385134e+06, 5.33625536e+06, 5.16661790e+02])"
      ]
     },
     "execution_count": 3469,
     "metadata": {},
     "output_type": "execute_result"
    }
   ],
   "source": [
    "active_line.head_xyz"
   ]
  },
  {
   "cell_type": "markdown",
   "id": "d8378ee7",
   "metadata": {},
   "source": [
    "## STOP HERE"
   ]
  },
  {
   "cell_type": "code",
   "execution_count": 3470,
   "id": "f4349ecc",
   "metadata": {},
   "outputs": [
    {
     "ename": "ValueError",
     "evalue": "Stop here",
     "output_type": "error",
     "traceback": [
      "\u001b[0;31m---------------------------------------------------------------------------\u001b[0m",
      "\u001b[0;31mValueError\u001b[0m                                Traceback (most recent call last)",
      "Cell \u001b[0;32mIn[3470], line 1\u001b[0m\n\u001b[0;32m----> 1\u001b[0m \u001b[38;5;28;01mraise\u001b[39;00m \u001b[38;5;167;01mValueError\u001b[39;00m(\u001b[38;5;124m\"\u001b[39m\u001b[38;5;124mStop here\u001b[39m\u001b[38;5;124m\"\u001b[39m)\n",
      "\u001b[0;31mValueError\u001b[0m: Stop here"
     ]
    }
   ],
   "source": [
    "raise ValueError(\"Stop here\")"
   ]
  },
  {
   "cell_type": "code",
   "execution_count": null,
   "id": "0f2bfee5",
   "metadata": {},
   "outputs": [
    {
     "data": {
      "text/plain": [
       "True"
      ]
     },
     "execution_count": 3332,
     "metadata": {},
     "output_type": "execute_result"
    }
   ],
   "source": [
    "active_line.reverse_head()"
   ]
  },
  {
   "cell_type": "code",
   "execution_count": null,
   "id": "0fe5d165",
   "metadata": {},
   "outputs": [
    {
     "name": "stdout",
     "output_type": "stream",
     "text": [
      "0\n"
     ]
    },
    {
     "ename": "IndexError",
     "evalue": "pop from an empty deque",
     "output_type": "error",
     "traceback": [
      "\u001b[0;31m---------------------------------------------------------------------------\u001b[0m",
      "\u001b[0;31mIndexError\u001b[0m                                Traceback (most recent call last)",
      "Cell \u001b[0;32mIn[3350], line 3\u001b[0m\n\u001b[1;32m      1\u001b[0m queue\u001b[38;5;241m.\u001b[39mextend(active_line\u001b[38;5;241m.\u001b[39mswitch)\n\u001b[1;32m      2\u001b[0m \u001b[38;5;28mprint\u001b[39m(\u001b[38;5;28mlen\u001b[39m(queue))\n\u001b[0;32m----> 3\u001b[0m active_line \u001b[38;5;241m=\u001b[39m \u001b[43mqueue\u001b[49m\u001b[38;5;241;43m.\u001b[39;49m\u001b[43mpop\u001b[49m\u001b[43m(\u001b[49m\u001b[43m)\u001b[49m\n",
      "\u001b[0;31mIndexError\u001b[0m: pop from an empty deque"
     ]
    }
   ],
   "source": [
    "queue.extend(active_line.switch)\n",
    "print(len(queue))\n",
    "active_line = queue.pop()"
   ]
  },
  {
   "cell_type": "code",
   "execution_count": null,
   "id": "087df1ad",
   "metadata": {},
   "outputs": [
    {
     "name": "stdout",
     "output_type": "stream",
     "text": [
      "6.5373792594158795\n"
     ]
    }
   ],
   "source": [
    "geom = active_line.get_linestring()\n",
    "print(geom.Length())\n",
    "\n",
    "if geom.Length() > 5:\n",
    "    linelayer_add(linelayer, geom)\n"
   ]
  },
  {
   "cell_type": "code",
   "execution_count": null,
   "id": "d5e31379",
   "metadata": {},
   "outputs": [],
   "source": [
    "ds = None"
   ]
  },
  {
   "cell_type": "code",
   "execution_count": null,
   "id": "0c0c1958",
   "metadata": {},
   "outputs": [
    {
     "name": "stdout",
     "output_type": "stream",
     "text": [
      "0\n"
     ]
    }
   ],
   "source": [
    "print(len(active_line.switch))"
   ]
  },
  {
   "cell_type": "code",
   "execution_count": 3471,
   "id": "0bedee17",
   "metadata": {},
   "outputs": [
    {
     "data": {
      "text/plain": [
       "[array([4.47384935e+06, 5.33626463e+06, 5.16615298e+02]),\n",
       " array([4.47384955e+06, 5.33626366e+06, 5.16617102e+02]),\n",
       " array([4.47384969e+06, 5.33626298e+06, 5.16619140e+02]),\n",
       " array([4.47384989e+06, 5.33626206e+06, 5.16621711e+02]),\n",
       " array([4.47385004e+06, 5.33626134e+06, 5.16624717e+02]),\n",
       " array([4.47385021e+06, 5.33626051e+06, 5.16628995e+02]),\n",
       " array([4.47385036e+06, 5.33625985e+06, 5.16633380e+02]),\n",
       " array([4.47385056e+06, 5.33625890e+06, 5.16641226e+02]),\n",
       " array([4.47385077e+06, 5.33625794e+06, 5.16648073e+02]),\n",
       " array([4.47385094e+06, 5.33625716e+06, 5.16652350e+02]),\n",
       " array([4.47385115e+06, 5.33625621e+06, 5.16657833e+02]),\n",
       " array([4.47385134e+06, 5.33625536e+06, 5.16661790e+02])]"
      ]
     },
     "execution_count": 3471,
     "metadata": {},
     "output_type": "execute_result"
    }
   ],
   "source": [
    "active_line.points"
   ]
  },
  {
   "cell_type": "code",
   "execution_count": 3473,
   "id": "b8d3a32f",
   "metadata": {},
   "outputs": [
    {
     "data": {
      "text/plain": [
       "1103"
      ]
     },
     "execution_count": 3473,
     "metadata": {},
     "output_type": "execute_result"
    }
   ],
   "source": [
    "active_line.head_fid"
   ]
  },
  {
   "cell_type": "code",
   "execution_count": 3472,
   "id": "0a2ed3d8",
   "metadata": {},
   "outputs": [
    {
     "data": {
      "text/plain": [
       "array([4.47385134e+06, 5.33625536e+06, 5.16661790e+02])"
      ]
     },
     "execution_count": 3472,
     "metadata": {},
     "output_type": "execute_result"
    }
   ],
   "source": [
    "active_line.head_xyz"
   ]
  },
  {
   "cell_type": "code",
   "execution_count": null,
   "id": "9b9204a1",
   "metadata": {},
   "outputs": [
    {
     "data": {
      "text/plain": [
       "[<__main__.GrowingLine at 0x7f0a8f258940>,\n",
       " <__main__.GrowingLine at 0x7f0a8ec088e0>]"
      ]
     },
     "execution_count": 3436,
     "metadata": {},
     "output_type": "execute_result"
    }
   ],
   "source": [
    "active_line.switch "
   ]
  },
  {
   "cell_type": "code",
   "execution_count": null,
   "id": "841aedfd",
   "metadata": {},
   "outputs": [
    {
     "data": {
      "text/plain": [
       "87372"
      ]
     },
     "execution_count": 3437,
     "metadata": {},
     "output_type": "execute_result"
    }
   ],
   "source": [
    "active_line.switch[0].head_fid  "
   ]
  },
  {
   "cell_type": "code",
   "execution_count": null,
   "id": "f1513898",
   "metadata": {},
   "outputs": [
    {
     "data": {
      "text/plain": [
       "87394"
      ]
     },
     "execution_count": 3438,
     "metadata": {},
     "output_type": "execute_result"
    }
   ],
   "source": [
    "active_line.switch[1].head_fid  "
   ]
  },
  {
   "cell_type": "code",
   "execution_count": null,
   "id": "38a38a64",
   "metadata": {},
   "outputs": [
    {
     "data": {
      "text/plain": [
       "[<matplotlib.lines.Line2D at 0x7fb2fa8d1e20>]"
      ]
     },
     "execution_count": 303,
     "metadata": {},
     "output_type": "execute_result"
    },
    {
     "data": {
      "image/png": "[encoded data removed]",
      "text/plain": [
       "<Figure size 640x480 with 1 Axes>"
      ]
     },
     "metadata": {},
     "output_type": "display_data"
    }
   ],
   "source": [
    "foo = np.array(active_line.points)\n",
    "foo = foo[:,1] \n",
    "x = np.arange(len(foo))\n",
    "fig, ax = plt.subplots()\n",
    "ax.plot(x, foo)"
   ]
  },
  {
   "cell_type": "code",
   "execution_count": null,
   "id": "9e336a44",
   "metadata": {},
   "outputs": [
    {
     "data": {
      "text/plain": [
       "<matplotlib.collections.PathCollection at 0x7f0a8f4a0c10>"
      ]
     },
     "execution_count": 2250,
     "metadata": {},
     "output_type": "execute_result"
    },
    {
     "data": {
      "image/png": "[encoded data removed]",
      "text/plain": [
       "<Figure size 640x480 with 1 Axes>"
      ]
     },
     "metadata": {},
     "output_type": "display_data"
    }
   ],
   "source": [
    "fig, ax = plt.subplots()\n",
    "foo = np.array(active_line.points)\n",
    "x = foo[:,0]\n",
    "y = foo[:,1]\n",
    "ax.scatter(x, y, c='b', s=1)\n",
    "\n",
    "foo = np.array(active_line.switch[0].points)  \n",
    "x = foo[:,0]\n",
    "y = foo[:,1]\n",
    "ax.scatter(x, y, c='r', s=1)\n",
    "\n",
    "foo = np.array(active_line.switch[1].points)  \n",
    "x = foo[:,0]\n",
    "y = foo[:,1]\n",
    "ax.scatter(x, y, c='g', s=1)\n",
    "\n",
    "foo = np.array(active_line.switch[2].points)  \n",
    "x = foo[:,0]\n",
    "y = foo[:,1]\n",
    "ax.scatter(x, y, c='b', s=1)"
   ]
  },
  {
   "cell_type": "code",
   "execution_count": null,
   "id": "d0455130",
   "metadata": {},
   "outputs": [],
   "source": [
    "remove_points([feature.GetFID()], layer)"
   ]
  }
 ],
 "metadata": {
  "kernelspec": {
   "display_name": "forge",
   "language": "python",
   "name": "forge"
  },
  "language_info": {
   "codemirror_mode": {
    "name": "ipython",
    "version": 3
   },
   "file_extension": ".py",
   "mimetype": "text/x-python",
   "name": "python",
   "nbconvert_exporter": "python",
   "pygments_lexer": "ipython3",
   "version": "3.10.16"
  }
 },
 "nbformat": 4,
 "nbformat_minor": 5
}
