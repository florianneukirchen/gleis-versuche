{
 "cells": [
  {
   "cell_type": "markdown",
   "metadata": {},
   "source": [
    "# Templatematching Validation\n",
    "- Problem: Punkte sehr eng entlang Scanlinien, aber Scanlinien weit auseinander\n",
    "- RMSE wird nur auf den Inliern berechnet\n",
    "- hängt von threshold und dem Abstand der Scanlinien ab!\n",
    "- Daher: Eigenen Validierer\n",
    "\n",
    "\n",
    "Erster Versuch \n",
    "- Idee war\n",
    "    - Cluster auf die Länge des Templates croppen\n",
    "    - für jeden Punkt im Cluster Entfernung zum nächsten Punkt im Template\n",
    "    - mit kleinem Threshold (0.005) inlier und outlier\n",
    "    - ratio inlier / total\n",
    "    - rmse inlier\n",
    "    - rmse alle \n"
   ]
  },
  {
   "cell_type": "code",
   "execution_count": 1,
   "metadata": {},
   "outputs": [
    {
     "name": "stdout",
     "output_type": "stream",
     "text": [
      "Jupyter environment detected. Enabling Open3D WebVisualizer.\n",
      "[Open3D INFO] WebRTC GUI backend enabled.\n",
      "[Open3D INFO] WebRTCWindowSystem: HTTP handshake server disabled.\n"
     ]
    }
   ],
   "source": [
    "import pdal \n",
    "import numpy as np\n",
    "import matplotlib.pyplot as plt\n",
    "from scipy.spatial import KDTree, cKDTree\n",
    "from scipy.linalg import svd \n",
    "from osgeo import ogr\n",
    "import pyvista as pv\n",
    "import os\n",
    "import json\n",
    "import time \n",
    "import matplotlib.pyplot as plt\n",
    "import copy\n",
    "\n",
    "import open3d as o3d\n",
    "from interessant import * # Bei Änderungen Kernel neu starten\n",
    "\n",
    "\n",
    "ogr.UseExceptions()"
   ]
  },
  {
   "cell_type": "code",
   "execution_count": 2,
   "metadata": {},
   "outputs": [],
   "source": [
    "gauge = 1.435\n",
    "railhead_width = 0.067"
   ]
  },
  {
   "cell_type": "code",
   "execution_count": 3,
   "metadata": {},
   "outputs": [],
   "source": [
    "def pca(cloud):\n",
    "    \"\"\"Use PCA to get einvalues and eigenvectors of a point cloud\n",
    "    \n",
    "    Returns (eigenvalues, eigenvectors)\n",
    "    \"\"\"\n",
    "    if cloud.shape[0] < 3:\n",
    "        raise ValueError(\"Point cloud must have at least 3 points\")\n",
    "    mean = np.mean(cloud, axis=0)\n",
    "    centered = cloud - mean\n",
    "    U, S, Vt = svd(centered, full_matrices=False)\n",
    "    eigenvals = S**2/(cloud.shape[0]-1)\n",
    "    # Returned vectors are in columns, first vector is eigenvec[:, 0] == eigenvec.T[0]\n",
    "    return eigenvals, Vt.T"
   ]
  },
  {
   "cell_type": "code",
   "execution_count": 4,
   "metadata": {},
   "outputs": [],
   "source": [
    "def plot_cluster(cluster, eigenvects=None): \n",
    "    center = cluster.mean(axis=0)\n",
    "    centered = cluster - center\n",
    "\n",
    "    if eigenvects is None:\n",
    "        eigenvals, eigenvects = pca(cluster)\n",
    "\n",
    "    transformed = centered @ eigenvects\n",
    "    fig, ax = plt.subplots(figsize=(10, 15))\n",
    "    ax.scatter(transformed[:,0], transformed[:,2], c=transformed[:,1], cmap=plt.cm.plasma, marker=\".\")\n",
    "    ax.set_aspect(\"equal\")\n",
    "    plt.show()\n",
    "    return fig, ax"
   ]
  },
  {
   "cell_type": "code",
   "execution_count": 5,
   "metadata": {},
   "outputs": [],
   "source": [
    "def get_central_point(a, b):\n",
    "    \"\"\"Get the point in the middle of two points\"\"\"\n",
    "    vector = b - a\n",
    "    return a + vector / 2"
   ]
  },
  {
   "cell_type": "code",
   "execution_count": 6,
   "metadata": {},
   "outputs": [],
   "source": [
    "def plot_cluster(cluster, eigenvects=None): \n",
    "    center = cluster.mean(axis=0)\n",
    "    centered = cluster - center\n",
    "\n",
    "    if eigenvects is None:\n",
    "        eigenvals, eigenvects = pca(cluster)\n",
    "\n",
    "    transformed = centered @ eigenvects\n",
    "    fig, ax = plt.subplots(figsize=(10, 15))\n",
    "    ax.scatter(transformed[:,0], transformed[:,2], c=transformed[:,1], cmap=plt.cm.plasma, marker=\".\")\n",
    "    ax.set_aspect(\"equal\")\n",
    "    plt.show()\n",
    "    return fig, ax\n",
    "    "
   ]
  },
  {
   "cell_type": "code",
   "execution_count": 7,
   "metadata": {},
   "outputs": [],
   "source": [
    "def plot_cluster_pair(cluster, cluster_other, transformmatrix, percentile=95, railhead_width = 0.067, centering=\"cluster\", point_this=None, point_other=None): \n",
    "    \"\"\"Plot pair of clusters in the PCA coordinate system of the pair \n",
    "    \n",
    "    Args:\n",
    "        cluster (np.array): Cluster of points\n",
    "        cluster_other (np.array): Other cluster of points\n",
    "        eigenvects (np.array): Eigenvectors of the PCA of the pair of clusters\n",
    "        percentile (int): Percentile of the height for the horizontal line\n",
    "        railhead_width (float): Width of the railhead (0.067 or 0.072)\n",
    "        centering (str): \"cluster\" or \"pair\"\n",
    "    \"\"\"\n",
    "    center = (cluster.sum(axis=0) + cluster_other.sum(axis=0)) / (cluster.shape[0] + cluster_other.shape[0])\n",
    "    center_cluster = cluster.mean(axis=0)\n",
    "    center_other = cluster_other.mean(axis=0)\n",
    "\n",
    "    if centering == \"cluster\":\n",
    "        cluster = cluster - center_cluster\n",
    "        cluster_other = cluster_other - center_other\n",
    "        point_this = point_this - center_cluster\n",
    "        point_other = point_other - center_other\n",
    "    else:\n",
    "        cluster = cluster - center\n",
    "        cluster_other = cluster_other - center\n",
    "        point_this = point_this - center\n",
    "        point_other = point_other - center\n",
    "\n",
    "    transformed = cluster @ transformmatrix\n",
    "    transformed_other = cluster_other @ transformmatrix\n",
    "    #print(\"center\", center)\n",
    "    #print(center_cluster - center, center_other - center)\n",
    "    #print((center_cluster - center) @ transformmatrix, (center_other - center) @ transformmatrix)\n",
    "\n",
    "\n",
    "    # Check if we need to switch the left, right cluster\n",
    "    center_cluster_in_pc = (center_cluster - center) @ transformmatrix\n",
    "    center_other_in_pc = (center_other - center) @ transformmatrix\n",
    "    if center_cluster_in_pc[0] > center_other_in_pc[0]:\n",
    "        transformed, transformed_other = transformed_other, transformed\n",
    "        point_this, point_other = point_other, point_this\n",
    "        print(\"Switched clusters\")\n",
    "\n",
    "    fig, ax = plt.subplots(1,2, figsize=(15, 7))\n",
    "\n",
    "    if centering == \"cluster\":\n",
    "        ax[0].set_ylim(-0.08, 0.06)\n",
    "        ax[1].set_ylim(-0.08, 0.06)\n",
    "    else:\n",
    "        ax[0].set_xlim(-0.85, -0.65)\n",
    "        ax[0].set_ylim(-0.08, 0.06)\n",
    "        ax[1].set_xlim(0.65, 0.85)\n",
    "        ax[1].set_ylim(-0.08, 0.06)\n",
    "        ax[0].axvline(-gauge/2, color=\"lightgrey\", linestyle=\"-\", zorder=-1)\n",
    "        ax[0].axvline(-gauge/2 - railhead_width, color=\"lightgrey\", linestyle=\"-\", zorder=-1)\n",
    "        ax[1].axvline(gauge/2, color=\"lightgrey\", linestyle=\"-\", zorder=-1)\n",
    "        ax[1].axvline(gauge/2 + railhead_width, color=\"lightgrey\", linestyle=\"-\", zorder=-1)\n",
    "\n",
    "    ax[0].scatter(transformed[:,0], transformed[:,2], c=transformed[:,1], cmap=plt.cm.plasma, marker=\".\")\n",
    "    ax[0].set_aspect(\"equal\")\n",
    "\n",
    "    x_mean = transformed[:,0].mean()\n",
    "    ax[0].axvline(x_mean, color=\"forestgreen\", linestyle=\"--\", zorder=-1)\n",
    "    ax[0].axvline(x_mean - (railhead_width/2), color=\"lightgreen\", linestyle=\"--\", zorder=-1)\n",
    "    ax[0].axvline(x_mean + (railhead_width/2), color=\"lightgreen\", linestyle=\"--\", zorder=-1)\n",
    "    ax[0].axhline(np.percentile(transformed[:,2], percentile), color=\"forestgreen\", linestyle=\"--\", zorder=-1)\n",
    "    ax[0].axhline(transformed[:,2].mean(), color=\"forestgreen\", linestyle=\"--\", zorder=-1)\n",
    "\n",
    "    ax[1].scatter(transformed_other[:,0], transformed_other[:,2], c=transformed_other[:,1], cmap=plt.cm.plasma, marker=\".\")\n",
    "    ax[1].set_aspect(\"equal\")\n",
    "\n",
    "    x_mean = transformed_other[:,0].mean()\n",
    "    ax[1].axvline(x_mean, color=\"forestgreen\", linestyle=\"--\", zorder=-1)\n",
    "    ax[1].axvline(x_mean - (railhead_width/2), color=\"lightgreen\", linestyle=\"--\", zorder=-1)\n",
    "    ax[1].axvline(x_mean + (railhead_width/2), color=\"lightgreen\", linestyle=\"--\", zorder=-1)\n",
    "    ax[1].axhline(np.percentile(transformed_other[:,2], percentile), color=\"forestgreen\", linestyle=\"--\", zorder=-1)\n",
    "    ax[1].axhline(transformed_other[:,2].mean(), color=\"forestgreen\", linestyle=\"--\", zorder=-1)\n",
    "\n",
    "    if point_this is not None:\n",
    "        point_this_transformed = point_this  @ transformmatrix\n",
    "        ax[0].axvline(point_this_transformed[0], color=\"red\", linestyle=\"--\", zorder=-1)\n",
    "        ax[0].axhline(point_this_transformed[2], color=\"red\", linestyle=\"--\", zorder=-1)\n",
    "        ax[0].axvline(point_this_transformed[0] - (railhead_width/2), color=\"tomato\", linestyle=\"--\", zorder=-1)\n",
    "        ax[0].axvline(point_this_transformed[0] + (railhead_width/2), color=\"tomato\", linestyle=\"--\", zorder=-1)\n",
    "        ax[0].annotate(f\"{point_this_transformed[0]:.5f}\", xy=(point_this_transformed[0], point_this_transformed[2]), xytext=(point_this_transformed[0] + 0.01, point_this_transformed[2] + 0.01), fontsize=10, color=\"red\", ha=\"left\", va=\"bottom\")\n",
    "\n",
    "    if point_other is not None:\n",
    "        point_other_transformed = point_other  @ transformmatrix\n",
    "        ax[1].axvline(point_other_transformed[0], color=\"red\", linestyle=\"--\", zorder=-1)\n",
    "        ax[1].axhline(point_other_transformed[2], color=\"red\", linestyle=\"--\", zorder=-1)\n",
    "        ax[1].axvline(point_other_transformed[0] - (railhead_width/2), color=\"tomato\", linestyle=\"--\", zorder=-1)\n",
    "        ax[1].axvline(point_other_transformed[0] + (railhead_width/2), color=\"tomato\", linestyle=\"--\", zorder=-1)\n",
    "        ax[1].annotate(f\"{point_other_transformed[0]:.5f}\", xy=(point_other_transformed[0], point_other_transformed[2]), xytext=(point_other_transformed[0] + 0.01, point_other_transformed[2] + 0.01), fontsize=10, color=\"red\", ha=\"left\", va=\"bottom\")\n",
    "\n",
    "    plt.show()\n",
    "    return fig, ax, transformed, transformed_other\n",
    "\n",
    "\n"
   ]
  },
  {
   "cell_type": "code",
   "execution_count": 8,
   "metadata": {},
   "outputs": [],
   "source": [
    "def which_side(cluster):\n",
    "    \"\"\"Check which on which side of the rail the transformed cluster is\n",
    "    \n",
    "    Returns a value between -1 and 1, positive values if points are on the \n",
    "    right side of the rail, and negative values for the left side. \n",
    "    The absolute value is kind of the confidence of the estimation.\n",
    "    \"\"\"\n",
    "\n",
    "    # Count the points below the centroid, on the left and the right side \n",
    "    # but only within half the width of the railhead \n",
    "\n",
    "    left_mask = (cluster[:,2] < 0) & (cluster[:,0] < 0) & (cluster[:,0] > -railhead_width/2)\n",
    "    right_mask = (cluster[:,2] < 0) & (cluster[:,0] > 0) & (cluster[:,0] < railhead_width/2)\n",
    "    left_count = np.sum(left_mask)\n",
    "    right_count = np.sum(right_mask)\n",
    "    both_count = left_count + right_count\n",
    "    if both_count == 0:\n",
    "        return 0\n",
    "    return (left_count - right_count) / both_count"
   ]
  },
  {
   "cell_type": "code",
   "execution_count": 9,
   "metadata": {},
   "outputs": [],
   "source": [
    "##### noinverse nur für Validierung\n",
    "\n",
    "def representive_point_3(cluster, transformmatrix, upperpercentile=90, lowerpercentile=70, railhead_width=0.067, side=None, noinverse=False):\n",
    "    \"\"\"Version 3\n",
    "\n",
    "    Unterschied bei \"Vor allem Top\": \n",
    "        min und max x bei z>-0.01\n",
    "        lowerpercentile des oberen Teils für z\n",
    "    \"\"\"\n",
    "\n",
    "\n",
    "    center = cluster.mean(axis=0)\n",
    "    centered = cluster - center\n",
    "    transformed = centered @ transformmatrix\n",
    "    max_z = transformed[:,2].max()\n",
    "\n",
    "    if max_z < 0.03:\n",
    "        # This happens if most points are on the top of the rail (usually max_z close to 0.02)\n",
    "        # Calculate the mean of the range for points above -0.01\n",
    "        # (this makes sure we get the approx. railhead width)\n",
    "        transformed_x_upper = transformed[transformed[:,2] > -0.01][:,0]\n",
    "        center_x = (transformed_x_upper.max() + transformed_x_upper.min()) / 2\n",
    "        # only consider points above the centroid\n",
    "        center_z = np.percentile(transformed[transformed[:,2] > 0][:,2], lowerpercentile)\n",
    "        side = 0\n",
    "    else:\n",
    "        # Many points are on the side of the rail (usually the max_z around 0.04)\n",
    "        # but we need check which side \n",
    "\n",
    "        if side is None:\n",
    "            side = which_side(transformed)\n",
    "\n",
    "        # x values of points above the centroid\n",
    "        # (there might be outliers in the lower part of the cluster)\n",
    "        transformed_x_upper = transformed[transformed[:,2] > 0][:,0]\n",
    "\n",
    "        if side < 0:\n",
    "            # left side\n",
    "            # Only consider one quadrant in the transformed space\n",
    "            # This makes clusters with more or less points on the rail top more comparable\n",
    "            min_x = np.percentile(transformed_x_upper[transformed_x_upper < 0],100-lowerpercentile)\n",
    "            center_x = min_x + railhead_width / 2\n",
    "        else:\n",
    "            max_x = np.percentile(transformed_x_upper[transformed_x_upper > 0],lowerpercentile)\n",
    "            center_x = max_x - railhead_width / 2 \n",
    "        center_z = np.percentile(transformed[transformed[:,2] > 0][:,2], upperpercentile)\n",
    "\n",
    "    \n",
    "    transformed_representive = np.array([center_x, 0, center_z])\n",
    "\n",
    "    if noinverse:\n",
    "        return transformed_representive, side\n",
    "\n",
    "    return transformed_representive @ transformmatrix.T + center, side"
   ]
  },
  {
   "cell_type": "code",
   "execution_count": 10,
   "metadata": {},
   "outputs": [],
   "source": [
    "def get_transformmatrix(cluster, cluster_other, clustercenter, clustercenter_other, eigenvects):\n",
    "    # Use the top part of the rail clusters to circumvent the problem different point distributions\n",
    "    top = cluster[:,2].max()\n",
    "    top_other = cluster_other[:,2].max()\n",
    "    topcenter = np.array([clustercenter[0], clustercenter[1], top])\n",
    "    topcenter_other = np.array([clustercenter_other[0], clustercenter_other[1], top_other])\n",
    "    sidevector = topcenter - topcenter_other\n",
    "    # Project on the plane perpendicular to the first eigenvector\n",
    "    # (eigenvects are normalized)\n",
    "    projection_on_first_eig = (sidevector @ eigenvects.T[0]) * eigenvects.T[0]\n",
    "    sidevector_perpendicular = sidevector - projection_on_first_eig\n",
    "    sidevector_perpendicular = sidevector_perpendicular / np.linalg.norm(sidevector_perpendicular)\n",
    "    normal = np.cross(sidevector_perpendicular, eigenvects.T[0]) \n",
    "\n",
    "    matrix = np.array([sidevector_perpendicular, eigenvects.T[0], normal]).T\n",
    "\n",
    "    if normal[2] < 0:\n",
    "        print(\"T was Upside down\")\n",
    "        Rx_180 = np.array([\n",
    "            [1,  0,  0],\n",
    "            [0, -1,  0],\n",
    "            [0,  0, -1]\n",
    "        ])\n",
    "        # Data in row vector, this is first the main rotation, than the rotation around the y axis\n",
    "        matrix = matrix @ Rx_180 \n",
    "\n",
    "    return matrix"
   ]
  },
  {
   "cell_type": "code",
   "execution_count": 11,
   "metadata": {},
   "outputs": [],
   "source": [
    "def draw_registration_result(source, target, transformation):\n",
    "    axes = axes = o3d.geometry.TriangleMesh().create_coordinate_frame(size=0.1)\n",
    "    source_temp = copy.deepcopy(source)\n",
    "    target_temp = copy.deepcopy(target)\n",
    "    source_temp.paint_uniform_color([1, 0.706, 0])\n",
    "    target_temp.paint_uniform_color([0, 0.651, 0.929])\n",
    "    source_temp.transform(transformation)\n",
    "    o3d.visualization.draw_geometries([source_temp, target_temp, axes])\n"
   ]
  },
  {
   "cell_type": "code",
   "execution_count": 12,
   "metadata": {},
   "outputs": [],
   "source": [
    "def load_clusters(preset):\n",
    "    fileleft = f\"clusterbeispiele/{preset}_l.ply\"\n",
    "    fileright = f\"clusterbeispiele/{preset}_r.ply\"\n",
    "    filepair = f\"clusterbeispiele/{preset}_pair.ply\"\n",
    "    if not os.path.exists(fileleft):\n",
    "        raise FileNotFoundError(f\"File {fileleft} not found\")\n",
    "    cluster = o3d.io.read_point_cloud(fileleft)\n",
    "    cluster_other = o3d.io.read_point_cloud(fileright)\n",
    "    cluster_pair = o3d.io.read_point_cloud(filepair)\n",
    "    return np.asarray(cluster.points) , np.asarray(cluster_other.points), np.asarray(cluster_pair.points)"
   ]
  },
  {
   "cell_type": "code",
   "execution_count": 13,
   "metadata": {},
   "outputs": [],
   "source": [
    "def get_o3d_transform(eigenvects, translation=None):\n",
    "    \"\"\"Create an open3d 4x4 transformation matrix from eigenvectors\n",
    "    \n",
    "    Version für 2 Schienen\n",
    "    \"\"\"\n",
    "    eigenvects = eigenvects.copy()\n",
    "\n",
    "    # Check if the last eigenvector is pointing down\n",
    "    if eigenvects[2,2] < 0: # z of last eigenvector is negative\n",
    "        print(\"o3d trans was Upside down\")\n",
    "        # reflect\n",
    "        eigenvects[:,2] *= -1 # reflection \n",
    "\n",
    "    # There is a 50% chance that det(eigenvects) is close to -1\n",
    "    # (then the matrix includes a reflection)\n",
    "    if np.linalg.det(eigenvects) < 0:\n",
    "        # flip the first eigenvector\n",
    "        eigenvects[:,0] *= -1\n",
    "\n",
    "\n",
    "    transform = np.eye(4)\n",
    "    transform[0:3, 0:3] = eigenvects\n",
    "\n",
    "    if translation is not None:\n",
    "        transform[:3, 3] = translation\n",
    "    return transform"
   ]
  },
  {
   "cell_type": "code",
   "execution_count": 14,
   "metadata": {},
   "outputs": [],
   "source": [
    "templatefiles = [\n",
    "    \"T_profil_ähnlich_54E4.ply\", \n",
    "    \"T_profil_ähnlich_54E4_schräg_random2.ply\",\n",
    "    \"T_profil_ähnlich_54E4_schräg_random_wenig_punkte.ply\"\n",
    "    ]"
   ]
  },
  {
   "cell_type": "code",
   "execution_count": 15,
   "metadata": {},
   "outputs": [],
   "source": [
    "def get_template(filename):\n",
    "    shift = (gauge + railhead_width) / 2\n",
    "    pcd = o3d.io.read_point_cloud(os.path.join(\"templates\", filename))\n",
    "    left = np.asarray(pcd.points)\n",
    "    right = left.copy()\n",
    "    left[:,0] -= shift\n",
    "    right[:,0] += shift\n",
    "\n",
    "    pcd = o3d.geometry.PointCloud()\n",
    "    pcd.points = o3d.utility.Vector3dVector(np.vstack((left, right)))\n",
    "    return pcd"
   ]
  },
  {
   "cell_type": "code",
   "execution_count": 16,
   "metadata": {},
   "outputs": [],
   "source": [
    "def validate_registration(source, target, transformation,threshold=0.01, draw=False, crop=True, inverted=False, window_name=\"Validation\"):\n",
    "    \"\"\"Validate the registration\n",
    "    \n",
    "    Not inverted case:\n",
    "    Source = the template\n",
    "    Target = the point cloud of the cluster pair\n",
    "    \"\"\"\n",
    "    source = copy.deepcopy(source)\n",
    "    target = copy.deepcopy(target)\n",
    "    source.transform(transformation)\n",
    "\n",
    "    if inverted:\n",
    "        # Template is target, point cloud the source\n",
    "        target, source = source, target\n",
    "\n",
    "    if crop:\n",
    "        # Crop the target point cloud to the length of the template\n",
    "        bbox = source.get_oriented_bounding_box()\n",
    "\n",
    "        # make sure we only crop in the y direction of the oriented bounding box\n",
    "        # x is the direction from left to right rail\n",
    "        bbox_extent = np.array(bbox.extent) \n",
    "        bbox_extent[0] = 10\n",
    "        bbox_extent[2] = 10\n",
    "\n",
    "        bbox = o3d.geometry.OrientedBoundingBox(center=bbox.center, R=bbox.R, extent=bbox_extent)\n",
    "        target = target.crop(bbox)\n",
    "\n",
    "    total = len(target.points)\n",
    "\n",
    "    if total == 0:\n",
    "        if draw:\n",
    "            target.paint_uniform_color([1, 0, 0])\n",
    "            source.paint_uniform_color([1, 0.706, 0])\n",
    "            axes = axes = o3d.geometry.TriangleMesh().create_coordinate_frame(size=0.1)\n",
    "            o3d.visualization.draw_geometries([source, target, axes], window_name=window_name)\n",
    "        return {\n",
    "            \"total\": 0,\n",
    "            \"inliers\": 0,\n",
    "            \"inlier_ratio\": 0,\n",
    "            \"rmse_inliers\": 0,\n",
    "            \"rmse_all\": 0,\n",
    "            \"max_z_diff\": 0,\n",
    "        }\n",
    "\n",
    "    # For each point of the cropped cluster, find the nearest point in the template\n",
    "    # and check if it is within the threshold\n",
    "    tree = cKDTree(np.asarray(source.points)) \n",
    "    neighbors = tree.query(np.asarray(target.points), k=1)\n",
    "    dist = neighbors[0]\n",
    "    inliers = dist < threshold \n",
    "    n_inliers = inliers.sum() \n",
    "\n",
    "    rmse_inliers = np.sqrt((dist[inliers]**2).mean())\n",
    "    rmse_all = np.sqrt((dist**2).mean())\n",
    "\n",
    "    max_z_diff = np.abs(np.asarray(target.points)[:,2].max() - np.asarray(source.points)[:,2].max())\n",
    "\n",
    "    if draw:\n",
    "        colors = np.zeros((len(target.points), 3))\n",
    "        colors[inliers] = [0, 1, 0]\n",
    "        colors[~inliers] = [1, 0, 0]\n",
    "        target.colors = o3d.utility.Vector3dVector(colors)\n",
    "        source.paint_uniform_color([1, 0.706, 0])\n",
    "        axes = axes = o3d.geometry.TriangleMesh().create_coordinate_frame(size=0.1)\n",
    "        o3d.visualization.draw_geometries([source, target, axes], window_name=window_name)\n",
    "\n",
    "\n",
    "    return {\n",
    "        \"total\": int(total),\n",
    "        \"inliers\": float(n_inliers),\n",
    "        \"inlier_ratio\": float(n_inliers / total),\n",
    "        \"rmse_inliers\": float(rmse_inliers),\n",
    "        \"rmse_all\": float(rmse_all),\n",
    "        \"max_z_diff\": float(max_z_diff),\n",
    "    }\n"
   ]
  },
  {
   "cell_type": "code",
   "execution_count": 17,
   "metadata": {},
   "outputs": [],
   "source": [
    "def calculate_correlation(cluster, transformmatrix, inverse=False):\n",
    "\n",
    "    cluster = cluster - cluster.mean(axis=0)\n",
    "    transformmatrix = transformmatrix[0:3, 0:3] \n",
    "    if inverse:\n",
    "        transformmatrix = transformmatrix.T\n",
    "\n",
    "    transformed = cluster @ transformmatrix\n",
    "    mask = transformed[:,2] > 0\n",
    "    corr_xy = np.corrcoef(transformed[:,0], transformed[:,1])[0,1]\n",
    "    corr_xy_upper = np.corrcoef(transformed[mask][:,0], transformed[mask][:,1])[0,1]\n",
    "    corr_yz = np.corrcoef(transformed[:,1], transformed[:,2])[0,1]\n",
    "\n",
    "    return {\n",
    "        \"corr_xy\": np.abs(corr_xy),\n",
    "        \"corr_xy_upper\": np.abs(corr_xy_upper),\n",
    "        \"corr_yz\": np.abs(corr_yz),\n",
    "    }"
   ]
  },
  {
   "cell_type": "code",
   "execution_count": 18,
   "metadata": {},
   "outputs": [],
   "source": [
    "threshold = 0.02 #05\n"
   ]
  },
  {
   "cell_type": "code",
   "execution_count": 19,
   "metadata": {},
   "outputs": [],
   "source": [
    "preset = \"PunkteSeiteVieleAusreisser\"\n",
    "preset = \"ObenundSeite\" # In Wirklichkeit nur oben\n",
    "preset = \"ObenNull1\"\n",
    "preset = \"PunkteSeite\"\n",
    "preset = \"VieleLückeMitte\"\n",
    "preset = \"VieleGleiseEherTop\" # Übergang\n",
    "preset = \"VieleSchürhaken\"\n",
    "preset = \"VieleZ\" # Fast nur auf Seite, schrott\n",
    "\n",
    "preset = \"Achszaehler1\"\n",
    "preset = \"Achszaehler2\"\n",
    "preset = \"Achszaehler3\"\n",
    "preset = \"Auch links rechts falsch\"\n",
    "\n",
    "\n",
    "translations = [None, np.array([0, 0, 0.03])]"
   ]
  },
  {
   "cell_type": "code",
   "execution_count": 20,
   "metadata": {},
   "outputs": [
    {
     "name": "stdout",
     "output_type": "stream",
     "text": [
      "0 0\n",
      "Switched clusters\n"
     ]
    },
    {
     "data": {
      "image/png": "[encoded data removed]",
      "text/plain": [
       "<Figure size 1500x700 with 2 Axes>"
      ]
     },
     "metadata": {},
     "output_type": "display_data"
    },
    {
     "data": {
      "image/png": "[encoded data removed]",
      "text/plain": [
       "<Figure size 1000x1500 with 1 Axes>"
      ]
     },
     "metadata": {},
     "output_type": "display_data"
    },
    {
     "name": "stdout",
     "output_type": "stream",
     "text": [
      "T_profil_ähnlich_54E4.ply\n"
     ]
    }
   ],
   "source": [
    "preset = \"ObenNull1\"\n",
    "templatenr = 0\n",
    "translation = translations[0]\n",
    "\n",
    "templatefile = templatefiles[templatenr]\n",
    "\n",
    "cluster_this, cluster_other, cluster_pair = load_clusters(preset)\n",
    "_, eigenvects = pca(cluster_this)\n",
    "plottransform = get_transformmatrix(cluster_this, cluster_other, cluster_this.mean(axis=0), cluster_other.mean(axis=0), eigenvects)\n",
    "\n",
    "point_this, side_a = representive_point_3(cluster_this, plottransform)\n",
    "point_other, side_b = representive_point_3(cluster_other, plottransform)\n",
    "print(side_a, side_b)\n",
    "if side_a * side_b < 0:\n",
    "    print(\"Different sides\")\n",
    "    # Update the cluster with lower confidence of the side estimation\n",
    "    if np.abs(side_a) < np.abs(side_b):\n",
    "        point_this, side_a  = representive_point_3(cluster_this, plottransform, railhead_width=0.067, side=side_b)\n",
    "    else:\n",
    "        point_other, side_b = representive_point_3(cluster_other, plottransform,  railhead_width=0.067, side=side_a)\n",
    "\n",
    "plot_cluster_pair(cluster_this, cluster_other, plottransform, percentile=95, railhead_width = 0.067, centering=\"cluster\", point_this=point_this, point_other=point_other);\n",
    "\n",
    "plot_cluster(cluster_pair, plottransform);\n",
    "print(templatefile)"
   ]
  },
  {
   "cell_type": "code",
   "execution_count": 21,
   "metadata": {},
   "outputs": [
    {
     "data": {
      "text/plain": [
       "array([ 1.58508387, -0.28152378,  0.01480637])"
      ]
     },
     "execution_count": 21,
     "metadata": {},
     "output_type": "execute_result"
    }
   ],
   "source": [
    "centralpoint = get_central_point(point_this, point_other)\n",
    "centralpoint "
   ]
  },
  {
   "cell_type": "code",
   "execution_count": 22,
   "metadata": {},
   "outputs": [
    {
     "name": "stdout",
     "output_type": "stream",
     "text": [
      "Translation None\n",
      "Evaluate initial alignment\n",
      "RegistrationResult with fitness=2.632895e-01, inlier_rmse=1.221940e-02, and correspondence_set size of 4002\n",
      "Access transformation to get result.\n",
      "{'total': 379, 'inliers': 368.0, 'inlier_ratio': 0.9709762532981531, 'rmse_inliers': 0.005134825260533487, 'rmse_all': 0.005414633668979799, 'max_z_diff': 0.009817704468623137}\n"
     ]
    }
   ],
   "source": [
    "_, eigenvects_pair = pca(cluster_pair)\n",
    "\n",
    "# center = cluster_pair.mean(axis=0) # Funktioniert nicht bei Lücke \n",
    "center = get_central_point(cluster_this.mean(axis=0), cluster_other.mean(axis=0))\n",
    "centered = cluster_pair - center\n",
    "\n",
    "centered_pcd = o3d.geometry.PointCloud()\n",
    "centered_pcd.points = o3d.utility.Vector3dVector(centered)\n",
    "\n",
    "\n",
    "print(\"Translation\", translation)\n",
    "trans_init = get_o3d_transform(eigenvects_pair, translation)\n",
    "\n",
    "target = centered_pcd\n",
    "source = get_template(templatefile)\n",
    "\n",
    "o3d.visualization.draw_geometries([source, target], window_name=\"Initial configuration (NO TRANSFORM)\")\n",
    "\n",
    "\n",
    "print(\"Evaluate initial alignment\")\n",
    "evaluation = o3d.pipelines.registration.evaluate_registration(\n",
    "    source, target, threshold, trans_init)\n",
    "print(evaluation)\n",
    "\n",
    "print(validate_registration(source, target, trans_init, 0.01, draw=True, window_name=\"Initial transformation\"))\n",
    "\n",
    "\n",
    "if translation is None:\n",
    "    tr_string = \"None\"\n",
    "else:\n",
    "    tr_string = str(translation[2])\n",
    "\n",
    "# draw_registration_result(source, target, trans_init)"
   ]
  },
  {
   "cell_type": "markdown",
   "metadata": {},
   "source": [
    "### Point to Point ICP"
   ]
  },
  {
   "cell_type": "code",
   "execution_count": 23,
   "metadata": {},
   "outputs": [
    {
     "name": "stdout",
     "output_type": "stream",
     "text": [
      "Apply point-to-point ICP\n",
      "RegistrationResult with fitness=2.788816e-01, inlier_rmse=1.230555e-02, and correspondence_set size of 4239\n",
      "Access transformation to get result.\n",
      "Transformation is:\n",
      "[[ 9.93316211e-01 -1.13768798e-01 -1.94824650e-02 -4.34674317e-04]\n",
      " [ 1.13662442e-01  9.93498256e-01 -6.48567045e-03 -1.19588034e-03]\n",
      " [ 2.00936620e-02  4.22789705e-03  9.99789163e-01  5.07678605e-03]\n",
      " [ 0.00000000e+00  0.00000000e+00  0.00000000e+00  1.00000000e+00]]\n",
      "Time: 0.10804605484008789\n",
      "\n",
      "{'total': 380, 'inliers': 367.0, 'inlier_ratio': 0.9657894736842105, 'rmse_inliers': 0.00437798880263737, 'rmse_all': 0.004768950479595012, 'max_z_diff': 0.005144237893923653}\n",
      "ObenNull1_t0_zTransfNone_point\n",
      "corr this {'corr_xy': np.float64(0.008717362757952232), 'corr_xy_upper': np.float64(0.09098031739279488), 'corr_yz': np.float64(0.03458801214259865)}\n",
      "corr other {'corr_xy': np.float64(0.0806001213553974), 'corr_xy_upper': np.float64(0.08592846751862475), 'corr_yz': np.float64(0.013916338941235753)}\n",
      "max corr 0.09098031739279488\n"
     ]
    }
   ],
   "source": [
    "start = time.time()\n",
    "print(\"Apply point-to-point ICP\")\n",
    "reg_p2p = o3d.pipelines.registration.registration_icp(\n",
    "    source, target, threshold, trans_init,\n",
    "    o3d.pipelines.registration.TransformationEstimationPointToPoint())\n",
    "print(reg_p2p)\n",
    "print(\"Transformation is:\")\n",
    "print(reg_p2p.transformation)\n",
    "print(\"Time:\", time.time() - start)\n",
    "print()\n",
    "print(validate_registration(source, target, reg_p2p.transformation, 0.01, draw=True, window_name=\"Point-to-point ICP\"))\n",
    "print(f\"{preset}_t{templatenr}_zTransf{tr_string}_point\")\n",
    "\n",
    "corr_this = calculate_correlation(cluster_this, reg_p2p.transformation)\n",
    "corr_other = calculate_correlation(cluster_other, reg_p2p.transformation)\n",
    "print(\"corr this\",corr_this )\n",
    "print(\"corr other\", corr_other)\n",
    "print(\"max corr\", max(max(corr_this.values()), max(corr_other.values())))\n",
    "\n",
    "\n",
    "# draw_registration_result(source, target, reg_p2p.transformation)"
   ]
  },
  {
   "cell_type": "code",
   "execution_count": 24,
   "metadata": {},
   "outputs": [
    {
     "data": {
      "text/plain": [
       "array([ 1.58508387, -0.28152378,  0.01480637])"
      ]
     },
     "execution_count": 24,
     "metadata": {},
     "output_type": "execute_result"
    }
   ],
   "source": [
    "centralpoint "
   ]
  },
  {
   "cell_type": "code",
   "execution_count": 25,
   "metadata": {},
   "outputs": [
    {
     "data": {
      "text/plain": [
       "array([ 1.58455593, -0.28271106,  0.01427664])"
      ]
     },
     "execution_count": 25,
     "metadata": {},
     "output_type": "execute_result"
    }
   ],
   "source": [
    "icp_centralpoint = center + reg_p2p.transformation[:3, 3]  \n",
    "icp_centralpoint"
   ]
  },
  {
   "cell_type": "code",
   "execution_count": 26,
   "metadata": {},
   "outputs": [
    {
     "data": {
      "text/plain": [
       "np.float64(0.0014031959151123085)"
      ]
     },
     "execution_count": 26,
     "metadata": {},
     "output_type": "execute_result"
    }
   ],
   "source": [
    "np.linalg.norm(icp_centralpoint - centralpoint) "
   ]
  },
  {
   "cell_type": "code",
   "execution_count": null,
   "metadata": {},
   "outputs": [],
   "source": []
  },
  {
   "cell_type": "markdown",
   "metadata": {},
   "source": [
    "### Point to Plane ICP"
   ]
  },
  {
   "cell_type": "code",
   "execution_count": 27,
   "metadata": {},
   "outputs": [
    {
     "name": "stdout",
     "output_type": "stream",
     "text": [
      "Apply point-to-plane ICP\n",
      "nn distance 0.006611536851105704\n",
      "RegistrationResult with fitness=2.741447e-01, inlier_rmse=1.229173e-02, and correspondence_set size of 4167\n",
      "Access transformation to get result.\n",
      "Transformation is:\n",
      "[[ 0.99385938 -0.10906411 -0.01866936 -0.00219638]\n",
      " [ 0.10895836  0.99402445 -0.00659364  0.01886705]\n",
      " [ 0.01927693  0.00451897  0.99980397  0.00321912]\n",
      " [ 0.          0.          0.          1.        ]]\n",
      "Time: 0.33384084701538086\n",
      "{'total': 366, 'inliers': 358.0, 'inlier_ratio': 0.9781420765027322, 'rmse_inliers': 0.004329595457057405, 'rmse_all': 0.00456710395138021, 'max_z_diff': 0.007569688940736584}\n",
      "ObenNull1_t0_None_plane\n",
      "corr this {'corr_xy': np.float64(0.0829053650143506), 'corr_xy_upper': np.float64(0.005895827329512834), 'corr_yz': np.float64(0.04320820023636213)}\n",
      "corr other {'corr_xy': np.float64(0.011870153832944989), 'corr_xy_upper': np.float64(0.009091369135719252), 'corr_yz': np.float64(0.02030363135680611)}\n",
      "max corr 0.0829053650143506\n"
     ]
    }
   ],
   "source": [
    "start = time.time()\n",
    "print(\"Apply point-to-plane ICP\")\n",
    "\n",
    "# Point-to-plane ICP requires normals for the target\n",
    "nn_distance = np.mean(target.compute_nearest_neighbor_distance())  \n",
    "print(\"nn distance\", nn_distance)  \n",
    "  \n",
    "#setting the radius search to compute normals  \n",
    "radius_normals=nn_distance*4  \n",
    "target.estimate_normals(search_param=o3d.geometry.KDTreeSearchParamHybrid(radius=radius_normals, max_nn=16), fast_normal_computation=True)  \n",
    "\n",
    "reg_p2l = o3d.pipelines.registration.registration_icp(\n",
    "    source, target, threshold, trans_init,\n",
    "    o3d.pipelines.registration.TransformationEstimationPointToPlane())\n",
    "print(reg_p2l)\n",
    "print(\"Transformation is:\")\n",
    "print(reg_p2l.transformation)\n",
    "print(\"Time:\", time.time() - start)\n",
    "print(validate_registration(source, target, reg_p2l.transformation, 0.01, draw=True, window_name=\"Point-to-plane ICP\"))\n",
    "print(f\"{preset}_t{templatenr}_{tr_string}_plane\")\n",
    "\n",
    "corr_this = calculate_correlation(cluster_this, reg_p2l.transformation)\n",
    "corr_other = calculate_correlation(cluster_other, reg_p2l.transformation)\n",
    "print(\"corr this\",corr_this )\n",
    "print(\"corr other\", corr_other)\n",
    "print(\"max corr\", max(max(corr_this.values()), max(corr_other.values())))\n",
    "\n",
    "# draw_registration_result(source, target, reg_p2l.transformation)"
   ]
  },
  {
   "cell_type": "markdown",
   "metadata": {},
   "source": [
    "## Meinen Ansatz evaluieren"
   ]
  },
  {
   "cell_type": "code",
   "execution_count": 28,
   "metadata": {},
   "outputs": [
    {
     "name": "stdout",
     "output_type": "stream",
     "text": [
      "Same sides: True\n",
      "{'total': 380, 'inliers': 369.0, 'inlier_ratio': 0.9710526315789474, 'rmse_inliers': 0.00468105199940194, 'rmse_all': 0.0049877696370826475, 'max_z_diff': 0.006220013857020368}\n",
      "corr this {'corr_xy': np.float64(0.0), 'corr_xy_upper': np.float64(0.11749275299595266), 'corr_yz': np.float64(9.947602798387625e-18)}\n",
      "corr other {'corr_xy': np.float64(0.08858639672568212), 'corr_xy_upper': np.float64(0.09957443492094062), 'corr_yz': np.float64(0.012357873918305777)}\n",
      "max corr 0.11749275299595266\n"
     ]
    }
   ],
   "source": [
    "shift_a, side_a  = representive_point_3(cluster_this, plottransform, railhead_width=0.067, noinverse=True) \n",
    "shift_b, side_b = representive_point_3(cluster_other, plottransform, railhead_width=0.067, noinverse=True)\n",
    "\n",
    "same_sides = (side_a * side_b >= 0)\n",
    "print(\"Same sides:\", same_sides)\n",
    "\n",
    "# Check if both are classified as the same side\n",
    "# but a zero and non zero value is not a problem\n",
    "if side_a * side_b < 0:\n",
    "    # Update the cluster with lower confidence of the side estimation\n",
    "    if np.abs(side_a) < np.abs(side_b):\n",
    "        shift_a, side_a  = representive_point_3(cluster_this, plottransform, railhead_width=0.067, side=side_b, noinverse=True)\n",
    "    else:\n",
    "        shift_b, side_b = representive_point_3(cluster_other, plottransform,  railhead_width=0.067, side=side_a, noinverse=True)\n",
    "\n",
    "shift = (shift_a + shift_b) / 2\n",
    "\n",
    "# Must shift template before rotation\n",
    "testshift = np.eye(4)\n",
    "testshift[0:3,3] = shift\n",
    "testsource = copy.deepcopy(source)\n",
    "testsource.transform(testshift)\n",
    "\n",
    "testtransform = np.eye(4)\n",
    "testtransform[0:3,0:3] = plottransform \n",
    "\n",
    "\n",
    "print(validate_registration(testsource, target, testtransform, 0.01, draw=True, crop=True, window_name=\"Mein Ansatz\"))\n",
    "corr_this = calculate_correlation(cluster_this, testtransform)\n",
    "corr_other = calculate_correlation(cluster_other, testtransform)\n",
    "print(\"corr this\",corr_this )\n",
    "print(\"corr other\", corr_other)\n",
    "print(\"max corr\", max(max(corr_this.values()), max(corr_other.values())))"
   ]
  },
  {
   "cell_type": "markdown",
   "metadata": {},
   "source": [
    "## Point to Plane, target source vertauscht"
   ]
  },
  {
   "cell_type": "code",
   "execution_count": 29,
   "metadata": {},
   "outputs": [
    {
     "name": "stdout",
     "output_type": "stream",
     "text": [
      "Evaluate initial alignment\n",
      "RegistrationResult with fitness=1.675393e-01, inlier_rmse=1.168363e-02, and correspondence_set size of 128\n",
      "Access transformation to get result.\n"
     ]
    }
   ],
   "source": [
    "source2 = centered_pcd\n",
    "target2 = get_template(templatefile)\n",
    "translation2 = translation\n",
    "if translation2 is not None:\n",
    "    translation2 = -translation2\n",
    "\n",
    "# translation2 = np.array([0, 0, -0.014535]) # Ab hier geht es daneben\n",
    "# translation2 = np.array([0, 0, 0])\n",
    "\n",
    "trans_init2 = get_o3d_transform(eigenvects_pair.T, translation2) # eigenvects.T because we need the inverse transformation\n",
    "\n",
    "print(\"Evaluate initial alignment\")\n",
    "evaluation = o3d.pipelines.registration.evaluate_registration(\n",
    "    source2, target2, threshold, trans_init2)\n",
    "print(evaluation)\n",
    "\n",
    "\n",
    "# draw_registration_result(source2, target2, trans_init2)\n"
   ]
  },
  {
   "cell_type": "code",
   "execution_count": 30,
   "metadata": {},
   "outputs": [
    {
     "name": "stdout",
     "output_type": "stream",
     "text": [
      "Apply point-to-point ICP, Source = Cluster, Target = Template\n",
      "RegistrationResult with fitness=3.455497e-01, inlier_rmse=9.382431e-03, and correspondence_set size of 264\n",
      "Access transformation to get result.\n",
      "Transformation is:\n",
      "[[ 9.94934728e-01 -1.00520949e-01  6.52945297e-04 -4.34696955e-04]\n",
      " [ 1.00516298e-01  9.94922109e-01  5.14505637e-03  5.58974268e-03]\n",
      " [-1.16681566e-03 -5.05336362e-03  9.99986551e-01 -1.76231578e-02]\n",
      " [ 0.00000000e+00  0.00000000e+00  0.00000000e+00  1.00000000e+00]]\n",
      "Time: 0.15715503692626953\n",
      "{'total': 389, 'inliers': 181.0, 'inlier_ratio': 0.4652956298200514, 'rmse_inliers': 0.005224649476551541, 'rmse_all': 0.021163368468263468, 'max_z_diff': 0.008500176804652312}\n",
      "corr this {'corr_xy': np.float64(0.9567002564145471), 'corr_xy_upper': np.float64(0.9771064961807431), 'corr_yz': np.float64(0.0579243561476965)}\n",
      "corr other {'corr_xy': np.float64(0.9473444455019611), 'corr_xy_upper': np.float64(0.9721119310070793), 'corr_yz': np.float64(0.03113281829690411)}\n",
      "max corr 0.9771064961807431\n"
     ]
    }
   ],
   "source": [
    "start = time.time()\n",
    "print(\"Apply point-to-point ICP, Source = Cluster, Target = Template\")\n",
    "reg_p2p = o3d.pipelines.registration.registration_icp(\n",
    "    source2, target2, threshold, trans_init2,\n",
    "    o3d.pipelines.registration.TransformationEstimationPointToPoint())\n",
    "print(reg_p2p)\n",
    "print(\"Transformation is:\")\n",
    "print(reg_p2p.transformation)\n",
    "\n",
    "print(\"Time:\", time.time() - start)\n",
    "\n",
    "print(validate_registration(source2, target2, reg_p2p.transformation, 0.01, draw=True, crop=True, window_name=\"Point Target=Template\", inverted=True))\n",
    "\n",
    "corr_this = calculate_correlation(cluster_this, reg_p2p.transformation, inverse=True)\n",
    "corr_other = calculate_correlation(cluster_other, reg_p2p.transformation, inverse=True)\n",
    "print(\"corr this\",corr_this )\n",
    "print(\"corr other\", corr_other)\n",
    "print(\"max corr\", max(max(corr_this.values()), max(corr_other.values())))"
   ]
  },
  {
   "cell_type": "code",
   "execution_count": 31,
   "metadata": {},
   "outputs": [
    {
     "name": "stdout",
     "output_type": "stream",
     "text": [
      "Apply point-to-plane ICP, Source = Cluster, Target = Template\n",
      "nn distance 0.0049999999999999975\n",
      "RegistrationResult with fitness=5.078534e-01, inlier_rmse=5.372039e-03, and correspondence_set size of 388\n",
      "Access transformation to get result.\n",
      "Transformation is:\n",
      "[[ 9.93787257e-01  1.09556756e-01  1.96011313e-02 -3.95015451e-04]\n",
      " [-1.09681837e-01  9.93951964e-01  5.42104712e-03 -3.94281226e-02]\n",
      " [-1.88886706e-02 -7.53725564e-03  9.99793183e-01 -3.18326998e-03]\n",
      " [ 0.00000000e+00  0.00000000e+00  0.00000000e+00  1.00000000e+00]]\n",
      "Time: 0.2038440704345703\n",
      "ObenNull1_t0_None_plane_vertauscht\n",
      "{'total': 366, 'inliers': 359.0, 'inlier_ratio': 0.9808743169398907, 'rmse_inliers': 0.004316001033864149, 'rmse_all': 0.004526579321477627, 'max_z_diff': 0.009503698051255026}\n",
      "corr this {'corr_xy': np.float64(0.07349242533993487), 'corr_xy_upper': np.float64(0.007431926654914618), 'corr_yz': np.float64(0.08292113234487379)}\n",
      "corr other {'corr_xy': np.float64(0.020661382223100776), 'corr_xy_upper': np.float64(0.007667495070142928), 'corr_yz': np.float64(0.05022208630821476)}\n",
      "max corr 0.08292113234487379\n"
     ]
    }
   ],
   "source": [
    "start = time.time()\n",
    "print(\"Apply point-to-plane ICP, Source = Cluster, Target = Template\")\n",
    "\n",
    "# Point-to-plane ICP requires normals for the target\n",
    "nn_distance = np.mean(target2.compute_nearest_neighbor_distance())  \n",
    "print(\"nn distance\", nn_distance)  \n",
    "  \n",
    "#setting the radius search to compute normals  \n",
    "radius_normals=nn_distance*4  \n",
    "target2.estimate_normals(search_param=o3d.geometry.KDTreeSearchParamHybrid(radius=radius_normals, max_nn=16), fast_normal_computation=True)  \n",
    "\n",
    "\n",
    "\n",
    "\n",
    "reg_p2l = o3d.pipelines.registration.registration_icp(\n",
    "    source2, target2, threshold, trans_init2,\n",
    "    o3d.pipelines.registration.TransformationEstimationPointToPlane())\n",
    "print(reg_p2l)\n",
    "print(\"Transformation is:\")\n",
    "print(reg_p2l.transformation)\n",
    "print(\"Time:\", time.time() - start)\n",
    "print(f\"{preset}_t{templatenr}_{tr_string}_plane_vertauscht\")\n",
    "\n",
    "print(validate_registration(source2, target2, reg_p2l.transformation, 0.01, draw=True, crop=True, window_name=\"Point2Plane Target=Template\", inverted=True))\n",
    "\n",
    "corr_this = calculate_correlation(cluster_this, reg_p2l.transformation, inverse=True)\n",
    "corr_other = calculate_correlation(cluster_other, reg_p2l.transformation, inverse=True)\n",
    "print(\"corr this\",corr_this )\n",
    "print(\"corr other\", corr_other)\n",
    "print(\"max corr\", max(max(corr_this.values()), max(corr_other.values())))\n",
    "# draw_registration_result(source2, target2, reg_p2l.transformation)"
   ]
  },
  {
   "cell_type": "markdown",
   "metadata": {},
   "source": [
    "Threshold 0.02\n",
    "\n",
    "\n",
    "Clusterpaar|Template|None Point|None Plain|0.03 Point|0.03 Plain|None PlaneV|0.03 PlaneV\n",
    "---|:---:|---:|---:|---:|---:|---:|---: \n",
    "ObenNull1|0|2|2|2|2|2|0\n",
    "ObenNull1|1|2|2|2|2|2|0\n",
    "ObenNull1|2|2|2|2|2|2|0\n",
    "ObenundSeite|0|2|2|2|2|2|0\n",
    "ObenundSeite|1|2|2|2|2|2|0\n",
    "ObenundSeite|2|2|2|2|2|2|0\n",
    "VieleGleiseEherTop|0|2|2|2|2|2|2\n",
    "VieleGleiseEherTop|1|2|2|2|2|2|0\n",
    "VieleGleiseEherTop|2|2|2|2|2|2|2\n",
    "PunkteSeiteVieleAusreisser|0|2|2|2|2|2|2\n",
    "PunkteSeiteVieleAusreisser|1|2|2|2|2|2|2\n",
    "PunkteSeiteVieleAusreisser|2|0|0|2|2|2|2\n",
    "PunkteSeite|0|2|0|2|2|2|2\n",
    "PunkteSeite|1|2|0|2|2|2|2\n",
    "PunkteSeite|3|0|0|2|2|2|2\n",
    "VieleSchürhaken|0|0|0|2|2|2|2\n",
    "VieleSchürhaken|1|0|0|2|2|2|2\n",
    "VieleSchürhaken|2|0|0|0|0|0|0\n",
    "VieleZ|0|0|0|2|0\n",
    "VieleZ|1|0|0|2|0\n",
    "VieleZ|0|0|0|2|2\n",
    "VieleLückeMitte|0|0|0|1|0|0|0\n",
    "VieleLückeMitte|1|0|0|0|0|0|0\n",
    "VieleLückeMitte|2|0|0|0|0|0|0\n",
    "\n",
    "\n",
    "Bei t1 plane vertauscht verrutscht"
   ]
  },
  {
   "cell_type": "markdown",
   "metadata": {},
   "source": [
    "- threshold: Wenn Abstand nächster Nachbar größer, dann Punkt = Outlier, ignorieren\n",
    "- init transform: wenn threshold zu klein, findet ICP die richtige Richtung nicht\n",
    "- Problem: Punkte sehr eng entlang Scanlinien, aber Scanlinien weit auseinander\n",
    "- RMSE wird nur auf den Inliern berechnet\n",
    "    - hängt von threshold und dem Abstand der Scanlinien ab!\n",
    "    - wenn Template = Source: Inlier = Alle Punkte im Template mit Abstand kleiner threshold, Löcher im Netz der Scanlinien\n",
    "    - daher wenig aussagekräftig\n",
    "- fitness = Anz. Inlier / Anz. Points in Target\n",
    "    - Wenn Target= Cluster, dann hängt das stark von Länge des Clusters ab\n",
    "- Idee: \n",
    "    - ICP mit Template als Source scheint besser zu funktionieren\n",
    "    - Aber RMSE und Fitness andersrum macht mehr Sinn und das kann anschließend gemacht werden:\n",
    "        - dann mit kleinem Threshold möglich\n",
    "        - jeder Punkt im Cluster sollte einen nahen Punkt im Template haben\n",
    "        - Dabei muss die inverse Transformationsmatrix an `o3d.pipelines.registration.evaluate_registration` übergeben werden  \n",
    "        - Allerdings ist fitness dann nicht aussagekräftig (Cluster kann viel länger als Template sein) "
   ]
  },
  {
   "cell_type": "code",
   "execution_count": null,
   "metadata": {},
   "outputs": [],
   "source": []
  },
  {
   "cell_type": "code",
   "execution_count": null,
   "metadata": {},
   "outputs": [],
   "source": []
  }
 ],
 "metadata": {
  "kernelspec": {
   "display_name": "points",
   "language": "python",
   "name": "points"
  },
  "language_info": {
   "codemirror_mode": {
    "name": "ipython",
    "version": 3
   },
   "file_extension": ".py",
   "mimetype": "text/x-python",
   "name": "python",
   "nbconvert_exporter": "python",
   "pygments_lexer": "ipython3",
   "version": "3.9.21"
  }
 },
 "nbformat": 4,
 "nbformat_minor": 2
}
