{
 "cells": [
  {
   "cell_type": "markdown",
   "metadata": {},
   "source": [
    "# Templatematching Validation\n",
    "- Problem: Punkte sehr eng entlang Scanlinien, aber Scanlinien weit auseinander\n",
    "- RMSE wird nur auf den Inliern berechnet\n",
    "- hängt von threshold und dem Abstand der Scanlinien ab!\n",
    "- Daher: Eigenen Validierer\n",
    "\n",
    "\n",
    "Erster Versuch \n",
    "- Idee war\n",
    "    - Cluster auf die Länge des Templates croppen\n",
    "    - für jeden Punkt im Cluster Entfernung zum nächsten Punkt im Template\n",
    "    - mit kleinem Threshold (0.005) inlier und outlier\n",
    "    - ratio inlier / total\n",
    "    - rmse inlier\n",
    "    - rmse alle \n"
   ]
  },
  {
   "cell_type": "code",
   "execution_count": 324,
   "metadata": {},
   "outputs": [],
   "source": [
    "import pdal \n",
    "import numpy as np\n",
    "import matplotlib.pyplot as plt\n",
    "from scipy.spatial import KDTree, cKDTree\n",
    "from scipy.linalg import svd \n",
    "from osgeo import ogr\n",
    "import pyvista as pv\n",
    "import os\n",
    "import json\n",
    "import time \n",
    "import matplotlib.pyplot as plt\n",
    "import copy\n",
    "\n",
    "import open3d as o3d\n",
    "from interessant import * # Bei Änderungen Kernel neu starten\n",
    "\n",
    "\n",
    "ogr.UseExceptions()"
   ]
  },
  {
   "cell_type": "code",
   "execution_count": 325,
   "metadata": {},
   "outputs": [],
   "source": [
    "gauge = 1.435\n",
    "railhead_width = 0.067"
   ]
  },
  {
   "cell_type": "code",
   "execution_count": 326,
   "metadata": {},
   "outputs": [],
   "source": [
    "def pca(cloud):\n",
    "    \"\"\"Use PCA to get einvalues and eigenvectors of a point cloud\n",
    "    \n",
    "    Returns (eigenvalues, eigenvectors)\n",
    "    \"\"\"\n",
    "    if cloud.shape[0] < 3:\n",
    "        raise ValueError(\"Point cloud must have at least 3 points\")\n",
    "    mean = np.mean(cloud, axis=0)\n",
    "    centered = cloud - mean\n",
    "    U, S, Vt = svd(centered, full_matrices=False)\n",
    "    eigenvals = S**2/(cloud.shape[0]-1)\n",
    "    # Returned vectors are in columns, first vector is eigenvec[:, 0] == eigenvec.T[0]\n",
    "    return eigenvals, Vt.T"
   ]
  },
  {
   "cell_type": "code",
   "execution_count": null,
   "metadata": {},
   "outputs": [],
   "source": [
    "def plot_cluster(cluster, eigenvects=None): \n",
    "    center = cluster.mean(axis=0)\n",
    "    centered = cluster - center\n",
    "\n",
    "    if eigenvects is None:\n",
    "        eigenvals, eigenvects = pca(cluster)\n",
    "\n",
    "    transformed = centered @ eigenvects\n",
    "    fig, ax = plt.subplots(figsize=(10, 15))\n",
    "    ax.scatter(transformed[:,0], transformed[:,2], c=transformed[:,1], cmap=plt.cm.plasma, marker=\".\")\n",
    "    ax.set_aspect(\"equal\")\n",
    "    plt.show()\n",
    "    return fig, ax"
   ]
  },
  {
   "cell_type": "code",
   "execution_count": 327,
   "metadata": {},
   "outputs": [],
   "source": [
    "def get_central_point(a, b):\n",
    "    \"\"\"Get the point in the middle of two points\"\"\"\n",
    "    vector = b - a\n",
    "    return a + vector / 2"
   ]
  },
  {
   "cell_type": "code",
   "execution_count": 328,
   "metadata": {},
   "outputs": [],
   "source": [
    "def plot_cluster(cluster, eigenvects=None): \n",
    "    center = cluster.mean(axis=0)\n",
    "    centered = cluster - center\n",
    "\n",
    "    if eigenvects is None:\n",
    "        eigenvals, eigenvects = pca(cluster)\n",
    "\n",
    "    transformed = centered @ eigenvects\n",
    "    fig, ax = plt.subplots(figsize=(10, 15))\n",
    "    ax.scatter(transformed[:,0], transformed[:,2], c=transformed[:,1], cmap=plt.cm.plasma, marker=\".\")\n",
    "    ax.set_aspect(\"equal\")\n",
    "    plt.show()\n",
    "    return fig, ax\n",
    "    "
   ]
  },
  {
   "cell_type": "code",
   "execution_count": 329,
   "metadata": {},
   "outputs": [],
   "source": [
    "def plot_cluster_pair(cluster, cluster_other, transformmatrix, percentile=95, railhead_width = 0.067, centering=\"cluster\"): \n",
    "    \"\"\"Plot pair of clusters in the PCA coordinate system of the pair \n",
    "    \n",
    "    Args:\n",
    "        cluster (np.array): Cluster of points\n",
    "        cluster_other (np.array): Other cluster of points\n",
    "        eigenvects (np.array): Eigenvectors of the PCA of the pair of clusters\n",
    "        percentile (int): Percentile of the height for the horizontal line\n",
    "        railhead_width (float): Width of the railhead (0.067 or 0.072)\n",
    "        centering (str): \"cluster\" or \"pair\"\n",
    "    \"\"\"\n",
    "    center = (cluster.sum(axis=0) + cluster_other.sum(axis=0)) / (cluster.shape[0] + cluster_other.shape[0])\n",
    "    center_cluster = cluster.mean(axis=0)\n",
    "    center_other = cluster_other.mean(axis=0)\n",
    "\n",
    "    if centering == \"cluster\":\n",
    "        cluster = cluster - center_cluster\n",
    "        cluster_other = cluster_other - center_other\n",
    "    else:\n",
    "        cluster = cluster - center\n",
    "        cluster_other = cluster_other - center\n",
    "\n",
    "    transformed = cluster @ transformmatrix\n",
    "    transformed_other = cluster_other @ transformmatrix\n",
    "    #print(\"center\", center)\n",
    "    #print(center_cluster - center, center_other - center)\n",
    "    #print((center_cluster - center) @ transformmatrix, (center_other - center) @ transformmatrix)\n",
    "\n",
    "\n",
    "    # Check if we need to switch the left, right cluster\n",
    "    center_cluster_in_pc = (center_cluster - center) @ transformmatrix\n",
    "    center_other_in_pc = (center_other - center) @ transformmatrix\n",
    "    if center_cluster_in_pc[0] > center_other_in_pc[0]:\n",
    "        transformed, transformed_other = transformed_other, transformed\n",
    "        #print(\"Switched clusters\")\n",
    "\n",
    "    fig, ax = plt.subplots(1,2, figsize=(15, 7))\n",
    "\n",
    "    if centering == \"cluster\":\n",
    "        ax[0].set_ylim(-0.08, 0.06)\n",
    "        ax[1].set_ylim(-0.08, 0.06)\n",
    "    else:\n",
    "        ax[0].set_xlim(-0.85, -0.65)\n",
    "        ax[0].set_ylim(-0.08, 0.06)\n",
    "        ax[1].set_xlim(0.65, 0.85)\n",
    "        ax[1].set_ylim(-0.08, 0.06)\n",
    "        ax[0].axvline(-gauge/2, color=\"lightgrey\", linestyle=\"-\", zorder=-1)\n",
    "        ax[0].axvline(-gauge/2 - railhead_width, color=\"lightgrey\", linestyle=\"-\", zorder=-1)\n",
    "        ax[1].axvline(gauge/2, color=\"lightgrey\", linestyle=\"-\", zorder=-1)\n",
    "        ax[1].axvline(gauge/2 + railhead_width, color=\"lightgrey\", linestyle=\"-\", zorder=-1)\n",
    "\n",
    "    ax[0].scatter(transformed[:,0], transformed[:,2], c=transformed[:,1], cmap=plt.cm.plasma, marker=\".\")\n",
    "    ax[0].set_aspect(\"equal\")\n",
    "\n",
    "    x_mean = transformed[:,0].mean()\n",
    "    ax[0].axvline(x_mean, color=\"forestgreen\", linestyle=\"--\", zorder=-1)\n",
    "    ax[0].axvline(x_mean - (railhead_width/2), color=\"lightgreen\", linestyle=\"--\", zorder=-1)\n",
    "    ax[0].axvline(x_mean + (railhead_width/2), color=\"lightgreen\", linestyle=\"--\", zorder=-1)\n",
    "    ax[0].axhline(np.percentile(transformed[:,2], percentile), color=\"forestgreen\", linestyle=\"--\", zorder=-1)\n",
    "    ax[0].axhline(transformed[:,2].mean(), color=\"forestgreen\", linestyle=\"--\", zorder=-1)\n",
    "\n",
    "    ax[1].scatter(transformed_other[:,0], transformed_other[:,2], c=transformed_other[:,1], cmap=plt.cm.plasma, marker=\".\")\n",
    "    ax[1].set_aspect(\"equal\")\n",
    "\n",
    "    x_mean = transformed_other[:,0].mean()\n",
    "    ax[1].axvline(x_mean, color=\"forestgreen\", linestyle=\"--\", zorder=-1)\n",
    "    ax[1].axvline(x_mean - (railhead_width/2), color=\"lightgreen\", linestyle=\"--\", zorder=-1)\n",
    "    ax[1].axvline(x_mean + (railhead_width/2), color=\"lightgreen\", linestyle=\"--\", zorder=-1)\n",
    "    ax[1].axhline(np.percentile(transformed_other[:,2], percentile), color=\"forestgreen\", linestyle=\"--\", zorder=-1)\n",
    "    ax[1].axhline(transformed_other[:,2].mean(), color=\"forestgreen\", linestyle=\"--\", zorder=-1)\n",
    "\n",
    "    plt.show()\n",
    "    return fig, ax, transformed, transformed_other\n",
    "\n",
    "\n"
   ]
  },
  {
   "cell_type": "code",
   "execution_count": 330,
   "metadata": {},
   "outputs": [],
   "source": [
    "def which_side(cluster):\n",
    "    \"\"\"Check which on which side of the rail the transformed cluster is\n",
    "    \n",
    "    Returns a value between -1 and 1, positive values if points are on the \n",
    "    right side of the rail, and negative values for the left side. \n",
    "    The absolute value is kind of the confidence of the estimation.\n",
    "    \"\"\"\n",
    "\n",
    "    # Count the points below the centroid, on the left and the right side \n",
    "    # but only within half the width of the railhead \n",
    "\n",
    "    left_mask = (cluster[:,2] < 0) & (cluster[:,0] < 0) & (cluster[:,0] > -railhead_width/2)\n",
    "    right_mask = (cluster[:,2] < 0) & (cluster[:,0] > 0) & (cluster[:,0] < railhead_width/2)\n",
    "    left_count = np.sum(left_mask)\n",
    "    right_count = np.sum(right_mask)\n",
    "    both_count = left_count + right_count\n",
    "    if both_count == 0:\n",
    "        return 0\n",
    "    return (left_count - right_count) / both_count"
   ]
  },
  {
   "cell_type": "code",
   "execution_count": 331,
   "metadata": {},
   "outputs": [],
   "source": [
    "def representive_point_3(cluster, transformmatrix, upperpercentile=90, lowerpercentile=70, railhead_width=0.067, side=None):\n",
    "    \"\"\"Version 3\n",
    "\n",
    "    Unterschied bei \"Vor allem Top\": \n",
    "        min und max x bei z>-0.01\n",
    "        lowerpercentile des oberen Teils für z\n",
    "    \"\"\"\n",
    "\n",
    "\n",
    "    center = cluster.mean(axis=0)\n",
    "    centered = cluster - center\n",
    "    transformed = centered @ transformmatrix\n",
    "    max_z = transformed[:,2].max()\n",
    "\n",
    "    if max_z < 0.03:\n",
    "        # This happens if most points are on the top of the rail (usually max_z close to 0.02)\n",
    "        # Calculate the mean of the range for points above -0.01\n",
    "        # (this makes sure we get the approx. railhead width)\n",
    "        transformed_x_upper = transformed[transformed[:,2] > -0.01][:,0]\n",
    "        center_x = (transformed_x_upper.max() + transformed_x_upper.min()) / 2\n",
    "        # only consider points above the centroid\n",
    "        center_z = np.percentile(transformed[transformed[:,2] > 0][:,2], lowerpercentile)\n",
    "        side = 0\n",
    "    else:\n",
    "        # Many points are on the side of the rail (usually the max_z around 0.04)\n",
    "        # but we need check which side \n",
    "\n",
    "        if side is None:\n",
    "            side = which_side(transformed)\n",
    "\n",
    "        # x values of points above the centroid\n",
    "        # (there might be outliers in the lower part of the cluster)\n",
    "        transformed_x_upper = transformed[transformed[:,2] > 0][:,0]\n",
    "\n",
    "        if side < 0:\n",
    "            # left side\n",
    "            # Only consider one quadrant in the transformed space\n",
    "            # This makes clusters with more or less points on the rail top more comparable\n",
    "            min_x = np.percentile(transformed_x_upper[transformed_x_upper < 0],100-lowerpercentile)\n",
    "            center_x = min_x + railhead_width / 2\n",
    "        else:\n",
    "            max_x = np.percentile(transformed_x_upper[transformed_x_upper > 0],lowerpercentile)\n",
    "            center_x = max_x - railhead_width / 2 \n",
    "        center_z = np.percentile(transformed[transformed[:,2] > 0][:,2], upperpercentile)\n",
    "\n",
    "    \n",
    "    transformed_representive = np.array([center_x, 0, center_z])\n",
    "    return transformed_representive @ transformmatrix.T + center, side"
   ]
  },
  {
   "cell_type": "code",
   "execution_count": null,
   "metadata": {},
   "outputs": [],
   "source": [
    "def get_transformmatrix(cluster, cluster_other, clustercenter, clustercenter_other, eigenvects):\n",
    "    # Use the top part of the rail clusters to circumvent the problem different point distributions\n",
    "    top = cluster[:,2].max()\n",
    "    top_other = cluster_other[:,2].max()\n",
    "    topcenter = np.array([clustercenter[0], clustercenter[1], top])\n",
    "    topcenter_other = np.array([clustercenter_other[0], clustercenter_other[1], top_other])\n",
    "    sidevector = topcenter - topcenter_other\n",
    "    # Project on the plane perpendicular to the first eigenvector\n",
    "    # (eigenvects are normalized)\n",
    "    projection_on_first_eig = (sidevector @ eigenvects.T[0]) * eigenvects.T[0]\n",
    "    sidevector_perpendicular = sidevector - projection_on_first_eig\n",
    "    sidevector_perpendicular = sidevector_perpendicular / np.linalg.norm(sidevector_perpendicular)\n",
    "    normal = np.cross(sidevector_perpendicular, eigenvects.T[0]) \n",
    "\n",
    "    matrix = np.array([sidevector_perpendicular, eigenvects.T[0], normal]).T\n",
    "\n",
    "    print(\"determinant\", np.linalg.det(matrix))\n",
    "\n",
    "    if normal[2] < 0:\n",
    "        print(\"Upside down\")\n",
    "        Rx_180 = np.array([\n",
    "            [1,  0,           0],\n",
    "            [0, -1,           0],\n",
    "            [0,  0,          -1]\n",
    "        ])\n",
    "        # Data in row vector, this is first the main rotation, than the rotation around the y axis\n",
    "        matrix = matrix @ Rx_180 \n",
    "        print(\"determinant after\", np.linalg.det(matrix))\n",
    "\n",
    "    return matrix"
   ]
  },
  {
   "cell_type": "code",
   "execution_count": 333,
   "metadata": {},
   "outputs": [],
   "source": [
    "def draw_registration_result(source, target, transformation):\n",
    "    axes = axes = o3d.geometry.TriangleMesh().create_coordinate_frame(size=0.1)\n",
    "    source_temp = copy.deepcopy(source)\n",
    "    target_temp = copy.deepcopy(target)\n",
    "    source_temp.paint_uniform_color([1, 0.706, 0])\n",
    "    target_temp.paint_uniform_color([0, 0.651, 0.929])\n",
    "    source_temp.transform(transformation)\n",
    "    o3d.visualization.draw_geometries([source_temp, target_temp, axes])\n"
   ]
  },
  {
   "cell_type": "code",
   "execution_count": 334,
   "metadata": {},
   "outputs": [],
   "source": [
    "def load_clusters(preset):\n",
    "    fileleft = f\"clusterbeispiele/{preset}_l.ply\"\n",
    "    fileright = f\"clusterbeispiele/{preset}_r.ply\"\n",
    "    filepair = f\"clusterbeispiele/{preset}_pair.ply\"\n",
    "    if not os.path.exists(fileleft):\n",
    "        raise FileNotFoundError(f\"File {fileleft} not found\")\n",
    "    cluster = o3d.io.read_point_cloud(fileleft)\n",
    "    cluster_other = o3d.io.read_point_cloud(fileright)\n",
    "    cluster_pair = o3d.io.read_point_cloud(filepair)\n",
    "    return np.asarray(cluster.points) , np.asarray(cluster_other.points), np.asarray(cluster_pair.points)"
   ]
  },
  {
   "cell_type": "code",
   "execution_count": null,
   "metadata": {},
   "outputs": [],
   "source": [
    "def get_o3d_transform(eigenvects, translation=None):\n",
    "    \"\"\"Create an open3d 4x4 transformation matrix from eigenvectors\n",
    "    \n",
    "    Version für 2 Schienen\n",
    "    \"\"\"\n",
    "    eigenvects = eigenvects.copy()\n",
    "\n",
    "    # Check if the last eigenvector is pointing down\n",
    "    if eigenvects[2,2] < 0: # z of last eigenvector is negative\n",
    "        print(\"o3d trans was Upside down\")\n",
    "        # reflect\n",
    "        eigenvects[:,2] *= -1 # reflection \n",
    "\n",
    "    # There is a 50% chance that det(eigenvects) is close to -1\n",
    "    # (then the matrix includes a reflection)\n",
    "    if np.linalg.det(eigenvects) < 0:\n",
    "        # flip the first eigenvector\n",
    "        eigenvects[:,0] *= -1\n",
    "\n",
    "\n",
    "    transform = np.eye(4)\n",
    "    transform[0:3, 0:3] = eigenvects\n",
    "\n",
    "    if translation is not None:\n",
    "        transform[:3, 3] = translation\n",
    "    return transform"
   ]
  },
  {
   "cell_type": "code",
   "execution_count": 336,
   "metadata": {},
   "outputs": [],
   "source": [
    "templatefiles = [\n",
    "    \"T_profil_ähnlich_54E4.ply\", \n",
    "    \"T_profil_ähnlich_54E4_schräg_random2.ply\",\n",
    "    \"T_profil_ähnlich_54E4_schräg_random_wenig_punkte.ply\"\n",
    "    ]"
   ]
  },
  {
   "cell_type": "code",
   "execution_count": 337,
   "metadata": {},
   "outputs": [],
   "source": [
    "def get_template(filename):\n",
    "    shift = (gauge + railhead_width) / 2\n",
    "    pcd = o3d.io.read_point_cloud(os.path.join(\"templates\", filename))\n",
    "    left = np.asarray(pcd.points)\n",
    "    right = left.copy()\n",
    "    left[:,0] -= shift\n",
    "    right[:,0] += shift\n",
    "\n",
    "    pcd = o3d.geometry.PointCloud()\n",
    "    pcd.points = o3d.utility.Vector3dVector(np.vstack((left, right)))\n",
    "    return pcd"
   ]
  },
  {
   "cell_type": "code",
   "execution_count": null,
   "metadata": {},
   "outputs": [],
   "source": [
    "def validate_registration(source, target, transformation,threshold=0.01, draw=False, crop=True, inverted=False, window_name=\"Validation\"):\n",
    "    \"\"\"Validate the registration\n",
    "    \n",
    "    Source = the template\n",
    "    Target = the point cloud of the cluster\n",
    "    \"\"\"\n",
    "    source = copy.deepcopy(source)\n",
    "    target = copy.deepcopy(target)\n",
    "    source.transform(transformation)\n",
    "\n",
    "    if inverted:\n",
    "        # Template is target, point cloud the source\n",
    "        target, source = source, target\n",
    "\n",
    "    if crop:\n",
    "        # Crop the target point cloud to the length of the template\n",
    "        bbox = source.get_oriented_bounding_box()\n",
    "\n",
    "        # make sure we only crop in the y direction of the oriented bounding box\n",
    "        # x is the direction from left to right rail\n",
    "        bbox_extent = np.array(bbox.extent) \n",
    "        bbox_extent[0] = 10\n",
    "        bbox_extent[2] = 10\n",
    "\n",
    "        bbox = o3d.geometry.OrientedBoundingBox(center=bbox.center, R=bbox.R, extent=bbox_extent)\n",
    "        target = target.crop(bbox)\n",
    "\n",
    "    total = len(target.points)\n",
    "\n",
    "    if total == 0:\n",
    "        if draw:\n",
    "            target.paint_uniform_color([1, 0, 0])\n",
    "            source.paint_uniform_color([1, 0.706, 0])\n",
    "            axes = axes = o3d.geometry.TriangleMesh().create_coordinate_frame(size=0.1)\n",
    "            o3d.visualization.draw_geometries([source, target, axes], window_name=window_name)\n",
    "        return {\n",
    "            \"total\": 0,\n",
    "            \"inliers\": 0,\n",
    "            \"inlier_ratio\": 0,\n",
    "            \"rmse_inliers\": 0,\n",
    "            \"rmse_all\": 0,\n",
    "            \"max_z_diff\": 0,\n",
    "        }\n",
    "\n",
    "    # For each point of the cropped cluster, find the nearest point in the template\n",
    "    # and check if it is within the threshold\n",
    "    tree = cKDTree(np.asarray(source.points)) \n",
    "    neighbors = tree.query(np.asarray(target.points), k=1)\n",
    "    dist = neighbors[0]\n",
    "    inliers = dist < threshold \n",
    "    n_inliers = inliers.sum() \n",
    "\n",
    "    rmse_inliers = np.sqrt((dist[inliers]**2).mean())\n",
    "    rmse_all = np.sqrt((dist**2).mean())\n",
    "\n",
    "    max_z_diff = np.abs(np.asarray(target.points)[:,2].max() - np.asarray(source.points)[:,2].max())\n",
    "\n",
    "    if draw:\n",
    "        colors = np.zeros((len(target.points), 3))\n",
    "        colors[inliers] = [0, 1, 0]\n",
    "        colors[~inliers] = [1, 0, 0]\n",
    "        target.colors = o3d.utility.Vector3dVector(colors)\n",
    "        source.paint_uniform_color([1, 0.706, 0])\n",
    "        axes = axes = o3d.geometry.TriangleMesh().create_coordinate_frame(size=0.1)\n",
    "        o3d.visualization.draw_geometries([source, target, axes], window_name=window_name)\n",
    "\n",
    "\n",
    "    return {\n",
    "        \"total\": int(total),\n",
    "        \"inliers\": float(n_inliers),\n",
    "        \"inlier_ratio\": float(n_inliers / total),\n",
    "        \"rmse_inliers\": float(rmse_inliers),\n",
    "        \"rmse_all\": float(rmse_all),\n",
    "        \"max_z_diff\": float(max_z_diff),\n",
    "    }\n"
   ]
  },
  {
   "cell_type": "code",
   "execution_count": 339,
   "metadata": {},
   "outputs": [],
   "source": [
    "threshold = 0.02 #05\n"
   ]
  },
  {
   "cell_type": "code",
   "execution_count": 340,
   "metadata": {},
   "outputs": [],
   "source": [
    "preset = \"PunkteSeiteVieleAusreisser\"\n",
    "preset = \"ObenundSeite\" # In Wirklichkeit nur oben\n",
    "preset = \"ObenNull1\"\n",
    "preset = \"PunkteSeite\"\n",
    "preset = \"VieleLückeMitte\"\n",
    "preset = \"VieleGleiseEherTop\" # Übergang\n",
    "preset = \"VieleSchürhaken\"\n",
    "preset = \"VieleZ\" # Fast nur auf Seite, schrott\n",
    "\n",
    "\n",
    "translations = [None, np.array([0, 0, 0.03])]"
   ]
  },
  {
   "cell_type": "code",
   "execution_count": null,
   "metadata": {},
   "outputs": [
    {
     "data": {
      "image/png": "[encoded data removed]",
      "text/plain": [
       "<Figure size 1500x700 with 2 Axes>"
      ]
     },
     "metadata": {},
     "output_type": "display_data"
    },
    {
     "name": "stdout",
     "output_type": "stream",
     "text": [
      "T_profil_ähnlich_54E4.ply\n"
     ]
    }
   ],
   "source": [
    "preset = \"VieleGleiseEherTop\"\n",
    "templatenr = 0\n",
    "translation = translations[0]\n",
    "\n",
    "templatefile = templatefiles[templatenr]\n",
    "\n",
    "cluster_this, cluster_other, cluster_pair = load_clusters(preset)\n",
    "_, eigenvects = pca(cluster_this)\n",
    "plottransform = get_transformmatrix(cluster_this, cluster_other, cluster_this.mean(axis=0), cluster_other.mean(axis=0), eigenvects)\n",
    "plot_cluster_pair(cluster_this, cluster_other, plottransform, percentile=95, railhead_width = 0.067, centering=\"cluster\");\n",
    "\n",
    "plot_cluster(cluster_pair, plottransform);\n",
    "print(templatefile)"
   ]
  },
  {
   "cell_type": "code",
   "execution_count": null,
   "metadata": {},
   "outputs": [
    {
     "name": "stdout",
     "output_type": "stream",
     "text": [
      "Translation None\n",
      "Evaluate initial alignment\n",
      "RegistrationResult with fitness=3.379605e-01, inlier_rmse=1.181289e-02, and correspondence_set size of 5137\n",
      "Access transformation to get result.\n"
     ]
    }
   ],
   "source": [
    "_, eigenvects_pair = pca(cluster_pair)\n",
    "\n",
    "# center = cluster_pair.mean(axis=0) # Funktioniert nicht bei Lücke \n",
    "center = get_central_point(cluster_this.mean(axis=0), cluster_other.mean(axis=0))\n",
    "centered = cluster_pair - center\n",
    "\n",
    "centered_pcd = o3d.geometry.PointCloud()\n",
    "centered_pcd.points = o3d.utility.Vector3dVector(centered)\n",
    "\n",
    "\n",
    "print(\"Translation\", translation)\n",
    "trans_init = get_o3d_transform(eigenvects_pair, translation)\n",
    "\n",
    "target = centered_pcd\n",
    "source = get_template(templatefile)\n",
    "\n",
    "o3d.visualization.draw_geometries([source, target], window_name=\"Initial configuration (NO TRANSFORM)\")\n",
    "\n",
    "\n",
    "print(\"Evaluate initial alignment\")\n",
    "evaluation = o3d.pipelines.registration.evaluate_registration(\n",
    "    source, target, threshold, trans_init)\n",
    "print(evaluation)\n",
    "\n",
    "# print(validate_registration(source, target, trans_init, 0.01, draw=True, window_name=\"Initial transformation\"))\n",
    "\n",
    "\n",
    "if translation is None:\n",
    "    tr_string = \"None\"\n",
    "else:\n",
    "    tr_string = str(translation[2])\n",
    "\n",
    "# draw_registration_result(source, target, trans_init)"
   ]
  },
  {
   "cell_type": "markdown",
   "metadata": {},
   "source": [
    "### Point to Point ICP"
   ]
  },
  {
   "cell_type": "code",
   "execution_count": 366,
   "metadata": {},
   "outputs": [
    {
     "name": "stdout",
     "output_type": "stream",
     "text": [
      "Apply point-to-point ICP\n"
     ]
    },
    {
     "name": "stdout",
     "output_type": "stream",
     "text": [
      "RegistrationResult with fitness=4.413158e-01, inlier_rmse=1.027275e-02, and correspondence_set size of 6708\n",
      "Access transformation to get result.\n",
      "Transformation is:\n",
      "[[-4.92153124e-01 -8.70507746e-01  6.92328397e-04 -5.14217219e-03]\n",
      " [-8.70508637e-01  4.92152818e-01  3.29712568e-03 -8.98602701e-03]\n",
      " [ 1.25548081e-04  1.36666446e-03  9.99994325e-01  1.23687494e-02]\n",
      " [ 0.00000000e+00  0.00000000e+00  0.00000000e+00  1.00000000e+00]]\n",
      "Time: 0.2355794906616211\n",
      "\n",
      "VieleGleiseEherTop_t0_zTransfNone_point\n"
     ]
    }
   ],
   "source": [
    "start = time.time()\n",
    "print(\"Apply point-to-point ICP\")\n",
    "reg_p2p = o3d.pipelines.registration.registration_icp(\n",
    "    source, target, threshold, trans_init,\n",
    "    o3d.pipelines.registration.TransformationEstimationPointToPoint())\n",
    "print(reg_p2p)\n",
    "print(\"Transformation is:\")\n",
    "print(reg_p2p.transformation)\n",
    "print(\"Time:\", time.time() - start)\n",
    "print()\n",
    "# print(validate_registration(source, target, reg_p2p.transformation, 0.01, draw=True, window_name=\"Point-to-point ICP\"))\n",
    "print(f\"{preset}_t{templatenr}_zTransf{tr_string}_point\")\n",
    "\n",
    "# draw_registration_result(source, target, reg_p2p.transformation)"
   ]
  },
  {
   "cell_type": "markdown",
   "metadata": {},
   "source": [
    "### Point to Plane ICP"
   ]
  },
  {
   "cell_type": "code",
   "execution_count": 367,
   "metadata": {},
   "outputs": [
    {
     "name": "stdout",
     "output_type": "stream",
     "text": [
      "Apply point-to-plane ICP\n",
      "nn distance 0.0060912556618242485\n",
      "RegistrationResult with fitness=4.186184e-01, inlier_rmse=9.931162e-03, and correspondence_set size of 6363\n",
      "Access transformation to get result.\n",
      "Transformation is:\n",
      "[[-0.49655045 -0.86799335  0.0044798  -0.00172399]\n",
      " [-0.8680061   0.49655279  0.00300551 -0.01335512]\n",
      " [ 0.00174792  0.00478278  0.99998545  0.00773285]\n",
      " [ 0.          0.          0.          1.        ]]\n",
      "Time: 0.08505892753601074\n",
      "VieleGleiseEherTop_t0_None_plane\n"
     ]
    }
   ],
   "source": [
    "start = time.time()\n",
    "print(\"Apply point-to-plane ICP\")\n",
    "\n",
    "# Point-to-plane ICP requires normals for the target\n",
    "nn_distance = np.mean(target.compute_nearest_neighbor_distance())  \n",
    "print(\"nn distance\", nn_distance)  \n",
    "  \n",
    "#setting the radius search to compute normals  \n",
    "radius_normals=nn_distance*4  \n",
    "target.estimate_normals(search_param=o3d.geometry.KDTreeSearchParamHybrid(radius=radius_normals, max_nn=16), fast_normal_computation=True)  \n",
    "\n",
    "reg_p2l = o3d.pipelines.registration.registration_icp(\n",
    "    source, target, threshold, trans_init,\n",
    "    o3d.pipelines.registration.TransformationEstimationPointToPlane())\n",
    "print(reg_p2l)\n",
    "print(\"Transformation is:\")\n",
    "print(reg_p2l.transformation)\n",
    "print(\"Time:\", time.time() - start)\n",
    "# print(validate_registration(source, target, reg_p2l.transformation, 0.01, draw=True, window_name=\"Point-to-plane ICP\"))\n",
    "print(f\"{preset}_t{templatenr}_{tr_string}_plane\")\n",
    "# draw_registration_result(source, target, reg_p2l.transformation)"
   ]
  },
  {
   "cell_type": "markdown",
   "metadata": {},
   "source": [
    "## Meinen Ansatz evaluieren"
   ]
  },
  {
   "cell_type": "code",
   "execution_count": null,
   "metadata": {},
   "outputs": [
    {
     "name": "stdout",
     "output_type": "stream",
     "text": [
      "Same sides: True\n",
      "Shift [-0.00551314 -0.00983545  0.01008649]\n",
      "{'total': 2173, 'inliers': 690.0, 'inlier_ratio': 0.3175333640128854, 'rmse_inliers': 0.006592651341908567, 'rmse_all': 0.10392547850258806, 'max_z_diff': 0.01703008371960586}\n",
      "[[ 0.49136607  0.87095203  0.00139431 -0.00551314]\n",
      " [ 0.87095086 -0.49136047 -0.00308071 -0.00983545]\n",
      " [ 0.00199804 -0.00272813  0.99999428  0.01008649]\n",
      " [ 0.          0.          0.          1.        ]]\n",
      "{'total': 2173, 'inliers': 1039.0, 'inlier_ratio': 0.4781408191440405, 'rmse_inliers': 0.005063027318229982, 'rmse_all': 0.10359177571018659, 'max_z_diff': 0.006943592885007909}\n"
     ]
    }
   ],
   "source": [
    "representive_a, side_a  = representive_point_3(cluster_this, plottransform, railhead_width=0.067) \n",
    "representive_b, side_b = representive_point_3(cluster_other, plottransform, railhead_width=0.067)\n",
    "\n",
    "same_sides = (side_a * side_b >= 0)\n",
    "print(\"Same sides:\", same_sides)\n",
    "\n",
    "# Check if both are classified as the same side\n",
    "# but a zero and non zero value is not a problem\n",
    "if side_a * side_b < 0:\n",
    "    # Update the cluster with lower confidence of the side estimation\n",
    "    if np.abs(side_a) < np.abs(side_b):\n",
    "        representative_a, side_a  = representive_point_3(cluster_this, plottransform, railhead_width=0.067, side=side_b)\n",
    "    else:\n",
    "        representative_b, side_b = representive_point_3(cluster_other, plottransform,  railhead_width=0.067, side=side_a)\n",
    "\n",
    "central_repr = get_central_point(representive_a, representive_b)\n",
    "central_centroid = get_central_point(cluster_this.mean(axis=0), cluster_other.mean(axis=0))\n",
    "\n",
    "shift = (central_repr - central_centroid)\n",
    "\n",
    "\n",
    "testtransform = np.eye(4)\n",
    "testtransform[0:3,0:3] = plottransform \n",
    "\n",
    "testtransform[0:3,3] = shift\n",
    "print(testtransform)\n",
    " \n",
    "\n",
    "print(validate_registration(source, target, testtransform, 0.01, draw=True, crop=True, window_name=\"ohne Transpose mit Shift\"))"
   ]
  },
  {
   "cell_type": "markdown",
   "metadata": {},
   "source": [
    "## Point to Plane, target source vertauscht"
   ]
  },
  {
   "cell_type": "code",
   "execution_count": 370,
   "metadata": {},
   "outputs": [
    {
     "ename": "ValueError",
     "evalue": "Stop here",
     "output_type": "error",
     "traceback": [
      "\u001b[0;31m---------------------------------------------------------------------------\u001b[0m",
      "\u001b[0;31mValueError\u001b[0m                                Traceback (most recent call last)",
      "Cell \u001b[0;32mIn[370], line 1\u001b[0m\n\u001b[0;32m----> 1\u001b[0m \u001b[38;5;28;01mraise\u001b[39;00m(\u001b[38;5;167;01mValueError\u001b[39;00m(\u001b[38;5;124m\"\u001b[39m\u001b[38;5;124mStop here\u001b[39m\u001b[38;5;124m\"\u001b[39m))\n",
      "\u001b[0;31mValueError\u001b[0m: Stop here"
     ]
    }
   ],
   "source": [
    "raise(ValueError(\"Stop here\"))"
   ]
  },
  {
   "cell_type": "code",
   "execution_count": null,
   "metadata": {},
   "outputs": [
    {
     "name": "stdout",
     "output_type": "stream",
     "text": [
      "Evaluate initial alignment\n",
      "RegistrationResult with fitness=5.366492e-01, inlier_rmse=5.997346e-03, and correspondence_set size of 410\n",
      "Access transformation to get result.\n"
     ]
    }
   ],
   "source": [
    "source = centered_pcd\n",
    "target = get_template(templatefile)\n",
    "translation2 = translation\n",
    "if translation2 is not None:\n",
    "    translation2 = -translation2\n",
    "\n",
    "# translation2 = np.array([0, 0, -0.014535]) # Ab hier geht es daneben\n",
    "# translation2 = np.array([0, 0, 0])\n",
    "\n",
    "trans_init2 = get_o3d_transform(eigenvects_pair.T, translation2) # eigenvects.T because we need the inverse transformation\n",
    "\n",
    "print(\"Evaluate initial alignment\")\n",
    "evaluation = o3d.pipelines.registration.evaluate_registration(\n",
    "    source, target, threshold, trans_init2)\n",
    "print(evaluation)\n",
    "\n",
    "target.estimate_normals(search_param=o3d.geometry.KDTreeSearchParamHybrid(radius=radius_normals, max_nn=16), fast_normal_computation=True)  \n",
    "\n",
    "draw_registration_result(source, target, trans_init2)"
   ]
  },
  {
   "cell_type": "code",
   "execution_count": null,
   "metadata": {},
   "outputs": [],
   "source": [
    "print(validate_registration(source, target, trans_init2, 0.01, draw=True, crop=True, window_name=\"Initial\", inverted=True))"
   ]
  },
  {
   "cell_type": "code",
   "execution_count": null,
   "metadata": {},
   "outputs": [
    {
     "name": "stdout",
     "output_type": "stream",
     "text": [
      "Apply point-to-plane ICP, Source = Cluster, Target = Template\n",
      "nn distance 0.0049999999999999975\n",
      "RegistrationResult with fitness=5.353403e-01, inlier_rmse=5.070423e-03, and correspondence_set size of 409\n",
      "Access transformation to get result.\n",
      "Transformation is:\n",
      "[[-9.93408435e-01 -1.12940500e-01  1.19670281e-03  7.21271861e-04]\n",
      " [-1.13056816e-01  9.93576302e-01  1.28252437e-03  3.85286407e-03]\n",
      " [-1.89165950e-02 -7.11160932e-03  9.99998462e-01 -3.25214382e-03]\n",
      " [ 0.00000000e+00  0.00000000e+00  0.00000000e+00  1.00000000e+00]]\n",
      "Time: 0.41912126541137695\n",
      "ObenNull1_t0_None_plane_vertauscht\n"
     ]
    }
   ],
   "source": [
    "start = time.time()\n",
    "print(\"Apply point-to-plane ICP, Source = Cluster, Target = Template\")\n",
    "\n",
    "# Point-to-plane ICP requires normals for the target\n",
    "nn_distance = np.mean(target.compute_nearest_neighbor_distance())  \n",
    "print(\"nn distance\", nn_distance)  \n",
    "  \n",
    "#setting the radius search to compute normals  \n",
    "radius_normals=nn_distance*4  \n",
    "target.estimate_normals(search_param=o3d.geometry.KDTreeSearchParamHybrid(radius=radius_normals, max_nn=16), fast_normal_computation=True)  \n",
    "\n",
    "\n",
    "# loss = o3d.pipelines.registration.HuberLoss(k=0.05)\n",
    "\n",
    "\n",
    "reg_p2l = o3d.pipelines.registration.registration_icp(\n",
    "    source, target, threshold, trans_init2,\n",
    "    o3d.pipelines.registration.TransformationEstimationPointToPlane(\n",
    "       # loss\n",
    "        ))\n",
    "print(reg_p2l)\n",
    "print(\"Transformation is:\")\n",
    "print(reg_p2l.transformation)\n",
    "print(\"Time:\", time.time() - start)\n",
    "print(f\"{preset}_t{templatenr}_{tr_string}_plane_vertauscht\")\n",
    "\n",
    "print(validate_registration(source, target, reg_p2l.transformation, 0.01, draw=True, crop=True, window_name=\"Point2Plane Target=Template\", inverted=True))\n",
    "\n",
    "draw_registration_result(source, target, reg_p2l.transformation)"
   ]
  },
  {
   "cell_type": "markdown",
   "metadata": {},
   "source": [
    "Threshold 0.02\n",
    "\n",
    "\n",
    "Clusterpaar|Template|None Point|None Plain|0.03 Point|0.03 Plain|None PlaneV|0.03 PlaneV\n",
    "---|:---:|---:|---:|---:|---:|---:|---: \n",
    "ObenNull1|0|2|2|2|2|2|0\n",
    "ObenNull1|1|2|2|2|2|2|0\n",
    "ObenNull1|2|2|2|2|2|2|0\n",
    "ObenundSeite|0|2|2|2|2|2|0\n",
    "ObenundSeite|1|2|2|2|2|2|0\n",
    "ObenundSeite|2|2|2|2|2|2|0\n",
    "VieleGleiseEherTop|0|2|2|2|2|2|2\n",
    "VieleGleiseEherTop|1|2|2|2|2|2|0\n",
    "VieleGleiseEherTop|2|2|2|2|2|2|2\n",
    "PunkteSeiteVieleAusreisser|0|2|2|2|2|2|2\n",
    "PunkteSeiteVieleAusreisser|1|2|2|2|2|2|2\n",
    "PunkteSeiteVieleAusreisser|2|0|0|2|2|2|2\n",
    "PunkteSeite|0|2|0|2|2|2|2\n",
    "PunkteSeite|1|2|0|2|2|2|2\n",
    "PunkteSeite|3|0|0|2|2|2|2\n",
    "VieleSchürhaken|0|0|0|2|2|2|2\n",
    "VieleSchürhaken|1|0|0|2|2|2|2\n",
    "VieleSchürhaken|2|0|0|0|0|0|0\n",
    "VieleZ|0|0|0|2|0\n",
    "VieleZ|1|0|0|2|0\n",
    "VieleZ|0|0|0|2|2\n",
    "VieleLückeMitte|0|0|0|1|0|0|0\n",
    "VieleLückeMitte|1|0|0|0|0|0|0\n",
    "VieleLückeMitte|2|0|0|0|0|0|0\n",
    "\n",
    "\n",
    "Bei t1 plane vertauscht verrutscht"
   ]
  },
  {
   "cell_type": "markdown",
   "metadata": {},
   "source": [
    "- threshold: Wenn Abstand nächster Nachbar größer, dann Punkt = Outlier, ignorieren\n",
    "- init transform: wenn threshold zu klein, findet ICP die richtige Richtung nicht\n",
    "- Problem: Punkte sehr eng entlang Scanlinien, aber Scanlinien weit auseinander\n",
    "- RMSE wird nur auf den Inliern berechnet\n",
    "    - hängt von threshold und dem Abstand der Scanlinien ab!\n",
    "    - wenn Template = Source: Inlier = Alle Punkte im Template mit Abstand kleiner threshold, Löcher im Netz der Scanlinien\n",
    "    - daher wenig aussagekräftig\n",
    "- fitness = Anz. Inlier / Anz. Points in Target\n",
    "    - Wenn Target= Cluster, dann hängt das stark von Länge des Clusters ab\n",
    "- Idee: \n",
    "    - ICP mit Template als Source scheint besser zu funktionieren\n",
    "    - Aber RMSE und Fitness andersrum macht mehr Sinn und das kann anschließend gemacht werden:\n",
    "        - dann mit kleinem Threshold möglich\n",
    "        - jeder Punkt im Cluster sollte einen nahen Punkt im Template haben\n",
    "        - Dabei muss die inverse Transformationsmatrix an `o3d.pipelines.registration.evaluate_registration` übergeben werden  \n",
    "        - Allerdings ist fitness dann nicht aussagekräftig (Cluster kann viel länger als Template sein) "
   ]
  },
  {
   "cell_type": "code",
   "execution_count": null,
   "metadata": {},
   "outputs": [],
   "source": []
  },
  {
   "cell_type": "code",
   "execution_count": null,
   "metadata": {},
   "outputs": [],
   "source": []
  }
 ],
 "metadata": {
  "kernelspec": {
   "display_name": "points",
   "language": "python",
   "name": "points"
  },
  "language_info": {
   "codemirror_mode": {
    "name": "ipython",
    "version": 3
   },
   "file_extension": ".py",
   "mimetype": "text/x-python",
   "name": "python",
   "nbconvert_exporter": "python",
   "pygments_lexer": "ipython3",
   "version": "3.9.21"
  }
 },
 "nbformat": 4,
 "nbformat_minor": 2
}
