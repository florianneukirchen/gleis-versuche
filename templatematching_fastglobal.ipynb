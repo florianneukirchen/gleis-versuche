{
 "cells": [
  {
   "cell_type": "code",
   "execution_count": 1,
   "metadata": {},
   "outputs": [
    {
     "name": "stdout",
     "output_type": "stream",
     "text": [
      "Jupyter environment detected. Enabling Open3D WebVisualizer.\n",
      "[Open3D INFO] WebRTC GUI backend enabled.\n",
      "[Open3D INFO] WebRTCWindowSystem: HTTP handshake server disabled.\n"
     ]
    }
   ],
   "source": [
    "import numpy as np\n",
    "import open3d as o3d\n",
    "import os \n",
    "import pdal \n",
    "import json \n",
    "import time\n",
    "import copy "
   ]
  },
  {
   "cell_type": "code",
   "execution_count": 2,
   "metadata": {},
   "outputs": [],
   "source": [
    "templatefolder = \"templates\"\n",
    "datafolder = \"template_versuchsdaten\""
   ]
  },
  {
   "cell_type": "code",
   "execution_count": 3,
   "metadata": {},
   "outputs": [
    {
     "data": {
      "text/plain": [
       "['T_profil_ähnlich_54E4_breiter_schaft_schräg_random.ply',\n",
       " 'T_profil_ähnlich_54E4_breiter_schaft.ply',\n",
       " 'T_profil_ähnlich_54E4_breiter_schaft_wenig_punkte_schräg_random.ply',\n",
       " 'T_profil_ähnlich_54E4_breiter_schaft_schräg.ply',\n",
       " 'T_profil_ähnlich_54E4_schräg_random.ply',\n",
       " 'T_profil_ähnlich_54E4.ply',\n",
       " 'T_profil_ähnlich_54E4_schräg.ply']"
      ]
     },
     "execution_count": 3,
     "metadata": {},
     "output_type": "execute_result"
    }
   ],
   "source": [
    "os.listdir(templatefolder) "
   ]
  },
  {
   "cell_type": "code",
   "execution_count": 23,
   "metadata": {},
   "outputs": [
    {
     "name": "stdout",
     "output_type": "stream",
     "text": [
      "T_profil_ähnlich_54E4_breiter_schaft_wenig_punkte_schräg_random.ply\n"
     ]
    }
   ],
   "source": [
    "template_file = os.listdir(templatefolder)[2]\n",
    "print(template_file)\n",
    "template_file = os.path.join(templatefolder, template_file) \n",
    "\n",
    "template = o3d.io.read_point_cloud(template_file) "
   ]
  },
  {
   "cell_type": "code",
   "execution_count": 5,
   "metadata": {},
   "outputs": [],
   "source": [
    "# Viewsettings mit strg + c kopieren und hier einfügen\n",
    "\n",
    "viewsettings = '''\n",
    "{\n",
    "\t\"class_name\" : \"ViewTrajectory\",\n",
    "\t\"interval\" : 29,\n",
    "\t\"is_loop\" : false,\n",
    "\t\"trajectory\" : \n",
    "\t[\n",
    "\t\t{\n",
    "\t\t\t\"boundingbox_max\" : [ 11.999975427985191, 11.99998692702502, 13.124079998226534 ],\n",
    "\t\t\t\"boundingbox_min\" : [ -13.000024572014809, -13.00001307297498, -3.9965200017734333 ],\n",
    "\t\t\t\"field_of_view\" : 60.0,\n",
    "\t\t\t\"front\" : [ -0.20468464372193082, -0.82045900926496551, 0.53380821531742795 ],\n",
    "\t\t\t\"lookat\" : [ -2.1145501200370735, -2.6052610037108783, 1.4494799802055294 ],\n",
    "\t\t\t\"up\" : [ 0.19010212482081987, 0.50164960558000959, 0.84392467398461002 ],\n",
    "\t\t\t\"zoom\" : 0.55999999999999983\n",
    "\t\t}\n",
    "\t],\n",
    "\t\"version_major\" : 1,\n",
    "\t\"version_minor\" : 0\n",
    "}\n",
    "\n",
    "'''\n",
    "\n",
    "viewsettings = json.loads(viewsettings)\n",
    "\n",
    "front = viewsettings[\"trajectory\"][0][\"front\"]\n",
    "lookat = viewsettings[\"trajectory\"][0][\"lookat\"]\n",
    "up = viewsettings[\"trajectory\"][0][\"up\"]\n",
    "zoom = viewsettings[\"trajectory\"][0][\"zoom\"]"
   ]
  },
  {
   "cell_type": "code",
   "execution_count": 63,
   "metadata": {},
   "outputs": [
    {
     "data": {
      "text/plain": [
       "['abseits4.las',\n",
       " 'anfang_weiche_kästen.laz',\n",
       " 'abseits3.las',\n",
       " 'nebengleis2.las',\n",
       " 'abseits5.las',\n",
       " 'einfach3.las',\n",
       " 'einfach4.las',\n",
       " 'abseits1.las',\n",
       " 'einfach_kasten.las',\n",
       " 'einfach2.las',\n",
       " 'einfach_und_schrott.las',\n",
       " 'nicht_ganz_einfach.las',\n",
       " 'weicheB_X.laz',\n",
       " 'weicheB_TTTTT.laz',\n",
       " 'weicheB_IIIII.laz',\n",
       " 'kein_gleis.las',\n",
       " 'abseits2.las',\n",
       " 'abseits6.las',\n",
       " 'befahren_links.las',\n",
       " 'ganz',\n",
       " 'nur_schotter.laz',\n",
       " 'einfach_nix.las',\n",
       " 'befahren_rechts.las',\n",
       " 'einfach1.las',\n",
       " 'anfang_weiche_2eng.laz',\n",
       " 'weicheB_Y.laz',\n",
       " 'anfang_weiche_2extremeng.laz',\n",
       " 'nebengleis1.las']"
      ]
     },
     "execution_count": 63,
     "metadata": {},
     "output_type": "execute_result"
    }
   ],
   "source": [
    "os.listdir(datafolder)"
   ]
  },
  {
   "cell_type": "code",
   "execution_count": 6,
   "metadata": {},
   "outputs": [],
   "source": [
    "cloud_file = 'nebengleis1.las'\n",
    "\n",
    "\n",
    "cloud_file = os.path.join(datafolder, cloud_file)\n",
    "if not os.path.exists(cloud_file):\n",
    "    raise FileNotFoundError(cloud_file) \n",
    "\n",
    "pipeline = pdal.Pipeline([pdal.Reader(cloud_file)])\n",
    "pipeline.execute()\n",
    "points = pipeline.arrays[0]"
   ]
  },
  {
   "cell_type": "code",
   "execution_count": 7,
   "metadata": {},
   "outputs": [],
   "source": [
    "xyz = np.vstack((points['X'], points['Y'], points['Z'])).transpose()\n",
    "rgb = np.vstack((points['Red'], points['Green'], points['Blue'])).transpose() / 65535.0\n",
    "\n",
    "offset = xyz.mean(axis=0).round() \n",
    "xyz -= offset\n",
    "\n",
    "pcd = o3d.geometry.PointCloud()\n",
    "pcd.points = o3d.utility.Vector3dVector(xyz)\n",
    "pcd.colors = o3d.utility.Vector3dVector(rgb)"
   ]
  },
  {
   "cell_type": "code",
   "execution_count": 8,
   "metadata": {},
   "outputs": [],
   "source": [
    "mesh_frame = o3d.geometry.TriangleMesh.create_coordinate_frame(\n",
    "    size=0.6, origin=[0, 0, 0])"
   ]
  },
  {
   "cell_type": "code",
   "execution_count": 9,
   "metadata": {},
   "outputs": [],
   "source": [
    "o3d.visualization.draw_geometries([pcd, template, mesh_frame], front=front, lookat=lookat, up=up, zoom=zoom)"
   ]
  },
  {
   "cell_type": "markdown",
   "metadata": {},
   "source": [
    "## Fast Global Registration\n",
    "source = bewegt, target = fest"
   ]
  },
  {
   "cell_type": "code",
   "execution_count": 24,
   "metadata": {},
   "outputs": [],
   "source": [
    "# Options \n",
    "normals_radius = 0.1\n",
    "normals_max_nn = 30\n",
    "\n",
    "fpfh_radius = 0.2\n",
    "fpfh_max_nn = 100\n",
    "\n",
    "distance_threshold = 0.025"
   ]
  },
  {
   "cell_type": "code",
   "execution_count": 25,
   "metadata": {},
   "outputs": [],
   "source": [
    "template.estimate_normals(o3d.geometry.KDTreeSearchParamHybrid(radius=normals_radius, max_nn=normals_max_nn))\n",
    "template_fpfh = o3d.pipelines.registration.compute_fpfh_feature(template, o3d.geometry.KDTreeSearchParamHybrid(radius=fpfh_radius, max_nn=fpfh_max_nn))"
   ]
  },
  {
   "cell_type": "code",
   "execution_count": 26,
   "metadata": {},
   "outputs": [],
   "source": [
    "pcd.estimate_normals(o3d.geometry.KDTreeSearchParamHybrid(radius=normals_radius, max_nn=normals_max_nn))\n",
    "pcd_fpfh = o3d.pipelines.registration.compute_fpfh_feature(pcd, o3d.geometry.KDTreeSearchParamHybrid(radius=fpfh_radius, max_nn=fpfh_max_nn))"
   ]
  },
  {
   "cell_type": "markdown",
   "metadata": {},
   "source": [
    "Pcd als source, template als Target"
   ]
  },
  {
   "cell_type": "code",
   "execution_count": 27,
   "metadata": {},
   "outputs": [
    {
     "name": "stdout",
     "output_type": "stream",
     "text": [
      "Fast global registration took 0.173 sec.\n",
      "\n",
      "RegistrationResult with fitness=2.489960e-02, inlier_rmse=1.469646e-02, and correspondence_set size of 62\n",
      "Access transformation to get result.\n",
      "[[ 1.         -0.          0.         -0.11228624]\n",
      " [-0.          1.         -0.         -0.49762755]\n",
      " [ 0.         -0.          1.          0.42031909]\n",
      " [-0.          0.         -0.          1.        ]]\n"
     ]
    }
   ],
   "source": [
    "start = time.time()\n",
    "\n",
    "# source, target, source_features, target_features, option\n",
    "result = o3d.pipelines.registration.registration_fgr_based_on_feature_matching(\n",
    "    pcd, template, pcd_fpfh, template_fpfh,\n",
    "    o3d.pipelines.registration.FastGlobalRegistrationOption(\n",
    "            maximum_correspondence_distance=distance_threshold))\n",
    "\n",
    "print(\"Fast global registration took %.3f sec.\\n\" % (time.time() - start))\n",
    "print(result)\n",
    "print(result.transformation)\n",
    "\n",
    "source_temp = copy.deepcopy(pcd)\n",
    "source_temp.transform(result.transformation)\n",
    "o3d.visualization.draw_geometries([source_temp, template, mesh_frame], front=front, lookat=lookat, up=up, zoom=zoom)"
   ]
  },
  {
   "cell_type": "markdown",
   "metadata": {},
   "source": [
    "Template als Source, PCD als target"
   ]
  },
  {
   "cell_type": "code",
   "execution_count": 28,
   "metadata": {},
   "outputs": [
    {
     "name": "stdout",
     "output_type": "stream",
     "text": [
      "Fast global registration took 0.124 sec.\n",
      "\n",
      "RegistrationResult with fitness=2.011334e-01, inlier_rmse=1.767146e-02, and correspondence_set size of 2307\n",
      "Access transformation to get result.\n",
      "[[ 1.         -0.          0.          0.11228624]\n",
      " [-0.          1.         -0.          0.49762755]\n",
      " [-0.          0.          1.         -0.42031909]\n",
      " [-0.          0.         -0.          1.        ]]\n"
     ]
    }
   ],
   "source": [
    "start = time.time()\n",
    "\n",
    "# source, target, source_features, target_features, option\n",
    "result = o3d.pipelines.registration.registration_fgr_based_on_feature_matching(\n",
    "    template, pcd, template_fpfh, pcd_fpfh,\n",
    "    o3d.pipelines.registration.FastGlobalRegistrationOption(\n",
    "            maximum_correspondence_distance=distance_threshold))\n",
    "\n",
    "print(\"Fast global registration took %.3f sec.\\n\" % (time.time() - start))\n",
    "print(result)\n",
    "print(result.transformation)\n",
    "\n",
    "source_temp = copy.deepcopy(template)\n",
    "source_temp.transform(result.transformation)\n",
    "o3d.visualization.draw_geometries([source_temp, pcd, mesh_frame], front=front, lookat=lookat, up=up, zoom=zoom)"
   ]
  },
  {
   "cell_type": "markdown",
   "metadata": {},
   "source": [
    "## PCA"
   ]
  },
  {
   "cell_type": "code",
   "execution_count": 15,
   "metadata": {},
   "outputs": [],
   "source": [
    "def pca(cloud):\n",
    "    \"\"\"Use PCA to get einvalues and eigenvectors of a point cloud\"\"\"\n",
    "    mean = np.mean(cloud, axis=0)\n",
    "    centered = cloud - mean\n",
    "    cov_matrix = np.cov(centered, rowvar=False) # row variance nicht berechnen\n",
    "    eigenvals, eigenvecs = np.linalg.eig(cov_matrix)\n",
    "    sorted_indices = np.argsort(eigenvals)[::-1]\n",
    "    sorted_eigenvals = eigenvals[sorted_indices]\n",
    "    sorted_eigenvecs = eigenvecs[:,sorted_indices]\n",
    "    # Vectors are columns\n",
    "    return sorted_eigenvals, sorted_eigenvecs\n",
    "\n",
    "def linearity(eigenvals):\n",
    "    \"\"\"Calculate the linearity of a point cloud\"\"\"\n",
    "    return (eigenvals[0] - eigenvals[1]) / eigenvals[0]\n",
    "\n",
    "\n",
    "def theta(eigenvects):\n",
    "    \"\"\"Angle between the first eigenvector and the z-axis\"\"\"\n",
    "    cos_theta = eigenvects.T[0] @ np.array([0, 0, 1]) / np.linalg.norm(eigenvects[0])\n",
    "    return np.arccos(cos_theta) * 180 / np.pi"
   ]
  },
  {
   "cell_type": "code",
   "execution_count": 16,
   "metadata": {},
   "outputs": [],
   "source": [
    "def plot_vector(vector, stretch=1):\n",
    "    \"\"\"Plot a vector as a line\"\"\"\n",
    "    vector = vector * stretch\n",
    "    line = o3d.geometry.LineSet()\n",
    "    line.points = o3d.utility.Vector3dVector([[0, 0, 0], vector])\n",
    "    line.lines = o3d.utility.Vector2iVector([[0, 1]])\n",
    "    line.colors = o3d.utility.Vector3dVector([[1, 0, 0]])\n",
    "    return line"
   ]
  },
  {
   "cell_type": "code",
   "execution_count": 17,
   "metadata": {},
   "outputs": [],
   "source": [
    "def plot_eigenvectors(eigenvects):\n",
    "    \"\"\"Plot the eigenvectors of a point cloud\"\"\"\n",
    "    eigenvects = eigenvects.T\n",
    "    lines = o3d.geometry.LineSet()\n",
    "    lines.points = o3d.utility.Vector3dVector([[0, 0, 0], eigenvects[0], eigenvects[1], eigenvects[2]])\n",
    "    lines.lines = o3d.utility.Vector2iVector([[0, 1], [0, 2], [0, 3]])\n",
    "    lines.colors = o3d.utility.Vector3dVector([[1, 0, 0], [0, 1, 0], [0, 0, 1]])\n",
    "    return lines"
   ]
  },
  {
   "cell_type": "code",
   "execution_count": 18,
   "metadata": {},
   "outputs": [
    {
     "name": "stdout",
     "output_type": "stream",
     "text": [
      "Linearity:  0.9998924848431279\n",
      "Theta:  90.5483385095337\n"
     ]
    }
   ],
   "source": [
    "eigenvals, eigenvecs = pca(xyz)\n",
    "\n",
    "print(\"Linearity: \", linearity(eigenvals))\n",
    "print(\"Theta: \", theta(eigenvecs))"
   ]
  },
  {
   "cell_type": "code",
   "execution_count": 19,
   "metadata": {},
   "outputs": [
    {
     "name": "stdout",
     "output_type": "stream",
     "text": [
      "Template Linearity:  0.875503320752718\n",
      "Template Theta:  90.0\n"
     ]
    }
   ],
   "source": [
    "template_eigenvals, template_eigenvecs = pca(np.asarray(template.points))\n",
    "print(\"Template Linearity: \", linearity(template_eigenvals))\n",
    "print(\"Template Theta: \", theta(template_eigenvecs))"
   ]
  },
  {
   "cell_type": "code",
   "execution_count": 20,
   "metadata": {},
   "outputs": [],
   "source": [
    "lines = plot_eigenvectors(template_eigenvecs)\n",
    "\n",
    "o3d.visualization.draw_geometries([pcd, template, mesh_frame, lines], front=front, lookat=lookat, up=up, zoom=zoom)"
   ]
  },
  {
   "cell_type": "code",
   "execution_count": 21,
   "metadata": {},
   "outputs": [
    {
     "data": {
      "text/plain": [
       "array([4.02896618e+00, 4.33174931e-04, 2.19121883e-04])"
      ]
     },
     "execution_count": 21,
     "metadata": {},
     "output_type": "execute_result"
    }
   ],
   "source": [
    "eigenvals "
   ]
  },
  {
   "cell_type": "code",
   "execution_count": 22,
   "metadata": {},
   "outputs": [
    {
     "data": {
      "text/plain": [
       "array([0.02083399, 0.00259376, 0.00051827])"
      ]
     },
     "execution_count": 22,
     "metadata": {},
     "output_type": "execute_result"
    }
   ],
   "source": [
    "template_eigenvals"
   ]
  },
  {
   "cell_type": "code",
   "execution_count": null,
   "metadata": {},
   "outputs": [],
   "source": []
  }
 ],
 "metadata": {
  "kernelspec": {
   "display_name": "points",
   "language": "python",
   "name": "points"
  },
  "language_info": {
   "codemirror_mode": {
    "name": "ipython",
    "version": 3
   },
   "file_extension": ".py",
   "mimetype": "text/x-python",
   "name": "python",
   "nbconvert_exporter": "python",
   "pygments_lexer": "ipython3",
   "version": "3.9.21"
  }
 },
 "nbformat": 4,
 "nbformat_minor": 2
}
