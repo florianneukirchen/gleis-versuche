{
 "cells": [
  {
   "cell_type": "markdown",
   "metadata": {},
   "source": [
    "# Auto-Validation\n"
   ]
  },
  {
   "cell_type": "code",
   "execution_count": 175,
   "metadata": {},
   "outputs": [],
   "source": [
    "import pdal \n",
    "import numpy as np\n",
    "import matplotlib.pyplot as plt\n",
    "from scipy.spatial import KDTree, cKDTree\n",
    "from scipy.linalg import svd \n",
    "from osgeo import ogr\n",
    "import pyvista as pv\n",
    "import os\n",
    "import csv\n",
    "import time \n",
    "import matplotlib.pyplot as plt\n",
    "import copy\n",
    "\n",
    "import open3d as o3d\n",
    "from interessant import * # Bei Änderungen Kernel neu starten\n",
    "\n",
    "\n",
    "ogr.UseExceptions()"
   ]
  },
  {
   "cell_type": "code",
   "execution_count": 176,
   "metadata": {},
   "outputs": [],
   "source": [
    "clusterexamples = [\n",
    "    \"PunkteSeiteVieleAusreisser\",\n",
    "    \"ObenundSeite\", # In Wirklichkeit nur oben\n",
    "    \"ObenNull1\",\n",
    "    \"PunkteSeite\",\n",
    "    \"VieleLückeMitte\",\n",
    "    \"VieleGleiseEherTop\", # Übergang\n",
    "    \"VieleSchürhaken\",\n",
    "    \"VieleZ\", # Fast nur auf Seite, schrott\n",
    "    \"Achszaehler1\",\n",
    "    \"Achszaehler2\",\n",
    "    \"Achszaehler3\",\n",
    "    \"Auch links rechts falsch\",\n",
    "    \"PunkteOben\",\n",
    "    \"ObenNull\",\n",
    "    \"ObenNull2\",\n",
    "    \"ObenNull3\",\n",
    "    \"Abseits1\",\n",
    "    \"Abseits14Punkte\",\n",
    "    \"AbseitsAusreisser\",\n",
    "    \"VSeite1\",\n",
    "    \"VSeite2\",\n",
    "    \"VSeite3\",\n",
    "    \"VSeite4\", # Ausreisser\n",
    "    \"VSeite5\"\n",
    "]\n",
    "\n",
    "useclusterexamples = True"
   ]
  },
  {
   "cell_type": "code",
   "execution_count": 177,
   "metadata": {},
   "outputs": [
    {
     "name": "stdout",
     "output_type": "stream",
     "text": [
      "Gleis weit abseits 4473625_5337975.ply\n"
     ]
    }
   ],
   "source": [
    "tmpdir = \"/media/riannek/minimax/gleis/temp_fertig\"\n",
    "\n",
    "# Bahnsteig: 29; Gleis hohe Intensität: 11; Weiche B: 16; Unterirdischer Bhf: 20; Gleis weit abseits: 23; Betondeckel: 28; Zug run 14 A: 6; \n",
    "# Viele Gleise: 33; Anfang Weiche: 34; OLA gleiche H: 35; Y: 37; Auch viele Gleise: 43; Kreuzung: 44, 45;\n",
    "\n",
    "key = list(interessant.keys())[23] \n",
    "\n",
    "filename = interessant[key]\n",
    "filename = filename.split(\".\")[0] + \".ply\"\n",
    "print(key, filename)\n",
    "\n",
    "\n",
    "if not os.path.exists(os.path.join(tmpdir, filename)):\n",
    "    raise FileNotFoundError(filename)"
   ]
  },
  {
   "cell_type": "code",
   "execution_count": 178,
   "metadata": {},
   "outputs": [],
   "source": [
    "thresh_side_distance = 0.15   # 0.1 ist meist gut, aber in manchen Fällen zu wenig (z.B. Anfang Weiche)\n",
    "\n",
    "intensity_threshold = 14500\n",
    "downsample_radius = 0.45 # 0.4\n",
    "neighborhood_radius = 0.5 # 0.5\n",
    "\n",
    "min_points = 10\n",
    "minimum_in_hood = 10\n",
    "linearity_tresh = 0.98\n",
    "\n",
    "gauge = 1.435\n",
    "railhead_width = 0.067"
   ]
  },
  {
   "cell_type": "code",
   "execution_count": 179,
   "metadata": {},
   "outputs": [],
   "source": [
    "runfolder = \"/media/riannek/minimax/gleis/run24-2024-08-13\"\n",
    "\n",
    "import subprocess\n",
    "# subprocess.Popen([\"pyvistaviewer\", os.path.join(runfolder, filename.split(\".\")[0] + \".copc.laz\")])"
   ]
  },
  {
   "cell_type": "markdown",
   "metadata": {},
   "source": [
    "## Laden"
   ]
  },
  {
   "cell_type": "code",
   "execution_count": 180,
   "metadata": {},
   "outputs": [],
   "source": [
    "gpkg = ogr.Open(os.path.join(tmpdir, \"temp.gpkg\"))\n",
    "layer = gpkg.GetLayerByName(\"tiles\")"
   ]
  },
  {
   "cell_type": "code",
   "execution_count": 181,
   "metadata": {},
   "outputs": [],
   "source": [
    "def extend_bbox(bbox, margin=2):\n",
    "    # MinX, MaxX, MinY, MaxY\n",
    "    return (bbox[0] - margin, bbox[1] + margin, bbox[2] - margin, bbox[3] + margin)\n",
    "\n",
    "def get_bbox_polygon(bbox):  \n",
    "    ring = ogr.Geometry(ogr.wkbLinearRing)      \n",
    "    ring.AddPoint_2D(bbox[0], bbox[2])  # MinX, MinY\n",
    "    ring.AddPoint_2D(bbox[1], bbox[2])  # MaxX, MinY\n",
    "    ring.AddPoint_2D(bbox[1], bbox[3])  # MaxX, MaxY\n",
    "    ring.AddPoint_2D(bbox[0], bbox[3])  # MinX, MaxY\n",
    "    ring.AddPoint_2D(bbox[0], bbox[2])  # Close ring\n",
    "    geom = ogr.Geometry(ogr.wkbPolygon)\n",
    "    geom.AddGeometry(ring)\n",
    "    return geom"
   ]
  },
  {
   "cell_type": "code",
   "execution_count": 182,
   "metadata": {},
   "outputs": [
    {
     "name": "stdout",
     "output_type": "stream",
     "text": [
      "['4473650_5337950.ply', '4473650_5337975.ply', '4473625_5337975.ply', '4473625_5338000.ply', '4473650_5338000.ply', '4473625_5337950.ply']\n"
     ]
    }
   ],
   "source": [
    "filter = f\"filename = '{filename}'\"\n",
    "layer.SetAttributeFilter(filter)\n",
    "feature = layer.GetNextFeature()\n",
    "layer.SetAttributeFilter(None)\n",
    "bbox = feature.GetGeometryRef().GetEnvelope()\n",
    "extended = extend_bbox(bbox, margin=2)\n",
    "bbox_geom = get_bbox_polygon(extended)\n",
    "layer.SetSpatialFilter(bbox_geom)\n",
    "tiles = [f.GetField(\"filename\") for f in layer]\n",
    "layer.SetSpatialFilter(None) \n",
    "\n",
    "print(tiles) "
   ]
  },
  {
   "cell_type": "code",
   "execution_count": 183,
   "metadata": {},
   "outputs": [
    {
     "data": {
      "text/plain": [
       "(4473633.296, 4473650.0, 5337975.0, 5338000.0)"
      ]
     },
     "execution_count": 183,
     "metadata": {},
     "output_type": "execute_result"
    }
   ],
   "source": [
    "bbox # MinX, MaxX, MinY, MaxY"
   ]
  },
  {
   "cell_type": "code",
   "execution_count": 184,
   "metadata": {},
   "outputs": [],
   "source": [
    "del gpkg"
   ]
  },
  {
   "cell_type": "code",
   "execution_count": 185,
   "metadata": {},
   "outputs": [
    {
     "data": {
      "text/plain": [
       "'([4473631.296, 4473652.0], [5337973.0, 5338002.0])'"
      ]
     },
     "execution_count": 185,
     "metadata": {},
     "output_type": "execute_result"
    }
   ],
   "source": [
    "bounds = f\"([{extended[0]}, {extended[1]}], [{extended[2]}, {extended[3]}])\" \n",
    "bounds"
   ]
  },
  {
   "cell_type": "code",
   "execution_count": 186,
   "metadata": {},
   "outputs": [
    {
     "data": {
      "text/plain": [
       "(6332,)"
      ]
     },
     "execution_count": 186,
     "metadata": {},
     "output_type": "execute_result"
    }
   ],
   "source": [
    "readers = [pdal.Reader(os.path.join(tmpdir, tile)) for tile in tiles]\n",
    "pipeline = pdal.Pipeline(readers) | pdal.Filter.merge() | pdal.Filter.crop(bounds=bounds)\n",
    "pipeline.execute()\n",
    "points = pipeline.arrays[0]\n",
    "points.shape "
   ]
  },
  {
   "cell_type": "code",
   "execution_count": 187,
   "metadata": {},
   "outputs": [
    {
     "data": {
      "text/plain": [
       "(5180,)"
      ]
     },
     "execution_count": 187,
     "metadata": {},
     "output_type": "execute_result"
    }
   ],
   "source": [
    "low_intensity = points[points[\"Intensity\"] < intensity_threshold]\n",
    "low_intensity.shape"
   ]
  },
  {
   "cell_type": "code",
   "execution_count": 188,
   "metadata": {},
   "outputs": [
    {
     "data": {
      "text/plain": [
       "'([4473633.296, 4473650.0], [5337975.0, 5338000.0])'"
      ]
     },
     "execution_count": 188,
     "metadata": {},
     "output_type": "execute_result"
    }
   ],
   "source": [
    "bounds = f\"([{bbox[0]}, {bbox[1]}], [{bbox[2]}, {bbox[3]}])\" \n",
    "bounds"
   ]
  },
  {
   "cell_type": "code",
   "execution_count": 189,
   "metadata": {},
   "outputs": [
    {
     "data": {
      "text/plain": [
       "178"
      ]
     },
     "execution_count": 189,
     "metadata": {},
     "output_type": "execute_result"
    }
   ],
   "source": [
    "# Downsample with poisson sampling (only original bbox)\n",
    "\n",
    "downsampling_pipeline = pdal.Filter.crop(bounds=bounds).pipeline(low_intensity) | pdal.Filter(\"filters.sample\", radius=downsample_radius)\n",
    "downsampling_pipeline.execute()\n",
    "seed_points = downsampling_pipeline.arrays[0]\n",
    "seed_point_count = seed_points.shape[0]\n",
    "seed_point_count"
   ]
  },
  {
   "cell_type": "code",
   "execution_count": 190,
   "metadata": {},
   "outputs": [],
   "source": [
    "xyz = np.vstack((points['X'], points['Y'], points['Z'])).transpose()\n",
    "xyz_seed = np.vstack((seed_points['X'], seed_points['Y'], seed_points['Z'])).transpose()"
   ]
  },
  {
   "cell_type": "code",
   "execution_count": 191,
   "metadata": {},
   "outputs": [],
   "source": [
    "offset = xyz.mean(axis=0).round() \n",
    "xyz -= offset\n",
    "xyz_seed -= offset"
   ]
  },
  {
   "cell_type": "code",
   "execution_count": 192,
   "metadata": {},
   "outputs": [],
   "source": [
    "tree = KDTree(xyz)  \n",
    "\n",
    "# indices: ndarray (dtype object) with a list of indices for each seed point\n",
    "indices = tree.query_ball_point(xyz_seed, r=neighborhood_radius, workers=-1)"
   ]
  },
  {
   "cell_type": "code",
   "execution_count": 193,
   "metadata": {},
   "outputs": [],
   "source": [
    "def pca(cloud):\n",
    "    \"\"\"Use PCA to get einvalues and eigenvectors of a point cloud\n",
    "    \n",
    "    Returns (eigenvalues, eigenvectors)\n",
    "    \"\"\"\n",
    "    if cloud.shape[0] < 3:\n",
    "        raise ValueError(\"Point cloud must have at least 3 points\")\n",
    "    mean = np.mean(cloud, axis=0)\n",
    "    centered = cloud - mean\n",
    "    U, S, Vt = svd(centered, full_matrices=False)\n",
    "    eigenvals = S**2/(cloud.shape[0]-1)\n",
    "    # Returned vectors are in columns, first vector is eigenvec[:, 0] == eigenvec.T[0]\n",
    "    return eigenvals, Vt.T"
   ]
  },
  {
   "cell_type": "code",
   "execution_count": 194,
   "metadata": {},
   "outputs": [],
   "source": [
    "def dbscan_stretchz(xyz, min_points=10, stretch=1.5):\n",
    "\n",
    "    pointcount = xyz.shape[0]\n",
    "    if pointcount <= min_points:\n",
    "        return np.ones(pointcount, dtype=np.int8) * -1\n",
    "    \n",
    "    eps = 50 / pointcount\n",
    "    eps = max(eps, 0.06)\n",
    "    \n",
    "    xyz = xyz.copy()\n",
    "    xyz[:, 2] *= stretch\n",
    "    hood_pcd = o3d.geometry.PointCloud()\n",
    "    hood_pcd.points = o3d.utility.Vector3dVector(xyz) \n",
    "    # eps is min distance between clusters\n",
    "    labels = np.array(hood_pcd.cluster_dbscan(eps=eps, min_points=min_points, print_progress=False))\n",
    "    return labels\n",
    "\n"
   ]
  },
  {
   "cell_type": "code",
   "execution_count": 195,
   "metadata": {},
   "outputs": [],
   "source": [
    "def plot_first_eigenvec(point, eigenvects, color=[1, 0, 0], stretch=1):\n",
    "    \"\"\"Plot a vector as a line\"\"\"\n",
    "    vector = eigenvects.T[0] * stretch\n",
    "    end = point + vector\n",
    "    line = o3d.geometry.LineSet()\n",
    "    line.points = o3d.utility.Vector3dVector([point, end])\n",
    "    line.lines = o3d.utility.Vector2iVector([[0, 1]])\n",
    "    line.colors = o3d.utility.Vector3dVector([color])\n",
    "    return line"
   ]
  },
  {
   "cell_type": "code",
   "execution_count": 196,
   "metadata": {},
   "outputs": [],
   "source": [
    "def plot_cluster_line(cluster, eigenvects, stretch=0.2):\n",
    "    start = cluster.mean(axis=0)\n",
    "    vector = eigenvects.T[0] * stretch\n",
    "    end = start + vector\n",
    "    line = pv.Line(start, end)\n",
    "\n",
    "    return line"
   ]
  },
  {
   "cell_type": "code",
   "execution_count": 197,
   "metadata": {},
   "outputs": [],
   "source": [
    "def plot_cluster(cluster, eigenvects=None): \n",
    "    center = cluster.mean(axis=0)\n",
    "    centered = cluster - center\n",
    "\n",
    "    if eigenvects is None:\n",
    "        eigenvals, eigenvects = pca(cluster)\n",
    "\n",
    "    transformed = centered @ eigenvects\n",
    "    fig, ax = plt.subplots(figsize=(10, 15))\n",
    "    ax.scatter(transformed[:,0], transformed[:,2], c=transformed[:,1], cmap=plt.cm.plasma, marker=\".\")\n",
    "    ax.set_aspect(\"equal\")\n",
    "    plt.show()\n",
    "    return fig, ax"
   ]
  },
  {
   "cell_type": "code",
   "execution_count": 198,
   "metadata": {},
   "outputs": [],
   "source": [
    "def to_color(skalar, cmap=plt.cm.plasma):\n",
    "    return cmap(skalar)[:3]"
   ]
  },
  {
   "cell_type": "code",
   "execution_count": 199,
   "metadata": {},
   "outputs": [],
   "source": [
    "def get_central_point(a, b):\n",
    "    \"\"\"Get the point in the middle of two points\"\"\"\n",
    "    vector = b - a\n",
    "    return a + vector / 2"
   ]
  },
  {
   "cell_type": "code",
   "execution_count": 200,
   "metadata": {},
   "outputs": [],
   "source": [
    "def plot_cluster(cluster, eigenvects=None): \n",
    "    center = cluster.mean(axis=0)\n",
    "    centered = cluster - center\n",
    "\n",
    "    if eigenvects is None:\n",
    "        eigenvals, eigenvects = pca(cluster)\n",
    "\n",
    "    transformed = centered @ eigenvects\n",
    "    fig, ax = plt.subplots(figsize=(10, 15))\n",
    "    ax.scatter(transformed[:,0], transformed[:,2], c=transformed[:,1], cmap=plt.cm.plasma, marker=\".\")\n",
    "    ax.set_aspect(\"equal\")\n",
    "    plt.show()\n",
    "    return fig, ax\n",
    "    "
   ]
  },
  {
   "cell_type": "code",
   "execution_count": 201,
   "metadata": {},
   "outputs": [],
   "source": [
    "def cluster_is_on_top(cluster, clustercenter, points):\n",
    "    \"\"\"Check that there are no points above the cluster center\"\"\"\n",
    "    x_min, x_max = clustercenter[0] - 0.05, clustercenter[0] + 0.05\n",
    "    y_min, y_max = clustercenter[1] - 0.05, clustercenter[1] + 0.05\n",
    "    z_min = cluster[:,2].max()\n",
    "\n",
    "    mask = ((points[:, 0] > x_min) & \n",
    "        (points[:, 0] < x_max) & \n",
    "        (points[:, 1] > y_min) & \n",
    "        (points[:, 1] < y_max) & \n",
    "        (points[:, 2] > z_min))\n",
    "    \n",
    "    \n",
    "    return points[mask].shape[0] == 0"
   ]
  },
  {
   "cell_type": "code",
   "execution_count": 202,
   "metadata": {},
   "outputs": [],
   "source": [
    "def plot_cluster_pair(cluster, cluster_other, transformmatrix, percentile=95, railhead_width = 0.067, centering=\"cluster\", point_this=None, point_other=None): \n",
    "    \"\"\"Plot pair of clusters in the PCA coordinate system of the pair \n",
    "    \n",
    "    Args:\n",
    "        cluster (np.array): Cluster of points\n",
    "        cluster_other (np.array): Other cluster of points\n",
    "        eigenvects (np.array): Eigenvectors of the PCA of the pair of clusters\n",
    "        percentile (int): Percentile of the height for the horizontal line\n",
    "        railhead_width (float): Width of the railhead (0.067 or 0.072)\n",
    "        centering (str): \"cluster\" or \"pair\"\n",
    "    \"\"\"\n",
    "    center = (cluster.sum(axis=0) + cluster_other.sum(axis=0)) / (cluster.shape[0] + cluster_other.shape[0])\n",
    "    center_cluster = cluster.mean(axis=0)\n",
    "    center_other = cluster_other.mean(axis=0)\n",
    "\n",
    "    if centering == \"cluster\":\n",
    "        cluster = cluster - center_cluster\n",
    "        cluster_other = cluster_other - center_other\n",
    "        point_this = point_this - center_cluster\n",
    "        point_other = point_other - center_other\n",
    "    else:\n",
    "        cluster = cluster - center\n",
    "        cluster_other = cluster_other - center\n",
    "        point_this = point_this - center\n",
    "        point_other = point_other - center\n",
    "\n",
    "    transformed = cluster @ transformmatrix\n",
    "    transformed_other = cluster_other @ transformmatrix\n",
    "    #print(\"center\", center)\n",
    "    #print(center_cluster - center, center_other - center)\n",
    "    #print((center_cluster - center) @ transformmatrix, (center_other - center) @ transformmatrix)\n",
    "\n",
    "\n",
    "    # Check if we need to switch the left, right cluster\n",
    "    center_cluster_in_pc = (center_cluster - center) @ transformmatrix\n",
    "    center_other_in_pc = (center_other - center) @ transformmatrix\n",
    "    if center_cluster_in_pc[0] > center_other_in_pc[0]:\n",
    "        transformed, transformed_other = transformed_other, transformed\n",
    "        point_this, point_other = point_other, point_this\n",
    "        # print(\"Switched clusters\")\n",
    "\n",
    "    fig, ax = plt.subplots(1,2, figsize=(15, 7))\n",
    "\n",
    "    if centering == \"cluster\":\n",
    "        ax[0].set_ylim(-0.08, 0.06)\n",
    "        ax[1].set_ylim(-0.08, 0.06)\n",
    "    else:\n",
    "        ax[0].set_xlim(-0.85, -0.65)\n",
    "        ax[0].set_ylim(-0.08, 0.06)\n",
    "        ax[1].set_xlim(0.65, 0.85)\n",
    "        ax[1].set_ylim(-0.08, 0.06)\n",
    "        ax[0].axvline(-gauge/2, color=\"lightgrey\", linestyle=\"-\", zorder=-1)\n",
    "        ax[0].axvline(-gauge/2 - railhead_width, color=\"lightgrey\", linestyle=\"-\", zorder=-1)\n",
    "        ax[1].axvline(gauge/2, color=\"lightgrey\", linestyle=\"-\", zorder=-1)\n",
    "        ax[1].axvline(gauge/2 + railhead_width, color=\"lightgrey\", linestyle=\"-\", zorder=-1)\n",
    "\n",
    "    ax[0].scatter(transformed[:,0], transformed[:,2], c=transformed[:,1], cmap=plt.cm.plasma, marker=\".\")\n",
    "    ax[0].set_aspect(\"equal\")\n",
    "\n",
    "    x_mean = transformed[:,0].mean()\n",
    "    ax[0].axvline(x_mean, color=\"forestgreen\", linestyle=\"--\", zorder=-1)\n",
    "    ax[0].axvline(x_mean - (railhead_width/2), color=\"lightgreen\", linestyle=\"--\", zorder=-1)\n",
    "    ax[0].axvline(x_mean + (railhead_width/2), color=\"lightgreen\", linestyle=\"--\", zorder=-1)\n",
    "    ax[0].axhline(np.percentile(transformed[:,2], percentile), color=\"forestgreen\", linestyle=\"--\", zorder=-1)\n",
    "    ax[0].axhline(transformed[:,2].mean(), color=\"forestgreen\", linestyle=\"--\", zorder=-1)\n",
    "\n",
    "    ax[1].scatter(transformed_other[:,0], transformed_other[:,2], c=transformed_other[:,1], cmap=plt.cm.plasma, marker=\".\")\n",
    "    ax[1].set_aspect(\"equal\")\n",
    "\n",
    "    x_mean = transformed_other[:,0].mean()\n",
    "    ax[1].axvline(x_mean, color=\"forestgreen\", linestyle=\"--\", zorder=-1)\n",
    "    ax[1].axvline(x_mean - (railhead_width/2), color=\"lightgreen\", linestyle=\"--\", zorder=-1)\n",
    "    ax[1].axvline(x_mean + (railhead_width/2), color=\"lightgreen\", linestyle=\"--\", zorder=-1)\n",
    "    ax[1].axhline(np.percentile(transformed_other[:,2], percentile), color=\"forestgreen\", linestyle=\"--\", zorder=-1)\n",
    "    ax[1].axhline(transformed_other[:,2].mean(), color=\"forestgreen\", linestyle=\"--\", zorder=-1)\n",
    "\n",
    "    if point_this is not None:\n",
    "        point_this_transformed = point_this  @ transformmatrix\n",
    "        ax[0].axvline(point_this_transformed[0], color=\"red\", linestyle=\"--\", zorder=-1)\n",
    "        ax[0].axhline(point_this_transformed[2], color=\"red\", linestyle=\"--\", zorder=-1)\n",
    "        ax[0].axvline(point_this_transformed[0] - (railhead_width/2), color=\"tomato\", linestyle=\"--\", zorder=-1)\n",
    "        ax[0].axvline(point_this_transformed[0] + (railhead_width/2), color=\"tomato\", linestyle=\"--\", zorder=-1)\n",
    "        ax[0].annotate(f\"{point_this_transformed[0]:.5f}\", xy=(point_this_transformed[0], point_this_transformed[2]), xytext=(point_this_transformed[0] + 0.01, point_this_transformed[2] + 0.01), fontsize=10, color=\"red\", ha=\"left\", va=\"bottom\")\n",
    "\n",
    "    if point_other is not None:\n",
    "        point_other_transformed = point_other  @ transformmatrix\n",
    "        ax[1].axvline(point_other_transformed[0], color=\"red\", linestyle=\"--\", zorder=-1)\n",
    "        ax[1].axhline(point_other_transformed[2], color=\"red\", linestyle=\"--\", zorder=-1)\n",
    "        ax[1].axvline(point_other_transformed[0] - (railhead_width/2), color=\"tomato\", linestyle=\"--\", zorder=-1)\n",
    "        ax[1].axvline(point_other_transformed[0] + (railhead_width/2), color=\"tomato\", linestyle=\"--\", zorder=-1)\n",
    "        ax[1].annotate(f\"{point_other_transformed[0]:.5f}\", xy=(point_other_transformed[0], point_other_transformed[2]), xytext=(point_other_transformed[0] + 0.01, point_other_transformed[2] + 0.01), fontsize=10, color=\"red\", ha=\"left\", va=\"bottom\")\n",
    "\n",
    "    plt.show()\n",
    "    return fig, ax, transformed, transformed_other\n",
    "\n",
    "\n"
   ]
  },
  {
   "cell_type": "code",
   "execution_count": 203,
   "metadata": {},
   "outputs": [],
   "source": [
    "def which_side(cluster):\n",
    "    \"\"\"Check which on which side of the rail the transformed cluster is\n",
    "    \n",
    "    Returns a value between -1 and 1, positive values if points are on the \n",
    "    right side of the rail, and negative values for the left side. \n",
    "    The absolute value is kind of the confidence of the estimation.\n",
    "    \"\"\"\n",
    "\n",
    "    # Count the points below the centroid, on the left and the right side \n",
    "    # but only within half the width of the railhead \n",
    "\n",
    "    left_mask = (cluster[:,2] < 0) & (cluster[:,0] < 0) & (cluster[:,0] > -railhead_width/2)\n",
    "    right_mask = (cluster[:,2] < 0) & (cluster[:,0] > 0) & (cluster[:,0] < railhead_width/2)\n",
    "    left_count = np.sum(left_mask)\n",
    "    right_count = np.sum(right_mask)\n",
    "    both_count = left_count + right_count\n",
    "    if both_count == 0:\n",
    "        return 0\n",
    "    return (left_count - right_count) / both_count"
   ]
  },
  {
   "cell_type": "code",
   "execution_count": 204,
   "metadata": {},
   "outputs": [],
   "source": [
    "##### noinverse nur für Validierung\n",
    "\n",
    "def representive_point_3(cluster, transformmatrix, upperpercentile=90, lowerpercentile=70, railhead_width=0.067, side=None, noinverse=False):\n",
    "    \"\"\"Version 3\n",
    "\n",
    "    Unterschied bei \"Vor allem Top\": \n",
    "        min und max x bei z>-0.01\n",
    "        lowerpercentile des oberen Teils für z\n",
    "    \"\"\"\n",
    "\n",
    "\n",
    "    center = cluster.mean(axis=0)\n",
    "    centered = cluster - center\n",
    "    transformed = centered @ transformmatrix\n",
    "    max_z = transformed[:,2].max()\n",
    "\n",
    "    if max_z < 0.03:\n",
    "        # This happens if most points are on the top of the rail (usually max_z close to 0.02)\n",
    "        # Calculate the mean of the range for points above -0.01\n",
    "        # (this makes sure we get the approx. railhead width)\n",
    "        transformed_x_upper = transformed[transformed[:,2] > -0.01][:,0]\n",
    "        center_x = (transformed_x_upper.max() + transformed_x_upper.min()) / 2\n",
    "        # only consider points above the centroid\n",
    "        center_z = np.percentile(transformed[transformed[:,2] > 0][:,2], lowerpercentile)\n",
    "        side = 0\n",
    "    else:\n",
    "        # Many points are on the side of the rail (usually the max_z around 0.04)\n",
    "        # but we need check which side \n",
    "\n",
    "        if side is None:\n",
    "            side = which_side(transformed)\n",
    "\n",
    "        # x values of points above the centroid\n",
    "        # (there might be outliers in the lower part of the cluster)\n",
    "        transformed_x_upper = transformed[transformed[:,2] > 0][:,0]\n",
    "\n",
    "        if side < 0:\n",
    "            # left side\n",
    "            # Only consider one quadrant in the transformed space\n",
    "            # This makes clusters with more or less points on the rail top more comparable\n",
    "            min_x = np.percentile(transformed_x_upper[transformed_x_upper < 0],100-lowerpercentile)\n",
    "            center_x = min_x + railhead_width / 2\n",
    "        else:\n",
    "            max_x = np.percentile(transformed_x_upper[transformed_x_upper > 0],lowerpercentile)\n",
    "            center_x = max_x - railhead_width / 2 \n",
    "        center_z = np.percentile(transformed[transformed[:,2] > 0][:,2], upperpercentile)\n",
    "\n",
    "    \n",
    "    transformed_representive = np.array([center_x, 0, center_z])\n",
    "\n",
    "    if noinverse:\n",
    "        return transformed_representive, side\n",
    "\n",
    "    return transformed_representive @ transformmatrix.T + center, side"
   ]
  },
  {
   "cell_type": "code",
   "execution_count": 205,
   "metadata": {},
   "outputs": [],
   "source": [
    "def get_transformmatrix(cluster, cluster_other, clustercenter, clustercenter_other, eigenvects):\n",
    "    # Use the top part of the rail clusters to circumvent the problem different point distributions\n",
    "    top = cluster[:,2].max()\n",
    "    top_other = cluster_other[:,2].max()\n",
    "    topcenter = np.array([clustercenter[0], clustercenter[1], top])\n",
    "    topcenter_other = np.array([clustercenter_other[0], clustercenter_other[1], top_other])\n",
    "    sidevector = topcenter - topcenter_other\n",
    "    # Project on the plane perpendicular to the first eigenvector\n",
    "    # (eigenvects are normalized)\n",
    "    projection_on_first_eig = (sidevector @ eigenvects.T[0]) * eigenvects.T[0]\n",
    "    sidevector_perpendicular = sidevector - projection_on_first_eig\n",
    "    sidevector_perpendicular = sidevector_perpendicular / np.linalg.norm(sidevector_perpendicular)\n",
    "    normal = np.cross(sidevector_perpendicular, eigenvects.T[0]) \n",
    "\n",
    "    matrix = np.array([sidevector_perpendicular, eigenvects.T[0], normal]).T\n",
    "\n",
    "    if normal[2] < 0:\n",
    "        Rx_180 = np.array([\n",
    "            [1,  0,  0],\n",
    "            [0, -1,  0],\n",
    "            [0,  0, -1]\n",
    "        ])\n",
    "        # Data in row vector, this is first the main rotation, than the rotation around the y axis\n",
    "        matrix = matrix @ Rx_180 \n",
    "\n",
    "    return matrix"
   ]
  },
  {
   "cell_type": "code",
   "execution_count": 206,
   "metadata": {},
   "outputs": [],
   "source": [
    "def draw_registration_result(source, target, transformation):\n",
    "    axes = axes = o3d.geometry.TriangleMesh().create_coordinate_frame(size=0.1)\n",
    "    source_temp = copy.deepcopy(source)\n",
    "    target_temp = copy.deepcopy(target)\n",
    "    source_temp.paint_uniform_color([1, 0.706, 0])\n",
    "    target_temp.paint_uniform_color([0, 0.651, 0.929])\n",
    "    source_temp.transform(transformation)\n",
    "    o3d.visualization.draw_geometries([source_temp, target_temp, axes])\n"
   ]
  },
  {
   "cell_type": "code",
   "execution_count": 207,
   "metadata": {},
   "outputs": [],
   "source": [
    "def load_clusters(preset):\n",
    "    fileleft = f\"clusterbeispiele/{preset}_l.ply\"\n",
    "    fileright = f\"clusterbeispiele/{preset}_r.ply\"\n",
    "    filepair = f\"clusterbeispiele/{preset}_pair.ply\"\n",
    "    if not os.path.exists(fileleft):\n",
    "        raise FileNotFoundError(f\"File {fileleft} not found\")\n",
    "    cluster = o3d.io.read_point_cloud(fileleft)\n",
    "    cluster_other = o3d.io.read_point_cloud(fileright)\n",
    "    cluster_pair = o3d.io.read_point_cloud(filepair)\n",
    "    return np.asarray(cluster.points) , np.asarray(cluster_other.points), np.asarray(cluster_pair.points)"
   ]
  },
  {
   "cell_type": "code",
   "execution_count": 208,
   "metadata": {},
   "outputs": [],
   "source": [
    "def cluster_generator(points, min_points):\n",
    "    if points.shape[0] < min_points:\n",
    "        return\n",
    "    \n",
    "    labels = dbscan_stretchz(points, min_points=min_points, stretch=4)\n",
    "    max_label = labels.max()\n",
    "    \n",
    "    for label in range(max_label + 1):\n",
    "        cluster = points[labels == label]\n",
    "        if cluster.shape[0] < min_points:\n",
    "            # Somehow this happens, must be a bug in open3d\n",
    "            continue\n",
    "\n",
    "        eigenvals, eigenvects = pca(cluster)\n",
    "        cluster_linearity = linearity(eigenvals)\n",
    "\n",
    "\n",
    "        if not ((cluster_linearity > linearity_tresh) and (eigenvals[0] > 0.04)):\n",
    "            # Cluster not linear or too short\n",
    "            continue\n",
    "\n",
    "        clustercenter = cluster.mean(axis=0)\n",
    "\n",
    "        # Make sure there are no points above the cluster\n",
    "        # (exclude clusters at the base of the track profile)\n",
    "        if not cluster_is_on_top(cluster, clustercenter, points):\n",
    "            continue\n",
    "        \n",
    "\n",
    "        yield cluster, clustercenter, eigenvals, eigenvects\n",
    "\n",
    "\n",
    "def check_cluster_for_railpair(clustercenter, eigenvects, pointcloud, tree, gauge, min_points):\n",
    "\n",
    "    # Check for rail pair\n",
    "    sidevector = np.cross(eigenvects[:,0], np.array([0, 0, 1])) * (gauge + 0.07) # Add railtop width to gauge\n",
    "    bothsides = np.array([clustercenter + sidevector, clustercenter - sidevector])\n",
    "\n",
    "    indices_bothsides = tree.query_ball_point(bothsides, r=neighborhood_radius)\n",
    "    \n",
    "    # Linear cluster that is closest to one of the estimated side points (ignoring z)\n",
    "    # but must me within r = 15 cm and almost parallel\n",
    "\n",
    "    closest_cluster_distance = np.inf\n",
    "    closest_cluster = None\n",
    "    closest_cluster_center = None\n",
    "    \n",
    "    for j, side in enumerate(indices_bothsides):\n",
    "        for sidecluster, sideclustercenter, _, eigenvects_side in cluster_generator(pointcloud[side], min_points):\n",
    "            \n",
    "            # Check distance\n",
    "            sidecluster_distance = np.linalg.norm(sideclustercenter[:2] - bothsides[j][:2]) # only xy\n",
    "            if sidecluster_distance < thresh_side_distance and sidecluster_distance < closest_cluster_distance:\n",
    "                # Check if parallel\n",
    "                cos_angle = np.abs(np.dot(eigenvects[:,0], eigenvects_side[:,0]))\n",
    "                if cos_angle > 0.9:  \n",
    "                    closest_cluster = sidecluster\n",
    "                    closest_cluster_distance = sidecluster_distance\n",
    "                    closest_cluster_center = sideclustercenter\n",
    "\n",
    "    return closest_cluster, closest_cluster_center"
   ]
  },
  {
   "cell_type": "code",
   "execution_count": 209,
   "metadata": {},
   "outputs": [],
   "source": [
    "def pair_generator():\n",
    "\n",
    "    for i in range(seed_point_count):\n",
    "        for cluster, clustercenter, eigenvals, eigenvects in cluster_generator(xyz[indices[i]], min_points=min_points):\n",
    "            cluster_other, center_other = check_cluster_for_railpair(clustercenter, eigenvects, xyz, tree, gauge, min_points)\n",
    "            if cluster_other is not None:\n",
    "                yield cluster, clustercenter, cluster_other, center_other, eigenvects "
   ]
  },
  {
   "cell_type": "code",
   "execution_count": 210,
   "metadata": {},
   "outputs": [],
   "source": [
    "def get_o3d_transform(eigenvects, translation=None):\n",
    "    \"\"\"Create an open3d 4x4 transformation matrix from eigenvectors\n",
    "    \n",
    "    Version für 2 Schienen\n",
    "    \"\"\"\n",
    "    eigenvects = eigenvects.copy()\n",
    "\n",
    "    # Check if the last eigenvector is pointing down\n",
    "    if eigenvects[2,2] < 0: # z of last eigenvector is negative\n",
    "        # print(\"o3d trans was Upside down\")\n",
    "        # reflect\n",
    "        eigenvects[:,2] *= -1 # reflection \n",
    "\n",
    "    # There is a 50% chance that det(eigenvects) is close to -1\n",
    "    # (then the matrix includes a reflection)\n",
    "    if np.linalg.det(eigenvects) < 0:\n",
    "        # flip the first eigenvector\n",
    "        eigenvects[:,0] *= -1\n",
    "\n",
    "\n",
    "    transform = np.eye(4)\n",
    "    transform[0:3, 0:3] = eigenvects\n",
    "\n",
    "    if translation is not None:\n",
    "        transform[:3, 3] = translation\n",
    "    return transform"
   ]
  },
  {
   "cell_type": "code",
   "execution_count": 211,
   "metadata": {},
   "outputs": [],
   "source": [
    "templatefiles = [\n",
    "    \"T_profil_ähnlich_54E4.ply\", \n",
    "    \"T_profil_ähnlich_54E4_schräg_random2.ply\",\n",
    "    \"T_profil_ähnlich_54E4_schräg_random_wenig_punkte.ply\"\n",
    "    ]"
   ]
  },
  {
   "cell_type": "code",
   "execution_count": 212,
   "metadata": {},
   "outputs": [],
   "source": [
    "def get_template(filename):\n",
    "    shift = (gauge + railhead_width) / 2\n",
    "    pcd = o3d.io.read_point_cloud(os.path.join(\"templates\", filename))\n",
    "    left = np.asarray(pcd.points)\n",
    "    right = left.copy()\n",
    "    left[:,0] -= shift\n",
    "    right[:,0] += shift\n",
    "\n",
    "    pcd = o3d.geometry.PointCloud()\n",
    "    pcd.points = o3d.utility.Vector3dVector(np.vstack((left, right)))\n",
    "    return pcd"
   ]
  },
  {
   "cell_type": "code",
   "execution_count": 213,
   "metadata": {},
   "outputs": [],
   "source": [
    "def validate_registration(source, target, transformation,threshold=0.01, draw=False, crop=True, inverted=False, window_name=\"Validation\"):\n",
    "    \"\"\"Validate the registration\n",
    "    \n",
    "    Source = the template\n",
    "    Target = the point cloud of the cluster pair\n",
    "    \"\"\"\n",
    "    source = copy.deepcopy(source)\n",
    "    target = copy.deepcopy(target)\n",
    "    source.transform(transformation)\n",
    "\n",
    "    if inverted:\n",
    "        # Template is target, point cloud the source\n",
    "        target, source = source, target\n",
    "\n",
    "    if crop:\n",
    "        # Crop the target point cloud to the length of the template\n",
    "        bbox = source.get_oriented_bounding_box()\n",
    "\n",
    "        # make sure we only crop in the y direction of the oriented bounding box\n",
    "        # x is the direction from left to right rail\n",
    "        bbox_extent = np.array(bbox.extent) \n",
    "        bbox_extent[0] = 10\n",
    "        bbox_extent[2] = 10\n",
    "\n",
    "        bbox = o3d.geometry.OrientedBoundingBox(center=bbox.center, R=bbox.R, extent=bbox_extent)\n",
    "        target = target.crop(bbox)\n",
    "\n",
    "    total = len(target.points)\n",
    "\n",
    "    if total == 0:\n",
    "        if draw:\n",
    "            target.paint_uniform_color([1, 0, 0])\n",
    "            source.paint_uniform_color([1, 0.706, 0])\n",
    "            axes = axes = o3d.geometry.TriangleMesh().create_coordinate_frame(size=0.1)\n",
    "            o3d.visualization.draw_geometries([source, target, axes], window_name=window_name)\n",
    "        return {\n",
    "            \"total\": 0,\n",
    "            \"inliers\": 0,\n",
    "            \"inlier_ratio\": 0,\n",
    "            \"rmse_inliers\": 0,\n",
    "            \"rmse_all\": 0,\n",
    "            \"max_z_diff\": 0,\n",
    "        }\n",
    "\n",
    "    # For each point of the cropped cluster, find the nearest point in the template\n",
    "    # and check if it is within the threshold\n",
    "    tree = cKDTree(np.asarray(source.points)) \n",
    "    neighbors = tree.query(np.asarray(target.points), k=1)\n",
    "    dist = neighbors[0]\n",
    "    inliers = dist < threshold \n",
    "    n_inliers = inliers.sum() \n",
    "\n",
    "    rmse_inliers = np.sqrt((dist[inliers]**2).mean())\n",
    "    rmse_all = np.sqrt((dist**2).mean())\n",
    "\n",
    "    max_z_diff = np.abs(np.asarray(target.points)[:,2].max() - np.asarray(source.points)[:,2].max())\n",
    "\n",
    "    if draw:\n",
    "        colors = np.zeros((len(target.points), 3))\n",
    "        colors[inliers] = [0, 1, 0]\n",
    "        colors[~inliers] = [1, 0, 0]\n",
    "        target.colors = o3d.utility.Vector3dVector(colors)\n",
    "        source.paint_uniform_color([1, 0.706, 0])\n",
    "        axes = axes = o3d.geometry.TriangleMesh().create_coordinate_frame(size=0.1)\n",
    "        o3d.visualization.draw_geometries([source, target, axes], window_name=window_name)\n",
    "\n",
    "\n",
    "    return {\n",
    "        \"total\": int(total),\n",
    "        \"inliers\": float(n_inliers),\n",
    "        \"inlier_ratio\": float(n_inliers / total),\n",
    "        \"rmse_inliers\": float(rmse_inliers),\n",
    "        \"rmse_all\": float(rmse_all),\n",
    "        \"max_z_diff\": float(max_z_diff),\n",
    "    }\n"
   ]
  },
  {
   "cell_type": "code",
   "execution_count": 214,
   "metadata": {},
   "outputs": [],
   "source": [
    "def calculate_correlation(cluster, transformmatrix, inverse=False):\n",
    "\n",
    "    cluster = cluster - cluster.mean(axis=0)\n",
    "    transformmatrix = transformmatrix[0:3, 0:3] \n",
    "    if inverse:\n",
    "        transformmatrix = transformmatrix.T\n",
    "\n",
    "    transformed = cluster @ transformmatrix\n",
    "    mask = transformed[:,2] > 0\n",
    "    corr_xy = np.corrcoef(transformed[:,0], transformed[:,1])[0,1]\n",
    "    corr_xy_upper = np.corrcoef(transformed[mask][:,0], transformed[mask][:,1])[0,1]\n",
    "    corr_xy_lower = np.corrcoef(transformed[~mask][:,0], transformed[~mask][:,1])[0,1]\n",
    "    corr_yz = np.corrcoef(transformed[:,1], transformed[:,2])[0,1]\n",
    "\n",
    "    return {\n",
    "        \"corr_xy\": np.abs(corr_xy),\n",
    "        \"corr_xy_upper\": np.abs(corr_xy_upper),\n",
    "        \"corr_yz\": np.abs(corr_yz),\n",
    "       # \"corr_xy_lower\": np.abs(corr_xy_lower),\n",
    "    }"
   ]
  },
  {
   "cell_type": "code",
   "execution_count": 215,
   "metadata": {},
   "outputs": [],
   "source": [
    "def init_csv(folder, filename):\n",
    "    \"\"\"Initialize the CSV file with the header\"\"\"\n",
    "    filename = os.path.join(folder, filename)\n",
    "    print(os.path.abspath(filename))\n",
    "    if os.path.exists(filename):\n",
    "        return filename\n",
    "    os.makedirs(folder, exist_ok=True)\n",
    "\n",
    "    with open(filename,\"w\") as f:\n",
    "        writer = csv.writer(f)\n",
    "        writer.writerow([\n",
    "            \"file\",\n",
    "            \"template\",\n",
    "            \"cluster_id\", \n",
    "            \"how\", \n",
    "            \"direction\",\n",
    "            \"shift_z\",\n",
    "            \"total\",\n",
    "            \"inliers\", \n",
    "            \"inlier_ratio\", \n",
    "            \"rmse_inliers\", \n",
    "            \"rmse_all\", \n",
    "            \"max_z_diff\", \n",
    "            \"corr_xy\", \n",
    "            \"corr_xy_upper\", \n",
    "            \"corr_yz\",\n",
    "            \"max_corr\",\n",
    "            \"icp_rmse\",\n",
    "            \"icp_fitness\",\n",
    "            \"side_a\",\n",
    "            \"side_b\",\n",
    "            \"not_same_side\",\n",
    "            \"time\"\n",
    "            ])\n",
    "    return filename"
   ]
  },
  {
   "cell_type": "code",
   "execution_count": 216,
   "metadata": {},
   "outputs": [],
   "source": [
    "def validate(cluster_this, cluster_other, cluster_pair, name, cluster_id, filepath, threshold=0.02):\n",
    "    _, eigenvects = pca(cluster_this)\n",
    "    _, eigenvects_pair = pca(cluster_pair)\n",
    "\n",
    "    center = get_central_point(cluster_this.mean(axis=0), cluster_other.mean(axis=0))\n",
    "    centered = cluster_pair - center\n",
    "\n",
    "    centered_pcd = o3d.geometry.PointCloud()\n",
    "    centered_pcd.points = o3d.utility.Vector3dVector(centered)\n",
    "\n",
    "    # Template 1 is used to validate ALL verions\n",
    "    val_template = get_template(templatefiles[1])\n",
    "\n",
    "    # First check my version\n",
    "    source = copy.deepcopy(val_template)\n",
    "    target = copy.deepcopy(centered_pcd)\n",
    "    \n",
    "    plottransform = get_transformmatrix(cluster_this, cluster_other, cluster_this.mean(axis=0), cluster_other.mean(axis=0), eigenvects)\n",
    "\n",
    "    start = time.time()\n",
    "\n",
    "    # The representive point is a translation relative to the transformmatrix \n",
    "    shift_a, side_a  = representive_point_3(cluster_this, plottransform, railhead_width=0.067, noinverse=True) \n",
    "    shift_b, side_b = representive_point_3(cluster_other, plottransform, railhead_width=0.067, noinverse=True)\n",
    "\n",
    "    # Check if both are classified as the same side\n",
    "    # but a zero and non zero value is not a problem\n",
    "    if side_a * side_b < 0:\n",
    "        # Update the cluster with lower confidence of the side estimation\n",
    "        if np.abs(side_a) < np.abs(side_b):\n",
    "            shift_a, side_a  = representive_point_3(cluster_this, plottransform, railhead_width=0.067, side=side_b, noinverse=True)\n",
    "        else:\n",
    "            shift_b, side_b = representive_point_3(cluster_other, plottransform,  railhead_width=0.067, side=side_a, noinverse=True)\n",
    "\n",
    "    runtime = time.time() - start\n",
    "\n",
    "    shift_mean = (shift_a + shift_b) / 2\n",
    "\n",
    "    # Must shift template before rotation\n",
    "    shift = np.eye(4)\n",
    "    shift[0:3,3] = shift_mean\n",
    "    source = copy.deepcopy(source)\n",
    "    source.transform(shift)\n",
    "\n",
    "    transform = np.eye(4)\n",
    "    transform[0:3,0:3] = plottransform \n",
    "\n",
    "    result = validate_registration(source, target, transform)\n",
    "    corr_this = calculate_correlation(cluster_this, transform)\n",
    "    corr_other = calculate_correlation(cluster_other, transform)\n",
    "    max_corr = max(max(corr_this.values()), max(corr_other.values()))\n",
    "\n",
    "    with open(filepath, \"a\") as f:\n",
    "        writer = csv.writer(f)\n",
    "        writer.writerow([\n",
    "            name,\n",
    "            \"\", # Template number\n",
    "            cluster_id,\n",
    "            \"My\",\n",
    "            \"None\",\n",
    "            0, # Shift\n",
    "            result[\"total\"],\n",
    "            result[\"inliers\"],\n",
    "            result[\"inlier_ratio\"],\n",
    "            result[\"rmse_inliers\"],\n",
    "            result[\"rmse_all\"],\n",
    "            result[\"max_z_diff\"],\n",
    "            corr_this[\"corr_xy\"],\n",
    "            corr_this[\"corr_xy_upper\"],\n",
    "            corr_this[\"corr_yz\"],\n",
    "            max_corr,\n",
    "            \"\", # ICP RMSE\n",
    "            \"\", # ICP Fitness\n",
    "            side_a,\n",
    "            side_b,\n",
    "            int(side_a * side_b < 0),\n",
    "            runtime,\n",
    "        ])\n",
    "\n",
    "\n",
    "\n",
    "\n",
    "    for templatenr, templatefile in enumerate(templatefiles): \n",
    "        template = get_template(templatefile)\n",
    "\n",
    "\n",
    "        # With ICP\n",
    "        variants = {\n",
    "            \"to_point\": o3d.pipelines.registration.TransformationEstimationPointToPoint(),\n",
    "            \"to_plane\": o3d.pipelines.registration.TransformationEstimationPointToPlane(),\n",
    "        }\n",
    "\n",
    "        for translation in [np.array([0, 0, 0]), np.array([0, 0, 0.03])]:\n",
    "            for move_template in [True, False]:\n",
    "                if move_template:\n",
    "                    source = copy.deepcopy(template)\n",
    "                    source_val = copy.deepcopy(val_template)\n",
    "                    target = copy.deepcopy(centered_pcd)\n",
    "                    target_val = target\n",
    "                    trans_init = get_o3d_transform(eigenvects_pair, translation)\n",
    "                    direction = \"src=tem\"\n",
    "                else:\n",
    "                    source = copy.deepcopy(centered_pcd)\n",
    "                    source_val = source\n",
    "                    target = copy.deepcopy(template)\n",
    "                    target_val = copy.deepcopy(val_template)\n",
    "                    trans_init = get_o3d_transform(eigenvects_pair.T, -translation)\n",
    "                    direction = \"src=pcl\"\n",
    "                    \n",
    "                for variant, icp in variants.items(): \n",
    "                    start = time.time()\n",
    "                    if variant == \"to_plane\":\n",
    "                        # Compute normals\n",
    "                        nn_distance = np.mean(target.compute_nearest_neighbor_distance()) \n",
    "                        radius_normals = nn_distance * 4\n",
    "                        target.estimate_normals(\n",
    "                            search_param=o3d.geometry.KDTreeSearchParamHybrid(\n",
    "                                radius=radius_normals, \n",
    "                                max_nn=16), \n",
    "                            fast_normal_computation=True)\n",
    "\n",
    "                    reg = o3d.pipelines.registration.registration_icp(\n",
    "                        source, target, threshold, trans_init, icp)\n",
    "                    \n",
    "                    runtime = time.time() - start\n",
    "                    \n",
    "                    inverted = not move_template\n",
    "                    result = validate_registration(source_val, target_val, reg.transformation, 0.01, inverted=inverted)\n",
    "                    corr_this = calculate_correlation(cluster_this, reg.transformation, inverse=inverted)\n",
    "                    corr_other = calculate_correlation(cluster_other, reg.transformation, inverse=inverted)\n",
    "                    max_corr = max(max(corr_this.values()), max(corr_other.values()))\n",
    "\n",
    "                    with open(filepath, \"a\") as f:\n",
    "                        writer = csv.writer(f)\n",
    "                        writer.writerow([\n",
    "                            name,\n",
    "                            templatenr,\n",
    "                            cluster_id,\n",
    "                            f\"ICP {variant}\",\n",
    "                            direction,\n",
    "                            translation[2],\n",
    "                            result[\"total\"],\n",
    "                            result[\"inliers\"],\n",
    "                            result[\"inlier_ratio\"],\n",
    "                            result[\"rmse_inliers\"],\n",
    "                            result[\"rmse_all\"],\n",
    "                            result[\"max_z_diff\"],\n",
    "                            corr_this[\"corr_xy\"],\n",
    "                            corr_this[\"corr_xy_upper\"],\n",
    "                            corr_this[\"corr_yz\"],\n",
    "                            max_corr,\n",
    "                            reg.inlier_rmse,\n",
    "                            reg.fitness,\n",
    "                            \"\",\n",
    "                            \"\",\n",
    "                            \"\",\n",
    "                            runtime,\n",
    "                        ])\n",
    "\n"
   ]
  },
  {
   "cell_type": "code",
   "execution_count": 217,
   "metadata": {},
   "outputs": [
    {
     "name": "stdout",
     "output_type": "stream",
     "text": [
      "/home/riannek/code/gleis/versuche/validierung/clusterbeispielvalidierung.csv\n"
     ]
    },
    {
     "name": "stderr",
     "output_type": "stream",
     "text": [
      "/tmp/ipykernel_25301/724189624.py:53: RuntimeWarning: Mean of empty slice.\n",
      "  rmse_inliers = np.sqrt((dist[inliers]**2).mean())\n",
      "/home/riannek/miniconda3/envs/points/lib/python3.9/site-packages/numpy/_core/_methods.py:138: RuntimeWarning: invalid value encountered in scalar divide\n",
      "  ret = ret.dtype.type(ret / rcount)\n"
     ]
    },
    {
     "name": "stdout",
     "output_type": "stream",
     "text": [
      "Finished in 52.63756203651428 seconds\n"
     ]
    }
   ],
   "source": [
    "folder = \"validierung\"\n",
    "\n",
    "start = time.time()\n",
    "cluster_id = 0\n",
    "\n",
    "if useclusterexamples:\n",
    "    filename = \"clusterbeispielvalidierung.csv\"\n",
    "    filepath = init_csv(folder, filename)\n",
    "\n",
    "    for preset in clusterexamples:\n",
    "        cluster_this, cluster_other, cluster_pair = load_clusters(preset)\n",
    "        validate(cluster_this, cluster_other, cluster_pair, preset, cluster_id, filepath)\n",
    "        cluster_id += 1\n",
    "else:\n",
    "    filename = \"validierung_dateien.csv\"\n",
    "    filepath = init_csv(filename)\n",
    "    for cluster_this, clustercenter, cluster_other, center_other, eigenvects in pair_generator():\n",
    "        cluster_pair = np.vstack((cluster_this, cluster_other))\n",
    "        validate(cluster_this, cluster_other, cluster_pair, key, cluster_id, filepath)\n",
    "        cluster_id += 1\n",
    "\n",
    "print(\"Finished in\", time.time() - start, \"seconds\")"
   ]
  },
  {
   "cell_type": "code",
   "execution_count": 218,
   "metadata": {},
   "outputs": [
    {
     "ename": "ValueError",
     "evalue": "Stop here",
     "output_type": "error",
     "traceback": [
      "\u001b[0;31m---------------------------------------------------------------------------\u001b[0m",
      "\u001b[0;31mValueError\u001b[0m                                Traceback (most recent call last)",
      "Cell \u001b[0;32mIn[218], line 1\u001b[0m\n\u001b[0;32m----> 1\u001b[0m \u001b[38;5;28;01mraise\u001b[39;00m \u001b[38;5;167;01mValueError\u001b[39;00m(\u001b[38;5;124m\"\u001b[39m\u001b[38;5;124mStop here\u001b[39m\u001b[38;5;124m\"\u001b[39m)\n",
      "\u001b[0;31mValueError\u001b[0m: Stop here"
     ]
    }
   ],
   "source": [
    "raise ValueError(\"Stop here\")"
   ]
  },
  {
   "cell_type": "code",
   "execution_count": null,
   "metadata": {},
   "outputs": [
    {
     "name": "stdout",
     "output_type": "stream",
     "text": [
      "-0.9682539682539683 -0.992818671454219\n",
      "Switched clusters\n"
     ]
    },
    {
     "data": {
      "image/png": "[encoded data removed]",
      "text/plain": [
       "<Figure size 1500x700 with 2 Axes>"
      ]
     },
     "metadata": {},
     "output_type": "display_data"
    },
    {
     "data": {
      "image/png": "[encoded data removed]",
      "text/plain": [
       "<Figure size 1000x1500 with 1 Axes>"
      ]
     },
     "metadata": {},
     "output_type": "display_data"
    },
    {
     "name": "stdout",
     "output_type": "stream",
     "text": [
      "T_profil_ähnlich_54E4.ply\n"
     ]
    }
   ],
   "source": [
    "preset = \"VieleZ\"\n",
    "\n",
    "translation = translations[0]\n",
    "\n",
    "\n",
    "\n",
    "cluster_this, cluster_other, cluster_pair = load_clusters(preset)\n",
    "_, eigenvects = pca(cluster_this)\n",
    "plottransform = get_transformmatrix(cluster_this, cluster_other, cluster_this.mean(axis=0), cluster_other.mean(axis=0), eigenvects)\n",
    "\n",
    "point_this, side_a = representive_point_3(cluster_this, plottransform)\n",
    "point_other, side_b = representive_point_3(cluster_other, plottransform)\n",
    "print(side_a, side_b)\n",
    "if side_a * side_b < 0:\n",
    "    print(\"Different sides\")\n",
    "    # Update the cluster with lower confidence of the side estimation\n",
    "    if np.abs(side_a) < np.abs(side_b):\n",
    "        point_this, side_a  = representive_point_3(cluster_this, plottransform, railhead_width=0.067, side=side_b)\n",
    "    else:\n",
    "        point_other, side_b = representive_point_3(cluster_other, plottransform,  railhead_width=0.067, side=side_a)\n",
    "\n",
    "plot_cluster_pair(cluster_this, cluster_other, plottransform, percentile=95, railhead_width = 0.067, centering=\"cluster\", point_this=point_this, point_other=point_other);\n",
    "\n",
    "plot_cluster(cluster_pair, plottransform);\n",
    "print(templatefile)"
   ]
  },
  {
   "cell_type": "code",
   "execution_count": null,
   "metadata": {},
   "outputs": [
    {
     "name": "stdout",
     "output_type": "stream",
     "text": [
      "Translation None\n",
      "o3d trans was Upside down\n",
      "Evaluate initial alignment\n",
      "RegistrationResult with fitness=2.401974e-01, inlier_rmse=1.458245e-02, and correspondence_set size of 3651\n",
      "Access transformation to get result.\n",
      "{'total': 983, 'inliers': 143.0, 'inlier_ratio': 0.14547304170905392, 'rmse_inliers': 0.006648313019235073, 'rmse_all': 0.026161573569350772, 'max_z_diff': 0.05359484912977337}\n"
     ]
    }
   ],
   "source": [
    "_, eigenvects_pair = pca(cluster_pair)\n",
    "\n",
    "# center = cluster_pair.mean(axis=0) # Funktioniert nicht bei Lücke \n",
    "center = get_central_point(cluster_this.mean(axis=0), cluster_other.mean(axis=0))\n",
    "centered = cluster_pair - center\n",
    "\n",
    "centered_pcd = o3d.geometry.PointCloud()\n",
    "centered_pcd.points = o3d.utility.Vector3dVector(centered)\n",
    "\n",
    "\n",
    "print(\"Translation\", translation)\n",
    "trans_init = get_o3d_transform(eigenvects_pair, translation)\n",
    "\n",
    "target = centered_pcd\n",
    "source = get_template(templatefile)\n",
    "\n",
    "o3d.visualization.draw_geometries([source, target], window_name=\"Initial configuration (NO TRANSFORM)\")\n",
    "\n",
    "\n",
    "print(\"Evaluate initial alignment\")\n",
    "evaluation = o3d.pipelines.registration.evaluate_registration(\n",
    "    source, target, threshold, trans_init)\n",
    "print(evaluation)\n",
    "\n",
    "print(validate_registration(source, target, trans_init, 0.01, draw=True, window_name=\"Initial transformation\"))\n",
    "\n",
    "\n",
    "if translation is None:\n",
    "    tr_string = \"None\"\n",
    "else:\n",
    "    tr_string = str(translation[2])\n",
    "\n",
    "# draw_registration_result(source, target, trans_init)"
   ]
  },
  {
   "cell_type": "markdown",
   "metadata": {},
   "source": [
    "### Point to Point ICP"
   ]
  },
  {
   "cell_type": "code",
   "execution_count": null,
   "metadata": {},
   "outputs": [
    {
     "name": "stdout",
     "output_type": "stream",
     "text": [
      "Apply point-to-point ICP\n",
      "RegistrationResult with fitness=2.790132e-01, inlier_rmse=1.364070e-02, and correspondence_set size of 4241\n",
      "Access transformation to get result.\n",
      "Transformation is:\n",
      "[[ 0.26662764  0.95512906  0.12898908  0.00468452]\n",
      " [-0.96378903  0.26485324  0.0310396  -0.00533118]\n",
      " [-0.00451635 -0.13259428  0.99116011  0.02102472]\n",
      " [ 0.          0.          0.          1.        ]]\n",
      "Time: 0.0825796127319336\n",
      "\n",
      "{'total': 335, 'inliers': 183.0, 'inlier_ratio': 0.5462686567164179, 'rmse_inliers': 0.005830798073354764, 'rmse_all': 0.01697292779497657, 'max_z_diff': 0.00910620518409927}\n",
      "Achszaehler2_t0_zTransfNone_point\n",
      "corr this {'corr_xy': np.float64(0.11691326898427484), 'corr_xy_upper': np.float64(0.07626431311531606), 'corr_yz': np.float64(0.7521880065727675)}\n",
      "corr other {'corr_xy': np.float64(0.7462854955214779), 'corr_xy_upper': np.float64(0.7508529257745293), 'corr_yz': np.float64(0.742909314563991)}\n",
      "max corr 0.7521880065727675\n"
     ]
    }
   ],
   "source": [
    "start = time.time()\n",
    "print(\"Apply point-to-point ICP\")\n",
    "reg_p2p = o3d.pipelines.registration.registration_icp(\n",
    "    source, target, threshold, trans_init,\n",
    "    o3d.pipelines.registration.TransformationEstimationPointToPoint())\n",
    "print(reg_p2p)\n",
    "print(\"Transformation is:\")\n",
    "print(reg_p2p.transformation)\n",
    "print(\"Time:\", time.time() - start)\n",
    "print()\n",
    "print(validate_registration(source, target, reg_p2p.transformation, 0.01, draw=True, window_name=\"Point-to-point ICP\"))\n",
    "print(f\"{preset}_t{templatenr}_zTransf{tr_string}_point\")\n",
    "\n",
    "corr_this = calculate_correlation(cluster_this, reg_p2p.transformation)\n",
    "corr_other = calculate_correlation(cluster_other, reg_p2p.transformation)\n",
    "print(\"corr this\",corr_this )\n",
    "print(\"corr other\", corr_other)\n",
    "print(\"max corr\", max(max(corr_this.values()), max(corr_other.values())))\n",
    "\n",
    "\n",
    "# draw_registration_result(source, target, reg_p2p.transformation)"
   ]
  },
  {
   "cell_type": "markdown",
   "metadata": {},
   "source": [
    "### Point to Plane ICP"
   ]
  },
  {
   "cell_type": "code",
   "execution_count": null,
   "metadata": {},
   "outputs": [
    {
     "name": "stdout",
     "output_type": "stream",
     "text": [
      "Apply point-to-plane ICP\n",
      "nn distance 0.007903435254969074\n",
      "RegistrationResult with fitness=2.807237e-01, inlier_rmse=1.060341e-02, and correspondence_set size of 4267\n",
      "Access transformation to get result.\n",
      "Transformation is:\n",
      "[[-4.68678816e-01  8.83367473e-01 -1.44010633e-03  1.52185332e-01]\n",
      " [-8.83365666e-01 -4.68680847e-01 -1.83409151e-03 -5.66910850e-02]\n",
      " [-2.29512704e-03  4.12540654e-04  9.99997281e-01  1.00917769e-02]\n",
      " [ 0.00000000e+00  0.00000000e+00  0.00000000e+00  1.00000000e+00]]\n",
      "Time: 0.11876726150512695\n",
      "{'total': 1001, 'inliers': 545.0, 'inlier_ratio': 0.5444555444555444, 'rmse_inliers': 0.006254333266362472, 'rmse_all': 0.01891298680667021, 'max_z_diff': 0.04891169631101453}\n",
      "VieleZ_t0_None_plane\n",
      "corr this {'corr_xy': np.float64(0.00866204032777891), 'corr_xy_upper': np.float64(0.010480058640614243), 'corr_yz': np.float64(0.006223494342628613)}\n",
      "corr other {'corr_xy': np.float64(0.03725641312521485), 'corr_xy_upper': np.float64(0.09267512219328511), 'corr_yz': np.float64(0.006295242704917396)}\n",
      "max corr 0.09267512219328511\n"
     ]
    }
   ],
   "source": [
    "start = time.time()\n",
    "print(\"Apply point-to-plane ICP\")\n",
    "\n",
    "# Point-to-plane ICP requires normals for the target\n",
    "nn_distance = np.mean(target.compute_nearest_neighbor_distance())  \n",
    "print(\"nn distance\", nn_distance)  \n",
    "  \n",
    "#setting the radius search to compute normals  \n",
    "radius_normals=nn_distance*4  \n",
    "target.estimate_normals(search_param=o3d.geometry.KDTreeSearchParamHybrid(radius=radius_normals, max_nn=16), fast_normal_computation=True)  \n",
    "\n",
    "reg_p2l = o3d.pipelines.registration.registration_icp(\n",
    "    source, target, threshold, trans_init,\n",
    "    o3d.pipelines.registration.TransformationEstimationPointToPlane())\n",
    "print(reg_p2l)\n",
    "print(\"Transformation is:\")\n",
    "print(reg_p2l.transformation)\n",
    "print(\"Time:\", time.time() - start)\n",
    "print(validate_registration(source, target, reg_p2l.transformation, 0.01, draw=True, window_name=\"Point-to-plane ICP\"))\n",
    "print(f\"{preset}_t{templatenr}_{tr_string}_plane\")\n",
    "\n",
    "corr_this = calculate_correlation(cluster_this, reg_p2l.transformation)\n",
    "corr_other = calculate_correlation(cluster_other, reg_p2l.transformation)\n",
    "print(\"corr this\",corr_this )\n",
    "print(\"corr other\", corr_other)\n",
    "print(\"max corr\", max(max(corr_this.values()), max(corr_other.values())))\n",
    "\n",
    "# draw_registration_result(source, target, reg_p2l.transformation)"
   ]
  },
  {
   "cell_type": "markdown",
   "metadata": {},
   "source": [
    "## Meinen Ansatz evaluieren"
   ]
  },
  {
   "cell_type": "code",
   "execution_count": null,
   "metadata": {},
   "outputs": [
    {
     "name": "stdout",
     "output_type": "stream",
     "text": [
      "Same sides: True\n",
      "Shift A [0.01720441 0.         0.04713074]\n",
      "Shift B [0.01786547 0.         0.04691442]\n",
      "{'total': 986, 'inliers': 851.0, 'inlier_ratio': 0.8630831643002028, 'rmse_inliers': 0.006048022528716098, 'rmse_all': 0.007891916716528504, 'max_z_diff': 0.006127523209000556}\n",
      "corr this {'corr_xy': np.float64(5.4620552469245385e-15), 'corr_xy_upper': np.float64(0.008559971062259334), 'corr_yz': np.float64(4.2069912274803405e-17)}\n",
      "corr other {'corr_xy': np.float64(0.028238268878795377), 'corr_xy_upper': np.float64(0.07929899734709175), 'corr_yz': np.float64(0.00020760323486149245)}\n",
      "max corr 0.07929899734709175\n"
     ]
    }
   ],
   "source": [
    "shift_a, side_a  = representive_point_3(cluster_this, plottransform, railhead_width=0.067, noinverse=True) \n",
    "shift_b, side_b = representive_point_3(cluster_other, plottransform, railhead_width=0.067, noinverse=True)\n",
    "\n",
    "same_sides = (side_a * side_b >= 0)\n",
    "print(\"Same sides:\", same_sides)\n",
    "\n",
    "# Check if both are classified as the same side\n",
    "# but a zero and non zero value is not a problem\n",
    "if side_a * side_b < 0:\n",
    "    # Update the cluster with lower confidence of the side estimation\n",
    "    if np.abs(side_a) < np.abs(side_b):\n",
    "        shift_a, side_a  = representive_point_3(cluster_this, plottransform, railhead_width=0.067, side=side_b, noinverse=True)\n",
    "    else:\n",
    "        shift_b, side_b = representive_point_3(cluster_other, plottransform,  railhead_width=0.067, side=side_a, noinverse=True)\n",
    "\n",
    "shift = (shift_a + shift_b) / 2\n",
    "\n",
    "# Must template shift before rotation\n",
    "testshift = np.eye(4)\n",
    "testshift[0:3,3] = shift\n",
    "testsource = copy.deepcopy(source)\n",
    "testsource.transform(testshift)\n",
    "\n",
    "testtransform = np.eye(4)\n",
    "testtransform[0:3,0:3] = plottransform \n",
    "\n",
    "\n",
    "print(validate_registration(testsource, target, testtransform, 0.01, draw=True, crop=True, window_name=\"Mein Ansatz\"))\n",
    "corr_this = calculate_correlation(cluster_this, testtransform)\n",
    "corr_other = calculate_correlation(cluster_other, testtransform)\n",
    "print(\"corr this\",corr_this )\n",
    "print(\"corr other\", corr_other)\n",
    "print(\"max corr\", max(max(corr_this.values()), max(corr_other.values())))"
   ]
  },
  {
   "cell_type": "markdown",
   "metadata": {},
   "source": [
    "## Point to Plane, target source vertauscht"
   ]
  },
  {
   "cell_type": "code",
   "execution_count": null,
   "metadata": {},
   "outputs": [
    {
     "name": "stdout",
     "output_type": "stream",
     "text": [
      "o3d trans was Upside down\n",
      "Evaluate initial alignment\n",
      "RegistrationResult with fitness=3.148426e-01, inlier_rmse=1.135394e-02, and correspondence_set size of 210\n",
      "Access transformation to get result.\n"
     ]
    }
   ],
   "source": [
    "source2 = centered_pcd\n",
    "target2 = get_template(templatefile)\n",
    "translation2 = translation\n",
    "if translation2 is not None:\n",
    "    translation2 = -translation2\n",
    "\n",
    "# translation2 = np.array([0, 0, -0.014535]) # Ab hier geht es daneben\n",
    "# translation2 = np.array([0, 0, 0])\n",
    "\n",
    "trans_init2 = get_o3d_transform(eigenvects_pair.T, translation2) # eigenvects.T because we need the inverse transformation\n",
    "\n",
    "print(\"Evaluate initial alignment\")\n",
    "evaluation = o3d.pipelines.registration.evaluate_registration(\n",
    "    source2, target2, threshold, trans_init2)\n",
    "print(evaluation)\n",
    "\n",
    "\n",
    "# draw_registration_result(source2, target2, trans_init2)\n"
   ]
  },
  {
   "cell_type": "code",
   "execution_count": null,
   "metadata": {},
   "outputs": [
    {
     "name": "stdout",
     "output_type": "stream",
     "text": [
      "Apply point-to-plane ICP, Source = Cluster, Target = Template\n",
      "nn distance 0.0049999999999999975\n",
      "RegistrationResult with fitness=4.092954e-01, inlier_rmse=1.120073e-02, and correspondence_set size of 273\n",
      "Access transformation to get result.\n",
      "Transformation is:\n",
      "[[ 0.2344197  -0.97213497  0.00100095  0.01956561]\n",
      " [ 0.97212242  0.23441108 -0.00542713  0.27959794]\n",
      " [ 0.00504127  0.00224528  0.99998477 -0.03251639]\n",
      " [ 0.          0.          0.          1.        ]]\n",
      "Time: 0.05229640007019043\n",
      "VieleZ_t0_None_plane_vertauscht\n",
      "{'total': 302, 'inliers': 134.0, 'inlier_ratio': 0.44370860927152317, 'rmse_inliers': 0.006467161021426168, 'rmse_all': 0.01355790710548964, 'max_z_diff': 0.01452166057419979}\n",
      "corr this {'corr_xy': np.float64(0.9962260130733801), 'corr_xy_upper': np.float64(0.9952174138970766), 'corr_yz': np.float64(0.04839652051181151)}\n",
      "corr other {'corr_xy': np.float64(0.9962247214563716), 'corr_xy_upper': np.float64(0.9984317716298489), 'corr_yz': np.float64(0.05693595260604062)}\n",
      "max corr 0.9984317716298489\n"
     ]
    }
   ],
   "source": [
    "start = time.time()\n",
    "print(\"Apply point-to-plane ICP, Source = Cluster, Target = Template\")\n",
    "\n",
    "# Point-to-plane ICP requires normals for the target\n",
    "nn_distance = np.mean(target2.compute_nearest_neighbor_distance())  \n",
    "print(\"nn distance\", nn_distance)  \n",
    "  \n",
    "#setting the radius search to compute normals  \n",
    "radius_normals=nn_distance*4  \n",
    "target2.estimate_normals(search_param=o3d.geometry.KDTreeSearchParamHybrid(radius=radius_normals, max_nn=16), fast_normal_computation=True)  \n",
    "\n",
    "\n",
    "# loss = o3d.pipelines.registration.HuberLoss(k=0.05)\n",
    "\n",
    "\n",
    "reg_p2l = o3d.pipelines.registration.registration_icp(\n",
    "    source2, target2, threshold, trans_init2,\n",
    "    o3d.pipelines.registration.TransformationEstimationPointToPlane(\n",
    "       # loss\n",
    "        ))\n",
    "print(reg_p2l)\n",
    "print(\"Transformation is:\")\n",
    "print(reg_p2l.transformation)\n",
    "print(\"Time:\", time.time() - start)\n",
    "print(f\"{preset}_t{templatenr}_{tr_string}_plane_vertauscht\")\n",
    "\n",
    "print(validate_registration(source2, target2, reg_p2l.transformation, 0.01, draw=True, crop=True, window_name=\"Point2Plane Target=Template\", inverted=True))\n",
    "\n",
    "corr_this = calculate_correlation(cluster_this, reg_p2l.transformation, inverse=True)\n",
    "corr_other = calculate_correlation(cluster_other, reg_p2l.transformation, inverse=True)\n",
    "print(\"corr this\",corr_this )\n",
    "print(\"corr other\", corr_other)\n",
    "print(\"max corr\", max(max(corr_this.values()), max(corr_other.values())))\n",
    "# draw_registration_result(source, target, reg_p2l.transformation)"
   ]
  },
  {
   "cell_type": "markdown",
   "metadata": {},
   "source": [
    "Threshold 0.02\n",
    "\n",
    "\n",
    "Clusterpaar|Template|None Point|None Plain|0.03 Point|0.03 Plain|None PlaneV|0.03 PlaneV\n",
    "---|:---:|---:|---:|---:|---:|---:|---: \n",
    "ObenNull1|0|2|2|2|2|2|0\n",
    "ObenNull1|1|2|2|2|2|2|0\n",
    "ObenNull1|2|2|2|2|2|2|0\n",
    "ObenundSeite|0|2|2|2|2|2|0\n",
    "ObenundSeite|1|2|2|2|2|2|0\n",
    "ObenundSeite|2|2|2|2|2|2|0\n",
    "VieleGleiseEherTop|0|2|2|2|2|2|2\n",
    "VieleGleiseEherTop|1|2|2|2|2|2|0\n",
    "VieleGleiseEherTop|2|2|2|2|2|2|2\n",
    "PunkteSeiteVieleAusreisser|0|2|2|2|2|2|2\n",
    "PunkteSeiteVieleAusreisser|1|2|2|2|2|2|2\n",
    "PunkteSeiteVieleAusreisser|2|0|0|2|2|2|2\n",
    "PunkteSeite|0|2|0|2|2|2|2\n",
    "PunkteSeite|1|2|0|2|2|2|2\n",
    "PunkteSeite|3|0|0|2|2|2|2\n",
    "VieleSchürhaken|0|0|0|2|2|2|2\n",
    "VieleSchürhaken|1|0|0|2|2|2|2\n",
    "VieleSchürhaken|2|0|0|0|0|0|0\n",
    "VieleZ|0|0|0|2|0\n",
    "VieleZ|1|0|0|2|0\n",
    "VieleZ|0|0|0|2|2\n",
    "VieleLückeMitte|0|0|0|1|0|0|0\n",
    "VieleLückeMitte|1|0|0|0|0|0|0\n",
    "VieleLückeMitte|2|0|0|0|0|0|0\n",
    "\n",
    "\n",
    "Bei t1 plane vertauscht verrutscht"
   ]
  },
  {
   "cell_type": "markdown",
   "metadata": {},
   "source": [
    "- threshold: Wenn Abstand nächster Nachbar größer, dann Punkt = Outlier, ignorieren\n",
    "- init transform: wenn threshold zu klein, findet ICP die richtige Richtung nicht\n",
    "- Problem: Punkte sehr eng entlang Scanlinien, aber Scanlinien weit auseinander\n",
    "- RMSE wird nur auf den Inliern berechnet\n",
    "    - hängt von threshold und dem Abstand der Scanlinien ab!\n",
    "    - wenn Template = Source: Inlier = Alle Punkte im Template mit Abstand kleiner threshold, Löcher im Netz der Scanlinien\n",
    "    - daher wenig aussagekräftig\n",
    "- fitness = Anz. Inlier / Anz. Points in Target\n",
    "    - Wenn Target= Cluster, dann hängt das stark von Länge des Clusters ab\n",
    "- Idee: \n",
    "    - ICP mit Template als Source scheint besser zu funktionieren\n",
    "    - Aber RMSE und Fitness andersrum macht mehr Sinn und das kann anschließend gemacht werden:\n",
    "        - dann mit kleinem Threshold möglich\n",
    "        - jeder Punkt im Cluster sollte einen nahen Punkt im Template haben\n",
    "        - Dabei muss die inverse Transformationsmatrix an `o3d.pipelines.registration.evaluate_registration` übergeben werden  \n",
    "        - Allerdings ist fitness dann nicht aussagekräftig (Cluster kann viel länger als Template sein) "
   ]
  },
  {
   "cell_type": "code",
   "execution_count": null,
   "metadata": {},
   "outputs": [],
   "source": []
  },
  {
   "cell_type": "code",
   "execution_count": null,
   "metadata": {},
   "outputs": [],
   "source": []
  }
 ],
 "metadata": {
  "kernelspec": {
   "display_name": "points",
   "language": "python",
   "name": "points"
  },
  "language_info": {
   "codemirror_mode": {
    "name": "ipython",
    "version": 3
   },
   "file_extension": ".py",
   "mimetype": "text/x-python",
   "name": "python",
   "nbconvert_exporter": "python",
   "pygments_lexer": "ipython3",
   "version": "3.9.21"
  }
 },
 "nbformat": 4,
 "nbformat_minor": 2
}
