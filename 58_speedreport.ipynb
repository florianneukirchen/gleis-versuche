{
 "cells": [
  {
   "cell_type": "code",
   "execution_count": 51,
   "id": "5b12a03b",
   "metadata": {},
   "outputs": [],
   "source": [
    "import pandas as pd \n",
    "import os \n",
    "import numpy as np\n",
    "import matplotlib.pyplot as plt\n",
    "import seaborn as sns\n",
    "import geopandas as gpd"
   ]
  },
  {
   "cell_type": "code",
   "execution_count": 53,
   "id": "8a87f8e8",
   "metadata": {},
   "outputs": [
    {
     "data": {
      "text/html": [
       "<div>\n",
       "<style scoped>\n",
       "    .dataframe tbody tr th:only-of-type {\n",
       "        vertical-align: middle;\n",
       "    }\n",
       "\n",
       "    .dataframe tbody tr th {\n",
       "        vertical-align: top;\n",
       "    }\n",
       "\n",
       "    .dataframe thead th {\n",
       "        text-align: right;\n",
       "    }\n",
       "</style>\n",
       "<table border=\"1\" class=\"dataframe\">\n",
       "  <thead>\n",
       "    <tr style=\"text-align: right;\">\n",
       "      <th></th>\n",
       "      <th>what</th>\n",
       "      <th>file</th>\n",
       "      <th>time</th>\n",
       "      <th>points</th>\n",
       "    </tr>\n",
       "  </thead>\n",
       "  <tbody>\n",
       "    <tr>\n",
       "      <th>0</th>\n",
       "      <td>Lesen</td>\n",
       "      <td>4475525_5341275.copc.laz</td>\n",
       "      <td>1.030543</td>\n",
       "      <td>1298026</td>\n",
       "    </tr>\n",
       "    <tr>\n",
       "      <th>1</th>\n",
       "      <td>Voxelfilter</td>\n",
       "      <td>4475525_5341275.copc.laz</td>\n",
       "      <td>4.606606</td>\n",
       "      <td>145607</td>\n",
       "    </tr>\n",
       "    <tr>\n",
       "      <th>2</th>\n",
       "      <td>Lesen</td>\n",
       "      <td>4475625_5341350.copc.laz</td>\n",
       "      <td>0.248658</td>\n",
       "      <td>268017</td>\n",
       "    </tr>\n",
       "    <tr>\n",
       "      <th>3</th>\n",
       "      <td>Voxelfilter</td>\n",
       "      <td>4475625_5341350.copc.laz</td>\n",
       "      <td>1.044499</td>\n",
       "      <td>28071</td>\n",
       "    </tr>\n",
       "    <tr>\n",
       "      <th>4</th>\n",
       "      <td>Lesen</td>\n",
       "      <td>4478600_5350025.copc.laz</td>\n",
       "      <td>0.212417</td>\n",
       "      <td>192602</td>\n",
       "    </tr>\n",
       "  </tbody>\n",
       "</table>\n",
       "</div>"
      ],
      "text/plain": [
       "          what                      file      time   points\n",
       "0        Lesen  4475525_5341275.copc.laz  1.030543  1298026\n",
       "1  Voxelfilter  4475525_5341275.copc.laz  4.606606   145607\n",
       "2        Lesen  4475625_5341350.copc.laz  0.248658   268017\n",
       "3  Voxelfilter  4475625_5341350.copc.laz  1.044499    28071\n",
       "4        Lesen  4478600_5350025.copc.laz  0.212417   192602"
      ]
     },
     "execution_count": 53,
     "metadata": {},
     "output_type": "execute_result"
    }
   ],
   "source": [
    "folder = \"/media/riannek/minimax/gleis/speed_run24\"\n",
    "df = pd.read_csv(os.path.join(folder, 'speedlog.csv'))\n",
    "df['file'] = df['file'].fillna(\"\")\n",
    "df['file'] = df['file'].apply(lambda x: os.path.basename(x))\n",
    "df['what'] = df['what'].replace({'voxelfilter': 'Voxelfilter', 'Growing lines': 'GrowingLines', 'Central points': 'zentrale Punkte', 'read': 'Lesen'})\n",
    "df.head()\n"
   ]
  },
  {
   "cell_type": "markdown",
   "id": "a44b4da5",
   "metadata": {},
   "source": [
    "Voxelfilter ist hier ohne read:"
   ]
  },
  {
   "cell_type": "code",
   "execution_count": 26,
   "id": "c698ffdd",
   "metadata": {},
   "outputs": [
    {
     "data": {
      "text/plain": [
       "what\n",
       "GrowingLines           16.215731\n",
       "Lesen                  47.557486\n",
       "Points with margin      0.000000\n",
       "Seed points             0.000000\n",
       "Voxelfilter           139.657766\n",
       "zentrale Punkte        90.838731\n",
       "Name: time, dtype: float64"
      ]
     },
     "execution_count": 26,
     "metadata": {},
     "output_type": "execute_result"
    }
   ],
   "source": [
    "grouped = df.groupby('what')['time'].sum()  / 60\n",
    "grouped  "
   ]
  },
  {
   "cell_type": "code",
   "execution_count": 29,
   "id": "9d40b7fa",
   "metadata": {},
   "outputs": [],
   "source": [
    "grouped['Voxelfilter'] = grouped['Voxelfilter'] + grouped['Lesen'] \n",
    "read = grouped['Lesen']\n",
    "grouped = grouped.drop('Lesen')\n",
    "grouped = grouped[grouped > 0]"
   ]
  },
  {
   "cell_type": "code",
   "execution_count": 35,
   "id": "54ba1c57",
   "metadata": {},
   "outputs": [
    {
     "data": {
      "text/plain": [
       "what\n",
       "GrowingLines        16.215731\n",
       "Voxelfilter        187.215252\n",
       "zentrale Punkte     90.838731\n",
       "Name: time, dtype: float64"
      ]
     },
     "execution_count": 35,
     "metadata": {},
     "output_type": "execute_result"
    }
   ],
   "source": [
    "grouped  "
   ]
  },
  {
   "cell_type": "code",
   "execution_count": 41,
   "id": "363f7ce3",
   "metadata": {},
   "outputs": [
    {
     "data": {
      "text/plain": [
       "what\n",
       "Voxelfilter        63.620292\n",
       "zentrale Punkte    30.869208\n",
       "GrowingLines        5.510499\n",
       "Name: time, dtype: float64"
      ]
     },
     "execution_count": 41,
     "metadata": {},
     "output_type": "execute_result"
    }
   ],
   "source": [
    "grouped * 100 / grouped.sum()"
   ]
  },
  {
   "cell_type": "code",
   "execution_count": 42,
   "id": "726f5f99",
   "metadata": {},
   "outputs": [
    {
     "data": {
      "text/plain": [
       "np.float64(16.161189492864906)"
      ]
     },
     "execution_count": 42,
     "metadata": {},
     "output_type": "execute_result"
    }
   ],
   "source": [
    "read * 100 / grouped.sum()"
   ]
  },
  {
   "cell_type": "code",
   "execution_count": 46,
   "id": "49ee2249",
   "metadata": {},
   "outputs": [
    {
     "data": {
      "text/plain": [
       "np.float64(25.402570297747083)"
      ]
     },
     "execution_count": 46,
     "metadata": {},
     "output_type": "execute_result"
    }
   ],
   "source": [
    "read * 100 / grouped['Voxelfilter']"
   ]
  },
  {
   "cell_type": "code",
   "execution_count": 45,
   "id": "a1595672",
   "metadata": {},
   "outputs": [
    {
     "data": {
      "text/plain": [
       "(np.float64(4.0), np.float64(54.26971327066423))"
      ]
     },
     "execution_count": 45,
     "metadata": {},
     "output_type": "execute_result"
    }
   ],
   "source": [
    "grouped.sum() // 60, grouped.sum() % 60"
   ]
  },
  {
   "cell_type": "code",
   "execution_count": 36,
   "id": "eeae2fc6",
   "metadata": {},
   "outputs": [],
   "source": [
    "custom_order = ['Voxelfilter', 'zentrale Punkte' ,'GrowingLines']\n",
    "grouped = grouped.loc[custom_order]"
   ]
  },
  {
   "cell_type": "code",
   "execution_count": 40,
   "id": "4cf16828",
   "metadata": {},
   "outputs": [
    {
     "data": {
      "image/png": "[encoded data removed]",
      "text/plain": [
       "<Figure size 640x480 with 1 Axes>"
      ]
     },
     "metadata": {},
     "output_type": "display_data"
    }
   ],
   "source": [
    "import matplotlib.pyplot as plt\n",
    "\n",
    "# Prepare data\n",
    "labels = grouped.index\n",
    "sizes = grouped.values\n",
    "\n",
    "# Pie chart\n",
    "fig, ax = plt.subplots()\n",
    "wedges, texts = ax.pie(sizes, labels=labels, startangle=90)\n",
    "\n",
    "# Find index of the combined category\n",
    "combined_index = list(labels).index('Voxelfilter')\n",
    "\n",
    "# Overlay the \"hatched\" part (e.g., 'bar') manually\n",
    "# Calculate angle for the segment\n",
    "angle = 360 * read / grouped.sum()\n",
    "\n",
    "# Determine where the wedge starts\n",
    "startangle = 90  # if same as above\n",
    "angle_offset = sum(sizes[:combined_index]) / sizes.sum() * 360\n",
    "\n",
    "# Draw a hatched wedge manually\n",
    "from matplotlib.patches import Wedge\n",
    "\n",
    "theta1=startangle + angle_offset\n",
    "theta2=theta1 + angle\n",
    "theta_mid = (theta1 + theta2) / 2\n",
    "\n",
    "hatch_wedge = Wedge(center=(0, 0),\n",
    "                    r=1, #0.95,  # slightly smaller\n",
    "                    theta1=theta1,\n",
    "                    theta2=theta2,\n",
    "                    facecolor='none',\n",
    "                    hatch='//',\n",
    "                    edgecolor='black',\n",
    "                    linewidth=0)\n",
    "\n",
    "ax.add_patch(hatch_wedge)\n",
    "\n",
    "# Convert polar to cartesian for label position\n",
    "r = 1.2  # radius slightly outside the wedge\n",
    "x = r * np.cos(np.deg2rad(theta_mid))\n",
    "y = r * np.sin(np.deg2rad(theta_mid))\n",
    "\n",
    "# Add the label manually\n",
    "ax.text(x, y, 'Lesen', ha='center', va='center')\n",
    "\n",
    "ax.axis('equal')  # Equal aspect ratio ensures that pie is drawn as a circle.\n",
    "plt.gcf().savefig('speed_pie_chart.png', dpi=300, bbox_inches='tight')\n",
    "plt.show()\n"
   ]
  },
  {
   "cell_type": "code",
   "execution_count": 54,
   "id": "7379304a",
   "metadata": {},
   "outputs": [
    {
     "data": {
      "text/html": [
       "<div>\n",
       "<style scoped>\n",
       "    .dataframe tbody tr th:only-of-type {\n",
       "        vertical-align: middle;\n",
       "    }\n",
       "\n",
       "    .dataframe tbody tr th {\n",
       "        vertical-align: top;\n",
       "    }\n",
       "\n",
       "    .dataframe thead th {\n",
       "        text-align: right;\n",
       "    }\n",
       "</style>\n",
       "<table border=\"1\" class=\"dataframe\">\n",
       "  <thead>\n",
       "    <tr style=\"text-align: right;\">\n",
       "      <th></th>\n",
       "      <th>used</th>\n",
       "      <th>geometry</th>\n",
       "    </tr>\n",
       "  </thead>\n",
       "  <tbody>\n",
       "    <tr>\n",
       "      <th>0</th>\n",
       "      <td>0</td>\n",
       "      <td>LINESTRING Z (4474820.37 5340468.796 503.114, ...</td>\n",
       "    </tr>\n",
       "    <tr>\n",
       "      <th>1</th>\n",
       "      <td>0</td>\n",
       "      <td>LINESTRING Z (4476157.809 5342334.019 485.047,...</td>\n",
       "    </tr>\n",
       "    <tr>\n",
       "      <th>2</th>\n",
       "      <td>1</td>\n",
       "      <td>LINESTRING Z (4474825.226 5340468.253 503.113,...</td>\n",
       "    </tr>\n",
       "    <tr>\n",
       "      <th>3</th>\n",
       "      <td>1</td>\n",
       "      <td>LINESTRING Z (4476144.902 5342268.597 485.371,...</td>\n",
       "    </tr>\n",
       "    <tr>\n",
       "      <th>4</th>\n",
       "      <td>1</td>\n",
       "      <td>LINESTRING Z (4476474.53 5343841.848 486.476, ...</td>\n",
       "    </tr>\n",
       "  </tbody>\n",
       "</table>\n",
       "</div>"
      ],
      "text/plain": [
       "   used                                           geometry\n",
       "0     0  LINESTRING Z (4474820.37 5340468.796 503.114, ...\n",
       "1     0  LINESTRING Z (4476157.809 5342334.019 485.047,...\n",
       "2     1  LINESTRING Z (4474825.226 5340468.253 503.113,...\n",
       "3     1  LINESTRING Z (4476144.902 5342268.597 485.371,...\n",
       "4     1  LINESTRING Z (4476474.53 5343841.848 486.476, ..."
      ]
     },
     "execution_count": 54,
     "metadata": {},
     "output_type": "execute_result"
    }
   ],
   "source": [
    "linelayer = gpd.read_file(os.path.join(folder, 'temp.gpkg'), layer='centerlines')\n",
    "linelayer.head()"
   ]
  },
  {
   "cell_type": "code",
   "execution_count": 56,
   "id": "5b423c45",
   "metadata": {},
   "outputs": [
    {
     "data": {
      "text/html": [
       "<div>\n",
       "<style scoped>\n",
       "    .dataframe tbody tr th:only-of-type {\n",
       "        vertical-align: middle;\n",
       "    }\n",
       "\n",
       "    .dataframe tbody tr th {\n",
       "        vertical-align: top;\n",
       "    }\n",
       "\n",
       "    .dataframe thead th {\n",
       "        text-align: right;\n",
       "    }\n",
       "</style>\n",
       "<table border=\"1\" class=\"dataframe\">\n",
       "  <thead>\n",
       "    <tr style=\"text-align: right;\">\n",
       "      <th></th>\n",
       "      <th>used</th>\n",
       "      <th>geometry</th>\n",
       "      <th>num_points</th>\n",
       "    </tr>\n",
       "  </thead>\n",
       "  <tbody>\n",
       "    <tr>\n",
       "      <th>0</th>\n",
       "      <td>0</td>\n",
       "      <td>LINESTRING Z (4474820.37 5340468.796 503.114, ...</td>\n",
       "      <td>2676</td>\n",
       "    </tr>\n",
       "    <tr>\n",
       "      <th>1</th>\n",
       "      <td>0</td>\n",
       "      <td>LINESTRING Z (4476157.809 5342334.019 485.047,...</td>\n",
       "      <td>825</td>\n",
       "    </tr>\n",
       "    <tr>\n",
       "      <th>2</th>\n",
       "      <td>1</td>\n",
       "      <td>LINESTRING Z (4474825.226 5340468.253 503.113,...</td>\n",
       "      <td>2594</td>\n",
       "    </tr>\n",
       "    <tr>\n",
       "      <th>3</th>\n",
       "      <td>1</td>\n",
       "      <td>LINESTRING Z (4476144.902 5342268.597 485.371,...</td>\n",
       "      <td>1852</td>\n",
       "    </tr>\n",
       "    <tr>\n",
       "      <th>4</th>\n",
       "      <td>1</td>\n",
       "      <td>LINESTRING Z (4476474.53 5343841.848 486.476, ...</td>\n",
       "      <td>239</td>\n",
       "    </tr>\n",
       "  </tbody>\n",
       "</table>\n",
       "</div>"
      ],
      "text/plain": [
       "   used                                           geometry  num_points\n",
       "0     0  LINESTRING Z (4474820.37 5340468.796 503.114, ...        2676\n",
       "1     0  LINESTRING Z (4476157.809 5342334.019 485.047,...         825\n",
       "2     1  LINESTRING Z (4474825.226 5340468.253 503.113,...        2594\n",
       "3     1  LINESTRING Z (4476144.902 5342268.597 485.371,...        1852\n",
       "4     1  LINESTRING Z (4476474.53 5343841.848 486.476, ...         239"
      ]
     },
     "execution_count": 56,
     "metadata": {},
     "output_type": "execute_result"
    }
   ],
   "source": [
    "linelayer['num_points'] = linelayer.geometry.apply(lambda geom: len(geom.coords))\n",
    "linelayer.head()"
   ]
  },
  {
   "cell_type": "code",
   "execution_count": 57,
   "id": "2f501e8c",
   "metadata": {},
   "outputs": [
    {
     "data": {
      "text/plain": [
       "count      153.000000\n",
       "mean       503.862745\n",
       "std       1286.722254\n",
       "min         10.000000\n",
       "25%         39.000000\n",
       "50%        110.000000\n",
       "75%        344.000000\n",
       "max      10759.000000\n",
       "Name: num_points, dtype: float64"
      ]
     },
     "execution_count": 57,
     "metadata": {},
     "output_type": "execute_result"
    }
   ],
   "source": [
    "linelayer['num_points'].describe()"
   ]
  },
  {
   "cell_type": "code",
   "execution_count": 58,
   "id": "1b657dc2",
   "metadata": {},
   "outputs": [
    {
     "data": {
      "text/plain": [
       "np.int64(77091)"
      ]
     },
     "execution_count": 58,
     "metadata": {},
     "output_type": "execute_result"
    }
   ],
   "source": [
    "linepointsum = linelayer['num_points'].sum()\n",
    "linepointsum  "
   ]
  },
  {
   "cell_type": "code",
   "execution_count": 66,
   "id": "07c7eae1",
   "metadata": {},
   "outputs": [
    {
     "data": {
      "text/plain": [
       "what2\n",
       "Points with margin          264930110\n",
       "Punktwolke                 3715574762\n",
       "Saatpunkte                     698747\n",
       "Stützpunkte Linestrings             0\n",
       "Voxelfilter                 199271321\n",
       "zentrale Punkte                346379\n",
       "Name: points, dtype: int64"
      ]
     },
     "execution_count": 66,
     "metadata": {},
     "output_type": "execute_result"
    }
   ],
   "source": [
    "df['what2'] = df['what'].replace({'Lesen': 'Punktwolke', 'Seed points': 'Saatpunkte', 'GrowingLines': 'Stützpunkte Linestrings'})\n",
    "punktzahl = df.groupby('what2')['points'].sum()\n",
    "punktzahl "
   ]
  },
  {
   "cell_type": "code",
   "execution_count": 67,
   "id": "7f5d8d74",
   "metadata": {},
   "outputs": [
    {
     "data": {
      "text/plain": [
       "what2\n",
       "Punktwolke                 3715574762\n",
       "Voxelfilter                 199271321\n",
       "Saatpunkte                     698747\n",
       "zentrale Punkte                346379\n",
       "Stützpunkte Linestrings         77091\n",
       "Name: points, dtype: int64"
      ]
     },
     "execution_count": 67,
     "metadata": {},
     "output_type": "execute_result"
    }
   ],
   "source": [
    "punktzahl['Stützpunkte Linestrings'] = linepointsum\n",
    "punktzahl.drop('Points with margin', inplace=True)\n",
    "\n",
    "custom_order = ['Punktwolke', 'Voxelfilter', 'Saatpunkte', 'zentrale Punkte', 'Stützpunkte Linestrings']\n",
    "punktzahl = punktzahl.loc[custom_order] \n",
    "punktzahl "
   ]
  },
  {
   "cell_type": "code",
   "execution_count": null,
   "id": "6b433bff",
   "metadata": {},
   "outputs": [],
   "source": []
  }
 ],
 "metadata": {
  "kernelspec": {
   "display_name": "points",
   "language": "python",
   "name": "points"
  },
  "language_info": {
   "codemirror_mode": {
    "name": "ipython",
    "version": 3
   },
   "file_extension": ".py",
   "mimetype": "text/x-python",
   "name": "python",
   "nbconvert_exporter": "python",
   "pygments_lexer": "ipython3",
   "version": "3.9.21"
  }
 },
 "nbformat": 4,
 "nbformat_minor": 5
}
