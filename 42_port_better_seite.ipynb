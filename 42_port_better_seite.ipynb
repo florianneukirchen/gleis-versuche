{
 "cells": [
  {
   "cell_type": "markdown",
   "metadata": {},
   "source": [
    "# Port von Better Seite"
   ]
  },
  {
   "cell_type": "code",
   "execution_count": 1,
   "metadata": {},
   "outputs": [
    {
     "name": "stdout",
     "output_type": "stream",
     "text": [
      "Jupyter environment detected. Enabling Open3D WebVisualizer.\n",
      "[Open3D INFO] WebRTC GUI backend enabled.\n",
      "[Open3D INFO] WebRTCWindowSystem: HTTP handshake server disabled.\n"
     ]
    }
   ],
   "source": [
    "import pdal \n",
    "import numpy as np\n",
    "import matplotlib.pyplot as plt\n",
    "from scipy.spatial import KDTree\n",
    "from scipy.linalg import svd \n",
    "from osgeo import ogr\n",
    "import pyvista as pv\n",
    "import os\n",
    "import sys\n",
    "import open3d as o3d\n",
    "import json\n",
    "import time \n",
    "import matplotlib.pyplot as plt\n",
    "\n",
    "from interessant import * # Bei Änderungen Kernel neu starten\n",
    "\n",
    "sys.path.append(\"/home/riannek/code/gleis/gleisachse\")\n",
    "from algs.centralpoints import *\n",
    "from algs.voxelfilter import *\n",
    "\n",
    "from scipy.spatial.transform import Rotation as R\n",
    "ogr.UseExceptions()"
   ]
  },
  {
   "cell_type": "code",
   "execution_count": 2,
   "metadata": {},
   "outputs": [
    {
     "name": "stdout",
     "output_type": "stream",
     "text": [
      "Einfach 4473900_5335875.ply\n"
     ]
    }
   ],
   "source": [
    "tmpdir = \"/media/riannek/minimax/gleis/temp_run24\"\n",
    "\n",
    "# Bahnsteig: 29; Gleis hohe Intensität: 11; Weiche B: 16; Unterirdischer Bhf: 20; Gleis weit abseits: 23; Betondeckel: 28; Zug run 14 A: 6; \n",
    "# Viele Gleise: 33; Anfang Weiche: 34; OLA gleiche H: 35; Y: 37; Auch viele Gleise: 43; Kreuzung: 44, 45;\n",
    "\n",
    "key = list(interessant.keys())[0] \n",
    "\n",
    "filename = interessant[key]\n",
    "\n",
    "\n",
    "# filename = \"4474550_5332275.copc.laz\"   ###############################\n",
    "\n",
    "\n",
    "filename = filename.split(\".\")[0] + \".ply\"\n",
    "print(key, filename)\n",
    "\n",
    "\n",
    "if not os.path.exists(os.path.join(tmpdir, \"candidates\",filename)):\n",
    "    raise FileNotFoundError(filename)\n",
    "\n"
   ]
  },
  {
   "cell_type": "code",
   "execution_count": 3,
   "metadata": {},
   "outputs": [],
   "source": [
    "thresh_side_distance = 0.15   # 0.1 ist meist gut, aber in manchen Fällen zu wenig (z.B. Anfang Weiche)\n",
    "\n",
    "intensity_threshold = 14500\n",
    "downsample_radius = 0.45 # 0.4\n",
    "neighborhood_radius = 0.5 # 0.5\n",
    "\n",
    "min_points = 10\n",
    "minimum_in_hood = 10\n",
    "linearity_tresh = 0.98\n",
    "\n",
    "gauge = 1.435\n",
    "railhead_width = 0.067"
   ]
  },
  {
   "cell_type": "code",
   "execution_count": 4,
   "metadata": {},
   "outputs": [],
   "source": [
    "runfolder = \"/media/riannek/minimax/gleis/run24-2024-08-13\"\n",
    "\n",
    "import subprocess\n",
    "# subprocess.Popen([\"pyvistaviewer\", os.path.join(runfolder, filename.split(\".\")[0] + \".copc.laz\")])"
   ]
  },
  {
   "cell_type": "markdown",
   "metadata": {},
   "source": [
    "## Datei \n",
    "oben incl. margin aus Nachbarkacheln, unten ohne"
   ]
  },
  {
   "cell_type": "code",
   "execution_count": 5,
   "metadata": {},
   "outputs": [],
   "source": [
    "def extend_bbox(bbox, margin=2):\n",
    "    # MinX, MaxX, MinY, MaxY\n",
    "    return (bbox[0] - margin, bbox[1] + margin, bbox[2] - margin, bbox[3] + margin)\n",
    "\n",
    "def get_bbox_polygon(bbox):  \n",
    "    ring = ogr.Geometry(ogr.wkbLinearRing)      \n",
    "    ring.AddPoint_2D(bbox[0], bbox[2])  # MinX, MinY\n",
    "    ring.AddPoint_2D(bbox[1], bbox[2])  # MaxX, MinY\n",
    "    ring.AddPoint_2D(bbox[1], bbox[3])  # MaxX, MaxY\n",
    "    ring.AddPoint_2D(bbox[0], bbox[3])  # MinX, MaxY\n",
    "    ring.AddPoint_2D(bbox[0], bbox[2])  # Close ring\n",
    "    geom = ogr.Geometry(ogr.wkbPolygon)\n",
    "    geom.AddGeometry(ring)\n",
    "    return geom"
   ]
  },
  {
   "cell_type": "code",
   "execution_count": 6,
   "metadata": {},
   "outputs": [],
   "source": [
    "# gpkg = ogr.Open(os.path.join(tmpdir, \"temp.gpkg\"))\n",
    "# layer = gpkg.GetLayerByName(\"tiles\")\n",
    "\n",
    "\n",
    "# filter = f\"filename = '{filename}'\"\n",
    "# layer.SetAttributeFilter(filter)\n",
    "# feature = layer.GetNextFeature()\n",
    "# layer.SetAttributeFilter(None)\n",
    "# bbox = feature.GetGeometryRef().GetEnvelope()\n",
    "# extended = extend_bbox(bbox, margin=2)\n",
    "# bbox_geom = get_bbox_polygon(extended)\n",
    "# layer.SetSpatialFilter(bbox_geom)\n",
    "# tiles = [f.GetField(\"filename\") for f in layer]\n",
    "# layer.SetSpatialFilter(None) \n",
    "\n",
    "# del gpkg\n",
    "\n",
    "# bounds = f\"([{extended[0]}, {extended[1]}], [{extended[2]}, {extended[3]}])\" "
   ]
  },
  {
   "cell_type": "code",
   "execution_count": 7,
   "metadata": {},
   "outputs": [],
   "source": [
    "# readers = [pdal.Reader(os.path.join(tmpdir, \"candidates\", tile)) for tile in tiles]\n",
    "# pipeline = pdal.Pipeline(readers) | pdal.Filter.merge() | pdal.Filter.crop(bounds=bounds)\n",
    "# pipeline.execute()\n",
    "# points = pipeline.arrays[0]\n",
    "# points.shape "
   ]
  },
  {
   "cell_type": "code",
   "execution_count": 8,
   "metadata": {},
   "outputs": [
    {
     "data": {
      "text/plain": [
       "(91051,)"
      ]
     },
     "execution_count": 8,
     "metadata": {},
     "output_type": "execute_result"
    }
   ],
   "source": [
    "filename = os.path.join(tmpdir, \"candidates\", filename)\n",
    "pipeline = pdal.Pipeline([pdal.Reader(filename)])\n",
    "pipeline.execute()\n",
    "points = pipeline.arrays[0]\n",
    "points.shape "
   ]
  },
  {
   "cell_type": "markdown",
   "metadata": {},
   "source": [
    "## Seed Points"
   ]
  },
  {
   "cell_type": "code",
   "execution_count": 9,
   "metadata": {},
   "outputs": [
    {
     "data": {
      "text/plain": [
       "(49162,)"
      ]
     },
     "execution_count": 9,
     "metadata": {},
     "output_type": "execute_result"
    }
   ],
   "source": [
    "low_intensity = points[points[\"Intensity\"] < intensity_threshold]\n",
    "low_intensity.shape"
   ]
  },
  {
   "cell_type": "code",
   "execution_count": 10,
   "metadata": {},
   "outputs": [],
   "source": [
    "# bounds = f\"([{bbox[0]}, {bbox[1]}], [{bbox[2]}, {bbox[3]}])\" \n",
    "# bounds"
   ]
  },
  {
   "cell_type": "code",
   "execution_count": 11,
   "metadata": {},
   "outputs": [
    {
     "data": {
      "text/plain": [
       "266"
      ]
     },
     "execution_count": 11,
     "metadata": {},
     "output_type": "execute_result"
    }
   ],
   "source": [
    "# Downsample with poisson sampling (only original bbox)\n",
    "\n",
    "# downsampling_pipeline = pdal.Filter.crop(bounds=bounds).pipeline(low_intensity) | pdal.Filter(\"filters.sample\", radius=downsample_radius)\n",
    "\n",
    "downsampling_pipeline = pdal.Filter(\"filters.sample\", radius=downsample_radius).pipeline(low_intensity)\n",
    "downsampling_pipeline.execute()\n",
    "seed_points = downsampling_pipeline.arrays[0]\n",
    "seed_point_count = seed_points.shape[0]\n",
    "seed_point_count"
   ]
  },
  {
   "cell_type": "markdown",
   "metadata": {},
   "source": [
    "## KD Tree"
   ]
  },
  {
   "cell_type": "code",
   "execution_count": 12,
   "metadata": {},
   "outputs": [],
   "source": [
    "xyz = np.vstack((points['X'], points['Y'], points['Z'])).transpose()\n",
    "xyz_seed = np.vstack((seed_points['X'], seed_points['Y'], seed_points['Z'])).transpose()"
   ]
  },
  {
   "cell_type": "code",
   "execution_count": 13,
   "metadata": {},
   "outputs": [],
   "source": [
    "offset = xyz.mean(axis=0) # .round() \n",
    "xyz -= offset\n",
    "xyz_seed -= offset"
   ]
  },
  {
   "cell_type": "code",
   "execution_count": 14,
   "metadata": {},
   "outputs": [],
   "source": [
    "tree = KDTree(xyz)  \n",
    "\n",
    "# indices: ndarray (dtype object) with a list of indices for each seed point\n",
    "indices = tree.query_ball_point(xyz_seed, r=neighborhood_radius, workers=-1)"
   ]
  },
  {
   "cell_type": "markdown",
   "metadata": {},
   "source": [
    "## Alle"
   ]
  },
  {
   "cell_type": "code",
   "execution_count": 15,
   "metadata": {},
   "outputs": [],
   "source": [
    "with_lines = True"
   ]
  },
  {
   "cell_type": "code",
   "execution_count": 16,
   "metadata": {},
   "outputs": [],
   "source": [
    "def pv_bbox(plotter, bbox, offset=None):\n",
    "    points = np.array(\n",
    "        [[bbox[0], bbox[2], 0],\n",
    "        [bbox[1], bbox[2], 0],\n",
    "        [bbox[1], bbox[3], 0],\n",
    "        [bbox[0], bbox[3], 0],\n",
    "        [bbox[0], bbox[2], 0]]\n",
    "    )\n",
    "    if offset is not None:\n",
    "        points[:,:2] -= offset[:2]\n",
    "    lines = np.array([5, 0, 1, 2, 3, 0])\n",
    "    box = pv.PolyData(points)\n",
    "    box.lines = lines\n",
    "    plotter.add_mesh(box, color=\"black\", line_width=2, point_size=0, render_points_as_spheres=False)"
   ]
  },
  {
   "cell_type": "code",
   "execution_count": 17,
   "metadata": {},
   "outputs": [
    {
     "name": "stdout",
     "output_type": "stream",
     "text": [
      "Time: 0.709 s per 168 = 0.0042 s\n"
     ]
    }
   ],
   "source": [
    "start = time.time()\n",
    "\n",
    "lines = []\n",
    "center_points = []\n",
    "delta_z = []\n",
    "distances = []\n",
    "representatives = []\n",
    "\n",
    "\n",
    "upperpercentile=90\n",
    "lowerpercentile = 70\n",
    "\n",
    "for cluster, clustercenter, cluster_other, center_other, eigenvects in pair_generator(xyz, tree, indices, seed_point_count, gauge):\n",
    "    transformmatrix = get_transformmatrix(cluster, cluster_other, clustercenter, center_other, eigenvects)\n",
    "    representative_a, side_a  = representative_point(cluster, transformmatrix, railhead_width=0.067) \n",
    "    representative_b, side_b = representative_point(cluster_other, transformmatrix, railhead_width=0.067)\n",
    "\n",
    "    if representative_a is None or representative_b is None:\n",
    "        # Happens in rare cases at switches\n",
    "        continue\n",
    "    \n",
    "    # Check if both are classified as the same side\n",
    "    # but a zero and non zero value is not a problem\n",
    "    if side_a * side_b < 0:\n",
    "        # Update the cluster with lower confidence of the side estimation\n",
    "        if np.abs(side_a) < np.abs(side_b):\n",
    "            representative_a, side_a  = representative_point(cluster, transformmatrix, railhead_width=0.067, side=side_b)\n",
    "        else:\n",
    "            representative_b, side_b = representative_point(cluster_other, transformmatrix,  railhead_width=0.067, side=side_a)\n",
    "\n",
    "    if representative_a is None or representative_b is None:\n",
    "        # Happens in rare cases at switches\n",
    "        continue\n",
    "\n",
    "    central = get_central_point(representative_a, representative_b)\n",
    "    lines.append(pv.Line(representative_a, representative_b))\n",
    "    center_points.append(central)\n",
    "    delta_z.append(np.abs(representative_a[2] - representative_b[2]))\n",
    "    distances.append(np.linalg.norm(representative_a[:2] - representative_b[:2]))\n",
    "    representatives.append(representative_a)\n",
    "    representatives.append(representative_b)\n",
    "\n",
    "timedelta = time.time() - start\n",
    "print(f\"Time: {timedelta:.3f} s per {len(center_points)} = {timedelta/len(center_points):.4f} s\")"
   ]
  },
  {
   "cell_type": "code",
   "execution_count": 18,
   "metadata": {},
   "outputs": [],
   "source": [
    "pv_all = pv.PolyData(xyz)\n",
    "pv_seed = pv.PolyData(xyz_seed) "
   ]
  },
  {
   "cell_type": "code",
   "execution_count": 19,
   "metadata": {},
   "outputs": [
    {
     "data": {
      "application/vnd.jupyter.widget-view+json": {
       "model_id": "c2b47b23f0fa416fae257f6574ded5b3",
       "version_major": 2,
       "version_minor": 0
      },
      "text/plain": [
       "Widget(value='<iframe src=\"http://localhost:43823/index.html?ui=P_0x7fd9ec0d65e0_0&reconnect=auto\" class=\"pyvi…"
      ]
     },
     "metadata": {},
     "output_type": "display_data"
    }
   ],
   "source": [
    "center_points = np.array(center_points)\n",
    "rep_points = np.array(representatives)\n",
    "\n",
    "pv_centerpoints = pv.PolyData(center_points)\n",
    "pv_centerpoints[\"z\"] = center_points[:,2]\n",
    "pv_centerpoints[\"diff_z\"] = np.abs(np.array(delta_z))\n",
    "pv_centerpoints[\"distance\"] = np.array(distances)\n",
    "\n",
    "pv_rep = pv.PolyData(rep_points)\n",
    "\n",
    "p = pv.Plotter()\n",
    "\n",
    "if with_lines:\n",
    "    # Add lines (SLOW)\n",
    "    # for color, line in zip(side_distances, lines):\n",
    "    #     p.add_mesh(line, scalars=color, cmap='plasma')\n",
    "    for line in lines:\n",
    "        p.add_mesh(line, color=\"red\")\n",
    "\n",
    "p.add_mesh(pv_all, color='gray', point_size=2)\n",
    "# p.add_mesh(pv_seed, color='green', point_size=3)\n",
    "p.add_mesh(pv_centerpoints, scalars=\"distance\", point_size=5, cmap=\"viridis\")\n",
    "p.add_mesh(pv_rep, color=\"red\", point_size=3)\n",
    "# pv_bbox(p, bbox, offset)\n",
    "\n",
    "# labels = [str(i) for i in range(len(center_points))]\n",
    "# p.add_point_labels(pv_centerpoints, labels, point_color=\"black\", font_size=12)\n",
    "\n",
    "p.show()\n",
    "\n",
    "# Farbe: Punkte nach \"z\" oder \"diff_z\" oder \"distance\""
   ]
  },
  {
   "cell_type": "markdown",
   "metadata": {},
   "source": [
    "## Einzeln"
   ]
  },
  {
   "cell_type": "code",
   "execution_count": 20,
   "metadata": {},
   "outputs": [
    {
     "ename": "TypeError",
     "evalue": "pair_generator() missing 5 required positional arguments: 'xyz', 'tree', 'indices', 'seed_point_count', and 'gauge'",
     "output_type": "error",
     "traceback": [
      "\u001b[0;31m---------------------------------------------------------------------------\u001b[0m",
      "\u001b[0;31mTypeError\u001b[0m                                 Traceback (most recent call last)",
      "Cell \u001b[0;32mIn[20], line 1\u001b[0m\n\u001b[0;32m----> 1\u001b[0m pair_gen \u001b[38;5;241m=\u001b[39m \u001b[43mpair_generator\u001b[49m\u001b[43m(\u001b[49m\u001b[43m)\u001b[49m\n",
      "\u001b[0;31mTypeError\u001b[0m: pair_generator() missing 5 required positional arguments: 'xyz', 'tree', 'indices', 'seed_point_count', and 'gauge'"
     ]
    }
   ],
   "source": [
    "pair_gen = pair_generator()"
   ]
  },
  {
   "cell_type": "code",
   "execution_count": null,
   "metadata": {},
   "outputs": [],
   "source": [
    "# for i in range(122):\n",
    "#     next(pair_gen)"
   ]
  },
  {
   "cell_type": "code",
   "execution_count": null,
   "metadata": {},
   "outputs": [
    {
     "data": {
      "text/plain": [
       "np.int64(0)"
      ]
     },
     "execution_count": 112,
     "metadata": {},
     "output_type": "execute_result"
    }
   ],
   "source": [
    "np.argmin(np.abs(np.array([0.2, -0.8])))"
   ]
  },
  {
   "cell_type": "code",
   "execution_count": null,
   "metadata": {},
   "outputs": [
    {
     "ename": "NameError",
     "evalue": "name 'representive_point_3' is not defined",
     "output_type": "error",
     "traceback": [
      "\u001b[0;31m---------------------------------------------------------------------------\u001b[0m",
      "\u001b[0;31mNameError\u001b[0m                                 Traceback (most recent call last)",
      "Cell \u001b[0;32mIn[113], line 18\u001b[0m\n\u001b[1;32m     13\u001b[0m     \u001b[38;5;28mprint\u001b[39m(\u001b[38;5;124m\"\u001b[39m\u001b[38;5;124mInverted eigenvectors\u001b[39m\u001b[38;5;124m\"\u001b[39m)\n\u001b[1;32m     14\u001b[0m     transformmatrix \u001b[38;5;241m*\u001b[39m\u001b[38;5;241m=\u001b[39m \u001b[38;5;241m-\u001b[39m\u001b[38;5;241m1\u001b[39m\n\u001b[0;32m---> 18\u001b[0m representative_aaa, side_a  \u001b[38;5;241m=\u001b[39m \u001b[43mrepresentive_point_3\u001b[49m(cluster, transformmatrix, upperpercentile\u001b[38;5;241m=\u001b[39mupperpercentile, lowerpercentile\u001b[38;5;241m=\u001b[39mlowerpercentile, railhead_width\u001b[38;5;241m=\u001b[39m\u001b[38;5;241m0.067\u001b[39m)\n\u001b[1;32m     19\u001b[0m representative_bbb, side_b \u001b[38;5;241m=\u001b[39m representive_point_3(cluster_other, transformmatrix, upperpercentile\u001b[38;5;241m=\u001b[39mupperpercentile, lowerpercentile\u001b[38;5;241m=\u001b[39mlowerpercentile, railhead_width\u001b[38;5;241m=\u001b[39m\u001b[38;5;241m0.067\u001b[39m)\n\u001b[1;32m     21\u001b[0m \u001b[38;5;28mprint\u001b[39m(\u001b[38;5;124m\"\u001b[39m\u001b[38;5;124mSides\u001b[39m\u001b[38;5;124m\"\u001b[39m, side_a, side_b)\n",
      "\u001b[0;31mNameError\u001b[0m: name 'representive_point_3' is not defined"
     ]
    }
   ],
   "source": [
    "cluster, clustercenter, cluster_other, clustercenter_other, eigenvects = next(pair_gen)\n",
    "\n",
    "percentile = 95\n",
    "\n",
    "upperpercentile=90\n",
    "lowerpercentile = 70\n",
    "\n",
    "transformmatrix = get_transformmatrix(cluster, cluster_other, clustercenter, clustercenter_other, eigenvects)\n",
    "#print(\"Transformmatrix\")\n",
    "#print(transformmatrix)\n",
    "\n",
    "if transformmatrix[2,2] < 0: # z of the third eigenvector\n",
    "    print(\"Inverted eigenvectors\")\n",
    "    transformmatrix *= -1\n",
    "    \n",
    "\n",
    "\n",
    "representative_aaa, side_a  = representative_point_3(cluster, transformmatrix, upperpercentile=upperpercentile, lowerpercentile=lowerpercentile, railhead_width=0.067)\n",
    "representative_bbb, side_b = representative_point_3(cluster_other, transformmatrix, upperpercentile=upperpercentile, lowerpercentile=lowerpercentile, railhead_width=0.067)\n",
    "\n",
    "print(\"Sides\", side_a, side_b)\n",
    "\n",
    "# Check if both are classified as the same side\n",
    "# but a zero and non zero value is not a problem\n",
    "if side_a * side_b < 0:\n",
    "    print(\"Different sides\")\n",
    "    # Update the cluster with lower confidence of the side estimation\n",
    "    if np.abs(side_a) < np.abs(side_b):\n",
    "        representative_aaa, side_a  = representative_point_3(cluster, transformmatrix, upperpercentile=upperpercentile, lowerpercentile=lowerpercentile, railhead_width=0.067, side=side_b)\n",
    "    else:\n",
    "        representative_bbb, side_b = representative_point_3(cluster_other, transformmatrix, upperpercentile=upperpercentile, lowerpercentile=lowerpercentile, railhead_width=0.067, side=side_a)\n",
    "\n",
    "\n",
    "    #representative_aaa, representative_bbb = representative_bbb, representative_aaa\n",
    "\n",
    "central = get_central_point(representative_a, representative_b)\n",
    "# print(\"Central Point\", central)\n",
    "# print(\"representative Points:\", representative_a, representative_b)\n",
    "\n",
    "#o3d.visualization.draw_geometries([pcd_all, pcd_clusters, mesh_frame, pcd_clustercenters, pcd_representative])\n",
    "print(\"Points per Cluster\", len(cluster), len(cluster_other))\n",
    "fig, ax, transformed, transformed_other = plot_cluster_pair_compare(cluster, cluster_other, transformmatrix, representative_a, representative_b, representative_aa, representative_bb, representative_aaa, representative_bbb, railhead_width = 0.067)\n",
    "\n",
    "pair = np.vstack((cluster, cluster_other))\n",
    "plot_cluster(pair, transformmatrix);\n",
    "# Grün: Version 0; Blau: Version 1; Braun: Version 2"
   ]
  },
  {
   "cell_type": "code",
   "execution_count": null,
   "metadata": {},
   "outputs": [
    {
     "data": {
      "text/plain": [
       "(np.float64(-0.07571001225647442), np.float64(-0.07437805190401485))"
      ]
     },
     "execution_count": 99,
     "metadata": {},
     "output_type": "execute_result"
    }
   ],
   "source": [
    "np.corrcoef(transformed[transformed[:,2]>0][:,0], transformed[transformed[:,2]>0][:,1])[0,1], np.corrcoef(transformed[transformed[:,2]<0][:,0], transformed[transformed[:,2]<0][:,1])[0,1]"
   ]
  },
  {
   "cell_type": "code",
   "execution_count": null,
   "metadata": {},
   "outputs": [
    {
     "data": {
      "text/plain": [
       "(np.float64(0.005539811720963599), np.float64(-0.05649399095569635))"
      ]
     },
     "execution_count": 100,
     "metadata": {},
     "output_type": "execute_result"
    }
   ],
   "source": [
    "np.corrcoef(transformed_other[transformed_other[:,2]>0][:,0], transformed_other[transformed_other[:,2]>0][:,1])[0,1], np.corrcoef(transformed_other[transformed_other[:,2]<0][:,0], transformed_other[transformed_other[:,2]<0][:,1])[0,1]"
   ]
  },
  {
   "cell_type": "code",
   "execution_count": null,
   "metadata": {},
   "outputs": [],
   "source": [
    "pcd_clusters = o3d.geometry.PointCloud()\n",
    "pcd_clusters.points = o3d.utility.Vector3dVector(pair)\n",
    "pcd_clusters.paint_uniform_color([0, 0, 1])\n",
    "\n",
    "pcd_clustercenters = o3d.geometry.PointCloud()\n",
    "pcd_clustercenters.points = o3d.utility.Vector3dVector([clustercenter, clustercenter_other])\n",
    "pcd_clustercenters.paint_uniform_color([0, 1, 0])\n",
    "\n",
    "pcd_all = o3d.geometry.PointCloud()\n",
    "pcd_all.points = o3d.utility.Vector3dVector(xyz)\n",
    "pcd_all.paint_uniform_color([0.7, 0.7, 0.7])\n",
    "\n",
    "pcd_representative = o3d.geometry.PointCloud()\n",
    "pcd_representative.points = o3d.utility.Vector3dVector([representative_a, representative_b, central])\n",
    "pcd_representative.paint_uniform_color([1, 0, 0])\n",
    "\n",
    "mesh_frame = o3d.geometry.TriangleMesh.create_coordinate_frame(size=0.5, origin=[0, 0, 0])\n",
    "\n",
    "# o3d.visualization.draw_geometries([pcd_all, pcd_clusters, mesh_frame, pcd_clustercenters, pcd_representative])"
   ]
  },
  {
   "cell_type": "markdown",
   "metadata": {},
   "source": [
    "# Experimentieren"
   ]
  },
  {
   "cell_type": "code",
   "execution_count": null,
   "metadata": {},
   "outputs": [
    {
     "data": {
      "text/plain": [
       "3.7157671090278166"
      ]
     },
     "execution_count": 102,
     "metadata": {},
     "output_type": "execute_result"
    }
   ],
   "source": [
    "nrpoints = 1803127 \n",
    "seconds = 3.7 + 1.5 + 1.5\n",
    "\n",
    "seconds * 1000000 / nrpoints "
   ]
  },
  {
   "cell_type": "code",
   "execution_count": null,
   "metadata": {},
   "outputs": [
    {
     "data": {
      "text/plain": [
       "23.333333333333332"
      ]
     },
     "execution_count": 103,
     "metadata": {},
     "output_type": "execute_result"
    }
   ],
   "source": [
    "nrpoints = 6000\n",
    "seconds = 10/100 + 4/100\n",
    "\n",
    "seconds * 1000000 / nrpoints "
   ]
  },
  {
   "cell_type": "code",
   "execution_count": null,
   "metadata": {},
   "outputs": [
    {
     "ename": "FileExistsError",
     "evalue": "File already exists",
     "output_type": "error",
     "traceback": [
      "\u001b[0;31m---------------------------------------------------------------------------\u001b[0m",
      "\u001b[0;31mFileExistsError\u001b[0m                           Traceback (most recent call last)",
      "Cell \u001b[0;32mIn[104], line 7\u001b[0m\n\u001b[1;32m      3\u001b[0m prefix \u001b[38;5;241m=\u001b[39m \u001b[38;5;124m\"\u001b[39m\u001b[38;5;124mAuch komisch verschiedene Haken und Luecke\u001b[39m\u001b[38;5;124m\"\u001b[39m\n\u001b[1;32m      5\u001b[0m pair \u001b[38;5;241m=\u001b[39m np\u001b[38;5;241m.\u001b[39mvstack((cluster, cluster_other))\n\u001b[0;32m----> 7\u001b[0m \u001b[43msave_clusters\u001b[49m\u001b[43m(\u001b[49m\u001b[43mcluster\u001b[49m\u001b[43m,\u001b[49m\u001b[43m \u001b[49m\u001b[43mcluster_other\u001b[49m\u001b[43m,\u001b[49m\u001b[43m \u001b[49m\u001b[43mpair\u001b[49m\u001b[43m,\u001b[49m\u001b[43m \u001b[49m\u001b[43mprefix\u001b[49m\u001b[43m)\u001b[49m\n",
      "Cell \u001b[0;32mIn[86], line 5\u001b[0m, in \u001b[0;36msave_clusters\u001b[0;34m(cluster, cluster_other, pair, prefix)\u001b[0m\n\u001b[1;32m      3\u001b[0m folder \u001b[38;5;241m=\u001b[39m \u001b[38;5;124m\"\u001b[39m\u001b[38;5;124mclusterbeispiele\u001b[39m\u001b[38;5;124m\"\u001b[39m\n\u001b[1;32m      4\u001b[0m \u001b[38;5;28;01mif\u001b[39;00m os\u001b[38;5;241m.\u001b[39mpath\u001b[38;5;241m.\u001b[39mexists(os\u001b[38;5;241m.\u001b[39mpath\u001b[38;5;241m.\u001b[39mjoin(folder, \u001b[38;5;124mf\u001b[39m\u001b[38;5;124m\"\u001b[39m\u001b[38;5;132;01m{\u001b[39;00mprefix\u001b[38;5;132;01m}\u001b[39;00m\u001b[38;5;124m_l.ply\u001b[39m\u001b[38;5;124m\"\u001b[39m)):\n\u001b[0;32m----> 5\u001b[0m     \u001b[38;5;28;01mraise\u001b[39;00m \u001b[38;5;167;01mFileExistsError\u001b[39;00m(\u001b[38;5;124m\"\u001b[39m\u001b[38;5;124mFile already exists\u001b[39m\u001b[38;5;124m\"\u001b[39m)\n\u001b[1;32m      6\u001b[0m pcd \u001b[38;5;241m=\u001b[39m o3d\u001b[38;5;241m.\u001b[39mgeometry\u001b[38;5;241m.\u001b[39mPointCloud()\n\u001b[1;32m      7\u001b[0m pcd\u001b[38;5;241m.\u001b[39mpoints \u001b[38;5;241m=\u001b[39m o3d\u001b[38;5;241m.\u001b[39mutility\u001b[38;5;241m.\u001b[39mVector3dVector(pair)\n",
      "\u001b[0;31mFileExistsError\u001b[0m: File already exists"
     ]
    }
   ],
   "source": [
    "# Clusterbeispiel speichern\n",
    "\n",
    "prefix = \"Auch komisch verschiedene Haken und Luecke\"\n",
    "\n",
    "pair = np.vstack((cluster, cluster_other))\n",
    "\n",
    "save_clusters(cluster, cluster_other, pair, prefix)"
   ]
  },
  {
   "cell_type": "code",
   "execution_count": null,
   "metadata": {},
   "outputs": [],
   "source": []
  }
 ],
 "metadata": {
  "kernelspec": {
   "display_name": "points",
   "language": "python",
   "name": "points"
  },
  "language_info": {
   "codemirror_mode": {
    "name": "ipython",
    "version": 3
   },
   "file_extension": ".py",
   "mimetype": "text/x-python",
   "name": "python",
   "nbconvert_exporter": "python",
   "pygments_lexer": "ipython3",
   "version": "3.9.21"
  }
 },
 "nbformat": 4,
 "nbformat_minor": 2
}
