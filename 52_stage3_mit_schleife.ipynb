{
 "cells": [
  {
   "cell_type": "code",
   "execution_count": 1,
   "id": "c1b3dde3",
   "metadata": {},
   "outputs": [],
   "source": [
    "import sys\n",
    "import os\n",
    "import numpy as np\n",
    "from osgeo import ogr \n",
    "from collections import deque\n",
    "import matplotlib.pyplot as plt\n",
    "\n",
    "from growingline import *\n",
    "\n",
    "\n",
    "sys.path.append(\"/home/riannek/code/gleis/gleisachse\")\n",
    "from algs.gpkg import * \n",
    "\n",
    "ogr.UseExceptions()"
   ]
  },
  {
   "cell_type": "code",
   "execution_count": 2,
   "id": "e473b87f",
   "metadata": {},
   "outputs": [],
   "source": [
    "ds = None"
   ]
  },
  {
   "cell_type": "code",
   "execution_count": 3,
   "id": "bf5bb043",
   "metadata": {},
   "outputs": [
    {
     "name": "stdout",
     "output_type": "stream",
     "text": [
      "['TEMPLINELAYER', 'abseits', 'anfang weiche', 'kurve', 'viele', 'viele1', 'weiche']\n"
     ]
    }
   ],
   "source": [
    "layer_name = \"viele\"\n",
    "\n",
    "folder = \"/media/riannek/minimax/gleis/\"\n",
    "\n",
    "ds = None \n",
    "\n",
    "import shutil \n",
    "file = shutil.copyfile(os.path.join(folder, \"stage3vers.gpkg\"), os.path.join(folder, \"stage3tmp.gpkg\"))\n",
    "\n",
    "ds = ogr.Open(file, 1)\n",
    "\n",
    "layers = []\n",
    "for i in range(ds.GetLayerCount()):\n",
    "    layer = ds.GetLayer(i)\n",
    "    layers.append(layer.GetName())\n",
    "layers.sort()\n",
    "print(layers)\n",
    "\n",
    "layer = ds.GetLayerByName(layer_name)"
   ]
  },
  {
   "cell_type": "code",
   "execution_count": 4,
   "id": "9f00f1a8",
   "metadata": {},
   "outputs": [],
   "source": [
    "# Add a temporary \"skip\" field if it doesn't exist\n",
    "if layer.FindFieldIndex(\"skip\", 1) == -1:\n",
    "    field = ogr.FieldDefn(\"skip\", ogr.OFTInteger)\n",
    "    layer.CreateField(field)"
   ]
  },
  {
   "cell_type": "code",
   "execution_count": 5,
   "id": "a2e97bb1",
   "metadata": {},
   "outputs": [],
   "source": [
    "def new_line_layer(ds, spatial_reference, logger):\n",
    "    if layer_exists(ds, \"centerlines\"):\n",
    "        delete_layer(ds, \"centerlines\", logger)\n",
    "    layer = ds.CreateLayer(\"centerlines\", spatial_reference, ogr.wkbLineString25D)\n",
    "    return layer \n",
    "\n",
    "\n",
    "linelayer = new_line_layer(ds, layer.GetSpatialRef(), None)\n"
   ]
  },
  {
   "cell_type": "code",
   "execution_count": 6,
   "id": "f6005407",
   "metadata": {},
   "outputs": [],
   "source": [
    "first_fid = None\n",
    "first_xyz = None \n",
    "first_direction = None"
   ]
  },
  {
   "cell_type": "code",
   "execution_count": 7,
   "id": "1b3960e4",
   "metadata": {},
   "outputs": [],
   "source": [
    "queue = deque()"
   ]
  },
  {
   "cell_type": "code",
   "execution_count": 8,
   "id": "be737a7c",
   "metadata": {},
   "outputs": [
    {
     "data": {
      "text/plain": [
       "12549"
      ]
     },
     "execution_count": 8,
     "metadata": {},
     "output_type": "execute_result"
    }
   ],
   "source": [
    "\n",
    "layer.GetFeatureCount()"
   ]
  },
  {
   "cell_type": "markdown",
   "id": "f302eab0",
   "metadata": {},
   "source": [
    "## Schleife"
   ]
  },
  {
   "cell_type": "code",
   "execution_count": 9,
   "id": "57752af9",
   "metadata": {},
   "outputs": [
    {
     "name": "stdout",
     "output_type": "stream",
     "text": [
      "feature count: 12549\n",
      "current fid: 2031\n",
      "#########\n",
      "feature count: 12549\n",
      "current fid: 2032\n",
      "#########\n",
      "feature count: 12549\n",
      "current fid: 2033\n",
      "#########\n",
      "feature count: 12549\n",
      "current fid: 2034\n",
      "#########\n",
      "feature count: 12549\n",
      "current fid: 2035\n",
      "Adding new switch line\n",
      "Making cut in switch\n",
      "Length of switch line: 29.661380956816906 points: 1\n",
      "Cut active line: False\n",
      "Reversed head\n",
      "Adding new switch line\n",
      "Making cut in switch\n",
      "Length of switch line: 26.70519978588935 points: 1\n",
      "Cut active line: False\n",
      "FINISHED\n",
      "Adding new switch line\n",
      "Making cut in switch\n",
      "Length of switch line: 17.500789370556834 points: 1\n",
      "Cut active line: True\n",
      "Distance from head to switch line head: 2.3662141596713413\n",
      "Going back: 27.867003530228175\n",
      "Cut index: 22 distance 4.753233002246192 go_back 27.867003530228175\n",
      "FINISHED\n",
      "Adding new switch line\n",
      "Making cut in switch\n",
      "Length of switch line: 18.678052172215786 points: 1\n",
      "Cut active line: True\n",
      "Distance from head to switch line head: 0.6302628294204317\n",
      "Going back: 27.308315001636217\n",
      "Cut index: 21 distance 7.200591218384118 go_back 27.308315001636217\n",
      "FINISHED\n",
      "Adding new switch line\n",
      "Making cut in switch\n",
      "Length of switch line: 8.458061483998874 points: 1\n",
      "Cut active line: True\n",
      "Distance from head to switch line head: 3.194317603103537\n",
      "Going back: 19.65237908710241\n",
      "Cut index: 14 distance 8.981497624073645 go_back 19.65237908710241\n",
      "Reversed head\n",
      "FINISHED\n",
      "Adding new switch line\n",
      "Making cut in switch\n",
      "Length of switch line: 3.3929210132155116 points: 1\n",
      "Cut active line: False\n",
      "FINISHED\n",
      "Reversed head\n",
      "FINISHED\n",
      "FINISHED\n",
      "Reversed head\n",
      "FINISHED\n",
      "FINISHED\n",
      "FINISHED\n",
      "feature count: 8406\n",
      "current fid: 2073\n",
      "Adding new switch line\n",
      "Making cut in switch\n",
      "Length of switch line: 17.576655086929776 points: 1\n",
      "Cut active line: True\n",
      "Distance from head to switch line head: 0.7067307685605062\n",
      "Going back: 26.28338585549028\n",
      "Cut index: 0 distance 1.0064506061043796 go_back 26.28338585549028\n",
      "Reversed head\n",
      "FINISHED\n",
      "Adding new switch line\n",
      "Making cut in switch\n",
      "Length of switch line: 0.3409730445704818 points: 1\n",
      "Cut active line: True\n",
      "Distance from head to switch line head: 7.28085862874616\n",
      "Going back: 15.621831673316642\n",
      "Cut index: 3 distance 6.1628078764815895 go_back 15.621831673316642\n",
      "Reversed head\n",
      "FINISHED\n",
      "FINISHED\n",
      "Reversed head\n",
      "FINISHED\n",
      "FINISHED\n",
      "feature count: 5779\n",
      "current fid: 8630\n",
      "Reversed head\n",
      "FINISHED\n",
      "feature count: 5777\n",
      "current fid: 8674\n",
      "Reversed head\n",
      "FINISHED\n",
      "feature count: 5775\n",
      "current fid: 10141\n",
      "Reversed head\n",
      "Adding new switch line\n",
      "Making cut in switch\n",
      "Length of switch line: 12.191821728615892 points: 1\n",
      "Cut active line: True\n",
      "Distance from head to switch line head: 8.118344217452343\n",
      "Going back: 28.310165946068235\n",
      "Cut index: 24 distance 6.6829988923410975 go_back 28.310165946068235\n",
      "FINISHED\n",
      "Adding new switch line\n",
      "Making cut in switch\n",
      "Length of switch line: 22.482091201300037 points: 1\n",
      "Cut active line: True\n",
      "Distance from head to switch line head: 8.281697197817731\n",
      "Going back: 38.76378839911777\n",
      "Cut index: 26 distance 3.7038681239084017 go_back 38.76378839911777\n",
      "Reversed head\n",
      "FINISHED\n",
      "Adding new switch line\n",
      "Making cut in switch\n",
      "Length of switch line: 17.376827623889096 points: 1\n",
      "Cut active line: True\n",
      "Distance from head to switch line head: 2.1442860103173076\n",
      "Going back: 27.521113634206404\n",
      "Cut index: 23 distance 6.078386076318722 go_back 27.521113634206404\n",
      "FINISHED\n",
      "Reversed head\n",
      "FINISHED\n",
      "Adding new switch line\n",
      "Making cut in switch\n",
      "Length of switch line: 13.210744421866114 points: 1\n",
      "Cut active line: True\n",
      "Distance from head to switch line head: 0.5233437036812262\n",
      "Going back: 21.734088125547338\n",
      "Cut index: 19 distance 6.567805166835686 go_back 21.734088125547338\n",
      "FINISHED\n",
      "Reversed head\n",
      "FINISHED\n",
      "FINISHED\n",
      "Reversed head\n",
      "FINISHED\n",
      "FINISHED\n",
      "feature count: 1711\n",
      "current fid: 20289\n",
      "Reversed head\n",
      "FINISHED\n",
      "feature count: 1183\n",
      "current fid: 32205\n",
      "Reversed head\n",
      "FINISHED\n",
      "feature count: 793\n",
      "current fid: 52800\n",
      "Reversed head\n",
      "FINISHED\n",
      "feature count: 644\n",
      "current fid: 62818\n",
      "Reversed head\n",
      "FINISHED\n",
      "feature count: 126\n",
      "current fid: 89815\n",
      "Reversed head\n",
      "FINISHED\n",
      "feature count: 124\n",
      "current fid: 152664\n",
      "Reversed head\n",
      "FINISHED\n",
      "feature count: 121\n",
      "current fid: 169420\n",
      "Reversed head\n",
      "FINISHED\n",
      "feature count: 103\n",
      "current fid: 182747\n",
      "Reversed head\n",
      "FINISHED\n",
      "feature count: 65\n",
      "current fid: 182943\n",
      "Reversed head\n",
      "FINISHED\n",
      "feature count: 36\n",
      "current fid: 207133\n",
      "Reversed head\n",
      "FINISHED\n",
      "feature count: 34\n",
      "current fid: 222339\n",
      "Reversed head\n",
      "FINISHED\n",
      "feature count: 33\n",
      "current fid: 296963\n",
      "Reversed head\n",
      "FINISHED\n",
      "feature count: 30\n",
      "current fid: 307949\n",
      "Reversed head\n",
      "FINISHED\n",
      "feature count: 28\n",
      "current fid: 319261\n",
      "Reversed head\n",
      "FINISHED\n"
     ]
    }
   ],
   "source": [
    "while layer.GetFeatureCount() > 0:\n",
    "    print(\"feature count:\", layer.GetFeatureCount())\n",
    "    \n",
    "    layer.SetAttributeFilter(\"skip IS NULL\")\n",
    "    feature = layer.GetNextFeature()\n",
    "    layer.SetAttributeFilter(None)\n",
    "    if feature is None:\n",
    "        break\n",
    "    current_fid =  feature.GetFID()\n",
    "    print(\"current fid:\", current_fid)\n",
    "    active_line = GrowingLine.from_feature(feature)\n",
    "\n",
    "    while True:\n",
    "        try:\n",
    "            switch_lines = active_line.grow(layer, linelayer)\n",
    "        except StartInSwitchError:\n",
    "            print(\"#########\")\n",
    "            switch_lines = None\n",
    "\n",
    "            # Skip this feature in the next iteration\n",
    "            # if it has not been deleted by the growing line\n",
    "            feature = layer.GetFeature(current_fid)\n",
    "            if feature is not None:\n",
    "                feature.SetField(\"skip\", 1)\n",
    "                layer.SetFeature(feature)\n",
    "            break\n",
    "\n",
    "        queue.extend(switch_lines)\n",
    "        if len(queue) == 0:\n",
    "            break\n",
    "        active_line = queue.popleft()\n",
    "\n",
    "    if switch_lines is not None:\n",
    "        # Remove the starting point (if we did not start in a switch)\n",
    "        remove_points([current_fid], layer)\n",
    "    layer.ResetReading()"
   ]
  },
  {
   "cell_type": "code",
   "execution_count": 10,
   "id": "310cab73",
   "metadata": {},
   "outputs": [],
   "source": [
    "ds = None"
   ]
  },
  {
   "cell_type": "markdown",
   "id": "d8378ee7",
   "metadata": {},
   "source": [
    "## STOP HERE"
   ]
  },
  {
   "cell_type": "code",
   "execution_count": 11,
   "id": "f4349ecc",
   "metadata": {},
   "outputs": [
    {
     "ename": "ValueError",
     "evalue": "Stop here",
     "output_type": "error",
     "traceback": [
      "\u001b[0;31m---------------------------------------------------------------------------\u001b[0m",
      "\u001b[0;31mValueError\u001b[0m                                Traceback (most recent call last)",
      "Cell \u001b[0;32mIn[11], line 1\u001b[0m\n\u001b[0;32m----> 1\u001b[0m \u001b[38;5;28;01mraise\u001b[39;00m \u001b[38;5;167;01mValueError\u001b[39;00m(\u001b[38;5;124m\"\u001b[39m\u001b[38;5;124mStop here\u001b[39m\u001b[38;5;124m\"\u001b[39m)\n",
      "\u001b[0;31mValueError\u001b[0m: Stop here"
     ]
    }
   ],
   "source": [
    "raise ValueError(\"Stop here\")"
   ]
  },
  {
   "cell_type": "code",
   "execution_count": null,
   "id": "0f2bfee5",
   "metadata": {},
   "outputs": [
    {
     "data": {
      "text/plain": [
       "True"
      ]
     },
     "execution_count": 288,
     "metadata": {},
     "output_type": "execute_result"
    }
   ],
   "source": [
    "active_line.reverse_head()"
   ]
  },
  {
   "cell_type": "code",
   "execution_count": null,
   "id": "087df1ad",
   "metadata": {},
   "outputs": [
    {
     "name": "stdout",
     "output_type": "stream",
     "text": [
      "6.5373792594158795\n"
     ]
    }
   ],
   "source": [
    "geom = active_line.get_linestring()\n",
    "print(geom.Length())\n",
    "\n",
    "if geom.Length() > 5:\n",
    "    linelayer_add(linelayer, geom)\n"
   ]
  },
  {
   "cell_type": "code",
   "execution_count": null,
   "id": "d5e31379",
   "metadata": {},
   "outputs": [],
   "source": [
    "layer.SetAttributeFilter(None)\n",
    "feature = layer.GetFeature(210352)\n",
    "feature  "
   ]
  },
  {
   "cell_type": "code",
   "execution_count": null,
   "id": "0c0c1958",
   "metadata": {},
   "outputs": [
    {
     "name": "stdout",
     "output_type": "stream",
     "text": [
      "0\n"
     ]
    }
   ],
   "source": [
    "print(len(active_line.switch))"
   ]
  },
  {
   "cell_type": "code",
   "execution_count": null,
   "id": "9b9204a1",
   "metadata": {},
   "outputs": [
    {
     "data": {
      "text/plain": [
       "[]"
      ]
     },
     "execution_count": 318,
     "metadata": {},
     "output_type": "execute_result"
    }
   ],
   "source": [
    "active_line.switch "
   ]
  },
  {
   "cell_type": "code",
   "execution_count": null,
   "id": "841aedfd",
   "metadata": {},
   "outputs": [
    {
     "data": {
      "text/plain": [
       "[array([4.47386367e+06, 5.33619907e+06, 5.16786670e+02]),\n",
       " array([4.47386389e+06, 5.33619810e+06, 5.16788972e+02]),\n",
       " array([4.47386408e+06, 5.33619719e+06, 5.16793189e+02]),\n",
       " array([4.47386424e+06, 5.33619647e+06, 5.16796515e+02]),\n",
       " array([4.47386439e+06, 5.33619578e+06, 5.16799393e+02]),\n",
       " array([4.47386459e+06, 5.33619489e+06, 5.16803550e+02])]"
      ]
     },
     "execution_count": 802,
     "metadata": {},
     "output_type": "execute_result"
    }
   ],
   "source": [
    "active_line.switch[2].points  "
   ]
  },
  {
   "cell_type": "code",
   "execution_count": null,
   "id": "0fe5d165",
   "metadata": {},
   "outputs": [
    {
     "name": "stdout",
     "output_type": "stream",
     "text": [
      "1\n"
     ]
    }
   ],
   "source": [
    "queue.extend(active_line.switch)\n",
    "print(len(queue))"
   ]
  },
  {
   "cell_type": "code",
   "execution_count": null,
   "id": "c17b05d3",
   "metadata": {},
   "outputs": [],
   "source": [
    "active_line = queue.popleft()"
   ]
  },
  {
   "cell_type": "code",
   "execution_count": null,
   "id": "38a38a64",
   "metadata": {},
   "outputs": [
    {
     "data": {
      "text/plain": [
       "[<matplotlib.lines.Line2D at 0x7fb2fa8d1e20>]"
      ]
     },
     "execution_count": 303,
     "metadata": {},
     "output_type": "execute_result"
    },
    {
     "data": {
      "image/png": "[encoded data removed]",
      "text/plain": [
       "<Figure size 640x480 with 1 Axes>"
      ]
     },
     "metadata": {},
     "output_type": "display_data"
    }
   ],
   "source": [
    "foo = np.array(active_line.points)\n",
    "foo = foo[:,1] \n",
    "x = np.arange(len(foo))\n",
    "fig, ax = plt.subplots()\n",
    "ax.plot(x, foo)"
   ]
  },
  {
   "cell_type": "code",
   "execution_count": null,
   "id": "9e336a44",
   "metadata": {},
   "outputs": [
    {
     "data": {
      "text/plain": [
       "<matplotlib.collections.PathCollection at 0x7fb2f9b59f70>"
      ]
     },
     "execution_count": 804,
     "metadata": {},
     "output_type": "execute_result"
    },
    {
     "data": {
      "image/png": "[encoded data removed]",
      "text/plain": [
       "<Figure size 640x480 with 1 Axes>"
      ]
     },
     "metadata": {},
     "output_type": "display_data"
    }
   ],
   "source": [
    "fig, ax = plt.subplots()\n",
    "foo = np.array(active_line.points)\n",
    "x = foo[:,0]\n",
    "y = foo[:,1]\n",
    "ax.scatter(x, y, c='b', s=1)\n",
    "\n",
    "foo = np.array(active_line.switch[0].points)  \n",
    "x = foo[:,0]\n",
    "y = foo[:,1]\n",
    "ax.scatter(x, y, c='r', s=1)\n",
    "\n",
    "foo = np.array(active_line.switch[1].points)  \n",
    "x = foo[:,0]\n",
    "y = foo[:,1]\n",
    "ax.scatter(x, y, c='g', s=1)\n",
    "\n",
    "foo = np.array(active_line.switch[2].points)  \n",
    "x = foo[:,0]\n",
    "y = foo[:,1]\n",
    "ax.scatter(x, y, c='b', s=1)"
   ]
  },
  {
   "cell_type": "code",
   "execution_count": null,
   "id": "d0455130",
   "metadata": {},
   "outputs": [
    {
     "ename": "TypeError",
     "evalue": "in method 'Layer_GetFeature', argument 1 of type 'OGRLayerShadow *'",
     "output_type": "error",
     "traceback": [
      "\u001b[0;31m---------------------------------------------------------------------------\u001b[0m",
      "\u001b[0;31mTypeError\u001b[0m                                 Traceback (most recent call last)",
      "Cell \u001b[0;32mIn[13], line 1\u001b[0m\n\u001b[0;32m----> 1\u001b[0m feature \u001b[38;5;241m=\u001b[39m \u001b[43mlayer\u001b[49m\u001b[38;5;241;43m.\u001b[39;49m\u001b[43mGetFeature\u001b[49m\u001b[43m(\u001b[49m\u001b[38;5;241;43m17\u001b[39;49m\u001b[43m)\u001b[49m\n",
      "File \u001b[0;32m~/miniconda3/envs/points/lib/python3.9/site-packages/osgeo/ogr.py:1020\u001b[0m, in \u001b[0;36mLayer.GetFeature\u001b[0;34m(self, *args)\u001b[0m\n\u001b[1;32m    993\u001b[0m \u001b[38;5;28;01mdef\u001b[39;00m\u001b[38;5;250m \u001b[39m\u001b[38;5;21mGetFeature\u001b[39m(\u001b[38;5;28mself\u001b[39m, \u001b[38;5;241m*\u001b[39margs):\n\u001b[1;32m    994\u001b[0m \u001b[38;5;250m    \u001b[39m\u001b[38;5;124mr\u001b[39m\u001b[38;5;124;03m\"\"\"\u001b[39;00m\n\u001b[1;32m    995\u001b[0m \u001b[38;5;124;03m    GetFeature(Layer self, GIntBig fid) -> Feature\u001b[39;00m\n\u001b[1;32m    996\u001b[0m \n\u001b[0;32m   (...)\u001b[0m\n\u001b[1;32m   1018\u001b[0m \n\u001b[1;32m   1019\u001b[0m \u001b[38;5;124;03m    \"\"\"\u001b[39;00m\n\u001b[0;32m-> 1020\u001b[0m     \u001b[38;5;28;01mreturn\u001b[39;00m \u001b[43m_ogr\u001b[49m\u001b[38;5;241;43m.\u001b[39;49m\u001b[43mLayer_GetFeature\u001b[49m\u001b[43m(\u001b[49m\u001b[38;5;28;43mself\u001b[39;49m\u001b[43m,\u001b[49m\u001b[43m \u001b[49m\u001b[38;5;241;43m*\u001b[39;49m\u001b[43margs\u001b[49m\u001b[43m)\u001b[49m\n",
      "\u001b[0;31mTypeError\u001b[0m: in method 'Layer_GetFeature', argument 1 of type 'OGRLayerShadow *'"
     ]
    }
   ],
   "source": []
  },
  {
   "cell_type": "code",
   "execution_count": null,
   "id": "df863bc4",
   "metadata": {},
   "outputs": [
    {
     "ename": "TypeError",
     "evalue": "in method 'Layer_GetFeatureCount', argument 1 of type 'OGRLayerShadow *'",
     "output_type": "error",
     "traceback": [
      "\u001b[0;31m---------------------------------------------------------------------------\u001b[0m",
      "\u001b[0;31mTypeError\u001b[0m                                 Traceback (most recent call last)",
      "Cell \u001b[0;32mIn[14], line 1\u001b[0m\n\u001b[0;32m----> 1\u001b[0m \u001b[43mlayer\u001b[49m\u001b[38;5;241;43m.\u001b[39;49m\u001b[43mGetFeatureCount\u001b[49m\u001b[43m(\u001b[49m\u001b[43m)\u001b[49m\n",
      "File \u001b[0;32m~/miniconda3/envs/points/lib/python3.9/site-packages/osgeo/ogr.py:1210\u001b[0m, in \u001b[0;36mLayer.GetFeatureCount\u001b[0;34m(self, *args, **kwargs)\u001b[0m\n\u001b[1;32m   1190\u001b[0m \u001b[38;5;28;01mdef\u001b[39;00m\u001b[38;5;250m \u001b[39m\u001b[38;5;21mGetFeatureCount\u001b[39m(\u001b[38;5;28mself\u001b[39m, \u001b[38;5;241m*\u001b[39margs, \u001b[38;5;241m*\u001b[39m\u001b[38;5;241m*\u001b[39mkwargs):\n\u001b[1;32m   1191\u001b[0m \u001b[38;5;250m    \u001b[39m\u001b[38;5;124mr\u001b[39m\u001b[38;5;124;03m\"\"\"\u001b[39;00m\n\u001b[1;32m   1192\u001b[0m \u001b[38;5;124;03m    GetFeatureCount(Layer self, int force=1) -> GIntBig\u001b[39;00m\n\u001b[1;32m   1193\u001b[0m \n\u001b[0;32m   (...)\u001b[0m\n\u001b[1;32m   1208\u001b[0m \n\u001b[1;32m   1209\u001b[0m \u001b[38;5;124;03m    \"\"\"\u001b[39;00m\n\u001b[0;32m-> 1210\u001b[0m     \u001b[38;5;28;01mreturn\u001b[39;00m \u001b[43m_ogr\u001b[49m\u001b[38;5;241;43m.\u001b[39;49m\u001b[43mLayer_GetFeatureCount\u001b[49m\u001b[43m(\u001b[49m\u001b[38;5;28;43mself\u001b[39;49m\u001b[43m,\u001b[49m\u001b[43m \u001b[49m\u001b[38;5;241;43m*\u001b[39;49m\u001b[43margs\u001b[49m\u001b[43m,\u001b[49m\u001b[43m \u001b[49m\u001b[38;5;241;43m*\u001b[39;49m\u001b[38;5;241;43m*\u001b[39;49m\u001b[43mkwargs\u001b[49m\u001b[43m)\u001b[49m\n",
      "\u001b[0;31mTypeError\u001b[0m: in method 'Layer_GetFeatureCount', argument 1 of type 'OGRLayerShadow *'"
     ]
    }
   ],
   "source": []
  },
  {
   "cell_type": "code",
   "execution_count": null,
   "id": "47bcbe5a",
   "metadata": {},
   "outputs": [],
   "source": []
  }
 ],
 "metadata": {
  "kernelspec": {
   "display_name": "points",
   "language": "python",
   "name": "points"
  },
  "language_info": {
   "codemirror_mode": {
    "name": "ipython",
    "version": 3
   },
   "file_extension": ".py",
   "mimetype": "text/x-python",
   "name": "python",
   "nbconvert_exporter": "python",
   "pygments_lexer": "ipython3",
   "version": "3.9.21"
  }
 },
 "nbformat": 4,
 "nbformat_minor": 5
}
