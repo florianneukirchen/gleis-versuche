{
 "cells": [
  {
   "cell_type": "markdown",
   "metadata": {},
   "source": [
    "# Nachbarschaft mit RANSAC"
   ]
  },
  {
   "cell_type": "code",
   "execution_count": 4,
   "metadata": {},
   "outputs": [],
   "source": [
    "import pdal \n",
    "import numpy as np\n",
    "import matplotlib.pyplot as plt\n",
    "import open3d as o3d\n",
    "from scipy.spatial import KDTree\n",
    "import os\n",
    "import json\n",
    "import pyvista as pv\n",
    "from sklearn.linear_model import RANSACRegressor\n",
    "\n",
    "from interessant import * # Bei Änderungen Kernel neu starten"
   ]
  },
  {
   "cell_type": "code",
   "execution_count": 5,
   "metadata": {},
   "outputs": [
    {
     "name": "stdout",
     "output_type": "stream",
     "text": [
      "Einfach 4473900_5335875.copc.laz\n"
     ]
    }
   ],
   "source": [
    "run = run24\n",
    "#run = run14\n",
    "# filename = interessant['OLA gleiche Höhe wie Gleis']\n",
    "\n",
    "# Bahnsteig: 29; Gleis hohe Intensität: 11; Weiche B: 16; Unterirdischer Bhf: 20; Gleis weit abseits: 23; Betondeckel: 28; Zug run 14 A (in run24 Achszähler): 6; \n",
    "# Viele Gleise: 33; Anfang Weiche: 34; OLA gleiche H: 35; Y: 37\n",
    "key = list(interessant.keys())[0] \n",
    "filename = interessant[key]\n",
    "print(key, filename)\n",
    "\n",
    "filename = os.path.join(run, filename)\n",
    "if not os.path.exists(filename):\n",
    "    raise FileNotFoundError(filename)"
   ]
  },
  {
   "cell_type": "code",
   "execution_count": 6,
   "metadata": {},
   "outputs": [
    {
     "name": "stdout",
     "output_type": "stream",
     "text": [
      "Voxel size: 0.8333333333333334\n"
     ]
    }
   ],
   "source": [
    "thresh = 8  # z.B. 5 oder 8\n",
    "majority_tresh  = 0.5 # Erster Durchgang 0.3, bei \"Gleis hohe Intensität\" gibt 0.5 ein viel besseres Ergebnis\n",
    "\n",
    "voxel_size = 1.0\n",
    "\n",
    "voxel_size = 25 / 30\n",
    "print(\"Voxel size:\", voxel_size)\n",
    "\n",
    "minimum_points = 50 # Erste Versuche mit 100, aber viel schwarz bei abseits liegenden Gleisen. 50 ist besser.\n",
    "minimum_in_hood = 10\n",
    "linearity_tresh = 0.98\n",
    "\n",
    "intensity_threshold = 14500\n",
    "downsample_radius = 0.3\n",
    "neighborhood_radius = 0.5"
   ]
  },
  {
   "cell_type": "code",
   "execution_count": 7,
   "metadata": {},
   "outputs": [],
   "source": [
    "import subprocess\n",
    "#subprocess.Popen([\"pyvistaviewer\", filename])"
   ]
  },
  {
   "cell_type": "markdown",
   "metadata": {},
   "source": [
    "## Voxelfilter"
   ]
  },
  {
   "cell_type": "code",
   "execution_count": 8,
   "metadata": {},
   "outputs": [],
   "source": [
    "pipeline = pdal.Pipeline([pdal.Reader(filename)])\n",
    "pipeline.execute()\n",
    "points = pipeline.arrays[0]"
   ]
  },
  {
   "cell_type": "code",
   "execution_count": 9,
   "metadata": {},
   "outputs": [],
   "source": [
    "xyz = np.vstack((points['X'], points['Y'], points['Z'])).transpose()"
   ]
  },
  {
   "cell_type": "code",
   "execution_count": 10,
   "metadata": {},
   "outputs": [],
   "source": [
    "# Offset entfernen (aber gerundet, damit Kachelgrenzen ganze Zahlen bleiben)\n",
    "offset = xyz.mean(axis=0).round() \n",
    "# xyz -= offset   # Nur für Visualisierung benötigt"
   ]
  },
  {
   "cell_type": "code",
   "execution_count": 11,
   "metadata": {},
   "outputs": [],
   "source": [
    "points['Classification'] = 0 # Unclassified\n",
    "RAIL = 20"
   ]
  },
  {
   "cell_type": "code",
   "execution_count": 12,
   "metadata": {},
   "outputs": [
    {
     "data": {
      "text/plain": [
       "(array([4.4739250e+06, 5.3359000e+06, 5.3012408e+02]),\n",
       " array([4.4739000e+06, 5.3358750e+06, 5.1300348e+02]))"
      ]
     },
     "execution_count": 12,
     "metadata": {},
     "output_type": "execute_result"
    }
   ],
   "source": [
    "maxp = xyz.max(axis=0)\n",
    "minp = xyz.min(axis=0)\n",
    "maxp, minp"
   ]
  },
  {
   "cell_type": "code",
   "execution_count": 13,
   "metadata": {},
   "outputs": [],
   "source": [
    "voxels = xyz.copy()\n",
    "voxels[:, :2] = ((xyz[:, :2] - minp[:2]) // voxel_size).astype(int)"
   ]
  },
  {
   "cell_type": "code",
   "execution_count": 14,
   "metadata": {},
   "outputs": [
    {
     "data": {
      "text/plain": [
       "array([30, 30])"
      ]
     },
     "execution_count": 14,
     "metadata": {},
     "output_type": "execute_result"
    }
   ],
   "source": [
    "# Anzahl der Voxel checken\n",
    "np.ceil((maxp[:2] - minp[:2]) / voxel_size).astype(int)"
   ]
  },
  {
   "cell_type": "code",
   "execution_count": 15,
   "metadata": {},
   "outputs": [],
   "source": [
    "from collections import defaultdict\n",
    "voxel_dict = defaultdict(list)\n",
    "index_dict = defaultdict(list)\n",
    "\n",
    "# Füllen des Dictionaries\n",
    "for idx, (point, voxel) in enumerate(zip(xyz, voxels)):\n",
    "    voxel_key = tuple(voxel[:2])\n",
    "    voxel_dict[voxel_key].append(point[2])\n",
    "    index_dict[voxel_key].append(idx)"
   ]
  },
  {
   "cell_type": "code",
   "execution_count": 16,
   "metadata": {},
   "outputs": [],
   "source": [
    "for key, z_values in voxel_dict.items():\n",
    "    \n",
    "    # Threshold on number of points in voxel\n",
    "    if len(z_values) < minimum_points:\n",
    "        continue\n",
    "\n",
    "    indices = np.array(index_dict[key])\n",
    "    z_values = np.array(z_values)\n",
    "    ground_level = np.percentile(z_values, 10) # 10% Percentile\n",
    "    # Check that there are almost no points 0.5 to 4.5 m above the ground\n",
    "    # But allow for some noise\n",
    "    # thresh = 3 # Der einfachheit halber oben\n",
    "    count = ((z_values > ground_level + 0.5) & (z_values < ground_level + 4.5)).sum()\n",
    "\n",
    "    if count <= thresh:\n",
    "        # Look for points within 0.5 m above ground and get 98% percentile ODER 99.5\n",
    "        mask = (z_values > ground_level) & (z_values < ground_level + 0.5)\n",
    "        try:\n",
    "            candidates_top = np.percentile(z_values[mask], 99.5)\n",
    "        except IndexError:\n",
    "            # Fails if there are no points in the masked array\n",
    "            continue\n",
    "\n",
    "        # Oude Elberink require the height difference > 0.1 m\n",
    "        # And mark only the points 10 cm below the top as rail point candidates\n",
    "        if candidates_top - ground_level > 0.1:\n",
    "            mask = (z_values > candidates_top - 0.1) & (z_values < candidates_top + 0.05)\n",
    "\n",
    "            # Also make sure these are only a minority of the points (otherwise it's a slope)\n",
    "            if mask.sum() < majority_tresh * len(z_values):  # z.B. 0.3\n",
    "                points['Classification'][indices[mask]] = RAIL\n"
   ]
  },
  {
   "cell_type": "code",
   "execution_count": 17,
   "metadata": {},
   "outputs": [
    {
     "data": {
      "text/plain": [
       "(92692,)"
      ]
     },
     "execution_count": 17,
     "metadata": {},
     "output_type": "execute_result"
    }
   ],
   "source": [
    "candidates = points[points[\"Classification\"] == RAIL]\n",
    "candidates.shape"
   ]
  },
  {
   "cell_type": "markdown",
   "metadata": {},
   "source": [
    "## Noise Filter"
   ]
  },
  {
   "cell_type": "code",
   "execution_count": 18,
   "metadata": {},
   "outputs": [
    {
     "name": "stdout",
     "output_type": "stream",
     "text": [
      "[{\"type\": \"filters.outlier\", \"method\": \"statistical\", \"mean_k\": 10, \"multiplier\": 2.0, \"tag\": \"filters_outlier1\"}, {\"type\": \"filters.range\", \"limits\": \"Classification![7:7]\", \"tag\": \"filters_range1\"}]\n"
     ]
    },
    {
     "data": {
      "text/plain": [
       "(91051,)"
      ]
     },
     "execution_count": 18,
     "metadata": {},
     "output_type": "execute_result"
    }
   ],
   "source": [
    "# filters.outlier sets Classification to 7, filters.range removes the points with Classification 7\n",
    "\n",
    "noise_filter = pdal.Filter(\"filters.outlier\", method=\"statistical\", mean_k=10, multiplier=2.0).pipeline(candidates) | pdal.Filter(\"filters.range\", limits=\"Classification![7:7]\")\n",
    "print(noise_filter.toJSON())\n",
    "noise_filter.execute()\n",
    "candidates = noise_filter.arrays[0]\n",
    "candidates.shape "
   ]
  },
  {
   "cell_type": "markdown",
   "metadata": {},
   "source": [
    "## View Settings"
   ]
  },
  {
   "cell_type": "code",
   "execution_count": 19,
   "metadata": {},
   "outputs": [],
   "source": [
    "# Viewsettings mit strg + c kopieren und hier einfügen\n",
    "\n",
    "viewsettings = '''\n",
    "{\n",
    "\t\"class_name\" : \"ViewTrajectory\",\n",
    "\t\"interval\" : 29,\n",
    "\t\"is_loop\" : false,\n",
    "\t\"trajectory\" : \n",
    "\t[\n",
    "\t\t{\n",
    "\t\t\t\"boundingbox_max\" : [ 11.999975427985191, 11.99998692702502, 13.124079998226534 ],\n",
    "\t\t\t\"boundingbox_min\" : [ -13.000024572014809, -13.00001307297498, -3.9965200017734333 ],\n",
    "\t\t\t\"field_of_view\" : 60.0,\n",
    "\t\t\t\"front\" : [ -0.20468464372193082, -0.82045900926496551, 0.53380821531742795 ],\n",
    "\t\t\t\"lookat\" : [ -2.1145501200370735, -2.6052610037108783, 1.4494799802055294 ],\n",
    "\t\t\t\"up\" : [ 0.19010212482081987, 0.50164960558000959, 0.84392467398461002 ],\n",
    "\t\t\t\"zoom\" : 0.55999999999999983\n",
    "\t\t}\n",
    "\t],\n",
    "\t\"version_major\" : 1,\n",
    "\t\"version_minor\" : 0\n",
    "}\n",
    "\n",
    "'''\n",
    "\n",
    "viewsettings = json.loads(viewsettings)\n",
    "\n",
    "front = viewsettings[\"trajectory\"][0][\"front\"]\n",
    "lookat = viewsettings[\"trajectory\"][0][\"lookat\"]\n",
    "up = viewsettings[\"trajectory\"][0][\"up\"]\n",
    "zoom = viewsettings[\"trajectory\"][0][\"zoom\"]"
   ]
  },
  {
   "cell_type": "markdown",
   "metadata": {},
   "source": [
    "## Candidate and Seed Points"
   ]
  },
  {
   "cell_type": "code",
   "execution_count": 20,
   "metadata": {},
   "outputs": [],
   "source": [
    "xyz = np.vstack((candidates['X'], candidates['Y'], candidates['Z'])).transpose()\n",
    "xyz -= offset"
   ]
  },
  {
   "cell_type": "code",
   "execution_count": 21,
   "metadata": {},
   "outputs": [
    {
     "data": {
      "text/plain": [
       "(49162,)"
      ]
     },
     "execution_count": 21,
     "metadata": {},
     "output_type": "execute_result"
    }
   ],
   "source": [
    "low_intensity = candidates[candidates[\"Intensity\"] < intensity_threshold]\n",
    "low_intensity.shape"
   ]
  },
  {
   "cell_type": "code",
   "execution_count": 22,
   "metadata": {},
   "outputs": [],
   "source": [
    "# xyz_low = np.vstack((low_intensity['X'], low_intensity['Y'], low_intensity['Z'])).transpose()\n",
    "# xyz_low -= offset\n",
    "\n",
    "# pcd_low_intensity = o3d.geometry.PointCloud()\n",
    "# pcd_low_intensity.points = o3d.utility.Vector3dVector(xyz_low)\n",
    "# pcd_low_intensity.paint_uniform_color([0, 0, 0.7])"
   ]
  },
  {
   "cell_type": "code",
   "execution_count": 23,
   "metadata": {},
   "outputs": [
    {
     "data": {
      "text/plain": [
       "(396,)"
      ]
     },
     "execution_count": 23,
     "metadata": {},
     "output_type": "execute_result"
    }
   ],
   "source": [
    "# Downsample with poisson sampling\n",
    "\n",
    "downsampling_pipeline = pdal.Filter(\"filters.sample\", radius=downsample_radius).pipeline(low_intensity)\n",
    "downsampling_pipeline.execute()\n",
    "seed_points = downsampling_pipeline.arrays[0]\n",
    "seed_points.shape "
   ]
  },
  {
   "cell_type": "code",
   "execution_count": 24,
   "metadata": {},
   "outputs": [],
   "source": [
    "xyz_seed = np.vstack((seed_points['X'], seed_points['Y'], seed_points['Z'])).transpose()\n",
    "xyz_seed -= offset\n",
    "\n",
    "# pcd_seed_points = o3d.geometry.PointCloud()\n",
    "# pcd_seed_points.points = o3d.utility.Vector3dVector(xyz_seed)\n",
    "# pcd_seed_points.paint_uniform_color([1, 0, 0])"
   ]
  },
  {
   "cell_type": "code",
   "execution_count": 25,
   "metadata": {},
   "outputs": [],
   "source": [
    "# o3d.visualization.draw_geometries([\n",
    "#     pcd_candidates, \n",
    "#     pcd_low_intensity, \n",
    "#     pcd_seed_points\n",
    "#     ], front=front, lookat=lookat, up=up, zoom=zoom)"
   ]
  },
  {
   "cell_type": "code",
   "execution_count": 26,
   "metadata": {},
   "outputs": [],
   "source": [
    "# o3d.visualization.draw_geometries([pcd_seed_points], front=front, lookat=lookat, up=up, zoom=zoom)"
   ]
  },
  {
   "cell_type": "code",
   "execution_count": 27,
   "metadata": {},
   "outputs": [],
   "source": [
    "# k-D tree with all candidate points\n",
    "tree = KDTree(xyz)  "
   ]
  },
  {
   "cell_type": "code",
   "execution_count": 28,
   "metadata": {},
   "outputs": [],
   "source": [
    "# indices: ndarray (dtype object) with a list of indices for each seed point\n",
    "indices = tree.query_ball_point(xyz_seed, r=neighborhood_radius)"
   ]
  },
  {
   "cell_type": "code",
   "execution_count": 29,
   "metadata": {},
   "outputs": [],
   "source": [
    "seed_point_count = xyz_seed.shape[0]"
   ]
  },
  {
   "cell_type": "code",
   "execution_count": 30,
   "metadata": {},
   "outputs": [],
   "source": [
    "def pca(cloud):\n",
    "    \"\"\"Use PCA to get einvalues and eigenvectors of a point cloud\"\"\"\n",
    "    mean = np.mean(cloud, axis=0)\n",
    "    centered = cloud - mean\n",
    "    cov_matrix = np.cov(centered, rowvar=False) # row variance nicht berechnen\n",
    "    eigenvals, eigenvecs = np.linalg.eig(cov_matrix)\n",
    "    sorted_indices = np.argsort(eigenvals)[::-1]\n",
    "    sorted_eigenvals = eigenvals[sorted_indices]\n",
    "    sorted_eigenvecs = eigenvecs[:,sorted_indices]\n",
    "    return sorted_eigenvals, sorted_eigenvecs\n",
    "\n",
    "def linearity(eigenvals):\n",
    "    \"\"\"Calculate the linearity of a point cloud\"\"\"\n",
    "    return (eigenvals[0] - eigenvals[1]) / eigenvals[0]\n",
    "\n",
    "def planarity(eigenvals):\n",
    "    \"\"\"Calculate the planarity of a point cloud\"\"\"\n",
    "    return (eigenvals[1] - eigenvals[2]) / eigenvals[0]"
   ]
  },
  {
   "cell_type": "code",
   "execution_count": 31,
   "metadata": {},
   "outputs": [],
   "source": [
    "def theta(eigenvects):\n",
    "    \"\"\"Angle between the first eigenvector and the z-axis\"\"\"\n",
    "    cos_theta = eigenvects.T[0] @ np.array([0, 0, 1]) / np.linalg.norm(eigenvects[0])\n",
    "    return np.arccos(cos_theta) * 180 / np.pi"
   ]
  },
  {
   "cell_type": "code",
   "execution_count": 32,
   "metadata": {},
   "outputs": [],
   "source": [
    "def fit_line_ransac(points, threshold=0.1, min_samples=20):\n",
    "    \"\"\"Fits a line to the given 2D points using RANSAC.\"\"\"\n",
    "    if len(points) < min_samples:\n",
    "        return None, None  # Not enough points\n",
    "\n",
    "    ransac = RANSACRegressor(residual_threshold=threshold)\n",
    "    ransac.fit(points[:, [0]], points[:, 1])  # X -> Y mapping\n",
    "    \n",
    "    inlier_mask = ransac.inlier_mask_\n",
    "    a, b = ransac.estimator_.coef_[0], ransac.estimator_.intercept_\n",
    "    \n",
    "    return (a, b), inlier_mask  # Line equation and inliers"
   ]
  },
  {
   "cell_type": "code",
   "execution_count": 33,
   "metadata": {},
   "outputs": [
    {
     "name": "stdout",
     "output_type": "stream",
     "text": [
      "Seed point 15 has 405 points in its neighborhood\n",
      "Planarity: 0.0017689527885354872\n",
      "Linearity: 0.9936550207338047\n",
      "Eigenvals [0.08174322 0.00051866 0.00037406]\n",
      "Theta: 89.69895390546952\n",
      "Model 1 (np.float64(-5.5009657747768985), np.float64(0.8841758228134708)) Inliers 177\n",
      "Model 2 (np.float64(-5.628164695315011), np.float64(0.7436807315963441)) Inliers 109\n"
     ]
    }
   ],
   "source": [
    "i = 15\n",
    "\n",
    "hood = xyz[indices[i]]\n",
    "if hood.shape[0] < minimum_in_hood:   \n",
    "    raise ValueError(\"Not enough points in neighborhood\") # continue\n",
    "print(f\"Seed point {i} has {hood.shape[0]} points in its neighborhood\")\n",
    "\n",
    "eigenvals, eigenvecs = pca(hood)\n",
    "print(\"Planarity:\" , planarity(eigenvals))\n",
    "print(\"Linearity:\", linearity(eigenvals))\n",
    "print(\"Eigenvals\", eigenvals)\n",
    "print(\"Theta:\", theta(eigenvecs))\n",
    "\n",
    "hood_2d = hood[:, :2]\n",
    "\n",
    "model1, inliers1 = fit_line_ransac(hood_2d)\n",
    "\n",
    "\n",
    "if model1 is not None:\n",
    "    print(\"Model 1\", model1, \"Inliers\", inliers1.sum())\n",
    "    rest = hood_2d[~inliers1]\n",
    "    model2, inliers2 = fit_line_ransac(rest)\n",
    "else:\n",
    "    model2 = None\n",
    "\n",
    "\n",
    "\n",
    "colors = np.ones((hood.shape[0], 3), dtype=np.float64) \n",
    "colors = colors * 0.5 # Gray\n",
    "\n",
    "if model1 is not None:\n",
    "    colors[inliers1] = [1, 0, 0]  # Red\n",
    "else:\n",
    "    print(\"No model\")\n",
    "if model2 is not None:\n",
    "    print(\"Model 2\", model2, \"Inliers\", inliers2.sum())\n",
    "    # Inliers2 has the shape of the remains of RANSAC pass 1\n",
    "    # Map it back to the original indices\n",
    "    inliers2_full = np.zeros(hood.shape[0], dtype=bool)\n",
    "    inliers2_full[~inliers1] = inliers2\n",
    "    colors[inliers2_full] = [0, 1, 0]  # Green\n",
    "\n",
    "\n",
    "hood_pcd = o3d.geometry.PointCloud()\n",
    "hood_pcd.points = o3d.utility.Vector3dVector(hood)\n",
    "hood_pcd.colors = o3d.utility.Vector3dVector(colors)\n",
    "o3d.visualization.draw_geometries([hood_pcd])\n",
    "\n"
   ]
  },
  {
   "cell_type": "code",
   "execution_count": null,
   "metadata": {},
   "outputs": [],
   "source": []
  },
  {
   "cell_type": "code",
   "execution_count": null,
   "metadata": {},
   "outputs": [],
   "source": []
  }
 ],
 "metadata": {
  "kernelspec": {
   "display_name": "points",
   "language": "python",
   "name": "points"
  },
  "language_info": {
   "codemirror_mode": {
    "name": "ipython",
    "version": 3
   },
   "file_extension": ".py",
   "mimetype": "text/x-python",
   "name": "python",
   "nbconvert_exporter": "python",
   "pygments_lexer": "ipython3",
   "version": "3.9.21"
  }
 },
 "nbformat": 4,
 "nbformat_minor": 2
}
