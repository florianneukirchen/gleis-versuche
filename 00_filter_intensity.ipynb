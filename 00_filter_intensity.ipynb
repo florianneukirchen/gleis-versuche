{
 "cells": [
  {
   "cell_type": "markdown",
   "metadata": {},
   "source": [
    "# Intensityversuch für Filter-Stage\n",
    "- Fazit: Es gehen viele Nicht-Gleispunkte verloren\n",
    "- Clearance sollte vorher gecheckt werden"
   ]
  },
  {
   "cell_type": "code",
   "execution_count": 12,
   "metadata": {},
   "outputs": [],
   "source": [
    "import pdal \n",
    "import numpy as np\n",
    "import seaborn as sns\n",
    "import open3d as o3d\n",
    "import os\n",
    "\n",
    "from interessant import *"
   ]
  },
  {
   "cell_type": "code",
   "execution_count": 13,
   "metadata": {},
   "outputs": [
    {
     "data": {
      "text/plain": [
       "dict_keys(['Einfach', 'Diagonal', 'Weiche', 'Ende', 'Bahnübergang', 'Bahnübergang 2', 'Zug run 14 A', 'Zug run 14 B', 'Zug run 24 A', 'Zug run 24 B', 'Gebäude', 'Gleis hohe Intensität', 'Gleis hohe Intensität 2', 'Feldweg', 'Feld', 'Weiche A', 'Weiche B', 'Zaun', 'Straße', 'Kante in Graben', 'Unterirdischer Bhf', 'Fangschiene Tunnel', 'Fangschiene Tunnel 2', 'Gleis weit abseits', 'Komische Linie', 'Kabeltöpfe', 'Güterzug', 'Güterzug Ende', 'Betondeckel', 'Bahnsteig', 'Bahnsteig Ende', 'Ding neben Gleis', 'Wände', 'Viele Gleise', 'Anfang Weiche', 'OLA gleiche Höhe wie Gleis', '4 Gleise', 'Y', 'Weiche C', 'Weiche D', 'Für template', 'Rand', 'Extrem viele Punkte run24', 'Viele Gleise 2', 'Kreuzung linker Teil', 'Kreuzung rechter Teil', 'Weiche abseits', 'Drei', 'Gestrüpp', 'Weiche Rumgeeier', 'Nicht befahren 1', 'Nicht befahren 2', 'Nicht befahren 3'])"
      ]
     },
     "execution_count": 13,
     "metadata": {},
     "output_type": "execute_result"
    }
   ],
   "source": [
    "interessant.keys()"
   ]
  },
  {
   "cell_type": "code",
   "execution_count": 14,
   "metadata": {},
   "outputs": [
    {
     "data": {
      "text/plain": [
       "True"
      ]
     },
     "execution_count": 14,
     "metadata": {},
     "output_type": "execute_result"
    }
   ],
   "source": [
    "run = run24\n",
    "filename = interessant[\"Einfach\"]\n",
    "filename = os.path.join(run24, filename)\n",
    "os.path.exists(filename)"
   ]
  },
  {
   "cell_type": "code",
   "execution_count": 15,
   "metadata": {},
   "outputs": [
    {
     "data": {
      "text/plain": [
       "dtype([('X', '<f8'), ('Y', '<f8'), ('Z', '<f8'), ('Intensity', '<u2'), ('ReturnNumber', 'u1'), ('NumberOfReturns', 'u1'), ('ScanDirectionFlag', 'u1'), ('EdgeOfFlightLine', 'u1'), ('Classification', 'u1'), ('Synthetic', 'u1'), ('KeyPoint', 'u1'), ('Withheld', 'u1'), ('Overlap', 'u1'), ('ScanAngleRank', '<f4'), ('UserData', 'u1'), ('PointSourceId', '<u2'), ('GpsTime', '<f8'), ('ScanChannel', 'u1'), ('Red', '<u2'), ('Green', '<u2'), ('Blue', '<u2')])"
      ]
     },
     "execution_count": 15,
     "metadata": {},
     "output_type": "execute_result"
    }
   ],
   "source": [
    "pipeline = pdal.Pipeline([pdal.Reader(filename)])\n",
    "pipeline.execute()\n",
    "points = pipeline.arrays[0]\n",
    "points.dtype # Column names and types"
   ]
  },
  {
   "cell_type": "code",
   "execution_count": 16,
   "metadata": {},
   "outputs": [],
   "source": [
    "xyz = np.vstack((points['X'], points['Y'], points['Z'])).transpose()\n",
    "rgb = np.vstack((points['Red'], points['Green'], points['Blue'])).transpose() / 65535.0\n",
    "\n",
    "# Offset entfernen\n",
    "offset = xyz.mean(axis=0)\n",
    "xyz -= offset"
   ]
  },
  {
   "cell_type": "code",
   "execution_count": 17,
   "metadata": {},
   "outputs": [
    {
     "data": {
      "text/plain": [
       "(1803127, 3)"
      ]
     },
     "execution_count": 17,
     "metadata": {},
     "output_type": "execute_result"
    }
   ],
   "source": [
    "xyz.shape"
   ]
  },
  {
   "cell_type": "code",
   "execution_count": 18,
   "metadata": {},
   "outputs": [],
   "source": [
    "pcd = o3d.geometry.PointCloud()\n",
    "pcd.points = o3d.utility.Vector3dVector(xyz)\n",
    "pcd.colors = o3d.utility.Vector3dVector(rgb)"
   ]
  },
  {
   "cell_type": "code",
   "execution_count": 19,
   "metadata": {},
   "outputs": [],
   "source": [
    "o3d.visualization.draw_geometries([pcd])"
   ]
  },
  {
   "cell_type": "markdown",
   "metadata": {},
   "source": [
    "## Test Filter auf Intensity"
   ]
  },
  {
   "cell_type": "code",
   "execution_count": 20,
   "metadata": {},
   "outputs": [],
   "source": [
    "def intensity_filter(points, thresh=14500):\n",
    "    mask = points['Intensity'] < thresh\n",
    "    filtered_array = points[mask]\n",
    "    print(f\"Filtered out {len(points) - len(filtered_array)} points (old: {len(points)}, new: {len(filtered_array)})\")\n",
    "    filtered_pcd = o3d.geometry.PointCloud()\n",
    "    filtered_pcd.points = o3d.utility.Vector3dVector(np.vstack((filtered_array['X'], filtered_array['Y'], filtered_array['Z'])).transpose())\n",
    "    filtered_pcd.colors = o3d.utility.Vector3dVector(np.vstack((filtered_array['Red'], filtered_array['Green'], filtered_array['Blue'])).transpose() / 65535.0)\n",
    "    return filtered_array, filtered_pcd\n"
   ]
  },
  {
   "cell_type": "code",
   "execution_count": 21,
   "metadata": {},
   "outputs": [
    {
     "name": "stdout",
     "output_type": "stream",
     "text": [
      "Filtered out 1505235 points (old: 1803127, new: 297892)\n"
     ]
    }
   ],
   "source": [
    "filtered_points, filtered_pcd = intensity_filter(points)"
   ]
  },
  {
   "cell_type": "code",
   "execution_count": 22,
   "metadata": {},
   "outputs": [],
   "source": [
    "o3d.visualization.draw_geometries([filtered_pcd])"
   ]
  },
  {
   "cell_type": "code",
   "execution_count": null,
   "metadata": {},
   "outputs": [],
   "source": []
  }
 ],
 "metadata": {
  "kernelspec": {
   "display_name": "points",
   "language": "python",
   "name": "points"
  },
  "language_info": {
   "codemirror_mode": {
    "name": "ipython",
    "version": 3
   },
   "file_extension": ".py",
   "mimetype": "text/x-python",
   "name": "python",
   "nbconvert_exporter": "python",
   "pygments_lexer": "ipython3",
   "version": "3.9.21"
  }
 },
 "nbformat": 4,
 "nbformat_minor": 2
}
