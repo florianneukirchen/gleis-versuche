{
 "cells": [
  {
   "cell_type": "markdown",
   "id": "190bc678",
   "metadata": {},
   "source": [
    "# Parameter tweaking"
   ]
  },
  {
   "cell_type": "code",
   "execution_count": 1,
   "id": "ca99fc0b",
   "metadata": {},
   "outputs": [
    {
     "name": "stdout",
     "output_type": "stream",
     "text": [
      "Jupyter environment detected. Enabling Open3D WebVisualizer.\n",
      "[Open3D INFO] WebRTC GUI backend enabled.\n",
      "[Open3D INFO] WebRTCWindowSystem: HTTP handshake server disabled.\n"
     ]
    }
   ],
   "source": [
    "import pdal \n",
    "import numpy as np\n",
    "import matplotlib.pyplot as plt\n",
    "\n",
    "from osgeo import ogr\n",
    "import pyvista as pv\n",
    "import os\n",
    "import sys\n",
    "from scipy.spatial import KDTree\n",
    "\n",
    "from interessant import * # Bei Änderungen Kernel neu starten\n",
    "sys.path.append(\"/home/riannek/code/gleis/gleisachse\")\n",
    "from algs.centralpoints import *\n",
    "from algs.voxelfilter import *\n",
    "\n",
    "ogr.UseExceptions()"
   ]
  },
  {
   "cell_type": "code",
   "execution_count": 2,
   "id": "88188a20",
   "metadata": {},
   "outputs": [
    {
     "name": "stdout",
     "output_type": "stream",
     "text": [
      "Einfach 4473900_5335875.copc.laz\n"
     ]
    }
   ],
   "source": [
    "run24 = \"/media/riannek/minimax/gleis/run24-2024-08-13\"\n",
    "run14 = \"/media/riannek/minimax/gleis/run14-2024-08-14\"\n",
    "\n",
    "run = run24\n",
    "\n",
    "# Bahnsteig: 29; Gleis hohe Intensität: 11; Weiche B: 16; Unterirdischer Bhf: 20; Gleis weit abseits: 23; Betondeckel: 28; Zug run 14 A: 6; \n",
    "# Viele Gleise: 33; Anfang Weiche: 34; OLA gleiche H: 35; Y: 37; Auch viele Gleise: 43; Kreuzung: 44, 45; 47 Drei\n",
    "\n",
    "key = list(interessant.keys())[0] \n",
    "\n",
    "filename = interessant[key]\n",
    "\n",
    "print(key, filename)\n",
    "\n",
    "\n",
    "filename = os.path.join(run, filename)\n",
    "\n",
    "\n",
    "if not os.path.exists(filename):\n",
    "    raise FileNotFoundError(filename)"
   ]
  },
  {
   "cell_type": "code",
   "execution_count": 3,
   "id": "570d15e5",
   "metadata": {},
   "outputs": [],
   "source": [
    "gauge = 1.435\n",
    "railhead_width = 0.067\n",
    "\n",
    "tile_size = 25          # side length of each file\n",
    "voxelcount = 30 \n",
    "\n",
    "voxel_empty_space_thresh = 10 # 10 good for low noise data\n",
    "voxel_top_percentile = 99.5   # 99.5 good for low noise data, with noise try 98\n",
    "\n",
    "voxel_majority_thresh = 0.5\n",
    "voxel_minimum_points = 50\n",
    "voxel_ground_percentile = 10\n",
    "\n",
    "neighborhood_radius = 0.5\n",
    "linearity_tresh = 0.98 \n",
    "thresh_side_distance = 0.15 # Must be > 0.15 for tight curves\n",
    "\n",
    "cluster_minimum_points = 10 \n",
    "seedpoint_distance = 0.3 \n",
    "\n",
    "intensity_threshold=14500"
   ]
  },
  {
   "cell_type": "code",
   "execution_count": 4,
   "id": "b58a3798",
   "metadata": {},
   "outputs": [],
   "source": [
    "voxel_size = tile_size / voxelcount\n",
    "\n",
    "constraints = GeometryConstraints(\n",
    "    voxel_size, \n",
    "    voxel_minimum_points, \n",
    "    voxel_empty_space_thresh, \n",
    "    voxel_ground_percentile, \n",
    "    voxel_top_percentile,\n",
    "    voxel_majority_thresh, \n",
    "    )\n",
    "\n",
    "points, _ = voxelfilter(\n",
    "    filename, \n",
    "    voxel_size,\n",
    "    constraints,\n",
    "    cluster_minimum_points,\n",
    "    \"\",\n",
    "    write=False,\n",
    "    )\n",
    "\n",
    "if points is None:\n",
    "    raise ValueError(\"No rail points found in the file.\")"
   ]
  },
  {
   "cell_type": "code",
   "execution_count": 5,
   "id": "9a7cecd3",
   "metadata": {},
   "outputs": [],
   "source": [
    "low_intensity = points[points[\"Intensity\"] < intensity_threshold]\n",
    "downsampling_pipeline = pdal.Filter(\"filters.sample\", radius=seedpoint_distance).pipeline(low_intensity)\n",
    "downsampling_pipeline.execute()\n",
    "\n",
    "\n",
    "seed_points = downsampling_pipeline.arrays[0]\n",
    "seed_point_count = len(seed_points)\n",
    "\n",
    "# Center the data, KD Tree\n",
    "xyz = np.vstack((points['X'], points['Y'], points['Z'])).transpose()\n",
    "xyz_seed = np.vstack((seed_points['X'], seed_points['Y'], seed_points['Z'])).transpose()\n",
    "offset = xyz.mean(axis=0)\n",
    "xyz -= offset\n",
    "xyz_seed -= offset\n",
    "\n",
    "tree = KDTree(xyz)\n",
    "indices = tree.query_ball_point(xyz_seed, r=neighborhood_radius, workers=-1)\n"
   ]
  },
  {
   "cell_type": "code",
   "execution_count": 6,
   "id": "29ee8c52",
   "metadata": {},
   "outputs": [],
   "source": [
    "def plot_cluster_pair_compare(cluster, cluster_other, transformmatrix, representive_a, representive_b, representive_aa, representive_bb, railhead_width = 0.067): \n",
    "    \"\"\"Compare both versions of represantive points \n",
    "    \"\"\"\n",
    "    center = (cluster.sum(axis=0) + cluster_other.sum(axis=0)) / (cluster.shape[0] + cluster_other.shape[0])\n",
    "    center_cluster = cluster.mean(axis=0)\n",
    "    center_other = cluster_other.mean(axis=0)\n",
    "\n",
    "\n",
    "    cluster = cluster - center_cluster\n",
    "    cluster_other = cluster_other - center_other\n",
    "\n",
    "\n",
    "    transformed = cluster @ transformmatrix\n",
    "    transformed_other = cluster_other @ transformmatrix\n",
    "    \n",
    "    representive_a = representive_a - center_cluster\n",
    "    representive_b = representive_b - center_other\n",
    "    representive_a = representive_a @ transformmatrix\n",
    "    representive_b = representive_b @ transformmatrix\n",
    "\n",
    "    representive_aa = representive_aa - center_cluster\n",
    "    representive_bb = representive_bb - center_other\n",
    "    representive_aa = representive_aa @ transformmatrix\n",
    "    representive_bb = representive_bb @ transformmatrix\n",
    "\n",
    "\n",
    "\n",
    "\n",
    "    # Check if we need to switch the left, right cluster\n",
    "    center_cluster_in_pc = (center_cluster - center) @ transformmatrix\n",
    "    center_other_in_pc = (center_other - center) @ transformmatrix\n",
    "    if center_cluster_in_pc[0] > center_other_in_pc[0]:\n",
    "        transformed, transformed_other = transformed_other, transformed\n",
    "        representive_a, representive_b = representive_b, representive_a\n",
    "        representive_aa, representive_bb = representive_bb, representive_aa\n",
    "        print(\"Switched clusters\")\n",
    "\n",
    "    fig, ax = plt.subplots(1,2, figsize=(15, 7))\n",
    "\n",
    "    ax[0].set_ylim(-0.08, 0.08)\n",
    "    ax[1].set_ylim(-0.08, 0.08)\n",
    "\n",
    "    ax[0].axvline(0, color=\"lightgrey\", linestyle=\"-\", zorder=-1)\n",
    "    ax[0].axhline(0, color=\"lightgrey\", linestyle=\"-\", zorder=-1)\n",
    "    ax[1].axvline(0, color=\"lightgrey\", linestyle=\"-\", zorder=-1)\n",
    "    ax[1].axhline(0, color=\"lightgrey\", linestyle=\"-\", zorder=-1)\n",
    "\n",
    "    ax[0].scatter(transformed[:,0], transformed[:,2], c=transformed[:,1], cmap=plt.cm.plasma, marker=\".\")\n",
    "    ax[0].set_aspect(\"equal\")\n",
    "\n",
    "\n",
    "    ax[0].axvline(representive_a[0], color=\"forestgreen\", linestyle=\"--\", zorder=-1)\n",
    "    ax[0].axvline(representive_a[0] - (railhead_width/2), color=\"lightgreen\", linestyle=\"--\", zorder=-1)\n",
    "    ax[0].axvline(representive_a[0] + (railhead_width/2), color=\"lightgreen\", linestyle=\"--\", zorder=-1)\n",
    "    ax[0].axhline(representive_a[2], color=\"forestgreen\", linestyle=\"--\", zorder=-1)\n",
    "\n",
    "    ax[1].scatter(transformed_other[:,0], transformed_other[:,2], c=transformed_other[:,1], cmap=plt.cm.plasma, marker=\".\")\n",
    "    ax[1].set_aspect(\"equal\")\n",
    "\n",
    "    ax[1].axvline(representive_b[0], color=\"forestgreen\", linestyle=\"--\", zorder=-1)\n",
    "    ax[1].axvline(representive_b[0] - (railhead_width/2), color=\"lightgreen\", linestyle=\"--\", zorder=-1)\n",
    "    ax[1].axvline(representive_b[0] + (railhead_width/2), color=\"lightgreen\", linestyle=\"--\", zorder=-1)\n",
    "    ax[1].axhline(representive_b[2], color=\"forestgreen\", linestyle=\"--\", zorder=-1)\n",
    "\n",
    "    ax[0].axvline(representive_aa[0], color=\"steelblue\", linestyle=\"--\", zorder=-1)\n",
    "    ax[0].axvline(representive_aa[0] - (railhead_width/2), color=\"skyblue\", linestyle=\"--\", zorder=-1)\n",
    "    ax[0].axvline(representive_aa[0] + (railhead_width/2), color=\"skyblue\", linestyle=\"--\", zorder=-1)\n",
    "    ax[0].axhline(representive_aa[2], color=\"steelblue\", linestyle=\"--\", zorder=-1)\n",
    "\n",
    "\n",
    "    ax[1].axvline(representive_bb[0], color=\"steelblue\", linestyle=\"--\", zorder=-1)\n",
    "    ax[1].axvline(representive_bb[0] - (railhead_width/2), color=\"skyblue\", linestyle=\"--\", zorder=-1)\n",
    "    ax[1].axvline(representive_bb[0] + (railhead_width/2), color=\"skyblue\", linestyle=\"--\", zorder=-1)\n",
    "    ax[1].axhline(representive_bb[2], color=\"steelblue\", linestyle=\"--\", zorder=-1)\n",
    "\n",
    "\n",
    "\n",
    "    plt.show()\n",
    "    return fig, ax, transformed, transformed_other"
   ]
  },
  {
   "cell_type": "code",
   "execution_count": 7,
   "id": "6ea95e94",
   "metadata": {},
   "outputs": [],
   "source": [
    "def representive_point_3(cluster, transformmatrix, upperpercentile=90, lowerpercentile=70, railhead_width=0.067, side=None):\n",
    "    \"\"\"Version 3\n",
    "\n",
    "    Unterschied bei \"Vor allem Top\": \n",
    "        min und max x bei z>-0.01\n",
    "        lowerpercentile des oberen Teils für z\n",
    "    \"\"\"\n",
    "\n",
    "\n",
    "    center = cluster.mean(axis=0)\n",
    "    centered = cluster - center\n",
    "    transformed = centered @ transformmatrix\n",
    "    max_z = transformed[:,2].max()\n",
    "\n",
    "    if max_z < 0.03:\n",
    "        # This happens if most points are on the top of the rail (usually max_z close to 0.02)\n",
    "        # Calculate the mean of the range for points above -0.01\n",
    "        # (this makes sure we get the approx. railhead width)\n",
    "        transformed_x_upper = transformed[transformed[:,2] > -0.01][:,0]\n",
    "        center_x = (transformed_x_upper.max() + transformed_x_upper.min()) / 2\n",
    "        # only consider points above the centroid\n",
    "        center_z = np.percentile(transformed[transformed[:,2] > 0][:,2], lowerpercentile)\n",
    "        side = 0\n",
    "    else:\n",
    "        # Many points are on the side of the rail (usually the max_z around 0.04)\n",
    "        # but we need check which side \n",
    "\n",
    "        if side is None:\n",
    "            side = which_side(transformed)\n",
    "\n",
    "        # x values of points above the centroid\n",
    "        # (there might be outliers in the lower part of the cluster)\n",
    "        transformed_x_upper = transformed[transformed[:,2] > 0][:,0]\n",
    "\n",
    "        if side < 0:\n",
    "            # left side\n",
    "            # Only consider one quadrant in the transformed space\n",
    "            # This makes clusters with more or less points on the rail top more comparable\n",
    "            min_x = np.percentile(transformed_x_upper[transformed_x_upper < 0],100-lowerpercentile)\n",
    "            center_x = min_x + railhead_width / 2\n",
    "        else:\n",
    "            max_x = np.percentile(transformed_x_upper[transformed_x_upper > 0],lowerpercentile)\n",
    "            center_x = max_x - railhead_width / 2 \n",
    "        center_z = np.percentile(transformed[transformed[:,2] > 0][:,2], upperpercentile)\n",
    "\n",
    "    \n",
    "    transformed_representive = np.array([center_x, 0, center_z])\n",
    "    return transformed_representive @ transformmatrix.T + center, side"
   ]
  },
  {
   "cell_type": "code",
   "execution_count": 8,
   "id": "e12477ff",
   "metadata": {},
   "outputs": [],
   "source": [
    "def which_side(cluster):\n",
    "    \"\"\"Check which on which side of the rail the transformed cluster is\n",
    "    \n",
    "    Returns a value between -1 and 1, positive values if points are on the \n",
    "    right side of the rail, and negative values for the left side. \n",
    "    The absolute value is kind of the confidence of the estimation.\n",
    "    \"\"\"\n",
    "\n",
    "    # Count the points below the centroid, on the left and the right side \n",
    "    # but only within half the width of the railhead \n",
    "\n",
    "    left_mask = (cluster[:,2] < 0) & (cluster[:,0] < 0) & (cluster[:,0] > -railhead_width/2)\n",
    "    right_mask = (cluster[:,2] < 0) & (cluster[:,0] > 0) & (cluster[:,0] < railhead_width/2)\n",
    "    left_count = np.sum(left_mask)\n",
    "    right_count = np.sum(right_mask)\n",
    "    both_count = left_count + right_count\n",
    "    if both_count == 0:\n",
    "        return 0\n",
    "    return (left_count - right_count) / both_count"
   ]
  },
  {
   "cell_type": "code",
   "execution_count": 9,
   "id": "362ea52b",
   "metadata": {},
   "outputs": [],
   "source": [
    "centralpoints = []\n",
    "railtoppoints = []\n",
    "clustercenters = []\n",
    "\n",
    "for cluster, clustercenter, cluster_other, center_other, eigenvects in pair_generator(xyz, tree, indices, seed_point_count, gauge):\n",
    "        transformmatrix = get_transformmatrix(cluster, cluster_other, clustercenter, center_other, eigenvects)\n",
    "        representive_a, side_a  = representive_point(cluster, transformmatrix, railhead_width) \n",
    "        representive_b, side_b = representive_point(cluster_other, transformmatrix, railhead_width)\n",
    "\n",
    "        if representive_a is None or representive_b is None:\n",
    "            # Happens in rare cases at switches\n",
    "            continue\n",
    "\n",
    "        # Check if both are classified as the same side\n",
    "        # but a zero and non zero value is not a problem\n",
    "        if side_a * side_b < 0:\n",
    "            # Update the cluster with lower confidence of the side estimation\n",
    "            if np.abs(side_a) < np.abs(side_b):\n",
    "                representive_a, side_a  = representive_point(cluster, transformmatrix, railhead_width, side=side_b)\n",
    "            else:\n",
    "                representive_b, side_b = representive_point(cluster_other, transformmatrix,  railhead_width, side=side_a)\n",
    "\n",
    "        if representive_a is None or representive_b is None:\n",
    "            continue\n",
    "\n",
    "        central = get_central_point(representive_a, representive_b)\n",
    "        railtoppoints.append(representive_a)\n",
    "        railtoppoints.append(representive_b)\n",
    "        centralpoints.append(central)\n",
    "        clustercenters.append(clustercenter)\n",
    "        clustercenters.append(center_other)"
   ]
  },
  {
   "cell_type": "code",
   "execution_count": 10,
   "id": "ca2e45e7",
   "metadata": {},
   "outputs": [],
   "source": [
    "railtoppoints = np.array(railtoppoints)\n",
    "centralpoints = np.array(centralpoints)\n",
    "clustercenters = np.array(clustercenters)"
   ]
  },
  {
   "cell_type": "code",
   "execution_count": 11,
   "id": "5d3d4b92",
   "metadata": {},
   "outputs": [
    {
     "data": {
      "application/vnd.jupyter.widget-view+json": {
       "model_id": "f43194652b8b421aa2cec7297b3a5b35",
       "version_major": 2,
       "version_minor": 0
      },
      "text/plain": [
       "Widget(value='<iframe src=\"http://localhost:40369/index.html?ui=P_0x7f05f0c49df0_0&reconnect=auto\" class=\"pyvi…"
      ]
     },
     "metadata": {},
     "output_type": "display_data"
    }
   ],
   "source": [
    "pcl_all = pv.PolyData(xyz)\n",
    "pcentral = pv.PolyData(centralpoints)\n",
    "ptop = pv.PolyData(railtoppoints)\n",
    "\n",
    "pclc = pv.PolyData(clustercenters)\n",
    "\n",
    "p = pv.Plotter()\n",
    "p.add_mesh(pcl_all, color=\"grey\", opacity=0.5, point_size=2)\n",
    "p.add_mesh(pclc, color=\"blue\", point_size=3)\n",
    "\n",
    "p.add_mesh(pcentral, color=\"red\",  point_size=5)\n",
    "p.add_mesh(ptop, color=\"red\",  point_size=5)\n",
    "\n",
    "p.show()"
   ]
  },
  {
   "cell_type": "code",
   "execution_count": 12,
   "id": "5645e6e8",
   "metadata": {},
   "outputs": [],
   "source": [
    "pcd_all = o3d.geometry.PointCloud()\n",
    "pcd_all.points = o3d.utility.Vector3dVector(xyz)\n",
    "pcd_all.paint_uniform_color([0.5, 0.5, 0.5])\n",
    "pcd_rep = o3d.geometry.PointCloud()\n",
    "pcd_rep.points = o3d.utility.Vector3dVector(railtoppoints)\n",
    "pcd_rep.paint_uniform_color([1, 0, 0])\n",
    "pcd_cen = o3d.geometry.PointCloud()\n",
    "pcd_cen.points = o3d.utility.Vector3dVector(centralpoints)\n",
    "pcd_cen.paint_uniform_color([0, 0, 1])\n",
    "\n",
    "o3d.visualization.draw_geometries([pcd_all, pcd_rep, pcd_cen],)"
   ]
  },
  {
   "cell_type": "markdown",
   "id": "9fef5f1d",
   "metadata": {},
   "source": [
    "# Einzeln"
   ]
  },
  {
   "cell_type": "code",
   "execution_count": 13,
   "id": "827add8a",
   "metadata": {},
   "outputs": [],
   "source": [
    "pair_gen = pair_generator(xyz, tree, indices, seed_point_count, gauge)"
   ]
  },
  {
   "cell_type": "code",
   "execution_count": 14,
   "id": "ec158a1f",
   "metadata": {},
   "outputs": [],
   "source": [
    "for i in range(30):\n",
    "    next(pair_gen)"
   ]
  },
  {
   "cell_type": "code",
   "execution_count": 15,
   "id": "7610eb96",
   "metadata": {},
   "outputs": [
    {
     "ename": "NameError",
     "evalue": "name 'clustercenter_other' is not defined",
     "output_type": "error",
     "traceback": [
      "\u001b[0;31m---------------------------------------------------------------------------\u001b[0m",
      "\u001b[0;31mNameError\u001b[0m                                 Traceback (most recent call last)",
      "Cell \u001b[0;32mIn[15], line 8\u001b[0m\n\u001b[1;32m      5\u001b[0m upperpercentile\u001b[38;5;241m=\u001b[39m\u001b[38;5;241m90\u001b[39m\n\u001b[1;32m      6\u001b[0m lowerpercentile \u001b[38;5;241m=\u001b[39m \u001b[38;5;241m70\u001b[39m\n\u001b[0;32m----> 8\u001b[0m transformmatrix \u001b[38;5;241m=\u001b[39m get_transformmatrix(cluster, cluster_other, clustercenter, \u001b[43mclustercenter_other\u001b[49m, eigenvects)\n\u001b[1;32m      9\u001b[0m \u001b[38;5;66;03m#print(\"Transformmatrix\")\u001b[39;00m\n\u001b[1;32m     10\u001b[0m \u001b[38;5;66;03m#print(transformmatrix)\u001b[39;00m\n\u001b[1;32m     12\u001b[0m \u001b[38;5;28;01mif\u001b[39;00m transformmatrix[\u001b[38;5;241m2\u001b[39m,\u001b[38;5;241m2\u001b[39m] \u001b[38;5;241m<\u001b[39m \u001b[38;5;241m0\u001b[39m: \u001b[38;5;66;03m# z of the third eigenvector\u001b[39;00m\n",
      "\u001b[0;31mNameError\u001b[0m: name 'clustercenter_other' is not defined"
     ]
    }
   ],
   "source": [
    "#cluster, clustercenter, cluster_other, clustercenter_other, eigenvects = next(pair_gen)\n",
    "\n",
    "percentile = 95\n",
    "\n",
    "upperpercentile=90\n",
    "lowerpercentile = 70\n",
    "\n",
    "transformmatrix = get_transformmatrix(cluster, cluster_other, clustercenter, clustercenter_other, eigenvects)\n",
    "#print(\"Transformmatrix\")\n",
    "#print(transformmatrix)\n",
    "\n",
    "if transformmatrix[2,2] < 0: # z of the third eigenvector\n",
    "    print(\"Inverted eigenvectors\")\n",
    "    transformmatrix *= -1\n",
    "    \n",
    "representive_a, side_a = representive_point(cluster, transformmatrix)\n",
    "representive_b, side_b = representive_point(cluster_other, transformmatrix)\n",
    "\n",
    "if side_a * side_b < 0:\n",
    "    print(\"Different sides\")\n",
    "    # Update the cluster with lower confidence of the side estimation\n",
    "    if np.abs(side_a) < np.abs(side_b):\n",
    "        representive_a, side_a  = representive_point(cluster, transformmatrix, upperpercentile=upperpercentile, lowerpercentile=lowerpercentile, railhead_width=0.067, side=side_b)\n",
    "    else:\n",
    "        representive_b, side_b = representive_point(cluster_other, transformmatrix, upperpercentile=upperpercentile, lowerpercentile=lowerpercentile, railhead_width=0.067, side=side_a)\n",
    "\n",
    "representative_aa, side_a  = representive_point_3(cluster, transformmatrix, upperpercentile=upperpercentile, lowerpercentile=lowerpercentile, railhead_width=0.067)\n",
    "representative_bb, side_b = representive_point_3(cluster_other, transformmatrix, upperpercentile=upperpercentile, lowerpercentile=lowerpercentile, railhead_width=0.067)\n",
    "\n",
    "if side_a * side_b < 0:\n",
    "    print(\"Different sides\")\n",
    "    # Update the cluster with lower confidence of the side estimation\n",
    "    if np.abs(side_a) < np.abs(side_b):\n",
    "        representative_aa, side_a  = representive_point_3(cluster, transformmatrix, upperpercentile=upperpercentile, lowerpercentile=lowerpercentile, railhead_width=0.067, side=side_b)\n",
    "    else:\n",
    "        representative_bb, side_b = representive_point_3(cluster_other, transformmatrix, upperpercentile=upperpercentile, lowerpercentile=lowerpercentile, railhead_width=0.067, side=side_a)\n",
    "\n",
    "\n",
    "    #representative_aaa, representative_bbb = representative_bbb, representative_aaa\n",
    "\n",
    "\n",
    "#o3d.visualization.draw_geometries([pcd_all, pcd_clusters, mesh_frame, pcd_clustercenters, pcd_representive])\n",
    "print(\"Points per Cluster\", len(cluster), len(cluster_other))\n",
    "fig, ax, transformed, transformed_other = plot_cluster_pair_compare(cluster, cluster_other, transformmatrix, representive_a, representive_b, representative_aa, representative_bb,  railhead_width = 0.067)\n",
    "\n",
    "\n",
    "\n"
   ]
  },
  {
   "cell_type": "code",
   "execution_count": null,
   "id": "26001b0f",
   "metadata": {},
   "outputs": [
    {
     "data": {
      "text/plain": [
       "(array([-3.51053751, -4.62082572,  0.11966457]),\n",
       " array([-3.51053751, -4.62082572,  0.11966457]))"
      ]
     },
     "execution_count": 42,
     "metadata": {},
     "output_type": "execute_result"
    }
   ],
   "source": [
    "representive_a ,representative_aa"
   ]
  },
  {
   "cell_type": "code",
   "execution_count": null,
   "id": "8962dad2",
   "metadata": {},
   "outputs": [
    {
     "data": {
      "text/plain": [
       "array([-3.49541763, -4.61913993,  0.08204379])"
      ]
     },
     "execution_count": 43,
     "metadata": {},
     "output_type": "execute_result"
    }
   ],
   "source": [
    "cluster.mean(axis=0)"
   ]
  },
  {
   "cell_type": "code",
   "execution_count": null,
   "id": "d4e35fbc",
   "metadata": {},
   "outputs": [],
   "source": [
    "bla = np.vstack((representive_a, cluster.mean(axis=0)))"
   ]
  },
  {
   "cell_type": "code",
   "execution_count": null,
   "id": "e4a19825",
   "metadata": {},
   "outputs": [],
   "source": [
    "pcd = o3d.geometry.PointCloud()\n",
    "pcd.points = o3d.utility.Vector3dVector(cluster)\n",
    "pcd.paint_uniform_color([0.5, 0.5, 0.5])\n",
    "\n",
    "rep = o3d.geometry.PointCloud()\n",
    "rep.points = o3d.utility.Vector3dVector(bla)\n",
    "rep.paint_uniform_color([1, 0, 0])\n",
    "\n",
    "o3d.visualization.draw_geometries([pcd, rep])"
   ]
  },
  {
   "cell_type": "code",
   "execution_count": null,
   "id": "3d2df17f",
   "metadata": {},
   "outputs": [],
   "source": []
  }
 ],
 "metadata": {
  "kernelspec": {
   "display_name": "points",
   "language": "python",
   "name": "points"
  },
  "language_info": {
   "codemirror_mode": {
    "name": "ipython",
    "version": 3
   },
   "file_extension": ".py",
   "mimetype": "text/x-python",
   "name": "python",
   "nbconvert_exporter": "python",
   "pygments_lexer": "ipython3",
   "version": "3.9.21"
  }
 },
 "nbformat": 4,
 "nbformat_minor": 5
}
