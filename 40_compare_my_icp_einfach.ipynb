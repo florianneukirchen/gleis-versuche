{
 "cells": [
  {
   "cell_type": "markdown",
   "metadata": {},
   "source": [
    "# Compare My & ICP\n",
    "- Einfache Situationen \n",
    "    - typischerweise median distance etwas über 3 mm\n",
    "    - ICP hat dabei manchmal extreme Ausreisser\n",
    "    - ansonsten mal das eine, mal das andere besser\n",
    "    - bei Achszähler meist beide schlecht\n",
    "    - Abweichung von mehreren cm: immer ICP schuld\n",
    "- Schwierige Situationen: \n",
    "    - ICP versagt sehr oft, My manchmal"
   ]
  },
  {
   "cell_type": "code",
   "execution_count": 1,
   "metadata": {},
   "outputs": [
    {
     "name": "stdout",
     "output_type": "stream",
     "text": [
      "Jupyter environment detected. Enabling Open3D WebVisualizer.\n",
      "[Open3D INFO] WebRTC GUI backend enabled.\n",
      "[Open3D INFO] WebRTCWindowSystem: HTTP handshake server disabled.\n"
     ]
    }
   ],
   "source": [
    "import pdal \n",
    "import numpy as np\n",
    "import matplotlib.pyplot as plt\n",
    "from scipy.spatial import KDTree, cKDTree\n",
    "from scipy.linalg import svd \n",
    "from osgeo import ogr\n",
    "import pyvista as pv\n",
    "import os\n",
    "import csv\n",
    "import time \n",
    "import matplotlib.pyplot as plt\n",
    "import copy\n",
    "\n",
    "import open3d as o3d\n",
    "from interessant import * # Bei Änderungen Kernel neu starten\n",
    "\n",
    "\n",
    "ogr.UseExceptions()"
   ]
  },
  {
   "cell_type": "code",
   "execution_count": 2,
   "metadata": {},
   "outputs": [
    {
     "name": "stdout",
     "output_type": "stream",
     "text": [
      "Einfach 4473900_5335875.ply\n"
     ]
    }
   ],
   "source": [
    "tmpdir = \"/media/riannek/minimax/gleis/temp_run24\"\n",
    "\n",
    "# Bahnsteig: 29; Gleis hohe Intensität: 11; Weiche B: 16; Unterirdischer Bhf: 20; Gleis weit abseits: 23; Betondeckel: 28; Zug run 14 A: 6; \n",
    "# Viele Gleise: 33; Anfang Weiche: 34; OLA gleiche H: 35; Y: 37; Auch viele Gleise: 43; Kreuzung: 44, 45;\n",
    "\n",
    "key = list(interessant.keys())[0] #43\n",
    "\n",
    "filename = interessant[key]\n",
    "filename = filename.split(\".\")[0] + \".ply\"\n",
    "print(key, filename)\n",
    "\n",
    "\n",
    "if not os.path.exists(os.path.join(tmpdir, \"candidates\", filename)):\n",
    "    raise FileNotFoundError(filename)\n",
    "\n",
    "# filename =  \"4474100_5333625.ply\""
   ]
  },
  {
   "cell_type": "code",
   "execution_count": 3,
   "metadata": {},
   "outputs": [],
   "source": [
    "thresh_side_distance = 0.15   # 0.1 ist meist gut, aber in manchen Fällen zu wenig (z.B. Anfang Weiche)\n",
    "\n",
    "intensity_threshold = 14500\n",
    "downsample_radius = 0.45 # 0.4\n",
    "neighborhood_radius = 0.5 # 0.5\n",
    "\n",
    "min_points = 10\n",
    "minimum_in_hood = 10\n",
    "linearity_tresh = 0.98\n",
    "\n",
    "gauge = 1.435\n",
    "railhead_width = 0.067"
   ]
  },
  {
   "cell_type": "code",
   "execution_count": 4,
   "metadata": {},
   "outputs": [],
   "source": [
    "runfolder = \"/media/riannek/minimax/gleis/run24-2024-08-13\"\n",
    "\n",
    "import subprocess\n",
    "# subprocess.Popen([\"pyvistaviewer\", os.path.join(runfolder, filename.split(\".\")[0] + \".copc.laz\")])"
   ]
  },
  {
   "cell_type": "markdown",
   "metadata": {},
   "source": [
    "## Laden"
   ]
  },
  {
   "cell_type": "code",
   "execution_count": 5,
   "metadata": {},
   "outputs": [],
   "source": [
    "gpkg = ogr.Open(os.path.join(tmpdir, \"temp.gpkg\"))\n",
    "layer = gpkg.GetLayerByName(\"tiles\")"
   ]
  },
  {
   "cell_type": "code",
   "execution_count": 6,
   "metadata": {},
   "outputs": [],
   "source": [
    "def extend_bbox(bbox, margin=2):\n",
    "    # MinX, MaxX, MinY, MaxY\n",
    "    return (bbox[0] - margin, bbox[1] + margin, bbox[2] - margin, bbox[3] + margin)\n",
    "\n",
    "def get_bbox_polygon(bbox):  \n",
    "    ring = ogr.Geometry(ogr.wkbLinearRing)      \n",
    "    ring.AddPoint_2D(bbox[0], bbox[2])  # MinX, MinY\n",
    "    ring.AddPoint_2D(bbox[1], bbox[2])  # MaxX, MinY\n",
    "    ring.AddPoint_2D(bbox[1], bbox[3])  # MaxX, MaxY\n",
    "    ring.AddPoint_2D(bbox[0], bbox[3])  # MinX, MaxY\n",
    "    ring.AddPoint_2D(bbox[0], bbox[2])  # Close ring\n",
    "    geom = ogr.Geometry(ogr.wkbPolygon)\n",
    "    geom.AddGeometry(ring)\n",
    "    return geom"
   ]
  },
  {
   "cell_type": "code",
   "execution_count": 7,
   "metadata": {},
   "outputs": [
    {
     "name": "stdout",
     "output_type": "stream",
     "text": [
      "['4473925_5335850.ply', '4473875_5335900.ply', '4473875_5335850.ply', '4473900_5335850.ply', '4473875_5335875.ply', '4473900_5335900.ply', '4473900_5335875.ply']\n"
     ]
    }
   ],
   "source": [
    "filter = f\"filename = '{filename}'\"\n",
    "layer.SetAttributeFilter(filter)\n",
    "feature = layer.GetNextFeature()\n",
    "layer.SetAttributeFilter(None)\n",
    "bbox = feature.GetGeometryRef().GetEnvelope()\n",
    "extended = extend_bbox(bbox, margin=2)\n",
    "bbox_geom = get_bbox_polygon(extended)\n",
    "layer.SetSpatialFilter(bbox_geom)\n",
    "tiles = [f.GetField(\"filename\") for f in layer]\n",
    "layer.SetSpatialFilter(None) \n",
    "\n",
    "print(tiles) "
   ]
  },
  {
   "cell_type": "code",
   "execution_count": 8,
   "metadata": {},
   "outputs": [
    {
     "data": {
      "text/plain": [
       "(4473900.0, 4473925.0, 5335875.0, 5335900.0)"
      ]
     },
     "execution_count": 8,
     "metadata": {},
     "output_type": "execute_result"
    }
   ],
   "source": [
    "bbox # MinX, MaxX, MinY, MaxY"
   ]
  },
  {
   "cell_type": "code",
   "execution_count": 9,
   "metadata": {},
   "outputs": [],
   "source": [
    "del gpkg"
   ]
  },
  {
   "cell_type": "code",
   "execution_count": 10,
   "metadata": {},
   "outputs": [
    {
     "data": {
      "text/plain": [
       "'([4473898.0, 4473927.0], [5335873.0, 5335902.0])'"
      ]
     },
     "execution_count": 10,
     "metadata": {},
     "output_type": "execute_result"
    }
   ],
   "source": [
    "bounds = f\"([{extended[0]}, {extended[1]}], [{extended[2]}, {extended[3]}])\" \n",
    "bounds"
   ]
  },
  {
   "cell_type": "code",
   "execution_count": 11,
   "metadata": {},
   "outputs": [
    {
     "data": {
      "text/plain": [
       "(107650,)"
      ]
     },
     "execution_count": 11,
     "metadata": {},
     "output_type": "execute_result"
    }
   ],
   "source": [
    "readers = [pdal.Reader(os.path.join(tmpdir, \"candidates\", tile)) for tile in tiles]\n",
    "pipeline = pdal.Pipeline(readers) | pdal.Filter.merge() | pdal.Filter.crop(bounds=bounds)\n",
    "pipeline.execute()\n",
    "points = pipeline.arrays[0]\n",
    "points.shape "
   ]
  },
  {
   "cell_type": "code",
   "execution_count": 12,
   "metadata": {},
   "outputs": [
    {
     "data": {
      "text/plain": [
       "(57235,)"
      ]
     },
     "execution_count": 12,
     "metadata": {},
     "output_type": "execute_result"
    }
   ],
   "source": [
    "low_intensity = points[points[\"Intensity\"] < intensity_threshold]\n",
    "low_intensity.shape"
   ]
  },
  {
   "cell_type": "code",
   "execution_count": 13,
   "metadata": {},
   "outputs": [
    {
     "data": {
      "text/plain": [
       "'([4473900.0, 4473925.0], [5335875.0, 5335900.0])'"
      ]
     },
     "execution_count": 13,
     "metadata": {},
     "output_type": "execute_result"
    }
   ],
   "source": [
    "bounds = f\"([{bbox[0]}, {bbox[1]}], [{bbox[2]}, {bbox[3]}])\" \n",
    "bounds"
   ]
  },
  {
   "cell_type": "code",
   "execution_count": 14,
   "metadata": {},
   "outputs": [
    {
     "data": {
      "text/plain": [
       "266"
      ]
     },
     "execution_count": 14,
     "metadata": {},
     "output_type": "execute_result"
    }
   ],
   "source": [
    "# Downsample with poisson sampling (only original bbox)\n",
    "\n",
    "downsampling_pipeline = pdal.Filter.crop(bounds=bounds).pipeline(low_intensity) | pdal.Filter(\"filters.sample\", radius=downsample_radius)\n",
    "downsampling_pipeline.execute()\n",
    "seed_points = downsampling_pipeline.arrays[0]\n",
    "seed_point_count = seed_points.shape[0]\n",
    "seed_point_count"
   ]
  },
  {
   "cell_type": "code",
   "execution_count": 15,
   "metadata": {},
   "outputs": [],
   "source": [
    "xyz = np.vstack((points['X'], points['Y'], points['Z'])).transpose()\n",
    "xyz_seed = np.vstack((seed_points['X'], seed_points['Y'], seed_points['Z'])).transpose()"
   ]
  },
  {
   "cell_type": "code",
   "execution_count": 16,
   "metadata": {},
   "outputs": [],
   "source": [
    "offset = xyz.mean(axis=0).round() \n",
    "xyz -= offset\n",
    "xyz_seed -= offset"
   ]
  },
  {
   "cell_type": "code",
   "execution_count": 17,
   "metadata": {},
   "outputs": [],
   "source": [
    "tree = KDTree(xyz)  \n",
    "\n",
    "# indices: ndarray (dtype object) with a list of indices for each seed point\n",
    "indices = tree.query_ball_point(xyz_seed, r=neighborhood_radius, workers=-1)"
   ]
  },
  {
   "cell_type": "code",
   "execution_count": 18,
   "metadata": {},
   "outputs": [],
   "source": [
    "def pca(cloud):\n",
    "    \"\"\"Use PCA to get einvalues and eigenvectors of a point cloud\n",
    "    \n",
    "    Returns (eigenvalues, eigenvectors)\n",
    "    \"\"\"\n",
    "    if cloud.shape[0] < 3:\n",
    "        raise ValueError(\"Point cloud must have at least 3 points\")\n",
    "    mean = np.mean(cloud, axis=0)\n",
    "    centered = cloud - mean\n",
    "    U, S, Vt = svd(centered, full_matrices=False)\n",
    "    eigenvals = S**2/(cloud.shape[0]-1)\n",
    "    # Returned vectors are in columns, first vector is eigenvec[:, 0] == eigenvec.T[0]\n",
    "    return eigenvals, Vt.T\n",
    "\n",
    "\n",
    "def linearity(eigenvals):\n",
    "    \"\"\"Calculate the linearity of a point cloud\"\"\"\n",
    "    return (eigenvals[0] - eigenvals[1]) / eigenvals[0]\n"
   ]
  },
  {
   "cell_type": "code",
   "execution_count": 19,
   "metadata": {},
   "outputs": [],
   "source": [
    "def dbscan_stretchz(xyz, min_points=10, stretch=1.5):\n",
    "\n",
    "    pointcount = xyz.shape[0]\n",
    "    if pointcount <= min_points:\n",
    "        return np.ones(pointcount, dtype=np.int8) * -1\n",
    "    \n",
    "    eps = 50 / pointcount\n",
    "    eps = max(eps, 0.06)\n",
    "    \n",
    "    xyz = xyz.copy()\n",
    "    xyz[:, 2] *= stretch\n",
    "    hood_pcd = o3d.geometry.PointCloud()\n",
    "    hood_pcd.points = o3d.utility.Vector3dVector(xyz) \n",
    "    # eps is min distance between clusters\n",
    "    labels = np.array(hood_pcd.cluster_dbscan(eps=eps, min_points=min_points, print_progress=False))\n",
    "    return labels\n",
    "\n"
   ]
  },
  {
   "cell_type": "code",
   "execution_count": 20,
   "metadata": {},
   "outputs": [],
   "source": [
    "def plot_first_eigenvec(point, eigenvects, color=[1, 0, 0], stretch=1):\n",
    "    \"\"\"Plot a vector as a line\"\"\"\n",
    "    vector = eigenvects.T[0] * stretch\n",
    "    end = point + vector\n",
    "    line = o3d.geometry.LineSet()\n",
    "    line.points = o3d.utility.Vector3dVector([point, end])\n",
    "    line.lines = o3d.utility.Vector2iVector([[0, 1]])\n",
    "    line.colors = o3d.utility.Vector3dVector([color])\n",
    "    return line"
   ]
  },
  {
   "cell_type": "code",
   "execution_count": 21,
   "metadata": {},
   "outputs": [],
   "source": [
    "def plot_cluster_line(cluster, eigenvects, stretch=0.2):\n",
    "    start = cluster.mean(axis=0)\n",
    "    vector = eigenvects.T[0] * stretch\n",
    "    end = start + vector\n",
    "    line = pv.Line(start, end)\n",
    "\n",
    "    return line"
   ]
  },
  {
   "cell_type": "code",
   "execution_count": 22,
   "metadata": {},
   "outputs": [],
   "source": [
    "def plot_cluster(cluster, eigenvects=None): \n",
    "    center = cluster.mean(axis=0)\n",
    "    centered = cluster - center\n",
    "\n",
    "    if eigenvects is None:\n",
    "        eigenvals, eigenvects = pca(cluster)\n",
    "\n",
    "    transformed = centered @ eigenvects\n",
    "    fig, ax = plt.subplots(figsize=(10, 15))\n",
    "    ax.scatter(transformed[:,0], transformed[:,2], c=transformed[:,1], cmap=plt.cm.plasma, marker=\".\")\n",
    "    ax.set_aspect(\"equal\")\n",
    "    plt.show()\n",
    "    return fig, ax"
   ]
  },
  {
   "cell_type": "code",
   "execution_count": 23,
   "metadata": {},
   "outputs": [],
   "source": [
    "def to_color(skalar, cmap=plt.cm.plasma):\n",
    "    return cmap(skalar)[:3]"
   ]
  },
  {
   "cell_type": "code",
   "execution_count": 24,
   "metadata": {},
   "outputs": [],
   "source": [
    "def get_central_point(a, b):\n",
    "    \"\"\"Get the point in the middle of two points\"\"\"\n",
    "    vector = b - a\n",
    "    return a + vector / 2"
   ]
  },
  {
   "cell_type": "code",
   "execution_count": 25,
   "metadata": {},
   "outputs": [],
   "source": [
    "def plot_cluster(cluster, eigenvects=None): \n",
    "    center = cluster.mean(axis=0)\n",
    "    centered = cluster - center\n",
    "\n",
    "    if eigenvects is None:\n",
    "        eigenvals, eigenvects = pca(cluster)\n",
    "\n",
    "    transformed = centered @ eigenvects\n",
    "    fig, ax = plt.subplots(figsize=(10, 15))\n",
    "    ax.scatter(transformed[:,0], transformed[:,2], c=transformed[:,1], cmap=plt.cm.plasma, marker=\".\")\n",
    "    ax.set_aspect(\"equal\")\n",
    "    plt.show()\n",
    "    return fig, ax\n",
    "    "
   ]
  },
  {
   "cell_type": "code",
   "execution_count": 26,
   "metadata": {},
   "outputs": [],
   "source": [
    "def cluster_is_on_top(cluster, clustercenter, points):\n",
    "    \"\"\"Check that there are no points above the cluster center\"\"\"\n",
    "    x_min, x_max = clustercenter[0] - 0.05, clustercenter[0] + 0.05\n",
    "    y_min, y_max = clustercenter[1] - 0.05, clustercenter[1] + 0.05\n",
    "    z_min = cluster[:,2].max()\n",
    "\n",
    "    mask = ((points[:, 0] > x_min) & \n",
    "        (points[:, 0] < x_max) & \n",
    "        (points[:, 1] > y_min) & \n",
    "        (points[:, 1] < y_max) & \n",
    "        (points[:, 2] > z_min))\n",
    "    \n",
    "    \n",
    "    return points[mask].shape[0] == 0"
   ]
  },
  {
   "cell_type": "code",
   "execution_count": 27,
   "metadata": {},
   "outputs": [],
   "source": [
    "def plot_cluster_pair(cluster, cluster_other, transformmatrix, percentile=95, railhead_width = 0.067, centering=\"cluster\", point_this=None, point_other=None): \n",
    "    \"\"\"Plot pair of clusters in the PCA coordinate system of the pair \n",
    "    \n",
    "    Args:\n",
    "        cluster (np.array): Cluster of points\n",
    "        cluster_other (np.array): Other cluster of points\n",
    "        eigenvects (np.array): Eigenvectors of the PCA of the pair of clusters\n",
    "        percentile (int): Percentile of the height for the horizontal line\n",
    "        railhead_width (float): Width of the railhead (0.067 or 0.072)\n",
    "        centering (str): \"cluster\" or \"pair\"\n",
    "    \"\"\"\n",
    "    center = (cluster.sum(axis=0) + cluster_other.sum(axis=0)) / (cluster.shape[0] + cluster_other.shape[0])\n",
    "    center_cluster = cluster.mean(axis=0)\n",
    "    center_other = cluster_other.mean(axis=0)\n",
    "\n",
    "    if centering == \"cluster\":\n",
    "        cluster = cluster - center_cluster\n",
    "        cluster_other = cluster_other - center_other\n",
    "        point_this = point_this - center_cluster\n",
    "        point_other = point_other - center_other\n",
    "    else:\n",
    "        cluster = cluster - center\n",
    "        cluster_other = cluster_other - center\n",
    "        point_this = point_this - center\n",
    "        point_other = point_other - center\n",
    "\n",
    "    transformed = cluster @ transformmatrix\n",
    "    transformed_other = cluster_other @ transformmatrix\n",
    "    #print(\"center\", center)\n",
    "    #print(center_cluster - center, center_other - center)\n",
    "    #print((center_cluster - center) @ transformmatrix, (center_other - center) @ transformmatrix)\n",
    "\n",
    "\n",
    "    # Check if we need to switch the left, right cluster\n",
    "    center_cluster_in_pc = (center_cluster - center) @ transformmatrix\n",
    "    center_other_in_pc = (center_other - center) @ transformmatrix\n",
    "    if center_cluster_in_pc[0] > center_other_in_pc[0]:\n",
    "        transformed, transformed_other = transformed_other, transformed\n",
    "        point_this, point_other = point_other, point_this\n",
    "        # print(\"Switched clusters\")\n",
    "\n",
    "    fig, ax = plt.subplots(1,2, figsize=(15, 7))\n",
    "\n",
    "    if centering == \"cluster\":\n",
    "        ax[0].set_ylim(-0.08, 0.06)\n",
    "        ax[1].set_ylim(-0.08, 0.06)\n",
    "    else:\n",
    "        ax[0].set_xlim(-0.85, -0.65)\n",
    "        ax[0].set_ylim(-0.08, 0.06)\n",
    "        ax[1].set_xlim(0.65, 0.85)\n",
    "        ax[1].set_ylim(-0.08, 0.06)\n",
    "        ax[0].axvline(-gauge/2, color=\"lightgrey\", linestyle=\"-\", zorder=-1)\n",
    "        ax[0].axvline(-gauge/2 - railhead_width, color=\"lightgrey\", linestyle=\"-\", zorder=-1)\n",
    "        ax[1].axvline(gauge/2, color=\"lightgrey\", linestyle=\"-\", zorder=-1)\n",
    "        ax[1].axvline(gauge/2 + railhead_width, color=\"lightgrey\", linestyle=\"-\", zorder=-1)\n",
    "\n",
    "    ax[0].scatter(transformed[:,0], transformed[:,2], c=transformed[:,1], cmap=plt.cm.plasma, marker=\".\")\n",
    "    ax[0].set_aspect(\"equal\")\n",
    "\n",
    "    x_mean = transformed[:,0].mean()\n",
    "    ax[0].axvline(x_mean, color=\"forestgreen\", linestyle=\"--\", zorder=-1)\n",
    "    ax[0].axvline(x_mean - (railhead_width/2), color=\"lightgreen\", linestyle=\"--\", zorder=-1)\n",
    "    ax[0].axvline(x_mean + (railhead_width/2), color=\"lightgreen\", linestyle=\"--\", zorder=-1)\n",
    "    ax[0].axhline(np.percentile(transformed[:,2], percentile), color=\"forestgreen\", linestyle=\"--\", zorder=-1)\n",
    "    ax[0].axhline(transformed[:,2].mean(), color=\"forestgreen\", linestyle=\"--\", zorder=-1)\n",
    "\n",
    "    ax[1].scatter(transformed_other[:,0], transformed_other[:,2], c=transformed_other[:,1], cmap=plt.cm.plasma, marker=\".\")\n",
    "    ax[1].set_aspect(\"equal\")\n",
    "\n",
    "    x_mean = transformed_other[:,0].mean()\n",
    "    ax[1].axvline(x_mean, color=\"forestgreen\", linestyle=\"--\", zorder=-1)\n",
    "    ax[1].axvline(x_mean - (railhead_width/2), color=\"lightgreen\", linestyle=\"--\", zorder=-1)\n",
    "    ax[1].axvline(x_mean + (railhead_width/2), color=\"lightgreen\", linestyle=\"--\", zorder=-1)\n",
    "    ax[1].axhline(np.percentile(transformed_other[:,2], percentile), color=\"forestgreen\", linestyle=\"--\", zorder=-1)\n",
    "    ax[1].axhline(transformed_other[:,2].mean(), color=\"forestgreen\", linestyle=\"--\", zorder=-1)\n",
    "\n",
    "    if point_this is not None:\n",
    "        point_this_transformed = point_this  @ transformmatrix\n",
    "        ax[0].axvline(point_this_transformed[0], color=\"red\", linestyle=\"--\", zorder=-1)\n",
    "        ax[0].axhline(point_this_transformed[2], color=\"red\", linestyle=\"--\", zorder=-1)\n",
    "        ax[0].axvline(point_this_transformed[0] - (railhead_width/2), color=\"tomato\", linestyle=\"--\", zorder=-1)\n",
    "        ax[0].axvline(point_this_transformed[0] + (railhead_width/2), color=\"tomato\", linestyle=\"--\", zorder=-1)\n",
    "        ax[0].annotate(f\"{point_this_transformed[0]:.5f}\", xy=(point_this_transformed[0], point_this_transformed[2]), xytext=(point_this_transformed[0] + 0.01, point_this_transformed[2] + 0.01), fontsize=10, color=\"red\", ha=\"left\", va=\"bottom\")\n",
    "\n",
    "    if point_other is not None:\n",
    "        point_other_transformed = point_other  @ transformmatrix\n",
    "        ax[1].axvline(point_other_transformed[0], color=\"red\", linestyle=\"--\", zorder=-1)\n",
    "        ax[1].axhline(point_other_transformed[2], color=\"red\", linestyle=\"--\", zorder=-1)\n",
    "        ax[1].axvline(point_other_transformed[0] - (railhead_width/2), color=\"tomato\", linestyle=\"--\", zorder=-1)\n",
    "        ax[1].axvline(point_other_transformed[0] + (railhead_width/2), color=\"tomato\", linestyle=\"--\", zorder=-1)\n",
    "        ax[1].annotate(f\"{point_other_transformed[0]:.5f}\", xy=(point_other_transformed[0], point_other_transformed[2]), xytext=(point_other_transformed[0] + 0.01, point_other_transformed[2] + 0.01), fontsize=10, color=\"red\", ha=\"left\", va=\"bottom\")\n",
    "\n",
    "    plt.show()\n",
    "    return fig, ax, transformed, transformed_other\n",
    "\n",
    "\n"
   ]
  },
  {
   "cell_type": "code",
   "execution_count": 28,
   "metadata": {},
   "outputs": [],
   "source": [
    "def which_side(cluster):\n",
    "    \"\"\"Check which on which side of the rail the transformed cluster is\n",
    "    \n",
    "    Returns a value between -1 and 1, positive values if points are on the \n",
    "    right side of the rail, and negative values for the left side. \n",
    "    The absolute value is kind of the confidence of the estimation.\n",
    "    \"\"\"\n",
    "\n",
    "    # Count the points below the centroid, on the left and the right side \n",
    "    # but only within half the width of the railhead \n",
    "\n",
    "    left_mask = (cluster[:,2] < 0) & (cluster[:,0] < 0) & (cluster[:,0] > -railhead_width/2)\n",
    "    right_mask = (cluster[:,2] < 0) & (cluster[:,0] > 0) & (cluster[:,0] < railhead_width/2)\n",
    "    left_count = np.sum(left_mask)\n",
    "    right_count = np.sum(right_mask)\n",
    "    both_count = left_count + right_count\n",
    "    if both_count == 0:\n",
    "        return 0\n",
    "    return (left_count - right_count) / both_count"
   ]
  },
  {
   "cell_type": "code",
   "execution_count": 29,
   "metadata": {},
   "outputs": [],
   "source": [
    "\n",
    "def representive_point(cluster, transformmatrix, upperpercentile=90, lowerpercentile=70, railhead_width=0.067, side=None):\n",
    "    \"\"\"Version 3s\n",
    "\n",
    "    Unterschied bei \"Vor allem Top\": \n",
    "        min und max x bei z>-0.01\n",
    "        lowerpercentile des oberen Teils für z\n",
    "    \"\"\"\n",
    "\n",
    "\n",
    "    center = cluster.mean(axis=0)\n",
    "    centered = cluster - center\n",
    "    transformed = centered @ transformmatrix\n",
    "\n",
    "    max_z = transformed[:,2].max()\n",
    "\n",
    "    if max_z < 0.03:\n",
    "        # This happens if most points are on the top of the rail (usually max_z close to 0.02)\n",
    "        # Calculate the mean of the range for points above -0.01\n",
    "        # (this makes sure we get the approx. railhead width)\n",
    "        transformed_x_upper = transformed[transformed[:,2] > -0.01][:,0]\n",
    "        center_x = (transformed_x_upper.max() + transformed_x_upper.min()) / 2\n",
    "        # only consider points above the centroid\n",
    "        center_z = np.percentile(transformed[transformed[:,2] > 0][:,2], lowerpercentile)\n",
    "        side = 0\n",
    "    else:\n",
    "        # Many points are on the side of the rail (usually the max_z around 0.04)\n",
    "        # but we need check which side \n",
    "\n",
    "        if side is None:\n",
    "            side = which_side(transformed)\n",
    "\n",
    "        # x values of points above the centroid\n",
    "        # (there might be outliers in the lower part of the cluster)\n",
    "        transformed_x_upper = transformed[transformed[:,2] > 0][:,0]\n",
    "\n",
    "        if side < 0:\n",
    "            # left side\n",
    "            # Only consider one quadrant in the transformed space\n",
    "            # This makes clusters with more or less points on the rail top more comparable\n",
    "            # IndexError if the cluster is shifted from the ideal position due to extrem outliers\n",
    "            # (happens in rare cases at switches)\n",
    "            try:\n",
    "                min_x = np.percentile(transformed_x_upper[transformed_x_upper < 0],100-lowerpercentile)\n",
    "            except IndexError:\n",
    "                return None, None\n",
    "            center_x = min_x + railhead_width / 2\n",
    "        else:\n",
    "            try:\n",
    "                max_x = np.percentile(transformed_x_upper[transformed_x_upper > 0],lowerpercentile)\n",
    "            except IndexError:\n",
    "                return None, None\n",
    "            center_x = max_x - railhead_width / 2 \n",
    "        center_z = np.percentile(transformed[transformed[:,2] > 0][:,2], upperpercentile)\n",
    "\n",
    "    \n",
    "    transformed_representive = np.array([center_x, 0, center_z])\n",
    "\n",
    "    return transformed_representive @ transformmatrix.T + center, side"
   ]
  },
  {
   "cell_type": "code",
   "execution_count": 30,
   "metadata": {},
   "outputs": [],
   "source": [
    "def get_transformmatrix(cluster, cluster_other, clustercenter, clustercenter_other, eigenvects):\n",
    "    # Use the top part of the rail clusters to circumvent the problem different point distributions\n",
    "    top = cluster[:,2].max()\n",
    "    top_other = cluster_other[:,2].max()\n",
    "    topcenter = np.array([clustercenter[0], clustercenter[1], top])\n",
    "    topcenter_other = np.array([clustercenter_other[0], clustercenter_other[1], top_other])\n",
    "    sidevector = topcenter - topcenter_other\n",
    "    # Project on the plane perpendicular to the first eigenvector\n",
    "    # (eigenvects are normalized)\n",
    "    projection_on_first_eig = (sidevector @ eigenvects.T[0]) * eigenvects.T[0]\n",
    "    sidevector_perpendicular = sidevector - projection_on_first_eig\n",
    "    sidevector_perpendicular = sidevector_perpendicular / np.linalg.norm(sidevector_perpendicular)\n",
    "    normal = np.cross(sidevector_perpendicular, eigenvects.T[0]) \n",
    "\n",
    "    matrix = np.array([sidevector_perpendicular, eigenvects.T[0], normal]).T\n",
    "\n",
    "    if normal[2] < 0:\n",
    "        Rx_180 = np.array([\n",
    "            [1,  0,  0],\n",
    "            [0, -1,  0],\n",
    "            [0,  0, -1]\n",
    "        ])\n",
    "        # Data in row vector, this is first the main rotation, than the rotation around the y axis\n",
    "        matrix = matrix @ Rx_180 \n",
    "\n",
    "    return matrix"
   ]
  },
  {
   "cell_type": "code",
   "execution_count": 31,
   "metadata": {},
   "outputs": [],
   "source": [
    "def draw_registration_result(source, target, transformation):\n",
    "    axes = axes = o3d.geometry.TriangleMesh().create_coordinate_frame(size=0.1)\n",
    "    source_temp = copy.deepcopy(source)\n",
    "    target_temp = copy.deepcopy(target)\n",
    "    source_temp.paint_uniform_color([1, 0.706, 0])\n",
    "    target_temp.paint_uniform_color([0, 0.651, 0.929])\n",
    "    source_temp.transform(transformation)\n",
    "    o3d.visualization.draw_geometries([source_temp, target_temp, axes])\n"
   ]
  },
  {
   "cell_type": "code",
   "execution_count": 32,
   "metadata": {},
   "outputs": [],
   "source": [
    "def load_clusters(preset):\n",
    "    fileleft = f\"clusterbeispiele/{preset}_l.ply\"\n",
    "    fileright = f\"clusterbeispiele/{preset}_r.ply\"\n",
    "    filepair = f\"clusterbeispiele/{preset}_pair.ply\"\n",
    "    if not os.path.exists(fileleft):\n",
    "        raise FileNotFoundError(f\"File {fileleft} not found\")\n",
    "    cluster = o3d.io.read_point_cloud(fileleft)\n",
    "    cluster_other = o3d.io.read_point_cloud(fileright)\n",
    "    cluster_pair = o3d.io.read_point_cloud(filepair)\n",
    "    return np.asarray(cluster.points) , np.asarray(cluster_other.points), np.asarray(cluster_pair.points)"
   ]
  },
  {
   "cell_type": "code",
   "execution_count": 33,
   "metadata": {},
   "outputs": [],
   "source": [
    "def cluster_generator(points, min_points):\n",
    "    if points.shape[0] < min_points:\n",
    "        return\n",
    "    \n",
    "    labels = dbscan_stretchz(points, min_points=min_points, stretch=4)\n",
    "\n",
    "    # if len(labels) == 0:\n",
    "    #     return\n",
    "    \n",
    "    max_label = labels.max()\n",
    "    \n",
    "    for label in range(max_label + 1):\n",
    "        cluster = points[labels == label]\n",
    "        if cluster.shape[0] < min_points:\n",
    "            # Somehow this happens, must be a bug in open3d\n",
    "            continue\n",
    "\n",
    "        eigenvals, eigenvects = pca(cluster)\n",
    "        cluster_linearity = linearity(eigenvals)\n",
    "\n",
    "\n",
    "        if not ((cluster_linearity > linearity_tresh) and (eigenvals[0] > 0.04)):\n",
    "            # Cluster not linear or too short\n",
    "            continue\n",
    "\n",
    "        clustercenter = cluster.mean(axis=0)\n",
    "\n",
    "        # Make sure there are no points above the cluster\n",
    "        # (exclude clusters at the base of the track profile)\n",
    "        if not cluster_is_on_top(cluster, clustercenter, points):\n",
    "            continue\n",
    "        \n",
    "        # Make sure there are no points above the cluster\n",
    "        # (exclude clusters at the base of the track profile)\n",
    "        if not cluster_is_on_top(cluster, clustercenter, points):\n",
    "            continue\n",
    "\n",
    "        # Make sure to include all points in lower part that might be chopped \n",
    "        # off by DBSCAN\n",
    "\n",
    "        # Calculate distance from vertical plane along rail direction\n",
    "        plane_normal = np.cross(eigenvects[:,0], np.array([0, 0, 1]))\n",
    "        plane_normal /= np.linalg.norm(plane_normal)\n",
    "        vects = points - clustercenter\n",
    "        distances = np.abs(vects @ plane_normal)\n",
    "        # And include points closer than 0.02 that are not yet part of the cluster\n",
    "        mask = (distances < 0.02) & (labels != label)\n",
    "        cluster = np.vstack((cluster, points[mask]))\n",
    "        clustercenter = cluster.mean(axis=0)\n",
    "\n",
    "        yield cluster, clustercenter, eigenvals, eigenvects\n",
    "\n",
    "\n",
    "def check_cluster_for_railpair(clustercenter, eigenvects, pointcloud, tree, gauge, min_points):\n",
    "\n",
    "    # Check for rail pair\n",
    "    sidevector = np.cross(eigenvects[:,0], np.array([0, 0, 1])) * (gauge + 0.07) # Add railtop width to gauge\n",
    "    bothsides = np.array([clustercenter + sidevector, clustercenter - sidevector])\n",
    "\n",
    "    indices_bothsides = tree.query_ball_point(bothsides, r=neighborhood_radius)\n",
    "    \n",
    "    # Linear cluster that is closest to one of the estimated side points (ignoring z)\n",
    "    # but must me within r = 15 cm and almost parallel\n",
    "\n",
    "    closest_cluster_distance = np.inf\n",
    "    closest_cluster = None\n",
    "    closest_cluster_center = None\n",
    "    \n",
    "    for j, side in enumerate(indices_bothsides):\n",
    "        for sidecluster, sideclustercenter, _, eigenvects_side in cluster_generator(pointcloud[side], min_points):\n",
    "            \n",
    "            # Check distance\n",
    "            sidecluster_distance = np.linalg.norm(sideclustercenter[:2] - bothsides[j][:2]) # only xy\n",
    "            if sidecluster_distance < thresh_side_distance and sidecluster_distance < closest_cluster_distance:\n",
    "                # Check if parallel\n",
    "                cos_angle = np.abs(np.dot(eigenvects[:,0], eigenvects_side[:,0]))\n",
    "                if cos_angle > 0.9:  \n",
    "                    closest_cluster = sidecluster\n",
    "                    closest_cluster_distance = sidecluster_distance\n",
    "                    closest_cluster_center = sideclustercenter\n",
    "\n",
    "    return closest_cluster, closest_cluster_center"
   ]
  },
  {
   "cell_type": "code",
   "execution_count": 34,
   "metadata": {},
   "outputs": [],
   "source": [
    "def pair_generator():\n",
    "\n",
    "    for i in range(seed_point_count):\n",
    "        for cluster, clustercenter, eigenvals, eigenvects in cluster_generator(xyz[indices[i]], min_points=min_points):\n",
    "            cluster_other, center_other = check_cluster_for_railpair(clustercenter, eigenvects, xyz, tree, gauge, min_points)\n",
    "            if cluster_other is not None:\n",
    "                yield cluster, clustercenter, cluster_other, center_other, eigenvects "
   ]
  },
  {
   "cell_type": "code",
   "execution_count": 35,
   "metadata": {},
   "outputs": [],
   "source": [
    "def get_o3d_transform(eigenvects, translation=None):\n",
    "    \"\"\"Create an open3d 4x4 transformation matrix from eigenvectors\n",
    "    \n",
    "    Version für 2 Schienen\n",
    "    \"\"\"\n",
    "    eigenvects = eigenvects.copy()\n",
    "\n",
    "    # Check if the last eigenvector is pointing down\n",
    "    if eigenvects[2,2] < 0: # z of last eigenvector is negative\n",
    "        # print(\"o3d trans was Upside down\")\n",
    "        # reflect\n",
    "        eigenvects[:,2] *= -1 # reflection \n",
    "\n",
    "    # There is a 50% chance that det(eigenvects) is close to -1\n",
    "    # (then the matrix includes a reflection)\n",
    "    if np.linalg.det(eigenvects) < 0:\n",
    "        # flip the first eigenvector\n",
    "        eigenvects[:,0] *= -1\n",
    "\n",
    "\n",
    "    transform = np.eye(4)\n",
    "    transform[0:3, 0:3] = eigenvects\n",
    "\n",
    "    if translation is not None:\n",
    "        transform[:3, 3] = translation\n",
    "    return transform"
   ]
  },
  {
   "cell_type": "code",
   "execution_count": 36,
   "metadata": {},
   "outputs": [],
   "source": [
    "templatefiles = [\n",
    "    \"T_profil_ähnlich_54E4.ply\", \n",
    "    \"T_profil_ähnlich_54E4_schräg_random2.ply\",\n",
    "    \"T_profil_ähnlich_54E4_schräg_random_wenig_punkte.ply\"\n",
    "    ]"
   ]
  },
  {
   "cell_type": "code",
   "execution_count": 37,
   "metadata": {},
   "outputs": [],
   "source": [
    "def get_template(filename):\n",
    "    shift = (gauge + railhead_width) / 2\n",
    "    pcd = o3d.io.read_point_cloud(os.path.join(\"templates\", filename))\n",
    "    left = np.asarray(pcd.points)\n",
    "    right = left.copy()\n",
    "    left[:,0] -= shift\n",
    "    right[:,0] += shift\n",
    "\n",
    "    pcd = o3d.geometry.PointCloud()\n",
    "    pcd.points = o3d.utility.Vector3dVector(np.vstack((left, right)))\n",
    "    return pcd"
   ]
  },
  {
   "cell_type": "code",
   "execution_count": 38,
   "metadata": {},
   "outputs": [],
   "source": [
    "translations = [None, np.array([0, 0, 0.03])]\n",
    "translation = translations[1]"
   ]
  },
  {
   "cell_type": "code",
   "execution_count": 39,
   "metadata": {},
   "outputs": [],
   "source": [
    "templatenr = 1\n",
    "templatefile = templatefiles[templatenr]\n",
    "source = get_template(templatefile)\n",
    "\n",
    "lines = []\n",
    "mypoints = []\n",
    "icppoints = []\n",
    "pre_centers = []\n",
    "distances = []\n",
    "side = []\n",
    "\n",
    "\n",
    "\n",
    "for cluster_this, clustercenter, cluster_other, center_other, eigenvects in pair_generator():\n",
    "    cluster_pair = np.vstack((cluster_this, cluster_other))\n",
    "\n",
    "    # My version\n",
    "    _, eigenvects = pca(cluster_this)\n",
    "    plottransform = get_transformmatrix(cluster_this, cluster_other, cluster_this.mean(axis=0), cluster_other.mean(axis=0), eigenvects)\n",
    "\n",
    "    point_this, side_a = representive_point(cluster_this, plottransform)\n",
    "    point_other, side_b = representive_point(cluster_other, plottransform)\n",
    "\n",
    "    if point_this is None or point_other is None:\n",
    "        # Happens in rare cases at switches\n",
    "        continue\n",
    "\n",
    "    if side_a * side_b < 0:\n",
    "        # Update the cluster with lower confidence of the side estimation\n",
    "        if np.abs(side_a) < np.abs(side_b):\n",
    "            point_this, side_a  = representive_point(cluster_this, plottransform, railhead_width=0.067, side=side_b)\n",
    "        else:\n",
    "            point_other, side_b = representive_point(cluster_other, plottransform,  railhead_width=0.067, side=side_a)\n",
    "\n",
    "    if point_this is None or point_other is None:\n",
    "        continue\n",
    "\n",
    "    my_centralpoint = get_central_point(point_this, point_other)\n",
    "\n",
    "\n",
    "    # ICP\n",
    "    source = get_template(templatefile)\n",
    "    _, eigenvects_pair = pca(cluster_pair)\n",
    "    center = get_central_point(cluster_this.mean(axis=0), cluster_other.mean(axis=0))\n",
    "    pre_centers.append(center)\n",
    "    centered = cluster_pair - center\n",
    "    centered_pcd = o3d.geometry.PointCloud()\n",
    "    centered_pcd.points = o3d.utility.Vector3dVector(centered)\n",
    "    trans_init = get_o3d_transform(eigenvects_pair, translation)\n",
    "    reg_p2p = o3d.pipelines.registration.registration_icp(\n",
    "        source, centered_pcd, 0.02, trans_init,\n",
    "        o3d.pipelines.registration.TransformationEstimationPointToPoint())\n",
    "\n",
    "    icp_centralpoint = center + reg_p2p.transformation[:3, 3]  \n",
    "    distance = np.linalg.norm(my_centralpoint - icp_centralpoint)\n",
    "    distances.append(distance)\n",
    "    side.append(side_a)\n",
    "    lines.append(pv.Line(my_centralpoint, icp_centralpoint))\n",
    "    mypoints.append(my_centralpoint)\n",
    "    icppoints.append(icp_centralpoint)\n",
    "\n"
   ]
  },
  {
   "cell_type": "code",
   "execution_count": 40,
   "metadata": {},
   "outputs": [
    {
     "name": "stdout",
     "output_type": "stream",
     "text": [
      "Mean 0.0033495551477108546\n",
      "Median 0.003770286297936098\n",
      "Max 0.007162847710280303\n",
      "Std 0.0015913426739360835\n",
      "Num 175\n",
      "\n",
      "Nur < 1 cm\n",
      "Mean 0.0033495551477108546\n",
      "Median 0.003770286297936098\n",
      "Std 0.0015913426739360835\n",
      "num 175\n",
      "\n",
      "Nur 0--0.003 cm\n",
      "Mean 0.0015629348121495887\n",
      "Std 0.000601892669974739\n",
      "num 66\n",
      "\n",
      "Nur 0.003--0.01 cm\n",
      "Mean 0.004431361956399329\n",
      "Std 0.0008621432649953537\n",
      "num 109\n"
     ]
    }
   ],
   "source": [
    "distances = np.array(distances)\n",
    "\n",
    "print(\"Mean\", distances.mean())\n",
    "print(\"Median\", np.median(distances))\n",
    "# print(\"Q1\", np.percentile(distances, 25))\n",
    "# print(\"Q3\", np.percentile(distances, 75))\n",
    "print(\"Max\", distances.max())\n",
    "# print(\"Min\", distances.min())\n",
    "print(\"Std\", distances.std())\n",
    "print(\"Num\", distances.shape[0])\n",
    "\n",
    "print()\n",
    "print(\"Nur < 1 cm\")\n",
    "distances_small = distances[distances < 0.01]\n",
    "print(\"Mean\", distances_small.mean())\n",
    "print(\"Median\", np.median(distances_small))\n",
    "# print(\"Q1\", np.percentile(distances_small, 25))\n",
    "# print(\"Q3\", np.percentile(distances_small, 75))\n",
    "# print(\"Max\", distances_small.max())\n",
    "# print(\"Min\", distances_small.min())\n",
    "print(\"Std\", distances_small.std())\n",
    "print(\"num\", distances_small.shape[0])\n",
    "\n",
    "print()\n",
    "print(\"Nur 0--0.003 cm\")\n",
    "distances_small1 = distances[(distances < 0.003) ]\n",
    "print(\"Mean\", distances_small1.mean())\n",
    "# print(\"Median\", np.median(distances_small))\n",
    "print(\"Std\", distances_small1.std())\n",
    "print(\"num\", distances_small1.shape[0])\n",
    "\n",
    "print()\n",
    "print(\"Nur 0.003--0.01 cm\")\n",
    "distances_small1 = distances[(distances >= 0.003) & (distances < 0.01) ]\n",
    "print(\"Mean\", distances_small1.mean())\n",
    "# print(\"Median\", np.median(distances_small))\n",
    "print(\"Std\", distances_small1.std())\n",
    "print(\"num\", distances_small1.shape[0])\n",
    "\n",
    "\n",
    "\n"
   ]
  },
  {
   "cell_type": "code",
   "execution_count": 41,
   "metadata": {},
   "outputs": [
    {
     "data": {
      "text/html": [
       "<div>\n",
       "<style scoped>\n",
       "    .dataframe tbody tr th:only-of-type {\n",
       "        vertical-align: middle;\n",
       "    }\n",
       "\n",
       "    .dataframe tbody tr th {\n",
       "        vertical-align: top;\n",
       "    }\n",
       "\n",
       "    .dataframe thead th {\n",
       "        text-align: right;\n",
       "    }\n",
       "</style>\n",
       "<table border=\"1\" class=\"dataframe\">\n",
       "  <thead>\n",
       "    <tr style=\"text-align: right;\">\n",
       "      <th></th>\n",
       "      <th>Distanz</th>\n",
       "      <th>side</th>\n",
       "    </tr>\n",
       "  </thead>\n",
       "  <tbody>\n",
       "    <tr>\n",
       "      <th>0</th>\n",
       "      <td>0.001588</td>\n",
       "      <td>0.0</td>\n",
       "    </tr>\n",
       "    <tr>\n",
       "      <th>1</th>\n",
       "      <td>0.001087</td>\n",
       "      <td>0.0</td>\n",
       "    </tr>\n",
       "    <tr>\n",
       "      <th>2</th>\n",
       "      <td>0.002203</td>\n",
       "      <td>0.0</td>\n",
       "    </tr>\n",
       "    <tr>\n",
       "      <th>3</th>\n",
       "      <td>0.007150</td>\n",
       "      <td>0.0</td>\n",
       "    </tr>\n",
       "    <tr>\n",
       "      <th>4</th>\n",
       "      <td>0.005119</td>\n",
       "      <td>0.0</td>\n",
       "    </tr>\n",
       "  </tbody>\n",
       "</table>\n",
       "</div>"
      ],
      "text/plain": [
       "    Distanz  side\n",
       "0  0.001588   0.0\n",
       "1  0.001087   0.0\n",
       "2  0.002203   0.0\n",
       "3  0.007150   0.0\n",
       "4  0.005119   0.0"
      ]
     },
     "execution_count": 41,
     "metadata": {},
     "output_type": "execute_result"
    }
   ],
   "source": [
    "import pandas as pd \n",
    "df = pd.DataFrame({\n",
    "    \"Distanz\": distances,\n",
    "    \"side\": side,\n",
    "})\n",
    "df.head()"
   ]
  },
  {
   "cell_type": "code",
   "execution_count": 42,
   "metadata": {},
   "outputs": [],
   "source": [
    "df[\"Gleis\"] = \"Parallelgleis\"\n",
    "df.loc[df[\"side\"] == 0, \"Gleis\"] = \"Befahren\""
   ]
  },
  {
   "cell_type": "code",
   "execution_count": 43,
   "metadata": {},
   "outputs": [
    {
     "data": {
      "text/plain": [
       "<seaborn.axisgrid.FacetGrid at 0x7fee709d2730>"
      ]
     },
     "execution_count": 43,
     "metadata": {},
     "output_type": "execute_result"
    },
    {
     "data": {
      "image/png": "[encoded data removed]",
      "text/plain": [
       "<Figure size 633.25x500 with 1 Axes>"
      ]
     },
     "metadata": {},
     "output_type": "display_data"
    }
   ],
   "source": [
    "import seaborn as sns\n",
    "\n",
    "g = sns.displot(data=df, x=\"Distanz\", hue=\"Gleis\", kind=\"kde\",clip=(0, None))\n",
    "g.set_axis_labels(x_var=\"Distanz\", y_var=\"Dichte\")"
   ]
  },
  {
   "cell_type": "code",
   "execution_count": 44,
   "metadata": {},
   "outputs": [
    {
     "data": {
      "text/plain": [
       "<seaborn.axisgrid.FacetGrid at 0x7fee70040f10>"
      ]
     },
     "execution_count": 44,
     "metadata": {},
     "output_type": "execute_result"
    },
    {
     "data": {
      "image/png": "[encoded data removed]",
      "text/plain": [
       "<Figure size 633.25x500 with 1 Axes>"
      ]
     },
     "metadata": {},
     "output_type": "display_data"
    }
   ],
   "source": [
    "g = sns.displot(data=df, x=\"Distanz\", hue=\"Gleis\", bins=20, alpha=0.5, element=\"step\")\n",
    "g.set_axis_labels(x_var=\"Distanz\", y_var=\"Dichte\")"
   ]
  },
  {
   "cell_type": "code",
   "execution_count": 45,
   "metadata": {},
   "outputs": [
    {
     "data": {
      "text/html": [
       "<div>\n",
       "<style scoped>\n",
       "    .dataframe tbody tr th:only-of-type {\n",
       "        vertical-align: middle;\n",
       "    }\n",
       "\n",
       "    .dataframe tbody tr th {\n",
       "        vertical-align: top;\n",
       "    }\n",
       "\n",
       "    .dataframe thead th {\n",
       "        text-align: right;\n",
       "    }\n",
       "</style>\n",
       "<table border=\"1\" class=\"dataframe\">\n",
       "  <thead>\n",
       "    <tr style=\"text-align: right;\">\n",
       "      <th></th>\n",
       "      <th>Distanz</th>\n",
       "      <th>side</th>\n",
       "    </tr>\n",
       "  </thead>\n",
       "  <tbody>\n",
       "    <tr>\n",
       "      <th>count</th>\n",
       "      <td>90.000000</td>\n",
       "      <td>90.000000</td>\n",
       "    </tr>\n",
       "    <tr>\n",
       "      <th>mean</th>\n",
       "      <td>0.004434</td>\n",
       "      <td>-0.050577</td>\n",
       "    </tr>\n",
       "    <tr>\n",
       "      <th>std</th>\n",
       "      <td>0.000775</td>\n",
       "      <td>0.794376</td>\n",
       "    </tr>\n",
       "    <tr>\n",
       "      <th>min</th>\n",
       "      <td>0.003192</td>\n",
       "      <td>-0.905882</td>\n",
       "    </tr>\n",
       "    <tr>\n",
       "      <th>25%</th>\n",
       "      <td>0.003925</td>\n",
       "      <td>-0.811111</td>\n",
       "    </tr>\n",
       "    <tr>\n",
       "      <th>50%</th>\n",
       "      <td>0.004378</td>\n",
       "      <td>-0.748563</td>\n",
       "    </tr>\n",
       "    <tr>\n",
       "      <th>75%</th>\n",
       "      <td>0.004678</td>\n",
       "      <td>0.770849</td>\n",
       "    </tr>\n",
       "    <tr>\n",
       "      <th>max</th>\n",
       "      <td>0.007163</td>\n",
       "      <td>0.911602</td>\n",
       "    </tr>\n",
       "  </tbody>\n",
       "</table>\n",
       "</div>"
      ],
      "text/plain": [
       "         Distanz       side\n",
       "count  90.000000  90.000000\n",
       "mean    0.004434  -0.050577\n",
       "std     0.000775   0.794376\n",
       "min     0.003192  -0.905882\n",
       "25%     0.003925  -0.811111\n",
       "50%     0.004378  -0.748563\n",
       "75%     0.004678   0.770849\n",
       "max     0.007163   0.911602"
      ]
     },
     "execution_count": 45,
     "metadata": {},
     "output_type": "execute_result"
    }
   ],
   "source": [
    "df[df[\"Gleis\"] == \"Parallelgleis\"].describe()"
   ]
  },
  {
   "cell_type": "code",
   "execution_count": 46,
   "metadata": {},
   "outputs": [
    {
     "data": {
      "text/html": [
       "<div>\n",
       "<style scoped>\n",
       "    .dataframe tbody tr th:only-of-type {\n",
       "        vertical-align: middle;\n",
       "    }\n",
       "\n",
       "    .dataframe tbody tr th {\n",
       "        vertical-align: top;\n",
       "    }\n",
       "\n",
       "    .dataframe thead th {\n",
       "        text-align: right;\n",
       "    }\n",
       "</style>\n",
       "<table border=\"1\" class=\"dataframe\">\n",
       "  <thead>\n",
       "    <tr style=\"text-align: right;\">\n",
       "      <th></th>\n",
       "      <th>Distanz</th>\n",
       "      <th>side</th>\n",
       "    </tr>\n",
       "  </thead>\n",
       "  <tbody>\n",
       "    <tr>\n",
       "      <th>count</th>\n",
       "      <td>85.000000</td>\n",
       "      <td>85.0</td>\n",
       "    </tr>\n",
       "    <tr>\n",
       "      <th>mean</th>\n",
       "      <td>0.002202</td>\n",
       "      <td>0.0</td>\n",
       "    </tr>\n",
       "    <tr>\n",
       "      <th>std</th>\n",
       "      <td>0.001431</td>\n",
       "      <td>0.0</td>\n",
       "    </tr>\n",
       "    <tr>\n",
       "      <th>min</th>\n",
       "      <td>0.000492</td>\n",
       "      <td>0.0</td>\n",
       "    </tr>\n",
       "    <tr>\n",
       "      <th>25%</th>\n",
       "      <td>0.001191</td>\n",
       "      <td>0.0</td>\n",
       "    </tr>\n",
       "    <tr>\n",
       "      <th>50%</th>\n",
       "      <td>0.001817</td>\n",
       "      <td>0.0</td>\n",
       "    </tr>\n",
       "    <tr>\n",
       "      <th>75%</th>\n",
       "      <td>0.002583</td>\n",
       "      <td>0.0</td>\n",
       "    </tr>\n",
       "    <tr>\n",
       "      <th>max</th>\n",
       "      <td>0.007150</td>\n",
       "      <td>0.0</td>\n",
       "    </tr>\n",
       "  </tbody>\n",
       "</table>\n",
       "</div>"
      ],
      "text/plain": [
       "         Distanz  side\n",
       "count  85.000000  85.0\n",
       "mean    0.002202   0.0\n",
       "std     0.001431   0.0\n",
       "min     0.000492   0.0\n",
       "25%     0.001191   0.0\n",
       "50%     0.001817   0.0\n",
       "75%     0.002583   0.0\n",
       "max     0.007150   0.0"
      ]
     },
     "execution_count": 46,
     "metadata": {},
     "output_type": "execute_result"
    }
   ],
   "source": [
    "df[df[\"Gleis\"] == \"Befahren\"].describe()"
   ]
  },
  {
   "cell_type": "code",
   "execution_count": 47,
   "metadata": {},
   "outputs": [],
   "source": [
    "fig = g.figure \n",
    "fig.savefig( \"distances_einfach.png\", dpi=300)"
   ]
  },
  {
   "cell_type": "code",
   "execution_count": 48,
   "metadata": {},
   "outputs": [
    {
     "data": {
      "text/plain": [
       "Text(0.5, 1.0, 'Distances < 1 cm')"
      ]
     },
     "execution_count": 48,
     "metadata": {},
     "output_type": "execute_result"
    },
    {
     "data": {
      "image/png": "[encoded data removed]",
      "text/plain": [
       "<Figure size 1000x500 with 3 Axes>"
      ]
     },
     "metadata": {},
     "output_type": "display_data"
    }
   ],
   "source": [
    "\n",
    "fig, ax = plt.subplots(1,3, figsize=(10, 5))\n",
    "ax[0].hist(distances, bins=50)\n",
    "ax[0].set_title(\"All distances\")\n",
    "ax[1].hist(distances[distances < 0.1], bins=50)\n",
    "ax[1].set_title(\"Distances < 1 dm\")\n",
    "ax[2].hist(distances[distances < 0.01], bins=50)\n",
    "ax[2].set_title(\"Distances < 1 cm\")"
   ]
  },
  {
   "cell_type": "code",
   "execution_count": 49,
   "metadata": {},
   "outputs": [
    {
     "ename": "NameError",
     "evalue": "name 'distances_z' is not defined",
     "output_type": "error",
     "traceback": [
      "\u001b[0;31m---------------------------------------------------------------------------\u001b[0m",
      "\u001b[0;31mNameError\u001b[0m                                 Traceback (most recent call last)",
      "Cell \u001b[0;32mIn[49], line 1\u001b[0m\n\u001b[0;32m----> 1\u001b[0m distances_z \u001b[38;5;241m=\u001b[39m np\u001b[38;5;241m.\u001b[39marray(\u001b[43mdistances_z\u001b[49m)\n\u001b[1;32m      2\u001b[0m \u001b[38;5;28mprint\u001b[39m(\u001b[38;5;124m\"\u001b[39m\u001b[38;5;124mMean z\u001b[39m\u001b[38;5;124m\"\u001b[39m, distances_z\u001b[38;5;241m.\u001b[39mmean())\n\u001b[1;32m      3\u001b[0m \u001b[38;5;28mprint\u001b[39m(\u001b[38;5;124m\"\u001b[39m\u001b[38;5;124mMedian z\u001b[39m\u001b[38;5;124m\"\u001b[39m, np\u001b[38;5;241m.\u001b[39mmedian(distances_z))\n",
      "\u001b[0;31mNameError\u001b[0m: name 'distances_z' is not defined"
     ]
    }
   ],
   "source": [
    "distances_z = np.array(distances_z)\n",
    "print(\"Mean z\", distances_z.mean())\n",
    "print(\"Median z\", np.median(distances_z))\n",
    "print(\"Max z\", distances_z.max())\n",
    "print(\"Min z\", distances_z.min())\n",
    "print(\"Std z\", distances_z.std())"
   ]
  },
  {
   "cell_type": "code",
   "execution_count": null,
   "metadata": {},
   "outputs": [
    {
     "name": "stdout",
     "output_type": "stream",
     "text": [
      "Mean xy 0.0032185020284837096\n",
      "Median xy 0.0036674335319001913\n",
      "Max xy 0.007152752156133295\n",
      "Min xy 7.778689354721356e-05\n",
      "Std xy 0.0015694870038952323\n"
     ]
    }
   ],
   "source": [
    "distances_xy = np.array(distances_xy)\n",
    "print(\"Mean xy\", distances_xy.mean())\n",
    "print(\"Median xy\", np.median(distances_xy))\n",
    "print(\"Max xy\", distances_xy.max())\n",
    "print(\"Min xy\", distances_xy.min())\n",
    "print(\"Std xy\", distances_xy.std())\n"
   ]
  },
  {
   "cell_type": "code",
   "execution_count": null,
   "metadata": {},
   "outputs": [
    {
     "data": {
      "application/vnd.jupyter.widget-view+json": {
       "model_id": "ac6a4deafa374d74847e2388283a74c4",
       "version_major": 2,
       "version_minor": 0
      },
      "text/plain": [
       "Widget(value='<iframe src=\"http://localhost:41437/index.html?ui=P_0x7f1af844cc40_10&reconnect=auto\" class=\"pyv…"
      ]
     },
     "metadata": {},
     "output_type": "display_data"
    }
   ],
   "source": [
    "mypoints = np.array(mypoints)\n",
    "icppoints = np.array(icppoints)\n",
    "pre_centers = np.array(pre_centers)\n",
    "\n",
    "pcd_mypoints = pv.PolyData(mypoints)\n",
    "pcd_icppoints = pv.PolyData(icppoints)\n",
    "pcd_pre_centers = pv.PolyData(pre_centers)\n",
    "\n",
    "pcd_mypoints[\"distance\"] = distances\n",
    "pcd_icppoints[\"distance\"] = distances\n",
    "\n",
    "p = pv.Plotter()\n",
    "\n",
    "p.add_mesh(pcd_mypoints, scalars=\"distance\", cmap=\"plasma\", point_size=4, render_points_as_spheres=True)\n",
    "#p.add_mesh(pcd_icppoints, scalars=\"distance\", cmap=\"plasma\", point_size=4, render_points_as_spheres=True)\n",
    "#p.add_mesh(pcd_pre_centers, color=\"green\", point_size=4, render_points_as_spheres=True)\n",
    "for line in lines:\n",
    "    p.add_mesh(line, color=\"red\")\n",
    "\n",
    "\n",
    "# p.add_mesh(pcd_mypoints, color=\"red\", point_size=4, render_points_as_spheres=True)\n",
    "# p.add_mesh(pcd_icppoints, color=\"green\", point_size=4, render_points_as_spheres=True)\n",
    "\n",
    "# for line in lines:\n",
    "#     p.add_mesh(line, color=\"red\")\n",
    "\n",
    "pcd_all = pv.PolyData(xyz)\n",
    "p.add_mesh(pcd_all, color='gray', point_size=1)\n",
    "p.show()"
   ]
  },
  {
   "cell_type": "markdown",
   "metadata": {},
   "source": [
    "# Nochmal nur mit < 1cm"
   ]
  },
  {
   "cell_type": "code",
   "execution_count": null,
   "metadata": {},
   "outputs": [
    {
     "ename": "ValueError",
     "evalue": "Stop here",
     "output_type": "error",
     "traceback": [
      "\u001b[0;31m---------------------------------------------------------------------------\u001b[0m",
      "\u001b[0;31mValueError\u001b[0m                                Traceback (most recent call last)",
      "Cell \u001b[0;32mIn[232], line 1\u001b[0m\n\u001b[0;32m----> 1\u001b[0m \u001b[38;5;28;01mraise\u001b[39;00m \u001b[38;5;167;01mValueError\u001b[39;00m(\u001b[38;5;124m\"\u001b[39m\u001b[38;5;124mStop here\u001b[39m\u001b[38;5;124m\"\u001b[39m)\n",
      "\u001b[0;31mValueError\u001b[0m: Stop here"
     ]
    }
   ],
   "source": [
    "raise ValueError(\"Stop here\")"
   ]
  },
  {
   "cell_type": "code",
   "execution_count": null,
   "metadata": {},
   "outputs": [],
   "source": [
    "translations = [None, np.array([0, 0, 0.03])]\n",
    "translation = translations[1]\n"
   ]
  },
  {
   "cell_type": "code",
   "execution_count": null,
   "metadata": {},
   "outputs": [],
   "source": [
    "templatenr = 1\n",
    "templatefile = templatefiles[templatenr]\n",
    "source = get_template(templatefile)\n",
    "\n",
    "lines = []\n",
    "mypoints = []\n",
    "icppoints = []\n",
    "pre_centers = []\n",
    "distances = []\n",
    "\n",
    "\n",
    "\n",
    "for cluster_this, clustercenter, cluster_other, center_other, eigenvects in pair_generator():\n",
    "    cluster_pair = np.vstack((cluster_this, cluster_other))\n",
    "\n",
    "    # My version\n",
    "    _, eigenvects = pca(cluster_this)\n",
    "    plottransform = get_transformmatrix(cluster_this, cluster_other, cluster_this.mean(axis=0), cluster_other.mean(axis=0), eigenvects)\n",
    "\n",
    "    point_this, side_a = representive_point(cluster_this, plottransform)\n",
    "    point_other, side_b = representive_point(cluster_other, plottransform)\n",
    "\n",
    "    if point_this is None or point_other is None:\n",
    "        # Happens in rare cases at switches\n",
    "        continue\n",
    "\n",
    "    if side_a * side_b < 0:\n",
    "        # Update the cluster with lower confidence of the side estimation\n",
    "        if np.abs(side_a) < np.abs(side_b):\n",
    "            point_this, side_a  = representive_point(cluster_this, plottransform, railhead_width=0.067, side=side_b)\n",
    "        else:\n",
    "            point_other, side_b = representive_point(cluster_other, plottransform,  railhead_width=0.067, side=side_a)\n",
    "\n",
    "    if point_this is None or point_other is None:\n",
    "        continue\n",
    "\n",
    "    my_centralpoint = get_central_point(point_this, point_other)\n",
    "\n",
    "\n",
    "    # ICP\n",
    "    source = get_template(templatefile)\n",
    "    _, eigenvects_pair = pca(cluster_pair)\n",
    "    center = get_central_point(cluster_this.mean(axis=0), cluster_other.mean(axis=0))\n",
    "    pre_centers.append(center)\n",
    "    centered = cluster_pair - center\n",
    "    centered_pcd = o3d.geometry.PointCloud()\n",
    "    centered_pcd.points = o3d.utility.Vector3dVector(centered)\n",
    "    trans_init = get_o3d_transform(eigenvects_pair, translation)\n",
    "    reg_p2p = o3d.pipelines.registration.registration_icp(\n",
    "        source, centered_pcd, 0.02, trans_init,\n",
    "        o3d.pipelines.registration.TransformationEstimationPointToPoint())\n",
    "\n",
    "    icp_centralpoint = center + reg_p2p.transformation[:3, 3]  \n",
    "    distance = np.linalg.norm(my_centralpoint - icp_centralpoint)\n",
    "    if distance < 0.01:\n",
    "        distances.append(distance)\n",
    "        lines.append(pv.Line(my_centralpoint, icp_centralpoint))\n",
    "        mypoints.append(my_centralpoint)\n",
    "        icppoints.append(icp_centralpoint)\n"
   ]
  },
  {
   "cell_type": "code",
   "execution_count": null,
   "metadata": {},
   "outputs": [
    {
     "name": "stdout",
     "output_type": "stream",
     "text": [
      "Mean 0.0012155643796510289\n",
      "Std 0.00033466758184542056\n",
      "count 38\n",
      "Mean 0.002921995690445298\n",
      "Std 0.0006347238674596242\n",
      "count 41\n",
      "Mean 0.005959784825571149\n",
      "Std 0.0010791068884501362\n",
      "count 228\n",
      "Max 0.009945533252754352\n"
     ]
    }
   ],
   "source": [
    "distances = np.array(distances)\n",
    "firstpeak = distances[distances < 0.0019]\n",
    "print(\"Mean\", firstpeak.mean())\n",
    "print(\"Std\", np.std(firstpeak))\n",
    "print(\"count\", len(firstpeak))\n",
    "\n",
    "secondpeak = distances[(distances >= 0.0019) & (distances < 0.0039)]\n",
    "print(\"Mean\", secondpeak.mean())\n",
    "print(\"Std\", np.std(secondpeak))\n",
    "print(\"count\", len(secondpeak))\n",
    "\n",
    "thirdpeak = distances[distances >= 0.0039]\n",
    "print(\"Mean\", thirdpeak.mean())\n",
    "print(\"Std\", np.std(thirdpeak))\n",
    "print(\"count\", len(thirdpeak))\n",
    "print(\"Max\", thirdpeak.max())"
   ]
  },
  {
   "cell_type": "code",
   "execution_count": null,
   "metadata": {},
   "outputs": [
    {
     "data": {
      "image/png": "[encoded data removed]",
      "text/plain": [
       "<Figure size 640x480 with 1 Axes>"
      ]
     },
     "metadata": {},
     "output_type": "display_data"
    }
   ],
   "source": [
    "fig, ax = plt.subplots()\n",
    "ax.hist(distances, bins=100);"
   ]
  },
  {
   "cell_type": "code",
   "execution_count": null,
   "metadata": {},
   "outputs": [],
   "source": [
    "fig.savefig(\"distances_hist.png\", dpi=300)  "
   ]
  },
  {
   "cell_type": "code",
   "execution_count": null,
   "metadata": {},
   "outputs": [
    {
     "data": {
      "application/vnd.jupyter.widget-view+json": {
       "model_id": "a6d551ee37f64f2ba9139aa19c328dc3",
       "version_major": 2,
       "version_minor": 0
      },
      "text/plain": [
       "Widget(value='<iframe src=\"http://localhost:41437/index.html?ui=P_0x7f1afa708040_9&reconnect=auto\" class=\"pyvi…"
      ]
     },
     "metadata": {},
     "output_type": "display_data"
    }
   ],
   "source": [
    "mypoints = np.array(mypoints)\n",
    "icppoints = np.array(icppoints)\n",
    "pre_centers = np.array(pre_centers)\n",
    "\n",
    "pcd_mypoints = pv.PolyData(mypoints)\n",
    "pcd_icppoints = pv.PolyData(icppoints)\n",
    "pcd_pre_centers = pv.PolyData(pre_centers)\n",
    "\n",
    "pcd_mypoints[\"distance\"] = distances\n",
    "pcd_icppoints[\"distance\"] = distances\n",
    "\n",
    "p = pv.Plotter()\n",
    "\n",
    "p.add_mesh(pcd_mypoints, scalars=\"distance\", cmap=\"plasma\", point_size=4, render_points_as_spheres=True)\n",
    "#p.add_mesh(pcd_icppoints, scalars=\"distance\", cmap=\"plasma\", point_size=4, render_points_as_spheres=True)\n",
    "#p.add_mesh(pcd_pre_centers, color=\"green\", point_size=4, render_points_as_spheres=True)\n",
    "for line in lines:\n",
    "    p.add_mesh(line, color=\"red\")\n",
    "\n",
    "\n",
    "# p.add_mesh(pcd_mypoints, color=\"red\", point_size=4, render_points_as_spheres=True)\n",
    "# p.add_mesh(pcd_icppoints, color=\"green\", point_size=4, render_points_as_spheres=True)\n",
    "\n",
    "# for line in lines:\n",
    "#     p.add_mesh(line, color=\"red\")\n",
    "\n",
    "pcd_all = pv.PolyData(xyz)\n",
    "p.add_mesh(pcd_all, color='gray', point_size=1)\n",
    "p.show()"
   ]
  },
  {
   "cell_type": "code",
   "execution_count": null,
   "metadata": {},
   "outputs": [],
   "source": []
  }
 ],
 "metadata": {
  "kernelspec": {
   "display_name": "points",
   "language": "python",
   "name": "points"
  },
  "language_info": {
   "codemirror_mode": {
    "name": "ipython",
    "version": 3
   },
   "file_extension": ".py",
   "mimetype": "text/x-python",
   "name": "python",
   "nbconvert_exporter": "python",
   "pygments_lexer": "ipython3",
   "version": "3.9.21"
  }
 },
 "nbformat": 4,
 "nbformat_minor": 2
}
