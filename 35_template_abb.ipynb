{
 "cells": [
  {
   "cell_type": "code",
   "execution_count": 1,
   "id": "aa86fa05",
   "metadata": {},
   "outputs": [
    {
     "name": "stdout",
     "output_type": "stream",
     "text": [
      "Jupyter environment detected. Enabling Open3D WebVisualizer.\n",
      "[Open3D INFO] WebRTC GUI backend enabled.\n",
      "[Open3D INFO] WebRTCWindowSystem: HTTP handshake server disabled.\n"
     ]
    }
   ],
   "source": [
    "import pdal \n",
    "import numpy as np\n",
    "import matplotlib.pyplot as plt\n",
    "from osgeo import ogr\n",
    "import pyvista as pv\n",
    "import os\n",
    "import matplotlib.pyplot as plt\n",
    "import json \n",
    "\n",
    "import open3d as o3d\n",
    "from interessant import * # Bei Änderungen Kernel neu starten"
   ]
  },
  {
   "cell_type": "code",
   "execution_count": 2,
   "id": "970945da",
   "metadata": {},
   "outputs": [],
   "source": [
    "templatefiles = [\n",
    "    \"T_profil_ähnlich_54E4.ply\", \n",
    "    \"T_profil_ähnlich_54E4_schräg_random2.ply\",\n",
    "    \"T_profil_ähnlich_54E4_schräg_random_wenig_punkte.ply\"\n",
    "    ]"
   ]
  },
  {
   "cell_type": "code",
   "execution_count": 3,
   "id": "c140c810",
   "metadata": {},
   "outputs": [],
   "source": [
    "template0 = o3d.io.read_point_cloud(os.path.join(\"templates\", templatefiles[0]))\n",
    "template1 = o3d.io.read_point_cloud(os.path.join(\"templates\", templatefiles[1]))\n",
    "template2 = o3d.io.read_point_cloud(os.path.join(\"templates\", templatefiles[2]))\n",
    "\n",
    "\n",
    "# template0.translate((-0.2,0,0))\n",
    "# template2.translate((0.2,0,0))"
   ]
  },
  {
   "cell_type": "code",
   "execution_count": 4,
   "id": "61371fd8",
   "metadata": {},
   "outputs": [],
   "source": [
    "viewsettings = '''\n",
    "{\n",
    "\t\"class_name\" : \"ViewTrajectory\",\n",
    "\t\"interval\" : 29,\n",
    "\t\"is_loop\" : false,\n",
    "\t\"trajectory\" : \n",
    "\t[\n",
    "\t\t{\n",
    "\t\t\t\"boundingbox_max\" : [ 0.033500000000000002, 0.24500000000000044, 0.0 ],\n",
    "\t\t\t\"boundingbox_min\" : [ -0.033500000000000002, -0.25, -0.155 ],\n",
    "\t\t\t\"field_of_view\" : 60.0,\n",
    "\t\t\t\"front\" : [ 0.65655862940280318, -0.63965953942560771, 0.39970794310162527 ],\n",
    "\t\t\t\"lookat\" : [ -0.25802140747810459, -0.052250686003672685, -0.15547098098389533 ],\n",
    "\t\t\t\"up\" : [ -0.20217839306286253, 0.36128751490023331, 0.9102720631524035 ],\n",
    "\t\t\t\"zoom\" : 0.65999999999999992\n",
    "\t\t}\n",
    "\t],\n",
    "\t\"version_major\" : 1,\n",
    "\t\"version_minor\" : 0\n",
    "}\n",
    "'''\n",
    "viewsettings = json.loads(viewsettings)\n",
    "front = viewsettings[\"trajectory\"][0][\"front\"]\n",
    "lookat = viewsettings[\"trajectory\"][0][\"lookat\"]\n",
    "up = viewsettings[\"trajectory\"][0][\"up\"]\n",
    "zoom = viewsettings[\"trajectory\"][0][\"zoom\"]\n"
   ]
  },
  {
   "cell_type": "code",
   "execution_count": 5,
   "id": "e13516c8",
   "metadata": {},
   "outputs": [],
   "source": [
    "o3d.visualization.draw_geometries([template0],  front=front, lookat=lookat, up=up, zoom=zoom)"
   ]
  },
  {
   "cell_type": "code",
   "execution_count": 6,
   "id": "338e2732",
   "metadata": {},
   "outputs": [],
   "source": [
    "o3d.visualization.draw_geometries([template1],  front=front, lookat=lookat, up=up, zoom=zoom)"
   ]
  },
  {
   "cell_type": "code",
   "execution_count": 7,
   "id": "091aba76",
   "metadata": {},
   "outputs": [],
   "source": [
    "o3d.visualization.draw_geometries([template2],  front=front, lookat=lookat, up=up, zoom=zoom)"
   ]
  },
  {
   "cell_type": "code",
   "execution_count": 8,
   "id": "e52baecb",
   "metadata": {},
   "outputs": [],
   "source": [
    "#template0.paint_uniform_color([0, 0.651, 0.929])\n",
    "#template1.paint_uniform_color([0, 0.651, 0.929])\n",
    "#template2.paint_uniform_color([0, 0.651, 0.929])\n",
    "\n",
    "o3d.visualization.draw_geometries([template0, template1, template2])"
   ]
  },
  {
   "cell_type": "code",
   "execution_count": null,
   "id": "53982782",
   "metadata": {},
   "outputs": [],
   "source": []
  }
 ],
 "metadata": {
  "kernelspec": {
   "display_name": "points",
   "language": "python",
   "name": "points"
  },
  "language_info": {
   "codemirror_mode": {
    "name": "ipython",
    "version": 3
   },
   "file_extension": ".py",
   "mimetype": "text/x-python",
   "name": "python",
   "nbconvert_exporter": "python",
   "pygments_lexer": "ipython3",
   "version": "3.9.21"
  }
 },
 "nbformat": 4,
 "nbformat_minor": 5
}
