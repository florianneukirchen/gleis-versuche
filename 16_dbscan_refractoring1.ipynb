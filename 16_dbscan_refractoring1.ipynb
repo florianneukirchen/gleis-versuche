{
 "cells": [
  {
   "cell_type": "markdown",
   "metadata": {},
   "source": [
    "# DBSCAN Refractoring mit Classes\n",
    "langsamer: 1.33 statt 1.27 s (mean of 10 runs)"
   ]
  },
  {
   "cell_type": "code",
   "execution_count": 1,
   "metadata": {},
   "outputs": [
    {
     "name": "stdout",
     "output_type": "stream",
     "text": [
      "Jupyter environment detected. Enabling Open3D WebVisualizer.\n",
      "[Open3D INFO] WebRTC GUI backend enabled.\n",
      "[Open3D INFO] WebRTCWindowSystem: HTTP handshake server disabled.\n"
     ]
    }
   ],
   "source": [
    "import pdal \n",
    "import numpy as np\n",
    "import matplotlib.pyplot as plt\n",
    "import open3d as o3d\n",
    "from scipy.spatial import KDTree\n",
    "from scipy.linalg import svd \n",
    "from osgeo import ogr\n",
    "import pyvista as pv\n",
    "import os\n",
    "import json\n",
    "import time \n",
    "\n",
    "from interessant import * # Bei Änderungen Kernel neu starten\n",
    "\n",
    "ogr.UseExceptions()"
   ]
  },
  {
   "cell_type": "code",
   "execution_count": 2,
   "metadata": {},
   "outputs": [
    {
     "name": "stdout",
     "output_type": "stream",
     "text": [
      "Auch viele Gleise 4480875_5356950.ply\n"
     ]
    }
   ],
   "source": [
    "tmpdir = \"/media/riannek/minimax/gleis/temp_fertig\"\n",
    "\n",
    "# Bahnsteig: 29; Gleis hohe Intensität: 11; Weiche B: 16; Unterirdischer Bhf: 20; Gleis weit abseits: 23; Betondeckel: 28; Zug run 14 A (in run24 Achszähler): 6; \n",
    "# Viele Gleise: 33; Anfang Weiche: 34; OLA gleiche H: 35; Y: 37\n",
    "\n",
    "key = list(interessant.keys())[43] \n",
    "\n",
    "filename = interessant[key]\n",
    "filename = filename.split(\".\")[0] + \".ply\"\n",
    "print(key, filename)\n",
    "\n",
    "\n",
    "if not os.path.exists(os.path.join(tmpdir, filename)):\n",
    "    raise FileNotFoundError(filename)"
   ]
  },
  {
   "cell_type": "code",
   "execution_count": 3,
   "metadata": {},
   "outputs": [],
   "source": [
    "thresh_side_distance = 0.15   # 0.1 ist meist gut, aber in manchen Fällen zu wenig \n",
    "\n",
    "intensity_threshold = 14500\n",
    "downsample_radius = 0.45 # 0.4\n",
    "neighborhood_radius = 0.5 # 0.5\n",
    "\n",
    "min_points = 10\n",
    "minimum_in_hood = 10\n",
    "linearity_tresh = 0.98\n",
    "\n",
    "gauge = 1.435"
   ]
  },
  {
   "cell_type": "code",
   "execution_count": 4,
   "metadata": {},
   "outputs": [],
   "source": [
    "runfolder = \"/media/riannek/minimax/gleis/run24-2024-08-13\"\n",
    "\n",
    "import subprocess\n",
    "# subprocess.Popen([\"pyvistaviewer\", os.path.join(runfolder, filename.split(\".\")[0] + \".copc.laz\")])"
   ]
  },
  {
   "cell_type": "markdown",
   "metadata": {},
   "source": [
    "## Datei incl. margin aus Nachbarkacheln"
   ]
  },
  {
   "cell_type": "code",
   "execution_count": 5,
   "metadata": {},
   "outputs": [],
   "source": [
    "gpkg = ogr.Open(os.path.join(tmpdir, \"temp.gpkg\"))\n",
    "layer = gpkg.GetLayerByName(\"tiles\")"
   ]
  },
  {
   "cell_type": "code",
   "execution_count": 6,
   "metadata": {},
   "outputs": [],
   "source": [
    "def extend_bbox(bbox, margin=2):\n",
    "    # MinX, MaxX, MinY, MaxY\n",
    "    return (bbox[0] - margin, bbox[1] + margin, bbox[2] - margin, bbox[3] + margin)\n",
    "\n",
    "def get_bbox_polygon(bbox):  \n",
    "    ring = ogr.Geometry(ogr.wkbLinearRing)      \n",
    "    ring.AddPoint_2D(bbox[0], bbox[2])  # MinX, MinY\n",
    "    ring.AddPoint_2D(bbox[1], bbox[2])  # MaxX, MinY\n",
    "    ring.AddPoint_2D(bbox[1], bbox[3])  # MaxX, MaxY\n",
    "    ring.AddPoint_2D(bbox[0], bbox[3])  # MinX, MaxY\n",
    "    ring.AddPoint_2D(bbox[0], bbox[2])  # Close ring\n",
    "    geom = ogr.Geometry(ogr.wkbPolygon)\n",
    "    geom.AddGeometry(ring)\n",
    "    return geom"
   ]
  },
  {
   "cell_type": "code",
   "execution_count": 7,
   "metadata": {},
   "outputs": [
    {
     "name": "stdout",
     "output_type": "stream",
     "text": [
      "['4480850_5356975.ply', '4480875_5356925.ply', '4480900_5356975.ply', '4480875_5356950.ply', '4480850_5356925.ply', '4480875_5356975.ply', '4480850_5356950.ply', '4480900_5356925.ply', '4480900_5356950.ply']\n"
     ]
    }
   ],
   "source": [
    "filter = f\"filename = '{filename}'\"\n",
    "layer.SetAttributeFilter(filter)\n",
    "feature = layer.GetNextFeature()\n",
    "layer.SetAttributeFilter(None)\n",
    "bbox = feature.GetGeometryRef().GetEnvelope()\n",
    "extended = extend_bbox(bbox, margin=2)\n",
    "bbox_geom = get_bbox_polygon(extended)\n",
    "layer.SetSpatialFilter(bbox_geom)\n",
    "tiles = [f.GetField(\"filename\") for f in layer]\n",
    "layer.SetSpatialFilter(None) \n",
    "\n",
    "print(tiles) "
   ]
  },
  {
   "cell_type": "code",
   "execution_count": 8,
   "metadata": {},
   "outputs": [
    {
     "data": {
      "text/plain": [
       "(4480875.0, 4480900.0, 5356950.0, 5356975.0)"
      ]
     },
     "execution_count": 8,
     "metadata": {},
     "output_type": "execute_result"
    }
   ],
   "source": [
    "bbox # MinX, MaxX, MinY, MaxY"
   ]
  },
  {
   "cell_type": "code",
   "execution_count": 9,
   "metadata": {},
   "outputs": [],
   "source": [
    "del gpkg"
   ]
  },
  {
   "cell_type": "code",
   "execution_count": 10,
   "metadata": {},
   "outputs": [
    {
     "data": {
      "text/plain": [
       "'([4480873.0, 4480902.0], [5356948.0, 5356977.0])'"
      ]
     },
     "execution_count": 10,
     "metadata": {},
     "output_type": "execute_result"
    }
   ],
   "source": [
    "bounds = f\"([{extended[0]}, {extended[1]}], [{extended[2]}, {extended[3]}])\" \n",
    "bounds"
   ]
  },
  {
   "cell_type": "code",
   "execution_count": 11,
   "metadata": {},
   "outputs": [
    {
     "data": {
      "text/plain": [
       "(215710,)"
      ]
     },
     "execution_count": 11,
     "metadata": {},
     "output_type": "execute_result"
    }
   ],
   "source": [
    "readers = [pdal.Reader(os.path.join(tmpdir, tile)) for tile in tiles]\n",
    "pipeline = pdal.Pipeline(readers) | pdal.Filter.merge() | pdal.Filter.crop(bounds=bounds)\n",
    "pipeline.execute()\n",
    "points = pipeline.arrays[0]\n",
    "points.shape "
   ]
  },
  {
   "cell_type": "markdown",
   "metadata": {},
   "source": [
    "## Seed Points"
   ]
  },
  {
   "cell_type": "code",
   "execution_count": 12,
   "metadata": {},
   "outputs": [
    {
     "data": {
      "text/plain": [
       "(93697,)"
      ]
     },
     "execution_count": 12,
     "metadata": {},
     "output_type": "execute_result"
    }
   ],
   "source": [
    "low_intensity = points[points[\"Intensity\"] < intensity_threshold]\n",
    "low_intensity.shape"
   ]
  },
  {
   "cell_type": "code",
   "execution_count": 13,
   "metadata": {},
   "outputs": [
    {
     "data": {
      "text/plain": [
       "'([4480875.0, 4480900.0], [5356950.0, 5356975.0])'"
      ]
     },
     "execution_count": 13,
     "metadata": {},
     "output_type": "execute_result"
    }
   ],
   "source": [
    "bounds = f\"([{bbox[0]}, {bbox[1]}], [{bbox[2]}, {bbox[3]}])\" \n",
    "bounds"
   ]
  },
  {
   "cell_type": "code",
   "execution_count": 14,
   "metadata": {},
   "outputs": [
    {
     "data": {
      "text/plain": [
       "477"
      ]
     },
     "execution_count": 14,
     "metadata": {},
     "output_type": "execute_result"
    }
   ],
   "source": [
    "# Downsample with poisson sampling (only original bbox)\n",
    "\n",
    "downsampling_pipeline = pdal.Filter.crop(bounds=bounds).pipeline(low_intensity) | pdal.Filter(\"filters.sample\", radius=downsample_radius)\n",
    "downsampling_pipeline.execute()\n",
    "seed_points = downsampling_pipeline.arrays[0]\n",
    "seed_point_count = seed_points.shape[0]\n",
    "seed_point_count"
   ]
  },
  {
   "cell_type": "markdown",
   "metadata": {},
   "source": [
    "## KD Tree"
   ]
  },
  {
   "cell_type": "code",
   "execution_count": 15,
   "metadata": {},
   "outputs": [],
   "source": [
    "xyz = np.vstack((points['X'], points['Y'], points['Z'])).transpose()\n",
    "xyz_seed = np.vstack((seed_points['X'], seed_points['Y'], seed_points['Z'])).transpose()"
   ]
  },
  {
   "cell_type": "code",
   "execution_count": 16,
   "metadata": {},
   "outputs": [],
   "source": [
    "offset = xyz.mean(axis=0).round() \n",
    "xyz -= offset\n",
    "xyz_seed -= offset"
   ]
  },
  {
   "cell_type": "code",
   "execution_count": 17,
   "metadata": {},
   "outputs": [],
   "source": [
    "tree = KDTree(xyz)  \n",
    "\n",
    "# indices: ndarray (dtype object) with a list of indices for each seed point\n",
    "indices = tree.query_ball_point(xyz_seed, r=neighborhood_radius)"
   ]
  },
  {
   "cell_type": "markdown",
   "metadata": {},
   "source": [
    "## Funktionen"
   ]
  },
  {
   "cell_type": "code",
   "execution_count": 18,
   "metadata": {},
   "outputs": [],
   "source": [
    "def pca(cloud):\n",
    "    \"\"\"Use PCA to get einvalues and eigenvectors of a point cloud\n",
    "    \n",
    "    Returns (eigenvalues, eigenvectors)\n",
    "    \"\"\"\n",
    "    if cloud.shape[0] < 3:\n",
    "        raise ValueError(\"Point cloud must have at least 3 points\")\n",
    "    mean = np.mean(cloud, axis=0)\n",
    "    centered = cloud - mean\n",
    "    U, S, Vt = svd(centered, full_matrices=False)\n",
    "    eigenvals = S**2/(cloud.shape[0]-1)\n",
    "    # Returned vectors are in columns, first vector is eigenvec[:, 0] == eigenvec.T[0]\n",
    "    return eigenvals, Vt.T\n",
    "\n",
    "def linearity(eigenvals):\n",
    "    \"\"\"Calculate the linearity of a point cloud\"\"\"\n",
    "    return (eigenvals[0] - eigenvals[1]) / eigenvals[0]\n",
    "\n",
    "def verticality(eigenvects):\n",
    "    \"\"\"Calculate the verticality of a point cloud\n",
    "    \n",
    "    1 minus z of the third eigenvector\n",
    "    \"\"\"\n",
    "    return 1 - eigenvects.T[2][2]"
   ]
  },
  {
   "cell_type": "code",
   "execution_count": 19,
   "metadata": {},
   "outputs": [],
   "source": [
    "def dbscan_stretchz_auto(xyz, min_points=10, stretch=1.5):\n",
    "\n",
    "    pointcount = xyz.shape[0]\n",
    "    if pointcount <= min_points:\n",
    "        return np.ones(pointcount, dtype=np.int8) * -1\n",
    "    \n",
    "    eps = 50 / pointcount\n",
    "    eps = max(eps, 0.06)\n",
    "    \n",
    "    xyz = xyz.copy()\n",
    "    xyz[:, 2] *= stretch\n",
    "    hood_pcd = o3d.geometry.PointCloud()\n",
    "    hood_pcd.points = o3d.utility.Vector3dVector(xyz) \n",
    "    # eps is min distance between clusters\n",
    "    labels = np.array(hood_pcd.cluster_dbscan(eps=eps, min_points=min_points, print_progress=False))\n",
    "    return labels"
   ]
  },
  {
   "cell_type": "code",
   "execution_count": 20,
   "metadata": {},
   "outputs": [],
   "source": [
    "def plot_cluster_line(cluster, eigenvects, stretch=0.2):\n",
    "    start = cluster.mean(axis=0)\n",
    "    vector = eigenvects.T[0] * stretch\n",
    "    end = start + vector\n",
    "    line = pv.Line(start, end)\n",
    "\n",
    "    return line"
   ]
  },
  {
   "cell_type": "code",
   "execution_count": 21,
   "metadata": {},
   "outputs": [],
   "source": [
    "def plot_first_eigenvec(point, eigenvects, color=[1, 0, 0], stretch=1):\n",
    "    \"\"\"Plot a vector as a line\"\"\"\n",
    "    vector = eigenvects.T[0] * stretch\n",
    "    end = point + vector\n",
    "    line = o3d.geometry.LineSet()\n",
    "    line.points = o3d.utility.Vector3dVector([point, end])\n",
    "    line.lines = o3d.utility.Vector2iVector([[0, 1]])\n",
    "    line.colors = o3d.utility.Vector3dVector([color])\n",
    "    return line"
   ]
  },
  {
   "cell_type": "code",
   "execution_count": 22,
   "metadata": {},
   "outputs": [],
   "source": [
    "def get_central_point(a, b):\n",
    "    \"\"\"Get the point in the middle of two points\"\"\"\n",
    "    vector = b - a\n",
    "    return a + vector / 2"
   ]
  },
  {
   "cell_type": "code",
   "execution_count": 23,
   "metadata": {},
   "outputs": [],
   "source": [
    "def to_color(skalar, cmap=plt.cm.plasma):\n",
    "    return cmap(skalar)[:3]"
   ]
  },
  {
   "cell_type": "markdown",
   "metadata": {},
   "source": [
    "## Iteration über Seed Points"
   ]
  },
  {
   "cell_type": "code",
   "execution_count": 24,
   "metadata": {},
   "outputs": [],
   "source": [
    "class Cluster:\n",
    "    def __init__(self, points, eigenvals, eigenvects):\n",
    "        self.points = points\n",
    "        self.eigenvals = eigenvals\n",
    "        self.eigenvects = eigenvects\n",
    "        self.clustercenter = self.points.mean(axis=0)\n",
    "        self.pair = None\n",
    "        \n",
    "    def sidevector(self):\n",
    "        \"\"\"Vector pointing to the other rail of the rail pair (or opposite direction)\"\"\"\n",
    "        return np.cross(self.eigenvects[:,0], np.array([0, 0, 1])) * (gauge + 0.07) # Add railtop width to gauge\n",
    "    \n",
    "    def bothsides(self):\n",
    "        \"\"\"Return array with two rows containing the possible positions of the other rail\"\"\"\n",
    "        sidevector = self.sidevector()\n",
    "        return np.array([self.clustercenter + sidevector, self.clustercenter - sidevector])\n",
    "    \n",
    "    def direction(self):\n",
    "        \"\"\"Direction of the linear cluster\"\"\"\n",
    "        return self.eigenvects[:,0]\n",
    "    \n"
   ]
  },
  {
   "cell_type": "code",
   "execution_count": 25,
   "metadata": {},
   "outputs": [],
   "source": [
    "class HoodClusters:\n",
    "    thresh_side_distance = 0.15 \n",
    "\n",
    "    def __init__(self, points): \n",
    "        self.points = points\n",
    "        self.clusters = []\n",
    "        if points.shape[0] < minimum_in_hood:\n",
    "            return\n",
    "        \n",
    "        labels = dbscan_stretchz_auto(points, min_points=min_points)\n",
    "        max_label = labels.max()\n",
    "        \n",
    "        for label in range(max_label + 1):\n",
    "            cluster = self.points[labels == label]\n",
    "            if cluster.shape[0] < min_points:\n",
    "                # Somehow this happens, must be a bug in open3d\n",
    "                continue\n",
    "\n",
    "            eigenvals, eigenvects = pca(cluster)\n",
    "            cluster_linearity = linearity(eigenvals)\n",
    "\n",
    "\n",
    "            if not ((cluster_linearity > linearity_tresh) and (eigenvals[0] > 0.04)):\n",
    "                # Cluster not linear or too short\n",
    "                continue\n",
    "\n",
    "            self.clusters.append(Cluster(cluster, eigenvals, eigenvects))\n",
    "\n",
    "    def check_cluster_for_railpair(self, cluster, pointcloud, tree):\n",
    "        bothsides = cluster.bothsides()\n",
    "        indices_bothsides = tree.query_ball_point(bothsides, r=neighborhood_radius)\n",
    "        # Linear cluster that is closest to one of the estimated side points\n",
    "        # but must me within r = 15 cm and almost parallel\n",
    "\n",
    "        closest_cluster_distance = np.inf\n",
    "        closest_cluster = None\n",
    "        \n",
    "        for j, side in enumerate(indices_bothsides):\n",
    "            side_hood = HoodClusters(pointcloud[side])\n",
    "            for side_cluster in side_hood.clusters:\n",
    "\n",
    "                sidecluster_distance = np.linalg.norm(side_cluster.clustercenter[:2] - bothsides[j][:2])\n",
    "                # Nearest and near enough?\n",
    "                if sidecluster_distance < thresh_side_distance and sidecluster_distance < closest_cluster_distance:\n",
    "                    # Check if parallel\n",
    "                    cos_angle = np.abs(np.dot(cluster.eigenvects[:,0], side_cluster.eigenvects[:,0]))\n",
    "                    if cos_angle > 0.9:  \n",
    "                        closest_cluster = side_cluster\n",
    "                        closest_cluster_distance = sidecluster_distance\n",
    "\n",
    "        return closest_cluster\n",
    "    \n",
    "    def check_for_railpairs(self, pointcloud, tree):\n",
    "        clusters_ok = []\n",
    "        for cluster in self.clusters:\n",
    "            pair = self.check_cluster_for_railpair(cluster, pointcloud, tree)\n",
    "            if pair:\n",
    "                cluster.pair = pair\n",
    "                clusters_ok.append(cluster) \n",
    "\n",
    "        self.clusters = clusters_ok\n",
    "        return len(clusters_ok)\n",
    "    \n",
    "    @property\n",
    "    def clustercount(self):\n",
    "        return len(self.clusters)"
   ]
  },
  {
   "cell_type": "code",
   "execution_count": 26,
   "metadata": {},
   "outputs": [],
   "source": [
    "with_lines = True"
   ]
  },
  {
   "cell_type": "code",
   "execution_count": 27,
   "metadata": {},
   "outputs": [
    {
     "name": "stdout",
     "output_type": "stream",
     "text": [
      "Time: 2.31 s\n"
     ]
    }
   ],
   "source": [
    "start = time.time()\n",
    "\n",
    "lines = []\n",
    "side_distances = []\n",
    "center_points = []\n",
    "delta_z = []\n",
    "\n",
    "for i in range(seed_point_count):\n",
    "    hood = HoodClusters(xyz[indices[i]])\n",
    "    if hood.clustercount > 0:\n",
    "        hood.check_for_railpairs(xyz, tree)\n",
    "        for cluster in hood.clusters:\n",
    "            if with_lines:\n",
    "                lines.append(plot_cluster_line(cluster.points, cluster.eigenvects))\n",
    "            side_distances.append(cluster.sidevector())\n",
    "            center_points.append(cluster.clustercenter)\n",
    "            delta_z.append(cluster.clustercenter[2] - xyz[indices[i]].mean(axis=0)[2])\n",
    "\n",
    "print(f\"Time: {time.time() - start:.2f} s\")"
   ]
  },
  {
   "cell_type": "code",
   "execution_count": 28,
   "metadata": {},
   "outputs": [],
   "source": [
    "pcd_all = pv.PolyData(xyz)"
   ]
  },
  {
   "cell_type": "code",
   "execution_count": 29,
   "metadata": {},
   "outputs": [],
   "source": [
    "center_points = np.array(center_points)"
   ]
  },
  {
   "cell_type": "code",
   "execution_count": 30,
   "metadata": {},
   "outputs": [
    {
     "data": {
      "application/vnd.jupyter.widget-view+json": {
       "model_id": "4f9688ee2c9045048d403f3d7624352d",
       "version_major": 2,
       "version_minor": 0
      },
      "text/plain": [
       "Widget(value='<iframe src=\"http://localhost:36399/index.html?ui=P_0x7fdac6cf90d0_0&reconnect=auto\" class=\"pyvi…"
      ]
     },
     "metadata": {},
     "output_type": "display_data"
    }
   ],
   "source": [
    "pcd_centerpoints = pv.PolyData(center_points)\n",
    "pcd_centerpoints[\"z\"] = center_points[:,2]\n",
    "pcd_centerpoints[\"diff_z\"] = np.abs(np.array(delta_z))\n",
    "\n",
    "p = pv.Plotter()\n",
    "\n",
    "if with_lines:\n",
    "    # Add lines (SLOW)\n",
    "    # for color, line in zip(side_distances, lines):\n",
    "    #     p.add_mesh(line, scalars=color, cmap='plasma')\n",
    "    for line in lines:\n",
    "        p.add_mesh(line, color=\"red\")\n",
    "\n",
    "#p.add_mesh_threshold(pcd_seed, 'trackcount', all_scalars=True, render_points_as_spheres=True, point_size=10)\n",
    "\n",
    "p.add_mesh(pcd_all, color='gray', point_size=1)\n",
    "\n",
    "p.add_mesh(pcd_centerpoints, scalars=\"diff_z\", point_size=5, cmap=\"cividis\")\n",
    "\n",
    "p.show()\n",
    "\n",
    "# Farbe: Punkte nach z-Wert oder diff z\n",
    "# Linien: Differenz Clusterzentrum zu Spurweite"
   ]
  },
  {
   "cell_type": "markdown",
   "metadata": {},
   "source": [
    "# Experimente"
   ]
  },
  {
   "cell_type": "code",
   "execution_count": 31,
   "metadata": {},
   "outputs": [
    {
     "ename": "ValueError",
     "evalue": "Ende",
     "output_type": "error",
     "traceback": [
      "\u001b[0;31m---------------------------------------------------------------------------\u001b[0m",
      "\u001b[0;31mValueError\u001b[0m                                Traceback (most recent call last)",
      "Cell \u001b[0;32mIn[31], line 1\u001b[0m\n\u001b[0;32m----> 1\u001b[0m \u001b[38;5;28;01mraise\u001b[39;00m \u001b[38;5;167;01mValueError\u001b[39;00m(\u001b[38;5;124m\"\u001b[39m\u001b[38;5;124mEnde\u001b[39m\u001b[38;5;124m\"\u001b[39m)\n",
      "\u001b[0;31mValueError\u001b[0m: Ende"
     ]
    }
   ],
   "source": [
    "raise ValueError(\"Ende\")"
   ]
  },
  {
   "cell_type": "code",
   "execution_count": null,
   "metadata": {},
   "outputs": [
    {
     "data": {
      "text/plain": [
       "np.float64(1.268465781211853)"
      ]
     },
     "execution_count": 34,
     "metadata": {},
     "output_type": "execute_result"
    }
   ],
   "source": [
    "\n",
    "\n",
    "lines = []\n",
    "side_distances = []\n",
    "center_points = []\n",
    "delta_z = []\n",
    "\n",
    "def test():\n",
    "    for i in range(seed_point_count):\n",
    "        hood = xyz[indices[i]]\n",
    "        if hood.shape[0] < minimum_in_hood:   \n",
    "            continue\n",
    "\n",
    "        # DBSCAN with stretched z\n",
    "        labels = dbscan_stretchz_auto(hood, min_points=min_points, stretch=4)\n",
    "        max_label = labels.max()\n",
    "\n",
    "        for label in range(max_label + 1):\n",
    "            cluster = hood[labels == label]\n",
    "            if cluster.shape[0] < min_points:\n",
    "                # Somehow this happens, must be a bug in open3d\n",
    "                continue\n",
    "\n",
    "            eigenvals, eigenvects = pca(cluster)\n",
    "            cluster_linearity = linearity(eigenvals)\n",
    "\n",
    "\n",
    "            if not ((cluster_linearity > linearity_tresh) and (eigenvals[0] > 0.04)):\n",
    "                # Cluster not linear or too short\n",
    "                continue\n",
    "            clustercenter = cluster.mean(axis=0)\n",
    "\n",
    "            # Check for rail pair\n",
    "            side_vector = np.cross(eigenvects[:,0], np.array([0, 0, 1])) * (gauge + 0.07) # Add railtop width to gauge\n",
    "\n",
    "            bothsides = np.vstack((clustercenter + side_vector, clustercenter - side_vector))\n",
    "            indices_bothsides = tree.query_ball_point(bothsides, r=neighborhood_radius)\n",
    "\n",
    "            # Linear cluster that is closest to one of the estimated side points\n",
    "            # but must me within r = 15 cm and almost parallel\n",
    "            closest_cluster_distance = np.inf\n",
    "            closest_cluster = None\n",
    "            \n",
    "            for j, side in enumerate(indices_bothsides):\n",
    "                if len(side) > min_points: \n",
    "                    labels_side = dbscan_stretchz_auto(xyz[side], min_points=min_points, stretch=4)\n",
    "                    max_label_side = labels_side.max()\n",
    "\n",
    "                    for label_side in range(max_label_side + 1):\n",
    "                        sidecluster = xyz[side][labels_side == label_side]\n",
    "                        if sidecluster.shape[0] < min_points:\n",
    "                            continue\n",
    "                        eigenvals_side, eigenvects_side = pca(sidecluster)\n",
    "                        sidecluster_linearity = linearity(eigenvals_side)\n",
    "\n",
    "                        if not ((sidecluster_linearity > linearity_tresh) and (eigenvals_side[0] > 0.04)): \n",
    "                            continue\n",
    "\n",
    "                        sideclustercenter = sidecluster.mean(axis=0)\n",
    "\n",
    "                        sidecluster_distance = np.linalg.norm(sideclustercenter - bothsides[j])\n",
    "                        # Check distance\n",
    "                        if sidecluster_distance < thresh_side_distance and sidecluster_distance < closest_cluster_distance:\n",
    "                            # Check if parallel\n",
    "                            cos_angle = np.abs(np.dot(eigenvects[:,0], eigenvects_side[:,0]))\n",
    "                            if cos_angle > 0.9:  \n",
    "                                closest_cluster = sidecluster\n",
    "                                closest_cluster_distance = sidecluster_distance\n",
    "                            \n",
    "            if closest_cluster is None:\n",
    "                continue\n",
    "                    \n",
    "            closest_clustercenter = closest_cluster.mean(axis=0)\n",
    "            lines.append(pv.Line(clustercenter, closest_clustercenter))\n",
    "            side_distances.append(closest_cluster_distance)\n",
    "            center_points.append(get_central_point(clustercenter, closest_clustercenter))\n",
    "            delta_z.append(np.abs(clustercenter[2] - closest_clustercenter[2]))\n",
    "\n",
    "\n",
    "times = []\n",
    "for i in range(10):\n",
    "    start = time.time()\n",
    "    test()\n",
    "    times.append(time.time() - start)\n",
    "\n",
    "np.mean(times)"
   ]
  },
  {
   "cell_type": "code",
   "execution_count": null,
   "metadata": {},
   "outputs": [
    {
     "data": {
      "text/plain": [
       "np.float64(1.3262649536132813)"
      ]
     },
     "execution_count": 35,
     "metadata": {},
     "output_type": "execute_result"
    }
   ],
   "source": [
    "times = []\n",
    "for i in range(10):\n",
    "    start = time.time()\n",
    "  \n",
    "    for i in range(seed_point_count):\n",
    "        hood = HoodClusters(xyz[indices[i]])\n",
    "        if hood.clustercount > 0:\n",
    "            hood.check_for_railpairs(xyz, tree)\n",
    "            for cluster in hood.clusters:\n",
    "                if with_lines:\n",
    "                    lines.append(plot_cluster_line(cluster.points, cluster.eigenvects))\n",
    "                side_distances.append(cluster.sidevector())\n",
    "                center_points.append(cluster.clustercenter)\n",
    "                delta_z.append(cluster.clustercenter[2] - xyz[indices[i]].mean(axis=0)[2])\n",
    "\n",
    "    times.append(time.time() - start)\n",
    "\n",
    "np.mean(times)"
   ]
  },
  {
   "cell_type": "code",
   "execution_count": null,
   "metadata": {},
   "outputs": [],
   "source": []
  }
 ],
 "metadata": {
  "kernelspec": {
   "display_name": "points",
   "language": "python",
   "name": "points"
  },
  "language_info": {
   "codemirror_mode": {
    "name": "ipython",
    "version": 3
   },
   "file_extension": ".py",
   "mimetype": "text/x-python",
   "name": "python",
   "nbconvert_exporter": "python",
   "pygments_lexer": "ipython3",
   "version": "3.9.21"
  }
 },
 "nbformat": 4,
 "nbformat_minor": 2
}
