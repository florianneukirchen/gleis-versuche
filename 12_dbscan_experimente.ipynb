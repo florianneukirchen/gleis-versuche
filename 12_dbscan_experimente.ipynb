{
 "cells": [
  {
   "cell_type": "markdown",
   "metadata": {},
   "source": [
    "# Experimente mit DBSCAN"
   ]
  },
  {
   "cell_type": "code",
   "execution_count": 2,
   "metadata": {},
   "outputs": [],
   "source": [
    "import pdal \n",
    "import numpy as np\n",
    "import matplotlib.pyplot as plt\n",
    "import open3d as o3d\n",
    "from scipy.spatial import KDTree\n",
    "from scipy.sparse.csgraph import connected_components\n",
    "import scipy.sparse as sp\n",
    "import os\n",
    "import json\n",
    "import pyvista as pv\n",
    "import time\n",
    "\n",
    "from interessant import * # Bei Änderungen Kernel neu starten"
   ]
  },
  {
   "cell_type": "code",
   "execution_count": 3,
   "metadata": {},
   "outputs": [
    {
     "name": "stdout",
     "output_type": "stream",
     "text": [
      "Zug run 14 A 4480675_5356875.copc.laz\n"
     ]
    }
   ],
   "source": [
    "run = run24\n",
    "#run = run14\n",
    "# filename = interessant['OLA gleiche Höhe wie Gleis']\n",
    "\n",
    "# Bahnsteig: 29; Gleis hohe Intensität: 11; Weiche B: 16; Unterirdischer Bhf: 20; Gleis weit abseits: 23; Betondeckel: 28; Zug run 14 A (in run24 Achszähler): 6; \n",
    "# Viele Gleise: 33; Anfang Weiche: 34; Weiche C: 38 OLA gleiche H: 35; Y: 37\n",
    "key = list(interessant.keys())[6] \n",
    "filename = interessant[key]\n",
    "print(key, filename)\n",
    "\n",
    "filename = os.path.join(run, filename)\n",
    "if not os.path.exists(filename):\n",
    "    raise FileNotFoundError(filename)"
   ]
  },
  {
   "cell_type": "code",
   "execution_count": 4,
   "metadata": {},
   "outputs": [
    {
     "name": "stdout",
     "output_type": "stream",
     "text": [
      "Voxel size: 0.8333333333333334\n"
     ]
    }
   ],
   "source": [
    "thresh = 8  # z.B. 5 oder 8\n",
    "majority_tresh  = 0.5 # Erster Durchgang 0.3, bei \"Gleis hohe Intensität\" gibt 0.5 ein viel besseres Ergebnis\n",
    "\n",
    "voxel_size = 1.0\n",
    "\n",
    "voxel_size = 25 / 30\n",
    "print(\"Voxel size:\", voxel_size)\n",
    "\n",
    "minimum_points = 50 # Erste Versuche mit 100, aber viel schwarz bei abseits liegenden Gleisen. 50 ist besser.\n",
    "minimum_in_hood = 10\n",
    "linearity_tresh = 0.98\n",
    "\n",
    "intensity_threshold = 14500\n",
    "downsample_radius = 0.3\n",
    "neighborhood_radius = 0.5"
   ]
  },
  {
   "cell_type": "code",
   "execution_count": 5,
   "metadata": {},
   "outputs": [
    {
     "data": {
      "text/plain": [
       "<Popen: returncode: None args: ['pyvistaviewer', '/media/riannek/minimax/gle...>"
      ]
     },
     "execution_count": 5,
     "metadata": {},
     "output_type": "execute_result"
    }
   ],
   "source": [
    "import subprocess\n",
    "subprocess.Popen([\"pyvistaviewer\", filename])"
   ]
  },
  {
   "cell_type": "code",
   "execution_count": 6,
   "metadata": {},
   "outputs": [],
   "source": [
    "import logging\n",
    "logger = logging.getLogger(__name__)\n",
    "logging.basicConfig(filename='dbscan.log', encoding='utf-8', level=logging.DEBUG)"
   ]
  },
  {
   "cell_type": "markdown",
   "metadata": {},
   "source": [
    "## Voxelfilter"
   ]
  },
  {
   "cell_type": "code",
   "execution_count": 7,
   "metadata": {},
   "outputs": [
    {
     "name": "stdout",
     "output_type": "stream",
     "text": [
      "Reading /media/riannek/minimax/gleis/2024-08-13/01/run24/01/4480675_5356875.copc.laz\n"
     ]
    }
   ],
   "source": [
    "pipeline = pdal.Pipeline([pdal.Reader(filename)])\n",
    "pipeline.execute()\n",
    "points = pipeline.arrays[0]"
   ]
  },
  {
   "cell_type": "code",
   "execution_count": 8,
   "metadata": {},
   "outputs": [],
   "source": [
    "xyz = np.vstack((points['X'], points['Y'], points['Z'])).transpose()"
   ]
  },
  {
   "cell_type": "code",
   "execution_count": 9,
   "metadata": {},
   "outputs": [],
   "source": [
    "# Offset entfernen (aber gerundet, damit Kachelgrenzen ganze Zahlen bleiben)\n",
    "offset = xyz.mean(axis=0).round() \n",
    "# xyz -= offset   # Nur für Visualisierung benötigt"
   ]
  },
  {
   "cell_type": "code",
   "execution_count": 10,
   "metadata": {},
   "outputs": [],
   "source": [
    "points['Classification'] = 0 # Unclassified\n",
    "RAIL = 20"
   ]
  },
  {
   "cell_type": "code",
   "execution_count": 11,
   "metadata": {},
   "outputs": [
    {
     "data": {
      "text/plain": [
       "(array([4.48070000e+06, 5.35690000e+06, 4.70156201e+02]),\n",
       " array([4.48067500e+06, 5.35687500e+06, 4.50852901e+02]))"
      ]
     },
     "execution_count": 11,
     "metadata": {},
     "output_type": "execute_result"
    }
   ],
   "source": [
    "maxp = xyz.max(axis=0)\n",
    "minp = xyz.min(axis=0)\n",
    "maxp, minp"
   ]
  },
  {
   "cell_type": "code",
   "execution_count": 12,
   "metadata": {},
   "outputs": [],
   "source": [
    "voxels = xyz.copy()\n",
    "voxels[:, :2] = ((xyz[:, :2] - minp[:2]) // voxel_size).astype(int)"
   ]
  },
  {
   "cell_type": "code",
   "execution_count": 13,
   "metadata": {},
   "outputs": [
    {
     "data": {
      "text/plain": [
       "array([30, 30])"
      ]
     },
     "execution_count": 13,
     "metadata": {},
     "output_type": "execute_result"
    }
   ],
   "source": [
    "# Anzahl der Voxel checken\n",
    "np.ceil((maxp[:2] - minp[:2]) / voxel_size).astype(int)"
   ]
  },
  {
   "cell_type": "code",
   "execution_count": 14,
   "metadata": {},
   "outputs": [
    {
     "name": "stdout",
     "output_type": "stream",
     "text": [
      "Press \"M\" to toggle between Intensity, RGB, and Classification modes\n",
      "Press \"Left\" and \"Right\" arrow keys to rotate the point cloud around Z-axis\n"
     ]
    }
   ],
   "source": [
    "from collections import defaultdict\n",
    "voxel_dict = defaultdict(list)\n",
    "index_dict = defaultdict(list)\n",
    "\n",
    "# Füllen des Dictionaries\n",
    "for idx, (point, voxel) in enumerate(zip(xyz, voxels)):\n",
    "    voxel_key = tuple(voxel[:2])\n",
    "    voxel_dict[voxel_key].append(point[2])\n",
    "    index_dict[voxel_key].append(idx)"
   ]
  },
  {
   "cell_type": "code",
   "execution_count": 15,
   "metadata": {},
   "outputs": [],
   "source": [
    "for key, z_values in voxel_dict.items():\n",
    "    \n",
    "    # Threshold on number of points in voxel\n",
    "    if len(z_values) < minimum_points:\n",
    "        continue\n",
    "\n",
    "    indices = np.array(index_dict[key])\n",
    "    z_values = np.array(z_values)\n",
    "    ground_level = np.percentile(z_values, 10) # 10% Percentile\n",
    "    # Check that there are almost no points 0.5 to 4.5 m above the ground\n",
    "    # But allow for some noise\n",
    "    # thresh = 3 # Der einfachheit halber oben\n",
    "    count = ((z_values > ground_level + 0.5) & (z_values < ground_level + 4.5)).sum()\n",
    "\n",
    "    if count <= thresh:\n",
    "        # Look for points within 0.5 m above ground and get 98% percentile ODER 99.5\n",
    "        mask = (z_values > ground_level) & (z_values < ground_level + 0.5)\n",
    "        try:\n",
    "            candidates_top = np.percentile(z_values[mask], 99.5)\n",
    "        except IndexError:\n",
    "            # Fails if there are no points in the masked array\n",
    "            continue\n",
    "\n",
    "        # Oude Elberink require the height difference > 0.1 m\n",
    "        # And mark only the points 10 cm below the top as rail point candidates\n",
    "        if candidates_top - ground_level > 0.1:\n",
    "            mask = (z_values > candidates_top - 0.1) & (z_values < candidates_top + 0.05)\n",
    "\n",
    "            # Also make sure these are only a minority of the points (otherwise it's a slope)\n",
    "            if mask.sum() < majority_tresh * len(z_values):  # z.B. 0.3\n",
    "                points['Classification'][indices[mask]] = RAIL\n"
   ]
  },
  {
   "cell_type": "code",
   "execution_count": 16,
   "metadata": {},
   "outputs": [
    {
     "data": {
      "text/plain": [
       "(153519,)"
      ]
     },
     "execution_count": 16,
     "metadata": {},
     "output_type": "execute_result"
    }
   ],
   "source": [
    "candidates = points[points[\"Classification\"] == RAIL]\n",
    "candidates.shape"
   ]
  },
  {
   "cell_type": "markdown",
   "metadata": {},
   "source": [
    "## Noise Filter"
   ]
  },
  {
   "cell_type": "code",
   "execution_count": 17,
   "metadata": {},
   "outputs": [
    {
     "name": "stdout",
     "output_type": "stream",
     "text": [
      "[{\"type\": \"filters.outlier\", \"method\": \"statistical\", \"mean_k\": 10, \"multiplier\": 2.0, \"tag\": \"filters_outlier1\"}, {\"type\": \"filters.range\", \"limits\": \"Classification![7:7]\", \"tag\": \"filters_range1\"}]\n"
     ]
    },
    {
     "data": {
      "text/plain": [
       "(149283,)"
      ]
     },
     "execution_count": 17,
     "metadata": {},
     "output_type": "execute_result"
    }
   ],
   "source": [
    "# filters.outlier sets Classification to 7, filters.range removes the points with Classification 7\n",
    "\n",
    "noise_filter = pdal.Filter(\"filters.outlier\", method=\"statistical\", mean_k=10, multiplier=2.0).pipeline(candidates) | pdal.Filter(\"filters.range\", limits=\"Classification![7:7]\")\n",
    "print(noise_filter.toJSON())\n",
    "noise_filter.execute()\n",
    "candidates = noise_filter.arrays[0]\n",
    "candidates.shape "
   ]
  },
  {
   "cell_type": "markdown",
   "metadata": {},
   "source": [
    "## View Settings"
   ]
  },
  {
   "cell_type": "code",
   "execution_count": 18,
   "metadata": {},
   "outputs": [],
   "source": [
    "# Viewsettings mit strg + c kopieren und hier einfügen\n",
    "\n",
    "viewsettings = '''\n",
    "{\n",
    "\t\"class_name\" : \"ViewTrajectory\",\n",
    "\t\"interval\" : 29,\n",
    "\t\"is_loop\" : false,\n",
    "\t\"trajectory\" : \n",
    "\t[\n",
    "\t\t{\n",
    "\t\t\t\"boundingbox_max\" : [ 11.999975427985191, 11.99998692702502, 13.124079998226534 ],\n",
    "\t\t\t\"boundingbox_min\" : [ -13.000024572014809, -13.00001307297498, -3.9965200017734333 ],\n",
    "\t\t\t\"field_of_view\" : 60.0,\n",
    "\t\t\t\"front\" : [ -0.20468464372193082, -0.82045900926496551, 0.53380821531742795 ],\n",
    "\t\t\t\"lookat\" : [ -2.1145501200370735, -2.6052610037108783, 1.4494799802055294 ],\n",
    "\t\t\t\"up\" : [ 0.19010212482081987, 0.50164960558000959, 0.84392467398461002 ],\n",
    "\t\t\t\"zoom\" : 0.55999999999999983\n",
    "\t\t}\n",
    "\t],\n",
    "\t\"version_major\" : 1,\n",
    "\t\"version_minor\" : 0\n",
    "}\n",
    "\n",
    "'''\n",
    "\n",
    "viewsettings = json.loads(viewsettings)\n",
    "\n",
    "front = viewsettings[\"trajectory\"][0][\"front\"]\n",
    "lookat = viewsettings[\"trajectory\"][0][\"lookat\"]\n",
    "up = viewsettings[\"trajectory\"][0][\"up\"]\n",
    "zoom = viewsettings[\"trajectory\"][0][\"zoom\"]"
   ]
  },
  {
   "cell_type": "markdown",
   "metadata": {},
   "source": [
    "## Candidate and Seed Points"
   ]
  },
  {
   "cell_type": "code",
   "execution_count": 19,
   "metadata": {},
   "outputs": [],
   "source": [
    "xyz = np.vstack((candidates['X'], candidates['Y'], candidates['Z'])).transpose()\n",
    "xyz -= offset"
   ]
  },
  {
   "cell_type": "code",
   "execution_count": 20,
   "metadata": {},
   "outputs": [
    {
     "data": {
      "text/plain": [
       "(58714,)"
      ]
     },
     "execution_count": 20,
     "metadata": {},
     "output_type": "execute_result"
    }
   ],
   "source": [
    "low_intensity = candidates[candidates[\"Intensity\"] < intensity_threshold]\n",
    "low_intensity.shape"
   ]
  },
  {
   "cell_type": "code",
   "execution_count": 21,
   "metadata": {},
   "outputs": [
    {
     "data": {
      "text/plain": [
       "(445,)"
      ]
     },
     "execution_count": 21,
     "metadata": {},
     "output_type": "execute_result"
    }
   ],
   "source": [
    "# Downsample with poisson sampling\n",
    "\n",
    "downsampling_pipeline = pdal.Filter(\"filters.sample\", radius=downsample_radius).pipeline(low_intensity)\n",
    "downsampling_pipeline.execute()\n",
    "seed_points = downsampling_pipeline.arrays[0]\n",
    "seed_points.shape "
   ]
  },
  {
   "cell_type": "code",
   "execution_count": 22,
   "metadata": {},
   "outputs": [],
   "source": [
    "xyz_seed = np.vstack((seed_points['X'], seed_points['Y'], seed_points['Z'])).transpose()\n",
    "xyz_seed -= offset\n"
   ]
  },
  {
   "cell_type": "code",
   "execution_count": 23,
   "metadata": {},
   "outputs": [],
   "source": [
    "# k-D tree with all candidate points\n",
    "tree = KDTree(xyz)  "
   ]
  },
  {
   "cell_type": "code",
   "execution_count": 24,
   "metadata": {},
   "outputs": [],
   "source": [
    "# indices: ndarray (dtype object) with a list of indices for each seed point\n",
    "indices = tree.query_ball_point(xyz_seed, r=neighborhood_radius)"
   ]
  },
  {
   "cell_type": "code",
   "execution_count": 25,
   "metadata": {},
   "outputs": [],
   "source": [
    "seed_point_count = xyz_seed.shape[0]"
   ]
  },
  {
   "cell_type": "markdown",
   "metadata": {},
   "source": [
    "Numpy: Eigenvektoren mit Länge 1"
   ]
  },
  {
   "cell_type": "code",
   "execution_count": 26,
   "metadata": {},
   "outputs": [],
   "source": [
    "def pca(cloud):\n",
    "    \"\"\"Use PCA to get einvalues and eigenvectors of a point cloud\"\"\"\n",
    "    mean = np.mean(cloud, axis=0)\n",
    "    centered = cloud - mean\n",
    "    cov_matrix = np.cov(centered, rowvar=False) # row variance nicht berechnen\n",
    "    eigenvals, eigenvecs = np.linalg.eig(cov_matrix)\n",
    "    sorted_indices = np.argsort(eigenvals)[::-1]\n",
    "    sorted_eigenvals = eigenvals[sorted_indices]\n",
    "    sorted_eigenvecs = eigenvecs[:,sorted_indices]\n",
    "    # Returned vectors are in columns, first vector is eigenvec[:, 0] == eigenvec.T[0]\n",
    "    return sorted_eigenvals, sorted_eigenvecs\n",
    "\n",
    "def linearity(eigenvals):\n",
    "    \"\"\"Calculate the linearity of a point cloud\"\"\"\n",
    "    return (eigenvals[0] - eigenvals[1]) / eigenvals[0]\n",
    "\n",
    "def pca_spread(points, eigenvals, eigenvects):\n",
    "    \"\"\"Length along first principal component\"\"\"\n",
    "    projected = points @ eigenvects[:,0] # Project on first eigenvector\n",
    "    return (np.max(projected) - np.min(projected)) * np.sqrt(eigenvals[0])"
   ]
  },
  {
   "cell_type": "code",
   "execution_count": 27,
   "metadata": {},
   "outputs": [],
   "source": [
    "def theta(eigenvects):\n",
    "    \"\"\"Angle between the first eigenvector and the z-axis\"\"\"\n",
    "    cos_theta = eigenvects.T[0] @ np.array([0, 0, 1]) / np.linalg.norm(eigenvects[0]) # / np.linalg.norm(eigenvects[0]) unnötig, Vektor hat Länge 1\n",
    "    return np.arccos(cos_theta) * 180 / np.pi"
   ]
  },
  {
   "cell_type": "code",
   "execution_count": 28,
   "metadata": {},
   "outputs": [],
   "source": [
    "def dbscan(xyz, eps=0.05, min_points=10):\n",
    "    hood_pcd = o3d.geometry.PointCloud()\n",
    "    hood_pcd.points = o3d.utility.Vector3dVector(xyz) \n",
    "    # eps is min distance between clusters\n",
    "    labels = np.array(hood_pcd.cluster_dbscan(eps=eps, min_points=min_points, print_progress=False))\n",
    "    return labels"
   ]
  },
  {
   "cell_type": "code",
   "execution_count": 29,
   "metadata": {},
   "outputs": [],
   "source": [
    "def dbscan_stretchz(xyz, eps=0.05, min_points=10, stretch=1.5):\n",
    "    xyz = xyz.copy()\n",
    "    xyz[:, 2] *= stretch\n",
    "    hood_pcd = o3d.geometry.PointCloud()\n",
    "    hood_pcd.points = o3d.utility.Vector3dVector(xyz) \n",
    "    # eps is min distance between clusters\n",
    "    labels = np.array(hood_pcd.cluster_dbscan(eps=eps, min_points=min_points, print_progress=False))\n",
    "    return labels"
   ]
  },
  {
   "cell_type": "code",
   "execution_count": 30,
   "metadata": {},
   "outputs": [],
   "source": [
    "def dbscan_stretchz_auto(xyz, min_points=10, stretch=1.5):\n",
    "\n",
    "    pointcount = xyz.shape[0]\n",
    "    if pointcount <= min_points:\n",
    "        return np.ones(pointcount, dtype=np.int8) * -1\n",
    "    \n",
    "    eps = 50 / pointcount\n",
    "    eps = max(eps, 0.06)\n",
    "    \n",
    "    xyz = xyz.copy()\n",
    "    xyz[:, 2] *= stretch\n",
    "    hood_pcd = o3d.geometry.PointCloud()\n",
    "    hood_pcd.points = o3d.utility.Vector3dVector(xyz) \n",
    "    # eps is min distance between clusters\n",
    "    labels = np.array(hood_pcd.cluster_dbscan(eps=eps, min_points=min_points, print_progress=False))\n",
    "    return labels"
   ]
  },
  {
   "cell_type": "code",
   "execution_count": 31,
   "metadata": {},
   "outputs": [],
   "source": [
    "# def graph_based_segmentation(points, max_distance=0.1):\n",
    "#     kdtree = KDTree(points)\n",
    "#     graph = kdtree.sparse_distance_matrix(kdtree, max_distance=max_distance)\n",
    "\n",
    "#     n_components, labels = connected_components(graph, directed=False)\n",
    "\n",
    "#     return labels"
   ]
  },
  {
   "cell_type": "code",
   "execution_count": 32,
   "metadata": {},
   "outputs": [],
   "source": [
    "# Funktioniert nicht, 0 Cluster gefunden\n",
    "\n",
    "# def dbscan_stretchz_pdal(xyz, eps=0.07, min_points=20, stretch=1.5):\n",
    "#     xyz = xyz.copy()\n",
    "#     xyz[:, 2] *= stretch\n",
    "\n",
    "#     dt = {'names': ['X', 'Y', 'Z'], 'formats': [np.float32, np.float32, np.float32]}\n",
    "#     pipeline = pdal.Filter(type=\"filters.dbscan\", min_points=20, eps=0.07).pipeline(xyz.view(dt))\n",
    "    \n",
    "#     pipeline.execute()\n",
    "#     return pipeline.arrays[0]['ClusterID']"
   ]
  },
  {
   "cell_type": "code",
   "execution_count": 33,
   "metadata": {},
   "outputs": [],
   "source": [
    "min_points = 10\n",
    "minimum_in_hood = 10\n",
    "linearity_tresh = 0.98 # 0.98\n",
    "\n",
    "with_lines = False"
   ]
  },
  {
   "cell_type": "code",
   "execution_count": 34,
   "metadata": {},
   "outputs": [],
   "source": [
    "def plot_cluster_line(cluster, eigenvects, stretch=0.2):\n",
    "    start = cluster.mean(axis=0)\n",
    "    vector = eigenvects.T[0] * stretch\n",
    "    end = start + vector\n",
    "    line = pv.Line(start, end)\n",
    "\n",
    "    return line\n",
    "\n"
   ]
  },
  {
   "cell_type": "code",
   "execution_count": 35,
   "metadata": {},
   "outputs": [
    {
     "name": "stdout",
     "output_type": "stream",
     "text": [
      "2\n",
      "31\n"
     ]
    }
   ],
   "source": [
    "linearity_at_seed = np.empty((seed_point_count,1), dtype=float)\n",
    "linearity_at_seed[:,:] = np.nan\n",
    "trackcount = np.zeros((seed_point_count,1), dtype=int)\n",
    "clustercount = np.zeros((seed_point_count,1), dtype=int)\n",
    "\n",
    "lines = []\n",
    "\n",
    "for i in range(seed_point_count):\n",
    "    hood = xyz[indices[i]]\n",
    "    if hood.shape[0] < minimum_in_hood:   \n",
    "        continue\n",
    "    logger.debug(\"--------------------------\")\n",
    "    logger.debug(f\"Seed point {i} has {hood.shape[0]} points in its neighborhood\")\n",
    "\n",
    "    # DBSCAN with stretched z\n",
    "    # labels = dbscan_stretchz(hood, eps=2, min_points=min_points, stretch=4) # Weiche C funktioniert eps=0.07, min_points=20, stretch=4\n",
    "    labels = dbscan_stretchz_auto(hood, min_points=min_points, stretch=4)\n",
    "    max_label = labels.max()\n",
    "    clustercount[i] = max_label + 1\n",
    "    logger.debug(f\"DBSCAN {max_label + 1} clusters\")\n",
    "    # print(max_label + 1, \"Clusters\")\n",
    "    for label in range(max_label + 1):\n",
    "        cluster = hood[labels == label]\n",
    "        try:\n",
    "            eigenvals, eigenvects = pca(cluster)\n",
    "        except np.linalg.LinAlgError: # Bei SVD: ValueError\n",
    "            # Rare cases of 0 points in cluster\n",
    "            continue\n",
    "        cluster_linearity = linearity(eigenvals)\n",
    "\n",
    "        # print(cluster_linearity, end=\" \")\n",
    "        logger.debug(f\"Cluster {label} linearity: {cluster_linearity}\")\n",
    "        logger.debug(f\"Eigenvalues: {eigenvals}\")\n",
    "        logger.debug(f\"Eigenvectors: {eigenvects}\")\n",
    "\n",
    "        \n",
    "        if (cluster_linearity > linearity_tresh) and (eigenvals[0] > 0.02):\n",
    "            # eigenvals[0] ist variance in 1. PC, also abhängig von der Länge\n",
    "            trackcount[i] += 1\n",
    "            if with_lines:\n",
    "                line = plot_cluster_line(cluster, eigenvects)\n",
    "                lines.append(line)\n",
    "\n",
    "                \n",
    "    # print(\"\\nTrack count\", trackcount[i])\n",
    "    logger.debug(f\"Track count: {trackcount[i]}\")\n",
    "    # print()\n",
    "\n",
    "print(trackcount.max())\n",
    "print(clustercount.max())"
   ]
  },
  {
   "cell_type": "markdown",
   "metadata": {},
   "source": [
    "kononenFullyAutomatedExtraction2024 verwenden threshold 0.98 (behalten aber zusätzlich auch Punkte in Nachbarschaften mit hoher Punktdichte)"
   ]
  },
  {
   "cell_type": "code",
   "execution_count": 36,
   "metadata": {},
   "outputs": [],
   "source": [
    "with_lines = True"
   ]
  },
  {
   "cell_type": "code",
   "execution_count": 37,
   "metadata": {},
   "outputs": [
    {
     "data": {
      "application/vnd.jupyter.widget-view+json": {
       "model_id": "544ad18223874d85a447a8dbc028ebab",
       "version_major": 2,
       "version_minor": 0
      },
      "text/plain": [
       "Widget(value='<iframe src=\"http://localhost:32987/index.html?ui=P_0x7feafea80c70_0&reconnect=auto\" class=\"pyvi…"
      ]
     },
     "metadata": {},
     "output_type": "display_data"
    },
    {
     "name": "stdout",
     "output_type": "stream",
     "text": [
      " JS Error => error: Uncaught TypeError: Cannot mix BigInt and other types, use explicit conversions\n"
     ]
    }
   ],
   "source": [
    "# Use pyvista to get scalar colors with color bar\n",
    "pcd_hood = pv.PolyData(xyz_seed)\n",
    "pcd_hood[\"trackcount\"] = trackcount\n",
    "pcd_hood[\"clustercount\"] = clustercount\n",
    "\n",
    "# pv.plot(pcd_hood, scalars='trackcount', \n",
    "#         render_points_as_spheres=True, point_size=10,\n",
    "#         show_scalar_bar=True,\n",
    "#         )\n",
    "\n",
    "\n",
    "p = pv.Plotter()\n",
    "\n",
    "if with_lines:\n",
    "    # Add lines (SLOW)\n",
    "    for line in lines:\n",
    "        p.add_mesh(line, color='red')\n",
    "\n",
    "\n",
    "p.add_mesh_threshold(pcd_hood, 'trackcount', all_scalars=True, render_points_as_spheres=True, point_size=10)\n",
    "p.show()"
   ]
  },
  {
   "cell_type": "code",
   "execution_count": 38,
   "metadata": {},
   "outputs": [],
   "source": [
    "def plot_first_eigenvec(point, eigenvects, color=[1, 0, 0], stretch=1):\n",
    "    \"\"\"Plot a vector as a line\"\"\"\n",
    "    vector = eigenvects.T[0] * stretch\n",
    "    end = point + vector\n",
    "    line = o3d.geometry.LineSet()\n",
    "    line.points = o3d.utility.Vector3dVector([point, end])\n",
    "    line.lines = o3d.utility.Vector2iVector([[0, 1]])\n",
    "    line.colors = o3d.utility.Vector3dVector([color])\n",
    "    return line"
   ]
  },
  {
   "cell_type": "code",
   "execution_count": 39,
   "metadata": {},
   "outputs": [
    {
     "name": "stdout",
     "output_type": "stream",
     "text": [
      "Seed point 120 has 845 points in its neighborhood\n",
      "\n",
      "Found 22 clusters\n",
      "Cluster 0: 16 points\n",
      "Linearity: 0.9405898848636814 False\n",
      "Theta: 45.66888037542258\n",
      "Eigenvalues: [3.00730330e-04 1.78664236e-05 3.46853994e-06]\n",
      "Eigenvectors: [[-0.69518798  0.48542902 -0.53016256]\n",
      " [-0.16848376  0.60695587  0.77667097]\n",
      " [ 0.6988039   0.6292561  -0.34016152]]\n",
      "Cluster 1: 16 points\n",
      "Linearity: 0.9193099332210747 False\n",
      "Theta: 48.1869601999532\n",
      "Eigenvalues: [2.48619150e-04 2.00610958e-05 7.52767156e-06]\n",
      "Eigenvectors: [[-0.74256955  0.41097049 -0.52886077]\n",
      " [-0.06402146  0.74244758  0.66683795]\n",
      " [ 0.66670211  0.529032   -0.52500804]]\n",
      "Cluster 2: 190 points\n",
      "Linearity: 0.9979017758986591 True\n",
      "Theta: 90.30636406988936\n",
      "Eigenvalues: [7.15691397e-02 1.50168094e-04 6.35291368e-05]\n",
      "Eigenvectors: [[-0.91930592 -0.07782222 -0.38577238]\n",
      " [-0.39350735  0.16845493  0.903756  ]\n",
      " [-0.00534704  0.9826325  -0.18548523]]\n",
      "Cluster 3: 13 points\n",
      "Linearity: 0.9079563709888178 False\n",
      "Theta: 47.25780457862051\n",
      "Eigenvalues: [2.64369424e-04 2.43335212e-05 3.95026070e-06]\n",
      "Eigenvectors: [[-0.70474365  0.40507835 -0.58244993]\n",
      " [-0.20664397  0.66817582  0.71473026]\n",
      " [ 0.67870071  0.62406138 -0.38718567]]\n",
      "Cluster 4: 18 points\n",
      "Linearity: 0.39073516651425977 False\n",
      "Theta: 132.7003681379635\n",
      "Eigenvalues: [3.30895695e-04 2.01603110e-04 9.04113046e-06]\n",
      "Eigenvectors: [[ 0.69937569 -0.08517734 -0.70966081]\n",
      " [ 0.22575807  0.96837118  0.106257  ]\n",
      " [-0.67816439  0.23452522 -0.69648473]]\n",
      "Cluster 5: 251 points\n",
      "Linearity: 0.9921501117478906 True\n",
      "Theta: 89.65451718540172\n",
      "Eigenvalues: [5.14358842e-02 4.03765943e-04 9.22503205e-05]\n",
      "Eigenvectors: [[ 0.91290335  0.3965328   0.09679473]\n",
      " [ 0.40813126 -0.88326334 -0.23081322]\n",
      " [ 0.00602978 -0.25021511  0.96817149]]\n",
      "Cluster 6: 19 points\n",
      "Linearity: 0.9513558230543704 False\n",
      "Theta: 45.02950371986832\n",
      "Eigenvalues: [4.65403771e-04 2.26391834e-05 5.64552683e-06]\n",
      "Eigenvectors: [[-0.67741219 -0.54010772 -0.49939602]\n",
      " [-0.20402859 -0.51430198  0.83298608]\n",
      " [ 0.70674257 -0.66616599 -0.23819701]]\n",
      "Cluster 7: 17 points\n",
      "Linearity: 0.9541001190838706 False\n",
      "Theta: 48.92749193669501\n",
      "Eigenvalues: [3.68558759e-04 1.69168032e-05 5.66995184e-06]\n",
      "Eigenvectors: [[-0.72999419  0.40920609 -0.54741104]\n",
      " [-0.18825945  0.64957074  0.7366249 ]\n",
      " [ 0.65701359  0.6407872  -0.39714595]]\n",
      "Cluster 8: 19 points\n",
      "Linearity: 0.948156734938337 False\n",
      "Theta: 45.95086711745489\n",
      "Eigenvalues: [4.88237069e-04 2.53118038e-05 5.94814344e-06]\n",
      "Eigenvectors: [[-0.67860776  0.43465086 -0.59208963]\n",
      " [-0.23682107  0.63358359  0.73653758]\n",
      " [ 0.69527497  0.64003942 -0.32702027]]\n",
      "Cluster 9: 16 points\n",
      "Linearity: 0.9128931808113091 False\n",
      "Theta: 60.39987538225269\n",
      "Eigenvalues: [3.46317672e-04 3.01666309e-05 5.54557121e-06]\n",
      "Eigenvectors: [[-0.82657114  0.43433987 -0.35795116]\n",
      " [ 0.26981423 -0.25235476 -0.92925635]\n",
      " [ 0.49394376  0.86467679 -0.09139809]]\n",
      "Cluster 10: 12 points\n",
      "Linearity: 0.8789136925765441 False\n",
      "Theta: 47.7183972000198\n",
      "Eigenvalues: [2.04279659e-04 2.47354696e-05 4.29835807e-06]\n",
      "Eigenvectors: [[-0.69810481 -0.56759158 -0.43645099]\n",
      " [-0.24499691 -0.38341217  0.89048954]\n",
      " [ 0.67277499 -0.72858418 -0.1286037 ]]\n",
      "Cluster 11: 14 points\n",
      "Linearity: 0.9758063579970504 False\n",
      "Theta: 88.96853685745964\n",
      "Eigenvalues: [2.09773892e-03 5.07519444e-05 3.16337330e-06]\n",
      "Eigenvectors: [[ 0.91312524  0.02744324  0.40675443]\n",
      " [ 0.40728153 -0.10546355 -0.90719303]\n",
      " [ 0.01800146  0.99404442 -0.10747855]]\n",
      "Cluster 12: 17 points\n",
      "Linearity: 0.9393548170628243 False\n",
      "Theta: 47.64089391254773\n",
      "Eigenvalues: [4.35246124e-04 2.63955808e-05 3.90880787e-06]\n",
      "Eigenvectors: [[-0.68792263  0.50876829 -0.51760727]\n",
      " [-0.26979529  0.48280661  0.83313161]\n",
      " [ 0.67377516  0.71277809 -0.1948703 ]]\n",
      "Cluster 13: 11 points\n",
      "Linearity: 0.8686687471451734 False\n",
      "Theta: 48.48528507377334\n",
      "Eigenvalues: [2.17441287e-04 2.85568367e-05 4.62369464e-06]\n",
      "Eigenvectors: [[-0.67898636 -0.5244659  -0.51372468]\n",
      " [-0.31568542 -0.4231825   0.84926986]\n",
      " [ 0.66281238 -0.73881803 -0.12176891]]\n",
      "Cluster 14: 13 points\n",
      "Linearity: 0.8874522614663398 False\n",
      "Theta: 50.661546109422545\n",
      "Eigenvalues: [2.77189579e-04 3.11970603e-05 2.23182035e-06]\n",
      "Eigenvectors: [[-0.70677316  0.36988944 -0.6030369 ]\n",
      " [-0.31407385  0.59974914  0.73597459]\n",
      " [ 0.63390009  0.7095652  -0.30771399]]\n",
      "Cluster 15: 17 points\n",
      "Linearity: 0.9519400922748742 False\n",
      "Theta: 49.27849251240108\n",
      "Eigenvalues: [3.56753942e-04 1.71455615e-05 4.94380654e-06]\n",
      "Eigenvectors: [[-0.73993987  0.30618668 -0.598948  ]\n",
      " [-0.16396793  0.78144427  0.60204599]\n",
      " [ 0.65238294  0.54368609 -0.52801698]]\n",
      "Cluster 16: 12 points\n",
      "Linearity: 0.7863967363056902 False\n",
      "Theta: 87.42562535177619\n",
      "Eigenvalues: [1.24247162e-03 2.65395993e-04 4.40283002e-05]\n",
      "Eigenvectors: [[ 0.93842792  0.34546044 -0.00318188]\n",
      " [ 0.34254281 -0.93162081 -0.12143763]\n",
      " [ 0.0449162  -0.11287053  0.99259396]]\n",
      "Cluster 17: 14 points\n",
      "Linearity: 0.9652582115245957 False\n",
      "Theta: 85.99621918057551\n",
      "Eigenvalues: [1.92744680e-03 6.69629490e-05 3.42068277e-06]\n",
      "Eigenvectors: [[ 0.91351272 -0.00930883  0.40670366]\n",
      " [ 0.40077346 -0.15099543 -0.90364872]\n",
      " [ 0.0698223   0.98849063 -0.13420551]]\n",
      "Cluster 18: 10 points\n",
      "Linearity: 0.9678167558442672 False\n",
      "Theta: 88.87687671440352\n",
      "Eigenvalues: [1.51347163e-03 4.87084269e-05 2.79172184e-06]\n",
      "Eigenvectors: [[ 0.92463327  0.07293633  0.37380958]\n",
      " [ 0.38035393 -0.22734982 -0.89646135]\n",
      " [ 0.01960094  0.97107793 -0.23795683]]\n",
      "Cluster 19: 7 points\n",
      "Linearity: 0.9295241071058419 False\n",
      "Theta: 89.23996735850561\n",
      "Eigenvalues: [6.20807575e-04 4.37519682e-05 3.99732481e-08]\n",
      "Eigenvectors: [[ 0.8790719  -0.06006835  0.47288941]\n",
      " [ 0.47650461  0.08312545 -0.87523341]\n",
      " [ 0.01326468  0.99472707  0.10169609]]\n",
      "Cluster 20: 7 points\n",
      "Linearity: 0.9592011964257022 False\n",
      "Theta: 98.85096122582483\n",
      "Eigenvalues: [8.82239313e-04 3.59943084e-05 8.06379650e-07]\n",
      "Eigenvectors: [[-0.91099243 -0.12662251 -0.39250419]\n",
      " [-0.38264662 -0.09555635  0.9189399 ]\n",
      " [-0.15386475  0.98733769  0.03859944]]\n",
      "Cluster 21: 5 points\n",
      "Linearity: 0.8435293041445128 False\n",
      "Theta: 105.36924419431799\n",
      "Eigenvalues: [6.01904813e-04 9.41804649e-05 1.67771128e-06]\n",
      "Eigenvectors: [[-0.90372682 -0.16799053 -0.39377281]\n",
      " [-0.33620292 -0.29094339  0.89572292]\n",
      " [-0.26503856  0.94187639  0.20645443]]\n",
      "Track count: 2\n"
     ]
    }
   ],
   "source": [
    "i = 120\n",
    "\n",
    "\n",
    "lines = []\n",
    "\n",
    "hood = xyz[indices[i]]\n",
    "if hood.shape[0] < minimum_in_hood:   \n",
    "    raise ValueError(\"Not enough points in neighborhood\") # continue\n",
    "print(f\"Seed point {i} has {hood.shape[0]} points in its neighborhood\")\n",
    "\n",
    "# eigenvals, eigenvects = pca(hood)\n",
    "# linearity_at_seed = linearity(eigenvals)\n",
    "# theta_at_seed = theta(eigenvects)\n",
    "\n",
    "# print(f\"Linearity of {i}: {linearity_at_seed}\")\n",
    "# print(f\"Theta: {theta_at_seed}\")\n",
    "# print(f\"Eigenvalues: {eigenvals}\")\n",
    "# print(f\"Eigenvectors: {eigenvects}\")\n",
    "\n",
    "\n",
    "trackcount = 0\n",
    "# labels = dbscan(hood, eps=0.05, min_points=10)\n",
    "min_points = 10 # hood.shape[0] // 10\n",
    "\n",
    "# labels = dbscan_stretchz(hood, eps=0.05, min_points=min_points, stretch=2)\n",
    "# labels = dbscan_stretchz_noise(hood, eps=0.055, min_points=min_points, stretch=2.5, noise_neighbors=10, noise_std=2.0)\n",
    "# labels = dbscan_stretchz_noise(hood, eps=0.07, min_points=min_points, stretch=3, noise_neighbors=10, noise_std=2.0)\n",
    "# labels = dbscan_stretchz(hood, eps=0.09, min_points=min_points, stretch=5)\n",
    "\n",
    "\n",
    "labels = dbscan_stretchz_auto(hood, min_points=min_points, stretch=4)\n",
    "\n",
    "max_label = labels.max()\n",
    "clustercount = max_label + 1\n",
    "print()\n",
    "print(f\"Found {max_label + 1} clusters\")\n",
    "# print(max_label + 1, \"Clusters\")\n",
    "for label in range(max_label + 1):\n",
    "    cluster = hood[labels == label]\n",
    "    eigenvals, eigenvects = pca(cluster)\n",
    "    cluster_linearity = linearity(eigenvals)\n",
    "    projected = hood @ eigenvects[:,0] # Project on first eigenvector\n",
    "    # Length along first principal component\n",
    "    # lines.append(plot_first_eigenvec(cluster.mean(axis=0), eigenvects))\n",
    "    # print(cluster_linearity, end=\" \")\n",
    "    print(f\"Cluster {label}: {labels[labels == label].shape[0]} points\")\n",
    "    print(f\"Linearity: {cluster_linearity} {cluster_linearity > linearity_tresh}\")\n",
    "    print(f\"Theta: {theta(eigenvects)}\")\n",
    "    print(f\"Eigenvalues: {eigenvals}\")\n",
    "    print(f\"Eigenvectors: {eigenvects}\")\n",
    "    \n",
    "    if cluster_linearity > linearity_tresh:\n",
    "        if eigenvals[0] > 0.02:\n",
    "            trackcount += 1\n",
    "            lines.append(plot_first_eigenvec(cluster.mean(axis=0), eigenvects, stretch=eigenvals[0]*5))\n",
    "        else:\n",
    "            lines.append(plot_first_eigenvec(cluster.mean(axis=0), eigenvects, color=[0, 0, 0.7], stretch=eigenvals[0]*5))\n",
    "    else:\n",
    "        lines.append(plot_first_eigenvec(cluster.mean(axis=0), eigenvects, color=[0, 0, 0], stretch=eigenvals[0]*5))\n",
    "# print(\"\\nTrack count\", trackcount[i])\n",
    "print(f\"Track count: {trackcount}\")\n",
    "\n",
    "# print()\n",
    "\n",
    "colors = plt.get_cmap(\"tab20\")(labels / (max_label if max_label > 0 else 1))\n",
    "colors[labels < 0] = [0.5, 0.5, 0.5, 1] # Farbe für Punkte, die zu keinem Cluster gehören\n",
    "hood_pcd = o3d.geometry.PointCloud()\n",
    "hood_pcd.points = o3d.utility.Vector3dVector(hood)\n",
    "hood_pcd.colors = o3d.utility.Vector3dVector(colors[:,:3])\n",
    "o3d.visualization.draw_geometries([hood_pcd] + lines)"
   ]
  },
  {
   "cell_type": "markdown",
   "metadata": {},
   "source": [
    "Spread ist irgendwie nicht wie die ursprünglichen Meter. \n",
    "- Typische Werte bei sinnvollen Clustern: 0.28, 0.09\n",
    "- Bei Miniclustern: 0.05, 0.02, 0.01\n",
    "- Sinnvoller direkt die erste Eigenvalue zu nehmen\n",
    "\n",
    "```\n",
    "def pca_spread(points, eigenvals, eigenvects):\n",
    "    \"\"\"Length along first principal component\"\"\"\n",
    "    projected = points @ eigenvects[:,0] # Project on first eigenvector\n",
    "    return (np.max(projected) - np.min(projected)) * np.sqrt(eigenvals[0])\n",
    "```"
   ]
  },
  {
   "cell_type": "code",
   "execution_count": 40,
   "metadata": {},
   "outputs": [
    {
     "ename": "ValueError",
     "evalue": "",
     "output_type": "error",
     "traceback": [
      "\u001b[0;31m---------------------------------------------------------------------------\u001b[0m",
      "\u001b[0;31mValueError\u001b[0m                                Traceback (most recent call last)",
      "Cell \u001b[0;32mIn[40], line 1\u001b[0m\n\u001b[0;32m----> 1\u001b[0m \u001b[38;5;28;01mraise\u001b[39;00m \u001b[38;5;167;01mValueError\u001b[39;00m\n",
      "\u001b[0;31mValueError\u001b[0m: "
     ]
    }
   ],
   "source": [
    "raise ValueError"
   ]
  },
  {
   "cell_type": "code",
   "execution_count": null,
   "metadata": {},
   "outputs": [
    {
     "name": "stdout",
     "output_type": "stream",
     "text": [
      "Seed point 11 has 1174 points in its neighborhood\n",
      "\n",
      "Found 7 clusters\n",
      "Cluster 0: 682 points\n",
      "Linearity: 0.6521589830146466 False\n",
      "Theta: 91.23391648844144\n",
      "Eigenvalues: [0.02505452 0.00871499 0.00032574]\n",
      "Eigenvectors: [[ 0.05805241  0.99657525 -0.058887  ]\n",
      " [ 0.99808126 -0.05666547  0.02495657]\n",
      " [-0.02153424  0.0602228   0.99795265]]\n",
      "Cluster 1: 351 points\n",
      "Linearity: 0.9960838918179614 True\n",
      "Theta: 90.2799757488955\n",
      "Eigenvalues: [8.65745384e-02 3.39035258e-04 3.19083419e-05]\n",
      "Eigenvectors: [[ 0.11040048 -0.98416159 -0.13870004]\n",
      " [-0.99387517 -0.10863273 -0.02027497]\n",
      " [-0.00488648 -0.14008889  0.99012687]]\n",
      "Cluster 2: 18 points\n",
      "Linearity: 0.6817607568089634 False\n",
      "Theta: 113.64737133347377\n",
      "Eigenvalues: [2.02383528e-04 6.44063809e-05 4.84404096e-06]\n",
      "Eigenvectors: [[-0.79785207  0.50274998 -0.33267782]\n",
      " [ 0.45005069  0.86388531  0.22617813]\n",
      " [-0.40110653 -0.03073481  0.91551566]]\n",
      "Cluster 3: 11 points\n",
      "Linearity: 0.8859459234377717 False\n",
      "Theta: 87.07199372422147\n",
      "Eigenvalues: [4.34248427e-04 4.95278033e-05 3.42867985e-06]\n",
      "Eigenvectors: [[-0.02102809  0.9035687  -0.42792689]\n",
      " [ 0.9984731  -0.00288895 -0.05516443]\n",
      " [ 0.05108111  0.42843349  0.9021283 ]]\n",
      "Cluster 4: 11 points\n",
      "Linearity: 0.8474965242740596 False\n",
      "Theta: 87.90688448937385\n",
      "Eigenvalues: [2.16222063e-04 3.29746162e-05 8.60895784e-06]\n",
      "Eigenvectors: [[ 0.94228287 -0.32957137  0.05903982]\n",
      " [-0.33281979 -0.90274718  0.27254085]\n",
      " [ 0.03652363  0.2764602   0.96033108]]\n",
      "Cluster 5: 14 points\n",
      "Linearity: 0.6438743068145857 False\n",
      "Theta: 99.31836770853256\n",
      "Eigenvalues: [2.51826581e-04 8.96819157e-05 1.16634315e-05]\n",
      "Eigenvectors: [[ 9.84396480e-01 -8.94239992e-04 -1.75962410e-01]\n",
      " [-6.88870524e-02 -9.22132213e-01 -3.80692469e-01]\n",
      " [-1.61920176e-01  3.86873859e-01 -9.07805306e-01]]\n",
      "Cluster 6: 16 points\n",
      "Linearity: 0.7506468533481883 False\n",
      "Theta: 110.05177091041749\n",
      "Eigenvalues: [3.83925375e-04 9.57330003e-05 9.39308317e-06]\n",
      "Eigenvectors: [[-0.5673585  -0.71656933 -0.40574959]\n",
      " [-0.74869562  0.65403278 -0.10814801]\n",
      " [-0.34286908 -0.24242425  0.90756337]]\n",
      "Track count: 1\n"
     ]
    }
   ],
   "source": [
    "i = 11\n",
    "\n",
    "lines = []\n",
    "\n",
    "hood = xyz[indices[i]]\n",
    "# if hood.shape[0] < minimum_in_hood:   \n",
    "#     continue\n",
    "print(f\"Seed point {i} has {hood.shape[0]} points in its neighborhood\")\n",
    "\n",
    "# eigenvals, eigenvects = pca(hood)\n",
    "# linearity_at_seed = linearity(eigenvals)\n",
    "# theta_at_seed = theta(eigenvects)\n",
    "\n",
    "# print(f\"Linearity of {i}: {linearity_at_seed}\")\n",
    "# print(f\"Theta: {theta_at_seed}\")\n",
    "# print(f\"Eigenvalues: {eigenvals}\")\n",
    "# print(f\"Eigenvectors: {eigenvects}\")\n",
    "\n",
    "\n",
    "trackcount = 0\n",
    "# labels = dbscan(hood, eps=0.05, min_points=10)\n",
    "min_points = 10 # hood.shape[0] // 10\n",
    "\n",
    "# labels = dbscan_stretchz(hood, eps=0.05, min_points=min_points, stretch=2)\n",
    "# labels = dbscan_stretchz_noise(hood, eps=0.055, min_points=min_points, stretch=2.5, noise_neighbors=10, noise_std=2.0)\n",
    "# labels = dbscan_stretchz_noise(hood, eps=0.07, min_points=min_points, stretch=3, noise_neighbors=10, noise_std=2.0)\n",
    "# labels = dbscan_stretchz(hood, eps=0.09, min_points=min_points, stretch=5)\n",
    "\n",
    "labels = dbscan_stretchz_auto(hood, min_points=min_points, stretch=4)\n",
    "\n",
    "max_label = labels.max()\n",
    "clustercount = max_label + 1\n",
    "print()\n",
    "print(f\"Found {max_label + 1} clusters\")\n",
    "# print(max_label + 1, \"Clusters\")\n",
    "for label in range(max_label + 1):\n",
    "    cluster = hood[labels == label]\n",
    "    eigenvals, eigenvects = pca(cluster)\n",
    "    cluster_linearity = linearity(eigenvals)\n",
    "    projected = hood @ eigenvects[:,0] # Project on first eigenvector\n",
    "    # Length along first principal component\n",
    "    # lines.append(plot_first_eigenvec(cluster.mean(axis=0), eigenvects))\n",
    "    # print(cluster_linearity, end=\" \")\n",
    "    print(f\"Cluster {label}: {labels[labels == label].shape[0]} points\")\n",
    "    print(f\"Linearity: {cluster_linearity} {cluster_linearity > linearity_tresh}\")\n",
    "    print(f\"Theta: {theta(eigenvects)}\")\n",
    "    print(f\"Eigenvalues: {eigenvals}\")\n",
    "    print(f\"Eigenvectors: {eigenvects}\")\n",
    "    \n",
    "    if cluster_linearity > linearity_tresh:\n",
    "        if eigenvals[0] > 0.02:\n",
    "            trackcount += 1\n",
    "            lines.append(plot_first_eigenvec(cluster.mean(axis=0), eigenvects, stretch=eigenvals[0]*5))\n",
    "        else:\n",
    "            lines.append(plot_first_eigenvec(cluster.mean(axis=0), eigenvects, color=[0, 0, 0.7], stretch=eigenvals[0]*5))\n",
    "    else:\n",
    "        lines.append(plot_first_eigenvec(cluster.mean(axis=0), eigenvects, color=[0, 0, 0], stretch=eigenvals[0]*5))\n",
    "# print(\"\\nTrack count\", trackcount[i])\n",
    "print(f\"Track count: {trackcount}\")\n",
    "# print()\n",
    "\n",
    "colors = plt.get_cmap(\"tab20\")(labels / (max_label if max_label > 0 else 1))\n",
    "colors[labels < 0] = [0.5, 0.5, 0.5, 1] # Farbe für Punkte, die zu keinem Cluster gehören\n",
    "hood_pcd = o3d.geometry.PointCloud()\n",
    "hood_pcd.points = o3d.utility.Vector3dVector(hood)\n",
    "hood_pcd.colors = o3d.utility.Vector3dVector(colors[:,:3])\n",
    "o3d.visualization.draw_geometries([hood_pcd] + lines)\n"
   ]
  },
  {
   "cell_type": "code",
   "execution_count": null,
   "metadata": {},
   "outputs": [
    {
     "data": {
      "text/plain": [
       "np.float64(1.0)"
      ]
     },
     "execution_count": 46,
     "metadata": {},
     "output_type": "execute_result"
    }
   ],
   "source": [
    "np.linalg.norm((eigenvects.T[2])) "
   ]
  },
  {
   "cell_type": "code",
   "execution_count": null,
   "metadata": {},
   "outputs": [],
   "source": []
  }
 ],
 "metadata": {
  "kernelspec": {
   "display_name": "points",
   "language": "python",
   "name": "points"
  },
  "language_info": {
   "codemirror_mode": {
    "name": "ipython",
    "version": 3
   },
   "file_extension": ".py",
   "mimetype": "text/x-python",
   "name": "python",
   "nbconvert_exporter": "python",
   "pygments_lexer": "ipython3",
   "version": "3.9.21"
  }
 },
 "nbformat": 4,
 "nbformat_minor": 2
}
