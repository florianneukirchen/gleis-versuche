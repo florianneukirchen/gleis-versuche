{
 "cells": [
  {
   "cell_type": "markdown",
   "metadata": {},
   "source": [
    "# Check the distribution of the railhead above ground"
   ]
  },
  {
   "cell_type": "code",
   "execution_count": 28,
   "metadata": {},
   "outputs": [],
   "source": [
    "import pdal \n",
    "import numpy as np\n",
    "import matplotlib.pyplot as plt\n",
    "import open3d as o3d\n",
    "import os\n",
    "import json\n",
    "import pyvista as pv\n",
    "\n",
    "from interessant import * # Bei Änderungen Kernel neu starten"
   ]
  },
  {
   "cell_type": "code",
   "execution_count": 29,
   "metadata": {},
   "outputs": [
    {
     "name": "stdout",
     "output_type": "stream",
     "text": [
      "Einfach 4473900_5335875.copc.laz\n"
     ]
    }
   ],
   "source": [
    "run = run24\n",
    "#run = run14\n",
    "# filename = interessant['OLA gleiche Höhe wie Gleis']\n",
    "\n",
    "# Bahnsteig: 29; Gleis hohe Intensität: 11; Weiche B: 16; Unterirdischer Bhf: 20; Gleis weit abseits: 23; Betondeckel: 28; Zug run 14 A (in run24 Achszähler): 6; \n",
    "# Viele Gleise: 33; Anfang Weiche: 34, OLA gleiche H: 35; Y: 37\n",
    "key = list(interessant.keys())[0] \n",
    "filename = interessant[key]\n",
    "print(key, filename)\n",
    "\n",
    "\n",
    "filename = os.path.join(run, filename)\n",
    "if not os.path.exists(filename):\n",
    "    raise FileNotFoundError(filename)"
   ]
  },
  {
   "cell_type": "code",
   "execution_count": 30,
   "metadata": {},
   "outputs": [
    {
     "name": "stdout",
     "output_type": "stream",
     "text": [
      "Voxel size: 0.8333333333333334\n"
     ]
    }
   ],
   "source": [
    "thresh = 20  # z.B. 5 oder 8\n",
    "majority_tresh  = 0.7# 0.7  # 0.7 0.5 # Erster Durchgang 0.3, bei \"Gleis hohe Intensität\" gibt 0.5 ein viel besseres Ergebnis\n",
    "ground_percentile = 10 # 10 # 10 in Oude E.\n",
    "\n",
    "voxel_size = 1.0\n",
    "\n",
    "voxel_size = 25 / 30\n",
    "print(\"Voxel size:\", voxel_size)\n",
    "\n",
    "minimum_points = 50 # Erste Versuche mit 100, aber viel schwarz bei abseits liegenden Gleisen. 50 ist besser.\n",
    "\n",
    "with_normals = False"
   ]
  },
  {
   "cell_type": "code",
   "execution_count": 31,
   "metadata": {},
   "outputs": [],
   "source": [
    "import subprocess\n",
    "# subprocess.Popen([\"pyvistaviewer\", filename])"
   ]
  },
  {
   "cell_type": "code",
   "execution_count": 32,
   "metadata": {},
   "outputs": [
    {
     "data": {
      "text/plain": [
       "dtype([('X', '<f8'), ('Y', '<f8'), ('Z', '<f8'), ('Intensity', '<u2'), ('ReturnNumber', 'u1'), ('NumberOfReturns', 'u1'), ('ScanDirectionFlag', 'u1'), ('EdgeOfFlightLine', 'u1'), ('Classification', 'u1'), ('Synthetic', 'u1'), ('KeyPoint', 'u1'), ('Withheld', 'u1'), ('Overlap', 'u1'), ('ScanAngleRank', '<f4'), ('UserData', 'u1'), ('PointSourceId', '<u2'), ('GpsTime', '<f8'), ('ScanChannel', 'u1'), ('Red', '<u2'), ('Green', '<u2'), ('Blue', '<u2')])"
      ]
     },
     "execution_count": 32,
     "metadata": {},
     "output_type": "execute_result"
    }
   ],
   "source": [
    "pipeline = pdal.Pipeline([pdal.Reader(filename)])\n",
    "pipeline.execute()\n",
    "points = pipeline.arrays[0]\n",
    "points.dtype # Column names and types"
   ]
  },
  {
   "cell_type": "code",
   "execution_count": 33,
   "metadata": {},
   "outputs": [
    {
     "data": {
      "text/plain": [
       "4473925"
      ]
     },
     "execution_count": 33,
     "metadata": {},
     "output_type": "execute_result"
    }
   ],
   "source": [
    "metadata = pipeline.metadata['metadata']\n",
    "metadata['readers.copc']['maxx']"
   ]
  },
  {
   "cell_type": "code",
   "execution_count": 34,
   "metadata": {},
   "outputs": [],
   "source": [
    "def pipeline_bbox(pipeline):\n",
    "    \"\"\"Return 2D bounding box of the point cloud\"\"\"\n",
    "    metadata = pipeline.metadata['metadata']\n",
    "    key = None\n",
    "    for k in metadata.keys():\n",
    "        if k.startswith('readers'):\n",
    "            key = k\n",
    "    if not key:\n",
    "        raise ValueError(\"No readers found\")\n",
    "    maxx = metadata[key]['maxx']\n",
    "    minx = metadata[key]['minx']\n",
    "    maxy = metadata[key]['maxy']\n",
    "    miny = metadata[key]['miny']\n",
    "\n",
    "    return minx, miny, maxx, maxy"
   ]
  },
  {
   "cell_type": "code",
   "execution_count": 35,
   "metadata": {},
   "outputs": [
    {
     "data": {
      "text/plain": [
       "(4473900, 5335875, 4473925, 5335900)"
      ]
     },
     "execution_count": 35,
     "metadata": {},
     "output_type": "execute_result"
    }
   ],
   "source": [
    "pipeline_bbox(pipeline)"
   ]
  },
  {
   "cell_type": "code",
   "execution_count": 36,
   "metadata": {},
   "outputs": [],
   "source": [
    "points['Classification'] = 0 # Unclassified"
   ]
  },
  {
   "cell_type": "code",
   "execution_count": 37,
   "metadata": {},
   "outputs": [],
   "source": [
    "xyz = np.vstack((points['X'], points['Y'], points['Z'])).transpose()\n",
    "rgb = np.vstack((points['Red'], points['Green'], points['Blue'])).transpose() / 65535.0\n",
    "\n",
    "intensity = points['Intensity']\n",
    "intensity_normalized = (intensity - intensity.min()) / (intensity.max() - intensity.min())\n",
    "colormap = plt.get_cmap(\"viridis\")\n",
    "intensity_colors = colormap(intensity_normalized)\n",
    "intensity_colors = intensity_colors[:, :3]\n",
    "\n",
    "# Offset entfernen (aber gerundet, damit Kachelgrenzen ganze Zahlen bleiben)\n",
    "offset = xyz.mean(axis=0).round() \n",
    "xyz -= offset"
   ]
  },
  {
   "cell_type": "code",
   "execution_count": 38,
   "metadata": {},
   "outputs": [
    {
     "data": {
      "text/plain": [
       "array([4.473913e+06, 5.335888e+06, 5.170000e+02])"
      ]
     },
     "execution_count": 38,
     "metadata": {},
     "output_type": "execute_result"
    }
   ],
   "source": [
    "offset"
   ]
  },
  {
   "cell_type": "code",
   "execution_count": 39,
   "metadata": {},
   "outputs": [],
   "source": [
    "pcd = o3d.geometry.PointCloud()\n",
    "pcd.points = o3d.utility.Vector3dVector(xyz)\n",
    "# pcd.colors = o3d.utility.Vector3dVector(intensity_colors)\n",
    "# pcd.colors = o3d.utility.Vector3dVector(rgb)"
   ]
  },
  {
   "cell_type": "code",
   "execution_count": 40,
   "metadata": {},
   "outputs": [],
   "source": [
    "# o3d.visualization.draw_geometries([pcd])"
   ]
  },
  {
   "cell_type": "markdown",
   "metadata": {},
   "source": [
    "# Teile in säulenartige Voxel, um darin z zu untersuchen"
   ]
  },
  {
   "cell_type": "code",
   "execution_count": 41,
   "metadata": {},
   "outputs": [
    {
     "data": {
      "text/plain": [
       "(array([11.99997543, 11.99998693, 13.12408   ]),\n",
       " array([-13.00002457, -13.00001307,  -3.99652   ]))"
      ]
     },
     "execution_count": 41,
     "metadata": {},
     "output_type": "execute_result"
    }
   ],
   "source": [
    "maxp = xyz.max(axis=0)\n",
    "minp = xyz.min(axis=0)\n",
    "maxp, minp"
   ]
  },
  {
   "cell_type": "code",
   "execution_count": 42,
   "metadata": {},
   "outputs": [],
   "source": [
    "my_classes = {\n",
    "    \"Unclassified\": 0,\n",
    "    \"High Points\": 13,   \n",
    "    \"No clearance\": 14,\n",
    "    \"Missing Rail\": 15,\n",
    "    \"Low Points\": 16,\n",
    "    \"Rail\": 20,\n",
    "}\n",
    "\n",
    "color_map = {\n",
    "    13: [0.3, 0.3, 0.3],\n",
    "    14: [0.5, 0.5, 0.5], \n",
    "    15: [0, 0, 1],\n",
    "    16: [0, 1, 0],\n",
    "    20: [1, 0, 0],\n",
    "}"
   ]
  },
  {
   "cell_type": "code",
   "execution_count": 43,
   "metadata": {},
   "outputs": [],
   "source": [
    "voxels = xyz.copy()\n",
    "voxels[:, :2] = ((xyz[:, :2] - minp[:2]) // voxel_size).astype(int)"
   ]
  },
  {
   "cell_type": "code",
   "execution_count": 44,
   "metadata": {},
   "outputs": [
    {
     "data": {
      "text/plain": [
       "array([30, 30])"
      ]
     },
     "execution_count": 44,
     "metadata": {},
     "output_type": "execute_result"
    }
   ],
   "source": [
    "# Anzahl der Voxel checken\n",
    "np.ceil((maxp[:2] - minp[:2]) / voxel_size).astype(int)"
   ]
  },
  {
   "cell_type": "markdown",
   "metadata": {},
   "source": [
    "Die folgende Zelle benötigt bei Kachel \"Einfach\" 5.8 s."
   ]
  },
  {
   "cell_type": "code",
   "execution_count": 47,
   "metadata": {},
   "outputs": [],
   "source": [
    "from collections import defaultdict\n",
    "voxel_dict = defaultdict(list)\n",
    "index_dict = defaultdict(list)\n",
    "\n",
    "# Füllen des Dictionaries\n",
    "for idx, (point, voxel) in enumerate(zip(xyz, voxels)):\n",
    "    voxel_key = tuple(voxel[:2])\n",
    "    voxel_dict[voxel_key].append(point[2])\n",
    "    index_dict[voxel_key].append(idx)"
   ]
  },
  {
   "cell_type": "code",
   "execution_count": 48,
   "metadata": {},
   "outputs": [],
   "source": [
    "# Viewsettings mit strg + c kopieren und hier einfügen\n",
    "\n",
    "viewsettings = '''\n",
    "{\n",
    "\t\"class_name\" : \"ViewTrajectory\",\n",
    "\t\"interval\" : 29,\n",
    "\t\"is_loop\" : false,\n",
    "\t\"trajectory\" : \n",
    "\t[\n",
    "\t\t{\n",
    "\t\t\t\"boundingbox_max\" : [ 11.999975427985191, 11.99998692702502, 13.124079998226534 ],\n",
    "\t\t\t\"boundingbox_min\" : [ -13.000024572014809, -13.00001307297498, -3.9965200017734333 ],\n",
    "\t\t\t\"field_of_view\" : 60.0,\n",
    "\t\t\t\"front\" : [ -0.20468464372193082, -0.82045900926496551, 0.53380821531742795 ],\n",
    "\t\t\t\"lookat\" : [ -2.1145501200370735, -2.6052610037108783, 1.4494799802055294 ],\n",
    "\t\t\t\"up\" : [ 0.19010212482081987, 0.50164960558000959, 0.84392467398461002 ],\n",
    "\t\t\t\"zoom\" : 0.55999999999999983\n",
    "\t\t}\n",
    "\t],\n",
    "\t\"version_major\" : 1,\n",
    "\t\"version_minor\" : 0\n",
    "}\n",
    "\n",
    "'''\n",
    "\n",
    "viewsettings = json.loads(viewsettings)\n",
    "\n",
    "front = viewsettings[\"trajectory\"][0][\"front\"]\n",
    "lookat = viewsettings[\"trajectory\"][0][\"lookat\"]\n",
    "up = viewsettings[\"trajectory\"][0][\"up\"]\n",
    "zoom = viewsettings[\"trajectory\"][0][\"zoom\"]"
   ]
  },
  {
   "cell_type": "code",
   "execution_count": 49,
   "metadata": {},
   "outputs": [],
   "source": [
    "\n",
    "railtop_above_ground = []\n",
    "\n",
    "for key, z_values in voxel_dict.items():\n",
    "    \n",
    "    # Threshold on number of points in voxel\n",
    "    if len(z_values) < minimum_points:\n",
    "        continue\n",
    "\n",
    "    indices = np.array(index_dict[key])\n",
    "    z_values = np.array(z_values)\n",
    "    ground_level = np.percentile(z_values, ground_percentile) # 10% Percentile in Oude E.\n",
    "    # Check that there are almost no points 0.5 to 4.5 m above the ground\n",
    "    # But allow for some noise\n",
    "    count = ((z_values > ground_level + 0.5) & (z_values < ground_level + 4.5)).sum()\n",
    "\n",
    "    if count <= thresh:\n",
    "        # Look for points within 0.5 m above ground and get 98% percentile ODER 99.5\n",
    "        mask = (z_values > ground_level) & (z_values < ground_level + 0.5)\n",
    "        try:\n",
    "            candidates_top = np.percentile(z_values[mask], 99.5) \n",
    "        except IndexError:\n",
    "            # Fails if there are no points in the masked array\n",
    "            continue\n",
    "\n",
    "        # Oude Elberink require the height difference > 0.1 m\n",
    "        # And mark only the points 10 cm below the top as rail point candidates\n",
    "        if candidates_top - ground_level > 0.1:\n",
    "            mask = (z_values > candidates_top - 0.1) & (z_values < candidates_top + 0.005)\n",
    "\n",
    "            # Also make sure these are only a minority of the points (otherwise it's a slope)\n",
    "            if mask.sum() < majority_tresh * len(z_values):  # z.B. 0.3\n",
    "                railtop_above_ground.append(candidates_top - ground_level)\n",
    "                \n"
   ]
  },
  {
   "cell_type": "code",
   "execution_count": 50,
   "metadata": {},
   "outputs": [],
   "source": [
    "railtop_above_ground = np.array(railtop_above_ground)"
   ]
  },
  {
   "cell_type": "code",
   "execution_count": 51,
   "metadata": {},
   "outputs": [
    {
     "name": "stdout",
     "output_type": "stream",
     "text": [
      "Min : 0.10943750000000407\n",
      "Max : 0.49759549999994435\n",
      "Mean: 0.264330354984892\n",
      "Median: 0.2261999999999489\n",
      "Std  : 0.1023401272846818\n",
      "Anzahl: 331\n"
     ]
    }
   ],
   "source": [
    "print(\"Min :\", railtop_above_ground.min())\n",
    "print(\"Max :\", railtop_above_ground.max())\n",
    "print(\"Mean:\", railtop_above_ground.mean())\n",
    "print(\"Median:\", np.median(railtop_above_ground))\n",
    "print(\"Std  :\", railtop_above_ground.std())\n",
    "print(\"Anzahl:\", len(railtop_above_ground))"
   ]
  },
  {
   "cell_type": "code",
   "execution_count": 52,
   "metadata": {},
   "outputs": [
    {
     "data": {
      "image/png": "[encoded data removed]",
      "text/plain": [
       "<Figure size 640x480 with 1 Axes>"
      ]
     },
     "metadata": {},
     "output_type": "display_data"
    }
   ],
   "source": [
    "plt.hist(railtop_above_ground, bins=50);"
   ]
  },
  {
   "cell_type": "code",
   "execution_count": null,
   "metadata": {},
   "outputs": [],
   "source": []
  }
 ],
 "metadata": {
  "kernelspec": {
   "display_name": "points",
   "language": "python",
   "name": "points"
  },
  "language_info": {
   "codemirror_mode": {
    "name": "ipython",
    "version": 3
   },
   "file_extension": ".py",
   "mimetype": "text/x-python",
   "name": "python",
   "nbconvert_exporter": "python",
   "pygments_lexer": "ipython3",
   "version": "3.9.21"
  }
 },
 "nbformat": 4,
 "nbformat_minor": 2
}
