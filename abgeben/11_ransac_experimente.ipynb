{
 "cells": [
  {
   "cell_type": "markdown",
   "metadata": {},
   "source": [
    "# RANSAC-Experimente\n",
    "Versuche, nach dem Voxelfilter mit RANSAC in die Schienen-Kandidatenpunkte innerhalb einer Nachbarschaft mit 1 m Radius eine Gerade zu fitten und inlier/outlier zu trennen. Wird so u.a. bei Kononen et al. (2024) gemacht.\n",
    "\n",
    "RANSAC in 2D ohne z-Werte, in die outlier der ersten Gerade wird noch eine zweite gefittet (da bei Weichen zwei Schienen innerhalb des Radius liegen können).\n",
    "\n",
    "Die Ergebnisse sind kaum brauchbar, weil RANSAC die Gerade in die Muster der Scanlinien fittet, statt der Schienenrichtung zu folgen. Dies ist bei größerem Schwellenwert weniger ausgeprägt, aber dann können Zunge/Backe bei Weichen nicht mehr getrennt werden. Daher wurde dieser Ansatz verworfen (Abschn. 5.5.5)."
   ]
  },
  {
   "cell_type": "code",
   "execution_count": 27,
   "metadata": {},
   "outputs": [],
   "source": [
    "import pdal \n",
    "import numpy as np\n",
    "import matplotlib.pyplot as plt\n",
    "import open3d as o3d\n",
    "from scipy.spatial import KDTree\n",
    "import os\n",
    "import json\n",
    "import pyvista as pv\n",
    "from sklearn.linear_model import RANSACRegressor\n",
    "\n",
    "from interessant import * # Bei Änderungen Kernel neu starten"
   ]
  },
  {
   "cell_type": "code",
   "execution_count": 28,
   "metadata": {},
   "outputs": [
    {
     "name": "stdout",
     "output_type": "stream",
     "text": [
      "Anfang Weiche 4481275_5357000.copc.laz\n"
     ]
    }
   ],
   "source": [
    "run = run24\n",
    "#run = run14\n",
    "# filename = interessant['OLA gleiche Höhe wie Gleis']\n",
    "\n",
    "# Bahnsteig: 29; Gleis hohe Intensität: 11; Weiche B: 16; Unterirdischer Bhf: 20; Gleis weit abseits: 23; Betondeckel: 28; Zug run 14 A (in run24 Achszähler): 6; \n",
    "# Viele Gleise: 33; Anfang Weiche: 34; OLA gleiche H: 35; Y: 37\n",
    "key = list(interessant.keys())[34] \n",
    "filename = interessant[key]\n",
    "print(key, filename)\n",
    "\n",
    "filename = os.path.join(run, filename)\n",
    "if not os.path.exists(filename):\n",
    "    raise FileNotFoundError(filename)"
   ]
  },
  {
   "cell_type": "markdown",
   "metadata": {},
   "source": [
    "## Parameter"
   ]
  },
  {
   "cell_type": "code",
   "execution_count": 29,
   "metadata": {},
   "outputs": [
    {
     "name": "stdout",
     "output_type": "stream",
     "text": [
      "Voxel size: 0.8333333333333334\n"
     ]
    }
   ],
   "source": [
    "thresh = 8  # z.B. 5 oder 8\n",
    "majority_tresh  = 0.5 # Erster Durchgang 0.3, bei \"Gleis hohe Intensität\" gibt 0.5 ein viel besseres Ergebnis\n",
    "\n",
    "voxel_size = 1.0\n",
    "\n",
    "voxel_size = 25 / 30\n",
    "print(\"Voxel size:\", voxel_size)\n",
    "\n",
    "minimum_points = 50 # Erste Versuche mit 100, aber viel schwarz bei abseits liegenden Gleisen. 50 ist besser.\n",
    "minimum_in_hood = 10\n",
    "linearity_tresh = 0.98\n",
    "\n",
    "intensity_threshold = 14500\n",
    "downsample_radius = 0.3\n",
    "neighborhood_radius = 0.5"
   ]
  },
  {
   "cell_type": "markdown",
   "metadata": {},
   "source": [
    "## Voxelfilter\n",
    "(erste, nicht optimierte Version)"
   ]
  },
  {
   "cell_type": "code",
   "execution_count": 30,
   "metadata": {},
   "outputs": [],
   "source": [
    "pipeline = pdal.Pipeline([pdal.Reader(filename)])\n",
    "pipeline.execute()\n",
    "points = pipeline.arrays[0]"
   ]
  },
  {
   "cell_type": "code",
   "execution_count": 31,
   "metadata": {},
   "outputs": [],
   "source": [
    "xyz = np.vstack((points['X'], points['Y'], points['Z'])).transpose()\n",
    "\n",
    "points['Classification'] = 0 # Unclassified\n",
    "RAIL = 20\n",
    "\n",
    "maxp = xyz.max(axis=0)\n",
    "minp = xyz.min(axis=0)"
   ]
  },
  {
   "cell_type": "code",
   "execution_count": 32,
   "metadata": {},
   "outputs": [],
   "source": [
    "voxels = xyz.copy()\n",
    "voxels[:, :2] = ((xyz[:, :2] - minp[:2]) // voxel_size).astype(int)"
   ]
  },
  {
   "cell_type": "code",
   "execution_count": 33,
   "metadata": {},
   "outputs": [
    {
     "data": {
      "text/plain": [
       "array([30, 30])"
      ]
     },
     "execution_count": 33,
     "metadata": {},
     "output_type": "execute_result"
    }
   ],
   "source": [
    "# Anzahl der Voxel checken\n",
    "np.ceil((maxp[:2] - minp[:2]) / voxel_size).astype(int)"
   ]
  },
  {
   "cell_type": "code",
   "execution_count": 34,
   "metadata": {},
   "outputs": [],
   "source": [
    "from collections import defaultdict\n",
    "voxel_dict = defaultdict(list)\n",
    "index_dict = defaultdict(list)\n",
    "\n",
    "# Füllen des Dictionaries\n",
    "for idx, (point, voxel) in enumerate(zip(xyz, voxels)):\n",
    "    voxel_key = tuple(voxel[:2])\n",
    "    voxel_dict[voxel_key].append(point[2])\n",
    "    index_dict[voxel_key].append(idx)"
   ]
  },
  {
   "cell_type": "code",
   "execution_count": 35,
   "metadata": {},
   "outputs": [],
   "source": [
    "for key, z_values in voxel_dict.items():\n",
    "    \n",
    "    # Threshold on number of points in voxel\n",
    "    if len(z_values) < minimum_points:\n",
    "        continue\n",
    "\n",
    "    indices = np.array(index_dict[key])\n",
    "    z_values = np.array(z_values)\n",
    "    ground_level = np.percentile(z_values, 10) # 10% Percentile\n",
    "    # Check that there are almost no points 0.5 to 4.5 m above the ground\n",
    "    # But allow for some noise\n",
    "    # thresh = 3 # Der einfachheit halber oben\n",
    "    count = ((z_values > ground_level + 0.5) & (z_values < ground_level + 4.5)).sum()\n",
    "\n",
    "    if count <= thresh:\n",
    "        # Look for points within 0.5 m above ground and get 98% percentile ODER 99.5\n",
    "        mask = (z_values > ground_level) & (z_values < ground_level + 0.5)\n",
    "        try:\n",
    "            candidates_top = np.percentile(z_values[mask], 99.5)\n",
    "        except IndexError:\n",
    "            # Fails if there are no points in the masked array\n",
    "            continue\n",
    "\n",
    "        # Oude Elberink require the height difference > 0.1 m\n",
    "        # And mark only the points 10 cm below the top as rail point candidates\n",
    "        if candidates_top - ground_level > 0.1:\n",
    "            mask = (z_values > candidates_top - 0.1) & (z_values < candidates_top + 0.05)\n",
    "\n",
    "            # Also make sure these are only a minority of the points (otherwise it's a slope)\n",
    "            if mask.sum() < majority_tresh * len(z_values):  # z.B. 0.3\n",
    "                points['Classification'][indices[mask]] = RAIL\n"
   ]
  },
  {
   "cell_type": "code",
   "execution_count": 36,
   "metadata": {},
   "outputs": [
    {
     "data": {
      "text/plain": [
       "(154816,)"
      ]
     },
     "execution_count": 36,
     "metadata": {},
     "output_type": "execute_result"
    }
   ],
   "source": [
    "candidates = points[points[\"Classification\"] == RAIL]\n",
    "candidates.shape"
   ]
  },
  {
   "cell_type": "markdown",
   "metadata": {},
   "source": [
    "## View Settings"
   ]
  },
  {
   "cell_type": "code",
   "execution_count": 37,
   "metadata": {},
   "outputs": [],
   "source": [
    "# Viewsettings mit strg + c kopieren und hier einfügen\n",
    "\n",
    "viewsettings = '''\n",
    "{\n",
    "\t\"class_name\" : \"ViewTrajectory\",\n",
    "\t\"interval\" : 29,\n",
    "\t\"is_loop\" : false,\n",
    "\t\"trajectory\" : \n",
    "\t[\n",
    "\t\t{\n",
    "\t\t\t\"boundingbox_max\" : [ 11.999975427985191, 11.99998692702502, 13.124079998226534 ],\n",
    "\t\t\t\"boundingbox_min\" : [ -13.000024572014809, -13.00001307297498, -3.9965200017734333 ],\n",
    "\t\t\t\"field_of_view\" : 60.0,\n",
    "\t\t\t\"front\" : [ -0.20468464372193082, -0.82045900926496551, 0.53380821531742795 ],\n",
    "\t\t\t\"lookat\" : [ -2.1145501200370735, -2.6052610037108783, 1.4494799802055294 ],\n",
    "\t\t\t\"up\" : [ 0.19010212482081987, 0.50164960558000959, 0.84392467398461002 ],\n",
    "\t\t\t\"zoom\" : 0.55999999999999983\n",
    "\t\t}\n",
    "\t],\n",
    "\t\"version_major\" : 1,\n",
    "\t\"version_minor\" : 0\n",
    "}\n",
    "\n",
    "'''\n",
    "\n",
    "viewsettings = json.loads(viewsettings)\n",
    "\n",
    "front = viewsettings[\"trajectory\"][0][\"front\"]\n",
    "lookat = viewsettings[\"trajectory\"][0][\"lookat\"]\n",
    "up = viewsettings[\"trajectory\"][0][\"up\"]\n",
    "zoom = viewsettings[\"trajectory\"][0][\"zoom\"]"
   ]
  },
  {
   "cell_type": "markdown",
   "metadata": {},
   "source": [
    "## Kandidaten und Saatpunkte"
   ]
  },
  {
   "cell_type": "markdown",
   "metadata": {},
   "source": [
    "Noise Filter auf dem Ergebnis des Voxelfilters"
   ]
  },
  {
   "cell_type": "code",
   "execution_count": 38,
   "metadata": {},
   "outputs": [
    {
     "name": "stdout",
     "output_type": "stream",
     "text": [
      "[{\"type\": \"filters.outlier\", \"method\": \"statistical\", \"mean_k\": 10, \"multiplier\": 2.0, \"tag\": \"filters_outlier1\"}, {\"type\": \"filters.range\", \"limits\": \"Classification![7:7]\", \"tag\": \"filters_range1\"}]\n"
     ]
    },
    {
     "data": {
      "text/plain": [
       "(151900,)"
      ]
     },
     "execution_count": 38,
     "metadata": {},
     "output_type": "execute_result"
    }
   ],
   "source": [
    "# filters.outlier sets Classification to 7, filters.range removes the points with Classification 7\n",
    "\n",
    "noise_filter = pdal.Filter(\"filters.outlier\", method=\"statistical\", mean_k=10, multiplier=2.0).pipeline(candidates) | pdal.Filter(\"filters.range\", limits=\"Classification![7:7]\")\n",
    "print(noise_filter.toJSON())\n",
    "noise_filter.execute()\n",
    "candidates = noise_filter.arrays[0]\n",
    "candidates.shape "
   ]
  },
  {
   "cell_type": "code",
   "execution_count": 39,
   "metadata": {},
   "outputs": [],
   "source": [
    "xyz = np.vstack((candidates['X'], candidates['Y'], candidates['Z'])).transpose()\n",
    "offset = xyz.mean(axis=0).round() \n",
    "xyz -= offset"
   ]
  },
  {
   "cell_type": "markdown",
   "metadata": {},
   "source": [
    "Saatpunkte"
   ]
  },
  {
   "cell_type": "code",
   "execution_count": 40,
   "metadata": {},
   "outputs": [
    {
     "data": {
      "text/plain": [
       "(96434,)"
      ]
     },
     "execution_count": 40,
     "metadata": {},
     "output_type": "execute_result"
    }
   ],
   "source": [
    "low_intensity = candidates[candidates[\"Intensity\"] < intensity_threshold]\n",
    "low_intensity.shape"
   ]
  },
  {
   "cell_type": "code",
   "execution_count": 41,
   "metadata": {},
   "outputs": [
    {
     "data": {
      "text/plain": [
       "(614,)"
      ]
     },
     "execution_count": 41,
     "metadata": {},
     "output_type": "execute_result"
    }
   ],
   "source": [
    "# Downsample with poisson sampling\n",
    "\n",
    "downsampling_pipeline = pdal.Filter(\"filters.sample\", radius=downsample_radius).pipeline(low_intensity)\n",
    "downsampling_pipeline.execute()\n",
    "seed_points = downsampling_pipeline.arrays[0]\n",
    "seed_points.shape "
   ]
  },
  {
   "cell_type": "code",
   "execution_count": 42,
   "metadata": {},
   "outputs": [],
   "source": [
    "xyz_seed = np.vstack((seed_points['X'], seed_points['Y'], seed_points['Z'])).transpose()\n",
    "xyz_seed -= offset"
   ]
  },
  {
   "cell_type": "markdown",
   "metadata": {},
   "source": [
    "k-d-Baum"
   ]
  },
  {
   "cell_type": "code",
   "execution_count": 43,
   "metadata": {},
   "outputs": [],
   "source": [
    "# k-D tree with all candidate points\n",
    "tree = KDTree(xyz)  "
   ]
  },
  {
   "cell_type": "code",
   "execution_count": 44,
   "metadata": {},
   "outputs": [],
   "source": [
    "# indices: ndarray (dtype object) with a list of indices for each seed point\n",
    "indices = tree.query_ball_point(xyz_seed, r=neighborhood_radius)"
   ]
  },
  {
   "cell_type": "code",
   "execution_count": 45,
   "metadata": {},
   "outputs": [],
   "source": [
    "seed_point_count = xyz_seed.shape[0]"
   ]
  },
  {
   "cell_type": "markdown",
   "metadata": {},
   "source": [
    "## Funktionen"
   ]
  },
  {
   "cell_type": "code",
   "execution_count": 46,
   "metadata": {},
   "outputs": [],
   "source": [
    "def pca(cloud):\n",
    "    \"\"\"Use PCA to get einvalues and eigenvectors of a point cloud\"\"\"\n",
    "    mean = np.mean(cloud, axis=0)\n",
    "    centered = cloud - mean\n",
    "    cov_matrix = np.cov(centered, rowvar=False) # row variance nicht berechnen\n",
    "    eigenvals, eigenvecs = np.linalg.eig(cov_matrix)\n",
    "    sorted_indices = np.argsort(eigenvals)[::-1]\n",
    "    sorted_eigenvals = eigenvals[sorted_indices]\n",
    "    sorted_eigenvecs = eigenvecs[:,sorted_indices]\n",
    "    return sorted_eigenvals, sorted_eigenvecs\n",
    "\n",
    "def linearity(eigenvals):\n",
    "    \"\"\"Calculate the linearity of a point cloud\"\"\"\n",
    "    return (eigenvals[0] - eigenvals[1]) / eigenvals[0]\n"
   ]
  },
  {
   "cell_type": "code",
   "execution_count": 47,
   "metadata": {},
   "outputs": [],
   "source": [
    "def fit_line_ransac(points, threshold=0.1, min_samples=20):\n",
    "    \"\"\"Fits a line to the given 2D points using RANSAC.\"\"\"\n",
    "    if len(points) < min_samples:\n",
    "        return None, None  # Not enough points\n",
    "\n",
    "    ransac = RANSACRegressor(residual_threshold=threshold)\n",
    "    ransac.fit(points[:, [0]], points[:, 1])  # X -> Y mapping\n",
    "    \n",
    "    inlier_mask = ransac.inlier_mask_\n",
    "    a, b = ransac.estimator_.coef_[0], ransac.estimator_.intercept_\n",
    "    \n",
    "    return (a, b), inlier_mask  # Line equation and inliers"
   ]
  },
  {
   "cell_type": "markdown",
   "metadata": {},
   "source": [
    "## RANSAC auf Nachbarschaft um einen Saatpunkt\n",
    "Der Index eines Saatpunkts muss gewählt werden. Verschiedene Schwellenwerte können ausprobiert werden.\n",
    "\n",
    "\n",
    "Erste RANSAC-Linie: rot, zweite, in deren outlier gefittete RANSAC-Linie: grün."
   ]
  },
  {
   "cell_type": "code",
   "execution_count": 50,
   "metadata": {},
   "outputs": [
    {
     "name": "stdout",
     "output_type": "stream",
     "text": [
      "Seed point 0 has 452 points in its neighborhood\n",
      "Linearity: 0.9864199962164693\n",
      "Eigenvals [0.08305251 0.00112785 0.0003418 ]\n",
      "Model 1 (np.float64(0.09846303696418181), np.float64(4.719894834146913)) Inliers 408\n",
      "Model 2 (np.float64(0.18695045200653862), np.float64(4.097253315778029)) Inliers 41\n"
     ]
    }
   ],
   "source": [
    "i = 0 # Index eines Saatpunkts wählen\n",
    "\n",
    "# RANSAC-Schwellenwert\n",
    "threshold = 0.05 # 0.05 0.1, 0.2, 0.3\n",
    "\n",
    "fit_second_line = True\n",
    "\n",
    "hood = xyz[indices[i]]\n",
    "if hood.shape[0] < minimum_in_hood:   \n",
    "    raise ValueError(\"Not enough points in neighborhood\") \n",
    "print(f\"Seed point {i} has {hood.shape[0]} points in its neighborhood\")\n",
    "\n",
    "# Linearity der Nachbarschaft \n",
    "eigenvals, eigenvecs = pca(hood)\n",
    "print(\"Linearity:\", linearity(eigenvals))\n",
    "print(\"Eigenvals\", eigenvals)\n",
    "\n",
    "# RANSAC in 2D ohne z-Werte\n",
    "hood_2d = hood[:, :2]\n",
    "\n",
    "# Erste RANSAC-Linie\n",
    "model1, inliers1 = fit_line_ransac(hood_2d, threshold)\n",
    "\n",
    "\n",
    "if fit_second_line and model1 is not None:\n",
    "    # ggf. zweite RANSAC-Linie in die outlier der ersten Linie fitten\n",
    "    print(\"Model 1\", model1, \"Inliers\", inliers1.sum())\n",
    "    rest = hood_2d[~inliers1]\n",
    "    model2, inliers2 = fit_line_ransac(rest, threshold)\n",
    "else:\n",
    "    model2 = None\n",
    "\n",
    "\n",
    "# Visualisierung\n",
    "\n",
    "colors = np.ones((hood.shape[0], 3), dtype=np.float64) \n",
    "colors = colors * 0.5 # Gray\n",
    "\n",
    "if model1 is not None:\n",
    "    colors[inliers1] = [1, 0, 0]  # Red\n",
    "else:\n",
    "    print(\"No model\")\n",
    "if model2 is not None:\n",
    "    print(\"Model 2\", model2, \"Inliers\", inliers2.sum())\n",
    "    # Inliers2 has the shape of the remains of RANSAC pass 1\n",
    "    # Map it back to the original indices\n",
    "\n",
    "    inliers2_full = np.zeros(hood.shape[0], dtype=bool)\n",
    "    inliers2_full[~inliers1] = inliers2\n",
    "    colors[inliers2_full] = [0, 1, 0]  # Green\n",
    "\n",
    "\n",
    "hood_pcd = o3d.geometry.PointCloud()\n",
    "hood_pcd.points = o3d.utility.Vector3dVector(hood)\n",
    "hood_pcd.colors = o3d.utility.Vector3dVector(colors)\n",
    "o3d.visualization.draw_geometries([hood_pcd])\n"
   ]
  },
  {
   "cell_type": "code",
   "execution_count": null,
   "metadata": {},
   "outputs": [],
   "source": []
  }
 ],
 "metadata": {
  "kernelspec": {
   "display_name": "points",
   "language": "python",
   "name": "points"
  },
  "language_info": {
   "codemirror_mode": {
    "name": "ipython",
    "version": 3
   },
   "file_extension": ".py",
   "mimetype": "text/x-python",
   "name": "python",
   "nbconvert_exporter": "python",
   "pygments_lexer": "ipython3",
   "version": "3.9.21"
  }
 },
 "nbformat": 4,
 "nbformat_minor": 2
}
