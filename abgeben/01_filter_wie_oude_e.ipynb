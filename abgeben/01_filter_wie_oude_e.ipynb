{
 "cells": [
  {
   "cell_type": "markdown",
   "metadata": {},
   "source": [
    "# Voxelfilter (Version 1, für Abbildungen verwendet)\n",
    "Voxelfilter nach Oude Elberink et al. 2013 (und auch Oude Elberink und Khoshelham 2015; Kononen et al. 2024). Hier noch die erste, nicht optimierte Version (s. Abschn. 5.4.6), die aber für die Erzeugung der Abbildungen verwendet wurde. Die Parameter können angepasst werden, um die Auswirkungen bei einzelnen Dateien zu prüfen.\n",
    "\n",
    "Die Visualisierung des Ergebnisses (mit Open3D) öffnet sich in einem seperaten Fenster. Farben: \n",
    "- rot: Kandidaten für Schienenpunkte, geringe Intensität\n",
    "- orange: Kandidaten für Schienenpunkte, hohe Intensität\n",
    "- grün: unterer Bereich in Voxeln mit Schienenkandidaten\n",
    "- blau: Voxel ohne Schienenkandidaten\n",
    "- hellgrau: fehlender freier Lichtraum\n",
    "- dunkelgrau: Oberleitung\n",
    "- schwarz: Voxel mit zu geringer Anzahl an Punkten"
   ]
  },
  {
   "cell_type": "code",
   "execution_count": 1,
   "metadata": {},
   "outputs": [
    {
     "name": "stdout",
     "output_type": "stream",
     "text": [
      "Jupyter environment detected. Enabling Open3D WebVisualizer.\n",
      "[Open3D INFO] WebRTC GUI backend enabled.\n",
      "[Open3D INFO] WebRTCWindowSystem: HTTP handshake server disabled.\n"
     ]
    }
   ],
   "source": [
    "import pdal \n",
    "import numpy as np\n",
    "import matplotlib.pyplot as plt\n",
    "import open3d as o3d\n",
    "import os\n",
    "import json\n",
    "from collections import defaultdict\n",
    "\n",
    "from interessant import * # Bei Änderungen Kernel neu starten"
   ]
  },
  {
   "cell_type": "markdown",
   "metadata": {},
   "source": [
    "Eine interessante Punktwolke kann aus dem Dictionary `interessant` gewählt werden:"
   ]
  },
  {
   "cell_type": "code",
   "execution_count": 2,
   "metadata": {},
   "outputs": [
    {
     "name": "stdout",
     "output_type": "stream",
     "text": [
      "['Einfach', 'Diagonal', 'Weiche', 'Ende', 'Bahnübergang', 'Bahnübergang 2', 'Zug run 14 A', 'Zug run 14 B', 'Zug run 24 A', 'Zug run 24 B', 'Gebäude', 'Gleis hohe Intensität', 'Gleis hohe Intensität 2', 'Feldweg', 'Feld', 'Weiche A', 'Weiche B', 'Zaun', 'Straße', 'Kante in Graben', 'Unterirdischer Bhf', 'Fangschiene Tunnel', 'Fangschiene Tunnel 2', 'Gleis weit abseits', 'Komische Linie', 'Kabeltöpfe', 'Güterzug', 'Güterzug Ende', 'Betondeckel', 'Bahnsteig', 'Bahnsteig Ende', 'Ding neben Gleis', 'Wände', 'Viele Gleise', 'Anfang Weiche', 'OLA gleiche Höhe wie Gleis', '4 Gleise', 'Y', 'Weiche C', 'Weiche D', 'Für template', 'Rand', 'Extrem viele Punkte run24', 'Viele Gleise 2', 'Kreuzung linker Teil', 'Kreuzung rechter Teil', 'Weiche abseits', 'Drei', 'Gestrüpp', 'Weiche Rumgeeier', 'Nicht befahren 1', 'Nicht befahren 2', 'Nicht befahren 3']\n",
      "53 Punktwolken in interessant\n"
     ]
    }
   ],
   "source": [
    "keys = list(interessant.keys())\n",
    "print(keys) \n",
    "print(len(keys), \"Punktwolken in interessant\")"
   ]
  },
  {
   "cell_type": "code",
   "execution_count": 3,
   "metadata": {},
   "outputs": [
    {
     "name": "stdout",
     "output_type": "stream",
     "text": [
      "Einfach 4473900_5335875.copc.laz\n"
     ]
    }
   ],
   "source": [
    "# Messlauf wählen\n",
    "run = run24\n",
    "# run = run14\n",
    "\n",
    "# Dateiname wählen\n",
    "key = keys[0] \n",
    "filename = interessant[key] # Oder filename = interessant[\"Einfach\"]\n",
    "print(key, filename)\n",
    "\n",
    "filename = os.path.join(run, filename)\n",
    "if not os.path.exists(filename):\n",
    "    raise FileNotFoundError(filename)"
   ]
  },
  {
   "cell_type": "markdown",
   "metadata": {},
   "source": [
    "Datei öffnen, Klassifizierung auf 0 setzen"
   ]
  },
  {
   "cell_type": "code",
   "execution_count": 5,
   "metadata": {},
   "outputs": [],
   "source": [
    "pipeline = pdal.Pipeline([pdal.Reader(filename)])\n",
    "pipeline.execute()\n",
    "points = pipeline.arrays[0]\n",
    "\n",
    "points['Classification'] = 0 # 0 bedeutet Unclassified"
   ]
  },
  {
   "cell_type": "code",
   "execution_count": 6,
   "metadata": {},
   "outputs": [],
   "source": [
    "xyz = np.vstack((points['X'], points['Y'], points['Z'])).transpose()\n",
    "rgb = np.vstack((points['Red'], points['Green'], points['Blue'])).transpose() / 65535.0\n",
    "\n",
    "# Offset entfernen (aber gerundet, damit Kachelgrenzen ganze Zahlen bleiben)\n",
    "offset = xyz.mean(axis=0).round() \n",
    "xyz -= offset"
   ]
  },
  {
   "cell_type": "markdown",
   "metadata": {},
   "source": [
    "## Parameter für Voxelfilter"
   ]
  },
  {
   "cell_type": "code",
   "execution_count": 4,
   "metadata": {},
   "outputs": [
    {
     "name": "stdout",
     "output_type": "stream",
     "text": [
      "Voxel size: 0.8333333333333334\n"
     ]
    }
   ],
   "source": [
    "thresh = 30  # Anzahl der Punkte, die im Lichtraum erlaubt sind\n",
    "majority_tresh  = 0.7 # Ignoriere Voxel, wenn Anteil der \"Kandidatenpunkte\" größer ist\n",
    "ground_percentile = 10 # Bodenniveau (noise / low points können darunter liegen)\n",
    "\n",
    "voxel_size = 25 / 30 # 1.0 bei Oude E.\n",
    "print(\"Voxel size:\", voxel_size)\n",
    "\n",
    "minimum_points = 50 # Mindestanzahl der Punkte pro Voxel\n",
    "height_tresh = 0.5 # Maximale Höhe über Boden, wo sich die Schiene befinden kann\n",
    "\n",
    "with_normals = False # Visualisierung mit Schatten in Open3D"
   ]
  },
  {
   "cell_type": "markdown",
   "metadata": {},
   "source": [
    "## Für Visualisierung mit Open3D"
   ]
  },
  {
   "cell_type": "code",
   "execution_count": 7,
   "metadata": {},
   "outputs": [],
   "source": [
    "pcd = o3d.geometry.PointCloud()\n",
    "pcd.points = o3d.utility.Vector3dVector(xyz)"
   ]
  },
  {
   "cell_type": "markdown",
   "metadata": {},
   "source": [
    "Settings (Kameraposition etc.) für die Visualisierung"
   ]
  },
  {
   "cell_type": "code",
   "execution_count": 8,
   "metadata": {},
   "outputs": [],
   "source": [
    "# Viewsettings können im Open3D-Fenster mit strg + c kopiert und hier einfügt werden\n",
    "\n",
    "viewsettings = '''\n",
    "{\n",
    "\t\"class_name\" : \"ViewTrajectory\",\n",
    "\t\"interval\" : 29,\n",
    "\t\"is_loop\" : false,\n",
    "\t\"trajectory\" : \n",
    "\t[\n",
    "\t\t{\n",
    "\t\t\t\"boundingbox_max\" : [ 11.999975427985191, 11.99998692702502, 13.124079998226534 ],\n",
    "\t\t\t\"boundingbox_min\" : [ -13.000024572014809, -13.00001307297498, -3.9965200017734333 ],\n",
    "\t\t\t\"field_of_view\" : 60.0,\n",
    "\t\t\t\"front\" : [ -0.20468464372193082, -0.82045900926496551, 0.53380821531742795 ],\n",
    "\t\t\t\"lookat\" : [ -2.1145501200370735, -2.6052610037108783, 1.4494799802055294 ],\n",
    "\t\t\t\"up\" : [ 0.19010212482081987, 0.50164960558000959, 0.84392467398461002 ],\n",
    "\t\t\t\"zoom\" : 0.55999999999999983\n",
    "\t\t}\n",
    "\t],\n",
    "\t\"version_major\" : 1,\n",
    "\t\"version_minor\" : 0\n",
    "}\n",
    "\n",
    "'''\n",
    "\n",
    "viewsettings = json.loads(viewsettings)\n",
    "\n",
    "front = viewsettings[\"trajectory\"][0][\"front\"]\n",
    "lookat = viewsettings[\"trajectory\"][0][\"lookat\"]\n",
    "up = viewsettings[\"trajectory\"][0][\"up\"]\n",
    "zoom = viewsettings[\"trajectory\"][0][\"zoom\"]"
   ]
  },
  {
   "cell_type": "markdown",
   "metadata": {},
   "source": [
    "Für Visualisierung verwendete Klassifizierungscodes und Farben"
   ]
  },
  {
   "cell_type": "code",
   "execution_count": 9,
   "metadata": {},
   "outputs": [],
   "source": [
    "my_classes = {\n",
    "    \"Unclassified\": 0,\n",
    "    \"High Points\": 13,   \n",
    "    \"No clearance\": 14,\n",
    "    \"Missing Rail\": 15,\n",
    "    \"Low Points\": 16,\n",
    "    \"Rail\": 20,\n",
    "}\n",
    "\n",
    "color_map = {\n",
    "    13: [0.3, 0.3, 0.3],\n",
    "    14: [0.5, 0.5, 0.5], \n",
    "    15: [0, 0, 1],\n",
    "    16: [0, 1, 0],\n",
    "    20: [1, 0, 0],\n",
    "}"
   ]
  },
  {
   "cell_type": "markdown",
   "metadata": {},
   "source": [
    "## Optionale Visualisierung der Punktwolke nach RGB oder Intensity"
   ]
  },
  {
   "cell_type": "markdown",
   "metadata": {},
   "source": [
    "Mit dem folgenden Codeblock kann die Punktwolke nach RGB oder Intensität visualisiert werden, dazu in entsprechenden Zeilen `#` entfernen"
   ]
  },
  {
   "cell_type": "code",
   "execution_count": 10,
   "metadata": {},
   "outputs": [],
   "source": [
    "intensity = points['Intensity'] \n",
    "intensity_normalized = (intensity - intensity.min()) / (intensity.max() - intensity.min())\n",
    "colormap = plt.get_cmap(\"viridis\")\n",
    "intensity_colors = colormap(intensity_normalized)\n",
    "intensity_colors = intensity_colors[:, :3]\n",
    "\n",
    "\n",
    "\n",
    "pcd.colors = o3d.utility.Vector3dVector(intensity_colors)\n",
    "# pcd.colors = o3d.utility.Vector3dVector(rgb)\n",
    "\n",
    "# o3d.visualization.draw_geometries([pcd], front=front, lookat=lookat, up=up, zoom=zoom) # Visualisierung"
   ]
  },
  {
   "cell_type": "markdown",
   "metadata": {},
   "source": [
    "## Voxel erzeugen \n",
    "Diese Implementierung verwendet Defaultdict, um zu jedem Voxel die dazugehörigen Punkte zu speichern. Die optimierte Version ist ca. 10 % schneller und speichert umgekehrt zu jedem Punkt das dazugehörige Voxel. Die Erzeugung der Visualisierung wurde jedoch nicht auf die optimimerte Implementierung übertragen."
   ]
  },
  {
   "cell_type": "code",
   "execution_count": 11,
   "metadata": {},
   "outputs": [
    {
     "data": {
      "text/plain": [
       "(array([11.99997543, 11.99998693, 13.12408   ]),\n",
       " array([-13.00002457, -13.00001307,  -3.99652   ]))"
      ]
     },
     "execution_count": 11,
     "metadata": {},
     "output_type": "execute_result"
    }
   ],
   "source": [
    "maxp = xyz.max(axis=0)\n",
    "minp = xyz.min(axis=0)\n",
    "maxp, minp"
   ]
  },
  {
   "cell_type": "code",
   "execution_count": 12,
   "metadata": {},
   "outputs": [],
   "source": [
    "voxels = xyz.copy()\n",
    "voxels[:, :2] = ((xyz[:, :2] - minp[:2]) // voxel_size).astype(int)"
   ]
  },
  {
   "cell_type": "code",
   "execution_count": 13,
   "metadata": {},
   "outputs": [
    {
     "data": {
      "text/plain": [
       "array([30, 30])"
      ]
     },
     "execution_count": 13,
     "metadata": {},
     "output_type": "execute_result"
    }
   ],
   "source": [
    "# Anzahl der Voxel prüfen\n",
    "np.ceil((maxp[:2] - minp[:2]) / voxel_size).astype(int)"
   ]
  },
  {
   "cell_type": "code",
   "execution_count": 14,
   "metadata": {},
   "outputs": [],
   "source": [
    "voxel_dict = defaultdict(list) # Sammelt z-Werte der Punkte in jedem Voxel\n",
    "index_dict = defaultdict(list) # Sammelt Indizes der Punkte in jedem Voxel, um später die Klassifizierung zu setzen\n",
    "\n",
    "# Füllen der Dictionaries\n",
    "for idx, (point, voxel) in enumerate(zip(xyz, voxels)):\n",
    "    voxel_key = tuple(voxel[:2])\n",
    "    voxel_dict[voxel_key].append(point[2])\n",
    "    index_dict[voxel_key].append(idx)"
   ]
  },
  {
   "cell_type": "markdown",
   "metadata": {},
   "source": [
    "## Geometrische Regeln prüfen\n",
    "Setzt auch die Klassifizierungscodes, nach denen die Farben in der Visualisierung gewählt werden"
   ]
  },
  {
   "cell_type": "code",
   "execution_count": 15,
   "metadata": {},
   "outputs": [],
   "source": [
    "\n",
    "for key, z_values in voxel_dict.items():\n",
    "    \n",
    "    # Schwellenwert Anzahl der Punkte\n",
    "    if len(z_values) < minimum_points:\n",
    "        continue\n",
    "\n",
    "    indices = np.array(index_dict[key])\n",
    "    z_values = np.array(z_values)\n",
    "    ground_level = np.percentile(z_values, ground_percentile) # 10. Perzentile in Oude E.\n",
    "\n",
    "    # Freien Lichtraum prüfen\n",
    "    count = ((z_values > ground_level + 0.5) & (z_values < ground_level + 4.5)).sum()\n",
    "    if count <= thresh:\n",
    "        # Punkte max. 0.5 m über Boden, davon 99.5. Quantil für Schienenoberkante \n",
    "        mask = (z_values > ground_level) & (z_values < ground_level + height_tresh)\n",
    "        try:\n",
    "            candidates_top = np.percentile(z_values[mask], 99.5) \n",
    "        except IndexError:\n",
    "            # Keine Punkte innerhalb des Intervalls\n",
    "            points['Classification'][indices] = my_classes[\"Missing Rail\"]\n",
    "            continue\n",
    "\n",
    "        # Oude Elberink fordern Höhendifferenz > 0.1 m\n",
    "        # Und markieren nur Punkte 10 cm unterhalb Schienenoberkante als Kandidaten\n",
    "        # Hier werden 5 mm darüber ebenfalls berücksichtigt\n",
    "        if candidates_top - ground_level > 0.1:\n",
    "            mask = (z_values > candidates_top - 0.1) & (z_values < candidates_top + 0.005)\n",
    "\n",
    "            # Anteil der potentiellen Kandidaten unter allen Punkten des Voxels prüfen\n",
    "            if mask.sum() < majority_tresh * len(z_values):  \n",
    "                points['Classification'][indices[mask]] = my_classes[\"Rail\"]\n",
    "                points['Classification'][indices[~mask]] = my_classes[\"Low Points\"]\n",
    "            else:\n",
    "                # Wenn Kandidaten-Anteil größer als Schwellenwert handelt es sich um Hang\n",
    "                points['Classification'][indices] = my_classes[\"Missing Rail\"]     \n",
    "        else:\n",
    "            # Keine Punkte über dem Boden\n",
    "            points['Classification'][indices] = my_classes[\"Missing Rail\"]\n",
    "\n",
    "        # Oberleitung\n",
    "        mask = (z_values >= ground_level + 4.5)\n",
    "        points['Classification'][indices[mask]] = my_classes[\"High Points\"]\n",
    "\n",
    "\n",
    "    else:\n",
    "        # Kein freier Lichtraum\n",
    "        points['Classification'][indices] = my_classes[\"No clearance\"]\n"
   ]
  },
  {
   "cell_type": "markdown",
   "metadata": {},
   "source": [
    "## Visualisierung"
   ]
  },
  {
   "cell_type": "code",
   "execution_count": 16,
   "metadata": {},
   "outputs": [],
   "source": [
    "class_colors = np.zeros_like(rgb)\n",
    "for class_value, color in color_map.items():\n",
    "    class_colors[points['Classification'] == class_value] = color"
   ]
  },
  {
   "cell_type": "code",
   "execution_count": 17,
   "metadata": {},
   "outputs": [],
   "source": [
    "# Schwellenwert für Intensität\n",
    "intensity_threshold = 14500\n",
    "\n",
    "mask = (points[\"Classification\"] == my_classes[\"Rail\"]) & (points[\"Intensity\"] > intensity_threshold)\n",
    "class_colors[mask] = [0.9, 0.5, 0]"
   ]
  },
  {
   "cell_type": "code",
   "execution_count": 18,
   "metadata": {},
   "outputs": [],
   "source": [
    "# Ggf. normals für Visualisierung\n",
    "if with_normals:\n",
    "    nn_distance = np.mean(pcd.compute_nearest_neighbor_distance())  \n",
    "    print(nn_distance)  \n",
    "    radius_normals=nn_distance*10 \n",
    "    pcd.estimate_normals(search_param=o3d.geometry.KDTreeSearchParamHybrid(radius=radius_normals, max_nn=50), fast_normal_computation=True) "
   ]
  },
  {
   "cell_type": "code",
   "execution_count": 19,
   "metadata": {},
   "outputs": [],
   "source": [
    "pcd.colors = o3d.utility.Vector3dVector(class_colors)\n",
    "o3d.visualization.draw_geometries([pcd], front=front, lookat=lookat, up=up, zoom=zoom)"
   ]
  },
  {
   "cell_type": "markdown",
   "metadata": {},
   "source": [
    "Ggf. die klassifizierte Punktwolke als LAZ-Datei schreiben"
   ]
  },
  {
   "cell_type": "code",
   "execution_count": 20,
   "metadata": {},
   "outputs": [],
   "source": [
    "# out_pipeline = pdal.Writer(\"test.laz\").pipeline(points)\n",
    "# out_pipeline.execute()"
   ]
  },
  {
   "cell_type": "code",
   "execution_count": null,
   "metadata": {},
   "outputs": [],
   "source": []
  }
 ],
 "metadata": {
  "kernelspec": {
   "display_name": "points",
   "language": "python",
   "name": "points"
  },
  "language_info": {
   "codemirror_mode": {
    "name": "ipython",
    "version": 3
   },
   "file_extension": ".py",
   "mimetype": "text/x-python",
   "name": "python",
   "nbconvert_exporter": "python",
   "pygments_lexer": "ipython3",
   "version": "3.9.21"
  }
 },
 "nbformat": 4,
 "nbformat_minor": 2
}
