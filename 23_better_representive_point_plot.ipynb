{
 "cells": [
  {
   "cell_type": "markdown",
   "metadata": {},
   "source": [
    "# Better Representive Point - Plot"
   ]
  },
  {
   "cell_type": "code",
   "execution_count": 75,
   "metadata": {},
   "outputs": [],
   "source": [
    "import pdal \n",
    "import numpy as np\n",
    "import matplotlib.pyplot as plt\n",
    "from scipy.spatial import KDTree\n",
    "from scipy.linalg import svd \n",
    "from osgeo import ogr\n",
    "import pyvista as pv\n",
    "import os\n",
    "import json\n",
    "import time \n",
    "import matplotlib.pyplot as plt\n",
    "import uuid\n",
    "\n",
    "import open3d as o3d\n",
    "from interessant import * # Bei Änderungen Kernel neu starten\n",
    "\n",
    "ogr.UseExceptions()"
   ]
  },
  {
   "cell_type": "code",
   "execution_count": 4,
   "metadata": {},
   "outputs": [
    {
     "name": "stdout",
     "output_type": "stream",
     "text": [
      "Weiche B 4479025_5352925.ply\n"
     ]
    }
   ],
   "source": [
    "tmpdir = \"/media/riannek/minimax/gleis/temp_fertig\"\n",
    "\n",
    "# Bahnsteig: 29; Gleis hohe Intensität: 11; Weiche B: 16; Unterirdischer Bhf: 20; Gleis weit abseits: 23; Betondeckel: 28; Zug run 14 A: 6; \n",
    "# Viele Gleise: 33; Anfang Weiche: 34; OLA gleiche H: 35; Y: 37; Auch viele Gleise: 43; Kreuzung: 44, 45;\n",
    "\n",
    "key = list(interessant.keys())[16] \n",
    "\n",
    "filename = interessant[key]\n",
    "filename = filename.split(\".\")[0] + \".ply\"\n",
    "print(key, filename)\n",
    "\n",
    "\n",
    "if not os.path.exists(os.path.join(tmpdir, filename)):\n",
    "    raise FileNotFoundError(filename)"
   ]
  },
  {
   "cell_type": "code",
   "execution_count": 5,
   "metadata": {},
   "outputs": [],
   "source": [
    "thresh_side_distance = 0.15   # 0.1 ist meist gut, aber in manchen Fällen zu wenig (z.B. Anfang Weiche)\n",
    "\n",
    "intensity_threshold = 14500\n",
    "downsample_radius = 0.45 # 0.4\n",
    "neighborhood_radius = 0.5 # 0.5\n",
    "\n",
    "min_points = 10\n",
    "minimum_in_hood = 10\n",
    "linearity_tresh = 0.98\n",
    "\n",
    "gauge = 1.435\n",
    "railhead_width = 0.067"
   ]
  },
  {
   "cell_type": "code",
   "execution_count": 6,
   "metadata": {},
   "outputs": [],
   "source": [
    "runfolder = \"/media/riannek/minimax/gleis/run24-2024-08-13\"\n",
    "\n",
    "import subprocess\n",
    "#subprocess.Popen([\"pyvistaviewer\", os.path.join(runfolder, filename.split(\".\")[0] + \".copc.laz\")])"
   ]
  },
  {
   "cell_type": "markdown",
   "metadata": {},
   "source": [
    "## Datei incl. margin aus Nachbarkacheln"
   ]
  },
  {
   "cell_type": "code",
   "execution_count": 7,
   "metadata": {},
   "outputs": [],
   "source": [
    "gpkg = ogr.Open(os.path.join(tmpdir, \"temp.gpkg\"))\n",
    "layer = gpkg.GetLayerByName(\"tiles\")"
   ]
  },
  {
   "cell_type": "code",
   "execution_count": 8,
   "metadata": {},
   "outputs": [],
   "source": [
    "def extend_bbox(bbox, margin=2):\n",
    "    # MinX, MaxX, MinY, MaxY\n",
    "    return (bbox[0] - margin, bbox[1] + margin, bbox[2] - margin, bbox[3] + margin)\n",
    "\n",
    "def get_bbox_polygon(bbox):  \n",
    "    ring = ogr.Geometry(ogr.wkbLinearRing)      \n",
    "    ring.AddPoint_2D(bbox[0], bbox[2])  # MinX, MinY\n",
    "    ring.AddPoint_2D(bbox[1], bbox[2])  # MaxX, MinY\n",
    "    ring.AddPoint_2D(bbox[1], bbox[3])  # MaxX, MaxY\n",
    "    ring.AddPoint_2D(bbox[0], bbox[3])  # MinX, MaxY\n",
    "    ring.AddPoint_2D(bbox[0], bbox[2])  # Close ring\n",
    "    geom = ogr.Geometry(ogr.wkbPolygon)\n",
    "    geom.AddGeometry(ring)\n",
    "    return geom"
   ]
  },
  {
   "cell_type": "code",
   "execution_count": 9,
   "metadata": {},
   "outputs": [
    {
     "name": "stdout",
     "output_type": "stream",
     "text": [
      "['4479025_5352925.ply', '4479050_5352950.ply', '4479050_5352925.ply', '4479025_5352950.ply', '4479050_5352900.ply', '4479025_5352900.ply', '4479000_5352950.ply', '4479000_5352900.ply']\n"
     ]
    }
   ],
   "source": [
    "filter = f\"filename = '{filename}'\"\n",
    "layer.SetAttributeFilter(filter)\n",
    "feature = layer.GetNextFeature()\n",
    "layer.SetAttributeFilter(None)\n",
    "bbox = feature.GetGeometryRef().GetEnvelope()\n",
    "extended = extend_bbox(bbox, margin=2)\n",
    "bbox_geom = get_bbox_polygon(extended)\n",
    "layer.SetSpatialFilter(bbox_geom)\n",
    "tiles = [f.GetField(\"filename\") for f in layer]\n",
    "layer.SetSpatialFilter(None) \n",
    "\n",
    "print(tiles) "
   ]
  },
  {
   "cell_type": "code",
   "execution_count": 10,
   "metadata": {},
   "outputs": [
    {
     "data": {
      "text/plain": [
       "(4479025.0, 4479050.0, 5352925.0, 5352950.0)"
      ]
     },
     "execution_count": 10,
     "metadata": {},
     "output_type": "execute_result"
    }
   ],
   "source": [
    "bbox # MinX, MaxX, MinY, MaxY"
   ]
  },
  {
   "cell_type": "code",
   "execution_count": 11,
   "metadata": {},
   "outputs": [],
   "source": [
    "del gpkg"
   ]
  },
  {
   "cell_type": "code",
   "execution_count": 12,
   "metadata": {},
   "outputs": [
    {
     "data": {
      "text/plain": [
       "'([4479023.0, 4479052.0], [5352923.0, 5352952.0])'"
      ]
     },
     "execution_count": 12,
     "metadata": {},
     "output_type": "execute_result"
    }
   ],
   "source": [
    "bounds = f\"([{extended[0]}, {extended[1]}], [{extended[2]}, {extended[3]}])\" \n",
    "bounds"
   ]
  },
  {
   "cell_type": "code",
   "execution_count": 13,
   "metadata": {},
   "outputs": [
    {
     "data": {
      "text/plain": [
       "(105168,)"
      ]
     },
     "execution_count": 13,
     "metadata": {},
     "output_type": "execute_result"
    }
   ],
   "source": [
    "readers = [pdal.Reader(os.path.join(tmpdir, tile)) for tile in tiles]\n",
    "pipeline = pdal.Pipeline(readers) | pdal.Filter.merge() | pdal.Filter.crop(bounds=bounds)\n",
    "pipeline.execute()\n",
    "points = pipeline.arrays[0]\n",
    "points.shape "
   ]
  },
  {
   "cell_type": "markdown",
   "metadata": {},
   "source": [
    "## Seed Points"
   ]
  },
  {
   "cell_type": "code",
   "execution_count": 14,
   "metadata": {},
   "outputs": [
    {
     "data": {
      "text/plain": [
       "(75044,)"
      ]
     },
     "execution_count": 14,
     "metadata": {},
     "output_type": "execute_result"
    }
   ],
   "source": [
    "low_intensity = points[points[\"Intensity\"] < intensity_threshold]\n",
    "low_intensity.shape"
   ]
  },
  {
   "cell_type": "code",
   "execution_count": 15,
   "metadata": {},
   "outputs": [
    {
     "data": {
      "text/plain": [
       "'([4479025.0, 4479050.0], [5352925.0, 5352950.0])'"
      ]
     },
     "execution_count": 15,
     "metadata": {},
     "output_type": "execute_result"
    }
   ],
   "source": [
    "bounds = f\"([{bbox[0]}, {bbox[1]}], [{bbox[2]}, {bbox[3]}])\" \n",
    "bounds"
   ]
  },
  {
   "cell_type": "code",
   "execution_count": 16,
   "metadata": {},
   "outputs": [
    {
     "data": {
      "text/plain": [
       "284"
      ]
     },
     "execution_count": 16,
     "metadata": {},
     "output_type": "execute_result"
    }
   ],
   "source": [
    "# Downsample with poisson sampling (only original bbox)\n",
    "\n",
    "downsampling_pipeline = pdal.Filter.crop(bounds=bounds).pipeline(low_intensity) | pdal.Filter(\"filters.sample\", radius=downsample_radius)\n",
    "downsampling_pipeline.execute()\n",
    "seed_points = downsampling_pipeline.arrays[0]\n",
    "seed_point_count = seed_points.shape[0]\n",
    "seed_point_count"
   ]
  },
  {
   "cell_type": "markdown",
   "metadata": {},
   "source": [
    "## KD Tree"
   ]
  },
  {
   "cell_type": "code",
   "execution_count": 17,
   "metadata": {},
   "outputs": [],
   "source": [
    "xyz = np.vstack((points['X'], points['Y'], points['Z'])).transpose()\n",
    "xyz_seed = np.vstack((seed_points['X'], seed_points['Y'], seed_points['Z'])).transpose()"
   ]
  },
  {
   "cell_type": "code",
   "execution_count": 18,
   "metadata": {},
   "outputs": [],
   "source": [
    "offset = xyz.mean(axis=0).round() \n",
    "xyz -= offset\n",
    "xyz_seed -= offset"
   ]
  },
  {
   "cell_type": "code",
   "execution_count": 19,
   "metadata": {},
   "outputs": [],
   "source": [
    "tree = KDTree(xyz)  \n",
    "\n",
    "# indices: ndarray (dtype object) with a list of indices for each seed point\n",
    "indices = tree.query_ball_point(xyz_seed, r=neighborhood_radius, workers=-1)"
   ]
  },
  {
   "cell_type": "markdown",
   "metadata": {},
   "source": [
    "## Funktionen"
   ]
  },
  {
   "cell_type": "code",
   "execution_count": 20,
   "metadata": {},
   "outputs": [],
   "source": [
    "def pca(cloud):\n",
    "    \"\"\"Use PCA to get einvalues and eigenvectors of a point cloud\n",
    "    \n",
    "    Returns (eigenvalues, eigenvectors)\n",
    "    \"\"\"\n",
    "    if cloud.shape[0] < 3:\n",
    "        raise ValueError(\"Point cloud must have at least 3 points\")\n",
    "    mean = np.mean(cloud, axis=0)\n",
    "    centered = cloud - mean\n",
    "    U, S, Vt = svd(centered, full_matrices=False)\n",
    "    eigenvals = S**2/(cloud.shape[0]-1)\n",
    "    # Returned vectors are in columns, first vector is eigenvec[:, 0] == eigenvec.T[0]\n",
    "    return eigenvals, Vt.T\n",
    "\n",
    "def linearity(eigenvals):\n",
    "    \"\"\"Calculate the linearity of a point cloud\"\"\"\n",
    "    return (eigenvals[0] - eigenvals[1]) / eigenvals[0]\n",
    "\n",
    "def verticality(eigenvects):\n",
    "    \"\"\"Calculate the verticality of a point cloud\n",
    "    \n",
    "    1 minus z of the third eigenvector\n",
    "    \"\"\"\n",
    "    return 1 - eigenvects.T[2][2]"
   ]
  },
  {
   "cell_type": "code",
   "execution_count": 21,
   "metadata": {},
   "outputs": [],
   "source": [
    "def dbscan_stretchz(xyz, min_points=10, stretch=1.5):\n",
    "\n",
    "    pointcount = xyz.shape[0]\n",
    "    if pointcount <= min_points:\n",
    "        return np.ones(pointcount, dtype=np.int8) * -1\n",
    "    \n",
    "    eps = 50 / pointcount\n",
    "    eps = max(eps, 0.06)\n",
    "    \n",
    "    xyz = xyz.copy()\n",
    "    xyz[:, 2] *= stretch\n",
    "    hood_pcd = o3d.geometry.PointCloud()\n",
    "    hood_pcd.points = o3d.utility.Vector3dVector(xyz) \n",
    "    # eps is min distance between clusters\n",
    "    labels = np.array(hood_pcd.cluster_dbscan(eps=eps, min_points=min_points, print_progress=False))\n",
    "    return labels\n",
    "\n"
   ]
  },
  {
   "cell_type": "code",
   "execution_count": 22,
   "metadata": {},
   "outputs": [],
   "source": [
    "def plot_cluster_line(cluster, eigenvects, stretch=0.2):\n",
    "    start = cluster.mean(axis=0)\n",
    "    vector = eigenvects.T[0] * stretch\n",
    "    end = start + vector\n",
    "    line = pv.Line(start, end)\n",
    "\n",
    "    return line"
   ]
  },
  {
   "cell_type": "code",
   "execution_count": 23,
   "metadata": {},
   "outputs": [],
   "source": [
    "def plot_first_eigenvec(point, eigenvects, color=[1, 0, 0], stretch=1):\n",
    "    \"\"\"Plot a vector as a line\"\"\"\n",
    "    vector = eigenvects.T[0] * stretch\n",
    "    end = point + vector\n",
    "    line = o3d.geometry.LineSet()\n",
    "    line.points = o3d.utility.Vector3dVector([point, end])\n",
    "    line.lines = o3d.utility.Vector2iVector([[0, 1]])\n",
    "    line.colors = o3d.utility.Vector3dVector([color])\n",
    "    return line"
   ]
  },
  {
   "cell_type": "code",
   "execution_count": 24,
   "metadata": {},
   "outputs": [],
   "source": [
    "def get_central_point(a, b):\n",
    "    \"\"\"Get the point in the middle of two points\"\"\"\n",
    "    vector = b - a\n",
    "    return a + vector / 2"
   ]
  },
  {
   "cell_type": "code",
   "execution_count": 25,
   "metadata": {},
   "outputs": [],
   "source": [
    "def to_color(skalar, cmap=plt.cm.plasma):\n",
    "    return cmap(skalar)[:3]"
   ]
  },
  {
   "cell_type": "code",
   "execution_count": 26,
   "metadata": {},
   "outputs": [],
   "source": [
    "def cluster_is_on_top(cluster, clustercenter, points):\n",
    "    \"\"\"Check that there are no points above the cluster center\"\"\"\n",
    "    x_min, x_max = clustercenter[0] - 0.05, clustercenter[0] + 0.05\n",
    "    y_min, y_max = clustercenter[1] - 0.05, clustercenter[1] + 0.05\n",
    "    z_min = cluster[:,2].max()\n",
    "\n",
    "    mask = ((points[:, 0] > x_min) & \n",
    "        (points[:, 0] < x_max) & \n",
    "        (points[:, 1] > y_min) & \n",
    "        (points[:, 1] < y_max) & \n",
    "        (points[:, 2] > z_min))\n",
    "    \n",
    "    \n",
    "    return points[mask].shape[0] == 0"
   ]
  },
  {
   "cell_type": "code",
   "execution_count": 27,
   "metadata": {},
   "outputs": [],
   "source": [
    "def cluster_generator(points, min_points):\n",
    "    if points.shape[0] < min_points:\n",
    "        return\n",
    "    \n",
    "    labels = dbscan_stretchz(points, min_points=min_points, stretch=4)\n",
    "\n",
    "    # if len(labels) == 0:\n",
    "    #     return\n",
    "    \n",
    "    max_label = labels.max()\n",
    "    \n",
    "    for label in range(max_label + 1):\n",
    "        cluster = points[labels == label]\n",
    "        if cluster.shape[0] < min_points:\n",
    "            # Somehow this happens, must be a bug in open3d\n",
    "            continue\n",
    "\n",
    "        eigenvals, eigenvects = pca(cluster)\n",
    "        cluster_linearity = linearity(eigenvals)\n",
    "\n",
    "\n",
    "        if not ((cluster_linearity > linearity_tresh) and (eigenvals[0] > 0.04)):\n",
    "            # Cluster not linear or too short\n",
    "            continue\n",
    "\n",
    "        clustercenter = cluster.mean(axis=0)\n",
    "\n",
    "        # Make sure there are no points above the cluster\n",
    "        # (exclude clusters at the base of the track profile)\n",
    "        if not cluster_is_on_top(cluster, clustercenter, points):\n",
    "            continue\n",
    "        \n",
    "\n",
    "        yield cluster, clustercenter, eigenvals, eigenvects\n",
    "\n",
    "\n",
    "def check_cluster_for_railpair(clustercenter, eigenvects, pointcloud, tree, gauge, min_points):\n",
    "\n",
    "    # Check for rail pair\n",
    "    sidevector = np.cross(eigenvects[:,0], np.array([0, 0, 1])) * (gauge + 0.07) # Add railtop width to gauge\n",
    "    bothsides = np.array([clustercenter + sidevector, clustercenter - sidevector])\n",
    "\n",
    "    indices_bothsides = tree.query_ball_point(bothsides, r=neighborhood_radius)\n",
    "    \n",
    "    # Linear cluster that is closest to one of the estimated side points (ignoring z)\n",
    "    # but must me within r = 15 cm and almost parallel\n",
    "\n",
    "    closest_cluster_distance = np.inf\n",
    "    closest_cluster = None\n",
    "    closest_cluster_center = None\n",
    "    \n",
    "    for j, side in enumerate(indices_bothsides):\n",
    "        for sidecluster, sideclustercenter, _, eigenvects_side in cluster_generator(pointcloud[side], min_points):\n",
    "            \n",
    "            # Check distance\n",
    "            sidecluster_distance = np.linalg.norm(sideclustercenter[:2] - bothsides[j][:2]) # only xy\n",
    "            if sidecluster_distance < thresh_side_distance and sidecluster_distance < closest_cluster_distance:\n",
    "                # Check if parallel\n",
    "                cos_angle = np.abs(np.dot(eigenvects[:,0], eigenvects_side[:,0]))\n",
    "                if cos_angle > 0.9:  \n",
    "                    closest_cluster = sidecluster\n",
    "                    closest_cluster_distance = sidecluster_distance\n",
    "                    closest_cluster_center = sideclustercenter\n",
    "\n",
    "    return closest_cluster, closest_cluster_center"
   ]
  },
  {
   "cell_type": "code",
   "execution_count": 28,
   "metadata": {},
   "outputs": [],
   "source": [
    "def naive_representive_point(cluster, transformmatrix, percentile=95):\n",
    "    center = cluster.mean(axis=0)\n",
    "    centered = cluster - center\n",
    "    transformed = centered @ transformmatrix\n",
    "    transformed_clustercenter_xy = transformed[:,:2].mean(axis=0)\n",
    "    # transformed_max_z = transformed[:,2].max()\n",
    "    transformed_max_z = np.percentile(transformed[:,2],percentile)\n",
    "    transformed_representive = np.array([transformed_clustercenter_xy[0], transformed_clustercenter_xy[1], transformed_max_z])\n",
    "    return transformed_representive @ transformmatrix.T + center"
   ]
  },
  {
   "cell_type": "code",
   "execution_count": 29,
   "metadata": {},
   "outputs": [],
   "source": [
    "# def representive_point(cluster, transformmatrix, percentile=95, railhead_width=0.067):\n",
    "#     center = cluster.mean(axis=0)\n",
    "#     centered = cluster - center\n",
    "#     transformed = centered @ transformmatrix\n",
    "#     max_z = np.percentile(transformed[:,2],percentile)\n",
    "\n",
    "#     if max_z < 0.02:\n",
    "#         # This happens if most points are on the top of the rail\n",
    "#         # Calculate the mean of the range\n",
    "#         max_x = np.percentile(transformed[:,0],percentile)\n",
    "#         min_x = np.percentile(transformed[:,0],100-percentile)\n",
    "#         center_x = (max_x + min_x) / 2\n",
    "#     else:\n",
    "#         # Many points are on the side of the rail\n",
    "#         if is_left_side(transformed):\n",
    "#             min_x = np.percentile(transformed[:,0],100-percentile)\n",
    "#             center_x = min_x + railhead_width / 2\n",
    "#         else:\n",
    "#             max_x = np.percentile(transformed[:,0],percentile)\n",
    "#             center_x = max_x - railhead_width / 2 \n",
    "\n",
    "    \n",
    "#     transformed_representive = np.array([center_x, 0, max_z])\n",
    "#     return transformed_representive @ transformmatrix.T + center"
   ]
  },
  {
   "cell_type": "code",
   "execution_count": 30,
   "metadata": {},
   "outputs": [],
   "source": [
    "def is_left_side(cluster):\n",
    "    \"\"\"Check if the transformed cluster is on the left side of the track\"\"\"\n",
    "\n",
    "    # Count the points below the centroid, on the left and the right side \n",
    "    # but only within half the width of the railhead \n",
    "\n",
    "    left_mask = (cluster[:,2] < 0) & (cluster[:,0] < 0) & (cluster[:,0] > -railhead_width/2)\n",
    "    right_mask = (cluster[:,2] < 0) & (cluster[:,0] > 0) & (cluster[:,0] < railhead_width/2)\n",
    "    left_count = np.sum(left_mask)\n",
    "    right_count = np.sum(right_mask)\n",
    "    probab = np.abs(left_count - right_count) / (left_count + right_count)\n",
    "\n",
    "    return left_count < right_count "
   ]
  },
  {
   "cell_type": "code",
   "execution_count": 31,
   "metadata": {},
   "outputs": [],
   "source": [
    "def representive_point(cluster, transformmatrix, percentile=95, lowerpercentile=70, railhead_width=0.067):\n",
    "    \"\"\"Version 0 \n",
    "    \n",
    "    Vor allem Top: percentile x bei z>0\n",
    "    \n",
    "    \"\"\"\n",
    "\n",
    "\n",
    "    center = cluster.mean(axis=0)\n",
    "    centered = cluster - center\n",
    "    transformed = centered @ transformmatrix\n",
    "    max_z = np.percentile(transformed[:,2],percentile)\n",
    "\n",
    "    # x values of points above the centroid\n",
    "    # (there might be outliers in the lower part of the cluster)\n",
    "    transformed_x_upper = transformed[transformed[:,2] > 0][:,0]\n",
    "\n",
    "    if max_z < 0.02:\n",
    "        # This happens if most points are on the top of the rail\n",
    "        # Calculate the mean of the range (with percentile to handle outliers)\n",
    "        max_x = np.percentile(transformed_x_upper,percentile)\n",
    "        min_x = np.percentile(transformed_x_upper,100-percentile)\n",
    "        center_x = (max_x + min_x) / 2\n",
    "    else:\n",
    "        # Many points are on the side of the rail\n",
    "        # but check which side \n",
    "        if is_left_side(transformed):\n",
    "            # Only consider one quadrant in the transformed space\n",
    "            # This makes clusters with more or less points on the rail top more comparable\n",
    "            min_x = np.percentile(transformed_x_upper[transformed_x_upper < 0],100-lowerpercentile)\n",
    "            center_x = min_x + railhead_width / 2\n",
    "        else:\n",
    "            max_x = np.percentile(transformed_x_upper[transformed_x_upper > 0],lowerpercentile)\n",
    "            center_x = max_x - railhead_width / 2 \n",
    "\n",
    "    \n",
    "    transformed_representive = np.array([center_x, 0, max_z])\n",
    "    return transformed_representive @ transformmatrix.T + center\n",
    "\n"
   ]
  },
  {
   "cell_type": "code",
   "execution_count": 102,
   "metadata": {},
   "outputs": [],
   "source": [
    "def representive_point_1(cluster, transformmatrix, percentile=95, lowerpercentile=70, railhead_width=0.067):\n",
    "    \"\"\"Version 1\n",
    "\n",
    "    Unterschied bei \"Vor allem Top\": \n",
    "        min und max x bei z>0\n",
    "        lowerpercentile des oberen Teils für z\n",
    "    \"\"\"\n",
    "\n",
    "\n",
    "    center = cluster.mean(axis=0)\n",
    "    centered = cluster - center\n",
    "    transformed = centered @ transformmatrix\n",
    "    max_z = transformed[:,2].max()\n",
    "\n",
    "    # x values of points above the centroid\n",
    "    # (there might be outliers in the lower part of the cluster)\n",
    "    transformed_x_upper = transformed[transformed[:,2] > 0][:,0]\n",
    "\n",
    "    if max_z < 0.03:\n",
    "        # This happens if most points are on the top of the rail (usually max_z close to 0.02)\n",
    "        # Calculate the mean of the range for points above the centroid\n",
    "        center_x = (transformed_x_upper.max() + transformed_x_upper.min()) / 2\n",
    "        # only consider points above the centroid\n",
    "        center_z = max_z = np.percentile(transformed[:,2],percentile)\n",
    "    else:\n",
    "        # Many points are on the side of the rail (usually the max_z around 0.04)\n",
    "        # but check which side \n",
    "        if is_left_side(transformed):\n",
    "            # Only consider one quadrant in the transformed space\n",
    "            # This makes clusters with more or less points on the rail top more comparable\n",
    "            min_x = np.percentile(transformed_x_upper[transformed_x_upper < 0],100-lowerpercentile)\n",
    "            center_x = min_x + railhead_width / 2\n",
    "        else:\n",
    "            max_x = np.percentile(transformed_x_upper[transformed_x_upper > 0],lowerpercentile)\n",
    "            center_x = max_x - railhead_width / 2 \n",
    "        center_z = np.percentile(transformed[transformed[:,2] > 0][:,2], percentile)\n",
    "\n",
    "    \n",
    "    transformed_representive = np.array([center_x, 0, center_z])\n",
    "    return transformed_representive @ transformmatrix.T + center\n"
   ]
  },
  {
   "cell_type": "code",
   "execution_count": 33,
   "metadata": {},
   "outputs": [],
   "source": [
    "def representive_point_2(cluster, transformmatrix, percentile=95, lowerpercentile=70, railhead_width=0.067,z_thresh=-0.01):\n",
    "    \"\"\"Version 2\n",
    "\n",
    "    Unterschied bei \"Vor allem Top\": \n",
    "        min und max x bei z>-0.01\n",
    "        lowerpercentile des oberen Teils für z\n",
    "    \"\"\"\n",
    "\n",
    "\n",
    "    center = cluster.mean(axis=0)\n",
    "    centered = cluster - center\n",
    "    transformed = centered @ transformmatrix\n",
    "    max_z = transformed[:,2].max()\n",
    "\n",
    "\n",
    "    if max_z < 0.03:\n",
    "        # This happens if most points are on the top of the rail (usually max_z close to 0.02)\n",
    "        # Calculate the mean of the range for points above -0.01\n",
    "        # (this makes sure we get the approx. railhead width)\n",
    "        transformed_x_upper = transformed[transformed[:,2] > z_thresh][:,0]\n",
    "        center_x = (transformed_x_upper.max() + transformed_x_upper.min()) / 2\n",
    "        # only consider points above the centroid\n",
    "        center_z = np.percentile(transformed[transformed[:,2] > 0][:,2], lowerpercentile)\n",
    "    else:\n",
    "        # Many points are on the side of the rail (usually the max_z around 0.04)\n",
    "        # but we need check which side \n",
    "\n",
    "        # x values of points above the centroid\n",
    "        # (there might be outliers in the lower part of the cluster)\n",
    "        transformed_x_upper = transformed[transformed[:,2] > 0][:,0]\n",
    "\n",
    "        if is_left_side(transformed):\n",
    "            # Only consider one quadrant in the transformed space\n",
    "            # This makes clusters with more or less points on the rail top more comparable\n",
    "            min_x = np.percentile(transformed_x_upper[transformed_x_upper < 0],100-lowerpercentile)\n",
    "            center_x = min_x + railhead_width / 2\n",
    "        else:\n",
    "            max_x = np.percentile(transformed_x_upper[transformed_x_upper > 0],lowerpercentile)\n",
    "            center_x = max_x - railhead_width / 2 \n",
    "        center_z = np.percentile(transformed[transformed[:,2] > 0][:,2], percentile)\n",
    "\n",
    "    \n",
    "    transformed_representive = np.array([center_x, 0, center_z])\n",
    "    return transformed_representive @ transformmatrix.T + center"
   ]
  },
  {
   "cell_type": "code",
   "execution_count": 34,
   "metadata": {},
   "outputs": [],
   "source": [
    "def plot_cluster(cluster, eigenvects=None): \n",
    "    center = cluster.mean(axis=0)\n",
    "    centered = cluster - center\n",
    "\n",
    "    if eigenvects is None:\n",
    "        eigenvals, eigenvects = pca(cluster)\n",
    "\n",
    "    transformed = centered @ eigenvects\n",
    "    fig, ax = plt.subplots(figsize=(10, 15))\n",
    "    ax.scatter(transformed[:,0], transformed[:,2], c=transformed[:,1], cmap=plt.cm.plasma, marker=\".\")\n",
    "    ax.set_aspect(\"equal\")\n",
    "    plt.show()\n",
    "    return fig, ax\n",
    "    "
   ]
  },
  {
   "cell_type": "code",
   "execution_count": 35,
   "metadata": {},
   "outputs": [],
   "source": [
    "def plot_cluster_pair(cluster, cluster_other, transformmatrix, representive_a, representive_b, railhead_width = 0.067, percentile=95, annotate=True): \n",
    "    \"\"\"Plot pair of clusters in the PCA coordinate system of the pair \n",
    "    \n",
    "    Args:\n",
    "        cluster (np.array): Cluster of points\n",
    "        cluster_other (np.array): Other cluster of points\n",
    "        transformmatrix (np.array): Transformation matrix to local coordinate system\n",
    "        representive_a (np.array): Representive point of cluster a\n",
    "        representive_b (np.array): Representive point of cluster b\n",
    "        railhead_width (float): Width of the railhead (0.067 or 0.072)\n",
    "        centering (str): \"cluster\" or \"pair\"\n",
    "        annotate (bool): If True, add annotations to the plot\n",
    "    \"\"\"\n",
    "    center = (cluster.sum(axis=0) + cluster_other.sum(axis=0)) / (cluster.shape[0] + cluster_other.shape[0])\n",
    "    center_cluster = cluster.mean(axis=0)\n",
    "    center_other = cluster_other.mean(axis=0)\n",
    "\n",
    "\n",
    "    cluster = cluster - center_cluster\n",
    "    cluster_other = cluster_other - center_other\n",
    "\n",
    "\n",
    "    transformed = cluster @ transformmatrix\n",
    "    transformed_other = cluster_other @ transformmatrix\n",
    "    \n",
    "    representive_a = representive_a - center_cluster\n",
    "    representive_b = representive_b - center_other\n",
    "    representive_a = representive_a @ transformmatrix\n",
    "    representive_b = representive_b @ transformmatrix\n",
    "\n",
    "\n",
    "    # Check if we need to switch the left, right cluster\n",
    "    center_cluster_in_pc = (center_cluster - center) @ transformmatrix\n",
    "    center_other_in_pc = (center_other - center) @ transformmatrix\n",
    "    if center_cluster_in_pc[0] > center_other_in_pc[0]:\n",
    "        transformed, transformed_other = transformed_other, transformed\n",
    "        representive_a, representive_b = representive_b, representive_a\n",
    "        print(\"Switched clusters\")\n",
    "\n",
    "    fig, ax = plt.subplots(1,2, figsize=(15, 7))\n",
    "\n",
    "    ax[0].set_ylim(-0.08, 0.08)\n",
    "    ax[1].set_ylim(-0.08, 0.08)\n",
    "\n",
    "    ax[0].axvline(0, color=\"lightgrey\", linestyle=\"-\", zorder=-1)\n",
    "    ax[0].axhline(0, color=\"lightgrey\", linestyle=\"-\", zorder=-1)\n",
    "    ax[1].axvline(0, color=\"lightgrey\", linestyle=\"-\", zorder=-1)\n",
    "    ax[1].axhline(0, color=\"lightgrey\", linestyle=\"-\", zorder=-1)\n",
    "\n",
    "    ax[0].scatter(transformed[:,0], transformed[:,2], c=transformed[:,1], cmap=plt.cm.plasma, marker=\".\")\n",
    "    ax[0].set_aspect(\"equal\")\n",
    "\n",
    "\n",
    "    ax[0].axvline(representive_a[0], color=\"forestgreen\", linestyle=\"--\", zorder=-1)\n",
    "    ax[0].axvline(representive_a[0] - (railhead_width/2), color=\"lightgreen\", linestyle=\"--\", zorder=-1)\n",
    "    ax[0].axvline(representive_a[0] + (railhead_width/2), color=\"lightgreen\", linestyle=\"--\", zorder=-1)\n",
    "    ax[0].axhline(representive_a[2], color=\"forestgreen\", linestyle=\"--\", zorder=-1)\n",
    "\n",
    "    ax[1].scatter(transformed_other[:,0], transformed_other[:,2], c=transformed_other[:,1], cmap=plt.cm.plasma, marker=\".\")\n",
    "    ax[1].set_aspect(\"equal\")\n",
    "\n",
    "    ax[1].axvline(representive_b[0], color=\"forestgreen\", linestyle=\"--\", zorder=-1)\n",
    "    ax[1].axvline(representive_b[0] - (railhead_width/2), color=\"lightgreen\", linestyle=\"--\", zorder=-1)\n",
    "    ax[1].axvline(representive_b[0] + (railhead_width/2), color=\"lightgreen\", linestyle=\"--\", zorder=-1)\n",
    "    ax[1].axhline(representive_b[2], color=\"forestgreen\", linestyle=\"--\", zorder=-1)\n",
    "\n",
    "    if annotate:\n",
    "        zcenters = (representive_a[2], representive_b[2])\n",
    "        xcenters = (representive_a[0], representive_b[0])\n",
    "        for i in range(2):\n",
    "            ax[i].annotate('Clustercentroid', xy=(0, 0), xytext=(0.001, -0.02), \n",
    "                arrowprops=dict(arrowstyle=\"->\"), ha=\"left\", va=\"center\", fontsize=9, color=\"black\")\n",
    "            ypos = zcenters[i]\n",
    "            xmin, _ = ax[i].get_xlim()\n",
    "            ax[i].text(xmin + 0.001, ypos, f'{percentile}. Perzentile', ha=\"left\", va=\"bottom\", fontsize=9, color=\"forestgreen\")\n",
    "            ax[i].annotate('gewählter Punkt', xy=(xcenters[i], ypos), xytext=(xcenters[i] + 0.001, ypos + 0.01),\n",
    "                arrowprops=dict(arrowstyle=\"->\"), ha=\"left\", va=\"center\", fontsize=9, color=\"black\")\n",
    "\n",
    "            ypos = -0.077 \n",
    "            half_head = railhead_width / 2\n",
    "            ax[i].annotate('67 mm', xy=(xcenters[i]+half_head, ypos), xytext=(xcenters[i], ypos),\n",
    "                arrowprops=dict(arrowstyle=\"->\"), ha=\"center\", va=\"center\", fontsize=9, color=\"white\")\n",
    "            ax[i].annotate('67 mm', xy=(xcenters[i]-half_head, ypos), xytext=(xcenters[i], ypos),\n",
    "                arrowprops=dict(arrowstyle=\"->\"), ha=\"center\", va=\"center\", fontsize=9, color=\"black\")\n",
    "\n",
    "    plt.show()\n",
    "    return fig, ax, transformed, transformed_other\n",
    "\n"
   ]
  },
  {
   "cell_type": "code",
   "execution_count": 37,
   "metadata": {},
   "outputs": [],
   "source": [
    "def pair_generator():\n",
    "\n",
    "    for i in range(seed_point_count):\n",
    "        for cluster, clustercenter, eigenvals, eigenvects in cluster_generator(xyz[indices[i]], min_points=min_points):\n",
    "            cluster_other, center_other = check_cluster_for_railpair(clustercenter, eigenvects, xyz, tree, gauge, min_points)\n",
    "            if cluster_other is not None:\n",
    "                yield cluster, clustercenter, cluster_other, center_other, eigenvects "
   ]
  },
  {
   "cell_type": "code",
   "execution_count": 38,
   "metadata": {},
   "outputs": [],
   "source": [
    "def get_transformmatrix(cluster, cluster_other, clustercenter, clustercenter_other, eigenvects):\n",
    "    # Use the top part of the rail clusters to circumvent the problem different point distributions\n",
    "    top = cluster[:,2].max()\n",
    "    top_other = cluster_other[:,2].max()\n",
    "    topcenter = np.array([clustercenter[0], clustercenter[1], top])\n",
    "    topcenter_other = np.array([clustercenter_other[0], clustercenter_other[1], top_other])\n",
    "    sidevector = topcenter - topcenter_other\n",
    "    # Project on the plane perpendicular to the first eigenvector\n",
    "    # (eigenvects are normalized)\n",
    "    projection_on_first_eig = (sidevector @ eigenvects.T[0]) * eigenvects.T[0]\n",
    "    sidevector_perpendicular = sidevector - projection_on_first_eig\n",
    "    sidevector_perpendicular = sidevector_perpendicular / np.linalg.norm(sidevector_perpendicular)\n",
    "    normal = np.cross(eigenvects.T[0], sidevector_perpendicular) \n",
    "\n",
    "    if normal[2] < 0:\n",
    "        # print(\"Switched normal\")\n",
    "        normal *= -1\n",
    "\n",
    "    matrix = np.array([sidevector_perpendicular, eigenvects.T[0], normal]).T\n",
    "\n",
    "    return matrix"
   ]
  },
  {
   "cell_type": "markdown",
   "metadata": {},
   "source": [
    "## Alle"
   ]
  },
  {
   "cell_type": "code",
   "execution_count": 39,
   "metadata": {},
   "outputs": [],
   "source": [
    "with_lines = True"
   ]
  },
  {
   "cell_type": "code",
   "execution_count": 40,
   "metadata": {},
   "outputs": [],
   "source": [
    "def pv_bbox(plotter, bbox, offset=None):\n",
    "    points = np.array(\n",
    "        [[bbox[0], bbox[2], 0],\n",
    "        [bbox[1], bbox[2], 0],\n",
    "        [bbox[1], bbox[3], 0],\n",
    "        [bbox[0], bbox[3], 0],\n",
    "        [bbox[0], bbox[2], 0]]\n",
    "    )\n",
    "    if offset is not None:\n",
    "        points[:,:2] -= offset[:2]\n",
    "    lines = np.array([5, 0, 1, 2, 3, 0])\n",
    "    box = pv.PolyData(points)\n",
    "    box.lines = lines\n",
    "    plotter.add_mesh(box, color=\"black\", line_width=2, point_size=0, render_points_as_spheres=False)"
   ]
  },
  {
   "cell_type": "code",
   "execution_count": 41,
   "metadata": {},
   "outputs": [
    {
     "name": "stdout",
     "output_type": "stream",
     "text": [
      "Time: 1.08 s\n"
     ]
    }
   ],
   "source": [
    "start = time.time()\n",
    "\n",
    "lines = []\n",
    "center_points = []\n",
    "delta_z = []\n",
    "distances = []\n",
    "\n",
    "for cluster, clustercenter, cluster_other, center_other, eigenvects in pair_generator():\n",
    "    transformmatrix = get_transformmatrix(cluster, cluster_other, clustercenter, center_other, eigenvects)\n",
    "    representive_a  = representive_point(cluster, transformmatrix, railhead_width=0.067) \n",
    "    representive_b = representive_point(cluster_other, transformmatrix, railhead_width=0.067)\n",
    "    central = get_central_point(representive_a, representive_b)\n",
    "    lines.append(pv.Line(representive_a, representive_b))\n",
    "    center_points.append(central)\n",
    "    delta_z.append(np.abs(representive_a[2] - representive_b[2]))\n",
    "    distances.append(np.linalg.norm(representive_a[:2] - representive_b[:2]))\n",
    "\n",
    "print(f\"Time: {time.time() - start:.2f} s\")"
   ]
  },
  {
   "cell_type": "code",
   "execution_count": 42,
   "metadata": {},
   "outputs": [],
   "source": [
    "pv_all = pv.PolyData(xyz)\n",
    "pv_seed = pv.PolyData(xyz_seed) "
   ]
  },
  {
   "cell_type": "code",
   "execution_count": 43,
   "metadata": {},
   "outputs": [
    {
     "data": {
      "text/plain": [
       "1.502"
      ]
     },
     "execution_count": 43,
     "metadata": {},
     "output_type": "execute_result"
    }
   ],
   "source": [
    "gauge + railhead_width "
   ]
  },
  {
   "cell_type": "code",
   "execution_count": 44,
   "metadata": {},
   "outputs": [
    {
     "data": {
      "application/vnd.jupyter.widget-view+json": {
       "model_id": "cf18084f46cf49799a04f46d2009016b",
       "version_major": 2,
       "version_minor": 0
      },
      "text/plain": [
       "Widget(value='<iframe src=\"http://localhost:37615/index.html?ui=P_0x7f520a127be0_0&reconnect=auto\" class=\"pyvi…"
      ]
     },
     "metadata": {},
     "output_type": "display_data"
    }
   ],
   "source": [
    "center_points = np.array(center_points)\n",
    "pv_centerpoints = pv.PolyData(center_points)\n",
    "pv_centerpoints[\"z\"] = center_points[:,2]\n",
    "pv_centerpoints[\"diff_z\"] = np.abs(np.array(delta_z))\n",
    "pv_centerpoints[\"distance\"] = np.array(distances)\n",
    "\n",
    "p = pv.Plotter()\n",
    "\n",
    "if with_lines:\n",
    "    # Add lines (SLOW)\n",
    "    # for color, line in zip(side_distances, lines):\n",
    "    #     p.add_mesh(line, scalars=color, cmap='plasma')\n",
    "    for line in lines:\n",
    "        p.add_mesh(line, color=\"red\")\n",
    "\n",
    "p.add_mesh(pv_all, color='gray', point_size=1)\n",
    "# p.add_mesh(pv_seed, color='green', point_size=3)\n",
    "p.add_mesh(pv_centerpoints, scalars=\"distance\", point_size=5, cmap=\"viridis\")\n",
    "\n",
    "pv_bbox(p, bbox, offset)\n",
    "\n",
    "# labels = [str(i) for i in range(len(center_points))]\n",
    "# p.add_point_labels(pv_centerpoints, labels, point_color=\"black\", font_size=12)\n",
    "\n",
    "p.show()\n",
    "\n",
    "# Farbe: Punkte nach \"z\" oder \"diff_z\" oder \"distance\""
   ]
  },
  {
   "cell_type": "markdown",
   "metadata": {},
   "source": [
    "## Einzeln"
   ]
  },
  {
   "cell_type": "code",
   "execution_count": 121,
   "metadata": {},
   "outputs": [],
   "source": [
    "def plot_cluster_pair_compare(cluster, cluster_other, transformmatrix, representive_a, representive_b, representive_aa, representive_bb, representive_aaa, representive_bbb, railhead_width = 0.067, annotate=False): \n",
    "    \"\"\"Compare both versions of represantive points \n",
    "    \"\"\"\n",
    "    center = (cluster.sum(axis=0) + cluster_other.sum(axis=0)) / (cluster.shape[0] + cluster_other.shape[0])\n",
    "    center_cluster = cluster.mean(axis=0)\n",
    "    center_other = cluster_other.mean(axis=0)\n",
    "\n",
    "\n",
    "    cluster = cluster - center_cluster\n",
    "    cluster_other = cluster_other - center_other\n",
    "\n",
    "\n",
    "    transformed = cluster @ transformmatrix\n",
    "    transformed_other = cluster_other @ transformmatrix\n",
    "    \n",
    "    representive_a = representive_a - center_cluster\n",
    "    representive_b = representive_b - center_other\n",
    "    representive_a = representive_a @ transformmatrix\n",
    "    representive_b = representive_b @ transformmatrix\n",
    "\n",
    "    representive_aa = representive_aa - center_cluster\n",
    "    representive_bb = representive_bb - center_other\n",
    "    representive_aa = representive_aa @ transformmatrix\n",
    "    representive_bb = representive_bb @ transformmatrix\n",
    "\n",
    "    representive_aaa = representive_aaa - center_cluster\n",
    "    representive_bbb = representive_bbb - center_other\n",
    "    representive_aaa = representive_aaa @ transformmatrix\n",
    "    representive_bbb = representive_bbb @ transformmatrix\n",
    "\n",
    "\n",
    "    # Check if we need to switch the left, right cluster\n",
    "    center_cluster_in_pc = (center_cluster - center) @ transformmatrix\n",
    "    center_other_in_pc = (center_other - center) @ transformmatrix\n",
    "    if center_cluster_in_pc[0] > center_other_in_pc[0]:\n",
    "        transformed, transformed_other = transformed_other, transformed\n",
    "        representive_a, representive_b = representive_b, representive_a\n",
    "        representive_aa, representive_bb = representive_bb, representive_aa\n",
    "        representive_aaa, representive_bbb = representive_bbb, representive_aaa\n",
    "        print(\"Switched clusters\")\n",
    "\n",
    "    fig, ax = plt.subplots(1,2, figsize=(15, 7))\n",
    "\n",
    "    ax[0].set_ylim(-0.08, 0.08)\n",
    "    ax[1].set_ylim(-0.08, 0.08)\n",
    "\n",
    "    ax[0].axvline(0, color=\"darkgrey\", linestyle=\"-\", zorder=-1)\n",
    "    ax[0].axhline(0, color=\"darkgrey\", linestyle=\"-\", zorder=-1)\n",
    "    ax[1].axvline(0, color=\"darkgrey\", linestyle=\"-\", zorder=-1)\n",
    "    ax[1].axhline(0, color=\"darkgrey\", linestyle=\"-\", zorder=-1)\n",
    "\n",
    "    ax[0].axvline(0 - (railhead_width/2), color=\"darkgrey\", linestyle=\":\", zorder=-1)\n",
    "    ax[0].axvline(0 + (railhead_width/2), color=\"darkgrey\", linestyle=\":\", zorder=-1)\n",
    "    ax[1].axvline(0 - (railhead_width/2), color=\"darkgrey\", linestyle=\":\", zorder=-1)\n",
    "    ax[1].axvline(0 + (railhead_width/2), color=\"darkgrey\", linestyle=\":\", zorder=-1)\n",
    "\n",
    "    # ax[0].axhline(np.percentile(transformed[:,2],95), color=\"darkgrey\", linestyle=\"-\", zorder=-1)\n",
    "    # ax[1].axhline(np.percentile(transformed_other[:,2],95), color=\"darkgrey\", linestyle=\"-\", zorder=-1)\n",
    "\n",
    "    \n",
    "    ax[0].scatter(transformed[:,0], transformed[:,2], c=transformed[:,1], cmap=plt.cm.plasma, marker=\".\")\n",
    "    ax[0].set_aspect(\"equal\")\n",
    "\n",
    "    ax[0].axvline(representive_aaa[0], color=\"brown\", linestyle=\"-\", zorder=-1)\n",
    "    ax[0].axhline(representive_aaa[2], color=\"brown\", linestyle=\"-\", zorder=-1)\n",
    "\n",
    "    ax[1].axvline(representive_bbb[0], color=\"brown\", linestyle=\"-\", zorder=-1)\n",
    "    ax[1].axhline(representive_bbb[2], color=\"brown\", linestyle=\"-\", zorder=-1)\n",
    "\n",
    "    ax[0].axvline(representive_a[0], color=\"forestgreen\", linestyle=\":\", zorder=-1)\n",
    "    ax[0].axvline(representive_a[0] - (railhead_width/2), color=\"lightgreen\", linestyle=\":\", zorder=-1)\n",
    "    ax[0].axvline(representive_a[0] + (railhead_width/2), color=\"lightgreen\", linestyle=\":\", zorder=-1)\n",
    "    ax[0].axhline(representive_a[2], color=\"forestgreen\", linestyle=\":\", zorder=-1)\n",
    "\n",
    "    ax[1].scatter(transformed_other[:,0], transformed_other[:,2], c=transformed_other[:,1], cmap=plt.cm.plasma, marker=\".\")\n",
    "    ax[1].set_aspect(\"equal\")\n",
    "\n",
    "    ax[1].axvline(representive_b[0], color=\"forestgreen\", linestyle=\":\", zorder=-1)\n",
    "    ax[1].axvline(representive_b[0] - (railhead_width/2), color=\"lightgreen\", linestyle=\":\", zorder=-1)\n",
    "    ax[1].axvline(representive_b[0] + (railhead_width/2), color=\"lightgreen\", linestyle=\":\", zorder=-1)\n",
    "    ax[1].axhline(representive_b[2], color=\"forestgreen\", linestyle=\":\", zorder=-1)\n",
    "\n",
    "    ax[0].axvline(representive_aa[0], color=\"steelblue\", linestyle=\":\", zorder=-1)\n",
    "    ax[0].axvline(representive_aa[0] - (railhead_width/2), color=\"skyblue\", linestyle=\":\", zorder=-1)\n",
    "    ax[0].axvline(representive_aa[0] + (railhead_width/2), color=\"skyblue\", linestyle=\":\", zorder=-1)\n",
    "    ax[0].axhline(representive_aa[2], color=\"steelblue\", linestyle=\":\", zorder=-1)\n",
    "\n",
    "\n",
    "    ax[1].axvline(representive_bb[0], color=\"steelblue\", linestyle=\":\", zorder=-1)\n",
    "    ax[1].axvline(representive_bb[0] - (railhead_width/2), color=\"skyblue\", linestyle=\":\", zorder=-1)\n",
    "    ax[1].axvline(representive_bb[0] + (railhead_width/2), color=\"skyblue\", linestyle=\":\", zorder=-1)\n",
    "    ax[1].axhline(representive_bb[2], color=\"steelblue\", linestyle=\":\", zorder=-1)\n",
    "\n",
    "    ax[1].axvline(representive_bbb[0] - (railhead_width/2), color=\"lightcoral\", linestyle=\":\", zorder=-1)\n",
    "    ax[1].axvline(representive_bbb[0] + (railhead_width/2), color=\"lightcoral\", linestyle=\":\", zorder=-1)\n",
    "    ax[0].axvline(representive_aaa[0] - (railhead_width/2), color=\"lightcoral\", linestyle=\":\", zorder=-1)\n",
    "    ax[0].axvline(representive_aaa[0] + (railhead_width/2), color=\"lightcoral\", linestyle=\":\", zorder=-1)\n",
    "    \n",
    "    if annotate:\n",
    "        zcenters = (representive_a[2], representive_b[2])\n",
    "        zcenters_aa = (representive_aa[2], representive_bb[2])\n",
    "        zcenters_aaa = (representive_aaa[2], representive_bbb[2])\n",
    "        xcenters = (representive_aaa[0], representive_bbb[0])\n",
    "        for i in range(2):\n",
    "            ax[i].annotate('Clustercentroid', xy=(0, 0), xytext=(0.001, -0.02), \n",
    "                arrowprops=dict(arrowstyle=\"->\"), ha=\"left\", va=\"center\", fontsize=9, color=\"black\")\n",
    "            ypos = zcenters[i]\n",
    "            xmin, _ = ax[i].get_xlim()\n",
    "            ax[i].text(xmin + 0.001, ypos, f'95. Perz', ha=\"left\", va=\"bottom\", fontsize=9, color=\"forestgreen\")\n",
    "            \n",
    "            ypos = zcenters_aa[i]\n",
    "            ax[i].text(xmin + 0.001, ypos, f'90. Perz', ha=\"left\", va=\"top\", fontsize=9, color=\"steelblue\")\n",
    "\n",
    "            ypos = -0.077 \n",
    "            half_head = railhead_width / 2\n",
    "            ax[i].annotate('67 mm', xy=(xcenters[i]+half_head, ypos), xytext=(xcenters[i], ypos),\n",
    "                arrowprops=dict(arrowstyle=\"->\"), ha=\"center\", va=\"center\", fontsize=9, color=\"white\")\n",
    "            ax[i].annotate('67 mm', xy=(xcenters[i]-half_head, ypos), xytext=(xcenters[i], ypos),\n",
    "                arrowprops=dict(arrowstyle=\"->\"), ha=\"center\", va=\"center\", fontsize=9, color=\"black\")\n",
    "            \n",
    "            ypos = zcenters_aaa[i]\n",
    "            ax[i].annotate('gewählter Punkt', xy=(xcenters[i], ypos), xytext=(xcenters[i] + 0.001, ypos + 0.01),\n",
    "                arrowprops=dict(arrowstyle=\"->\"), ha=\"left\", va=\"center\", fontsize=9, color=\"black\")\n",
    "\n",
    "    plt.show()\n",
    "    return fig, ax, transformed, transformed_other\n",
    "\n",
    "\n"
   ]
  },
  {
   "cell_type": "code",
   "execution_count": 145,
   "metadata": {},
   "outputs": [],
   "source": [
    "pair_gen = pair_generator()"
   ]
  },
  {
   "cell_type": "code",
   "execution_count": 46,
   "metadata": {},
   "outputs": [],
   "source": [
    "# for i in range(122):\n",
    "#     next(pair_gen)"
   ]
  },
  {
   "cell_type": "code",
   "execution_count": 150,
   "metadata": {},
   "outputs": [
    {
     "name": "stdout",
     "output_type": "stream",
     "text": [
      "Transformmatrix\n",
      "[[ 9.75140080e-01 -2.21585610e-01  1.28108965e-03]\n",
      " [-2.21587367e-01 -9.75139450e-01  1.44642106e-03]\n",
      " [-9.28734961e-04  1.69433643e-03  9.99998133e-01]]\n",
      "Central Point [4.25110972 8.86906542 0.2458583 ]\n",
      "Representive Points: [4.9855493  8.70417516 0.2449749 ] [3.51667014 9.03395567 0.2467417 ]\n",
      "Is on left side False True\n",
      "Points per Cluster 383 382\n",
      "Switched clusters\n"
     ]
    },
    {
     "data": {
      "image/png": "[encoded data removed]",
      "text/plain": [
       "<Figure size 1500x700 with 2 Axes>"
      ]
     },
     "metadata": {},
     "output_type": "display_data"
    }
   ],
   "source": [
    "cluster, clustercenter, cluster_other, clustercenter_other, eigenvects = next(pair_gen)\n",
    "\n",
    "percentile = 95\n",
    "\n",
    "upperpercentile=90\n",
    "lowerpercentile = 70\n",
    "z_thresh = -0.01\n",
    "\n",
    "transformmatrix = get_transformmatrix(cluster, cluster_other, clustercenter, clustercenter_other, eigenvects)\n",
    "print(\"Transformmatrix\")\n",
    "print(transformmatrix)\n",
    "\n",
    "if transformmatrix[2,2] < 0: # z of the third eigenvector\n",
    "    print(\"Inverted eigenvectors\")\n",
    "    transformmatrix *= -1\n",
    "    \n",
    "representive_a = representive_point(cluster, transformmatrix, percentile=percentile, lowerpercentile=lowerpercentile, railhead_width=0.067)\n",
    "representive_b = representive_point(cluster_other, transformmatrix, percentile=percentile, lowerpercentile=lowerpercentile, railhead_width=0.067)\n",
    "\n",
    "representative_aa = representive_point_1(cluster, transformmatrix, percentile=upperpercentile, lowerpercentile=lowerpercentile, railhead_width=0.067)\n",
    "representative_bb = representive_point_1(cluster_other, transformmatrix, percentile=upperpercentile, lowerpercentile=lowerpercentile, railhead_width=0.067)\n",
    "\n",
    "representative_aaa = representive_point_2(cluster, transformmatrix, percentile=upperpercentile, lowerpercentile=lowerpercentile, railhead_width=0.067, z_thresh=z_thresh)\n",
    "representative_bbb = representive_point_2(cluster_other, transformmatrix, percentile=upperpercentile, lowerpercentile=lowerpercentile, railhead_width=0.067, z_thresh=z_thresh)\n",
    "\n",
    "central = get_central_point(representive_a, representive_b)\n",
    "print(\"Central Point\", central)\n",
    "print(\"Representive Points:\", representive_a, representive_b)\n",
    "print(\"Is on left side\", is_left_side((cluster - cluster.mean(axis=0)) @ transformmatrix), is_left_side((cluster_other - cluster_other.mean(axis=0)) @ transformmatrix))\n",
    "\n",
    "#o3d.visualization.draw_geometries([pcd_all, pcd_clusters, mesh_frame, pcd_clustercenters, pcd_representive])\n",
    "print(\"Points per Cluster\", len(cluster), len(cluster_other))\n",
    "fig, ax, transformed, transformed_other = plot_cluster_pair_compare(cluster, cluster_other, transformmatrix, representive_a, representive_b, representative_aa, representative_bb, representative_aaa, representative_bbb, railhead_width = 0.067, annotate=True)\n",
    "\n",
    "pair = np.vstack((cluster, cluster_other))\n",
    "#plot_cluster(pair, transformmatrix);\n",
    "# Grün: Version 0; Blau: Version 1; Braun: Version 2"
   ]
  },
  {
   "cell_type": "code",
   "execution_count": 151,
   "metadata": {},
   "outputs": [
    {
     "name": "stdout",
     "output_type": "stream",
     "text": [
      "Weiche B_be269b38-e10c-497f-b373-2fbe4bc81d55.png\n"
     ]
    }
   ],
   "source": [
    "# Save the figure\n",
    "\n",
    "folder = \"representive_points_illu\"\n",
    "filename = f\"{key}_{uuid.uuid4()}.png\"\n",
    "print(filename)\n",
    "if not os.path.exists(folder):\n",
    "    os.makedirs(folder)\n",
    "fig.savefig(os.path.join(folder, filename), dpi=300, bbox_inches='tight')"
   ]
  },
  {
   "cell_type": "code",
   "execution_count": 48,
   "metadata": {},
   "outputs": [],
   "source": [
    "# z_thresh = -0.007\n",
    "# representative_aaa = representive_point_2(cluster, transformmatrix, percentile=upperpercentile, lowerpercentile=lowerpercentile, railhead_width=0.067, z_thresh=z_thresh)\n",
    "# representative_bbb = representive_point_2(cluster_other, transformmatrix, percentile=upperpercentile, lowerpercentile=lowerpercentile, railhead_width=0.067, z_thresh=z_thresh)\n",
    "# fig, ax, transformed, transformed_other = plot_cluster_pair_compare(cluster, cluster_other, transformmatrix, representive_a, representive_b, representative_aa, representative_bb, representative_aaa, representative_bbb, railhead_width = 0.067)\n"
   ]
  },
  {
   "cell_type": "code",
   "execution_count": 49,
   "metadata": {},
   "outputs": [],
   "source": [
    "# cluster, clustercenter, cluster_other, clustercenter_other, eigenvects = next(pair_gen)\n",
    "\n",
    "# percentile = 95\n",
    "# lowerpercentile = 70\n",
    "\n",
    "# transformmatrix = get_transformmatrix(cluster, cluster_other, clustercenter, clustercenter_other, eigenvects)\n",
    "# print(\"Transformmatrix\")\n",
    "# print(transformmatrix)\n",
    "\n",
    "# if transformmatrix[2,2] < 0: # z of the third eigenvector\n",
    "#     print(\"Inverted eigenvectors\")\n",
    "#     transformmatrix *= -1\n",
    "    \n",
    "# representive_a = representive_point(cluster, transformmatrix, percentile=percentile, lowerpercentile=lowerpercentile, railhead_width=0.067)\n",
    "# representive_b = representive_point(cluster_other, transformmatrix, percentile=percentile, lowerpercentile=lowerpercentile, railhead_width=0.067)\n",
    "\n",
    "\n",
    "# central = get_central_point(representive_a, representive_b)\n",
    "# print(\"Central Point\", central)\n",
    "# print(\"Representive Points:\", representive_a, representive_b)\n",
    "# print(\"Is on left side\", is_left_side((cluster - cluster.mean(axis=0)) @ transformmatrix))\n",
    "\n",
    "# #o3d.visualization.draw_geometries([pcd_all, pcd_clusters, mesh_frame, pcd_clustercenters, pcd_representive])\n",
    "# print(\"Points per Cluster\", len(cluster), len(cluster_other))\n",
    "# fig, ax, transformed, transformed_other = plot_cluster_pair(cluster, cluster_other, transformmatrix, representive_a, representive_b, railhead_width = 0.067, percentile=percentile)\n",
    "\n",
    "# pair = np.vstack((cluster, cluster_other))\n",
    "# plot_cluster(pair, transformmatrix);"
   ]
  },
  {
   "cell_type": "code",
   "execution_count": 50,
   "metadata": {},
   "outputs": [],
   "source": [
    "pcd_clusters = o3d.geometry.PointCloud()\n",
    "pcd_clusters.points = o3d.utility.Vector3dVector(pair)\n",
    "pcd_clusters.paint_uniform_color([0, 0, 1])\n",
    "\n",
    "pcd_clustercenters = o3d.geometry.PointCloud()\n",
    "pcd_clustercenters.points = o3d.utility.Vector3dVector([clustercenter, clustercenter_other])\n",
    "pcd_clustercenters.paint_uniform_color([0, 1, 0])\n",
    "\n",
    "pcd_all = o3d.geometry.PointCloud()\n",
    "pcd_all.points = o3d.utility.Vector3dVector(xyz)\n",
    "pcd_all.paint_uniform_color([0.7, 0.7, 0.7])\n",
    "\n",
    "pcd_representive = o3d.geometry.PointCloud()\n",
    "pcd_representive.points = o3d.utility.Vector3dVector([representive_a, representive_b, central])\n",
    "pcd_representive.paint_uniform_color([1, 0, 0])\n",
    "\n",
    "mesh_frame = o3d.geometry.TriangleMesh.create_coordinate_frame(size=0.5, origin=[0, 0, 0])\n",
    "\n",
    "o3d.visualization.draw_geometries([pcd_all, pcd_clusters, mesh_frame, pcd_clustercenters, pcd_representive])"
   ]
  },
  {
   "cell_type": "markdown",
   "metadata": {},
   "source": [
    "# Experimentieren"
   ]
  },
  {
   "cell_type": "code",
   "execution_count": 51,
   "metadata": {},
   "outputs": [],
   "source": [
    "def save_clusters(cluster, cluster_other, pair, prefix):\n",
    "    folder = \"clusterbeispiele\"\n",
    "    if os.path.exists(os.path.join(folder, f\"{prefix}_l.ply\")):\n",
    "        raise FileExistsError(\"File already exists\")\n",
    "    pcd = o3d.geometry.PointCloud()\n",
    "    pcd.points = o3d.utility.Vector3dVector(pair)\n",
    "    o3d.io.write_point_cloud(os.path.join(folder, f\"{prefix}_pair.ply\"), pcd)\n",
    "    pcd = o3d.geometry.PointCloud()\n",
    "    pcd.points = o3d.utility.Vector3dVector(cluster)\n",
    "    o3d.io.write_point_cloud(os.path.join(folder, f\"{prefix}_l.ply\"), pcd)\n",
    "    pcd = o3d.geometry.PointCloud()\n",
    "    pcd.points = o3d.utility.Vector3dVector(cluster_other)\n",
    "    o3d.io.write_point_cloud(os.path.join(folder, f\"{prefix}_r.ply\"), pcd)"
   ]
  },
  {
   "cell_type": "code",
   "execution_count": 52,
   "metadata": {},
   "outputs": [
    {
     "ename": "FileExistsError",
     "evalue": "File already exists",
     "output_type": "error",
     "traceback": [
      "\u001b[0;31m---------------------------------------------------------------------------\u001b[0m",
      "\u001b[0;31mFileExistsError\u001b[0m                           Traceback (most recent call last)",
      "Cell \u001b[0;32mIn[52], line 3\u001b[0m\n\u001b[1;32m      1\u001b[0m prefix \u001b[38;5;241m=\u001b[39m \u001b[38;5;124m\"\u001b[39m\u001b[38;5;124mProblematisch45\u001b[39m\u001b[38;5;124m\"\u001b[39m\n\u001b[0;32m----> 3\u001b[0m \u001b[43msave_clusters\u001b[49m\u001b[43m(\u001b[49m\u001b[43mcluster\u001b[49m\u001b[43m,\u001b[49m\u001b[43m \u001b[49m\u001b[43mcluster_other\u001b[49m\u001b[43m,\u001b[49m\u001b[43m \u001b[49m\u001b[43mpair\u001b[49m\u001b[43m,\u001b[49m\u001b[43m \u001b[49m\u001b[43mprefix\u001b[49m\u001b[43m)\u001b[49m\n",
      "Cell \u001b[0;32mIn[51], line 4\u001b[0m, in \u001b[0;36msave_clusters\u001b[0;34m(cluster, cluster_other, pair, prefix)\u001b[0m\n\u001b[1;32m      2\u001b[0m folder \u001b[38;5;241m=\u001b[39m \u001b[38;5;124m\"\u001b[39m\u001b[38;5;124mclusterbeispiele\u001b[39m\u001b[38;5;124m\"\u001b[39m\n\u001b[1;32m      3\u001b[0m \u001b[38;5;28;01mif\u001b[39;00m os\u001b[38;5;241m.\u001b[39mpath\u001b[38;5;241m.\u001b[39mexists(os\u001b[38;5;241m.\u001b[39mpath\u001b[38;5;241m.\u001b[39mjoin(folder, \u001b[38;5;124mf\u001b[39m\u001b[38;5;124m\"\u001b[39m\u001b[38;5;132;01m{\u001b[39;00mprefix\u001b[38;5;132;01m}\u001b[39;00m\u001b[38;5;124m_l.ply\u001b[39m\u001b[38;5;124m\"\u001b[39m)):\n\u001b[0;32m----> 4\u001b[0m     \u001b[38;5;28;01mraise\u001b[39;00m \u001b[38;5;167;01mFileExistsError\u001b[39;00m(\u001b[38;5;124m\"\u001b[39m\u001b[38;5;124mFile already exists\u001b[39m\u001b[38;5;124m\"\u001b[39m)\n\u001b[1;32m      5\u001b[0m pcd \u001b[38;5;241m=\u001b[39m o3d\u001b[38;5;241m.\u001b[39mgeometry\u001b[38;5;241m.\u001b[39mPointCloud()\n\u001b[1;32m      6\u001b[0m pcd\u001b[38;5;241m.\u001b[39mpoints \u001b[38;5;241m=\u001b[39m o3d\u001b[38;5;241m.\u001b[39mutility\u001b[38;5;241m.\u001b[39mVector3dVector(pair)\n",
      "\u001b[0;31mFileExistsError\u001b[0m: File already exists"
     ]
    }
   ],
   "source": [
    "prefix = \"Problematisch45\"\n",
    "\n",
    "save_clusters(cluster, cluster_other, pair, prefix)"
   ]
  },
  {
   "cell_type": "code",
   "execution_count": null,
   "metadata": {},
   "outputs": [],
   "source": []
  }
 ],
 "metadata": {
  "kernelspec": {
   "display_name": "points",
   "language": "python",
   "name": "points"
  },
  "language_info": {
   "codemirror_mode": {
    "name": "ipython",
    "version": 3
   },
   "file_extension": ".py",
   "mimetype": "text/x-python",
   "name": "python",
   "nbconvert_exporter": "python",
   "pygments_lexer": "ipython3",
   "version": "3.9.21"
  }
 },
 "nbformat": 4,
 "nbformat_minor": 2
}
