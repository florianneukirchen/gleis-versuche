{
 "cells": [
  {
   "cell_type": "markdown",
   "metadata": {},
   "source": [
    "# Versuche für Filter-Stage\n",
    "Wie Oude Elberink et al. 2013 und auch in Oude Elberink und Kh. 2015 und in Kononen et al. 2024"
   ]
  },
  {
   "cell_type": "code",
   "execution_count": 75,
   "metadata": {},
   "outputs": [],
   "source": [
    "import pdal \n",
    "import numpy as np\n",
    "import matplotlib.pyplot as plt\n",
    "import open3d as o3d\n",
    "import os\n",
    "import json\n",
    "import pyvista as pv\n",
    "\n",
    "from interessant import * # Bei Änderungen Kernel neu starten"
   ]
  },
  {
   "cell_type": "markdown",
   "metadata": {},
   "source": [
    "- Erster Durchgang `thresh = 5` und `majority_tresh  = 0.3`\n",
    "- Zweiter Durchgang `thresh = 8` und `majority_tresh  = 0.5`\n",
    "\n",
    "Beobachtungen\n",
    "- \"Weiche\": Eine graue Kachel im Gleisbereich wenn `thresh < 6` \n",
    "- Probleme neben Bahnsteig (graues Gleis): \"Ende\", \"Unterirdischer Bhf\", \"Bahnsteig\"\n",
    "    - Evtl Kacheln kleiner als 1 m versuchen?\n",
    "    - Betrifft vor allem Ecklagen, vielleicht geht es auch so?\n",
    "- Bahnübergang natürlich blau\n",
    "- Falsche rote Linien\n",
    "    - Eine rote Linie im \"Feldweg\"\n",
    "    - rote Linie \"Betondeckel\"\n",
    "- Blaue Kacheln im Gleisbereich\n",
    "    - \"Weiche A\" mehrere bei majority_thresh 0.3, OK bei 0.5\n",
    "    - 'Zug run 14 A' in run24: eine blaue Kachel im Gleisbereich bei majority_thres 0.3, OK bei 0.5\n",
    "    - \"Weiche B\" mehrere, wo wegen Weichenherz oder Fangschienen viele Punkte erhöht sind\n",
    "    - \"Viele Gleise\": mit zunehmender Entfernung immer mehr blaue Kacheln, 0.5 viel besser, aber noch immer blaue Lücken\n",
    "    - \"OLA gleiche Höhe wie Gleis\" eine Kachel (auch bei 0.5)\n",
    "- majority_tresh  \n",
    "    - mit 0.3 'Gleis hohe Intensität' und 'Y' fast alles Gleis blau (!), nur vereinzelt wegen Intensität ausgefiltert. \n",
    "    - 0.5 deutlich besser (fast alles orange)\n",
    "    - Bei \"Gleis weit abseits\" wird das äußerste Gleis bei majority_thresh 0.5 nicht mehr wirklich erkannt (meist blau, schwarz, orange, ganz wenige rote Punkte)\n",
    "    - 0.5 viel besser (viel rot/orange, auch schwarz, kaum blau)\n",
    "    - 0.3 mehrere blau in \"Wände\", nur eine mit 0.5\n",
    "- Idee: Filter auf Intensität nur bei der Auswahl der Saatpunkte, aber pca und template matching einschließlich der entsprechenden Punkte\n",
    "- Grüne Kacheln im Gleisbereich:\n",
    "    - In \"Bahnsteig\" ist am Rand gerade noch ein Teil von einem Busch in der Kachel, wenige Punkte, aber die sind wahrscheinlich zu hoch um das tiefer liegende Gleis in der anderen Ecke zu finden?\n",
    "    - \"4 Gleise\" auch wegen Busch\n",
    "- Intensity Filter positiv\n",
    "    - \"Kante im Graben\" erfolgreich mit Intensität ausgefiltert\n",
    "    - Viele in \"Einfach\"\n",
    "- Intensity Filter falsch\n",
    "    - \"OLA auf gleicher Höhe wie Gleis\": unteres Gleis viel orange (hohe Intensität)\n",
    "    - 'Gleis hohe Intensität' (bei majority_thresh 0.5)\n",
    "    - \"Weiche B\" und \"Fangschiene Tunnel 2\" viele Punkte an Gleisinnenkante orange, auch wenn viele rote übrig bleiben\n",
    "    - \"Zaun\" (idx 17) in run14: Gleis viel orange\n",
    "    - \"Gleis weit abseits\" in run14: äußertes Gleis orange\n",
    "- \"Kabeltöpfe\" \n",
    "    - Böschung mit falsch positiv, durch Intensity threshold herausgefiltert\n",
    "    - eine graue Kachel im Gleisbereich bei majority_thres 0.3, OK bei 0.5\n",
    "- Rote (nicht lineare) Kästen in \"Anfang Weiche\"\n",
    "- \"4 Gleise\": weit entferntes Gleis z.T. grün (viel occlusion)\n",
    "- Steigung eher geringes Problem!\n",
    "    - Bei 4° Steigung wird oberer Teil des Schienenkopfs noch durchgehend erkannt\n",
    "    - unterer Teil der Schiene wird nur gestuft erfasst\n",
    "- Zeiten bei Kachel \"Einfach\": Sehr schnell und dafür erstaunlich gut!\n",
    "    - Datei lesen 1.3 s\n",
    "    - pcd (open3d) erstellen 0.1 s\n",
    "    - voxel erstellen 0.1 s\n",
    "    - voxel_dict erstellen 5.8 s\n",
    "    - constraints 0.7 s\n",
    "    - nicht mitgezählt 4.9 s beim import (nur einmal nötig)\n",
    "- Oude E. & K. nehmen die 98. Percentile für das top des Schienenkopfes, vermutlich wegen Noise. Bei mir gehen dann alle Rail-Punkte verloren, wo das Gleis nur in der Ecke des Voxels vorkommt. In fast allen Fällen ist Problem bei 99.9 Percentile behoben\n",
    "- Voxelgröße 25/30 (ca. 8.33) \n",
    "    - löst das Bahnsteigproblem und weniger Probleme mit Büschen\n",
    "    - Unterirdischer Bhf (idx 20) in run14 noch immer Bahnsteigproblem, aber nur kleine Ecken\n",
    "    - Weichenherz in Weiche B aber blau\n",
    "    - Y bei run14 Gleis manchmal blau (seltener bei voxelgröße 1)\n",
    "    - bei weit abgelegenen Gleisen wird viel schwarz mit minimum_points=100, besser 50\n",
    "- Noise Filter: \n",
    "    - in \"viele Gleise\" bei abseits gelegenem Gleis gehen viele wichtige Punkte verloren\n",
    "    - Ansonsten i.d.R. eher positiver Effekt\n",
    "\n",
    "    "
   ]
  },
  {
   "cell_type": "code",
   "execution_count": 76,
   "metadata": {},
   "outputs": [
    {
     "name": "stdout",
     "output_type": "stream",
     "text": [
      "[16.25  1.25  1.25 72.5   8.75]\n"
     ]
    }
   ],
   "source": [
    "# Zeiten, Prozent: 72.5 % für Erstellung von voxel_dict; 16 % zum Lesen der Datei\n",
    "a = np.array([1.3, 0.1, 0.1, 5.8, 0.7])\n",
    "total = np.sum(a)\n",
    "print(100*a/total)"
   ]
  },
  {
   "cell_type": "code",
   "execution_count": 77,
   "metadata": {},
   "outputs": [
    {
     "name": "stdout",
     "output_type": "stream",
     "text": [
      "48\n"
     ]
    },
    {
     "data": {
      "text/plain": [
       "dict_keys(['Einfach', 'Diagonal', 'Weiche', 'Ende', 'Bahnübergang', 'Bahnübergang 2', 'Zug run 14 A', 'Zug run 14 B', 'Zug run 24 A', 'Zug run 24 B', 'Gebäude', 'Gleis hohe Intensität', 'Gleis hohe Intensität 2', 'Feldweg', 'Feld', 'Weiche A', 'Weiche B', 'Zaun', 'Straße', 'Kante in Graben', 'Unterirdischer Bhf', 'Fangschiene Tunnel', 'Fangschiene Tunnel 2', 'Gleis weit abseits', 'Komische Linie', 'Kabeltöpfe', 'Güterzug', 'Güterzug Ende', 'Betondeckel', 'Bahnsteig', 'Bahnsteig Ende', 'Ding neben Gleis', 'Wände', 'Viele Gleise', 'Anfang Weiche', 'OLA gleiche Höhe wie Gleis', '4 Gleise', 'Y', 'Weiche C', 'Weiche D', 'Für template', 'Rand', 'Extrem viele Punkte run24', 'Viele Gleise 2', 'Kreuzung linker Teil', 'Kreuzung rechter Teil', 'Weiche abseits', 'Drei'])"
      ]
     },
     "execution_count": 77,
     "metadata": {},
     "output_type": "execute_result"
    }
   ],
   "source": [
    "print(len(interessant.keys()))\n",
    "interessant.keys()"
   ]
  },
  {
   "cell_type": "code",
   "execution_count": 78,
   "metadata": {},
   "outputs": [],
   "source": [
    "# for i, key in enumerate(interessant.keys()):\n",
    "#     print(i, key)"
   ]
  },
  {
   "cell_type": "code",
   "execution_count": 79,
   "metadata": {},
   "outputs": [
    {
     "name": "stdout",
     "output_type": "stream",
     "text": [
      "Einfach 4473900_5335875.copc.laz\n"
     ]
    }
   ],
   "source": [
    "run = run24\n",
    "#run = run14\n",
    "# filename = interessant['OLA gleiche Höhe wie Gleis']\n",
    "\n",
    "# Bahnsteig: 29; Gleis hohe Intensität: 11; Weiche B: 16; Unterirdischer Bhf: 20; Gleis weit abseits: 23; Betondeckel: 28; Zug run 14 A (in run24 Achszähler): 6; \n",
    "# Viele Gleise: 33; Anfang Weiche: 34, OLA gleiche H: 35; Y: 37\n",
    "key = list(interessant.keys())[0] \n",
    "filename = interessant[key]\n",
    "print(key, filename)\n",
    "\n",
    "\n",
    "#filename = \"4479050_5352975.copc.laz\"\n",
    "\n",
    "\n",
    "filename = os.path.join(run, filename)\n",
    "if not os.path.exists(filename):\n",
    "    raise FileNotFoundError(filename)"
   ]
  },
  {
   "cell_type": "code",
   "execution_count": 80,
   "metadata": {},
   "outputs": [],
   "source": [
    "# Alternativ: Steigung\n",
    "\n",
    "# filename = os.path.join(basedir, \"steigung\", steigung[3])\n",
    "\n",
    "# print(filename)\n",
    "# os.path.exists(filename)"
   ]
  },
  {
   "cell_type": "code",
   "execution_count": 81,
   "metadata": {},
   "outputs": [
    {
     "name": "stdout",
     "output_type": "stream",
     "text": [
      "Voxel size: 0.8333333333333334\n"
     ]
    }
   ],
   "source": [
    "thresh = 20  # z.B. 5 oder 8\n",
    "majority_tresh  = 0.7# 0.7  # 0.7 0.5 # Erster Durchgang 0.3, bei \"Gleis hohe Intensität\" gibt 0.5 ein viel besseres Ergebnis\n",
    "ground_percentile = 10 # 10 # 10 in Oude E.\n",
    "\n",
    "voxel_size = 1.0\n",
    "\n",
    "voxel_size = 25 / 30\n",
    "print(\"Voxel size:\", voxel_size)\n",
    "\n",
    "minimum_points = 50 # Erste Versuche mit 100, aber viel schwarz bei abseits liegenden Gleisen. 50 ist besser.\n",
    "\n",
    "with_normals = False"
   ]
  },
  {
   "cell_type": "code",
   "execution_count": 82,
   "metadata": {},
   "outputs": [],
   "source": [
    "import subprocess\n",
    "# subprocess.Popen([\"pyvistaviewer\", filename])"
   ]
  },
  {
   "cell_type": "code",
   "execution_count": 83,
   "metadata": {},
   "outputs": [
    {
     "data": {
      "text/plain": [
       "dtype([('X', '<f8'), ('Y', '<f8'), ('Z', '<f8'), ('Intensity', '<u2'), ('ReturnNumber', 'u1'), ('NumberOfReturns', 'u1'), ('ScanDirectionFlag', 'u1'), ('EdgeOfFlightLine', 'u1'), ('Classification', 'u1'), ('Synthetic', 'u1'), ('KeyPoint', 'u1'), ('Withheld', 'u1'), ('Overlap', 'u1'), ('ScanAngleRank', '<f4'), ('UserData', 'u1'), ('PointSourceId', '<u2'), ('GpsTime', '<f8'), ('ScanChannel', 'u1'), ('Red', '<u2'), ('Green', '<u2'), ('Blue', '<u2')])"
      ]
     },
     "execution_count": 83,
     "metadata": {},
     "output_type": "execute_result"
    }
   ],
   "source": [
    "pipeline = pdal.Pipeline([pdal.Reader(filename)])\n",
    "pipeline.execute()\n",
    "points = pipeline.arrays[0]\n",
    "points.dtype # Column names and types"
   ]
  },
  {
   "cell_type": "code",
   "execution_count": 84,
   "metadata": {},
   "outputs": [
    {
     "data": {
      "text/plain": [
       "4473925"
      ]
     },
     "execution_count": 84,
     "metadata": {},
     "output_type": "execute_result"
    }
   ],
   "source": [
    "metadata = pipeline.metadata['metadata']\n",
    "metadata['readers.copc']['maxx']"
   ]
  },
  {
   "cell_type": "code",
   "execution_count": 85,
   "metadata": {},
   "outputs": [],
   "source": [
    "def pipeline_bbox(pipeline):\n",
    "    \"\"\"Return 2D bounding box of the point cloud\"\"\"\n",
    "    metadata = pipeline.metadata['metadata']\n",
    "    key = None\n",
    "    for k in metadata.keys():\n",
    "        if k.startswith('readers'):\n",
    "            key = k\n",
    "    if not key:\n",
    "        raise ValueError(\"No readers found\")\n",
    "    maxx = metadata[key]['maxx']\n",
    "    minx = metadata[key]['minx']\n",
    "    maxy = metadata[key]['maxy']\n",
    "    miny = metadata[key]['miny']\n",
    "\n",
    "    return minx, miny, maxx, maxy"
   ]
  },
  {
   "cell_type": "code",
   "execution_count": 86,
   "metadata": {},
   "outputs": [
    {
     "data": {
      "text/plain": [
       "(4473900, 5335875, 4473925, 5335900)"
      ]
     },
     "execution_count": 86,
     "metadata": {},
     "output_type": "execute_result"
    }
   ],
   "source": [
    "pipeline_bbox(pipeline)"
   ]
  },
  {
   "cell_type": "code",
   "execution_count": 87,
   "metadata": {},
   "outputs": [],
   "source": [
    "points['Classification'] = 0 # Unclassified"
   ]
  },
  {
   "cell_type": "code",
   "execution_count": 88,
   "metadata": {},
   "outputs": [],
   "source": [
    "xyz = np.vstack((points['X'], points['Y'], points['Z'])).transpose()\n",
    "rgb = np.vstack((points['Red'], points['Green'], points['Blue'])).transpose() / 65535.0\n",
    "\n",
    "intensity = points['Intensity']\n",
    "intensity_normalized = (intensity - intensity.min()) / (intensity.max() - intensity.min())\n",
    "colormap = plt.get_cmap(\"viridis\")\n",
    "intensity_colors = colormap(intensity_normalized)\n",
    "intensity_colors = intensity_colors[:, :3]\n",
    "\n",
    "# Offset entfernen (aber gerundet, damit Kachelgrenzen ganze Zahlen bleiben)\n",
    "offset = xyz.mean(axis=0).round() \n",
    "xyz -= offset"
   ]
  },
  {
   "cell_type": "code",
   "execution_count": 89,
   "metadata": {},
   "outputs": [
    {
     "data": {
      "text/plain": [
       "array([4.473913e+06, 5.335888e+06, 5.170000e+02])"
      ]
     },
     "execution_count": 89,
     "metadata": {},
     "output_type": "execute_result"
    }
   ],
   "source": [
    "offset"
   ]
  },
  {
   "cell_type": "code",
   "execution_count": 90,
   "metadata": {},
   "outputs": [],
   "source": [
    "pcd = o3d.geometry.PointCloud()\n",
    "pcd.points = o3d.utility.Vector3dVector(xyz)\n",
    "# pcd.colors = o3d.utility.Vector3dVector(intensity_colors)\n",
    "# pcd.colors = o3d.utility.Vector3dVector(rgb)"
   ]
  },
  {
   "cell_type": "code",
   "execution_count": 91,
   "metadata": {},
   "outputs": [],
   "source": [
    "# o3d.visualization.draw_geometries([pcd])"
   ]
  },
  {
   "cell_type": "markdown",
   "metadata": {},
   "source": [
    "# Teile in säulenartige Voxel, um darin z zu untersuchen"
   ]
  },
  {
   "cell_type": "code",
   "execution_count": 92,
   "metadata": {},
   "outputs": [
    {
     "data": {
      "text/plain": [
       "(array([11.99997543, 11.99998693, 13.12408   ]),\n",
       " array([-13.00002457, -13.00001307,  -3.99652   ]))"
      ]
     },
     "execution_count": 92,
     "metadata": {},
     "output_type": "execute_result"
    }
   ],
   "source": [
    "maxp = xyz.max(axis=0)\n",
    "minp = xyz.min(axis=0)\n",
    "maxp, minp"
   ]
  },
  {
   "cell_type": "code",
   "execution_count": 93,
   "metadata": {},
   "outputs": [],
   "source": [
    "my_classes = {\n",
    "    \"Unclassified\": 0,\n",
    "    \"High Points\": 13,   \n",
    "    \"No clearance\": 14,\n",
    "    \"Missing Rail\": 15,\n",
    "    \"Low Points\": 16,\n",
    "    \"Rail\": 20,\n",
    "}\n",
    "\n",
    "color_map = {\n",
    "    13: [0.3, 0.3, 0.3],\n",
    "    14: [0.5, 0.5, 0.5], \n",
    "    15: [0, 0, 1],\n",
    "    16: [0, 1, 0],\n",
    "    20: [1, 0, 0],\n",
    "}"
   ]
  },
  {
   "cell_type": "code",
   "execution_count": 94,
   "metadata": {},
   "outputs": [],
   "source": [
    "voxels = xyz.copy()\n",
    "voxels[:, :2] = ((xyz[:, :2] - minp[:2]) // voxel_size).astype(int)"
   ]
  },
  {
   "cell_type": "code",
   "execution_count": 95,
   "metadata": {},
   "outputs": [
    {
     "data": {
      "text/plain": [
       "array([30, 30])"
      ]
     },
     "execution_count": 95,
     "metadata": {},
     "output_type": "execute_result"
    }
   ],
   "source": [
    "# Anzahl der Voxel checken\n",
    "np.ceil((maxp[:2] - minp[:2]) / voxel_size).astype(int)"
   ]
  },
  {
   "cell_type": "code",
   "execution_count": 96,
   "metadata": {},
   "outputs": [
    {
     "data": {
      "text/plain": [
       "array([[15.     , 27.     , 11.86328],\n",
       "       [17.     , 23.     , 12.22228],\n",
       "       [15.     , 26.     , 11.89178],\n",
       "       ...,\n",
       "       [25.     , 29.     ,  1.27228],\n",
       "       [21.     , 27.     ,  0.67448],\n",
       "       [23.     , 21.     , -1.37662]])"
      ]
     },
     "execution_count": 96,
     "metadata": {},
     "output_type": "execute_result"
    }
   ],
   "source": [
    "voxels  "
   ]
  },
  {
   "cell_type": "code",
   "execution_count": 97,
   "metadata": {},
   "outputs": [
    {
     "data": {
      "text/plain": [
       "1803127"
      ]
     },
     "execution_count": 97,
     "metadata": {},
     "output_type": "execute_result"
    }
   ],
   "source": [
    "len(voxels) "
   ]
  },
  {
   "cell_type": "markdown",
   "metadata": {},
   "source": [
    "Die folgende Zelle benötigt bei Kachel \"Einfach\" 5.8 s."
   ]
  },
  {
   "cell_type": "code",
   "execution_count": 98,
   "metadata": {},
   "outputs": [],
   "source": [
    "from collections import defaultdict\n",
    "voxel_dict = defaultdict(list)\n",
    "index_dict = defaultdict(list)\n",
    "\n",
    "# Füllen des Dictionaries\n",
    "for idx, (point, voxel) in enumerate(zip(xyz, voxels)):\n",
    "    voxel_key = tuple(voxel[:2])\n",
    "    voxel_dict[voxel_key].append(point[2])\n",
    "    index_dict[voxel_key].append(idx)"
   ]
  },
  {
   "cell_type": "code",
   "execution_count": 99,
   "metadata": {},
   "outputs": [],
   "source": [
    "# Viewsettings mit strg + c kopieren und hier einfügen\n",
    "\n",
    "viewsettings = '''\n",
    "{\n",
    "\t\"class_name\" : \"ViewTrajectory\",\n",
    "\t\"interval\" : 29,\n",
    "\t\"is_loop\" : false,\n",
    "\t\"trajectory\" : \n",
    "\t[\n",
    "\t\t{\n",
    "\t\t\t\"boundingbox_max\" : [ 11.999975427985191, 11.99998692702502, 13.124079998226534 ],\n",
    "\t\t\t\"boundingbox_min\" : [ -13.000024572014809, -13.00001307297498, -3.9965200017734333 ],\n",
    "\t\t\t\"field_of_view\" : 60.0,\n",
    "\t\t\t\"front\" : [ -0.20468464372193082, -0.82045900926496551, 0.53380821531742795 ],\n",
    "\t\t\t\"lookat\" : [ -2.1145501200370735, -2.6052610037108783, 1.4494799802055294 ],\n",
    "\t\t\t\"up\" : [ 0.19010212482081987, 0.50164960558000959, 0.84392467398461002 ],\n",
    "\t\t\t\"zoom\" : 0.55999999999999983\n",
    "\t\t}\n",
    "\t],\n",
    "\t\"version_major\" : 1,\n",
    "\t\"version_minor\" : 0\n",
    "}\n",
    "\n",
    "'''\n",
    "\n",
    "viewsettings = json.loads(viewsettings)\n",
    "\n",
    "front = viewsettings[\"trajectory\"][0][\"front\"]\n",
    "lookat = viewsettings[\"trajectory\"][0][\"lookat\"]\n",
    "up = viewsettings[\"trajectory\"][0][\"up\"]\n",
    "zoom = viewsettings[\"trajectory\"][0][\"zoom\"]"
   ]
  },
  {
   "cell_type": "markdown",
   "metadata": {},
   "source": [
    "- Folgende Zelle benötigt 0.7s\n",
    "- `thresh` <= 5 gibt bei Weiche eine graue Kachel im Gleis"
   ]
  },
  {
   "cell_type": "code",
   "execution_count": 100,
   "metadata": {},
   "outputs": [],
   "source": [
    "\n",
    "for key, z_values in voxel_dict.items():\n",
    "    \n",
    "    # Threshold on number of points in voxel\n",
    "    if len(z_values) < minimum_points:\n",
    "        continue\n",
    "\n",
    "    indices = np.array(index_dict[key])\n",
    "    z_values = np.array(z_values)\n",
    "    ground_level = np.percentile(z_values, ground_percentile) # 10% Percentile in Oude E.\n",
    "    # Check that there are almost no points 0.5 to 4.5 m above the ground\n",
    "    # But allow for some noise\n",
    "    count = ((z_values > ground_level + 0.5) & (z_values < ground_level + 4.5)).sum()\n",
    "\n",
    "    if count <= thresh:\n",
    "        # Look for points within 0.5 m above ground and get 98% percentile ODER 99.5\n",
    "        mask = (z_values > ground_level) & (z_values < ground_level + 0.5)\n",
    "        try:\n",
    "            candidates_top = np.percentile(z_values[mask], 99.5) # 99.5 ##################################################################################\n",
    "        except IndexError:\n",
    "            # Fails if there are no points in the masked array\n",
    "            points['Classification'][indices] = my_classes[\"Missing Rail\"]\n",
    "            continue\n",
    "\n",
    "        # Oude Elberink require the height difference > 0.1 m\n",
    "        # And mark only the points 10 cm below the top as rail point candidates\n",
    "        if candidates_top - ground_level > 0.1:\n",
    "            mask = (z_values > candidates_top - 0.1) & (z_values < candidates_top + 0.005)\n",
    "\n",
    "            # Also make sure these are only a minority of the points (otherwise it's a slope)\n",
    "            if mask.sum() < majority_tresh * len(z_values):  # z.B. 0.3\n",
    "                points['Classification'][indices[mask]] = my_classes[\"Rail\"]\n",
    "                points['Classification'][indices[~mask]] = my_classes[\"Low Points\"]\n",
    "            else:\n",
    "                points['Classification'][indices] = my_classes[\"High Points\"]     #[\"Missing Rail\"]  ################################\n",
    "\n",
    "\n",
    "        else:\n",
    "            # There are no points above ground \n",
    "            points['Classification'][indices] = my_classes[\"Missing Rail\"]\n",
    "\n",
    "\n",
    "        # Class for high points\n",
    "        mask = (z_values >= ground_level + 4.5)\n",
    "        points['Classification'][indices[mask]] = my_classes[\"High Points\"]\n",
    "\n",
    "\n",
    "    else:\n",
    "        # Discard voxel\n",
    "        # Set color of all points in voxel to grey\n",
    "        points['Classification'][indices] = my_classes[\"No clearance\"]\n",
    "\n",
    "\n"
   ]
  },
  {
   "cell_type": "markdown",
   "metadata": {},
   "source": [
    "Oude E. & K. nehmen die 98. Percentile, vermutlich wegen Noise. Zum Teil gehen mir Rail-Punkte verloren, wenn das Gleis nur in der Ecke des Voxels vorkommt. In vielen Fällen ist Problem bei 99.9 Percentile behoben"
   ]
  },
  {
   "cell_type": "code",
   "execution_count": 101,
   "metadata": {},
   "outputs": [],
   "source": [
    "class_colors = np.zeros_like(rgb)\n",
    "for class_value, color in color_map.items():\n",
    "    class_colors[points['Classification'] == class_value] = color"
   ]
  },
  {
   "cell_type": "code",
   "execution_count": 102,
   "metadata": {},
   "outputs": [],
   "source": [
    "# Optional Schwellenwert für Intensität\n",
    "intensity_threshold = 14500\n",
    "\n",
    "mask = (points[\"Classification\"] == my_classes[\"Rail\"]) & (points[\"Intensity\"] > intensity_threshold)\n",
    "class_colors[mask] = [0.9, 0.5, 0]"
   ]
  },
  {
   "cell_type": "code",
   "execution_count": 103,
   "metadata": {},
   "outputs": [],
   "source": [
    "# Normals für Visualisierung\n",
    "if with_normals:\n",
    "    nn_distance = np.mean(pcd.compute_nearest_neighbor_distance())  \n",
    "    print(nn_distance)  \n",
    "    radius_normals=nn_distance*10 #10  # 4\n",
    "    pcd.estimate_normals(search_param=o3d.geometry.KDTreeSearchParamHybrid(radius=radius_normals, max_nn=50), fast_normal_computation=True) "
   ]
  },
  {
   "cell_type": "code",
   "execution_count": 104,
   "metadata": {},
   "outputs": [],
   "source": [
    "pcd.colors = o3d.utility.Vector3dVector(class_colors)\n",
    "o3d.visualization.draw_geometries([pcd], front=front, lookat=lookat, up=up, zoom=zoom)"
   ]
  },
  {
   "cell_type": "code",
   "execution_count": 105,
   "metadata": {},
   "outputs": [],
   "source": [
    "# out_pipeline = pdal.Writer(\"test.laz\").pipeline(points)\n",
    "# out_pipeline.execute()"
   ]
  },
  {
   "cell_type": "code",
   "execution_count": 106,
   "metadata": {},
   "outputs": [],
   "source": [
    "# out_pipeline.toJSON()"
   ]
  },
  {
   "cell_type": "code",
   "execution_count": 107,
   "metadata": {},
   "outputs": [
    {
     "ename": "ValueError",
     "evalue": "Stop here",
     "output_type": "error",
     "traceback": [
      "\u001b[0;31m---------------------------------------------------------------------------\u001b[0m",
      "\u001b[0;31mValueError\u001b[0m                                Traceback (most recent call last)",
      "Cell \u001b[0;32mIn[107], line 2\u001b[0m\n\u001b[1;32m      1\u001b[0m \u001b[38;5;66;03m# ggf. hier mit exception stoppen\u001b[39;00m\n\u001b[0;32m----> 2\u001b[0m \u001b[38;5;28;01mraise\u001b[39;00m \u001b[38;5;167;01mValueError\u001b[39;00m(\u001b[38;5;124m\"\u001b[39m\u001b[38;5;124mStop here\u001b[39m\u001b[38;5;124m\"\u001b[39m)\n",
      "\u001b[0;31mValueError\u001b[0m: Stop here"
     ]
    }
   ],
   "source": [
    "# ggf. hier mit exception stoppen\n",
    "raise ValueError(\"Stop here\")"
   ]
  },
  {
   "cell_type": "markdown",
   "metadata": {},
   "source": [
    "## GIF"
   ]
  },
  {
   "cell_type": "code",
   "execution_count": null,
   "metadata": {},
   "outputs": [],
   "source": [
    "from sonstiges.cloudgify import cloudgify"
   ]
  },
  {
   "cell_type": "code",
   "execution_count": null,
   "metadata": {},
   "outputs": [
    {
     "data": {
      "application/vnd.jupyter.widget-view+json": {
       "model_id": "10dd0c7c698e422aa2a8dfd6ff312498",
       "version_major": 2,
       "version_minor": 0
      },
      "text/plain": [
       "Widget(value='<iframe src=\"http://localhost:43391/index.html?ui=P_0x7fb8b67eff10_0&reconnect=auto\" class=\"pyvi…"
      ]
     },
     "metadata": {},
     "output_type": "display_data"
    }
   ],
   "source": [
    "pvpcd = pv.PolyData(xyz)\n",
    "pvpcd['class'] = class_colors\n",
    "cloudgify(pvpcd, scalars='class', rgb=True, background_color=\"#ffffff\", style='surface', eye_dome_lighting=True, point_size=1.5)"
   ]
  },
  {
   "cell_type": "markdown",
   "metadata": {},
   "source": [
    "## Nur mit Kandidatenpunkten weiter"
   ]
  },
  {
   "cell_type": "code",
   "execution_count": null,
   "metadata": {},
   "outputs": [],
   "source": [
    "candidates = points[points[\"Classification\"] == my_classes[\"Rail\"]]"
   ]
  },
  {
   "cell_type": "code",
   "execution_count": null,
   "metadata": {},
   "outputs": [
    {
     "data": {
      "text/plain": [
       "92692"
      ]
     },
     "execution_count": 35,
     "metadata": {},
     "output_type": "execute_result"
    }
   ],
   "source": [
    "len(candidates)"
   ]
  },
  {
   "cell_type": "code",
   "execution_count": null,
   "metadata": {},
   "outputs": [
    {
     "name": "stdout",
     "output_type": "stream",
     "text": [
      "[{\"type\": \"filters.outlier\", \"method\": \"statistical\", \"mean_k\": 10, \"multiplier\": 2.0, \"tag\": \"filters_outlier1\"}]\n"
     ]
    },
    {
     "data": {
      "text/plain": [
       "(92692,)"
      ]
     },
     "execution_count": 36,
     "metadata": {},
     "output_type": "execute_result"
    }
   ],
   "source": [
    "noise_filter = pdal.Filter(\"filters.outlier\", method=\"statistical\", mean_k=10, multiplier=2.0).pipeline(candidates) # | pdal.Filter(\"filters.range\", limits=\"Classification![7:7]\")\n",
    "print(noise_filter.toJSON())\n",
    "noise_filter.execute() # Wirft exception wenn keine candidates\n",
    "candidates = noise_filter.arrays[0]\n",
    "candidates.shape "
   ]
  },
  {
   "cell_type": "code",
   "execution_count": null,
   "metadata": {},
   "outputs": [],
   "source": [
    "noise_colors = np.zeros((candidates.shape[0], 3), dtype=np.float64) "
   ]
  },
  {
   "cell_type": "code",
   "execution_count": null,
   "metadata": {},
   "outputs": [
    {
     "data": {
      "text/plain": [
       "array([[0., 0., 1.],\n",
       "       [0., 0., 1.],\n",
       "       [0., 0., 1.],\n",
       "       ...,\n",
       "       [0., 0., 1.],\n",
       "       [0., 0., 1.],\n",
       "       [0., 0., 1.]])"
      ]
     },
     "execution_count": 38,
     "metadata": {},
     "output_type": "execute_result"
    }
   ],
   "source": [
    "noise_colors[:,2] = 1\n",
    "noise_colors"
   ]
  },
  {
   "cell_type": "code",
   "execution_count": null,
   "metadata": {},
   "outputs": [],
   "source": [
    "mask = candidates[\"Intensity\"] > intensity_threshold\n",
    "noise_colors[mask] = [0.5, 0.5, 0.5]"
   ]
  },
  {
   "cell_type": "code",
   "execution_count": null,
   "metadata": {},
   "outputs": [],
   "source": [
    "noise_colors[candidates['Classification'] == 7] = [1, 0, 0]"
   ]
  },
  {
   "cell_type": "code",
   "execution_count": null,
   "metadata": {},
   "outputs": [],
   "source": [
    "xyz = np.vstack((candidates['X'], candidates['Y'], candidates['Z'])).transpose()\n",
    "xyz -= offset"
   ]
  },
  {
   "cell_type": "code",
   "execution_count": null,
   "metadata": {},
   "outputs": [],
   "source": [
    "pcd = o3d.geometry.PointCloud()\n",
    "pcd.points = o3d.utility.Vector3dVector(xyz)\n",
    "pcd.colors = o3d.utility.Vector3dVector(noise_colors)\n",
    "\n",
    "# nn_distance = np.mean(pcd.compute_nearest_neighbor_distance())  \n",
    "# print(nn_distance)  \n",
    "# radius_normals=nn_distance*4 #10  # 4\n",
    "# pcd.estimate_normals(search_param=o3d.geometry.KDTreeSearchParamHybrid(radius=radius_normals, max_nn=50), fast_normal_computation=True) \n",
    "\n",
    "\n",
    "\n",
    "o3d.visualization.draw_geometries([pcd], front=front, lookat=lookat, up=up, zoom=zoom)"
   ]
  },
  {
   "cell_type": "code",
   "execution_count": null,
   "metadata": {},
   "outputs": [
    {
     "data": {
      "text/plain": [
       "49162"
      ]
     },
     "execution_count": 43,
     "metadata": {},
     "output_type": "execute_result"
    }
   ],
   "source": [
    "mask = (candidates['Classification'] != 7) & (candidates['Intensity'] < intensity_threshold)\n",
    "out_pipeline = pdal.Writer(\"result_voxelfilter.laz\").pipeline(candidates[mask])\n",
    "out_pipeline.execute()"
   ]
  },
  {
   "cell_type": "code",
   "execution_count": null,
   "metadata": {},
   "outputs": [],
   "source": []
  },
  {
   "cell_type": "code",
   "execution_count": null,
   "metadata": {},
   "outputs": [
    {
     "data": {
      "text/plain": [
       "'/media/riannek/minimax/gleis/2024-08-13/01/run24/01/4473900_5335875.copc.laz'"
      ]
     },
     "execution_count": 44,
     "metadata": {},
     "output_type": "execute_result"
    }
   ],
   "source": [
    "filename "
   ]
  },
  {
   "cell_type": "code",
   "execution_count": null,
   "metadata": {},
   "outputs": [
    {
     "data": {
      "text/plain": [
       "0"
      ]
     },
     "execution_count": 45,
     "metadata": {},
     "output_type": "execute_result"
    }
   ],
   "source": [
    "pipeline = pdal.Pipeline([pdal.Reader(filename, count=0)])\n",
    "pipeline.execute()"
   ]
  },
  {
   "cell_type": "code",
   "execution_count": null,
   "metadata": {},
   "outputs": [
    {
     "data": {
      "text/plain": [
       "5684"
      ]
     },
     "execution_count": 46,
     "metadata": {},
     "output_type": "execute_result"
    }
   ],
   "source": [
    "pipeline.metadata['metadata']['readers.copc']['srs']['json']['id']['code']"
   ]
  },
  {
   "cell_type": "code",
   "execution_count": null,
   "metadata": {},
   "outputs": [],
   "source": []
  }
 ],
 "metadata": {
  "kernelspec": {
   "display_name": "points",
   "language": "python",
   "name": "points"
  },
  "language_info": {
   "codemirror_mode": {
    "name": "ipython",
    "version": 3
   },
   "file_extension": ".py",
   "mimetype": "text/x-python",
   "name": "python",
   "nbconvert_exporter": "python",
   "pygments_lexer": "ipython3",
   "version": "3.9.21"
  }
 },
 "nbformat": 4,
 "nbformat_minor": 2
}
