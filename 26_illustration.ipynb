{
 "cells": [
  {
   "cell_type": "markdown",
   "metadata": {},
   "source": [
    "# Illustration"
   ]
  },
  {
   "cell_type": "code",
   "execution_count": 1,
   "metadata": {},
   "outputs": [
    {
     "name": "stdout",
     "output_type": "stream",
     "text": [
      "Jupyter environment detected. Enabling Open3D WebVisualizer.\n",
      "[Open3D INFO] WebRTC GUI backend enabled.\n",
      "[Open3D INFO] WebRTCWindowSystem: HTTP handshake server disabled.\n"
     ]
    }
   ],
   "source": [
    "import pdal \n",
    "import numpy as np\n",
    "import matplotlib.pyplot as plt\n",
    "from scipy.spatial import KDTree\n",
    "from scipy.linalg import svd \n",
    "from osgeo import ogr\n",
    "import pyvista as pv\n",
    "import os\n",
    "import json\n",
    "import time \n",
    "import matplotlib.pyplot as plt\n",
    "import matplotlib.image as mpimg\n",
    "import cairosvg\n",
    "import io\n",
    "import uuid\n",
    "\n",
    "\n",
    "import open3d as o3d\n",
    "from interessant import * # Bei Änderungen Kernel neu starten\n",
    "\n",
    "ogr.UseExceptions()"
   ]
  },
  {
   "cell_type": "code",
   "execution_count": 2,
   "metadata": {},
   "outputs": [
    {
     "name": "stdout",
     "output_type": "stream",
     "text": [
      "Einfach 4473900_5335875.ply\n"
     ]
    }
   ],
   "source": [
    "tmpdir = \"/media/riannek/minimax/gleis/temp_fertig\"\n",
    "\n",
    "# Bahnsteig: 29; Gleis hohe Intensität: 11; Weiche B: 16; Unterirdischer Bhf: 20; Gleis weit abseits: 23; Betondeckel: 28; Zug run 14 A: 6; \n",
    "# Viele Gleise: 33; Anfang Weiche: 34; OLA gleiche H: 35; Y: 37; Auch viele Gleise: 43; Kreuzung: 44, 45; Weiche abseits 46\n",
    "\n",
    "key = list(interessant.keys())[0] \n",
    "\n",
    "filename = interessant[key]\n",
    "filename = filename.split(\".\")[0] + \".ply\"\n",
    "print(key, filename)\n",
    "\n",
    "\n",
    "if not os.path.exists(os.path.join(tmpdir, filename)):\n",
    "    raise FileNotFoundError(filename)"
   ]
  },
  {
   "cell_type": "code",
   "execution_count": 3,
   "metadata": {},
   "outputs": [],
   "source": [
    "thresh_side_distance = 0.15   # 0.1 ist meist gut, aber in manchen Fällen zu wenig (z.B. Anfang Weiche)\n",
    "\n",
    "intensity_threshold = 14500\n",
    "downsample_radius = 0.45 # 0.4\n",
    "neighborhood_radius = 0.5 # 0.5\n",
    "\n",
    "min_points = 10\n",
    "minimum_in_hood = 10\n",
    "linearity_tresh = 0.98\n",
    "\n",
    "gauge = 1.435\n",
    "railhead_width = 0.067"
   ]
  },
  {
   "cell_type": "code",
   "execution_count": 4,
   "metadata": {},
   "outputs": [
    {
     "data": {
      "text/plain": [
       "<Popen: returncode: None args: ['pyvistaviewer', '/media/riannek/minimax/gle...>"
      ]
     },
     "execution_count": 4,
     "metadata": {},
     "output_type": "execute_result"
    }
   ],
   "source": [
    "runfolder = \"/media/riannek/minimax/gleis/run24-2024-08-13\"\n",
    "\n",
    "import subprocess\n",
    "subprocess.Popen([\"pyvistaviewer\", os.path.join(runfolder, filename.split(\".\")[0] + \".copc.laz\")])"
   ]
  },
  {
   "cell_type": "markdown",
   "metadata": {},
   "source": [
    "## Datei incl. margin aus Nachbarkacheln"
   ]
  },
  {
   "cell_type": "code",
   "execution_count": 5,
   "metadata": {},
   "outputs": [],
   "source": [
    "gpkg = ogr.Open(os.path.join(tmpdir, \"temp.gpkg\"))\n",
    "layer = gpkg.GetLayerByName(\"tiles\")"
   ]
  },
  {
   "cell_type": "code",
   "execution_count": 6,
   "metadata": {},
   "outputs": [],
   "source": [
    "def extend_bbox(bbox, margin=2):\n",
    "    # MinX, MaxX, MinY, MaxY\n",
    "    return (bbox[0] - margin, bbox[1] + margin, bbox[2] - margin, bbox[3] + margin)\n",
    "\n",
    "def get_bbox_polygon(bbox):  \n",
    "    ring = ogr.Geometry(ogr.wkbLinearRing)      \n",
    "    ring.AddPoint_2D(bbox[0], bbox[2])  # MinX, MinY\n",
    "    ring.AddPoint_2D(bbox[1], bbox[2])  # MaxX, MinY\n",
    "    ring.AddPoint_2D(bbox[1], bbox[3])  # MaxX, MaxY\n",
    "    ring.AddPoint_2D(bbox[0], bbox[3])  # MinX, MaxY\n",
    "    ring.AddPoint_2D(bbox[0], bbox[2])  # Close ring\n",
    "    geom = ogr.Geometry(ogr.wkbPolygon)\n",
    "    geom.AddGeometry(ring)\n",
    "    return geom"
   ]
  },
  {
   "cell_type": "code",
   "execution_count": 7,
   "metadata": {},
   "outputs": [
    {
     "name": "stdout",
     "output_type": "stream",
     "text": [
      "['4473925_5335850.ply', '4473875_5335900.ply', '4473875_5335850.ply', '4473900_5335850.ply', '4473875_5335875.ply', '4473900_5335900.ply', '4473900_5335875.ply']\n"
     ]
    }
   ],
   "source": [
    "filter = f\"filename = '{filename}'\"\n",
    "layer.SetAttributeFilter(filter)\n",
    "feature = layer.GetNextFeature()\n",
    "layer.SetAttributeFilter(None)\n",
    "bbox = feature.GetGeometryRef().GetEnvelope()\n",
    "extended = extend_bbox(bbox, margin=2)\n",
    "bbox_geom = get_bbox_polygon(extended)\n",
    "layer.SetSpatialFilter(bbox_geom)\n",
    "tiles = [f.GetField(\"filename\") for f in layer]\n",
    "layer.SetSpatialFilter(None) \n",
    "\n",
    "print(tiles) "
   ]
  },
  {
   "cell_type": "code",
   "execution_count": 8,
   "metadata": {},
   "outputs": [
    {
     "data": {
      "text/plain": [
       "(4473900.0, 4473925.0, 5335875.0, 5335900.0)"
      ]
     },
     "execution_count": 8,
     "metadata": {},
     "output_type": "execute_result"
    }
   ],
   "source": [
    "bbox # MinX, MaxX, MinY, MaxY"
   ]
  },
  {
   "cell_type": "code",
   "execution_count": 9,
   "metadata": {},
   "outputs": [],
   "source": [
    "del gpkg"
   ]
  },
  {
   "cell_type": "code",
   "execution_count": 10,
   "metadata": {},
   "outputs": [
    {
     "data": {
      "text/plain": [
       "'([4473898.0, 4473927.0], [5335873.0, 5335902.0])'"
      ]
     },
     "execution_count": 10,
     "metadata": {},
     "output_type": "execute_result"
    }
   ],
   "source": [
    "bounds = f\"([{extended[0]}, {extended[1]}], [{extended[2]}, {extended[3]}])\" \n",
    "bounds"
   ]
  },
  {
   "cell_type": "code",
   "execution_count": 11,
   "metadata": {},
   "outputs": [
    {
     "data": {
      "text/plain": [
       "(107650,)"
      ]
     },
     "execution_count": 11,
     "metadata": {},
     "output_type": "execute_result"
    }
   ],
   "source": [
    "readers = [pdal.Reader(os.path.join(tmpdir, tile)) for tile in tiles]\n",
    "pipeline = pdal.Pipeline(readers) | pdal.Filter.merge() | pdal.Filter.crop(bounds=bounds)\n",
    "pipeline.execute()\n",
    "points = pipeline.arrays[0]\n",
    "points.shape "
   ]
  },
  {
   "cell_type": "markdown",
   "metadata": {},
   "source": [
    "## Seed Points"
   ]
  },
  {
   "cell_type": "code",
   "execution_count": 12,
   "metadata": {},
   "outputs": [
    {
     "data": {
      "text/plain": [
       "(57235,)"
      ]
     },
     "execution_count": 12,
     "metadata": {},
     "output_type": "execute_result"
    }
   ],
   "source": [
    "low_intensity = points[points[\"Intensity\"] < intensity_threshold]\n",
    "low_intensity.shape"
   ]
  },
  {
   "cell_type": "code",
   "execution_count": 13,
   "metadata": {},
   "outputs": [
    {
     "data": {
      "text/plain": [
       "'([4473900.0, 4473925.0], [5335875.0, 5335900.0])'"
      ]
     },
     "execution_count": 13,
     "metadata": {},
     "output_type": "execute_result"
    }
   ],
   "source": [
    "bounds = f\"([{bbox[0]}, {bbox[1]}], [{bbox[2]}, {bbox[3]}])\" \n",
    "bounds"
   ]
  },
  {
   "cell_type": "code",
   "execution_count": 14,
   "metadata": {},
   "outputs": [
    {
     "data": {
      "text/plain": [
       "266"
      ]
     },
     "execution_count": 14,
     "metadata": {},
     "output_type": "execute_result"
    }
   ],
   "source": [
    "# Downsample with poisson sampling (only original bbox)\n",
    "\n",
    "downsampling_pipeline = pdal.Filter.crop(bounds=bounds).pipeline(low_intensity) | pdal.Filter(\"filters.sample\", radius=downsample_radius)\n",
    "downsampling_pipeline.execute()\n",
    "seed_points = downsampling_pipeline.arrays[0]\n",
    "seed_point_count = seed_points.shape[0]\n",
    "seed_point_count"
   ]
  },
  {
   "cell_type": "markdown",
   "metadata": {},
   "source": [
    "## KD Tree"
   ]
  },
  {
   "cell_type": "code",
   "execution_count": 15,
   "metadata": {},
   "outputs": [],
   "source": [
    "xyz = np.vstack((points['X'], points['Y'], points['Z'])).transpose()\n",
    "xyz_seed = np.vstack((seed_points['X'], seed_points['Y'], seed_points['Z'])).transpose()"
   ]
  },
  {
   "cell_type": "code",
   "execution_count": 16,
   "metadata": {},
   "outputs": [],
   "source": [
    "offset = xyz.mean(axis=0).round() \n",
    "xyz -= offset\n",
    "xyz_seed -= offset"
   ]
  },
  {
   "cell_type": "code",
   "execution_count": 17,
   "metadata": {},
   "outputs": [],
   "source": [
    "tree = KDTree(xyz)  \n",
    "\n",
    "# indices: ndarray (dtype object) with a list of indices for each seed point\n",
    "indices = tree.query_ball_point(xyz_seed, r=neighborhood_radius, workers=-1)"
   ]
  },
  {
   "cell_type": "markdown",
   "metadata": {},
   "source": [
    "## Funktionen"
   ]
  },
  {
   "cell_type": "code",
   "execution_count": 18,
   "metadata": {},
   "outputs": [],
   "source": [
    "def pca(cloud):\n",
    "    \"\"\"Use PCA to get einvalues and eigenvectors of a point cloud\n",
    "    \n",
    "    Returns (eigenvalues, eigenvectors)\n",
    "    \"\"\"\n",
    "    if cloud.shape[0] < 3:\n",
    "        raise ValueError(\"Point cloud must have at least 3 points\")\n",
    "    mean = np.mean(cloud, axis=0)\n",
    "    centered = cloud - mean\n",
    "    U, S, Vt = svd(centered, full_matrices=False)\n",
    "    eigenvals = S**2/(cloud.shape[0]-1)\n",
    "    # Returned vectors are in columns, first vector is eigenvec[:, 0] == eigenvec.T[0]\n",
    "    return eigenvals, Vt.T\n",
    "\n",
    "def linearity(eigenvals):\n",
    "    \"\"\"Calculate the linearity of a point cloud\"\"\"\n",
    "    return (eigenvals[0] - eigenvals[1]) / eigenvals[0]"
   ]
  },
  {
   "cell_type": "code",
   "execution_count": 19,
   "metadata": {},
   "outputs": [],
   "source": [
    "def dbscan_stretchz(xyz, min_points=10, stretch=1.5):\n",
    "\n",
    "    pointcount = xyz.shape[0]\n",
    "    if pointcount <= min_points:\n",
    "        return np.ones(pointcount, dtype=np.int8) * -1\n",
    "    \n",
    "    eps = 50 / pointcount\n",
    "    eps = max(eps, 0.06)\n",
    "    \n",
    "    xyz = xyz.copy()\n",
    "    xyz[:, 2] *= stretch\n",
    "    hood_pcd = o3d.geometry.PointCloud()\n",
    "    hood_pcd.points = o3d.utility.Vector3dVector(xyz) \n",
    "    # eps is min distance between clusters\n",
    "    labels = np.array(hood_pcd.cluster_dbscan(eps=eps, min_points=min_points, print_progress=False))\n",
    "    return labels\n",
    "\n"
   ]
  },
  {
   "cell_type": "code",
   "execution_count": 20,
   "metadata": {},
   "outputs": [],
   "source": [
    "def get_central_point(a, b):\n",
    "    \"\"\"Get the point in the middle of two points\"\"\"\n",
    "    vector = b - a\n",
    "    return a + vector / 2"
   ]
  },
  {
   "cell_type": "code",
   "execution_count": 21,
   "metadata": {},
   "outputs": [],
   "source": [
    "def to_color(skalar, cmap=plt.cm.plasma):\n",
    "    return cmap(skalar)[:3]"
   ]
  },
  {
   "cell_type": "code",
   "execution_count": 22,
   "metadata": {},
   "outputs": [],
   "source": [
    "def cluster_is_on_top(cluster, clustercenter, points):\n",
    "    \"\"\"Check that there are no points above the cluster center\"\"\"\n",
    "    x_min, x_max = clustercenter[0] - 0.05, clustercenter[0] + 0.05\n",
    "    y_min, y_max = clustercenter[1] - 0.05, clustercenter[1] + 0.05\n",
    "    z_min = cluster[:,2].max()\n",
    "\n",
    "    mask = ((points[:, 0] > x_min) & \n",
    "        (points[:, 0] < x_max) & \n",
    "        (points[:, 1] > y_min) & \n",
    "        (points[:, 1] < y_max) & \n",
    "        (points[:, 2] > z_min))\n",
    "    \n",
    "    \n",
    "    return points[mask].shape[0] == 0\n"
   ]
  },
  {
   "cell_type": "code",
   "execution_count": 23,
   "metadata": {},
   "outputs": [],
   "source": [
    "def cluster_generator(points, min_points):\n",
    "    if points.shape[0] < min_points:\n",
    "        return\n",
    "    \n",
    "    labels = dbscan_stretchz(points, min_points=min_points, stretch=4)\n",
    "    max_label = labels.max()\n",
    "    \n",
    "    for label in range(max_label + 1):\n",
    "        cluster = points[labels == label]\n",
    "        if cluster.shape[0] < min_points:\n",
    "            # Somehow this happens, must be a bug in open3d\n",
    "            continue\n",
    "\n",
    "        eigenvals, eigenvects = pca(cluster)\n",
    "        cluster_linearity = linearity(eigenvals)\n",
    "\n",
    "\n",
    "        if not ((cluster_linearity > linearity_tresh) and (eigenvals[0] > 0.04)):\n",
    "            # Cluster not linear or too short\n",
    "            continue\n",
    "\n",
    "        clustercenter = cluster.mean(axis=0)\n",
    "\n",
    "        # Make sure there are no points above the cluster\n",
    "        # (exclude clusters at the base of the track profile)\n",
    "        if not cluster_is_on_top(cluster, clustercenter, points):\n",
    "            continue\n",
    "        \n",
    "\n",
    "        yield cluster, clustercenter, eigenvals, eigenvects\n",
    "\n",
    "\n",
    "def check_cluster_for_railpair(clustercenter, eigenvects, pointcloud, tree, gauge, min_points):\n",
    "\n",
    "    # Check for rail pair\n",
    "    sidevector = np.cross(eigenvects[:,0], np.array([0, 0, 1])) * (gauge + 0.07) # Add railtop width to gauge\n",
    "    bothsides = np.array([clustercenter + sidevector, clustercenter - sidevector])\n",
    "\n",
    "    indices_bothsides = tree.query_ball_point(bothsides, r=neighborhood_radius)\n",
    "    \n",
    "    # Linear cluster that is closest to one of the estimated side points (ignoring z)\n",
    "    # but must me within r = 15 cm and almost parallel\n",
    "\n",
    "    closest_cluster_distance = np.inf\n",
    "    closest_cluster = None\n",
    "    closest_cluster_center = None\n",
    "    \n",
    "    for j, side in enumerate(indices_bothsides):\n",
    "        for sidecluster, sideclustercenter, _, eigenvects_side in cluster_generator(pointcloud[side], min_points):\n",
    "            \n",
    "            # Check distance\n",
    "            sidecluster_distance = np.linalg.norm(sideclustercenter[:2] - bothsides[j][:2]) # only xy\n",
    "            if sidecluster_distance < thresh_side_distance and sidecluster_distance < closest_cluster_distance:\n",
    "                # Check if parallel\n",
    "                cos_angle = np.abs(np.dot(eigenvects[:,0], eigenvects_side[:,0]))\n",
    "                if cos_angle > 0.9:  \n",
    "                    closest_cluster = sidecluster\n",
    "                    closest_cluster_distance = sidecluster_distance\n",
    "                    closest_cluster_center = sideclustercenter\n",
    "\n",
    "    return closest_cluster, closest_cluster_center"
   ]
  },
  {
   "cell_type": "code",
   "execution_count": 24,
   "metadata": {},
   "outputs": [],
   "source": [
    "def which_side(cluster):\n",
    "    \"\"\"Check which on which side of the rail the transformed cluster is\n",
    "    \n",
    "    Returns a value between -1 and 1, positive values if points are on the \n",
    "    right side of the rail, and negative values for the left side. \n",
    "    The absolute value is kind of the confidence of the estimation.\n",
    "    \"\"\"\n",
    "\n",
    "    # Count the points below the centroid, on the left and the right side \n",
    "    # but only within half the width of the railhead \n",
    "\n",
    "    left_mask = (cluster[:,2] < 0) & (cluster[:,0] < 0) & (cluster[:,0] > -railhead_width/2)\n",
    "    right_mask = (cluster[:,2] < 0) & (cluster[:,0] > 0) & (cluster[:,0] < railhead_width/2)\n",
    "    left_count = np.sum(left_mask)\n",
    "    right_count = np.sum(right_mask)\n",
    "    both_count = left_count + right_count\n",
    "    if both_count == 0:\n",
    "        return 0\n",
    "    return (left_count - right_count) / both_count"
   ]
  },
  {
   "cell_type": "code",
   "execution_count": 25,
   "metadata": {},
   "outputs": [],
   "source": [
    "def representive_point_3(cluster, transformmatrix, upperpercentile=90, lowerpercentile=70, railhead_width=0.067, side=None):\n",
    "    \"\"\"Version 3\n",
    "\n",
    "    Unterschied bei \"Vor allem Top\": \n",
    "        min und max x bei z>-0.01\n",
    "        lowerpercentile des oberen Teils für z\n",
    "    \"\"\"\n",
    "\n",
    "\n",
    "    center = cluster.mean(axis=0)\n",
    "    centered = cluster - center\n",
    "    transformed = centered @ transformmatrix\n",
    "    max_z = transformed[:,2].max()\n",
    "\n",
    "    if max_z < 0.03:\n",
    "        # This happens if most points are on the top of the rail (usually max_z close to 0.02)\n",
    "        # Calculate the mean of the range for points above -0.01\n",
    "        # (this makes sure we get the approx. railhead width)\n",
    "        transformed_x_upper = transformed[transformed[:,2] > -0.01][:,0]\n",
    "        center_x = (transformed_x_upper.max() + transformed_x_upper.min()) / 2\n",
    "        # only consider points above the centroid\n",
    "        center_z = np.percentile(transformed[transformed[:,2] > 0][:,2], lowerpercentile)\n",
    "        side = 0\n",
    "    else:\n",
    "        # Many points are on the side of the rail (usually the max_z around 0.04)\n",
    "        # but we need check which side \n",
    "\n",
    "        if side is None:\n",
    "            side = which_side(transformed)\n",
    "\n",
    "        # x values of points above the centroid\n",
    "        # (there might be outliers in the lower part of the cluster)\n",
    "        transformed_x_upper = transformed[transformed[:,2] > 0][:,0]\n",
    "\n",
    "        if side < 0:\n",
    "            # left side\n",
    "            # Only consider one quadrant in the transformed space\n",
    "            # This makes clusters with more or less points on the rail top more comparable\n",
    "            min_x = np.percentile(transformed_x_upper[transformed_x_upper < 0],100-lowerpercentile)\n",
    "            center_x = min_x + railhead_width / 2\n",
    "        else:\n",
    "            max_x = np.percentile(transformed_x_upper[transformed_x_upper > 0],lowerpercentile)\n",
    "            center_x = max_x - railhead_width / 2 \n",
    "        center_z = np.percentile(transformed[transformed[:,2] > 0][:,2], upperpercentile)\n",
    "\n",
    "    \n",
    "    transformed_representive = np.array([center_x, 0, center_z])\n",
    "    return transformed_representive @ transformmatrix.T + center, side"
   ]
  },
  {
   "cell_type": "code",
   "execution_count": 26,
   "metadata": {},
   "outputs": [],
   "source": [
    "# Convert SVG to PNG in memory\n",
    "svg_file = \"Schiene.svg\"\n",
    "png_bytes = cairosvg.svg2png(url=svg_file, dpi=300)\n",
    "png_image = mpimg.imread(io.BytesIO(png_bytes), format='png')"
   ]
  },
  {
   "cell_type": "code",
   "execution_count": 27,
   "metadata": {},
   "outputs": [],
   "source": [
    "def pair_generator():\n",
    "\n",
    "    for i in range(seed_point_count):\n",
    "        for cluster, clustercenter, eigenvals, eigenvects in cluster_generator(xyz[indices[i]], min_points=min_points):\n",
    "            cluster_other, center_other = check_cluster_for_railpair(clustercenter, eigenvects, xyz, tree, gauge, min_points)\n",
    "            if cluster_other is not None:\n",
    "                yield cluster, clustercenter, cluster_other, center_other, eigenvects "
   ]
  },
  {
   "cell_type": "code",
   "execution_count": 28,
   "metadata": {},
   "outputs": [],
   "source": [
    "def get_transformmatrix(cluster, cluster_other, clustercenter, clustercenter_other, eigenvects):\n",
    "    # Use the top part of the rail clusters to circumvent the problem different point distributions\n",
    "    top = cluster[:,2].max()\n",
    "    top_other = cluster_other[:,2].max()\n",
    "    topcenter = np.array([clustercenter[0], clustercenter[1], top])\n",
    "    topcenter_other = np.array([clustercenter_other[0], clustercenter_other[1], top_other])\n",
    "    sidevector = topcenter - topcenter_other\n",
    "    # Project on the plane perpendicular to the first eigenvector\n",
    "    # (eigenvects are normalized)\n",
    "    projection_on_first_eig = (sidevector @ eigenvects.T[0]) * eigenvects.T[0]\n",
    "    sidevector_perpendicular = sidevector - projection_on_first_eig\n",
    "    sidevector_perpendicular = sidevector_perpendicular / np.linalg.norm(sidevector_perpendicular)\n",
    "    normal = np.cross(sidevector_perpendicular, eigenvects.T[0]) \n",
    "\n",
    "    matrix = np.array([sidevector_perpendicular, eigenvects.T[0], normal]).T\n",
    "\n",
    "    if normal[2] < 0:\n",
    "        # print(\"Upside down\")\n",
    "        Rx_180 = np.array([\n",
    "            [1,  0,  0],\n",
    "            [0, -1,  0],\n",
    "            [0,  0, -1]\n",
    "        ])\n",
    "        # Data in row vector, this is first the main rotation, than the rotation around the y axis\n",
    "        matrix = matrix @ Rx_180 \n",
    "\n",
    "    return matrix"
   ]
  },
  {
   "cell_type": "code",
   "execution_count": 29,
   "metadata": {},
   "outputs": [],
   "source": [
    "def plot_cluster_pair(cluster, cluster_other, transformmatrix, representive_a, representive_b, railhead_width = 0.067, annotate=True, lines=False, figsize=(10, 5)): \n",
    "    \"\"\"Plot pair of clusters in the PCA coordinate system of the pair \n",
    "    \n",
    "    Args:\n",
    "        cluster (np.array): Cluster of points\n",
    "        cluster_other (np.array): Other cluster of points\n",
    "        transformmatrix (np.array): Transformation matrix to local coordinate system\n",
    "        representive_a (np.array): Representive point of cluster a\n",
    "        representive_b (np.array): Representive point of cluster b\n",
    "        railhead_width (float): Width of the railhead (0.067 or 0.072)\n",
    "        centering (str): \"cluster\" or \"pair\"\n",
    "        annotate (bool): If True, add annotations to the plot\n",
    "    \"\"\"\n",
    "    center = (cluster.sum(axis=0) + cluster_other.sum(axis=0)) / (cluster.shape[0] + cluster_other.shape[0])\n",
    "    center_cluster = cluster.mean(axis=0)\n",
    "    center_other = cluster_other.mean(axis=0)\n",
    "\n",
    "\n",
    "    cluster = cluster - center_cluster\n",
    "    cluster_other = cluster_other - center_other\n",
    "\n",
    "\n",
    "    transformed = cluster @ transformmatrix\n",
    "    transformed_other = cluster_other @ transformmatrix\n",
    "    \n",
    "    representive_a = representive_a - center_cluster\n",
    "    representive_b = representive_b - center_other\n",
    "    representive_a = representive_a @ transformmatrix\n",
    "    representive_b = representive_b @ transformmatrix\n",
    "\n",
    "\n",
    "    # Check if we need to switch the left, right cluster\n",
    "    center_cluster_in_pc = (center_cluster - center) @ transformmatrix\n",
    "    center_other_in_pc = (center_other - center) @ transformmatrix\n",
    "    if center_cluster_in_pc[0] > center_other_in_pc[0]:\n",
    "        transformed, transformed_other = transformed_other, transformed\n",
    "        representive_a, representive_b = representive_b, representive_a\n",
    "        print(\"Switched clusters\")\n",
    "\n",
    "    fig, ax = plt.subplots(1,2, figsize=figsize)\n",
    "\n",
    "    ax[0].set_ylim(-0.16, 0.08)\n",
    "    ax[1].set_ylim(-0.16, 0.08)\n",
    "\n",
    "\n",
    "    svgscale = 0.0895\n",
    "    svg_yoffset = 0.012\n",
    "    svg_xoffset = -0.0008\n",
    "   \n",
    "    ax[0].imshow(png_image, extent=[representive_a[0] - svgscale + svg_xoffset, representive_a[0] + svgscale + svg_xoffset, representive_a[2] + svg_yoffset - (2*svgscale), representive_a[2] + svg_yoffset], aspect='auto', zorder=-2)\n",
    "    ax[1].imshow(png_image, extent=[representive_b[0] - svgscale + svg_xoffset, representive_b[0] + svgscale + svg_xoffset, representive_b[2] + svg_yoffset - (2*svgscale), representive_b[2] + svg_yoffset], aspect='auto', zorder=-2)\n",
    "\n",
    "    ax[0].scatter(transformed[:,0], transformed[:,2], c=transformed[:,1], cmap=plt.cm.plasma, marker=\".\")\n",
    "    ax[1].scatter(transformed_other[:,0], transformed_other[:,2], c=transformed_other[:,1], cmap=plt.cm.plasma, marker=\".\")\n",
    "    ax[0].set_aspect(\"equal\")\n",
    "    ax[1].set_aspect(\"equal\")\n",
    "\n",
    "    ax[0].set_axis_off()\n",
    "    ax[1].set_axis_off()\n",
    "\n",
    "    if lines:\n",
    "\n",
    "        # ax[0].axvline(representive_a[0] - (railhead_width/2), color=\"lightgreen\", linestyle=\"--\", zorder=-1)\n",
    "        # ax[0].axvline(representive_a[0] + (railhead_width/2), color=\"lightgreen\", linestyle=\"--\", zorder=-1)\n",
    "        # ax[1].axvline(representive_b[0] - (railhead_width/2), color=\"lightgreen\", linestyle=\"--\", zorder=-1)\n",
    "        # ax[1].axvline(representive_b[0] + (railhead_width/2), color=\"lightgreen\", linestyle=\"--\", zorder=-1)\n",
    "\n",
    "        ax[0].axvline(representive_a[0], color=\"forestgreen\", linestyle=\"--\", zorder=-1)\n",
    "        ax[0].axhline(representive_a[2], color=\"forestgreen\", linestyle=\"--\", zorder=-1)\n",
    "        ax[1].axvline(representive_b[0], color=\"forestgreen\", linestyle=\"--\", zorder=-1)\n",
    "        ax[1].axhline(representive_b[2], color=\"forestgreen\", linestyle=\"--\", zorder=-1)\n",
    "\n",
    "        # ax[0].axvline(0, color=\"lightgrey\", linestyle=\"-\", zorder=-1)\n",
    "        # ax[0].axhline(0, color=\"lightgrey\", linestyle=\"-\", zorder=-1)\n",
    "        # ax[1].axvline(0, color=\"lightgrey\", linestyle=\"-\", zorder=-1)\n",
    "        # ax[1].axhline(0, color=\"lightgrey\", linestyle=\"-\", zorder=-1)\n",
    "\n",
    "    if annotate:\n",
    "        zcenters = (representive_a[2], representive_b[2])\n",
    "        xcenters = (representive_a[0], representive_b[0])\n",
    "        for i in range(2):\n",
    "            ax[i].annotate('Clustercentroid', xy=(0, 0), xytext=(0.001, -0.02), \n",
    "                arrowprops=dict(arrowstyle=\"->\"), ha=\"left\", va=\"center\", fontsize=9, color=\"black\")\n",
    "            ypos = zcenters[i]\n",
    "            ax[i].annotate('gewählter Punkt', xy=(xcenters[i], ypos), xytext=(xcenters[i] + 0.001, ypos + 0.01),\n",
    "                arrowprops=dict(arrowstyle=\"->\"), ha=\"left\", va=\"center\", fontsize=9, color=\"black\")\n",
    "\n",
    "            ypos = -0.077 \n",
    "            half_head = railhead_width / 2\n",
    "            ax[i].annotate('67 mm', xy=(xcenters[i]+half_head, ypos), xytext=(xcenters[i], ypos),\n",
    "                arrowprops=dict(arrowstyle=\"->\"), ha=\"center\", va=\"center\", fontsize=9, color=\"white\")\n",
    "            ax[i].annotate('67 mm', xy=(xcenters[i]-half_head, ypos), xytext=(xcenters[i], ypos),\n",
    "                arrowprops=dict(arrowstyle=\"->\"), ha=\"center\", va=\"center\", fontsize=9, color=\"black\")\n",
    "\n",
    "    plt.show()\n",
    "    return fig, ax, transformed, transformed_other\n",
    "\n"
   ]
  },
  {
   "cell_type": "markdown",
   "metadata": {},
   "source": [
    "## Einzeln"
   ]
  },
  {
   "cell_type": "code",
   "execution_count": 30,
   "metadata": {},
   "outputs": [],
   "source": [
    "pair_gen = pair_generator()"
   ]
  },
  {
   "cell_type": "code",
   "execution_count": 31,
   "metadata": {},
   "outputs": [],
   "source": [
    "# for i in range(122):\n",
    "#     next(pair_gen)"
   ]
  },
  {
   "cell_type": "code",
   "execution_count": 32,
   "metadata": {},
   "outputs": [
    {
     "name": "stdout",
     "output_type": "stream",
     "text": [
      "Sides 0 0\n",
      "Points per Cluster 391 397\n",
      "Switched clusters\n",
      "Reading /media/riannek/minimax/gleis/run24-2024-08-13/4473900_5335875.copc.laz\n"
     ]
    },
    {
     "data": {
      "image/png": "[encoded data removed]",
      "text/plain": [
       "<Figure size 1000x500 with 2 Axes>"
      ]
     },
     "metadata": {},
     "output_type": "display_data"
    }
   ],
   "source": [
    "cluster, clustercenter, cluster_other, clustercenter_other, eigenvects = next(pair_gen)\n",
    "\n",
    "percentile = 95\n",
    "\n",
    "upperpercentile=90\n",
    "lowerpercentile = 70\n",
    "\n",
    "transformmatrix = get_transformmatrix(cluster, cluster_other, clustercenter, clustercenter_other, eigenvects)\n",
    "#print(\"Transformmatrix\")\n",
    "#print(transformmatrix)\n",
    "\n",
    "if transformmatrix[2,2] < 0: # z of the third eigenvector\n",
    "    print(\"Inverted eigenvectors\")\n",
    "    transformmatrix *= -1\n",
    "    \n",
    "\n",
    "representative_a, side_a  = representive_point_3(cluster, transformmatrix, upperpercentile=upperpercentile, lowerpercentile=lowerpercentile, railhead_width=0.067)\n",
    "representative_b, side_b = representive_point_3(cluster_other, transformmatrix, upperpercentile=upperpercentile, lowerpercentile=lowerpercentile, railhead_width=0.067)\n",
    "\n",
    "print(\"Sides\", side_a, side_b)\n",
    "\n",
    "# Check if both are classified as the same side\n",
    "# but a zero and non zero value is not a problem\n",
    "if side_a * side_b < 0:\n",
    "    print(\"Different sides\")\n",
    "    # Update the cluster with lower confidence of the side estimation\n",
    "    if np.abs(side_a) < np.abs(side_b):\n",
    "        representative_a, side_a  = representive_point_3(cluster, transformmatrix, upperpercentile=upperpercentile, lowerpercentile=lowerpercentile, railhead_width=0.067, side=side_b)\n",
    "    else:\n",
    "        representative_b, side_b = representive_point_3(cluster_other, transformmatrix, upperpercentile=upperpercentile, lowerpercentile=lowerpercentile, railhead_width=0.067, side=side_a)\n",
    "\n",
    "\n",
    "    #representative_aaa, representative_bbb = representative_bbb, representative_aaa\n",
    "\n",
    "# print(\"Central Point\", central)\n",
    "# print(\"Representive Points:\", representive_a, representive_b)\n",
    "\n",
    "#o3d.visualization.draw_geometries([pcd_all, pcd_clusters, mesh_frame, pcd_clustercenters, pcd_representive])\n",
    "print(\"Points per Cluster\", len(cluster), len(cluster_other))\n",
    "fig, ax, transformed, transformed_other = plot_cluster_pair(cluster, cluster_other, transformmatrix, representative_a, representative_b, railhead_width = 0.067, annotate=False, lines=False)\n",
    "\n",
    "# Grün: Version 0; Blau: Version 1; Braun: Version 2"
   ]
  },
  {
   "cell_type": "code",
   "execution_count": 33,
   "metadata": {},
   "outputs": [
    {
     "ename": "ValueError",
     "evalue": "Stop here",
     "output_type": "error",
     "traceback": [
      "\u001b[0;31m---------------------------------------------------------------------------\u001b[0m",
      "\u001b[0;31mValueError\u001b[0m                                Traceback (most recent call last)",
      "Cell \u001b[0;32mIn[33], line 1\u001b[0m\n\u001b[0;32m----> 1\u001b[0m \u001b[38;5;28;01mraise\u001b[39;00m \u001b[38;5;167;01mValueError\u001b[39;00m(\u001b[38;5;124m\"\u001b[39m\u001b[38;5;124mStop here\u001b[39m\u001b[38;5;124m\"\u001b[39m)\n",
      "\u001b[0;31mValueError\u001b[0m: Stop here"
     ]
    },
    {
     "name": "stdout",
     "output_type": "stream",
     "text": [
      "Press \"M\" to toggle between Intensity, RGB, and Classification modes\n",
      "Press \"Left\" and \"Right\" arrow keys to rotate the point cloud around Z-axis\n"
     ]
    }
   ],
   "source": [
    "raise ValueError(\"Stop here\")"
   ]
  },
  {
   "cell_type": "code",
   "execution_count": null,
   "metadata": {},
   "outputs": [
    {
     "name": "stdout",
     "output_type": "stream",
     "text": [
      "Gleis weit abseits_63f8947a-3f01-42c8-80b9-6766f7592c64.png\n"
     ]
    }
   ],
   "source": [
    "# Save the figure\n",
    "\n",
    "folder = \"schienenillustration_nolines\"\n",
    "filename = f\"{key}_{uuid.uuid4()}.png\"\n",
    "print(filename)\n",
    "if not os.path.exists(folder):\n",
    "    os.makedirs(folder)\n",
    "fig.savefig(os.path.join(folder, filename), dpi=300, bbox_inches='tight')"
   ]
  },
  {
   "cell_type": "code",
   "execution_count": null,
   "metadata": {},
   "outputs": [],
   "source": [
    "pair = np.vstack((cluster, cluster_other))\n",
    "pcd_clusters = o3d.geometry.PointCloud()\n",
    "pcd_clusters.points = o3d.utility.Vector3dVector(pair)\n",
    "pcd_clusters.paint_uniform_color([0, 0, 1])\n",
    "\n",
    "pcd_clustercenters = o3d.geometry.PointCloud()\n",
    "pcd_clustercenters.points = o3d.utility.Vector3dVector([clustercenter, clustercenter_other])\n",
    "pcd_clustercenters.paint_uniform_color([0, 1, 0])\n",
    "\n",
    "pcd_all = o3d.geometry.PointCloud()\n",
    "pcd_all.points = o3d.utility.Vector3dVector(xyz)\n",
    "pcd_all.paint_uniform_color([0.7, 0.7, 0.7])\n",
    "\n",
    "pcd_representive = o3d.geometry.PointCloud()\n",
    "pcd_representive.points = o3d.utility.Vector3dVector([representative_a, representative_b])\n",
    "pcd_representive.paint_uniform_color([1, 0, 0])\n",
    "\n",
    "mesh_frame = o3d.geometry.TriangleMesh.create_coordinate_frame(size=0.5, origin=[0, 0, 0])\n",
    "\n",
    "o3d.visualization.draw_geometries([pcd_all, pcd_clusters, mesh_frame, pcd_clustercenters, pcd_representive])"
   ]
  },
  {
   "cell_type": "markdown",
   "metadata": {},
   "source": [
    "# Experimentieren"
   ]
  },
  {
   "cell_type": "code",
   "execution_count": null,
   "metadata": {},
   "outputs": [],
   "source": []
  }
 ],
 "metadata": {
  "kernelspec": {
   "display_name": "points",
   "language": "python",
   "name": "points"
  },
  "language_info": {
   "codemirror_mode": {
    "name": "ipython",
    "version": 3
   },
   "file_extension": ".py",
   "mimetype": "text/x-python",
   "name": "python",
   "nbconvert_exporter": "python",
   "pygments_lexer": "ipython3",
   "version": "3.9.21"
  }
 },
 "nbformat": 4,
 "nbformat_minor": 2
}
