{
 "cells": [
  {
   "cell_type": "markdown",
   "metadata": {},
   "source": [
    "# T Profile als Templates"
   ]
  },
  {
   "cell_type": "code",
   "execution_count": 26,
   "metadata": {},
   "outputs": [],
   "source": [
    "import numpy as np\n",
    "import open3d as o3d\n",
    "import os"
   ]
  },
  {
   "cell_type": "code",
   "execution_count": 27,
   "metadata": {},
   "outputs": [],
   "source": [
    "# Profil ähnlich 54E4\n",
    "\n",
    "filename = \"T_profil_ähnlich_54E4.ply\"\n",
    "\n",
    "head_width = 0.067 \n",
    "head_height = 0.055\n",
    "shaft_width = 0.016 \n",
    "shaft_height = 0.1 \n",
    "length = 0.5\n",
    "\n",
    "step = 0.005"
   ]
  },
  {
   "cell_type": "code",
   "execution_count": 28,
   "metadata": {},
   "outputs": [],
   "source": [
    "# Profil ähnlich 54E4 aber breiterer Schaft\n",
    "\n",
    "filename = \"T_profil_ähnlich_54E4_breiter_schaft.ply\"\n",
    "\n",
    "head_width = 0.067 \n",
    "head_height = 0.055\n",
    "shaft_width = 0.03 \n",
    "shaft_height = 0.1 \n",
    "length = 0.5\n",
    "\n",
    "step = 0.005"
   ]
  },
  {
   "cell_type": "code",
   "execution_count": 29,
   "metadata": {},
   "outputs": [],
   "source": [
    "# head top\n",
    "x = np.arange(-head_width/2, head_width/2, step)\n",
    "y = np.arange(-length/2, length/2, step)\n",
    "\n",
    "X, Y = np.meshgrid(x, y)\n",
    "Z = np.zeros_like(X)\n",
    "\n",
    "head_top = np.vstack((X.ravel(), Y.ravel(), Z.ravel())).T"
   ]
  },
  {
   "cell_type": "code",
   "execution_count": 30,
   "metadata": {},
   "outputs": [],
   "source": [
    "# head left \n",
    "z = np.arange(-head_height, 0, step)\n",
    "\n",
    "Y, Z = np.meshgrid(y, z)\n",
    "X = np.ones_like(Y) * head_width / -2\n",
    "\n",
    "head_left = np.vstack((X.ravel(), Y.ravel(), Z.ravel())).T"
   ]
  },
  {
   "cell_type": "code",
   "execution_count": 31,
   "metadata": {},
   "outputs": [],
   "source": [
    "# head right\n",
    "X = X * -1\n",
    "head_right = np.vstack((X.ravel(), Y.ravel(), Z.ravel())).T"
   ]
  },
  {
   "cell_type": "code",
   "execution_count": 32,
   "metadata": {},
   "outputs": [],
   "source": [
    "# shaft left \n",
    "z = np.arange(-shaft_height - head_height, -head_height, step)\n",
    "Y, Z = np.meshgrid(y, z)\n",
    "X = np.ones_like(Y) * shaft_width / -2 \n",
    "\n",
    "shaft_left = np.vstack((X.ravel(), Y.ravel(), Z.ravel())).T \n",
    "\n",
    "# shaft right\n",
    "X = X * -1\n",
    "shaft_right = np.vstack((X.ravel(), Y.ravel(), Z.ravel())).T\n"
   ]
  },
  {
   "cell_type": "code",
   "execution_count": 33,
   "metadata": {},
   "outputs": [],
   "source": [
    "points = np.vstack((head_top, head_left, head_right, shaft_left, shaft_right))"
   ]
  },
  {
   "cell_type": "code",
   "execution_count": 34,
   "metadata": {},
   "outputs": [],
   "source": [
    "# Erstelle die Punktwolke mit open3d\n",
    "pcd = o3d.geometry.PointCloud()\n",
    "pcd.points = o3d.utility.Vector3dVector(points)\n",
    "\n",
    "# Visualisiere die Punktwolke\n",
    "o3d.visualization.draw_geometries([pcd])    "
   ]
  },
  {
   "cell_type": "code",
   "execution_count": 35,
   "metadata": {},
   "outputs": [
    {
     "data": {
      "text/plain": [
       "True"
      ]
     },
     "execution_count": 35,
     "metadata": {},
     "output_type": "execute_result"
    }
   ],
   "source": [
    "o3d.io.write_point_cloud(os.path.join(\"templates\", filename), pcd)"
   ]
  },
  {
   "cell_type": "code",
   "execution_count": null,
   "metadata": {},
   "outputs": [],
   "source": []
  }
 ],
 "metadata": {
  "kernelspec": {
   "display_name": "points",
   "language": "python",
   "name": "points"
  },
  "language_info": {
   "codemirror_mode": {
    "name": "ipython",
    "version": 3
   },
   "file_extension": ".py",
   "mimetype": "text/x-python",
   "name": "python",
   "nbconvert_exporter": "python",
   "pygments_lexer": "ipython3",
   "version": "3.9.21"
  }
 },
 "nbformat": 4,
 "nbformat_minor": 2
}
