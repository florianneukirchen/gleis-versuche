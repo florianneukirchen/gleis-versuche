{
 "cells": [
  {
   "cell_type": "markdown",
   "id": "a64cea7e",
   "metadata": {},
   "source": [
    "# Check der Spurweite"
   ]
  },
  {
   "cell_type": "code",
   "execution_count": 3,
   "id": "3a7b39cd",
   "metadata": {},
   "outputs": [],
   "source": [
    "import numpy as np\n",
    "import matplotlib.pyplot as plt\n",
    "import pandas as pd \n",
    "import seaborn as sns\n",
    "import geopandas as gpd\n",
    "import os"
   ]
  },
  {
   "cell_type": "code",
   "execution_count": 4,
   "id": "f7f0f644",
   "metadata": {},
   "outputs": [
    {
     "data": {
      "text/html": [
       "<div>\n",
       "<style scoped>\n",
       "    .dataframe tbody tr th:only-of-type {\n",
       "        vertical-align: middle;\n",
       "    }\n",
       "\n",
       "    .dataframe tbody tr th {\n",
       "        vertical-align: top;\n",
       "    }\n",
       "\n",
       "    .dataframe thead th {\n",
       "        text-align: right;\n",
       "    }\n",
       "</style>\n",
       "<table border=\"1\" class=\"dataframe\">\n",
       "  <thead>\n",
       "    <tr style=\"text-align: right;\">\n",
       "      <th></th>\n",
       "      <th>eig x</th>\n",
       "      <th>eig y</th>\n",
       "      <th>eig z</th>\n",
       "      <th>gauge</th>\n",
       "      <th>min points</th>\n",
       "      <th>zeta a</th>\n",
       "      <th>zeta b</th>\n",
       "      <th>geometry</th>\n",
       "    </tr>\n",
       "  </thead>\n",
       "  <tbody>\n",
       "    <tr>\n",
       "      <th>0</th>\n",
       "      <td>-0.659253</td>\n",
       "      <td>-0.751921</td>\n",
       "      <td>0.000098</td>\n",
       "      <td>1.434199</td>\n",
       "      <td>445</td>\n",
       "      <td>0.412587</td>\n",
       "      <td>0.726708</td>\n",
       "      <td>MULTIPOINT Z ((4475547.104 5341292.778 496.013...</td>\n",
       "    </tr>\n",
       "    <tr>\n",
       "      <th>1</th>\n",
       "      <td>-0.662848</td>\n",
       "      <td>-0.748701</td>\n",
       "      <td>0.008896</td>\n",
       "      <td>1.433986</td>\n",
       "      <td>451</td>\n",
       "      <td>-0.689441</td>\n",
       "      <td>-0.255172</td>\n",
       "      <td>MULTIPOINT Z ((4475547.331 5341293.035 496.012...</td>\n",
       "    </tr>\n",
       "    <tr>\n",
       "      <th>2</th>\n",
       "      <td>0.661145</td>\n",
       "      <td>0.750257</td>\n",
       "      <td>-0.001544</td>\n",
       "      <td>1.434691</td>\n",
       "      <td>448</td>\n",
       "      <td>-0.693252</td>\n",
       "      <td>-0.475862</td>\n",
       "      <td>MULTIPOINT Z ((4475546.822 5341292.457 496.015...</td>\n",
       "    </tr>\n",
       "    <tr>\n",
       "      <th>3</th>\n",
       "      <td>0.664815</td>\n",
       "      <td>0.746917</td>\n",
       "      <td>-0.011638</td>\n",
       "      <td>1.434298</td>\n",
       "      <td>465</td>\n",
       "      <td>-0.791411</td>\n",
       "      <td>-0.278912</td>\n",
       "      <td>MULTIPOINT Z ((4475546.329 5341291.9 496.019),...</td>\n",
       "    </tr>\n",
       "    <tr>\n",
       "      <th>4</th>\n",
       "      <td>-0.659378</td>\n",
       "      <td>-0.751807</td>\n",
       "      <td>0.002606</td>\n",
       "      <td>1.433074</td>\n",
       "      <td>456</td>\n",
       "      <td>0.438849</td>\n",
       "      <td>0.712575</td>\n",
       "      <td>MULTIPOINT Z ((4475544.776 5341290.139 496.029...</td>\n",
       "    </tr>\n",
       "  </tbody>\n",
       "</table>\n",
       "</div>"
      ],
      "text/plain": [
       "      eig x     eig y     eig z     gauge  min points    zeta a    zeta b  \\\n",
       "0 -0.659253 -0.751921  0.000098  1.434199         445  0.412587  0.726708   \n",
       "1 -0.662848 -0.748701  0.008896  1.433986         451 -0.689441 -0.255172   \n",
       "2  0.661145  0.750257 -0.001544  1.434691         448 -0.693252 -0.475862   \n",
       "3  0.664815  0.746917 -0.011638  1.434298         465 -0.791411 -0.278912   \n",
       "4 -0.659378 -0.751807  0.002606  1.433074         456  0.438849  0.712575   \n",
       "\n",
       "                                            geometry  \n",
       "0  MULTIPOINT Z ((4475547.104 5341292.778 496.013...  \n",
       "1  MULTIPOINT Z ((4475547.331 5341293.035 496.012...  \n",
       "2  MULTIPOINT Z ((4475546.822 5341292.457 496.015...  \n",
       "3  MULTIPOINT Z ((4475546.329 5341291.9 496.019),...  \n",
       "4  MULTIPOINT Z ((4475544.776 5341290.139 496.029...  "
      ]
     },
     "execution_count": 4,
     "metadata": {},
     "output_type": "execute_result"
    }
   ],
   "source": [
    "folder = \"/media/riannek/minimax/gleis/temp_run24\"\n",
    "filename = \"temp.gpkg\"\n",
    "\n",
    "gdf = gpd.read_file(os.path.join(folder, filename), layer=\"multipoints\")\n",
    "gdf.head()"
   ]
  },
  {
   "cell_type": "code",
   "execution_count": 6,
   "id": "ac8876c6",
   "metadata": {},
   "outputs": [
    {
     "data": {
      "text/html": [
       "<div>\n",
       "<style scoped>\n",
       "    .dataframe tbody tr th:only-of-type {\n",
       "        vertical-align: middle;\n",
       "    }\n",
       "\n",
       "    .dataframe tbody tr th {\n",
       "        vertical-align: top;\n",
       "    }\n",
       "\n",
       "    .dataframe thead th {\n",
       "        text-align: right;\n",
       "    }\n",
       "</style>\n",
       "<table border=\"1\" class=\"dataframe\">\n",
       "  <thead>\n",
       "    <tr style=\"text-align: right;\">\n",
       "      <th></th>\n",
       "      <th>eig x</th>\n",
       "      <th>eig y</th>\n",
       "      <th>eig z</th>\n",
       "      <th>gauge</th>\n",
       "      <th>min points</th>\n",
       "      <th>zeta a</th>\n",
       "      <th>zeta b</th>\n",
       "      <th>geometry</th>\n",
       "      <th>gauge diff</th>\n",
       "    </tr>\n",
       "  </thead>\n",
       "  <tbody>\n",
       "    <tr>\n",
       "      <th>0</th>\n",
       "      <td>-0.659253</td>\n",
       "      <td>-0.751921</td>\n",
       "      <td>0.000098</td>\n",
       "      <td>1.434199</td>\n",
       "      <td>445</td>\n",
       "      <td>0.412587</td>\n",
       "      <td>0.726708</td>\n",
       "      <td>MULTIPOINT Z ((4475547.104 5341292.778 496.013...</td>\n",
       "      <td>0.801012</td>\n",
       "    </tr>\n",
       "    <tr>\n",
       "      <th>1</th>\n",
       "      <td>-0.662848</td>\n",
       "      <td>-0.748701</td>\n",
       "      <td>0.008896</td>\n",
       "      <td>1.433986</td>\n",
       "      <td>451</td>\n",
       "      <td>-0.689441</td>\n",
       "      <td>-0.255172</td>\n",
       "      <td>MULTIPOINT Z ((4475547.331 5341293.035 496.012...</td>\n",
       "      <td>1.013816</td>\n",
       "    </tr>\n",
       "    <tr>\n",
       "      <th>2</th>\n",
       "      <td>0.661145</td>\n",
       "      <td>0.750257</td>\n",
       "      <td>-0.001544</td>\n",
       "      <td>1.434691</td>\n",
       "      <td>448</td>\n",
       "      <td>-0.693252</td>\n",
       "      <td>-0.475862</td>\n",
       "      <td>MULTIPOINT Z ((4475546.822 5341292.457 496.015...</td>\n",
       "      <td>0.309060</td>\n",
       "    </tr>\n",
       "    <tr>\n",
       "      <th>3</th>\n",
       "      <td>0.664815</td>\n",
       "      <td>0.746917</td>\n",
       "      <td>-0.011638</td>\n",
       "      <td>1.434298</td>\n",
       "      <td>465</td>\n",
       "      <td>-0.791411</td>\n",
       "      <td>-0.278912</td>\n",
       "      <td>MULTIPOINT Z ((4475546.329 5341291.9 496.019),...</td>\n",
       "      <td>0.701636</td>\n",
       "    </tr>\n",
       "    <tr>\n",
       "      <th>4</th>\n",
       "      <td>-0.659378</td>\n",
       "      <td>-0.751807</td>\n",
       "      <td>0.002606</td>\n",
       "      <td>1.433074</td>\n",
       "      <td>456</td>\n",
       "      <td>0.438849</td>\n",
       "      <td>0.712575</td>\n",
       "      <td>MULTIPOINT Z ((4475544.776 5341290.139 496.029...</td>\n",
       "      <td>1.926342</td>\n",
       "    </tr>\n",
       "  </tbody>\n",
       "</table>\n",
       "</div>"
      ],
      "text/plain": [
       "      eig x     eig y     eig z     gauge  min points    zeta a    zeta b  \\\n",
       "0 -0.659253 -0.751921  0.000098  1.434199         445  0.412587  0.726708   \n",
       "1 -0.662848 -0.748701  0.008896  1.433986         451 -0.689441 -0.255172   \n",
       "2  0.661145  0.750257 -0.001544  1.434691         448 -0.693252 -0.475862   \n",
       "3  0.664815  0.746917 -0.011638  1.434298         465 -0.791411 -0.278912   \n",
       "4 -0.659378 -0.751807  0.002606  1.433074         456  0.438849  0.712575   \n",
       "\n",
       "                                            geometry  gauge diff  \n",
       "0  MULTIPOINT Z ((4475547.104 5341292.778 496.013...    0.801012  \n",
       "1  MULTIPOINT Z ((4475547.331 5341293.035 496.012...    1.013816  \n",
       "2  MULTIPOINT Z ((4475546.822 5341292.457 496.015...    0.309060  \n",
       "3  MULTIPOINT Z ((4475546.329 5341291.9 496.019),...    0.701636  \n",
       "4  MULTIPOINT Z ((4475544.776 5341290.139 496.029...    1.926342  "
      ]
     },
     "execution_count": 6,
     "metadata": {},
     "output_type": "execute_result"
    }
   ],
   "source": [
    "normal_gauge = 1435 \n",
    "gdf[\"gauge diff\"] = ((gdf[\"gauge\"] * 1000) - normal_gauge).abs()\n",
    "gdf.head()"
   ]
  },
  {
   "cell_type": "code",
   "execution_count": 7,
   "id": "57771bb1",
   "metadata": {},
   "outputs": [
    {
     "data": {
      "text/plain": [
       "count    339210.000000\n",
       "mean          2.412220\n",
       "std           2.795376\n",
       "min           0.000014\n",
       "25%           0.703174\n",
       "50%           1.528885\n",
       "75%           3.102761\n",
       "max          24.993516\n",
       "Name: gauge diff, dtype: float64"
      ]
     },
     "execution_count": 7,
     "metadata": {},
     "output_type": "execute_result"
    }
   ],
   "source": [
    "gdf[\"gauge diff\"].describe()"
   ]
  },
  {
   "cell_type": "code",
   "execution_count": 8,
   "id": "a36162ac",
   "metadata": {},
   "outputs": [
    {
     "data": {
      "text/plain": [
       "<Axes: ylabel='Frequency'>"
      ]
     },
     "execution_count": 8,
     "metadata": {},
     "output_type": "execute_result"
    },
    {
     "data": {
      "image/png": "[encoded data removed]",
      "text/plain": [
       "<Figure size 640x480 with 1 Axes>"
      ]
     },
     "metadata": {},
     "output_type": "display_data"
    }
   ],
   "source": [
    "gdf[\"gauge diff\"].plot.hist(bins=50, edgecolor='black')"
   ]
  },
  {
   "cell_type": "code",
   "execution_count": 10,
   "id": "06fb5c5e",
   "metadata": {},
   "outputs": [
    {
     "data": {
      "text/plain": [
       "count    339210.000000\n",
       "mean       1436.277469\n",
       "std           3.464248\n",
       "min        1410.057229\n",
       "25%        1434.406325\n",
       "50%        1435.798040\n",
       "75%        1437.652210\n",
       "max        1459.993516\n",
       "Name: gauge mm, dtype: float64"
      ]
     },
     "execution_count": 10,
     "metadata": {},
     "output_type": "execute_result"
    }
   ],
   "source": [
    "gdf[\"gauge mm\"] = gdf[\"gauge\"] * 1000\n",
    "gdf[\"gauge mm\"].describe()"
   ]
  },
  {
   "cell_type": "code",
   "execution_count": 11,
   "id": "e6a3f3db",
   "metadata": {},
   "outputs": [
    {
     "data": {
      "text/plain": [
       "<Axes: ylabel='Frequency'>"
      ]
     },
     "execution_count": 11,
     "metadata": {},
     "output_type": "execute_result"
    },
    {
     "data": {
      "image/png": "[encoded data removed]",
      "text/plain": [
       "<Figure size 640x480 with 1 Axes>"
      ]
     },
     "metadata": {},
     "output_type": "display_data"
    }
   ],
   "source": [
    "gdf[\"gauge mm\"].plot.hist(bins=50, edgecolor='black')"
   ]
  },
  {
   "cell_type": "code",
   "execution_count": null,
   "id": "9f5112c3",
   "metadata": {},
   "outputs": [],
   "source": []
  }
 ],
 "metadata": {
  "kernelspec": {
   "display_name": "forge2",
   "language": "python",
   "name": "forge2"
  },
  "language_info": {
   "codemirror_mode": {
    "name": "ipython",
    "version": 3
   },
   "file_extension": ".py",
   "mimetype": "text/x-python",
   "name": "python",
   "nbconvert_exporter": "python",
   "pygments_lexer": "ipython3",
   "version": "3.9.21"
  }
 },
 "nbformat": 4,
 "nbformat_minor": 5
}
