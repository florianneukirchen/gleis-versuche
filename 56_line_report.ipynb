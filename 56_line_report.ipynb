{
 "cells": [
  {
   "cell_type": "code",
   "execution_count": 68,
   "id": "c1b3dde3",
   "metadata": {},
   "outputs": [],
   "source": [
    "import sys\n",
    "import os\n",
    "import numpy as np\n",
    "from osgeo import ogr \n",
    "from collections import deque\n",
    "import matplotlib.pyplot as plt\n",
    "import csv\n",
    "from scipy.ndimage import median_filter\n",
    "\n",
    "\n",
    "\n",
    "sys.path.append(\"/home/riannek/code/gleis/gleisachse\")\n",
    "from algs.gpkg import * \n",
    "from algs.growingline import *\n",
    "\n",
    "ogr.UseExceptions()"
   ]
  },
  {
   "cell_type": "code",
   "execution_count": 69,
   "id": "e473b87f",
   "metadata": {},
   "outputs": [],
   "source": [
    "ds = None"
   ]
  },
  {
   "cell_type": "code",
   "execution_count": 70,
   "id": "bf5bb043",
   "metadata": {},
   "outputs": [
    {
     "name": "stdout",
     "output_type": "stream",
     "text": [
      "['abseits', 'anfang weiche', 'central_points', 'kurve', 'needsfilter', 'templinelayer', 'viele', 'viele1', 'weiche', 'weiche2']\n"
     ]
    }
   ],
   "source": [
    "layer_name = \"central_points\"\n",
    "\n",
    "folder = \"/media/riannek/minimax/gleis/\"\n",
    "\n",
    "ds = None \n",
    "\n",
    "import shutil \n",
    "file = shutil.copyfile(os.path.join(folder, \"stage3vers.gpkg\"), os.path.join(folder, \"stage3tmp.gpkg\")) # src, dst\n",
    "\n",
    "ds = ogr.Open(file, 1)\n",
    "\n",
    "layers = []\n",
    "for i in range(ds.GetLayerCount()):\n",
    "    layer = ds.GetLayer(i)\n",
    "    layers.append(layer.GetName())\n",
    "layers.sort()\n",
    "print(layers)\n",
    "\n",
    "layer = ds.GetLayerByName(layer_name)"
   ]
  },
  {
   "cell_type": "code",
   "execution_count": 71,
   "id": "f021593a",
   "metadata": {},
   "outputs": [
    {
     "data": {
      "text/plain": [
       "0"
      ]
     },
     "execution_count": 71,
     "metadata": {},
     "output_type": "execute_result"
    }
   ],
   "source": [
    "# Remove skip field if it exists\n",
    "field_index = layer.GetLayerDefn().GetFieldIndex(\"skip\")\n",
    "if field_index >= 0:\n",
    "    layer.DeleteField(field_index)\n",
    "\n",
    "# Add \"skip\" field \n",
    "field = ogr.FieldDefn(\"skip\", ogr.OFTInteger)\n",
    "layer.CreateField(field)"
   ]
  },
  {
   "cell_type": "code",
   "execution_count": 72,
   "id": "9fc01447",
   "metadata": {},
   "outputs": [],
   "source": [
    "report = \"report_run24.csv\"\n",
    "exists = os.path.exists(report)"
   ]
  },
  {
   "cell_type": "code",
   "execution_count": 73,
   "id": "ebf1b6ff",
   "metadata": {},
   "outputs": [],
   "source": [
    "report_file = open(report, \"a\")\n",
    "writer = csv.writer(report_file)\n",
    "if not exists: \n",
    "    writer.writerow([\"layer\", \"points\", \"mean\", \"std\", \"min\", \"max\", \"used\"])\n"
   ]
  },
  {
   "cell_type": "code",
   "execution_count": 74,
   "id": "a2e97bb1",
   "metadata": {},
   "outputs": [],
   "source": [
    "linelayer = new_line_layer(ds, layer.GetSpatialRef(), None)\n",
    "switchlayer = new_switch_layer(ds, layer.GetSpatialRef(), None)"
   ]
  },
  {
   "cell_type": "code",
   "execution_count": 75,
   "id": "1b3960e4",
   "metadata": {},
   "outputs": [],
   "source": [
    "queue = deque()"
   ]
  },
  {
   "cell_type": "code",
   "execution_count": 76,
   "id": "be737a7c",
   "metadata": {},
   "outputs": [
    {
     "data": {
      "text/plain": [
       "339210"
      ]
     },
     "execution_count": 76,
     "metadata": {},
     "output_type": "execute_result"
    }
   ],
   "source": [
    "\n",
    "layer.GetFeatureCount()"
   ]
  },
  {
   "cell_type": "code",
   "execution_count": 77,
   "id": "84f36b61",
   "metadata": {},
   "outputs": [],
   "source": [
    "dist_list = []"
   ]
  },
  {
   "cell_type": "markdown",
   "id": "f302eab0",
   "metadata": {},
   "source": [
    "## Schleife"
   ]
  },
  {
   "cell_type": "code",
   "execution_count": 78,
   "id": "57752af9",
   "metadata": {},
   "outputs": [
    {
     "name": "stdout",
     "output_type": "stream",
     "text": [
      "Added line with 2321 m\n",
      "pop 111411\n",
      "Added line with 727 m\n",
      "Added line with 2253 m\n",
      "pop 55747\n",
      "Added line with 1613 m\n",
      "pop 8871\n",
      "Added line with 216 m\n",
      "pop 257107\n",
      "Added line with 9359 m\n",
      "pop 149614\n",
      "Added line with 210 m\n",
      "pop 305655\n",
      "Added line with 4538 m\n",
      "pop 203077\n",
      "pop 203355\n",
      "Added line with 208 m\n",
      "pop 24924\n",
      "pop 24910\n",
      "Added line with 148 m\n",
      "pop 10180\n",
      "Added line with 57 m\n",
      "pop 338287\n",
      "Added line with 81 m\n",
      "pop 63279\n",
      "Added line with 253 m\n",
      "Added line with 5801 m\n",
      "pop 33303\n",
      "Added line with 391 m\n",
      "Added line with 4510 m\n",
      "pop 174250\n",
      "Added line with 113 m\n",
      "pop 306639\n",
      "Added line with 46 m\n",
      "pop 203037\n",
      "pop 162634\n",
      "Added line with 3471 m\n",
      "pop 203074\n",
      "Added line with 1216 m\n",
      "pop 219002\n",
      "pop 218932\n",
      "Added line with 154 m\n",
      "pop 54924\n",
      "Added line with 233 m\n",
      "Added line with 495 m\n",
      "pop 87417\n",
      "Added line with 27 m\n",
      "pop 15660\n",
      "Added line with 183 m\n",
      "pop 213854\n",
      "Added line with 55 m\n",
      "pop 148604\n",
      "Added line with 62 m\n",
      "pop 309461\n",
      "Added line with 728 m\n",
      "Added line with 439 m\n",
      "pop 250747\n",
      "Added line with 57 m\n",
      "pop 87393\n",
      "pop 87451\n",
      "Added line with 395 m\n",
      "pop 219766\n",
      "Added line with 177 m\n",
      "Added line with 494 m\n",
      "pop 33771\n",
      "Added line with 92 m\n",
      "pop 333554\n",
      "Added line with 2432 m\n",
      "Added line with 113 m\n",
      "pop 10375\n",
      "Added line with 362 m\n",
      "pop 80872\n",
      "Added line with 142 m\n",
      "pop 104571\n",
      "Added line with 35 m\n",
      "pop 132976\n",
      "Added line with 81 m\n",
      "Added line with 902 m\n",
      "pop 227080\n",
      "pop 185661\n",
      "Added line with 42 m\n",
      "pop 65831\n",
      "Added line with 569 m\n",
      "pop 316116\n",
      "Added line with 1439 m\n",
      "Added line with 267 m\n",
      "pop 78941\n",
      "Added line with 61 m\n",
      "pop 208355\n",
      "pop 5686\n",
      "Added line with 52 m\n",
      "pop 244608\n",
      "Added line with 186 m\n",
      "Added line with 896 m\n",
      "pop 106742\n",
      "Added line with 74 m\n",
      "pop 209160\n",
      "pop 209210\n",
      "Added line with 141 m\n",
      "Added line with 827 m\n",
      "Added line with 1032 m\n",
      "pop 142812\n",
      "Added line with 690 m\n",
      "Added line with 783 m\n",
      "pop 291302\n",
      "pop 291389\n",
      "Added line with 102 m\n",
      "pop 135048\n",
      "Added line with 93 m\n",
      "pop 284777\n",
      "pop 284772\n",
      "Added line with 275 m\n",
      "pop 4686\n",
      "Added line with 135 m\n",
      "Added line with 2300 m\n",
      "pop 291969\n",
      "Added line with 244 m\n",
      "pop 54922\n",
      "pop 55028\n",
      "Added line with 21 m\n",
      "pop 5215\n",
      "pop 105399\n",
      "Added line with 326 m\n",
      "pop 30642\n",
      "Added line with 30 m\n",
      "pop 279715\n",
      "Added line with 19 m\n",
      "Added line with 382 m\n",
      "Added line with 406 m\n",
      "Added line with 221 m\n",
      "Added line with 111 m\n",
      "pop 285065\n",
      "Added line with 146 m\n",
      "pop 285131\n",
      "Added line with 21 m\n",
      "Added line with 46 m\n",
      "Added line with 81 m\n",
      "pop 8614\n",
      "Added line with 63 m\n",
      "pop 24881\n",
      "pop 24898\n",
      "Added line with 80 m\n",
      "pop 24833\n",
      "pop 321686\n",
      "Added line with 59 m\n",
      "pop 24820\n",
      "Added line with 33 m\n",
      "pop 33535\n",
      "Added line with 427 m\n",
      "pop 309410\n",
      "pop 309439\n",
      "Added line with 107 m\n",
      "Added line with 46 m\n",
      "pop 160398\n",
      "pop 13859\n",
      "Added line with 101 m\n",
      "pop 244919\n",
      "Added line with 34 m\n",
      "pop 84723\n",
      "Added line with 97 m\n",
      "pop 9758\n",
      "pop 9839\n",
      "Added line with 60 m\n",
      "Added line with 51 m\n",
      "Added line with 36 m\n",
      "Added line with 29 m\n",
      "Added line with 487 m\n",
      "pop 227104\n",
      "pop 227065\n",
      "Added line with 43 m\n",
      "pop 65062\n",
      "pop 209077\n",
      "Added line with 92 m\n",
      "pop 142818\n",
      "pop 142813\n",
      "Added line with 292 m\n",
      "pop 12736\n",
      "Added line with 19 m\n",
      "pop 209300\n",
      "pop 209161\n",
      "Added line with 64 m\n",
      "Added line with 145 m\n",
      "pop 158299\n",
      "pop 158212\n",
      "Added line with 49 m\n",
      "Added line with 54 m\n",
      "pop 250717\n",
      "pop 15690\n",
      "pop 15691\n",
      "Added line with 953 m\n",
      "Added line with 111 m\n",
      "pop 271508\n",
      "pop 80867\n",
      "pop 80884\n",
      "Added line with 368 m\n",
      "Added line with 1381 m\n",
      "Added line with 403 m\n",
      "Added line with 400 m\n",
      "Added line with 149 m\n",
      "pop 278190\n",
      "Added line with 64 m\n",
      "pop 296825\n",
      "Added line with 120 m\n",
      "pop 169565\n",
      "Added line with 110 m\n",
      "Added line with 35 m\n",
      "Added line with 102 m\n",
      "Added line with 231 m\n",
      "pop 24456\n",
      "Added line with 470 m\n",
      "pop 114208\n",
      "pop 114115\n",
      "Added line with 34 m\n",
      "pop 39676\n",
      "Added line with 317 m\n",
      "Added line with 65 m\n",
      "pop 275331\n",
      "pop 111494\n",
      "pop 275529\n",
      "pop 111432\n",
      "Added line with 19 m\n",
      "Added line with 109 m\n",
      "pop 78993\n",
      "pop 78967\n",
      "Added line with 82 m\n",
      "pop 33423\n",
      "pop 182398\n",
      "pop 33419\n",
      "pop 182384\n",
      "Added line with 162 m\n",
      "pop 179571\n",
      "pop 181713\n",
      "Added line with 25 m\n",
      "pop 181816\n",
      "Added line with 176 m\n",
      "pop 260632\n",
      "Added line with 317 m\n",
      "Added line with 82 m\n",
      "pop 208363\n",
      "pop 41297\n",
      "pop 208349\n",
      "pop 41433\n",
      "Added line with 289 m\n",
      "pop 100288\n",
      "pop 100297\n",
      "Added line with 24 m\n",
      "Added line with 82 m\n",
      "pop 317527\n",
      "pop 109672\n",
      "pop 317504\n",
      "pop 109896\n",
      "Added line with 103 m\n",
      "Added line with 58 m\n",
      "Added line with 31 m\n",
      "pop 179554\n",
      "pop 179563\n",
      "Added line with 90 m\n",
      "Added line with 126 m\n",
      "pop 296765\n",
      "pop 296785\n",
      "Added line with 137 m\n",
      "Added line with 14 m\n",
      "Added line with 21 m\n",
      "pop 157753\n",
      "Added line with 170 m\n",
      "Added line with 23 m\n",
      "Added line with 55 m\n",
      "Added line with 81 m\n",
      "pop 306606\n",
      "pop 305656\n",
      "pop 306599\n",
      "Added line with 69 m\n",
      "pop 261437\n",
      "pop 114170\n",
      "pop 261425\n",
      "pop 114206\n",
      "Added line with 25 m\n",
      "Added line with 38 m\n",
      "Added line with 13 m\n",
      "Added line with 48 m\n",
      "Added line with 19 m\n",
      "Added line with 17 m\n",
      "Added line with 27 m\n",
      "pop 319413\n",
      "pop 319369\n",
      "Added line with 24 m\n",
      "Added line with 20 m\n",
      "pop 165791\n",
      "Added line with 21 m\n",
      "Added line with 17 m\n",
      "pop 308346\n",
      "pop 308431\n",
      "Added line with 11 m\n",
      "Added line with 117 m\n",
      "Added line with 65 m\n",
      "Added line with 34 m\n",
      "pop 210582\n",
      "Added line with 32 m\n",
      "Added line with 29 m\n",
      "Added line with 28 m\n",
      "pop 219054\n",
      "Added line with 7 m\n",
      "Added line with 18 m\n",
      "Added line with 8 m\n",
      "Added line with 16 m\n"
     ]
    }
   ],
   "source": [
    "while layer.GetFeatureCount() > 0:\n",
    "    # print(\"feature count:\", layer.GetFeatureCount())\n",
    "    \n",
    "    layer.SetAttributeFilter(\"skip IS NULL\")\n",
    "    feature = layer.GetNextFeature()\n",
    "    layer.SetAttributeFilter(None)\n",
    "    if feature is None:\n",
    "        break\n",
    "    active_line = GrowingLine.from_feature(feature)\n",
    "\n",
    "    while True:\n",
    "        try:\n",
    "            geom, next_lines = active_line.grow(layer, switchlayer)\n",
    "        except StartInSwitchError:\n",
    "            # print(\"#########\")\n",
    "\n",
    "            # Skip this feature in the next iteration\n",
    "            feature.SetField(\"skip\", 2)\n",
    "            layer.SetFeature(feature)\n",
    "            break\n",
    "\n",
    "        if geom is not None:\n",
    "            # used = active_line.used_track() # 1 for used track, 0 otherwise\n",
    "            # add_to_layer(linelayer, geom, used=used)\n",
    "            print(f\"Added line with {round(geom.Length())} m\")\n",
    "            points = np.array(active_line.points)\n",
    "            distances = distance_points_to_line(points, points[0], (points[-1] - points[0]))\n",
    "            rolling_median = median_filter(distances, size=7, mode='reflect')\n",
    "            distances_corrected = np.abs(distances - rolling_median)\n",
    "            distances_corrected[0] = 0\n",
    "            distances_corrected[-1] = 0\n",
    "            dist_list.append(distances_corrected)\n",
    "            writer.writerow([\n",
    "                layer_name,\n",
    "                len(points),\n",
    "                np.mean(distances_corrected),\n",
    "                np.std(distances_corrected),\n",
    "                np.min(distances_corrected),\n",
    "                np.max(distances_corrected),\n",
    "                active_line.used_track()\n",
    "            ])\n",
    "\n",
    "        queue.extend(next_lines)\n",
    "        if len(queue) == 0:\n",
    "            break\n",
    "        active_line = queue.popleft()\n",
    "        print(\"pop\", active_line.head_fid)\n"
   ]
  },
  {
   "cell_type": "code",
   "execution_count": 79,
   "id": "310cab73",
   "metadata": {},
   "outputs": [],
   "source": [
    "ds = None"
   ]
  },
  {
   "cell_type": "code",
   "execution_count": 80,
   "id": "82008a79",
   "metadata": {},
   "outputs": [],
   "source": [
    "report_file.close()"
   ]
  },
  {
   "cell_type": "code",
   "execution_count": 81,
   "id": "90b72a8a",
   "metadata": {},
   "outputs": [],
   "source": [
    "np.savez(\"distances.npz\", *dist_list)"
   ]
  },
  {
   "cell_type": "markdown",
   "id": "d8378ee7",
   "metadata": {},
   "source": [
    "## STOP HERE"
   ]
  },
  {
   "cell_type": "code",
   "execution_count": 82,
   "id": "f4349ecc",
   "metadata": {},
   "outputs": [
    {
     "ename": "ValueError",
     "evalue": "Stop here",
     "output_type": "error",
     "traceback": [
      "\u001b[0;31m---------------------------------------------------------------------------\u001b[0m",
      "\u001b[0;31mValueError\u001b[0m                                Traceback (most recent call last)",
      "Cell \u001b[0;32mIn[82], line 1\u001b[0m\n\u001b[0;32m----> 1\u001b[0m \u001b[38;5;28;01mraise\u001b[39;00m \u001b[38;5;167;01mValueError\u001b[39;00m(\u001b[38;5;124m\"\u001b[39m\u001b[38;5;124mStop here\u001b[39m\u001b[38;5;124m\"\u001b[39m)\n",
      "\u001b[0;31mValueError\u001b[0m: Stop here"
     ]
    }
   ],
   "source": [
    "raise ValueError(\"Stop here\")"
   ]
  },
  {
   "cell_type": "code",
   "execution_count": null,
   "id": "0f2bfee5",
   "metadata": {},
   "outputs": [
    {
     "data": {
      "text/plain": [
       "(array([80., 18., 11.,  9.,  8.,  6.,  5.,  4.,  5.,  1.,  2.,  0.,  0.,\n",
       "         0.,  0.,  1.,  0.,  0.,  0.,  0.,  0.,  0.,  0.,  0.,  0.,  0.,\n",
       "         0.,  0.,  1.,  1.,  0.,  0.,  3.,  0.,  0.,  0.,  1.,  0.,  0.,\n",
       "         0.,  0.,  0.,  0.,  0.,  0.,  0.,  1.,  0.,  0.,  0.,  0.,  0.,\n",
       "         0.,  0.,  0.,  0.,  0.,  0.,  0.,  1.,  0.,  0.,  0.,  0.,  0.,\n",
       "         1.,  0.,  0.,  0.,  0.,  0.,  1.,  0.,  0.,  0.,  0.,  0.,  0.,\n",
       "         0.,  0.,  0.,  0.,  0.,  0.,  0.,  0.,  0.,  0.,  0.,  0.,  0.,\n",
       "         0.,  0.,  0.,  0.,  0.,  0.,  0.,  0.,  1.]),\n",
       " array([0.        , 0.00014184, 0.00028368, 0.00042551, 0.00056735,\n",
       "        0.00070919, 0.00085103, 0.00099287, 0.0011347 , 0.00127654,\n",
       "        0.00141838, 0.00156022, 0.00170206, 0.00184389, 0.00198573,\n",
       "        0.00212757, 0.00226941, 0.00241125, 0.00255308, 0.00269492,\n",
       "        0.00283676, 0.0029786 , 0.00312044, 0.00326227, 0.00340411,\n",
       "        0.00354595, 0.00368779, 0.00382963, 0.00397147, 0.0041133 ,\n",
       "        0.00425514, 0.00439698, 0.00453882, 0.00468066, 0.00482249,\n",
       "        0.00496433, 0.00510617, 0.00524801, 0.00538985, 0.00553168,\n",
       "        0.00567352, 0.00581536, 0.0059572 , 0.00609904, 0.00624087,\n",
       "        0.00638271, 0.00652455, 0.00666639, 0.00680823, 0.00695006,\n",
       "        0.0070919 , 0.00723374, 0.00737558, 0.00751742, 0.00765925,\n",
       "        0.00780109, 0.00794293, 0.00808477, 0.00822661, 0.00836844,\n",
       "        0.00851028, 0.00865212, 0.00879396, 0.0089358 , 0.00907763,\n",
       "        0.00921947, 0.00936131, 0.00950315, 0.00964499, 0.00978682,\n",
       "        0.00992866, 0.0100705 , 0.01021234, 0.01035418, 0.01049602,\n",
       "        0.01063785, 0.01077969, 0.01092153, 0.01106337, 0.01120521,\n",
       "        0.01134704, 0.01148888, 0.01163072, 0.01177256, 0.0119144 ,\n",
       "        0.01205623, 0.01219807, 0.01233991, 0.01248175, 0.01262359,\n",
       "        0.01276542, 0.01290726, 0.0130491 , 0.01319094, 0.01333278,\n",
       "        0.01347461, 0.01361645, 0.01375829, 0.01390013, 0.01404197,\n",
       "        0.0141838 ]),\n",
       " <BarContainer object of 100 artists>)"
      ]
     },
     "execution_count": 67,
     "metadata": {},
     "output_type": "execute_result"
    },
    {
     "data": {
      "image/png": "[encoded data removed]",
      "text/plain": [
       "<Figure size 1000x500 with 1 Axes>"
      ]
     },
     "metadata": {},
     "output_type": "display_data"
    }
   ],
   "source": [
    "linedist = dist_list[1]\n",
    "\n",
    "fig, ax = plt.subplots(figsize=(10, 5))\n",
    "ax.hist(linedist, bins=100, color='blue', alpha=0.7)"
   ]
  },
  {
   "cell_type": "code",
   "execution_count": 83,
   "id": "6fb11965",
   "metadata": {},
   "outputs": [
    {
     "data": {
      "text/plain": [
       "array([0.00000000e+00, 9.26466911e-03, 1.02093845e-02, 4.09325211e-03,\n",
       "       0.00000000e+00, 0.00000000e+00, 0.00000000e+00, 0.00000000e+00,\n",
       "       0.00000000e+00, 0.00000000e+00, 0.00000000e+00, 0.00000000e+00,\n",
       "       0.00000000e+00, 2.09158969e-05, 4.75212766e-04, 1.33578517e-04,\n",
       "       0.00000000e+00, 0.00000000e+00, 0.00000000e+00, 0.00000000e+00,\n",
       "       6.00326347e-04, 5.49923645e-04, 5.94157285e-05, 2.82714373e-04,\n",
       "       1.17416793e-03, 8.13970094e-05, 8.13970094e-05, 0.00000000e+00,\n",
       "       0.00000000e+00, 0.00000000e+00, 0.00000000e+00, 0.00000000e+00,\n",
       "       2.65399707e-04, 2.65399707e-04, 2.27458928e-04, 9.23743690e-06,\n",
       "       2.36696365e-04, 0.00000000e+00, 0.00000000e+00, 0.00000000e+00,\n",
       "       1.51437431e-04, 1.51437431e-04, 4.93056000e-05, 0.00000000e+00,\n",
       "       4.93056000e-05, 3.43228583e-04, 4.77946005e-04, 4.15389174e-04,\n",
       "       0.00000000e+00, 2.43739977e-04, 4.68121170e-04, 0.00000000e+00,\n",
       "       6.40604287e-05, 9.02225134e-04, 1.21799943e-03, 8.08860800e-04,\n",
       "       2.68722500e-04, 3.06583529e-04, 6.79621729e-04, 0.00000000e+00,\n",
       "       1.41838041e-02, 1.44811601e-03, 5.75342339e-04, 2.60883158e-04,\n",
       "       0.00000000e+00, 5.75342339e-04, 0.00000000e+00, 6.26267265e-04,\n",
       "       8.88804686e-04, 1.24546883e-03, 0.00000000e+00, 6.90160803e-04,\n",
       "       9.90723477e-04, 7.86398168e-04, 0.00000000e+00, 0.00000000e+00,\n",
       "       0.00000000e+00, 0.00000000e+00, 0.00000000e+00, 0.00000000e+00,\n",
       "       7.63305501e-04, 6.52455633e-04, 1.36009218e-03, 3.38917956e-04,\n",
       "       1.58669183e-04, 8.36396434e-04, 2.35917724e-04, 3.25947483e-04,\n",
       "       0.00000000e+00, 1.84702201e-04, 2.26066816e-04, 2.26066816e-04,\n",
       "       0.00000000e+00, 0.00000000e+00, 4.54007950e-04, 4.08943673e-04,\n",
       "       4.55470365e-04, 0.00000000e+00, 0.00000000e+00, 0.00000000e+00,\n",
       "       0.00000000e+00, 0.00000000e+00, 0.00000000e+00, 1.17686340e-03,\n",
       "       1.11973995e-03, 0.00000000e+00, 3.39811692e-04, 3.12631326e-04,\n",
       "       4.15005100e-04, 4.43292944e-05, 4.43292944e-05, 8.49699006e-03,\n",
       "       7.95529910e-04, 4.11505368e-03, 1.02314231e-03, 1.07499357e-03,\n",
       "       1.02314231e-03, 0.00000000e+00, 4.39666241e-04, 0.00000000e+00,\n",
       "       4.39666241e-04, 0.00000000e+00, 8.33273863e-05, 8.33273863e-05,\n",
       "       2.17828414e-03, 4.55743925e-03, 4.64966812e-03, 5.16694702e-03,\n",
       "       6.62628481e-03, 4.67003767e-03, 1.51875970e-03, 0.00000000e+00,\n",
       "       8.21304557e-04, 8.87279272e-04, 0.00000000e+00, 0.00000000e+00,\n",
       "       0.00000000e+00, 0.00000000e+00, 0.00000000e+00, 0.00000000e+00,\n",
       "       0.00000000e+00, 0.00000000e+00, 0.00000000e+00, 0.00000000e+00,\n",
       "       2.13899015e-04, 1.90592607e-04, 1.10930396e-04, 5.04052056e-04,\n",
       "       6.42304131e-05, 1.95917992e-04, 3.63777298e-04, 6.00269877e-04,\n",
       "       4.62530880e-05, 4.22755529e-04, 1.15768558e-03, 9.08046391e-04,\n",
       "       0.00000000e+00, 0.00000000e+00, 0.00000000e+00, 0.00000000e+00,\n",
       "       0.00000000e+00])"
      ]
     },
     "execution_count": 83,
     "metadata": {},
     "output_type": "execute_result"
    }
   ],
   "source": [
    "linedist "
   ]
  },
  {
   "cell_type": "code",
   "execution_count": null,
   "id": "087df1ad",
   "metadata": {},
   "outputs": [
    {
     "name": "stdout",
     "output_type": "stream",
     "text": [
      "6.5373792594158795\n"
     ]
    }
   ],
   "source": [
    "geom = active_line.get_linestring()\n",
    "print(geom.Length())\n",
    "\n",
    "if geom.Length() > 5:\n",
    "    add_to_layer(linelayer, geom)\n"
   ]
  },
  {
   "cell_type": "code",
   "execution_count": null,
   "id": "d5e31379",
   "metadata": {},
   "outputs": [],
   "source": [
    "layer.SetAttributeFilter(None)\n",
    "feature = layer.GetFeature(210352)\n",
    "feature  "
   ]
  },
  {
   "cell_type": "code",
   "execution_count": null,
   "id": "0c0c1958",
   "metadata": {},
   "outputs": [
    {
     "name": "stdout",
     "output_type": "stream",
     "text": [
      "0\n"
     ]
    }
   ],
   "source": [
    "print(len(active_line.switch))"
   ]
  },
  {
   "cell_type": "code",
   "execution_count": null,
   "id": "9b9204a1",
   "metadata": {},
   "outputs": [
    {
     "data": {
      "text/plain": [
       "[]"
      ]
     },
     "execution_count": 318,
     "metadata": {},
     "output_type": "execute_result"
    }
   ],
   "source": [
    "active_line.switch "
   ]
  },
  {
   "cell_type": "code",
   "execution_count": null,
   "id": "841aedfd",
   "metadata": {},
   "outputs": [
    {
     "data": {
      "text/plain": [
       "[array([4.47386367e+06, 5.33619907e+06, 5.16786670e+02]),\n",
       " array([4.47386389e+06, 5.33619810e+06, 5.16788972e+02]),\n",
       " array([4.47386408e+06, 5.33619719e+06, 5.16793189e+02]),\n",
       " array([4.47386424e+06, 5.33619647e+06, 5.16796515e+02]),\n",
       " array([4.47386439e+06, 5.33619578e+06, 5.16799393e+02]),\n",
       " array([4.47386459e+06, 5.33619489e+06, 5.16803550e+02])]"
      ]
     },
     "execution_count": 802,
     "metadata": {},
     "output_type": "execute_result"
    }
   ],
   "source": [
    "active_line.switch[2].points  "
   ]
  },
  {
   "cell_type": "code",
   "execution_count": null,
   "id": "0fe5d165",
   "metadata": {},
   "outputs": [
    {
     "name": "stdout",
     "output_type": "stream",
     "text": [
      "1\n"
     ]
    }
   ],
   "source": [
    "queue.extend(active_line.switch)\n",
    "print(len(queue))"
   ]
  },
  {
   "cell_type": "code",
   "execution_count": null,
   "id": "c17b05d3",
   "metadata": {},
   "outputs": [],
   "source": [
    "active_line = queue.popleft()"
   ]
  },
  {
   "cell_type": "code",
   "execution_count": null,
   "id": "38a38a64",
   "metadata": {},
   "outputs": [
    {
     "data": {
      "text/plain": [
       "[<matplotlib.lines.Line2D at 0x7fb2fa8d1e20>]"
      ]
     },
     "execution_count": 303,
     "metadata": {},
     "output_type": "execute_result"
    },
    {
     "data": {
      "image/png": "[encoded data removed]",
      "text/plain": [
       "<Figure size 640x480 with 1 Axes>"
      ]
     },
     "metadata": {},
     "output_type": "display_data"
    }
   ],
   "source": [
    "foo = np.array(active_line.points)\n",
    "foo = foo[:,1] \n",
    "x = np.arange(len(foo))\n",
    "fig, ax = plt.subplots()\n",
    "ax.plot(x, foo)"
   ]
  },
  {
   "cell_type": "code",
   "execution_count": null,
   "id": "9e336a44",
   "metadata": {},
   "outputs": [
    {
     "data": {
      "text/plain": [
       "<matplotlib.collections.PathCollection at 0x7fb2f9b59f70>"
      ]
     },
     "execution_count": 804,
     "metadata": {},
     "output_type": "execute_result"
    },
    {
     "data": {
      "image/png": "[encoded data removed]",
      "text/plain": [
       "<Figure size 640x480 with 1 Axes>"
      ]
     },
     "metadata": {},
     "output_type": "display_data"
    }
   ],
   "source": [
    "fig, ax = plt.subplots()\n",
    "foo = np.array(active_line.points)\n",
    "x = foo[:,0]\n",
    "y = foo[:,1]\n",
    "ax.scatter(x, y, c='b', s=1)\n",
    "\n",
    "foo = np.array(active_line.switch[0].points)  \n",
    "x = foo[:,0]\n",
    "y = foo[:,1]\n",
    "ax.scatter(x, y, c='r', s=1)\n",
    "\n",
    "foo = np.array(active_line.switch[1].points)  \n",
    "x = foo[:,0]\n",
    "y = foo[:,1]\n",
    "ax.scatter(x, y, c='g', s=1)\n",
    "\n",
    "foo = np.array(active_line.switch[2].points)  \n",
    "x = foo[:,0]\n",
    "y = foo[:,1]\n",
    "ax.scatter(x, y, c='b', s=1)"
   ]
  },
  {
   "cell_type": "code",
   "execution_count": null,
   "id": "d0455130",
   "metadata": {},
   "outputs": [
    {
     "ename": "TypeError",
     "evalue": "in method 'Layer_GetFeature', argument 1 of type 'OGRLayerShadow *'",
     "output_type": "error",
     "traceback": [
      "\u001b[0;31m---------------------------------------------------------------------------\u001b[0m",
      "\u001b[0;31mTypeError\u001b[0m                                 Traceback (most recent call last)",
      "Cell \u001b[0;32mIn[13], line 1\u001b[0m\n\u001b[0;32m----> 1\u001b[0m feature \u001b[38;5;241m=\u001b[39m \u001b[43mlayer\u001b[49m\u001b[38;5;241;43m.\u001b[39;49m\u001b[43mGetFeature\u001b[49m\u001b[43m(\u001b[49m\u001b[38;5;241;43m17\u001b[39;49m\u001b[43m)\u001b[49m\n",
      "File \u001b[0;32m~/miniconda3/envs/points/lib/python3.9/site-packages/osgeo/ogr.py:1020\u001b[0m, in \u001b[0;36mLayer.GetFeature\u001b[0;34m(self, *args)\u001b[0m\n\u001b[1;32m    993\u001b[0m \u001b[38;5;28;01mdef\u001b[39;00m\u001b[38;5;250m \u001b[39m\u001b[38;5;21mGetFeature\u001b[39m(\u001b[38;5;28mself\u001b[39m, \u001b[38;5;241m*\u001b[39margs):\n\u001b[1;32m    994\u001b[0m \u001b[38;5;250m    \u001b[39m\u001b[38;5;124mr\u001b[39m\u001b[38;5;124;03m\"\"\"\u001b[39;00m\n\u001b[1;32m    995\u001b[0m \u001b[38;5;124;03m    GetFeature(Layer self, GIntBig fid) -> Feature\u001b[39;00m\n\u001b[1;32m    996\u001b[0m \n\u001b[0;32m   (...)\u001b[0m\n\u001b[1;32m   1018\u001b[0m \n\u001b[1;32m   1019\u001b[0m \u001b[38;5;124;03m    \"\"\"\u001b[39;00m\n\u001b[0;32m-> 1020\u001b[0m     \u001b[38;5;28;01mreturn\u001b[39;00m \u001b[43m_ogr\u001b[49m\u001b[38;5;241;43m.\u001b[39;49m\u001b[43mLayer_GetFeature\u001b[49m\u001b[43m(\u001b[49m\u001b[38;5;28;43mself\u001b[39;49m\u001b[43m,\u001b[49m\u001b[43m \u001b[49m\u001b[38;5;241;43m*\u001b[39;49m\u001b[43margs\u001b[49m\u001b[43m)\u001b[49m\n",
      "\u001b[0;31mTypeError\u001b[0m: in method 'Layer_GetFeature', argument 1 of type 'OGRLayerShadow *'"
     ]
    }
   ],
   "source": []
  },
  {
   "cell_type": "code",
   "execution_count": null,
   "id": "df863bc4",
   "metadata": {},
   "outputs": [
    {
     "ename": "TypeError",
     "evalue": "in method 'Layer_GetFeatureCount', argument 1 of type 'OGRLayerShadow *'",
     "output_type": "error",
     "traceback": [
      "\u001b[0;31m---------------------------------------------------------------------------\u001b[0m",
      "\u001b[0;31mTypeError\u001b[0m                                 Traceback (most recent call last)",
      "Cell \u001b[0;32mIn[14], line 1\u001b[0m\n\u001b[0;32m----> 1\u001b[0m \u001b[43mlayer\u001b[49m\u001b[38;5;241;43m.\u001b[39;49m\u001b[43mGetFeatureCount\u001b[49m\u001b[43m(\u001b[49m\u001b[43m)\u001b[49m\n",
      "File \u001b[0;32m~/miniconda3/envs/points/lib/python3.9/site-packages/osgeo/ogr.py:1210\u001b[0m, in \u001b[0;36mLayer.GetFeatureCount\u001b[0;34m(self, *args, **kwargs)\u001b[0m\n\u001b[1;32m   1190\u001b[0m \u001b[38;5;28;01mdef\u001b[39;00m\u001b[38;5;250m \u001b[39m\u001b[38;5;21mGetFeatureCount\u001b[39m(\u001b[38;5;28mself\u001b[39m, \u001b[38;5;241m*\u001b[39margs, \u001b[38;5;241m*\u001b[39m\u001b[38;5;241m*\u001b[39mkwargs):\n\u001b[1;32m   1191\u001b[0m \u001b[38;5;250m    \u001b[39m\u001b[38;5;124mr\u001b[39m\u001b[38;5;124;03m\"\"\"\u001b[39;00m\n\u001b[1;32m   1192\u001b[0m \u001b[38;5;124;03m    GetFeatureCount(Layer self, int force=1) -> GIntBig\u001b[39;00m\n\u001b[1;32m   1193\u001b[0m \n\u001b[0;32m   (...)\u001b[0m\n\u001b[1;32m   1208\u001b[0m \n\u001b[1;32m   1209\u001b[0m \u001b[38;5;124;03m    \"\"\"\u001b[39;00m\n\u001b[0;32m-> 1210\u001b[0m     \u001b[38;5;28;01mreturn\u001b[39;00m \u001b[43m_ogr\u001b[49m\u001b[38;5;241;43m.\u001b[39;49m\u001b[43mLayer_GetFeatureCount\u001b[49m\u001b[43m(\u001b[49m\u001b[38;5;28;43mself\u001b[39;49m\u001b[43m,\u001b[49m\u001b[43m \u001b[49m\u001b[38;5;241;43m*\u001b[39;49m\u001b[43margs\u001b[49m\u001b[43m,\u001b[49m\u001b[43m \u001b[49m\u001b[38;5;241;43m*\u001b[39;49m\u001b[38;5;241;43m*\u001b[39;49m\u001b[43mkwargs\u001b[49m\u001b[43m)\u001b[49m\n",
      "\u001b[0;31mTypeError\u001b[0m: in method 'Layer_GetFeatureCount', argument 1 of type 'OGRLayerShadow *'"
     ]
    }
   ],
   "source": []
  },
  {
   "cell_type": "code",
   "execution_count": null,
   "id": "47bcbe5a",
   "metadata": {},
   "outputs": [],
   "source": [
    "geom = ogr.Geometry(ogr.wkbLineString25D)"
   ]
  },
  {
   "cell_type": "code",
   "execution_count": null,
   "id": "1ef1bd41",
   "metadata": {},
   "outputs": [
    {
     "data": {
      "text/plain": [
       "<osgeo.ogr.Geometry; proxy of <Swig Object of type 'OGRGeometryShadow *' at 0x7fc4db40fdb0> >"
      ]
     },
     "execution_count": 4,
     "metadata": {},
     "output_type": "execute_result"
    }
   ],
   "source": [
    "geom  "
   ]
  },
  {
   "cell_type": "code",
   "execution_count": null,
   "id": "4373c035",
   "metadata": {},
   "outputs": [
    {
     "data": {
      "text/plain": [
       "array([[10., 10.,  0.],\n",
       "       [20., 20.,  0.],\n",
       "       [30., 30.,  0.],\n",
       "       [40., 40.,  0.]])"
      ]
     },
     "execution_count": 13,
     "metadata": {},
     "output_type": "execute_result"
    }
   ],
   "source": [
    "foo = np.array(\n",
    "    [\n",
    "        [10.0, 10.0, 0.0],\n",
    "        [20.0, 20.0, 0.0],\n",
    "        [30.0, 30.0, 0.0],\n",
    "        [40.0, 40.0, 0.0]\n",
    "    ]\n",
    ")\n",
    "\n",
    "foo"
   ]
  },
  {
   "cell_type": "code",
   "execution_count": null,
   "id": "8c948850",
   "metadata": {},
   "outputs": [],
   "source": [
    "this_point = foo[:-1]\n",
    "next_point = np.roll(foo, -1, axis=0)[:-1]"
   ]
  },
  {
   "cell_type": "code",
   "execution_count": null,
   "id": "d637dc9f",
   "metadata": {},
   "outputs": [
    {
     "data": {
      "text/plain": [
       "array([ 0.        , 14.14213562, 28.28427125, 42.42640687])"
      ]
     },
     "execution_count": 14,
     "metadata": {},
     "output_type": "execute_result"
    }
   ],
   "source": [
    "np.linalg.norm(foo - foo[0], axis=1)"
   ]
  },
  {
   "cell_type": "code",
   "execution_count": null,
   "id": "6f4a316b",
   "metadata": {},
   "outputs": [],
   "source": []
  }
 ],
 "metadata": {
  "kernelspec": {
   "display_name": "points",
   "language": "python",
   "name": "points"
  },
  "language_info": {
   "codemirror_mode": {
    "name": "ipython",
    "version": 3
   },
   "file_extension": ".py",
   "mimetype": "text/x-python",
   "name": "python",
   "nbconvert_exporter": "python",
   "pygments_lexer": "ipython3",
   "version": "3.9.21"
  }
 },
 "nbformat": 4,
 "nbformat_minor": 5
}
