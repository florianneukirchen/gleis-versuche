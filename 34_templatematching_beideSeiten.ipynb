{
 "cells": [
  {
   "cell_type": "markdown",
   "metadata": {},
   "source": [
    "# Templatematching beide Seiten\n",
    "\n",
    "https://www.open3d.org/html/tutorial/pipelines/icp_registration.html\n",
    "\n",
    "- point to plain ist meist etwas langsamer, müssen erst normals berechnet werden\n",
    "- threshold 0.02 funktioniert zumindest bei Punkten oben (0.2 nicht)\n",
    "- zentrum des Clusterpaars ist nicht geeignet: bei Lücke ist es sehr stark verschoben\n",
    "- translation init_transform\n",
    "    - Wenn Punkte oben auf der Schiene, dann z am besten im Zentrum; mit translation nach oben funktioniert es nicht mehr gut\n",
    "    - Wenn Punkte auf Seite, dann umgekehrt: translation nach oben führt zu OK match, ansonsten matcht es meist an der falschen Stelle\n",
    "    - trotzdem nur halbwegs gut\n",
    "        - z.B. matcht die Innenseite des Stegs gegen die eigentliche Außenseite und am Kopf entsprechend verrutscht\n",
    "    - transform mit max z funktioniert bei \"PunkteOben\" nicht richtig, template landet viel zu hoch!?\n",
    "- Braucht zwischen 0.1 und 0.5 s\n",
    "    - Das wäre mehr als eine Minute pro Datei (0.4 * 200 = 80) STIMMT NICHT, nicht 200 Paare\n",
    "    - Mein System braucht (incl. Clustering und PCA) knapp unter 0.01 s pro Punkt, das wären 2s bei 200 Punkten"
   ]
  },
  {
   "cell_type": "code",
   "execution_count": 1,
   "metadata": {},
   "outputs": [
    {
     "name": "stdout",
     "output_type": "stream",
     "text": [
      "Jupyter environment detected. Enabling Open3D WebVisualizer.\n",
      "[Open3D INFO] WebRTC GUI backend enabled.\n",
      "[Open3D INFO] WebRTCWindowSystem: HTTP handshake server disabled.\n"
     ]
    }
   ],
   "source": [
    "import pdal \n",
    "import numpy as np\n",
    "import matplotlib.pyplot as plt\n",
    "from scipy.spatial import KDTree\n",
    "from scipy.linalg import svd \n",
    "from osgeo import ogr\n",
    "import pyvista as pv\n",
    "import os\n",
    "import json\n",
    "import time \n",
    "import matplotlib.pyplot as plt\n",
    "import copy\n",
    "\n",
    "import open3d as o3d\n",
    "from interessant import * # Bei Änderungen Kernel neu starten\n",
    "\n",
    "\n",
    "ogr.UseExceptions()"
   ]
  },
  {
   "cell_type": "code",
   "execution_count": 2,
   "metadata": {},
   "outputs": [],
   "source": [
    "gauge = 1.435\n",
    "railhead_width = 0.067"
   ]
  },
  {
   "cell_type": "code",
   "execution_count": 3,
   "metadata": {},
   "outputs": [],
   "source": [
    "def pca(cloud):\n",
    "    \"\"\"Use PCA to get einvalues and eigenvectors of a point cloud\n",
    "    \n",
    "    Returns (eigenvalues, eigenvectors)\n",
    "    \"\"\"\n",
    "    if cloud.shape[0] < 3:\n",
    "        raise ValueError(\"Point cloud must have at least 3 points\")\n",
    "    mean = np.mean(cloud, axis=0)\n",
    "    centered = cloud - mean\n",
    "    U, S, Vt = svd(centered, full_matrices=False)\n",
    "    eigenvals = S**2/(cloud.shape[0]-1)\n",
    "    # Returned vectors are in columns, first vector is eigenvec[:, 0] == eigenvec.T[0]\n",
    "    return eigenvals, Vt.T"
   ]
  },
  {
   "cell_type": "code",
   "execution_count": 4,
   "metadata": {},
   "outputs": [],
   "source": [
    "def get_central_point(a, b):\n",
    "    \"\"\"Get the point in the middle of two points\"\"\"\n",
    "    vector = b - a\n",
    "    return a + vector / 2"
   ]
  },
  {
   "cell_type": "code",
   "execution_count": 5,
   "metadata": {},
   "outputs": [],
   "source": [
    "def plot_cluster(cluster, eigenvects=None): \n",
    "    center = cluster.mean(axis=0)\n",
    "    centered = cluster - center\n",
    "\n",
    "    if eigenvects is None:\n",
    "        eigenvals, eigenvects = pca(cluster)\n",
    "\n",
    "    transformed = centered @ eigenvects\n",
    "    fig, ax = plt.subplots(figsize=(10, 15))\n",
    "    ax.scatter(transformed[:,0], transformed[:,2], c=transformed[:,1], cmap=plt.cm.plasma, marker=\".\")\n",
    "    ax.set_aspect(\"equal\")\n",
    "    plt.show()\n",
    "    return fig, ax\n",
    "    "
   ]
  },
  {
   "cell_type": "code",
   "execution_count": 6,
   "metadata": {},
   "outputs": [],
   "source": [
    "def plot_cluster_pair(cluster, cluster_other, transformmatrix, percentile=95, railhead_width = 0.067, centering=\"cluster\"): \n",
    "    \"\"\"Plot pair of clusters in the PCA coordinate system of the pair \n",
    "    \n",
    "    Args:\n",
    "        cluster (np.array): Cluster of points\n",
    "        cluster_other (np.array): Other cluster of points\n",
    "        eigenvects (np.array): Eigenvectors of the PCA of the pair of clusters\n",
    "        percentile (int): Percentile of the height for the horizontal line\n",
    "        railhead_width (float): Width of the railhead (0.067 or 0.072)\n",
    "        centering (str): \"cluster\" or \"pair\"\n",
    "    \"\"\"\n",
    "    center = (cluster.sum(axis=0) + cluster_other.sum(axis=0)) / (cluster.shape[0] + cluster_other.shape[0])\n",
    "    center_cluster = cluster.mean(axis=0)\n",
    "    center_other = cluster_other.mean(axis=0)\n",
    "\n",
    "    if centering == \"cluster\":\n",
    "        cluster = cluster - center_cluster\n",
    "        cluster_other = cluster_other - center_other\n",
    "    else:\n",
    "        cluster = cluster - center\n",
    "        cluster_other = cluster_other - center\n",
    "\n",
    "    transformed = cluster @ transformmatrix\n",
    "    transformed_other = cluster_other @ transformmatrix\n",
    "    #print(\"center\", center)\n",
    "    #print(center_cluster - center, center_other - center)\n",
    "    #print((center_cluster - center) @ transformmatrix, (center_other - center) @ transformmatrix)\n",
    "\n",
    "\n",
    "    # Check if we need to switch the left, right cluster\n",
    "    center_cluster_in_pc = (center_cluster - center) @ transformmatrix\n",
    "    center_other_in_pc = (center_other - center) @ transformmatrix\n",
    "    if center_cluster_in_pc[0] > center_other_in_pc[0]:\n",
    "        transformed, transformed_other = transformed_other, transformed\n",
    "        #print(\"Switched clusters\")\n",
    "\n",
    "    fig, ax = plt.subplots(1,2, figsize=(15, 7))\n",
    "\n",
    "    if centering == \"cluster\":\n",
    "        ax[0].set_ylim(-0.08, 0.06)\n",
    "        ax[1].set_ylim(-0.08, 0.06)\n",
    "    else:\n",
    "        ax[0].set_xlim(-0.85, -0.65)\n",
    "        ax[0].set_ylim(-0.08, 0.06)\n",
    "        ax[1].set_xlim(0.65, 0.85)\n",
    "        ax[1].set_ylim(-0.08, 0.06)\n",
    "        ax[0].axvline(-gauge/2, color=\"lightgrey\", linestyle=\"-\", zorder=-1)\n",
    "        ax[0].axvline(-gauge/2 - railhead_width, color=\"lightgrey\", linestyle=\"-\", zorder=-1)\n",
    "        ax[1].axvline(gauge/2, color=\"lightgrey\", linestyle=\"-\", zorder=-1)\n",
    "        ax[1].axvline(gauge/2 + railhead_width, color=\"lightgrey\", linestyle=\"-\", zorder=-1)\n",
    "\n",
    "    ax[0].scatter(transformed[:,0], transformed[:,2], c=transformed[:,1], cmap=plt.cm.plasma, marker=\".\")\n",
    "    ax[0].set_aspect(\"equal\")\n",
    "\n",
    "    x_mean = transformed[:,0].mean()\n",
    "    ax[0].axvline(x_mean, color=\"forestgreen\", linestyle=\"--\", zorder=-1)\n",
    "    ax[0].axvline(x_mean - (railhead_width/2), color=\"lightgreen\", linestyle=\"--\", zorder=-1)\n",
    "    ax[0].axvline(x_mean + (railhead_width/2), color=\"lightgreen\", linestyle=\"--\", zorder=-1)\n",
    "    ax[0].axhline(np.percentile(transformed[:,2], percentile), color=\"forestgreen\", linestyle=\"--\", zorder=-1)\n",
    "    ax[0].axhline(transformed[:,2].mean(), color=\"forestgreen\", linestyle=\"--\", zorder=-1)\n",
    "\n",
    "    ax[1].scatter(transformed_other[:,0], transformed_other[:,2], c=transformed_other[:,1], cmap=plt.cm.plasma, marker=\".\")\n",
    "    ax[1].set_aspect(\"equal\")\n",
    "\n",
    "    x_mean = transformed_other[:,0].mean()\n",
    "    ax[1].axvline(x_mean, color=\"forestgreen\", linestyle=\"--\", zorder=-1)\n",
    "    ax[1].axvline(x_mean - (railhead_width/2), color=\"lightgreen\", linestyle=\"--\", zorder=-1)\n",
    "    ax[1].axvline(x_mean + (railhead_width/2), color=\"lightgreen\", linestyle=\"--\", zorder=-1)\n",
    "    ax[1].axhline(np.percentile(transformed_other[:,2], percentile), color=\"forestgreen\", linestyle=\"--\", zorder=-1)\n",
    "    ax[1].axhline(transformed_other[:,2].mean(), color=\"forestgreen\", linestyle=\"--\", zorder=-1)\n",
    "\n",
    "    plt.show()\n",
    "    return fig, ax, transformed, transformed_other\n",
    "\n",
    "\n"
   ]
  },
  {
   "cell_type": "code",
   "execution_count": 7,
   "metadata": {},
   "outputs": [],
   "source": [
    "def get_transformmatrix(cluster, cluster_other, clustercenter, clustercenter_other, eigenvects):\n",
    "    # Use the top part of the rail clusters to circumvent the problem different point distributions\n",
    "    top = cluster[:,2].max()\n",
    "    top_other = cluster_other[:,2].max()\n",
    "    topcenter = np.array([clustercenter[0], clustercenter[1], top])\n",
    "    topcenter_other = np.array([clustercenter_other[0], clustercenter_other[1], top_other])\n",
    "    sidevector = topcenter - topcenter_other\n",
    "    # Project on the plane perpendicular to the first eigenvector\n",
    "    # (eigenvects are normalized)\n",
    "    projection_on_first_eig = (sidevector @ eigenvects.T[0]) * eigenvects.T[0]\n",
    "    sidevector_perpendicular = sidevector - projection_on_first_eig\n",
    "    sidevector_perpendicular = sidevector_perpendicular / np.linalg.norm(sidevector_perpendicular)\n",
    "    normal = np.cross(sidevector_perpendicular, eigenvects.T[0]) \n",
    "\n",
    "    matrix = np.array([sidevector_perpendicular, eigenvects.T[0], normal]).T\n",
    "\n",
    "    if normal[2] < 0:\n",
    "        # print(\"Upside down\")\n",
    "        Rx_180 = np.array([\n",
    "            [1,  0,  0],\n",
    "            [0, -1,  0],\n",
    "            [0,  0, -1]\n",
    "        ])\n",
    "        # Data in row vector, this is first the main rotation, than the rotation around the y axis\n",
    "        matrix = matrix @ Rx_180 \n",
    "\n",
    "    return matrix"
   ]
  },
  {
   "cell_type": "code",
   "execution_count": 8,
   "metadata": {},
   "outputs": [],
   "source": [
    "def draw_registration_result(source, target, transformation):\n",
    "    axes = axes = o3d.geometry.TriangleMesh().create_coordinate_frame(size=0.1)\n",
    "    source_temp = copy.deepcopy(source)\n",
    "    target_temp = copy.deepcopy(target)\n",
    "    source_temp.paint_uniform_color([1, 0.706, 0])\n",
    "    target_temp.paint_uniform_color([0, 0.651, 0.929])\n",
    "    source_temp.transform(transformation)\n",
    "    o3d.visualization.draw_geometries([source_temp, target_temp, axes])\n"
   ]
  },
  {
   "cell_type": "code",
   "execution_count": 9,
   "metadata": {},
   "outputs": [],
   "source": [
    "def load_clusters(preset):\n",
    "    fileleft = f\"clusterbeispiele/{preset}_l.ply\"\n",
    "    fileright = f\"clusterbeispiele/{preset}_r.ply\"\n",
    "    filepair = f\"clusterbeispiele/{preset}_pair.ply\"\n",
    "    if not os.path.exists(fileleft):\n",
    "        raise FileNotFoundError(f\"File {fileleft} not found\")\n",
    "    cluster = o3d.io.read_point_cloud(fileleft)\n",
    "    cluster_other = o3d.io.read_point_cloud(fileright)\n",
    "    cluster_pair = o3d.io.read_point_cloud(filepair)\n",
    "    return np.asarray(cluster.points) , np.asarray(cluster_other.points), np.asarray(cluster_pair.points)"
   ]
  },
  {
   "cell_type": "code",
   "execution_count": 10,
   "metadata": {},
   "outputs": [],
   "source": [
    "def get_o3d_transform(eigenvects, translation=None):\n",
    "    \"\"\"Create an open3d 4x4 transformation matrix from eigenvectors\n",
    "    \n",
    "    Version für 2 Schienen\n",
    "    \"\"\"\n",
    "    eigenvects = eigenvects.copy()\n",
    "\n",
    "    # Check if the last eigenvector is pointing down\n",
    "    if eigenvects[2,2] < 0: # z of last eigenvector is negative\n",
    "        print(\"o3d trans was Upside down\")\n",
    "        # reflect\n",
    "        eigenvects[:,2] *= -1 # reflection \n",
    "\n",
    "    # There is a 50% chance that det(eigenvects) is close to -1\n",
    "    # (then the matrix includes a reflection)\n",
    "    if np.linalg.det(eigenvects) < 0:\n",
    "        # flip the first eigenvector\n",
    "        eigenvects[:,0] *= -1\n",
    "\n",
    "\n",
    "    transform = np.eye(4)\n",
    "    transform[0:3, 0:3] = eigenvects\n",
    "\n",
    "    if translation is not None:\n",
    "        transform[:3, 3] = translation\n",
    "    return transform"
   ]
  },
  {
   "cell_type": "code",
   "execution_count": 11,
   "metadata": {},
   "outputs": [],
   "source": [
    "templatefiles = [\n",
    "    \"T_profil_ähnlich_54E4.ply\", \n",
    "    \"T_profil_ähnlich_54E4_schräg_random2.ply\",\n",
    "    \"T_profil_ähnlich_54E4_schräg_random_wenig_punkte.ply\"\n",
    "    ]"
   ]
  },
  {
   "cell_type": "code",
   "execution_count": 12,
   "metadata": {},
   "outputs": [],
   "source": [
    "def get_template(filename):\n",
    "    shift = (gauge + railhead_width) / 2\n",
    "    pcd = o3d.io.read_point_cloud(os.path.join(\"templates\", filename))\n",
    "    left = np.asarray(pcd.points)\n",
    "    right = left.copy()\n",
    "    left[:,0] -= shift\n",
    "    right[:,0] += shift\n",
    "\n",
    "    pcd = o3d.geometry.PointCloud()\n",
    "    pcd.points = o3d.utility.Vector3dVector(np.vstack((left, right)))\n",
    "    return pcd"
   ]
  },
  {
   "cell_type": "code",
   "execution_count": 13,
   "metadata": {},
   "outputs": [
    {
     "data": {
      "text/plain": [
       "0.047"
      ]
     },
     "execution_count": 13,
     "metadata": {},
     "output_type": "execute_result"
    }
   ],
   "source": [
    "4.7e-2"
   ]
  },
  {
   "cell_type": "code",
   "execution_count": 14,
   "metadata": {},
   "outputs": [],
   "source": [
    "threshold = 0.02 #05\n"
   ]
  },
  {
   "cell_type": "code",
   "execution_count": 15,
   "metadata": {},
   "outputs": [],
   "source": [
    "preset = \"PunkteSeiteVieleAusreisser\"\n",
    "preset = \"ObenundSeite\" # In Wirklichkeit nur oben\n",
    "preset = \"ObenNull1\"\n",
    "preset = \"PunkteSeite\"\n",
    "preset = \"VieleLückeMitte\"\n",
    "preset = \"VieleGleiseEherTop\" # Übergang\n",
    "preset = \"VieleSchürhaken\"\n",
    "preset = \"VieleZ\" # Fast nur auf Seite, schrott\n",
    "\n",
    "\n",
    "translations = [None, np.array([0, 0, 0.03])]"
   ]
  },
  {
   "cell_type": "code",
   "execution_count": 39,
   "metadata": {},
   "outputs": [
    {
     "data": {
      "image/png": "[encoded data removed]",
      "text/plain": [
       "<Figure size 1500x700 with 2 Axes>"
      ]
     },
     "metadata": {},
     "output_type": "display_data"
    },
    {
     "name": "stdout",
     "output_type": "stream",
     "text": [
      "T_profil_ähnlich_54E4.ply\n"
     ]
    }
   ],
   "source": [
    "preset = \"ObenNull\"\n",
    "templatenr = 0\n",
    "translation = translations[1]\n",
    "\n",
    "templatefile = templatefiles[templatenr]\n",
    "\n",
    "cluster_this, cluster_other, cluster_pair = load_clusters(preset)\n",
    "_, eigenvects = pca(cluster_this)\n",
    "plottransform = get_transformmatrix(cluster_this, cluster_other, cluster_this.mean(axis=0), cluster_other.mean(axis=0), eigenvects)\n",
    "plot_cluster_pair(cluster_this, cluster_other, plottransform, percentile=95, railhead_width = 0.067, centering=\"cluster\");\n",
    "print(templatefile)"
   ]
  },
  {
   "cell_type": "code",
   "execution_count": 40,
   "metadata": {},
   "outputs": [
    {
     "name": "stdout",
     "output_type": "stream",
     "text": [
      "Translation [0.   0.   0.03]\n",
      "o3d trans was Upside down\n",
      "Evaluate initial alignment\n",
      "RegistrationResult with fitness=2.192763e-01, inlier_rmse=1.381130e-02, and correspondence_set size of 3333\n",
      "Access transformation to get result.\n"
     ]
    }
   ],
   "source": [
    "_, eigenvects = pca(cluster_pair)\n",
    "\n",
    "# center = cluster_pair.mean(axis=0) # Funktioniert nicht bei Lücke \n",
    "center = get_central_point(cluster_this.mean(axis=0), cluster_other.mean(axis=0))\n",
    "centered = cluster_pair - center\n",
    "\n",
    "centered_pcd = o3d.geometry.PointCloud()\n",
    "centered_pcd.points = o3d.utility.Vector3dVector(centered)\n",
    "\n",
    "print(\"Translation\", translation)\n",
    "trans_init = get_o3d_transform(eigenvects, translation)\n",
    "\n",
    "target = centered_pcd\n",
    "source = get_template(templatefile)\n",
    "\n",
    "print(\"Evaluate initial alignment\")\n",
    "evaluation = o3d.pipelines.registration.evaluate_registration(\n",
    "    source, target, threshold, trans_init)\n",
    "print(evaluation)\n",
    "\n",
    "if translation is None:\n",
    "    tr_string = \"None\"\n",
    "else:\n",
    "    tr_string = str(translation[2])\n",
    "\n",
    "draw_registration_result(source, target, trans_init)"
   ]
  },
  {
   "cell_type": "code",
   "execution_count": 41,
   "metadata": {},
   "outputs": [
    {
     "data": {
      "text/plain": [
       "array([[-9.66206143e-01,  2.57759720e-01,  2.36988601e-03],\n",
       "       [-2.57761717e-01, -9.66208345e-01, -5.74811173e-04],\n",
       "       [-2.14164047e-03,  1.16625197e-03, -9.99997027e-01]])"
      ]
     },
     "execution_count": 41,
     "metadata": {},
     "output_type": "execute_result"
    }
   ],
   "source": [
    "eigenvects  "
   ]
  },
  {
   "cell_type": "code",
   "execution_count": 42,
   "metadata": {},
   "outputs": [
    {
     "data": {
      "text/plain": [
       "array([[-9.66206143e-01,  2.57759720e-01, -2.36988601e-03,\n",
       "         0.00000000e+00],\n",
       "       [-2.57761717e-01, -9.66208345e-01,  5.74811173e-04,\n",
       "         0.00000000e+00],\n",
       "       [-2.14164047e-03,  1.16625197e-03,  9.99997027e-01,\n",
       "         3.00000000e-02],\n",
       "       [ 0.00000000e+00,  0.00000000e+00,  0.00000000e+00,\n",
       "         1.00000000e+00]])"
      ]
     },
     "execution_count": 42,
     "metadata": {},
     "output_type": "execute_result"
    }
   ],
   "source": [
    "trans_init   "
   ]
  },
  {
   "cell_type": "markdown",
   "metadata": {},
   "source": [
    "### Point to Point ICP"
   ]
  },
  {
   "cell_type": "code",
   "execution_count": 43,
   "metadata": {},
   "outputs": [
    {
     "data": {
      "text/plain": [
       "0.02"
      ]
     },
     "execution_count": 43,
     "metadata": {},
     "output_type": "execute_result"
    }
   ],
   "source": [
    "threshold  "
   ]
  },
  {
   "cell_type": "code",
   "execution_count": 44,
   "metadata": {},
   "outputs": [
    {
     "name": "stdout",
     "output_type": "stream",
     "text": [
      "Apply point-to-point ICP\n"
     ]
    },
    {
     "name": "stdout",
     "output_type": "stream",
     "text": [
      "RegistrationResult with fitness=3.651316e-01, inlier_rmse=1.198631e-02, and correspondence_set size of 5550\n",
      "Access transformation to get result.\n",
      "Transformation is:\n",
      "[[-9.66487945e-01  2.56703202e-01 -2.12541267e-03  9.18008103e-04]\n",
      " [-2.56705369e-01 -9.66489364e-01  8.13782986e-04 -2.68338528e-04]\n",
      " [-1.84528804e-03  1.33211629e-03  9.99997410e-01  7.06898454e-03]\n",
      " [ 0.00000000e+00  0.00000000e+00  0.00000000e+00  1.00000000e+00]]\n",
      "Time: 0.44870734214782715\n",
      "ObenNull_t0_zTransf0.03_point\n"
     ]
    }
   ],
   "source": [
    "start = time.time()\n",
    "print(\"Apply point-to-point ICP\")\n",
    "reg_p2p = o3d.pipelines.registration.registration_icp(\n",
    "    source, target, threshold, trans_init,\n",
    "    o3d.pipelines.registration.TransformationEstimationPointToPoint())\n",
    "print(reg_p2p)\n",
    "print(\"Transformation is:\")\n",
    "print(reg_p2p.transformation)\n",
    "print(\"Time:\", time.time() - start)\n",
    "\n",
    "print(f\"{preset}_t{templatenr}_zTransf{tr_string}_point\")\n",
    "\n",
    "draw_registration_result(source, target, reg_p2p.transformation)"
   ]
  },
  {
   "cell_type": "markdown",
   "metadata": {},
   "source": [
    "### Point to Plane ICP"
   ]
  },
  {
   "cell_type": "code",
   "execution_count": 45,
   "metadata": {},
   "outputs": [
    {
     "name": "stdout",
     "output_type": "stream",
     "text": [
      "Apply point-to-plane ICP\n",
      "nn distance 0.006414877053516488\n",
      "RegistrationResult with fitness=3.573684e-01, inlier_rmse=1.197731e-02, and correspondence_set size of 5432\n",
      "Access transformation to get result.\n",
      "Transformation is:\n",
      "[[-9.62054048e-01  2.72846505e-01 -2.60633334e-03  1.62524109e-03]\n",
      " [-2.72847050e-01 -9.62057412e-01 -1.51105647e-04 -4.06561578e-03]\n",
      " [-2.54867096e-03  5.65758564e-04  9.99996592e-01  5.39277675e-03]\n",
      " [ 0.00000000e+00  0.00000000e+00  0.00000000e+00  1.00000000e+00]]\n",
      "Time: 0.5328793525695801\n",
      "ObenNull_t0_0.03_plane\n"
     ]
    }
   ],
   "source": [
    "start = time.time()\n",
    "print(\"Apply point-to-plane ICP\")\n",
    "\n",
    "# Point-to-plane ICP requires normals for the target\n",
    "nn_distance = np.mean(target.compute_nearest_neighbor_distance())  \n",
    "print(\"nn distance\", nn_distance)  \n",
    "  \n",
    "#setting the radius search to compute normals  \n",
    "radius_normals=nn_distance*4  \n",
    "target.estimate_normals(search_param=o3d.geometry.KDTreeSearchParamHybrid(radius=radius_normals, max_nn=16), fast_normal_computation=True)  \n",
    "\n",
    "reg_p2l = o3d.pipelines.registration.registration_icp(\n",
    "    source, target, threshold, trans_init,\n",
    "    o3d.pipelines.registration.TransformationEstimationPointToPlane())\n",
    "print(reg_p2l)\n",
    "print(\"Transformation is:\")\n",
    "print(reg_p2l.transformation)\n",
    "print(\"Time:\", time.time() - start)\n",
    "print(f\"{preset}_t{templatenr}_{tr_string}_plane\")\n",
    "draw_registration_result(source, target, reg_p2l.transformation)"
   ]
  },
  {
   "cell_type": "markdown",
   "metadata": {},
   "source": [
    "## Point to Plane, target source vertauscht"
   ]
  },
  {
   "cell_type": "code",
   "execution_count": 46,
   "metadata": {},
   "outputs": [
    {
     "data": {
      "text/plain": [
       "array([[-9.66206143e-01,  2.57759720e-01,  2.36988601e-03],\n",
       "       [-2.57761717e-01, -9.66208345e-01, -5.74811173e-04],\n",
       "       [-2.14164047e-03,  1.16625197e-03, -9.99997027e-01]])"
      ]
     },
     "execution_count": 46,
     "metadata": {},
     "output_type": "execute_result"
    }
   ],
   "source": [
    "eigenvects"
   ]
  },
  {
   "cell_type": "code",
   "execution_count": 47,
   "metadata": {},
   "outputs": [
    {
     "name": "stdout",
     "output_type": "stream",
     "text": [
      "o3d trans was Upside down\n",
      "Evaluate initial alignment\n",
      "RegistrationResult with fitness=3.797814e-01, inlier_rmse=1.250666e-02, and correspondence_set size of 417\n",
      "Access transformation to get result.\n"
     ]
    }
   ],
   "source": [
    "source = centered_pcd\n",
    "target = get_template(templatefile)\n",
    "translation2 = translation\n",
    "if translation2 is not None:\n",
    "    translation2 = -translation2\n",
    "trans_init2 = get_o3d_transform(eigenvects.T, translation2)\n",
    "\n",
    "print(\"Evaluate initial alignment\")\n",
    "evaluation = o3d.pipelines.registration.evaluate_registration(\n",
    "    source, target, threshold, trans_init2)\n",
    "print(evaluation)\n",
    "\n",
    "target.estimate_normals(search_param=o3d.geometry.KDTreeSearchParamHybrid(radius=radius_normals, max_nn=16), fast_normal_computation=True)  \n",
    "draw_registration_result(source, target, trans_init2)"
   ]
  },
  {
   "cell_type": "code",
   "execution_count": 48,
   "metadata": {},
   "outputs": [
    {
     "name": "stdout",
     "output_type": "stream",
     "text": [
      "Apply point-to-plane ICP, Source = Cluster, Target = Template\n",
      "nn distance 0.0049999999999999975\n",
      "RegistrationResult with fitness=0.000000e+00, inlier_rmse=0.000000e+00, and correspondence_set size of 0\n",
      "Access transformation to get result.\n",
      "Transformation is:\n",
      "[[-9.66427709e-01 -2.56638952e-01 -1.24068978e-02  9.37801790e-05]\n",
      " [ 2.56687624e-01 -9.66491246e-01 -2.47706269e-03 -2.66246328e+08]\n",
      " [-1.13554473e-02 -5.57859914e-03  9.99919963e-01 -1.67819234e-03]\n",
      " [ 0.00000000e+00  0.00000000e+00  0.00000000e+00  1.00000000e+00]]\n",
      "Time: 0.11873960494995117\n",
      "ObenNull_t0_0.03_plane_vertauscht\n"
     ]
    }
   ],
   "source": [
    "start = time.time()\n",
    "print(\"Apply point-to-plane ICP, Source = Cluster, Target = Template\")\n",
    "\n",
    "# Point-to-plane ICP requires normals for the target\n",
    "nn_distance = np.mean(target.compute_nearest_neighbor_distance())  \n",
    "print(\"nn distance\", nn_distance)  \n",
    "  \n",
    "#setting the radius search to compute normals  \n",
    "radius_normals=nn_distance*4  \n",
    "target.estimate_normals(search_param=o3d.geometry.KDTreeSearchParamHybrid(radius=radius_normals, max_nn=16), fast_normal_computation=True)  \n",
    "\n",
    "\n",
    "# loss = o3d.pipelines.registration.HuberLoss(k=0.05)\n",
    "\n",
    "\n",
    "reg_p2l = o3d.pipelines.registration.registration_icp(\n",
    "    source, target, threshold, trans_init2,\n",
    "    o3d.pipelines.registration.TransformationEstimationPointToPlane(\n",
    "       # loss\n",
    "        ))\n",
    "print(reg_p2l)\n",
    "print(\"Transformation is:\")\n",
    "print(reg_p2l.transformation)\n",
    "print(\"Time:\", time.time() - start)\n",
    "print(f\"{preset}_t{templatenr}_{tr_string}_plane_vertauscht\")\n",
    "draw_registration_result(source, target, reg_p2l.transformation)"
   ]
  },
  {
   "cell_type": "markdown",
   "metadata": {},
   "source": [
    "Threshold 0.02\n",
    "\n",
    "\n",
    "Clusterpaar|Template|None Point|None Plain|0.03 Point|0.03 Plain|None PlaneV|0.03 PlaneV\n",
    "---|:---:|---:|---:|---:|---:|---:|---: \n",
    "ObenNull1|0|2|2|2|2|2|0\n",
    "ObenNull1|1|2|2|2|2|2|0\n",
    "ObenNull1|2|2|2|2|2|2|0\n",
    "ObenundSeite|0|2|2|2|2|2|0\n",
    "ObenundSeite|1|2|2|2|2|2|0\n",
    "ObenundSeite|2|2|2|2|2|2|0\n",
    "VieleGleiseEherTop|0|2|2|2|2|2|2\n",
    "VieleGleiseEherTop|1|2|2|2|2|2|0\n",
    "VieleGleiseEherTop|2|2|2|2|2|2|2\n",
    "PunkteSeiteVieleAusreisser|0|2|2|2|2|2|2\n",
    "PunkteSeiteVieleAusreisser|1|2|2|2|2|2|2\n",
    "PunkteSeiteVieleAusreisser|2|0|0|2|2|2|2\n",
    "PunkteSeite|0|2|0|2|2|2|2\n",
    "PunkteSeite|1|2|0|2|2|2|2\n",
    "PunkteSeite|3|0|0|2|2|2|2\n",
    "VieleSchürhaken|0|0|0|2|2|2|2\n",
    "VieleSchürhaken|1|0|0|2|2|2|2\n",
    "VieleSchürhaken|2|0|0|0|0|0|0\n",
    "VieleZ|0|0|0|2|0\n",
    "VieleZ|1|0|0|2|0\n",
    "VieleZ|0|0|0|2|2\n",
    "VieleLückeMitte|0|0|0|1|0|0|0\n",
    "VieleLückeMitte|1|0|0|0|0|0|0\n",
    "VieleLückeMitte|2|0|0|0|0|0|0\n",
    "\n",
    "\n",
    "Bei t1 plane vertauscht verrutscht"
   ]
  },
  {
   "cell_type": "markdown",
   "metadata": {},
   "source": [
    "- threshold: Wenn Abstand nächster Nachbar größer, dann Punkt = Outlier, ignorieren\n",
    "- init transform: wenn threshold zu klein, findet ICP die richtige Richtung nicht\n",
    "- Problem: Punkte sehr eng entlang Scanlinien, aber Scanlinien weit auseinander\n",
    "- RMSE wird nur auf den Inliern berechnet\n",
    "    - hängt von threshold und dem Abstand der Scanlinien ab!\n",
    "    - wenn Template = Source: Inlier = Alle Punkte im Template mit Abstand kleiner threshold, Löcher im Netz der Scanlinien\n",
    "    - rmse ist immer ungefähr in der Größenordnung wie der Abstand der Scanlinien\n",
    "    - daher wenig aussagekräftig\n",
    "- fitness = Anz. Inlier / Anz. Points in Target\n",
    "    - Wenn Target= Cluster, dann hängt das stark von Länge des Clusters ab\n",
    "- Idee: \n",
    "    - ICP mit Template als Source scheint besser zu funktionieren\n",
    "    - Aber RMSE und Fitness andersrum macht mehr Sinn und das kann anschließend gemacht werden:\n",
    "        - dann mit kleinem Threshold möglich\n",
    "        - jeder Punkt im Cluster sollte einen nahen Punkt im Template haben\n",
    "        - Dabei muss die inverse Transformationsmatrix an `o3d.pipelines.registration.evaluate_registration` übergeben werden  \n",
    "        - Allerdings ist fitness dann nicht aussagekräftig (Cluster kann viel länger als Template sein) "
   ]
  },
  {
   "cell_type": "code",
   "execution_count": null,
   "metadata": {},
   "outputs": [],
   "source": []
  },
  {
   "cell_type": "code",
   "execution_count": null,
   "metadata": {},
   "outputs": [],
   "source": []
  }
 ],
 "metadata": {
  "kernelspec": {
   "display_name": "points",
   "language": "python",
   "name": "points"
  },
  "language_info": {
   "codemirror_mode": {
    "name": "ipython",
    "version": 3
   },
   "file_extension": ".py",
   "mimetype": "text/x-python",
   "name": "python",
   "nbconvert_exporter": "python",
   "pygments_lexer": "ipython3",
   "version": "3.9.21"
  }
 },
 "nbformat": 4,
 "nbformat_minor": 2
}
